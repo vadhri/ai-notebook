{
 "cells": [
  {
   "cell_type": "code",
   "execution_count": 1,
   "metadata": {},
   "outputs": [],
   "source": [
    "!pip install -U --quiet langchain\n",
    "!pip install -U --quiet pypdf\n",
    "!pip install --upgrade --quiet  sentence_transformers > /dev/null\n",
    "!pip install -U --quiet chromadb"
   ]
  },
  {
   "cell_type": "code",
   "execution_count": 2,
   "metadata": {},
   "outputs": [
    {
     "name": "stderr",
     "output_type": "stream",
     "text": [
      "[nltk_data] Downloading package punkt to /Users/venkat/nltk_data...\n",
      "[nltk_data]   Package punkt is already up-to-date!\n"
     ]
    }
   ],
   "source": [
    "import nltk\n",
    "nltk.download('punkt')\n",
    "from langchain.document_loaders import PyPDFLoader\n",
    "from langchain.text_splitter import NLTKTextSplitter\n",
    "from langchain_community.embeddings import HuggingFaceEmbeddings\n",
    "from langchain.vectorstores import Chroma\n",
    "\n",
    "persist_directory = './vector_db/chroma/'\n",
    "!rm -rf ./vector_db/chroma  \n",
    "!set TOKENIZERS_PARALLELISM = true"
   ]
  },
  {
   "cell_type": "code",
   "execution_count": 3,
   "metadata": {},
   "outputs": [],
   "source": [
    "loader = PyPDFLoader(\"Machine_learning.pdf\")\n",
    "pages = loader.load()\n",
    "embeddings = HuggingFaceEmbeddings(model_name=\"all-MiniLM-L6-v2\")"
   ]
  },
  {
   "cell_type": "code",
   "execution_count": 4,
   "metadata": {},
   "outputs": [
    {
     "name": "stderr",
     "output_type": "stream",
     "text": [
      "Created a chunk of size 262, which is longer than the specified 200\n",
      "Created a chunk of size 234, which is longer than the specified 200\n",
      "Created a chunk of size 300, which is longer than the specified 200\n",
      "Created a chunk of size 201, which is longer than the specified 200\n",
      "Created a chunk of size 312, which is longer than the specified 200\n",
      "Created a chunk of size 251, which is longer than the specified 200\n",
      "Created a chunk of size 529, which is longer than the specified 200\n",
      "Created a chunk of size 203, which is longer than the specified 200\n",
      "Created a chunk of size 258, which is longer than the specified 200\n",
      "Created a chunk of size 244, which is longer than the specified 200\n",
      "Created a chunk of size 353, which is longer than the specified 200\n",
      "Created a chunk of size 440, which is longer than the specified 200\n",
      "Created a chunk of size 245, which is longer than the specified 200\n",
      "Created a chunk of size 289, which is longer than the specified 200\n",
      "Created a chunk of size 246, which is longer than the specified 200\n",
      "Created a chunk of size 237, which is longer than the specified 200\n",
      "Created a chunk of size 204, which is longer than the specified 200\n",
      "Created a chunk of size 222, which is longer than the specified 200\n",
      "Created a chunk of size 274, which is longer than the specified 200\n",
      "Created a chunk of size 223, which is longer than the specified 200\n",
      "Created a chunk of size 397, which is longer than the specified 200\n",
      "Created a chunk of size 232, which is longer than the specified 200\n",
      "Created a chunk of size 266, which is longer than the specified 200\n",
      "Created a chunk of size 348, which is longer than the specified 200\n",
      "Created a chunk of size 252, which is longer than the specified 200\n",
      "Created a chunk of size 255, which is longer than the specified 200\n",
      "Created a chunk of size 244, which is longer than the specified 200\n",
      "Created a chunk of size 421, which is longer than the specified 200\n",
      "Created a chunk of size 259, which is longer than the specified 200\n",
      "Created a chunk of size 266, which is longer than the specified 200\n",
      "Created a chunk of size 207, which is longer than the specified 200\n",
      "Created a chunk of size 205, which is longer than the specified 200\n",
      "Created a chunk of size 201, which is longer than the specified 200\n",
      "Created a chunk of size 214, which is longer than the specified 200\n",
      "Created a chunk of size 264, which is longer than the specified 200\n",
      "Created a chunk of size 209, which is longer than the specified 200\n",
      "Created a chunk of size 204, which is longer than the specified 200\n",
      "Created a chunk of size 252, which is longer than the specified 200\n",
      "Created a chunk of size 273, which is longer than the specified 200\n",
      "Created a chunk of size 227, which is longer than the specified 200\n",
      "Created a chunk of size 252, which is longer than the specified 200\n",
      "Created a chunk of size 207, which is longer than the specified 200\n",
      "Created a chunk of size 210, which is longer than the specified 200\n",
      "Created a chunk of size 202, which is longer than the specified 200\n",
      "Created a chunk of size 212, which is longer than the specified 200\n",
      "Created a chunk of size 242, which is longer than the specified 200\n",
      "Created a chunk of size 214, which is longer than the specified 200\n",
      "Created a chunk of size 317, which is longer than the specified 200\n",
      "Created a chunk of size 302, which is longer than the specified 200\n",
      "Created a chunk of size 282, which is longer than the specified 200\n",
      "Created a chunk of size 247, which is longer than the specified 200\n",
      "Created a chunk of size 273, which is longer than the specified 200\n",
      "Created a chunk of size 252, which is longer than the specified 200\n",
      "Created a chunk of size 219, which is longer than the specified 200\n",
      "Created a chunk of size 257, which is longer than the specified 200\n",
      "Created a chunk of size 902, which is longer than the specified 200\n",
      "Created a chunk of size 228, which is longer than the specified 200\n",
      "Created a chunk of size 216, which is longer than the specified 200\n",
      "Created a chunk of size 229, which is longer than the specified 200\n",
      "Created a chunk of size 225, which is longer than the specified 200\n",
      "Created a chunk of size 274, which is longer than the specified 200\n",
      "Created a chunk of size 534, which is longer than the specified 200\n",
      "Created a chunk of size 201, which is longer than the specified 200\n",
      "Created a chunk of size 375, which is longer than the specified 200\n",
      "Created a chunk of size 326, which is longer than the specified 200\n",
      "Created a chunk of size 244, which is longer than the specified 200\n",
      "Created a chunk of size 299, which is longer than the specified 200\n",
      "Created a chunk of size 240, which is longer than the specified 200\n",
      "Created a chunk of size 225, which is longer than the specified 200\n",
      "Created a chunk of size 307, which is longer than the specified 200\n",
      "Created a chunk of size 201, which is longer than the specified 200\n",
      "Created a chunk of size 250, which is longer than the specified 200\n",
      "Created a chunk of size 305, which is longer than the specified 200\n",
      "Created a chunk of size 224, which is longer than the specified 200\n",
      "Created a chunk of size 233, which is longer than the specified 200\n",
      "Created a chunk of size 208, which is longer than the specified 200\n",
      "Created a chunk of size 266, which is longer than the specified 200\n",
      "Created a chunk of size 249, which is longer than the specified 200\n",
      "Created a chunk of size 228, which is longer than the specified 200\n",
      "Created a chunk of size 342, which is longer than the specified 200\n",
      "Created a chunk of size 416, which is longer than the specified 200\n",
      "Created a chunk of size 241, which is longer than the specified 200\n",
      "Created a chunk of size 229, which is longer than the specified 200\n",
      "Created a chunk of size 214, which is longer than the specified 200\n",
      "Created a chunk of size 203, which is longer than the specified 200\n",
      "Created a chunk of size 284, which is longer than the specified 200\n",
      "Created a chunk of size 216, which is longer than the specified 200\n",
      "Created a chunk of size 356, which is longer than the specified 200\n",
      "Created a chunk of size 344, which is longer than the specified 200\n",
      "Created a chunk of size 331, which is longer than the specified 200\n",
      "Created a chunk of size 268, which is longer than the specified 200\n",
      "Created a chunk of size 205, which is longer than the specified 200\n",
      "Created a chunk of size 542, which is longer than the specified 200\n",
      "Created a chunk of size 201, which is longer than the specified 200\n",
      "Created a chunk of size 206, which is longer than the specified 200\n",
      "Created a chunk of size 225, which is longer than the specified 200\n",
      "Created a chunk of size 204, which is longer than the specified 200\n",
      "Created a chunk of size 271, which is longer than the specified 200\n",
      "Created a chunk of size 206, which is longer than the specified 200\n",
      "Created a chunk of size 229, which is longer than the specified 200\n",
      "Created a chunk of size 233, which is longer than the specified 200\n",
      "Created a chunk of size 225, which is longer than the specified 200\n",
      "Created a chunk of size 202, which is longer than the specified 200\n",
      "Created a chunk of size 226, which is longer than the specified 200\n",
      "Created a chunk of size 294, which is longer than the specified 200\n",
      "Created a chunk of size 219, which is longer than the specified 200\n",
      "Created a chunk of size 243, which is longer than the specified 200\n",
      "Created a chunk of size 241, which is longer than the specified 200\n",
      "Created a chunk of size 215, which is longer than the specified 200\n",
      "Created a chunk of size 243, which is longer than the specified 200\n",
      "Created a chunk of size 244, which is longer than the specified 200\n",
      "Created a chunk of size 243, which is longer than the specified 200\n",
      "Created a chunk of size 239, which is longer than the specified 200\n",
      "Created a chunk of size 307, which is longer than the specified 200\n",
      "Created a chunk of size 303, which is longer than the specified 200\n",
      "Created a chunk of size 241, which is longer than the specified 200\n",
      "Created a chunk of size 257, which is longer than the specified 200\n"
     ]
    }
   ],
   "source": [
    "text_splitter = NLTKTextSplitter(chunk_size=200)\n",
    "vectordb = Chroma.from_documents(\n",
    "    documents=text_splitter.split_documents(pages),\n",
    "    embedding=embeddings,\n",
    "    persist_directory=persist_directory\n",
    ")"
   ]
  },
  {
   "cell_type": "code",
   "execution_count": 11,
   "metadata": {},
   "outputs": [
    {
     "name": "stdout",
     "output_type": "stream",
     "text": [
      "\n",
      "Similarity search ( 3 results )\n",
      "-- \n",
      "page_content='Machine learning and statistics are closely related fields in terms of methods , but distinct in their principal\\ngoal: statistics draws popul ation inferences from a sample, while machine learning finds generalizable\\npredictive patterns.' metadata={'page': 2, 'source': 'Machine_learning.pdf'}\n",
      "page_content=\"Although  not all machine learning is statistically based, computational statistics is an\\nimportant source of the field's methods .\" metadata={'page': 0, 'source': 'Machine_learning.pdf'}\n",
      "page_content='Some statisticians have adopted methods  from machine learning, leading to a combined field that they call\\nstatistical learning.\\n\\n[31]Generalization\\nStatistics\\nStatistical Physics' metadata={'page': 2, 'source': 'Machine_learning.pdf'}\n",
      "\n",
      "Max Marginal relevance search ( 3 results )\n",
      "-- \n",
      "page_content='Machine learning and statistics are closely related fields in terms of methods , but distinct in their principal\\ngoal: statistics draws popul ation inferences from a sample, while machine learning finds generalizable\\npredictive patterns.' metadata={'page': 2, 'source': 'Machine_learning.pdf'}\n",
      "page_content=\"Although  not all machine learning is statistically based, computational statistics is an\\nimportant source of the field's methods .\" metadata={'page': 0, 'source': 'Machine_learning.pdf'}\n",
      "page_content='Some statisticians have adopted methods  from machine learning, leading to a combined field that they call\\nstatistical learning.\\n\\n[31]Generalization\\nStatistics\\nStatistical Physics' metadata={'page': 2, 'source': 'Machine_learning.pdf'}\n"
     ]
    }
   ],
   "source": [
    "vector = \"what is the link between computational statistics and machine learning?\"\n",
    "\n",
    "search_results = vectordb.similarity_search(vector, k=3)\n",
    "\n",
    "print(\"\\nSimilarity search (\", len(search_results) ,\"results )\\n-- \")\n",
    "\n",
    "for s in search_results:\n",
    "    print (s)\n",
    "\n",
    "search_results = vectordb.max_marginal_relevance_search(vector,k=3, fetch_k=3)\n",
    "\n",
    "print(\"\\nMax Marginal relevance search (\", len(search_results) ,\"results )\\n-- \")\n",
    "\n",
    "for s in search_results:\n",
    "    print (s)\n",
    "\n",
    "vectordb.persist()"
   ]
  },
  {
   "cell_type": "code",
   "execution_count": 12,
   "metadata": {},
   "outputs": [
    {
     "name": "stdout",
     "output_type": "stream",
     "text": [
      "No of results:  0\n"
     ]
    }
   ],
   "source": [
    "search_results = vectordb.similarity_search(vector, \n",
    "                                            k=3,\n",
    "                                            filter={\"source\": \"not_valid_source.pdf\"})\n",
    "\n",
    "print (\"No of results: \", len(search_results))"
   ]
  },
  {
   "cell_type": "code",
   "execution_count": null,
   "metadata": {},
   "outputs": [],
   "source": []
  }
 ],
 "metadata": {
  "kernelspec": {
   "display_name": "QCML",
   "language": "python",
   "name": "python3"
  },
  "language_info": {
   "codemirror_mode": {
    "name": "ipython",
    "version": 3
   },
   "file_extension": ".py",
   "mimetype": "text/x-python",
   "name": "python",
   "nbconvert_exporter": "python",
   "pygments_lexer": "ipython3",
   "version": "3.9.16"
  }
 },
 "nbformat": 4,
 "nbformat_minor": 2
}
