{
 "cells": [
  {
   "cell_type": "code",
   "execution_count": 11,
   "id": "c8b52ff1-561d-4c96-9a4f-f6873bef244e",
   "metadata": {
    "tags": []
   },
   "outputs": [
    {
     "data": {
      "text/plain": [
       "tensor([[ 1.1117, -1.1870],\n",
       "        [-0.4048, -0.3101],\n",
       "        [ 1.6475,  0.9239],\n",
       "        [-1.4163,  1.3245],\n",
       "        [-0.2045, -0.9434],\n",
       "        [-1.5406,  1.1350],\n",
       "        [ 1.4756,  1.0943],\n",
       "        [-0.0473, -2.3244]])"
      ]
     },
     "execution_count": 11,
     "metadata": {},
     "output_type": "execute_result"
    }
   ],
   "source": [
    "import torch\n",
    "\n",
    "batches, block_size, channels = 4,8,2\n",
    "\n",
    "x = torch.randn(batches, block_size, channels)\n",
    "x[0]\n"
   ]
  },
  {
   "cell_type": "markdown",
   "id": "a1a559a6-6799-4628-bb60-93aea648b779",
   "metadata": {},
   "source": [
    "The tokens should flow from the previous context to the future tokens. "
   ]
  },
  {
   "cell_type": "markdown",
   "id": "10e38569-de66-466a-99dc-dcb74ba43245",
   "metadata": {},
   "source": [
    "## Averaging\n",
    "All previous tokens up until token t will be averaged. There will be considerable information loss in this process. \n",
    "\n",
    "$ X_{b,t} = \\frac{1}{T} \\sum_{i=0}^T X_{b,i} $"
   ]
  },
  {
   "cell_type": "code",
   "execution_count": 24,
   "id": "4fdf8fe7-7c98-4bcf-b155-042808e34d11",
   "metadata": {
    "tags": []
   },
   "outputs": [
    {
     "data": {
      "text/plain": [
       "(tensor([[ 1.1117, -1.1870],\n",
       "         [ 0.3534, -0.7486],\n",
       "         [ 0.7848, -0.1911],\n",
       "         [ 0.2345,  0.1878],\n",
       "         [ 0.1467, -0.0384],\n",
       "         [-0.1345,  0.1571],\n",
       "         [ 0.0955,  0.2910],\n",
       "         [ 0.0776, -0.0359]]),\n",
       " tensor([[ 1.1117, -1.1870],\n",
       "         [-0.4048, -0.3101],\n",
       "         [ 1.6475,  0.9239],\n",
       "         [-1.4163,  1.3245],\n",
       "         [-0.2045, -0.9434],\n",
       "         [-1.5406,  1.1350],\n",
       "         [ 1.4756,  1.0943],\n",
       "         [-0.0473, -2.3244]]),\n",
       " -0.74855)"
      ]
     },
     "execution_count": 24,
     "metadata": {},
     "output_type": "execute_result"
    }
   ],
   "source": [
    "xbow = torch.zeros((batches,block_size,channels))\n",
    "for batch in range(batches):\n",
    "    for block in range(block_size):\n",
    "        xprev = x[batch,:block+1]\n",
    "        xbow[batch,block] = torch.mean(xprev,0)\n",
    "        \n",
    "xbow[0], x[0], (-1.1870-0.3101)/2"
   ]
  },
  {
   "cell_type": "markdown",
   "id": "0e2173a3-3204-4e20-a824-19366a4d62b0",
   "metadata": {},
   "source": [
    "In order to get the same result, we can use matrix multiplication using the lower triangle matrix and then calculating average for each rowxcol multiplication.\n",
    "\n",
    "### Torch method - tril"
   ]
  },
  {
   "cell_type": "code",
   "execution_count": 48,
   "id": "7af148d0-d462-41d7-83ee-2264228a64fa",
   "metadata": {
    "tags": []
   },
   "outputs": [
    {
     "name": "stdout",
     "output_type": "stream",
     "text": [
      "tensor([[1.0000, 0.0000, 0.0000, 0.0000, 0.0000, 0.0000, 0.0000, 0.0000],\n",
      "        [0.5000, 0.5000, 0.0000, 0.0000, 0.0000, 0.0000, 0.0000, 0.0000],\n",
      "        [0.3333, 0.3333, 0.3333, 0.0000, 0.0000, 0.0000, 0.0000, 0.0000],\n",
      "        [0.2500, 0.2500, 0.2500, 0.2500, 0.0000, 0.0000, 0.0000, 0.0000],\n",
      "        [0.2000, 0.2000, 0.2000, 0.2000, 0.2000, 0.0000, 0.0000, 0.0000],\n",
      "        [0.1667, 0.1667, 0.1667, 0.1667, 0.1667, 0.1667, 0.0000, 0.0000],\n",
      "        [0.1429, 0.1429, 0.1429, 0.1429, 0.1429, 0.1429, 0.1429, 0.0000],\n",
      "        [0.1250, 0.1250, 0.1250, 0.1250, 0.1250, 0.1250, 0.1250, 0.1250]])\n"
     ]
    },
    {
     "data": {
      "text/plain": [
       "True"
      ]
     },
     "execution_count": 48,
     "metadata": {},
     "output_type": "execute_result"
    }
   ],
   "source": [
    "weights = torch.tril(torch.ones(block_size,block_size))\n",
    "weights = weights / weights.sum(1, keepdim=True)\n",
    "\n",
    "print (weights)\n",
    "\n",
    "xbow2 = weights @ x\n",
    "\n",
    "torch.allclose(xbow2, xbow)"
   ]
  },
  {
   "cell_type": "markdown",
   "id": "32da83ab-e3c3-4dad-a97b-06fb8fbae4c7",
   "metadata": {},
   "source": [
    "### Softmax"
   ]
  },
  {
   "cell_type": "code",
   "execution_count": 56,
   "id": "b2e034c7-aa40-4e2d-a999-c0800b1efa9c",
   "metadata": {
    "tags": []
   },
   "outputs": [
    {
     "name": "stdout",
     "output_type": "stream",
     "text": [
      "tensor([[1.0000, 0.0000, 0.0000, 0.0000, 0.0000, 0.0000, 0.0000, 0.0000],\n",
      "        [0.5000, 0.5000, 0.0000, 0.0000, 0.0000, 0.0000, 0.0000, 0.0000],\n",
      "        [0.3333, 0.3333, 0.3333, 0.0000, 0.0000, 0.0000, 0.0000, 0.0000],\n",
      "        [0.2500, 0.2500, 0.2500, 0.2500, 0.0000, 0.0000, 0.0000, 0.0000],\n",
      "        [0.2000, 0.2000, 0.2000, 0.2000, 0.2000, 0.0000, 0.0000, 0.0000],\n",
      "        [0.1667, 0.1667, 0.1667, 0.1667, 0.1667, 0.1667, 0.0000, 0.0000],\n",
      "        [0.1429, 0.1429, 0.1429, 0.1429, 0.1429, 0.1429, 0.1429, 0.0000],\n",
      "        [0.1250, 0.1250, 0.1250, 0.1250, 0.1250, 0.1250, 0.1250, 0.1250]])\n"
     ]
    },
    {
     "data": {
      "text/plain": [
       "True"
      ]
     },
     "execution_count": 56,
     "metadata": {},
     "output_type": "execute_result"
    }
   ],
   "source": [
    "import torch.nn.functional as F\n",
    "tril = torch.tril(torch.ones(block_size, block_size))\n",
    "weights = torch.zeros((block_size, block_size))\n",
    "weights = weights.masked_fill(tril == 0, float('-inf'))\n",
    "weights = F.softmax(weights, dim=-1)\n",
    "print(weights)\n",
    "\n",
    "xbow2 = weights @ x\n",
    "\n",
    "torch.allclose(xbow2, xbow)"
   ]
  },
  {
   "cell_type": "code",
   "execution_count": null,
   "id": "06ece75b-0011-4dc9-ab59-a0cac0a0f1b5",
   "metadata": {},
   "outputs": [],
   "source": []
  }
 ],
 "metadata": {
  "kernelspec": {
   "display_name": "Python 3 (ipykernel)",
   "language": "python",
   "name": "python3"
  },
  "language_info": {
   "codemirror_mode": {
    "name": "ipython",
    "version": 3
   },
   "file_extension": ".py",
   "mimetype": "text/x-python",
   "name": "python",
   "nbconvert_exporter": "python",
   "pygments_lexer": "ipython3",
   "version": "3.11.5"
  }
 },
 "nbformat": 4,
 "nbformat_minor": 5
}
