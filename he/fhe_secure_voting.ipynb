{
  "nbformat": 4,
  "nbformat_minor": 0,
  "metadata": {
    "colab": {
      "provenance": [],
      "authorship_tag": "ABX9TyOQzqozrMiRc80Tmj3GJFc5",
      "include_colab_link": true
    },
    "kernelspec": {
      "name": "python3",
      "display_name": "Python 3"
    },
    "language_info": {
      "name": "python"
    }
  },
  "cells": [
    {
      "cell_type": "markdown",
      "metadata": {
        "id": "view-in-github",
        "colab_type": "text"
      },
      "source": [
        "<a href=\"https://colab.research.google.com/github/vadhri/ai-notebook/blob/main/he/fhe_secure_voting.ipynb\" target=\"_parent\"><img src=\"https://colab.research.google.com/assets/colab-badge.svg\" alt=\"Open In Colab\"/></a>"
      ]
    },
    {
      "cell_type": "markdown",
      "metadata": {
        "id": "01a04a9c"
      },
      "source": [
        "### Multi-option secure voting system\n",
        "\n",
        "A sample implementation of secure voting system with the following parameters.\n",
        "\n",
        "- There are 10 options (e.g., candidates or choices 0–9).\n",
        "- Each participant chooses one option (say, 3 or 7).\n",
        "- Each participant encrypts their choice using BFV (homomorphic encryption).\n",
        "- The system stores ciphertexts in a Pandas DataFrame (so you can inspect, store, or later aggregate).\n",
        "\n",
        "A homomorphic aggregation step tallies encrypted votes across all participants, and decrypts the total votes per option."
      ]
    },
    {
      "cell_type": "code",
      "execution_count": 2,
      "metadata": {
        "colab": {
          "base_uri": "https://localhost:8080/"
        },
        "id": "l50NVktkkJ-K",
        "outputId": "0788555a-ef48-43a8-e2dc-53d340604d02"
      },
      "outputs": [
        {
          "output_type": "stream",
          "name": "stdout",
          "text": [
            "Reading package lists... Done\n",
            "Building dependency tree... Done\n",
            "Reading state information... Done\n",
            "build-essential is already the newest version (12.9ubuntu3).\n",
            "cmake is already the newest version (3.22.1-1ubuntu1.22.04.2).\n",
            "git is already the newest version (1:2.34.1-1ubuntu1.15).\n",
            "python3 is already the newest version (3.10.6-1~22.04.1).\n",
            "python3-dev is already the newest version (3.10.6-1~22.04.1).\n",
            "python3-pip is already the newest version (22.0.2+dfsg-1ubuntu0.7).\n",
            "0 upgraded, 0 newly installed, 0 to remove and 37 not upgraded.\n",
            "/content\n",
            "Cloning into 'SEAL-Python'...\n",
            "remote: Enumerating objects: 1642, done.\u001b[K\n",
            "remote: Counting objects: 100% (270/270), done.\u001b[K\n",
            "remote: Compressing objects: 100% (98/98), done.\u001b[K\n",
            "remote: Total 1642 (delta 185), reused 204 (delta 167), pack-reused 1372 (from 1)\u001b[K\n",
            "Receiving objects: 100% (1642/1642), 8.68 MiB | 17.42 MiB/s, done.\n",
            "Resolving deltas: 100% (890/890), done.\n",
            "/content/SEAL-Python\n",
            "Requirement already satisfied: numpy in /usr/local/lib/python3.12/dist-packages (2.0.2)\n",
            "Requirement already satisfied: pybind11 in /usr/local/lib/python3.12/dist-packages (3.0.1)\n",
            "Submodule 'SEAL' (https://github.com/microsoft/SEAL.git) registered for path 'SEAL'\n",
            "Submodule 'pybind11' (https://github.com/pybind/pybind11.git) registered for path 'pybind11'\n",
            "Cloning into '/content/SEAL-Python/SEAL'...\n",
            "Cloning into '/content/SEAL-Python/pybind11'...\n",
            "Submodule path 'SEAL': checked out '119dc32e135cb89c1062076a69310d4413ebc824'\n",
            "Submodule path 'pybind11': checked out '58c382a8e3d7081364d2f5c62e7f429f0412743b'\n"
          ]
        }
      ],
      "source": [
        "# Optional\n",
        "!sudo apt-get install git build-essential cmake python3 python3-dev python3-pip\n",
        "%cd /content\n",
        "!rm -rf /content/SEAL-Python\n",
        "\n",
        "# # Get the repository or download from the releases\n",
        "!git clone https://github.com/Huelse/SEAL-Python.git\n",
        "%cd SEAL-Python\n",
        "\n",
        "# # Install dependencies\n",
        "!pip3 install numpy pybind11\n",
        "\n",
        "# Init the SEAL and pybind11\n",
        "!git submodule update --init --recursive\n",
        "# Get the newest repositories (dev only)\n",
        "# !git submodule update --remote"
      ]
    },
    {
      "cell_type": "code",
      "source": [
        "# Build the SEAL lib without the msgsl zlib and zstandard compression\n",
        "%cd SEAL\n",
        "!cmake -S . -B build -DSEAL_USE_MSGSL=OFF -DSEAL_USE_ZLIB=OFF -DSEAL_USE_ZSTD=OFF\n",
        "!cmake --build build\n",
        "%cd .."
      ],
      "metadata": {
        "colab": {
          "base_uri": "https://localhost:8080/"
        },
        "id": "BHLaz__lkM_G",
        "outputId": "13591632-952a-44e5-f8a5-5582ac0c6fd1"
      },
      "execution_count": 3,
      "outputs": [
        {
          "output_type": "stream",
          "name": "stdout",
          "text": [
            "/content/SEAL-Python/SEAL\n",
            "-- Build type (CMAKE_BUILD_TYPE): Release\n",
            "-- The CXX compiler identification is GNU 11.4.0\n",
            "-- The C compiler identification is GNU 11.4.0\n",
            "-- Detecting CXX compiler ABI info\n",
            "-- Detecting CXX compiler ABI info - done\n",
            "-- Check for working CXX compiler: /usr/bin/c++ - skipped\n",
            "-- Detecting CXX compile features\n",
            "-- Detecting CXX compile features - done\n",
            "-- Detecting C compiler ABI info\n",
            "-- Detecting C compiler ABI info - done\n",
            "-- Check for working C compiler: /usr/bin/cc - skipped\n",
            "-- Detecting C compile features\n",
            "-- Detecting C compile features - done\n",
            "-- Microsoft SEAL debug mode: OFF\n",
            "-- SEAL_USE_CXX17: ON\n",
            "-- SEAL_BUILD_DEPS: ON\n",
            "-- SEAL_USE_MSGSL: OFF\n",
            "-- SEAL_USE_ZLIB: OFF\n",
            "-- SEAL_USE_ZSTD: OFF\n",
            "-- SEAL_USE_INTEL_HEXL: OFF\n",
            "-- BUILD_SHARED_LIBS: OFF\n",
            "-- SEAL_THROW_ON_TRANSPARENT_CIPHERTEXT: ON\n",
            "-- SEAL_USE_GAUSSIAN_NOISE: OFF\n",
            "-- SEAL_DEFAULT_PRNG: Blake2xb\n",
            "-- SEAL_AVOID_BRANCHING: OFF\n",
            "-- x86intrin.h - found\n",
            "-- SEAL_USE_INTRIN: ON\n",
            "-- Performing Test SEAL_MEMSET_S_FOUND\n",
            "-- Performing Test SEAL_MEMSET_S_FOUND - Failed\n",
            "-- Looking for explicit_bzero\n",
            "-- Looking for explicit_bzero - found\n",
            "-- Looking for explicit_memset\n",
            "-- Looking for explicit_memset - not found\n",
            "-- SEAL_USE_MEMSET_S: OFF\n",
            "-- SEAL_USE_EXPLICIT_BZERO: ON\n",
            "-- SEAL_USE_EXPLICIT_MEMSET: OFF\n",
            "-- Performing Test CMAKE_HAVE_LIBC_PTHREAD\n",
            "-- Performing Test CMAKE_HAVE_LIBC_PTHREAD - Success\n",
            "-- Found Threads: TRUE\n",
            "-- SEAL_BUILD_SEAL_C: OFF\n",
            "-- SEAL_BUILD_EXAMPLES: OFF\n",
            "-- SEAL_BUILD_TESTS: OFF\n",
            "-- SEAL_BUILD_BENCH: OFF\n",
            "-- Configuring done (7.8s)\n",
            "-- Generating done (0.0s)\n",
            "-- Build files have been written to: /content/SEAL-Python/SEAL/build\n",
            "[  2%] \u001b[32mBuilding CXX object CMakeFiles/seal.dir/native/src/seal/batchencoder.cpp.o\u001b[0m\n",
            "[  5%] \u001b[32mBuilding CXX object CMakeFiles/seal.dir/native/src/seal/ciphertext.cpp.o\u001b[0m\n",
            "[  7%] \u001b[32mBuilding CXX object CMakeFiles/seal.dir/native/src/seal/ckks.cpp.o\u001b[0m\n",
            "[ 10%] \u001b[32mBuilding CXX object CMakeFiles/seal.dir/native/src/seal/context.cpp.o\u001b[0m\n",
            "[ 12%] \u001b[32mBuilding CXX object CMakeFiles/seal.dir/native/src/seal/decryptor.cpp.o\u001b[0m\n",
            "[ 15%] \u001b[32mBuilding CXX object CMakeFiles/seal.dir/native/src/seal/encryptionparams.cpp.o\u001b[0m\n",
            "[ 17%] \u001b[32mBuilding CXX object CMakeFiles/seal.dir/native/src/seal/encryptor.cpp.o\u001b[0m\n",
            "[ 20%] \u001b[32mBuilding CXX object CMakeFiles/seal.dir/native/src/seal/evaluator.cpp.o\u001b[0m\n",
            "[ 22%] \u001b[32mBuilding CXX object CMakeFiles/seal.dir/native/src/seal/keygenerator.cpp.o\u001b[0m\n",
            "[ 25%] \u001b[32mBuilding CXX object CMakeFiles/seal.dir/native/src/seal/kswitchkeys.cpp.o\u001b[0m\n",
            "[ 27%] \u001b[32mBuilding CXX object CMakeFiles/seal.dir/native/src/seal/memorymanager.cpp.o\u001b[0m\n",
            "[ 30%] \u001b[32mBuilding CXX object CMakeFiles/seal.dir/native/src/seal/modulus.cpp.o\u001b[0m\n",
            "[ 32%] \u001b[32mBuilding CXX object CMakeFiles/seal.dir/native/src/seal/plaintext.cpp.o\u001b[0m\n",
            "[ 35%] \u001b[32mBuilding CXX object CMakeFiles/seal.dir/native/src/seal/randomgen.cpp.o\u001b[0m\n",
            "[ 37%] \u001b[32mBuilding CXX object CMakeFiles/seal.dir/native/src/seal/serialization.cpp.o\u001b[0m\n",
            "[ 40%] \u001b[32mBuilding CXX object CMakeFiles/seal.dir/native/src/seal/valcheck.cpp.o\u001b[0m\n",
            "[ 42%] \u001b[32mBuilding C object CMakeFiles/seal.dir/native/src/seal/util/blake2b.c.o\u001b[0m\n",
            "[ 45%] \u001b[32mBuilding C object CMakeFiles/seal.dir/native/src/seal/util/blake2xb.c.o\u001b[0m\n",
            "[ 47%] \u001b[32mBuilding CXX object CMakeFiles/seal.dir/native/src/seal/util/clipnormal.cpp.o\u001b[0m\n",
            "[ 50%] \u001b[32mBuilding CXX object CMakeFiles/seal.dir/native/src/seal/util/common.cpp.o\u001b[0m\n",
            "[ 52%] \u001b[32mBuilding CXX object CMakeFiles/seal.dir/native/src/seal/util/croots.cpp.o\u001b[0m\n",
            "[ 55%] \u001b[32mBuilding C object CMakeFiles/seal.dir/native/src/seal/util/fips202.c.o\u001b[0m\n",
            "[ 57%] \u001b[32mBuilding CXX object CMakeFiles/seal.dir/native/src/seal/util/globals.cpp.o\u001b[0m\n",
            "[ 60%] \u001b[32mBuilding CXX object CMakeFiles/seal.dir/native/src/seal/util/galois.cpp.o\u001b[0m\n",
            "[ 62%] \u001b[32mBuilding CXX object CMakeFiles/seal.dir/native/src/seal/util/hash.cpp.o\u001b[0m\n",
            "[ 65%] \u001b[32mBuilding CXX object CMakeFiles/seal.dir/native/src/seal/util/iterator.cpp.o\u001b[0m\n",
            "[ 67%] \u001b[32mBuilding CXX object CMakeFiles/seal.dir/native/src/seal/util/mempool.cpp.o\u001b[0m\n",
            "[ 70%] \u001b[32mBuilding CXX object CMakeFiles/seal.dir/native/src/seal/util/numth.cpp.o\u001b[0m\n",
            "[ 72%] \u001b[32mBuilding CXX object CMakeFiles/seal.dir/native/src/seal/util/polyarithsmallmod.cpp.o\u001b[0m\n",
            "[ 75%] \u001b[32mBuilding CXX object CMakeFiles/seal.dir/native/src/seal/util/rlwe.cpp.o\u001b[0m\n",
            "[ 77%] \u001b[32mBuilding CXX object CMakeFiles/seal.dir/native/src/seal/util/rns.cpp.o\u001b[0m\n",
            "[ 80%] \u001b[32mBuilding CXX object CMakeFiles/seal.dir/native/src/seal/util/scalingvariant.cpp.o\u001b[0m\n",
            "[ 82%] \u001b[32mBuilding CXX object CMakeFiles/seal.dir/native/src/seal/util/ntt.cpp.o\u001b[0m\n",
            "[ 85%] \u001b[32mBuilding CXX object CMakeFiles/seal.dir/native/src/seal/util/streambuf.cpp.o\u001b[0m\n",
            "[ 87%] \u001b[32mBuilding CXX object CMakeFiles/seal.dir/native/src/seal/util/uintarith.cpp.o\u001b[0m\n",
            "[ 90%] \u001b[32mBuilding CXX object CMakeFiles/seal.dir/native/src/seal/util/uintarithmod.cpp.o\u001b[0m\n",
            "[ 92%] \u001b[32mBuilding CXX object CMakeFiles/seal.dir/native/src/seal/util/uintarithsmallmod.cpp.o\u001b[0m\n",
            "[ 95%] \u001b[32mBuilding CXX object CMakeFiles/seal.dir/native/src/seal/util/uintcore.cpp.o\u001b[0m\n",
            "[ 97%] \u001b[32mBuilding CXX object CMakeFiles/seal.dir/native/src/seal/util/ztools.cpp.o\u001b[0m\n",
            "[100%] \u001b[32m\u001b[1mLinking CXX static library lib/libseal-4.1.a\u001b[0m\n",
            "[100%] Built target seal\n",
            "/content/SEAL-Python\n"
          ]
        }
      ]
    },
    {
      "cell_type": "code",
      "source": [
        "#Run the setup.py, the dynamic library will be generated in the current directory\n",
        "!python3 setup.py build_ext -i"
      ],
      "metadata": {
        "colab": {
          "base_uri": "https://localhost:8080/"
        },
        "id": "xNNEP-EamCgG",
        "outputId": "40ef8e34-2e86-455b-c259-f4f461186aa7"
      },
      "execution_count": 4,
      "outputs": [
        {
          "output_type": "stream",
          "name": "stdout",
          "text": [
            "running build_ext\n",
            "x86_64-linux-gnu-g++ -fno-strict-overflow -Wsign-compare -DNDEBUG -g -O2 -Wall -g -fstack-protector-strong -Wformat -Werror=format-security -g -fwrapv -O2 -fPIC -I/usr/include/python3.12 -c flagcheck.cpp -o flagcheck.o -std=c++17\n",
            "building 'seal' extension\n",
            "creating build/temp.linux-x86_64-cpython-312/src\n",
            "x86_64-linux-gnu-g++ -fno-strict-overflow -Wsign-compare -DNDEBUG -g -O2 -Wall -g -fstack-protector-strong -Wformat -Werror=format-security -g -fwrapv -O2 -fPIC -DVERSION_INFO=4.0.0 -I/usr/include/python3.12 -Ipybind11/include -ISEAL/native/src -ISEAL/build/native/src -I/usr/local/lib/python3.12/dist-packages/pybind11/include -I/usr/include/python3.12 -c src/wrapper.cpp -o build/temp.linux-x86_64-cpython-312/src/wrapper.o -std=c++17 -fvisibility=hidden -g0 -std=c++17\n",
            "creating build/lib.linux-x86_64-cpython-312\n",
            "x86_64-linux-gnu-g++ -fno-strict-overflow -Wsign-compare -DNDEBUG -g -O2 -Wall -g -fstack-protector-strong -Wformat -Werror=format-security -g -fwrapv -O2 -shared -Wl,-O1 -Wl,-Bsymbolic-functions -Wl,-Bsymbolic-functions -g -fwrapv -O2 build/temp.linux-x86_64-cpython-312/src/wrapper.o SEAL/build/lib/libseal-4.1.a -L/usr/lib/x86_64-linux-gnu -o build/lib.linux-x86_64-cpython-312/seal.cpython-312-x86_64-linux-gnu.so\n",
            "copying build/lib.linux-x86_64-cpython-312/seal.cpython-312-x86_64-linux-gnu.so -> \n"
          ]
        }
      ]
    },
    {
      "cell_type": "code",
      "source": [
        "!pip install ."
      ],
      "metadata": {
        "colab": {
          "base_uri": "https://localhost:8080/"
        },
        "id": "RMwu-NYuwUj6",
        "outputId": "1705f0ca-4b93-415b-c5d9-e1ee91a94c60"
      },
      "execution_count": 5,
      "outputs": [
        {
          "output_type": "stream",
          "name": "stdout",
          "text": [
            "Processing /content/SEAL-Python\n",
            "  Installing build dependencies ... \u001b[?25l\u001b[?25hdone\n",
            "  Getting requirements to build wheel ... \u001b[?25l\u001b[?25hdone\n",
            "  Preparing metadata (pyproject.toml) ... \u001b[?25l\u001b[?25hdone\n",
            "Building wheels for collected packages: seal\n",
            "  Building wheel for seal (pyproject.toml) ... \u001b[?25l\u001b[?25hdone\n",
            "  Created wheel for seal: filename=seal-4.0.0-cp312-cp312-linux_x86_64.whl size=611226 sha256=c6ec938ac9945b7a81ee5c67c83a83db525ca377c977d8f93f6592e0def88c3b\n",
            "  Stored in directory: /root/.cache/pip/wheels/8f/9b/a2/8f17830c264fc4f685de56341ecac4c286e5d05e24b9aae978\n",
            "Successfully built seal\n",
            "Installing collected packages: seal\n",
            "  Attempting uninstall: seal\n",
            "    Found existing installation: seal 4.0.0\n",
            "    Uninstalling seal-4.0.0:\n",
            "      Successfully uninstalled seal-4.0.0\n",
            "Successfully installed seal-4.0.0\n"
          ]
        }
      ]
    },
    {
      "cell_type": "code",
      "source": [
        "from seal import *\n",
        "import numpy as np\n",
        "import pandas as pd\n",
        "import io\n",
        "\n",
        "parms = EncryptionParameters(scheme_type.bfv)\n",
        "poly_modulus_degree = 8192\n",
        "parms.set_poly_modulus_degree(poly_modulus_degree)\n",
        "parms.set_coeff_modulus(CoeffModulus.BFVDefault(poly_modulus_degree))\n",
        "parms.set_plain_modulus(PlainModulus.Batching(poly_modulus_degree, 20))\n",
        "context = SEALContext(parms)\n",
        "\n",
        "keygen = KeyGenerator(context)\n",
        "secret_key = keygen.secret_key()\n",
        "public_key = keygen.create_public_key()\n",
        "encryptor = Encryptor(context, public_key)\n",
        "decryptor = Decryptor(context, secret_key)\n",
        "evaluator = Evaluator(context)\n",
        "encoder = BatchEncoder(context)\n",
        "\n",
        "slot_count = encoder.slot_count()\n",
        "print(f\"Slot count: {slot_count}\")"
      ],
      "metadata": {
        "colab": {
          "base_uri": "https://localhost:8080/"
        },
        "id": "hFEIjo2wzOUz",
        "outputId": "f682018c-6682-496c-b474-07cf6cf79704"
      },
      "execution_count": 6,
      "outputs": [
        {
          "output_type": "stream",
          "name": "stdout",
          "text": [
            "Slot count: 8192\n"
          ]
        }
      ]
    },
    {
      "cell_type": "code",
      "source": [
        "\n",
        "def one_hot_encode(choice, num_options=10):\n",
        "    vec = [0] * num_options\n",
        "    vec[choice] = 1\n",
        "    return vec\n",
        "\n",
        "def encrypt_vote(choice, num_options=10):\n",
        "    one_hot = one_hot_encode(choice, num_options)\n",
        "    vec = np.zeros(slot_count, dtype=np.int64)\n",
        "    vec[:num_options] = np.array(one_hot, dtype=np.int64)\n",
        "\n",
        "    pt = encoder.encode(vec)\n",
        "    ct = encryptor.encrypt(pt)\n",
        "    return ct\n",
        "\n",
        "def decrypt_tally(ct, num_options):\n",
        "    pt = Plaintext()\n",
        "    decryptor.decrypt(ct, pt)\n",
        "    decoded = encoder.decode(pt)\n",
        "    return [int(decoded[i]) for i in range(num_options)]\n",
        "\n",
        "\n",
        "def add_ciphertexts(ct_list):\n",
        "    if not ct_list:\n",
        "        return None\n",
        "\n",
        "    total = ct_list[0]\n",
        "\n",
        "    for ct in ct_list[1:]:\n",
        "        evaluator.add_inplace(total, ct)\n",
        "\n",
        "    return total\n"
      ],
      "metadata": {
        "id": "4SN9JjjX_ZSI"
      },
      "execution_count": 10,
      "outputs": []
    },
    {
      "cell_type": "code",
      "source": [
        "from collections import Counter\n",
        "num_options = 10\n",
        "participants = 1500\n",
        "\n",
        "choices = np.random.randint(0, num_options, participants)\n",
        "\n",
        "# top 5 choices\n",
        "top_5_choices = Counter(choices).most_common(5)\n",
        "print(top_5_choices)\n",
        "\n",
        "# Encrypt and store in a DataFrame\n",
        "rows = []\n",
        "for pid, choice in enumerate(choices):\n",
        "    ct = encrypt_vote(choice, num_options)\n",
        "    rows.append({\n",
        "        \"Participant_ID\": pid,\n",
        "        \"Choice\": choice,\n",
        "        \"EncryptedChoice\": ct\n",
        "    })\n",
        "\n",
        "df = pd.DataFrame(rows)\n",
        "print(\"\\nEncrypted votes DataFrame:\")\n",
        "print(df[[\"Participant_ID\", \"Choice\", \"EncryptedChoice\"]])"
      ],
      "metadata": {
        "colab": {
          "base_uri": "https://localhost:8080/"
        },
        "id": "Ac6_eAod_ZmO",
        "outputId": "766ddb37-da1b-4b1c-a2de-2095e2ac7545"
      },
      "execution_count": 13,
      "outputs": [
        {
          "output_type": "stream",
          "name": "stdout",
          "text": [
            "[(np.int64(2), 172), (np.int64(3), 161), (np.int64(4), 156), (np.int64(9), 154), (np.int64(8), 151)]\n",
            "\n",
            "Encrypted votes DataFrame:\n",
            "      Participant_ID  Choice                             EncryptedChoice\n",
            "0                  0       2  <seal.Ciphertext object at 0x7f4e5ccfec70>\n",
            "1                  1       9  <seal.Ciphertext object at 0x7f4e5d6cd9f0>\n",
            "2                  2       8  <seal.Ciphertext object at 0x7f4e5ccfc4b0>\n",
            "3                  3       3  <seal.Ciphertext object at 0x7f4e5cbf6cf0>\n",
            "4                  4       9  <seal.Ciphertext object at 0x7f4e5cbf6730>\n",
            "...              ...     ...                                         ...\n",
            "1495            1495       7  <seal.Ciphertext object at 0x7f4e2ba2f770>\n",
            "1496            1496       6  <seal.Ciphertext object at 0x7f4e2ba2f7f0>\n",
            "1497            1497       7  <seal.Ciphertext object at 0x7f4e2ba2f870>\n",
            "1498            1498       3  <seal.Ciphertext object at 0x7f4e2ba2f8f0>\n",
            "1499            1499       6  <seal.Ciphertext object at 0x7f4e2ba2f970>\n",
            "\n",
            "[1500 rows x 3 columns]\n"
          ]
        }
      ]
    },
    {
      "cell_type": "code",
      "source": [
        "ct_sum = add_ciphertexts(df[\"EncryptedChoice\"].tolist())\n",
        "\n",
        "# Decrypt tally\n",
        "tally = decrypt_tally(ct_sum, num_options)\n",
        "print(\"\\nFinal Tally (per option):\")\n",
        "for i, count in enumerate(tally):\n",
        "    print(f\"Option {i}: {count} votes\")\n",
        "\n",
        "# For cross-check (non-secure verification)\n",
        "expected_counts = np.bincount(choices, minlength=num_options)\n",
        "print(\"\\nExpected (plaintext check):\", expected_counts.tolist())\n",
        "\n",
        "print(f\"Maximum counts : \", np.argmax(expected_counts))"
      ],
      "metadata": {
        "colab": {
          "base_uri": "https://localhost:8080/"
        },
        "id": "okkICzTCw4cF",
        "outputId": "ca5c92d3-491d-4154-bfbe-3a11f8545fb4"
      },
      "execution_count": 14,
      "outputs": [
        {
          "output_type": "stream",
          "name": "stdout",
          "text": [
            "\n",
            "Final Tally (per option):\n",
            "Option 0: 137 votes\n",
            "Option 1: 146 votes\n",
            "Option 2: 172 votes\n",
            "Option 3: 161 votes\n",
            "Option 4: 156 votes\n",
            "Option 5: 130 votes\n",
            "Option 6: 147 votes\n",
            "Option 7: 146 votes\n",
            "Option 8: 151 votes\n",
            "Option 9: 154 votes\n",
            "\n",
            "Expected (plaintext check): [137, 146, 172, 161, 156, 130, 147, 146, 151, 154]\n",
            "Maximum counts :  2\n"
          ]
        }
      ]
    }
  ]
}