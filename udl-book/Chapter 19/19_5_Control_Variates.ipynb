{
  "nbformat": 4,
  "nbformat_minor": 0,
  "metadata": {
    "colab": {
      "provenance": [],
      "include_colab_link": true
    },
    "kernelspec": {
      "name": "python3",
      "display_name": "Python 3"
    },
    "language_info": {
      "name": "python"
    }
  },
  "cells": [
    {
      "cell_type": "markdown",
      "metadata": {
        "id": "view-in-github",
        "colab_type": "text"
      },
      "source": [
        "<a href=\"https://colab.research.google.com/github/vadhri/ai-notebook/blob/main/udl-book/Chapter%2019/19_5_Control_Variates.ipynb\" target=\"_parent\"><img src=\"https://colab.research.google.com/assets/colab-badge.svg\" alt=\"Open In Colab\"/></a>"
      ]
    },
    {
      "cell_type": "markdown",
      "source": [
        "# **Notebook 19.5: Control variates**\n",
        "\n",
        "This notebook investigates the method of control variates as described in figure 19.16\n",
        "\n",
        "\n",
        "Work through the cells below, running each cell in turn. In various places you will see the words \"TO DO\". Follow the instructions at these places and make predictions about what is going to happen or write code to complete the functions.\n",
        "\n",
        "Contact me at udlbookmail@gmail.com if you find any mistakes or have any suggestions."
      ],
      "metadata": {
        "id": "t9vk9Elugvmi"
      }
    },
    {
      "cell_type": "code",
      "source": [
        "import numpy as np\n",
        "import matplotlib.pyplot as plt\n",
        "\n",
        "np.random.seed(0)\n"
      ],
      "metadata": {
        "id": "OLComQyvCIJ7"
      },
      "execution_count": 54,
      "outputs": []
    },
    {
      "cell_type": "markdown",
      "source": [
        "Generate from our two variables, $a$ and $b$.  We are interested in estimating the mean of $a$, but we can use $b$$ to improve our estimates if it is correlated"
      ],
      "metadata": {
        "id": "uwmhcAZBzTRO"
      }
    },
    {
      "cell_type": "code",
      "source": [
        "# Sample from two variables with mean zero, standard deviation one, and a given correlation coefficient\n",
        "def get_samples(n_samples, correlation_coeff=0.8):\n",
        "  a = np.random.normal(size=(1,n_samples))\n",
        "  temp = np.random.normal(size=(1, n_samples))\n",
        "  b = correlation_coeff * a + np.sqrt(1-correlation_coeff * correlation_coeff) * temp\n",
        "  return a, b"
      ],
      "metadata": {
        "id": "bC8MBXPawQJ3"
      },
      "execution_count": 55,
      "outputs": []
    },
    {
      "cell_type": "code",
      "source": [
        "N = 10000000\n",
        "a,b, = get_samples(N)\n",
        "\n",
        "# Verify that these two variables have zero mean and unit standard deviation\n",
        "print(\"Mean of a = %3.3f,  Std of a = %3.3f\"%(np.mean(a),np.std(a)))\n",
        "print(\"Mean of b = %3.3f,  Std of b = %3.3f\"%(np.mean(b),np.std(b)))"
      ],
      "metadata": {
        "id": "1cT66nbRyW34",
        "colab": {
          "base_uri": "https://localhost:8080/"
        },
        "outputId": "2ff5cd47-2665-4494-dfb4-e4f89cfc4f29"
      },
      "execution_count": 56,
      "outputs": [
        {
          "output_type": "stream",
          "name": "stdout",
          "text": [
            "Mean of a = 0.000,  Std of a = 1.000\n",
            "Mean of b = 0.000,  Std of b = 1.000\n"
          ]
        }
      ]
    },
    {
      "cell_type": "markdown",
      "source": [
        "Now let's samples $N=10$ examples from $a$ and estimate their mean $\\mathbb{E}[a]$.  We'll do this 1000000 times and then compute the variance of those estimates."
      ],
      "metadata": {
        "id": "PWoYRpjS0Nlf"
      }
    },
    {
      "cell_type": "code",
      "source": [
        "n_estimate = 1000000\n",
        "N = 10\n",
        "\n",
        "# Replace this line\n",
        "\n",
        "# TODO -- sample N examples of variable $a$\n",
        "# Compute the mean of each\n",
        "estimator = [np.mean(get_samples(N)[0]) for i in range (n_estimate)]\n",
        "# Compute the mean of these estimates of the mean\n",
        "\n",
        "mean_of_estimator_1 = np.mean(estimator)\n",
        "std_of_estimator_1 = np.var(estimator)\n",
        "\n",
        "print(\"Standard estimator mean = %3.3f, Standard estimator variance = %3.3f\"%(mean_of_estimator_1, std_of_estimator_1))"
      ],
      "metadata": {
        "id": "n6Uem2aYzBp7",
        "colab": {
          "base_uri": "https://localhost:8080/"
        },
        "outputId": "5c49b11b-3645-4913-def3-d8cdb2e8dee3"
      },
      "execution_count": 57,
      "outputs": [
        {
          "output_type": "stream",
          "name": "stdout",
          "text": [
            "Standard estimator mean = -0.000, Standard estimator variance = 0.316\n"
          ]
        }
      ]
    },
    {
      "cell_type": "markdown",
      "source": [
        "Now let's estimate the mean $\\mathbf{E}[a]$ of $a$ by computing $a-b$ where $b$ is correlated with $a$"
      ],
      "metadata": {
        "id": "F-af86z13TFc"
      }
    },
    {
      "cell_type": "code",
      "source": [
        "print(\"Correlation between a and b:\", np.corrcoef(a[0], b[0])[0, 1])\n"
      ],
      "metadata": {
        "colab": {
          "base_uri": "https://localhost:8080/"
        },
        "id": "I254Gts7HW-j",
        "outputId": "d1a68a83-239d-45d7-db1a-b9f8cf38ca3c"
      },
      "execution_count": 58,
      "outputs": [
        {
          "output_type": "stream",
          "name": "stdout",
          "text": [
            "Correlation between a and b: 0.800011525119523\n"
          ]
        }
      ]
    },
    {
      "cell_type": "code",
      "source": [
        "n_estimate = 1000000\n",
        "N = 10\n",
        "\n",
        "# TODO -- sample N examples of variables $a$ and $b$\n",
        "# Compute $c=a-b$ for each and then compute the mean of $c$\n",
        "def diff():\n",
        "  correlation_coeff = 0.8\n",
        "  a,b = get_samples(N)\n",
        "  return np.mean(a-correlation_coeff*b)\n",
        "\n",
        "estimator = [diff() for i in range (n_estimate)]\n",
        "\n",
        "# Compute the mean and variance of these estimates of the mean of $c$\n",
        "mean_of_estimator_2 = np.mean(estimator)\n",
        "std_of_estimator_2 = np.var(estimator)\n",
        "# Replace this line\n",
        "\n",
        "print(\"Control variate estimator mean = %3.3f, Control variate estimator variance = %3.3f\"%(mean_of_estimator_2, std_of_estimator_2))"
      ],
      "metadata": {
        "id": "MrEVDggY0IGU",
        "colab": {
          "base_uri": "https://localhost:8080/"
        },
        "outputId": "3e7ee3c3-a0a7-47e6-85de-6f222ef5cf13"
      },
      "execution_count": 62,
      "outputs": [
        {
          "output_type": "stream",
          "name": "stdout",
          "text": [
            "Control variate estimator mean = -0.000, Control variate estimator variance = 0.036\n"
          ]
        }
      ]
    },
    {
      "cell_type": "markdown",
      "source": [
        "Note that they both have a very similar mean, but the second estimator has a lower variance.   \n",
        "\n",
        "TODO -- Experiment with different samples sizes $N$ and correlation coefficients."
      ],
      "metadata": {
        "id": "Jklzkca14ofS"
      }
    }
  ]
}