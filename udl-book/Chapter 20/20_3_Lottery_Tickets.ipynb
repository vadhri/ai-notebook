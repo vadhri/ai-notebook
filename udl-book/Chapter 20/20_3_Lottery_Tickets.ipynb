{
  "nbformat": 4,
  "nbformat_minor": 0,
  "metadata": {
    "colab": {
      "provenance": [],
      "gpuType": "T4",
      "include_colab_link": true
    },
    "kernelspec": {
      "name": "python3",
      "display_name": "Python 3"
    },
    "accelerator": "GPU"
  },
  "cells": [
    {
      "cell_type": "markdown",
      "metadata": {
        "id": "view-in-github",
        "colab_type": "text"
      },
      "source": [
        "<a href=\"https://colab.research.google.com/github/vadhri/ai-notebook/blob/main/udl-book/Chapter%2020/20_3_Lottery_Tickets.ipynb\" target=\"_parent\"><img src=\"https://colab.research.google.com/assets/colab-badge.svg\" alt=\"Open In Colab\"/></a>"
      ]
    },
    {
      "cell_type": "markdown",
      "metadata": {
        "id": "dKUcDM76bHx3"
      },
      "source": [
        "# **Notebook 20.3: Lottery tickets**\n",
        "\n",
        "This notebook investigates the phenomenon of lottery tickets as discussed in section 20.2.7.  This notebook is highly derivative of the MNIST-1D code hosted by Sam Greydanus at https://github.com/greydanus/mnist1d.   \n",
        "\n",
        "Work through the cells below, running each cell in turn. In various places you will see the words \"TO DO\". Follow the instructions at these places and make predictions about what is going to happen or write code to complete the functions.\n",
        "\n",
        "Contact me at udlbookmail@gmail.com if you find any mistakes or have any suggestions."
      ]
    },
    {
      "cell_type": "code",
      "metadata": {
        "id": "Sg2i1QmhKW5d",
        "outputId": "c558cd8d-854e-4669-b8cd-05df2071bc42",
        "colab": {
          "base_uri": "https://localhost:8080/"
        }
      },
      "source": [
        "# Run this if you're in a Colab to install MNIST 1D repository\n",
        "!pip install git+https://github.com/greydanus/mnist1d\n",
        "!git clone https://github.com/greydanus/mnist1d"
      ],
      "execution_count": 98,
      "outputs": [
        {
          "output_type": "stream",
          "name": "stdout",
          "text": [
            "Collecting git+https://github.com/greydanus/mnist1d\n",
            "  Cloning https://github.com/greydanus/mnist1d to /tmp/pip-req-build-6dc1nrvt\n",
            "  Running command git clone --filter=blob:none --quiet https://github.com/greydanus/mnist1d /tmp/pip-req-build-6dc1nrvt\n",
            "  Resolved https://github.com/greydanus/mnist1d to commit 7878d96082abd200c546a07a4101fa90b30fdf7e\n",
            "  Installing build dependencies ... \u001b[?25l\u001b[?25hdone\n",
            "  Getting requirements to build wheel ... \u001b[?25l\u001b[?25hdone\n",
            "  Preparing metadata (pyproject.toml) ... \u001b[?25l\u001b[?25hdone\n",
            "Requirement already satisfied: requests in /usr/local/lib/python3.10/dist-packages (from mnist1d==0.0.2.post16) (2.32.3)\n",
            "Requirement already satisfied: numpy in /usr/local/lib/python3.10/dist-packages (from mnist1d==0.0.2.post16) (1.26.4)\n",
            "Requirement already satisfied: matplotlib in /usr/local/lib/python3.10/dist-packages (from mnist1d==0.0.2.post16) (3.8.0)\n",
            "Requirement already satisfied: scipy in /usr/local/lib/python3.10/dist-packages (from mnist1d==0.0.2.post16) (1.13.1)\n",
            "Requirement already satisfied: contourpy>=1.0.1 in /usr/local/lib/python3.10/dist-packages (from matplotlib->mnist1d==0.0.2.post16) (1.3.1)\n",
            "Requirement already satisfied: cycler>=0.10 in /usr/local/lib/python3.10/dist-packages (from matplotlib->mnist1d==0.0.2.post16) (0.12.1)\n",
            "Requirement already satisfied: fonttools>=4.22.0 in /usr/local/lib/python3.10/dist-packages (from matplotlib->mnist1d==0.0.2.post16) (4.54.1)\n",
            "Requirement already satisfied: kiwisolver>=1.0.1 in /usr/local/lib/python3.10/dist-packages (from matplotlib->mnist1d==0.0.2.post16) (1.4.7)\n",
            "Requirement already satisfied: packaging>=20.0 in /usr/local/lib/python3.10/dist-packages (from matplotlib->mnist1d==0.0.2.post16) (24.2)\n",
            "Requirement already satisfied: pillow>=6.2.0 in /usr/local/lib/python3.10/dist-packages (from matplotlib->mnist1d==0.0.2.post16) (11.0.0)\n",
            "Requirement already satisfied: pyparsing>=2.3.1 in /usr/local/lib/python3.10/dist-packages (from matplotlib->mnist1d==0.0.2.post16) (3.2.0)\n",
            "Requirement already satisfied: python-dateutil>=2.7 in /usr/local/lib/python3.10/dist-packages (from matplotlib->mnist1d==0.0.2.post16) (2.8.2)\n",
            "Requirement already satisfied: charset-normalizer<4,>=2 in /usr/local/lib/python3.10/dist-packages (from requests->mnist1d==0.0.2.post16) (3.4.0)\n",
            "Requirement already satisfied: idna<4,>=2.5 in /usr/local/lib/python3.10/dist-packages (from requests->mnist1d==0.0.2.post16) (3.10)\n",
            "Requirement already satisfied: urllib3<3,>=1.21.1 in /usr/local/lib/python3.10/dist-packages (from requests->mnist1d==0.0.2.post16) (2.2.3)\n",
            "Requirement already satisfied: certifi>=2017.4.17 in /usr/local/lib/python3.10/dist-packages (from requests->mnist1d==0.0.2.post16) (2024.8.30)\n",
            "Requirement already satisfied: six>=1.5 in /usr/local/lib/python3.10/dist-packages (from python-dateutil>=2.7->matplotlib->mnist1d==0.0.2.post16) (1.16.0)\n",
            "fatal: destination path 'mnist1d' already exists and is not an empty directory.\n"
          ]
        }
      ]
    },
    {
      "cell_type": "markdown",
      "source": [
        "# Lottery tickets\n",
        "\n",
        "Lottery tickets were first identified by [Frankle and Carbin (2018)](https://arxiv.org/abs/1803.03635).  They noted that after training a network, they could set the smaller weights to zero and clamp them there and retrain to get a network that was sparser (had fewer parameters) but could actually perform better.  So within the neural network there lie smaller sub-networks which are superior.  If we knew what these were, we could train them from scratch, but there is currently no way of finding out."
      ],
      "metadata": {
        "id": "97g8gY5XdcKR"
      }
    },
    {
      "cell_type": "code",
      "metadata": {
        "id": "KaQo7QhvXvid"
      },
      "source": [
        "import numpy as np\n",
        "import matplotlib.pyplot as plt\n",
        "\n",
        "import torch\n",
        "import torch.nn as nn\n",
        "import torch.nn.functional as F\n",
        "import torch.optim as optim\n",
        "\n",
        "import mnist1d\n",
        "import copy"
      ],
      "execution_count": 99,
      "outputs": []
    },
    {
      "cell_type": "markdown",
      "metadata": {
        "id": "nre26wEOfZsM"
      },
      "source": [
        "## Get the MNIST1D dataset"
      ]
    },
    {
      "cell_type": "code",
      "metadata": {
        "id": "I-vm_gh5xTJs",
        "outputId": "c1f16454-dc08-40f5-935b-fa9063e9aa33",
        "colab": {
          "base_uri": "https://localhost:8080/"
        }
      },
      "source": [
        "from mnist1d.data import get_dataset, get_dataset_args\n",
        "from mnist1d.utils import set_seed, to_pickle, from_pickle\n",
        "\n",
        "import sys ; sys.path.append('./mnist1d/notebooks')\n",
        "from train import get_model_args, train_model\n",
        "\n",
        "args = mnist1d.get_dataset_args()\n",
        "data = mnist1d.get_dataset(args=args)  # by default, this will download a pre-made dataset from the GitHub repo\n",
        "\n",
        "print(\"Examples in training set: {}\".format(len(data['y'])))\n",
        "print(\"Examples in test set: {}\".format(len(data['y_test'])))\n",
        "print(\"Length of each input: {}\".format(data['x'].shape[-1]))\n",
        "print(\"Number of classes: {}\".format(len(data['templates']['y'])))"
      ],
      "execution_count": 100,
      "outputs": [
        {
          "output_type": "stream",
          "name": "stdout",
          "text": [
            "File already exists. Skipping download.\n",
            "Successfully loaded data from ./mnist1d_data.pkl\n",
            "Examples in training set: 4000\n",
            "Examples in test set: 1000\n",
            "Length of each input: 40\n",
            "Number of classes: 10\n"
          ]
        }
      ]
    },
    {
      "cell_type": "code",
      "source": [
        "data.keys()"
      ],
      "metadata": {
        "id": "8A_iTHyddpYC",
        "outputId": "985a6dae-7fa0-456a-a70f-11566281f960",
        "colab": {
          "base_uri": "https://localhost:8080/"
        }
      },
      "execution_count": 101,
      "outputs": [
        {
          "output_type": "execute_result",
          "data": {
            "text/plain": [
              "dict_keys(['x', 'x_test', 'y', 'y_test', 't', 'templates'])"
            ]
          },
          "metadata": {},
          "execution_count": 101
        }
      ]
    },
    {
      "cell_type": "markdown",
      "metadata": {
        "id": "O2vy0FKjfDwr"
      },
      "source": [
        "## Make an MLP that can be masked\n",
        "These parameter-wise binary masks are how we will represent sparsity in this project. There's not a great PyTorch API for this yet, so here's a temporary solution."
      ]
    },
    {
      "cell_type": "code",
      "metadata": {
        "id": "uBx5gNW-mqH_"
      },
      "source": [
        "# Class to represent linear layer where some of the weights are forced to zero.\n",
        "class SparseLinear(torch.nn.Module):\n",
        "  def __init__(self, x_size, y_size):\n",
        "    super(SparseLinear, self).__init__()\n",
        "    self.linear = torch.nn.Linear(x_size, y_size)\n",
        "    param_vec = torch.cat([p.flatten() for p in self.parameters()])\n",
        "    self.mask = torch.ones_like(param_vec)\n",
        "\n",
        "  def forward(self, x, apply_mask=True):\n",
        "    if apply_mask:\n",
        "      self.apply_mask()\n",
        "    return self.linear(x)\n",
        "\n",
        "  def update_mask(self, new_mask):\n",
        "    self.mask = new_mask\n",
        "    self.apply_mask()\n",
        "\n",
        "  def apply_mask(self):\n",
        "    self.vec2param(self.param2vec())\n",
        "\n",
        "  def param2vec(self):\n",
        "    vec = torch.cat([p.flatten() for p in self.parameters()])\n",
        "    return self.mask * vec\n",
        "\n",
        "  def vec2param(self, vec):\n",
        "    pointer = 0\n",
        "    for param in self.parameters():\n",
        "      param_len = np.cumprod(param.shape)[-1]\n",
        "      new_param = vec[pointer:pointer+param_len].reshape(param.shape)\n",
        "      param.data = new_param.data\n",
        "      pointer += param_len\n",
        "\n",
        "# A two layer residual network where the linear layers are sparse\n",
        "class SparseMLP(torch.nn.Module):\n",
        "  def __init__(self, input_size, output_size, hidden_size=100):\n",
        "    super(SparseMLP, self).__init__()\n",
        "    self.linear1 = SparseLinear(input_size, hidden_size)\n",
        "    self.linear2 = SparseLinear(hidden_size, hidden_size)\n",
        "    self.linear3 = SparseLinear(hidden_size, output_size)\n",
        "    self.layers = [self.linear1, self.linear2, self.linear3]\n",
        "\n",
        "  def forward(self, x):\n",
        "    h = torch.relu(self.linear1(x))\n",
        "    h = h + torch.relu(self.linear2(h))\n",
        "    h = self.linear3(h)\n",
        "    return h\n",
        "\n",
        "  def get_layer_masks(self):\n",
        "    return [l.mask for l in self.layers]\n",
        "\n",
        "  def set_layer_masks(self, new_masks):\n",
        "    for i, l in enumerate(self.layers):\n",
        "      l.update_mask(new_masks[i])\n",
        "\n",
        "  def get_layer_vecs(self):\n",
        "    return [l.param2vec() for l in self.layers]\n",
        "\n",
        "  def set_layer_vecs(self, vecs):\n",
        "    for i, l in enumerate(self.layers):\n",
        "      l.vec2param(vecs[i])"
      ],
      "execution_count": 107,
      "outputs": []
    },
    {
      "cell_type": "markdown",
      "metadata": {
        "id": "2hwmH2vIbHin"
      },
      "source": [
        "Now we need a routine that takes the weights from the model and returns a mask that identifies the positions with the lowest magnitude.  These will be the weights that we mask."
      ]
    },
    {
      "cell_type": "code",
      "metadata": {
        "id": "Md2F9WDgYSqT",
        "outputId": "dc34d9d9-4217-426a-cc6e-e0c4993b76a1",
        "colab": {
          "base_uri": "https://localhost:8080/"
        }
      },
      "source": [
        "# absolute weights -- absolute values of all the weights from the model in a long vector\n",
        "# percent_sparse: how much to sparsify the model\n",
        "def get_mask(absolute_weights, percent_sparse):\n",
        "  # TODO -- Write a function that returns a mask that has a zero\n",
        "  # everywhere for the lowest \"percent_sparse\" of the absolute weights.\n",
        "  # E.g. if absolute_weights contains [5,6,0,1,7] and we want percent_sparse of 40%,\n",
        "  # we would return [1,1,0,0,1]\n",
        "  # Remember that these are torch tensors and not numpy arrays\n",
        "  # Replace this function:\n",
        "  mask = torch.ones_like(absolute_weights)\n",
        "  num_to_zero = int(len(absolute_weights) * percent_sparse)\n",
        "  _, indices = torch.sort(absolute_weights, descending=False)\n",
        "  mask[indices[:num_to_zero]] = 0\n",
        "\n",
        "\n",
        "  return mask.to(device)\n",
        "\n",
        "# create example usage of function above\n",
        "test = torch.tensor([5,6,0,1,7])\n",
        "print(get_mask(test, 0.4))"
      ],
      "execution_count": 103,
      "outputs": [
        {
          "output_type": "stream",
          "name": "stdout",
          "text": [
            "tensor([1, 1, 0, 0, 1])\n"
          ]
        }
      ]
    },
    {
      "cell_type": "markdown",
      "metadata": {
        "id": "z0McGMV-a3Xo"
      },
      "source": [
        "## The prune-and-retrain cycle\n",
        "This is the core method for finding a lottery ticket. We train a model for a fixed number of epochs, prune it, and then re-train and re-prune. We repeat this cycle until we achieve the desired level of sparsity."
      ]
    },
    {
      "cell_type": "code",
      "metadata": {
        "id": "5idcbyA3Ylz_"
      },
      "source": [
        "def find_lottery_ticket(model, dataset, args, sparsity_schedule, criteria_fn=None, **kwargs):\n",
        "\n",
        "  criteria_fn = lambda init_params, final_params: final_params.abs()\n",
        "  init_params = model.get_layer_vecs()\n",
        "  stats = {'train_losses':[], 'test_losses':[], 'train_accs':[], 'test_accs':[]}\n",
        "  models = []\n",
        "  for i, percent_sparse in enumerate(sparsity_schedule):\n",
        "\n",
        "    # layer-wise pruning, where pruning heuristic is determined by criteria_fn\n",
        "    final_params = model.get_layer_vecs()\n",
        "    scores = [criteria_fn(ip, fp) for ip, fp in zip(init_params, final_params)]\n",
        "    masks = [get_mask(s, percent_sparse) for s in scores]\n",
        "\n",
        "    # update model with mask and init parameters\n",
        "    model.set_layer_vecs(init_params)\n",
        "    model.set_layer_masks(masks)\n",
        "\n",
        "    # training process\n",
        "    results = train_model(dataset, model, args)\n",
        "    model = results['checkpoints'][-1]\n",
        "\n",
        "    # store stats\n",
        "    stats['train_losses'].append(results['train_losses'])\n",
        "    stats['test_losses'].append(results['test_losses'])\n",
        "    stats['train_accs'].append(results['train_acc'])\n",
        "    stats['test_accs'].append(results['test_acc'])\n",
        "\n",
        "    # print progress\n",
        "    if (i+1) % 1 == 0:\n",
        "      print('\\tretrain #{}, sparsity {:.2f}, final_train_loss {:.3e}, max_acc {:.1f}, last_acc {:.1f}, mean_acc {:.1f}'\n",
        "            .format(i+1, percent_sparse, results['train_losses'][-1], np.max(results['test_acc']),\n",
        "            results['test_acc'][-1], np.mean(results['test_acc']) ))\n",
        "      models.append(copy.deepcopy(model))\n",
        "\n",
        "  stats = {k: np.stack(v) for k, v in stats.items()}\n",
        "  return models, stats"
      ],
      "execution_count": 114,
      "outputs": []
    },
    {
      "cell_type": "markdown",
      "metadata": {
        "id": "m4lokvdD4DKI"
      },
      "source": [
        "## Choose hyperparameters"
      ]
    },
    {
      "cell_type": "code",
      "metadata": {
        "id": "OUe7-b-7Yl2c"
      },
      "source": [
        "# train settings\n",
        "from train import get_model_args, train_model\n",
        "model_args = get_model_args()\n",
        "model_args.total_steps = 1501\n",
        "model_args.hidden_size = 500\n",
        "model_args.print_every = 5000 # print never\n",
        "model_args.eval_every = 100\n",
        "model_args.learning_rate = 2e-2\n",
        "model_args.device = str('cpu')"
      ],
      "execution_count": 109,
      "outputs": []
    },
    {
      "cell_type": "markdown",
      "metadata": {
        "id": "hVgDM5rI4J65"
      },
      "source": [
        "Find the lottery ticket by repeatedly training and then pruning weights based on their magnitudes. We'll remove 1% of the weights each time. This is going to take half an hour or so.  Go and have lunch or whatever."
      ]
    },
    {
      "cell_type": "code",
      "source": [
        "# sparsity settings - we will train 100 models with progressively increasing sparsity\n",
        "num_retrains = 100\n",
        "sparsity_schedule = np.linspace(0,1.,num_retrains)\n",
        "\n",
        "print(\"Magnitude pruning\")\n",
        "mnist1d.set_seed(model_args.seed)\n",
        "model = SparseMLP(model_args.input_size, model_args.output_size, hidden_size=model_args.hidden_size)\n",
        "\n",
        "criteria_fn = lambda init_params, final_params: final_params.abs()\n",
        "lott_models, lott_stats = find_lottery_ticket(model, data, model_args, sparsity_schedule, criteria_fn=criteria_fn, prune_print_every=1)"
      ],
      "metadata": {
        "id": "M25YpCuS1Gn0",
        "outputId": "600c1c1f-cae0-44da-b1f2-3e3c76558d61",
        "colab": {
          "base_uri": "https://localhost:8080/"
        }
      },
      "execution_count": 115,
      "outputs": [
        {
          "output_type": "stream",
          "name": "stdout",
          "text": [
            "Magnitude pruning\n",
            "\tretrain #1, sparsity 0.00, final_train_loss 1.955e-01, max_acc 64.9, last_acc 64.7, mean_acc 57.2\n",
            "\tretrain #2, sparsity 0.01, final_train_loss 7.165e-02, max_acc 67.2, last_acc 67.2, mean_acc 57.9\n",
            "\tretrain #3, sparsity 0.02, final_train_loss 2.654e-01, max_acc 64.5, last_acc 64.5, mean_acc 57.8\n",
            "\tretrain #4, sparsity 0.03, final_train_loss 3.578e-01, max_acc 65.1, last_acc 65.1, mean_acc 57.7\n",
            "\tretrain #5, sparsity 0.04, final_train_loss 8.773e-02, max_acc 66.9, last_acc 62.2, mean_acc 57.8\n",
            "\tretrain #6, sparsity 0.05, final_train_loss 2.789e-01, max_acc 65.6, last_acc 63.6, mean_acc 58.3\n",
            "\tretrain #7, sparsity 0.06, final_train_loss 2.821e-01, max_acc 66.8, last_acc 64.7, mean_acc 58.9\n",
            "\tretrain #8, sparsity 0.07, final_train_loss 4.976e-01, max_acc 64.8, last_acc 64.6, mean_acc 58.2\n",
            "\tretrain #9, sparsity 0.08, final_train_loss 1.664e-01, max_acc 65.5, last_acc 64.4, mean_acc 58.4\n",
            "\tretrain #10, sparsity 0.09, final_train_loss 1.415e-01, max_acc 65.6, last_acc 64.8, mean_acc 58.2\n",
            "\tretrain #11, sparsity 0.10, final_train_loss 9.550e-02, max_acc 65.3, last_acc 64.8, mean_acc 58.1\n",
            "\tretrain #12, sparsity 0.11, final_train_loss 3.588e-01, max_acc 64.7, last_acc 63.5, mean_acc 58.0\n",
            "\tretrain #13, sparsity 0.12, final_train_loss 2.394e-01, max_acc 65.8, last_acc 64.5, mean_acc 58.9\n",
            "\tretrain #14, sparsity 0.13, final_train_loss 1.291e-01, max_acc 65.5, last_acc 65.5, mean_acc 58.3\n",
            "\tretrain #15, sparsity 0.14, final_train_loss 5.005e-02, max_acc 67.3, last_acc 67.3, mean_acc 59.4\n",
            "\tretrain #16, sparsity 0.15, final_train_loss 1.193e-01, max_acc 64.5, last_acc 62.9, mean_acc 58.2\n",
            "\tretrain #17, sparsity 0.16, final_train_loss 2.602e-01, max_acc 66.7, last_acc 66.7, mean_acc 59.1\n",
            "\tretrain #18, sparsity 0.17, final_train_loss 7.382e-02, max_acc 66.2, last_acc 66.2, mean_acc 59.2\n",
            "\tretrain #19, sparsity 0.18, final_train_loss 2.404e-01, max_acc 66.1, last_acc 65.2, mean_acc 59.8\n",
            "\tretrain #20, sparsity 0.19, final_train_loss 9.602e-02, max_acc 66.6, last_acc 63.9, mean_acc 59.4\n",
            "\tretrain #21, sparsity 0.20, final_train_loss 2.171e-01, max_acc 66.6, last_acc 64.9, mean_acc 59.3\n",
            "\tretrain #22, sparsity 0.21, final_train_loss 3.677e-02, max_acc 66.3, last_acc 66.0, mean_acc 59.6\n",
            "\tretrain #23, sparsity 0.22, final_train_loss 1.131e-01, max_acc 65.4, last_acc 64.9, mean_acc 59.4\n",
            "\tretrain #24, sparsity 0.23, final_train_loss 2.985e-01, max_acc 66.0, last_acc 66.0, mean_acc 59.5\n",
            "\tretrain #25, sparsity 0.24, final_train_loss 1.383e-01, max_acc 65.3, last_acc 65.0, mean_acc 59.5\n",
            "\tretrain #26, sparsity 0.25, final_train_loss 3.438e-01, max_acc 65.5, last_acc 64.8, mean_acc 59.6\n",
            "\tretrain #27, sparsity 0.26, final_train_loss 1.262e-01, max_acc 67.3, last_acc 63.6, mean_acc 59.6\n",
            "\tretrain #28, sparsity 0.27, final_train_loss 1.186e-01, max_acc 66.6, last_acc 64.3, mean_acc 60.1\n",
            "\tretrain #29, sparsity 0.28, final_train_loss 1.665e-02, max_acc 67.5, last_acc 66.5, mean_acc 60.8\n",
            "\tretrain #30, sparsity 0.29, final_train_loss 2.885e-01, max_acc 68.2, last_acc 66.6, mean_acc 60.2\n",
            "\tretrain #31, sparsity 0.30, final_train_loss 1.722e-01, max_acc 69.2, last_acc 64.9, mean_acc 61.2\n",
            "\tretrain #32, sparsity 0.31, final_train_loss 2.550e-01, max_acc 67.1, last_acc 65.6, mean_acc 60.5\n",
            "\tretrain #33, sparsity 0.32, final_train_loss 1.780e-01, max_acc 65.9, last_acc 65.7, mean_acc 60.1\n",
            "\tretrain #34, sparsity 0.33, final_train_loss 1.502e-01, max_acc 67.2, last_acc 64.2, mean_acc 60.0\n",
            "\tretrain #35, sparsity 0.34, final_train_loss 1.746e-01, max_acc 67.0, last_acc 65.9, mean_acc 60.2\n",
            "\tretrain #36, sparsity 0.35, final_train_loss 7.186e-02, max_acc 67.3, last_acc 65.6, mean_acc 60.4\n",
            "\tretrain #37, sparsity 0.36, final_train_loss 5.580e-02, max_acc 67.6, last_acc 67.4, mean_acc 60.9\n",
            "\tretrain #38, sparsity 0.37, final_train_loss 8.116e-02, max_acc 66.6, last_acc 66.6, mean_acc 60.6\n",
            "\tretrain #39, sparsity 0.38, final_train_loss 1.263e-01, max_acc 67.1, last_acc 67.1, mean_acc 60.3\n",
            "\tretrain #40, sparsity 0.39, final_train_loss 5.414e-02, max_acc 67.8, last_acc 65.7, mean_acc 60.9\n",
            "\tretrain #41, sparsity 0.40, final_train_loss 7.719e-02, max_acc 67.3, last_acc 67.3, mean_acc 61.3\n",
            "\tretrain #42, sparsity 0.41, final_train_loss 3.298e-01, max_acc 68.6, last_acc 66.4, mean_acc 61.5\n",
            "\tretrain #43, sparsity 0.42, final_train_loss 1.818e-01, max_acc 68.3, last_acc 68.3, mean_acc 62.0\n",
            "\tretrain #44, sparsity 0.43, final_train_loss 4.343e-01, max_acc 68.8, last_acc 64.8, mean_acc 62.0\n",
            "\tretrain #45, sparsity 0.44, final_train_loss 1.006e-01, max_acc 68.9, last_acc 66.6, mean_acc 61.8\n",
            "\tretrain #46, sparsity 0.45, final_train_loss 7.954e-02, max_acc 68.6, last_acc 67.0, mean_acc 61.3\n",
            "\tretrain #47, sparsity 0.46, final_train_loss 1.097e-01, max_acc 68.2, last_acc 68.0, mean_acc 62.2\n",
            "\tretrain #48, sparsity 0.47, final_train_loss 2.943e-01, max_acc 66.5, last_acc 66.5, mean_acc 61.2\n",
            "\tretrain #49, sparsity 0.48, final_train_loss 4.299e-01, max_acc 67.9, last_acc 65.2, mean_acc 61.4\n",
            "\tretrain #50, sparsity 0.49, final_train_loss 5.976e-02, max_acc 69.0, last_acc 68.3, mean_acc 62.4\n",
            "\tretrain #51, sparsity 0.51, final_train_loss 7.852e-02, max_acc 68.2, last_acc 68.2, mean_acc 61.8\n",
            "\tretrain #52, sparsity 0.52, final_train_loss 1.817e-01, max_acc 69.6, last_acc 69.6, mean_acc 61.9\n",
            "\tretrain #53, sparsity 0.53, final_train_loss 1.286e-01, max_acc 67.9, last_acc 67.9, mean_acc 62.3\n",
            "\tretrain #54, sparsity 0.54, final_train_loss 6.924e-02, max_acc 69.6, last_acc 67.4, mean_acc 62.9\n",
            "\tretrain #55, sparsity 0.55, final_train_loss 1.033e-01, max_acc 68.8, last_acc 67.8, mean_acc 63.0\n",
            "\tretrain #56, sparsity 0.56, final_train_loss 1.194e-01, max_acc 70.3, last_acc 70.3, mean_acc 63.5\n",
            "\tretrain #57, sparsity 0.57, final_train_loss 8.805e-02, max_acc 70.5, last_acc 67.1, mean_acc 62.9\n",
            "\tretrain #58, sparsity 0.58, final_train_loss 1.692e-01, max_acc 71.0, last_acc 68.7, mean_acc 63.4\n",
            "\tretrain #59, sparsity 0.59, final_train_loss 1.651e-01, max_acc 70.2, last_acc 68.0, mean_acc 63.2\n",
            "\tretrain #60, sparsity 0.60, final_train_loss 1.126e-01, max_acc 69.6, last_acc 65.2, mean_acc 62.9\n",
            "\tretrain #61, sparsity 0.61, final_train_loss 2.886e-01, max_acc 69.8, last_acc 68.6, mean_acc 63.3\n",
            "\tretrain #62, sparsity 0.62, final_train_loss 5.700e-02, max_acc 69.2, last_acc 67.8, mean_acc 63.0\n",
            "\tretrain #63, sparsity 0.63, final_train_loss 2.234e-01, max_acc 70.0, last_acc 68.0, mean_acc 63.0\n",
            "\tretrain #64, sparsity 0.64, final_train_loss 2.009e-01, max_acc 69.6, last_acc 68.1, mean_acc 62.9\n",
            "\tretrain #65, sparsity 0.65, final_train_loss 5.584e-02, max_acc 70.8, last_acc 70.8, mean_acc 63.2\n",
            "\tretrain #66, sparsity 0.66, final_train_loss 2.261e-02, max_acc 71.0, last_acc 68.9, mean_acc 63.6\n",
            "\tretrain #67, sparsity 0.67, final_train_loss 1.891e-01, max_acc 71.2, last_acc 68.2, mean_acc 64.1\n",
            "\tretrain #68, sparsity 0.68, final_train_loss 1.217e-01, max_acc 71.2, last_acc 68.4, mean_acc 64.5\n",
            "\tretrain #69, sparsity 0.69, final_train_loss 1.893e-01, max_acc 68.3, last_acc 67.2, mean_acc 62.2\n",
            "\tretrain #70, sparsity 0.70, final_train_loss 1.386e-01, max_acc 71.3, last_acc 69.4, mean_acc 64.5\n",
            "\tretrain #71, sparsity 0.71, final_train_loss 9.244e-04, max_acc 72.0, last_acc 71.5, mean_acc 64.0\n",
            "\tretrain #72, sparsity 0.72, final_train_loss 9.904e-03, max_acc 72.3, last_acc 71.4, mean_acc 64.6\n",
            "\tretrain #73, sparsity 0.73, final_train_loss 8.940e-02, max_acc 71.4, last_acc 71.0, mean_acc 65.1\n",
            "\tretrain #74, sparsity 0.74, final_train_loss 8.598e-02, max_acc 70.9, last_acc 70.0, mean_acc 64.3\n",
            "\tretrain #75, sparsity 0.75, final_train_loss 1.027e-01, max_acc 70.9, last_acc 68.7, mean_acc 64.3\n",
            "\tretrain #76, sparsity 0.76, final_train_loss 3.813e-02, max_acc 70.7, last_acc 70.6, mean_acc 64.8\n",
            "\tretrain #77, sparsity 0.77, final_train_loss 7.595e-02, max_acc 71.8, last_acc 71.7, mean_acc 65.3\n",
            "\tretrain #78, sparsity 0.78, final_train_loss 4.005e-02, max_acc 70.7, last_acc 68.8, mean_acc 64.5\n",
            "\tretrain #79, sparsity 0.79, final_train_loss 9.460e-02, max_acc 72.9, last_acc 71.2, mean_acc 65.3\n",
            "\tretrain #80, sparsity 0.80, final_train_loss 2.337e-02, max_acc 73.5, last_acc 73.5, mean_acc 66.2\n",
            "\tretrain #81, sparsity 0.81, final_train_loss 7.048e-02, max_acc 73.4, last_acc 73.4, mean_acc 67.0\n",
            "\tretrain #82, sparsity 0.82, final_train_loss 2.594e-02, max_acc 72.1, last_acc 72.1, mean_acc 66.6\n",
            "\tretrain #83, sparsity 0.83, final_train_loss 3.806e-01, max_acc 72.8, last_acc 68.4, mean_acc 66.0\n",
            "\tretrain #84, sparsity 0.84, final_train_loss 1.831e-02, max_acc 75.3, last_acc 75.3, mean_acc 67.9\n",
            "\tretrain #85, sparsity 0.85, final_train_loss 1.343e-02, max_acc 72.2, last_acc 72.2, mean_acc 66.5\n",
            "\tretrain #86, sparsity 0.86, final_train_loss 1.829e-02, max_acc 72.1, last_acc 72.1, mean_acc 66.5\n",
            "\tretrain #87, sparsity 0.87, final_train_loss 5.096e-02, max_acc 75.1, last_acc 73.3, mean_acc 67.6\n",
            "\tretrain #88, sparsity 0.88, final_train_loss 8.437e-02, max_acc 74.2, last_acc 72.3, mean_acc 66.9\n",
            "\tretrain #89, sparsity 0.89, final_train_loss 1.811e-01, max_acc 72.8, last_acc 72.1, mean_acc 66.4\n",
            "\tretrain #90, sparsity 0.90, final_train_loss 1.693e-02, max_acc 74.4, last_acc 74.4, mean_acc 66.9\n",
            "\tretrain #91, sparsity 0.91, final_train_loss 1.371e-02, max_acc 74.1, last_acc 74.1, mean_acc 67.6\n",
            "\tretrain #92, sparsity 0.92, final_train_loss 1.673e-01, max_acc 73.7, last_acc 71.6, mean_acc 67.0\n",
            "\tretrain #93, sparsity 0.93, final_train_loss 1.661e-01, max_acc 73.4, last_acc 71.1, mean_acc 67.1\n",
            "\tretrain #94, sparsity 0.94, final_train_loss 3.608e-02, max_acc 71.3, last_acc 70.3, mean_acc 66.0\n",
            "\tretrain #95, sparsity 0.95, final_train_loss 5.786e-02, max_acc 71.6, last_acc 71.6, mean_acc 66.0\n",
            "\tretrain #96, sparsity 0.96, final_train_loss 8.453e-02, max_acc 71.9, last_acc 71.4, mean_acc 65.3\n",
            "\tretrain #97, sparsity 0.97, final_train_loss 2.740e-01, max_acc 69.9, last_acc 67.4, mean_acc 62.3\n",
            "\tretrain #98, sparsity 0.98, final_train_loss 6.282e-01, max_acc 62.9, last_acc 62.6, mean_acc 56.4\n",
            "\tretrain #99, sparsity 0.99, final_train_loss 1.469e+00, max_acc 39.9, last_acc 39.3, mean_acc 35.8\n",
            "\tretrain #100, sparsity 1.00, final_train_loss 2.303e+00, max_acc 10.2, last_acc 10.2, mean_acc 10.2\n"
          ]
        }
      ]
    },
    {
      "cell_type": "code",
      "source": [
        "test_losses = lott_stats['test_losses'][:,-1]\n",
        "test_accs = lott_stats['test_accs'][:,-1]\n",
        "\n",
        "fig,ax = plt.subplots()\n",
        "ax.plot(sparsity_schedule, test_losses,'r-')\n",
        "ax.plot((sparsity_schedule[0], sparsity_schedule[-1]),(test_losses[0], test_losses[0]),'k--',label='dense')\n",
        "ax.set_xlabel('Sparsity')\n",
        "ax.set_ylabel('Loss')\n",
        "ax.set_xlim(0,1)\n",
        "ax.legend()\n",
        "plt.show()\n",
        "\n",
        "fig,ax = plt.subplots()\n",
        "ax.plot(sparsity_schedule, 100-test_accs,'r-')\n",
        "ax.plot((sparsity_schedule[0], sparsity_schedule[-1]),(100-test_accs[0], 100-test_accs[0]),'k--',label='dense')\n",
        "ax.set_xlabel('Sparsity')\n",
        "ax.set_ylabel('Percent Error')\n",
        "ax.set_xlim(0,1)\n",
        "ax.set_ylim(0,100)\n",
        "ax.legend()\n",
        "plt.show()\n"
      ],
      "metadata": {
        "id": "TCs-kt6-3xHB",
        "outputId": "2289e766-71dc-43c2-f9a0-bd027f5625a5",
        "colab": {
          "base_uri": "https://localhost:8080/",
          "height": 890
        }
      },
      "execution_count": 116,
      "outputs": [
        {
          "output_type": "display_data",
          "data": {
            "text/plain": [
              "<Figure size 640x480 with 1 Axes>"
            ],
            "image/png": "[encoded data removed]"
          },
          "metadata": {}
        },
        {
          "output_type": "display_data",
          "data": {
            "text/plain": [
              "<Figure size 640x480 with 1 Axes>"
            ],
            "image/png": "[encoded data removed]"
          },
          "metadata": {}
        }
      ]
    },
    {
      "cell_type": "markdown",
      "source": [
        "You should see that the test loss decreases and the errors decrease with more as the network gets sparser.  The dashed line represents the original dense (unpruned) network.  We have identified a simpler network that was \"inside\" the original network for which the results are superior.  Of course if we make it too sparse, then it gets worse again.\n",
        "\n",
        "This phenomenon is explored much further in the original notebook by Sam Greydanus which can be found [here](https://github.com/greydanus/mnist1d)."
      ],
      "metadata": {
        "id": "CEj5_ZEHcRpw"
      }
    }
  ]
}