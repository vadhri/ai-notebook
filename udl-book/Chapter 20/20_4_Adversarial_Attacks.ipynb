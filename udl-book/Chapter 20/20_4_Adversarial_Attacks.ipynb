{
  "nbformat": 4,
  "nbformat_minor": 0,
  "metadata": {
    "colab": {
      "provenance": [],
      "include_colab_link": true
    },
    "kernelspec": {
      "name": "python3",
      "display_name": "Python 3"
    },
    "language_info": {
      "name": "python"
    }
  },
  "cells": [
    {
      "cell_type": "markdown",
      "metadata": {
        "id": "view-in-github",
        "colab_type": "text"
      },
      "source": [
        "<a href=\"https://colab.research.google.com/github/vadhri/ai-notebook/blob/main/udl-book/Chapter%2020/20_4_Adversarial_Attacks.ipynb\" target=\"_parent\"><img src=\"https://colab.research.google.com/assets/colab-badge.svg\" alt=\"Open In Colab\"/></a>"
      ]
    },
    {
      "cell_type": "markdown",
      "source": [
        "# **Notebook 20.4: Adversarial attacks**\n",
        "\n",
        "This notebook builds uses the network for classification of MNIST from Notebook 10.5.  The code is adapted from https://nextjournal.com/gkoehler/pytorch-mnist, and uses the fast gradient sign attack of [Goodfellow et al. (2015)](https://arxiv.org/abs/1412.6572).  Having trained, the network, we search for adversarial examples -- inputs which look very similar to class A, but are mistakenly classified as class B.  We do this by starting with a correctly classified example and perturbing it according to the gradients of the network so that the output changes.\n",
        "\n",
        "Work through the cells below, running each cell in turn. In various places you will see the words \"TO DO\". Follow the instructions at these places and make predictions about what is going to happen or write code to complete the functions.\n",
        "\n",
        "Contact me at udlbookmail@gmail.com if you find any mistakes or have any suggestions.\n"
      ],
      "metadata": {
        "id": "t9vk9Elugvmi"
      }
    },
    {
      "cell_type": "code",
      "source": [
        "import torch\n",
        "import torchvision\n",
        "import torch.nn as nn\n",
        "import torch.nn.functional as F\n",
        "import torch.optim as optim\n",
        "import matplotlib.pyplot as plt\n",
        "import random"
      ],
      "metadata": {
        "id": "YrXWAH7sUWvU"
      },
      "execution_count": 1,
      "outputs": []
    },
    {
      "cell_type": "code",
      "source": [
        "# Run this once to load the train and test data straight into a dataloader class\n",
        "# that will provide the batches\n",
        "batch_size_train = 64\n",
        "batch_size_test = 1000\n",
        "train_loader = torch.utils.data.DataLoader(\n",
        "  torchvision.datasets.MNIST('/files/', train=True, download=True,\n",
        "                             transform=torchvision.transforms.Compose([\n",
        "                               torchvision.transforms.ToTensor(),\n",
        "                               torchvision.transforms.Normalize(\n",
        "                                 (0.1307,), (0.3081,))\n",
        "                             ])),\n",
        "  batch_size=batch_size_train, shuffle=True)\n",
        "\n",
        "test_loader = torch.utils.data.DataLoader(\n",
        "  torchvision.datasets.MNIST('/files/', train=False, download=True,\n",
        "                             transform=torchvision.transforms.Compose([\n",
        "                               torchvision.transforms.ToTensor(),\n",
        "                               torchvision.transforms.Normalize(\n",
        "                                 (0.1307,), (0.3081,))\n",
        "                             ])),\n",
        "  batch_size=batch_size_test, shuffle=True)"
      ],
      "metadata": {
        "id": "wScBGXXFVadm",
        "outputId": "2c446984-0a0d-414b-e6f6-de6c221c5a89",
        "colab": {
          "base_uri": "https://localhost:8080/"
        }
      },
      "execution_count": 2,
      "outputs": [
        {
          "output_type": "stream",
          "name": "stdout",
          "text": [
            "Downloading http://yann.lecun.com/exdb/mnist/train-images-idx3-ubyte.gz\n",
            "Failed to download (trying next):\n",
            "HTTP Error 403: Forbidden\n",
            "\n",
            "Downloading https://ossci-datasets.s3.amazonaws.com/mnist/train-images-idx3-ubyte.gz\n",
            "Downloading https://ossci-datasets.s3.amazonaws.com/mnist/train-images-idx3-ubyte.gz to /files/MNIST/raw/train-images-idx3-ubyte.gz\n"
          ]
        },
        {
          "output_type": "stream",
          "name": "stderr",
          "text": [
            "100%|██████████| 9912422/9912422 [00:00<00:00, 11610810.41it/s]\n"
          ]
        },
        {
          "output_type": "stream",
          "name": "stdout",
          "text": [
            "Extracting /files/MNIST/raw/train-images-idx3-ubyte.gz to /files/MNIST/raw\n",
            "\n",
            "Downloading http://yann.lecun.com/exdb/mnist/train-labels-idx1-ubyte.gz\n",
            "Failed to download (trying next):\n",
            "HTTP Error 403: Forbidden\n",
            "\n",
            "Downloading https://ossci-datasets.s3.amazonaws.com/mnist/train-labels-idx1-ubyte.gz\n",
            "Downloading https://ossci-datasets.s3.amazonaws.com/mnist/train-labels-idx1-ubyte.gz to /files/MNIST/raw/train-labels-idx1-ubyte.gz\n"
          ]
        },
        {
          "output_type": "stream",
          "name": "stderr",
          "text": [
            "100%|██████████| 28881/28881 [00:00<00:00, 354392.75it/s]\n"
          ]
        },
        {
          "output_type": "stream",
          "name": "stdout",
          "text": [
            "Extracting /files/MNIST/raw/train-labels-idx1-ubyte.gz to /files/MNIST/raw\n",
            "\n",
            "Downloading http://yann.lecun.com/exdb/mnist/t10k-images-idx3-ubyte.gz\n",
            "Failed to download (trying next):\n",
            "HTTP Error 403: Forbidden\n",
            "\n",
            "Downloading https://ossci-datasets.s3.amazonaws.com/mnist/t10k-images-idx3-ubyte.gz\n",
            "Downloading https://ossci-datasets.s3.amazonaws.com/mnist/t10k-images-idx3-ubyte.gz to /files/MNIST/raw/t10k-images-idx3-ubyte.gz\n"
          ]
        },
        {
          "output_type": "stream",
          "name": "stderr",
          "text": [
            "100%|██████████| 1648877/1648877 [00:00<00:00, 3209129.08it/s]\n"
          ]
        },
        {
          "output_type": "stream",
          "name": "stdout",
          "text": [
            "Extracting /files/MNIST/raw/t10k-images-idx3-ubyte.gz to /files/MNIST/raw\n",
            "\n",
            "Downloading http://yann.lecun.com/exdb/mnist/t10k-labels-idx1-ubyte.gz\n",
            "Failed to download (trying next):\n",
            "HTTP Error 403: Forbidden\n",
            "\n",
            "Downloading https://ossci-datasets.s3.amazonaws.com/mnist/t10k-labels-idx1-ubyte.gz\n",
            "Downloading https://ossci-datasets.s3.amazonaws.com/mnist/t10k-labels-idx1-ubyte.gz to /files/MNIST/raw/t10k-labels-idx1-ubyte.gz\n"
          ]
        },
        {
          "output_type": "stream",
          "name": "stderr",
          "text": [
            "100%|██████████| 4542/4542 [00:00<00:00, 7361100.76it/s]\n"
          ]
        },
        {
          "output_type": "stream",
          "name": "stdout",
          "text": [
            "Extracting /files/MNIST/raw/t10k-labels-idx1-ubyte.gz to /files/MNIST/raw\n",
            "\n"
          ]
        }
      ]
    },
    {
      "cell_type": "code",
      "source": [
        "# Let's draw some of the training data\n",
        "examples = enumerate(test_loader)\n",
        "batch_idx, (example_data, example_targets) = next(examples)\n",
        "\n",
        "fig = plt.figure()\n",
        "for i in range(6):\n",
        "  plt.subplot(2,3,i+1)\n",
        "  plt.tight_layout()\n",
        "  plt.imshow(example_data[i][0], cmap='gray', interpolation='none')\n",
        "  plt.title(\"Ground Truth: {}\".format(example_targets[i]))\n",
        "  plt.xticks([])\n",
        "  plt.yticks([])\n",
        "plt.show()"
      ],
      "metadata": {
        "id": "8bKADvLHbiV5",
        "outputId": "866f39be-f332-45a4-bd13-c7d6e57cc2a5",
        "colab": {
          "base_uri": "https://localhost:8080/",
          "height": 438
        }
      },
      "execution_count": 3,
      "outputs": [
        {
          "output_type": "display_data",
          "data": {
            "text/plain": [
              "<Figure size 640x480 with 6 Axes>"
            ],
            "image/png": "[encoded data removed]"
          },
          "metadata": {}
        }
      ]
    },
    {
      "cell_type": "markdown",
      "source": [
        "Define the network.  This is a more typical way to define a network than the sequential structure.  We define a class for the network, and define the parameters in the constructor.  Then we use a function called forward to actually run the network.  It's easy to see how you might use residual connections in this format."
      ],
      "metadata": {
        "id": "_sFvRDGrl4qe"
      }
    },
    {
      "cell_type": "code",
      "source": [
        "from os import X_OK\n",
        "\n",
        "class Net(nn.Module):\n",
        "    def __init__(self):\n",
        "        super(Net, self).__init__()\n",
        "        self.conv1 = nn.Conv2d(1, 10, kernel_size=5)\n",
        "        self.conv2 = nn.Conv2d(10, 20, kernel_size=5)\n",
        "        self.drop = nn.Dropout2d()\n",
        "        self.fc1 = nn.Linear(320, 50)\n",
        "        self.fc2 = nn.Linear(50, 10)\n",
        "\n",
        "    def forward(self, x):\n",
        "        x = self.conv1(x)\n",
        "        x = F.max_pool2d(x,2)\n",
        "        x = F.relu(x)\n",
        "        x = self.conv2(x)\n",
        "        x = self.drop(x)\n",
        "        x = F.max_pool2d(x,2)\n",
        "        x = F.relu(x)\n",
        "        x = x.flatten(1)\n",
        "        x = F.relu(self.fc1(x))\n",
        "        x = self.fc2(x)\n",
        "        x = F.log_softmax(x)\n",
        "        return x"
      ],
      "metadata": {
        "id": "EQkvw2KOPVl7"
      },
      "execution_count": 4,
      "outputs": []
    },
    {
      "cell_type": "code",
      "source": [
        "# He initialization of weights\n",
        "def weights_init(layer_in):\n",
        "  if isinstance(layer_in, nn.Linear):\n",
        "    nn.init.kaiming_uniform_(layer_in.weight)\n",
        "    layer_in.bias.data.fill_(0.0)"
      ],
      "metadata": {
        "id": "qWZtkCZcU_dg"
      },
      "execution_count": 5,
      "outputs": []
    },
    {
      "cell_type": "code",
      "source": [
        "# Create network\n",
        "model = Net()\n",
        "# Initialize model weights\n",
        "model.apply(weights_init)\n",
        "# Define optimizer\n",
        "optimizer = optim.SGD(model.parameters(), lr=0.01, momentum=0.5)"
      ],
      "metadata": {
        "id": "FslroPJJffrh"
      },
      "execution_count": 6,
      "outputs": []
    },
    {
      "cell_type": "code",
      "source": [
        "# Main training routine\n",
        "def train(epoch):\n",
        "  model.train()\n",
        "  # Get each\n",
        "  for batch_idx, (data, target) in enumerate(train_loader):\n",
        "    optimizer.zero_grad()\n",
        "    output = model(data)\n",
        "    loss = F.nll_loss(output, target)\n",
        "    loss.backward()\n",
        "    optimizer.step()\n",
        "    # Store results\n",
        "    if batch_idx % 10 == 0:\n",
        "      print('Train Epoch: {} [{}/{}]\\tLoss: {:.6f}'.format(\n",
        "        epoch, batch_idx * len(data), len(train_loader.dataset), loss.item()))"
      ],
      "metadata": {
        "id": "xKQd9PzkQ766"
      },
      "execution_count": 7,
      "outputs": []
    },
    {
      "cell_type": "code",
      "source": [
        "# Run on test data\n",
        "def test():\n",
        "  model.eval()\n",
        "  test_loss = 0\n",
        "  correct = 0\n",
        "  with torch.no_grad():\n",
        "    for data, target in test_loader:\n",
        "      output = model(data)\n",
        "      test_loss += F.nll_loss(output, target, size_average=False).item()\n",
        "      pred = output.data.max(1, keepdim=True)[1]\n",
        "      correct += pred.eq(target.data.view_as(pred)).sum()\n",
        "  test_loss /= len(test_loader.dataset)\n",
        "  print('\\nTest set: Avg. loss: {:.4f}, Accuracy: {}/{} ({:.0f}%)\\n'.format(\n",
        "    test_loss, correct, len(test_loader.dataset),\n",
        "    100. * correct / len(test_loader.dataset)))"
      ],
      "metadata": {
        "id": "Byn-f7qWRLxX"
      },
      "execution_count": 8,
      "outputs": []
    },
    {
      "cell_type": "code",
      "source": [
        "# Get initial performance\n",
        "test()\n",
        "# Train for three epochs\n",
        "n_epochs = 3\n",
        "for epoch in range(1, n_epochs + 1):\n",
        "  train(epoch)\n",
        "  test()"
      ],
      "metadata": {
        "id": "YgLaex1pfhqz",
        "outputId": "22b0c2e1-788d-4a2e-8583-8ed6a6cc7d26",
        "colab": {
          "base_uri": "https://localhost:8080/"
        }
      },
      "execution_count": 9,
      "outputs": [
        {
          "output_type": "stream",
          "name": "stderr",
          "text": [
            "<ipython-input-4-44c2b231bb59>:23: UserWarning: Implicit dimension choice for log_softmax has been deprecated. Change the call to include dim=X as an argument.\n",
            "  x = F.log_softmax(x)\n",
            "/usr/local/lib/python3.10/dist-packages/torch/nn/_reduction.py:42: UserWarning: size_average and reduce args will be deprecated, please use reduction='sum' instead.\n",
            "  warnings.warn(warning.format(ret))\n"
          ]
        },
        {
          "output_type": "stream",
          "name": "stdout",
          "text": [
            "\n",
            "Test set: Avg. loss: 2.3752, Accuracy: 1013/10000 (10%)\n",
            "\n",
            "Train Epoch: 1 [0/60000]\tLoss: 2.469849\n",
            "Train Epoch: 1 [640/60000]\tLoss: 2.283326\n",
            "Train Epoch: 1 [1280/60000]\tLoss: 2.217646\n",
            "Train Epoch: 1 [1920/60000]\tLoss: 2.124671\n",
            "Train Epoch: 1 [2560/60000]\tLoss: 2.021610\n",
            "Train Epoch: 1 [3200/60000]\tLoss: 1.910098\n",
            "Train Epoch: 1 [3840/60000]\tLoss: 1.659852\n",
            "Train Epoch: 1 [4480/60000]\tLoss: 1.478240\n",
            "Train Epoch: 1 [5120/60000]\tLoss: 1.237303\n",
            "Train Epoch: 1 [5760/60000]\tLoss: 1.195786\n",
            "Train Epoch: 1 [6400/60000]\tLoss: 1.118826\n",
            "Train Epoch: 1 [7040/60000]\tLoss: 1.007379\n",
            "Train Epoch: 1 [7680/60000]\tLoss: 1.223586\n",
            "Train Epoch: 1 [8320/60000]\tLoss: 0.734254\n",
            "Train Epoch: 1 [8960/60000]\tLoss: 1.016466\n",
            "Train Epoch: 1 [9600/60000]\tLoss: 0.749474\n",
            "Train Epoch: 1 [10240/60000]\tLoss: 0.685178\n",
            "Train Epoch: 1 [10880/60000]\tLoss: 0.677596\n",
            "Train Epoch: 1 [11520/60000]\tLoss: 0.600323\n",
            "Train Epoch: 1 [12160/60000]\tLoss: 0.729888\n",
            "Train Epoch: 1 [12800/60000]\tLoss: 0.409651\n",
            "Train Epoch: 1 [13440/60000]\tLoss: 0.578669\n",
            "Train Epoch: 1 [14080/60000]\tLoss: 0.369841\n",
            "Train Epoch: 1 [14720/60000]\tLoss: 0.496171\n",
            "Train Epoch: 1 [15360/60000]\tLoss: 0.453511\n",
            "Train Epoch: 1 [16000/60000]\tLoss: 0.503475\n",
            "Train Epoch: 1 [16640/60000]\tLoss: 0.710484\n",
            "Train Epoch: 1 [17280/60000]\tLoss: 0.579645\n",
            "Train Epoch: 1 [17920/60000]\tLoss: 0.430559\n",
            "Train Epoch: 1 [18560/60000]\tLoss: 0.365656\n",
            "Train Epoch: 1 [19200/60000]\tLoss: 0.295755\n",
            "Train Epoch: 1 [19840/60000]\tLoss: 0.463131\n",
            "Train Epoch: 1 [20480/60000]\tLoss: 0.517078\n",
            "Train Epoch: 1 [21120/60000]\tLoss: 0.517248\n",
            "Train Epoch: 1 [21760/60000]\tLoss: 0.449644\n",
            "Train Epoch: 1 [22400/60000]\tLoss: 0.443957\n",
            "Train Epoch: 1 [23040/60000]\tLoss: 0.458694\n",
            "Train Epoch: 1 [23680/60000]\tLoss: 0.289109\n",
            "Train Epoch: 1 [24320/60000]\tLoss: 0.383779\n",
            "Train Epoch: 1 [24960/60000]\tLoss: 0.385593\n",
            "Train Epoch: 1 [25600/60000]\tLoss: 0.205328\n",
            "Train Epoch: 1 [26240/60000]\tLoss: 0.309112\n",
            "Train Epoch: 1 [26880/60000]\tLoss: 0.332875\n",
            "Train Epoch: 1 [27520/60000]\tLoss: 0.190656\n",
            "Train Epoch: 1 [28160/60000]\tLoss: 0.195834\n",
            "Train Epoch: 1 [28800/60000]\tLoss: 0.322928\n",
            "Train Epoch: 1 [29440/60000]\tLoss: 0.223517\n",
            "Train Epoch: 1 [30080/60000]\tLoss: 0.329374\n",
            "Train Epoch: 1 [30720/60000]\tLoss: 0.573750\n",
            "Train Epoch: 1 [31360/60000]\tLoss: 0.133497\n",
            "Train Epoch: 1 [32000/60000]\tLoss: 0.400372\n",
            "Train Epoch: 1 [32640/60000]\tLoss: 0.358558\n",
            "Train Epoch: 1 [33280/60000]\tLoss: 0.257370\n",
            "Train Epoch: 1 [33920/60000]\tLoss: 0.461849\n",
            "Train Epoch: 1 [34560/60000]\tLoss: 0.325335\n",
            "Train Epoch: 1 [35200/60000]\tLoss: 0.253035\n",
            "Train Epoch: 1 [35840/60000]\tLoss: 0.412485\n",
            "Train Epoch: 1 [36480/60000]\tLoss: 0.333804\n",
            "Train Epoch: 1 [37120/60000]\tLoss: 0.185104\n",
            "Train Epoch: 1 [37760/60000]\tLoss: 0.199152\n",
            "Train Epoch: 1 [38400/60000]\tLoss: 0.252991\n",
            "Train Epoch: 1 [39040/60000]\tLoss: 0.080348\n",
            "Train Epoch: 1 [39680/60000]\tLoss: 0.378840\n",
            "Train Epoch: 1 [40320/60000]\tLoss: 0.342794\n",
            "Train Epoch: 1 [40960/60000]\tLoss: 0.256274\n",
            "Train Epoch: 1 [41600/60000]\tLoss: 0.335899\n",
            "Train Epoch: 1 [42240/60000]\tLoss: 0.581118\n",
            "Train Epoch: 1 [42880/60000]\tLoss: 0.269016\n",
            "Train Epoch: 1 [43520/60000]\tLoss: 0.397591\n",
            "Train Epoch: 1 [44160/60000]\tLoss: 0.605595\n",
            "Train Epoch: 1 [44800/60000]\tLoss: 0.390235\n",
            "Train Epoch: 1 [45440/60000]\tLoss: 0.427610\n",
            "Train Epoch: 1 [46080/60000]\tLoss: 0.255618\n",
            "Train Epoch: 1 [46720/60000]\tLoss: 0.196928\n",
            "Train Epoch: 1 [47360/60000]\tLoss: 0.311021\n",
            "Train Epoch: 1 [48000/60000]\tLoss: 0.280537\n",
            "Train Epoch: 1 [48640/60000]\tLoss: 0.163437\n",
            "Train Epoch: 1 [49280/60000]\tLoss: 0.149776\n",
            "Train Epoch: 1 [49920/60000]\tLoss: 0.264831\n",
            "Train Epoch: 1 [50560/60000]\tLoss: 0.383834\n",
            "Train Epoch: 1 [51200/60000]\tLoss: 0.159327\n",
            "Train Epoch: 1 [51840/60000]\tLoss: 0.179131\n",
            "Train Epoch: 1 [52480/60000]\tLoss: 0.268218\n",
            "Train Epoch: 1 [53120/60000]\tLoss: 0.271399\n",
            "Train Epoch: 1 [53760/60000]\tLoss: 0.223130\n",
            "Train Epoch: 1 [54400/60000]\tLoss: 0.259111\n",
            "Train Epoch: 1 [55040/60000]\tLoss: 0.326625\n",
            "Train Epoch: 1 [55680/60000]\tLoss: 0.378486\n",
            "Train Epoch: 1 [56320/60000]\tLoss: 0.207916\n",
            "Train Epoch: 1 [56960/60000]\tLoss: 0.204857\n",
            "Train Epoch: 1 [57600/60000]\tLoss: 0.257560\n",
            "Train Epoch: 1 [58240/60000]\tLoss: 0.242849\n",
            "Train Epoch: 1 [58880/60000]\tLoss: 0.396750\n",
            "Train Epoch: 1 [59520/60000]\tLoss: 0.292266\n",
            "\n",
            "Test set: Avg. loss: 0.1126, Accuracy: 9645/10000 (96%)\n",
            "\n",
            "Train Epoch: 2 [0/60000]\tLoss: 0.149217\n",
            "Train Epoch: 2 [640/60000]\tLoss: 0.283595\n",
            "Train Epoch: 2 [1280/60000]\tLoss: 0.175920\n",
            "Train Epoch: 2 [1920/60000]\tLoss: 0.363805\n",
            "Train Epoch: 2 [2560/60000]\tLoss: 0.403136\n",
            "Train Epoch: 2 [3200/60000]\tLoss: 0.030630\n",
            "Train Epoch: 2 [3840/60000]\tLoss: 0.273028\n",
            "Train Epoch: 2 [4480/60000]\tLoss: 0.140868\n",
            "Train Epoch: 2 [5120/60000]\tLoss: 0.507910\n",
            "Train Epoch: 2 [5760/60000]\tLoss: 0.254316\n",
            "Train Epoch: 2 [6400/60000]\tLoss: 0.140072\n",
            "Train Epoch: 2 [7040/60000]\tLoss: 0.077676\n",
            "Train Epoch: 2 [7680/60000]\tLoss: 0.216805\n",
            "Train Epoch: 2 [8320/60000]\tLoss: 0.213051\n",
            "Train Epoch: 2 [8960/60000]\tLoss: 0.343017\n",
            "Train Epoch: 2 [9600/60000]\tLoss: 0.138635\n",
            "Train Epoch: 2 [10240/60000]\tLoss: 0.116451\n",
            "Train Epoch: 2 [10880/60000]\tLoss: 0.210993\n",
            "Train Epoch: 2 [11520/60000]\tLoss: 0.167458\n",
            "Train Epoch: 2 [12160/60000]\tLoss: 0.190138\n",
            "Train Epoch: 2 [12800/60000]\tLoss: 0.160465\n",
            "Train Epoch: 2 [13440/60000]\tLoss: 0.184412\n",
            "Train Epoch: 2 [14080/60000]\tLoss: 0.076498\n",
            "Train Epoch: 2 [14720/60000]\tLoss: 0.249198\n",
            "Train Epoch: 2 [15360/60000]\tLoss: 0.253355\n",
            "Train Epoch: 2 [16000/60000]\tLoss: 0.203075\n",
            "Train Epoch: 2 [16640/60000]\tLoss: 0.199165\n",
            "Train Epoch: 2 [17280/60000]\tLoss: 0.187139\n",
            "Train Epoch: 2 [17920/60000]\tLoss: 0.117296\n",
            "Train Epoch: 2 [18560/60000]\tLoss: 0.189343\n",
            "Train Epoch: 2 [19200/60000]\tLoss: 0.155497\n",
            "Train Epoch: 2 [19840/60000]\tLoss: 0.113154\n",
            "Train Epoch: 2 [20480/60000]\tLoss: 0.161755\n",
            "Train Epoch: 2 [21120/60000]\tLoss: 0.369470\n",
            "Train Epoch: 2 [21760/60000]\tLoss: 0.404843\n",
            "Train Epoch: 2 [22400/60000]\tLoss: 0.238904\n",
            "Train Epoch: 2 [23040/60000]\tLoss: 0.259991\n",
            "Train Epoch: 2 [23680/60000]\tLoss: 0.078015\n",
            "Train Epoch: 2 [24320/60000]\tLoss: 0.134173\n",
            "Train Epoch: 2 [24960/60000]\tLoss: 0.085763\n",
            "Train Epoch: 2 [25600/60000]\tLoss: 0.135358\n",
            "Train Epoch: 2 [26240/60000]\tLoss: 0.068486\n",
            "Train Epoch: 2 [26880/60000]\tLoss: 0.201507\n",
            "Train Epoch: 2 [27520/60000]\tLoss: 0.263842\n",
            "Train Epoch: 2 [28160/60000]\tLoss: 0.277513\n",
            "Train Epoch: 2 [28800/60000]\tLoss: 0.110493\n",
            "Train Epoch: 2 [29440/60000]\tLoss: 0.088811\n",
            "Train Epoch: 2 [30080/60000]\tLoss: 0.277977\n",
            "Train Epoch: 2 [30720/60000]\tLoss: 0.192464\n",
            "Train Epoch: 2 [31360/60000]\tLoss: 0.137460\n",
            "Train Epoch: 2 [32000/60000]\tLoss: 0.274274\n",
            "Train Epoch: 2 [32640/60000]\tLoss: 0.053106\n",
            "Train Epoch: 2 [33280/60000]\tLoss: 0.178478\n",
            "Train Epoch: 2 [33920/60000]\tLoss: 0.132766\n",
            "Train Epoch: 2 [34560/60000]\tLoss: 0.064581\n",
            "Train Epoch: 2 [35200/60000]\tLoss: 0.141470\n",
            "Train Epoch: 2 [35840/60000]\tLoss: 0.232637\n",
            "Train Epoch: 2 [36480/60000]\tLoss: 0.117291\n",
            "Train Epoch: 2 [37120/60000]\tLoss: 0.121817\n",
            "Train Epoch: 2 [37760/60000]\tLoss: 0.080895\n",
            "Train Epoch: 2 [38400/60000]\tLoss: 0.158903\n",
            "Train Epoch: 2 [39040/60000]\tLoss: 0.303229\n",
            "Train Epoch: 2 [39680/60000]\tLoss: 0.108178\n",
            "Train Epoch: 2 [40320/60000]\tLoss: 0.261473\n",
            "Train Epoch: 2 [40960/60000]\tLoss: 0.155766\n",
            "Train Epoch: 2 [41600/60000]\tLoss: 0.446281\n",
            "Train Epoch: 2 [42240/60000]\tLoss: 0.165933\n",
            "Train Epoch: 2 [42880/60000]\tLoss: 0.332757\n",
            "Train Epoch: 2 [43520/60000]\tLoss: 0.182865\n",
            "Train Epoch: 2 [44160/60000]\tLoss: 0.092132\n",
            "Train Epoch: 2 [44800/60000]\tLoss: 0.179524\n",
            "Train Epoch: 2 [45440/60000]\tLoss: 0.140892\n",
            "Train Epoch: 2 [46080/60000]\tLoss: 0.067820\n",
            "Train Epoch: 2 [46720/60000]\tLoss: 0.238542\n",
            "Train Epoch: 2 [47360/60000]\tLoss: 0.121849\n",
            "Train Epoch: 2 [48000/60000]\tLoss: 0.280735\n",
            "Train Epoch: 2 [48640/60000]\tLoss: 0.370171\n",
            "Train Epoch: 2 [49280/60000]\tLoss: 0.214212\n",
            "Train Epoch: 2 [49920/60000]\tLoss: 0.106477\n",
            "Train Epoch: 2 [50560/60000]\tLoss: 0.197955\n",
            "Train Epoch: 2 [51200/60000]\tLoss: 0.174004\n",
            "Train Epoch: 2 [51840/60000]\tLoss: 0.288379\n",
            "Train Epoch: 2 [52480/60000]\tLoss: 0.138215\n",
            "Train Epoch: 2 [53120/60000]\tLoss: 0.135068\n",
            "Train Epoch: 2 [53760/60000]\tLoss: 0.074313\n",
            "Train Epoch: 2 [54400/60000]\tLoss: 0.167819\n",
            "Train Epoch: 2 [55040/60000]\tLoss: 0.345302\n",
            "Train Epoch: 2 [55680/60000]\tLoss: 0.171542\n",
            "Train Epoch: 2 [56320/60000]\tLoss: 0.076806\n",
            "Train Epoch: 2 [56960/60000]\tLoss: 0.214764\n",
            "Train Epoch: 2 [57600/60000]\tLoss: 0.154943\n",
            "Train Epoch: 2 [58240/60000]\tLoss: 0.037517\n",
            "Train Epoch: 2 [58880/60000]\tLoss: 0.090284\n",
            "Train Epoch: 2 [59520/60000]\tLoss: 0.180778\n",
            "\n",
            "Test set: Avg. loss: 0.0844, Accuracy: 9727/10000 (97%)\n",
            "\n",
            "Train Epoch: 3 [0/60000]\tLoss: 0.109457\n",
            "Train Epoch: 3 [640/60000]\tLoss: 0.093058\n",
            "Train Epoch: 3 [1280/60000]\tLoss: 0.190030\n",
            "Train Epoch: 3 [1920/60000]\tLoss: 0.289479\n",
            "Train Epoch: 3 [2560/60000]\tLoss: 0.136094\n",
            "Train Epoch: 3 [3200/60000]\tLoss: 0.224555\n",
            "Train Epoch: 3 [3840/60000]\tLoss: 0.193357\n",
            "Train Epoch: 3 [4480/60000]\tLoss: 0.203651\n",
            "Train Epoch: 3 [5120/60000]\tLoss: 0.086783\n",
            "Train Epoch: 3 [5760/60000]\tLoss: 0.258512\n",
            "Train Epoch: 3 [6400/60000]\tLoss: 0.099956\n",
            "Train Epoch: 3 [7040/60000]\tLoss: 0.022169\n",
            "Train Epoch: 3 [7680/60000]\tLoss: 0.229010\n",
            "Train Epoch: 3 [8320/60000]\tLoss: 0.125293\n",
            "Train Epoch: 3 [8960/60000]\tLoss: 0.074638\n",
            "Train Epoch: 3 [9600/60000]\tLoss: 0.093341\n",
            "Train Epoch: 3 [10240/60000]\tLoss: 0.144042\n",
            "Train Epoch: 3 [10880/60000]\tLoss: 0.178235\n",
            "Train Epoch: 3 [11520/60000]\tLoss: 0.060108\n",
            "Train Epoch: 3 [12160/60000]\tLoss: 0.064694\n",
            "Train Epoch: 3 [12800/60000]\tLoss: 0.117384\n",
            "Train Epoch: 3 [13440/60000]\tLoss: 0.145577\n",
            "Train Epoch: 3 [14080/60000]\tLoss: 0.202883\n",
            "Train Epoch: 3 [14720/60000]\tLoss: 0.235387\n",
            "Train Epoch: 3 [15360/60000]\tLoss: 0.197463\n",
            "Train Epoch: 3 [16000/60000]\tLoss: 0.259060\n",
            "Train Epoch: 3 [16640/60000]\tLoss: 0.268948\n",
            "Train Epoch: 3 [17280/60000]\tLoss: 0.066098\n",
            "Train Epoch: 3 [17920/60000]\tLoss: 0.083891\n",
            "Train Epoch: 3 [18560/60000]\tLoss: 0.130934\n",
            "Train Epoch: 3 [19200/60000]\tLoss: 0.136982\n",
            "Train Epoch: 3 [19840/60000]\tLoss: 0.072365\n",
            "Train Epoch: 3 [20480/60000]\tLoss: 0.185889\n",
            "Train Epoch: 3 [21120/60000]\tLoss: 0.438762\n",
            "Train Epoch: 3 [21760/60000]\tLoss: 0.104440\n",
            "Train Epoch: 3 [22400/60000]\tLoss: 0.148358\n",
            "Train Epoch: 3 [23040/60000]\tLoss: 0.097290\n",
            "Train Epoch: 3 [23680/60000]\tLoss: 0.125869\n",
            "Train Epoch: 3 [24320/60000]\tLoss: 0.183075\n",
            "Train Epoch: 3 [24960/60000]\tLoss: 0.199947\n",
            "Train Epoch: 3 [25600/60000]\tLoss: 0.084294\n",
            "Train Epoch: 3 [26240/60000]\tLoss: 0.177017\n",
            "Train Epoch: 3 [26880/60000]\tLoss: 0.319760\n",
            "Train Epoch: 3 [27520/60000]\tLoss: 0.068541\n",
            "Train Epoch: 3 [28160/60000]\tLoss: 0.175214\n",
            "Train Epoch: 3 [28800/60000]\tLoss: 0.165802\n",
            "Train Epoch: 3 [29440/60000]\tLoss: 0.104368\n",
            "Train Epoch: 3 [30080/60000]\tLoss: 0.044446\n",
            "Train Epoch: 3 [30720/60000]\tLoss: 0.132263\n",
            "Train Epoch: 3 [31360/60000]\tLoss: 0.360634\n",
            "Train Epoch: 3 [32000/60000]\tLoss: 0.094257\n",
            "Train Epoch: 3 [32640/60000]\tLoss: 0.268411\n",
            "Train Epoch: 3 [33280/60000]\tLoss: 0.136894\n",
            "Train Epoch: 3 [33920/60000]\tLoss: 0.124875\n",
            "Train Epoch: 3 [34560/60000]\tLoss: 0.120733\n",
            "Train Epoch: 3 [35200/60000]\tLoss: 0.146522\n",
            "Train Epoch: 3 [35840/60000]\tLoss: 0.116755\n",
            "Train Epoch: 3 [36480/60000]\tLoss: 0.095454\n",
            "Train Epoch: 3 [37120/60000]\tLoss: 0.267808\n",
            "Train Epoch: 3 [37760/60000]\tLoss: 0.034682\n",
            "Train Epoch: 3 [38400/60000]\tLoss: 0.120366\n",
            "Train Epoch: 3 [39040/60000]\tLoss: 0.054107\n",
            "Train Epoch: 3 [39680/60000]\tLoss: 0.044483\n",
            "Train Epoch: 3 [40320/60000]\tLoss: 0.057373\n",
            "Train Epoch: 3 [40960/60000]\tLoss: 0.044823\n",
            "Train Epoch: 3 [41600/60000]\tLoss: 0.021010\n",
            "Train Epoch: 3 [42240/60000]\tLoss: 0.206011\n",
            "Train Epoch: 3 [42880/60000]\tLoss: 0.082817\n",
            "Train Epoch: 3 [43520/60000]\tLoss: 0.159556\n",
            "Train Epoch: 3 [44160/60000]\tLoss: 0.205369\n",
            "Train Epoch: 3 [44800/60000]\tLoss: 0.211806\n",
            "Train Epoch: 3 [45440/60000]\tLoss: 0.051501\n",
            "Train Epoch: 3 [46080/60000]\tLoss: 0.187083\n",
            "Train Epoch: 3 [46720/60000]\tLoss: 0.098354\n",
            "Train Epoch: 3 [47360/60000]\tLoss: 0.246992\n",
            "Train Epoch: 3 [48000/60000]\tLoss: 0.035731\n",
            "Train Epoch: 3 [48640/60000]\tLoss: 0.191122\n",
            "Train Epoch: 3 [49280/60000]\tLoss: 0.096095\n",
            "Train Epoch: 3 [49920/60000]\tLoss: 0.050960\n",
            "Train Epoch: 3 [50560/60000]\tLoss: 0.073962\n",
            "Train Epoch: 3 [51200/60000]\tLoss: 0.162816\n",
            "Train Epoch: 3 [51840/60000]\tLoss: 0.238763\n",
            "Train Epoch: 3 [52480/60000]\tLoss: 0.054884\n",
            "Train Epoch: 3 [53120/60000]\tLoss: 0.045623\n",
            "Train Epoch: 3 [53760/60000]\tLoss: 0.156837\n",
            "Train Epoch: 3 [54400/60000]\tLoss: 0.076036\n",
            "Train Epoch: 3 [55040/60000]\tLoss: 0.180887\n",
            "Train Epoch: 3 [55680/60000]\tLoss: 0.179522\n",
            "Train Epoch: 3 [56320/60000]\tLoss: 0.066075\n",
            "Train Epoch: 3 [56960/60000]\tLoss: 0.060308\n",
            "Train Epoch: 3 [57600/60000]\tLoss: 0.220158\n",
            "Train Epoch: 3 [58240/60000]\tLoss: 0.153034\n",
            "Train Epoch: 3 [58880/60000]\tLoss: 0.108944\n",
            "Train Epoch: 3 [59520/60000]\tLoss: 0.014329\n",
            "\n",
            "Test set: Avg. loss: 0.0670, Accuracy: 9790/10000 (98%)\n",
            "\n"
          ]
        }
      ]
    },
    {
      "cell_type": "code",
      "source": [
        "# Run network on data we got before and show predictions\n",
        "output = model(example_data)\n",
        "\n",
        "fig = plt.figure()\n",
        "for i in range(6):\n",
        "  plt.subplot(2,3,i+1)\n",
        "  plt.tight_layout()\n",
        "  plt.imshow(example_data[i][0], cmap='gray', interpolation='none')\n",
        "  plt.title(\"Prediction: {}\".format(\n",
        "    output.data.max(1, keepdim=True)[1][i].item()))\n",
        "  plt.xticks([])\n",
        "  plt.yticks([])\n",
        "plt.show()"
      ],
      "metadata": {
        "id": "o7fRUAy9Se1B",
        "outputId": "56ec7e92-4354-451f-94d7-7b12f5d983b8",
        "colab": {
          "base_uri": "https://localhost:8080/",
          "height": 473
        }
      },
      "execution_count": 10,
      "outputs": [
        {
          "output_type": "stream",
          "name": "stderr",
          "text": [
            "<ipython-input-4-44c2b231bb59>:23: UserWarning: Implicit dimension choice for log_softmax has been deprecated. Change the call to include dim=X as an argument.\n",
            "  x = F.log_softmax(x)\n"
          ]
        },
        {
          "output_type": "display_data",
          "data": {
            "text/plain": [
              "<Figure size 640x480 with 6 Axes>"
            ],
            "image/png": "[encoded data removed]"
          },
          "metadata": {}
        }
      ]
    },
    {
      "cell_type": "markdown",
      "source": [
        "This is the code that does the adversarial attack. It is adapted from [here](https://pytorch.org/tutorials/beginner/fgsm_tutorial.html).   It is an example of the fast gradient sign method (FGSM), which modifies the data by\n",
        "\n",
        "\n",
        "\n",
        "*   Calculating the derivative $\\partial L/\\partial \\mathbf{x}$ of the loss $L$ with respect to the input data $\\mathbf{x}$.\n",
        "*   Finds the sign of the gradient at each point (making a tensor the same size as $\\mathbf{x}$ with a one where it was positive and minus one where it was negative.  \n",
        "*   Multiplying this vector by $\\epsilon$ and adding it back to the original data\n",
        "\n",
        "\n"
      ],
      "metadata": {
        "id": "EabuoMdP32Hd"
      }
    },
    {
      "cell_type": "code",
      "source": [
        "# FGSM attack code.\n",
        "def fgsm_attack(x, epsilon, dLdx):\n",
        "    # TODO -- write this function\n",
        "    # Get the sign of the gradient\n",
        "    sign_data_grad = dLdx.sign()\n",
        "\n",
        "    # Replace this line\n",
        "    x_modified = x + epsilon*sign_data_grad\n",
        "\n",
        "    # Return the perturbed image\n",
        "    return x_modified"
      ],
      "metadata": {
        "id": "gAX7tnld46q1"
      },
      "execution_count": 13,
      "outputs": []
    },
    {
      "cell_type": "code",
      "source": [
        "no_examples = 3\n",
        "epsilon = 0.5\n",
        "for i in range(no_examples):\n",
        "  # Reset gradients\n",
        "  optimizer.zero_grad()\n",
        "\n",
        "  # Get the i'th data example\n",
        "  x = example_data[i,:,:,:]\n",
        "  # Add an extra dimension back to the beginning\n",
        "  x= x[None, :,:,:]\n",
        "  x.requires_grad = True\n",
        "  # Get the i'th target\n",
        "  y = torch.ones(1, dtype=torch.long) * example_targets[i]\n",
        "\n",
        "  # Run the model\n",
        "  output = model(x)\n",
        "  # Compute the loss\n",
        "  loss = F.nll_loss(output, y)\n",
        "  # Back propagate\n",
        "  loss.backward()\n",
        "\n",
        "  # Collect ``datagrad``\n",
        "  dLdx = x.grad.data\n",
        "\n",
        "  # Call FGSM Attack\n",
        "  x_prime = fgsm_attack(x, epsilon, dLdx)\n",
        "\n",
        "  # Re-classify the perturbed image\n",
        "  output_prime = model(x_prime)\n",
        "\n",
        "  x = x.detach().numpy()\n",
        "  fig = plt.figure()\n",
        "  plt.subplot(1,2,1)\n",
        "  plt.tight_layout()\n",
        "  plt.imshow(x[0][0], cmap='gray', interpolation='none')\n",
        "  plt.title(\"Original Prediction: {}\".format(\n",
        "    output.data.max(1, keepdim=True)[1][0].item()))\n",
        "  plt.xticks([])\n",
        "  plt.yticks([])\n",
        "\n",
        "  plt.subplot(1,2,2)\n",
        "  plt.tight_layout()\n",
        "  plt.imshow(x_prime[0][0].detach().numpy(), cmap='gray', interpolation='none')\n",
        "  plt.title(\"Perturbed Prediction: {}\".format(\n",
        "    output_prime.data.max(1, keepdim=True)[1][0].item()))\n",
        "  plt.xticks([])\n",
        "  plt.yticks([])\n",
        "\n",
        "plt.show()"
      ],
      "metadata": {
        "id": "AuNTYWboufbm",
        "outputId": "e6366dd3-6541-42ab-a2bf-a398bdb7c591",
        "colab": {
          "base_uri": "https://localhost:8080/",
          "height": 1000
        }
      },
      "execution_count": 14,
      "outputs": [
        {
          "output_type": "stream",
          "name": "stderr",
          "text": [
            "<ipython-input-4-44c2b231bb59>:23: UserWarning: Implicit dimension choice for log_softmax has been deprecated. Change the call to include dim=X as an argument.\n",
            "  x = F.log_softmax(x)\n"
          ]
        },
        {
          "output_type": "display_data",
          "data": {
            "text/plain": [
              "<Figure size 640x480 with 2 Axes>"
            ],
            "image/png": "[encoded data removed]"
          },
          "metadata": {}
        },
        {
          "output_type": "display_data",
          "data": {
            "text/plain": [
              "<Figure size 640x480 with 2 Axes>"
            ],
            "image/png": "[encoded data removed]"
          },
          "metadata": {}
        },
        {
          "output_type": "display_data",
          "data": {
            "text/plain": [
              "<Figure size 640x480 with 2 Axes>"
            ],
            "image/png": "[encoded data removed]"
          },
          "metadata": {}
        }
      ]
    },
    {
      "cell_type": "markdown",
      "source": [
        "Although we have only added a small amount of noise, the model is fooled into thinking that these images come from a different class.\n",
        "\n",
        "TODO -- Modify the attack so that it iteratively perturbs the data. i.e., so we take a small step epsilon, then re-calculate the gradient and take another small step according to the new gradient signs."
      ],
      "metadata": {
        "id": "vFXWK826HPQ8"
      }
    }
  ]
}