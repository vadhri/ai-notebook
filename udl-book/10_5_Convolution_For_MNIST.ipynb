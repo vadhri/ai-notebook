{
  "cells": [
    {
      "cell_type": "markdown",
      "metadata": {
        "id": "view-in-github"
      },
      "source": [
        "<a href=\"https://colab.research.google.com/github/udlbook/udlbook/blob/main/Notebooks/Chap10/10_5_Convolution_For_MNIST.ipynb\" target=\"_parent\"><img src=\"https://colab.research.google.com/assets/colab-badge.svg\" alt=\"Open In Colab\"/></a>"
      ]
    },
    {
      "cell_type": "markdown",
      "metadata": {
        "id": "t9vk9Elugvmi"
      },
      "source": [
        "# **Notebook 10.5: Convolution for MNIST**\n",
        "\n",
        "This notebook builds a proper network for 2D convolution.  It works with the MNIST dataset (figure 15.15a), which was the original classic dataset for classifying images.  The network will take a 28x28 grayscale image and classify it into one of 10 classes representing a digit.\n",
        "\n",
        "The code is adapted from https://nextjournal.com/gkoehler/pytorch-mnist\n",
        "\n",
        "Work through the cells below, running each cell in turn. In various places you will see the words \"TO DO\". Follow the instructions at these places and make predictions about what is going to happen or write code to complete the functions.\n",
        "\n",
        "Contact me at udlbookmail@gmail.com if you find any mistakes or have any suggestions.\n"
      ]
    },
    {
      "cell_type": "code",
      "execution_count": 1,
      "metadata": {
        "id": "YrXWAH7sUWvU"
      },
      "outputs": [],
      "source": [
        "import torch\n",
        "import torchvision\n",
        "import torch.nn as nn\n",
        "import torch.nn.functional as F\n",
        "import torch.optim as optim\n",
        "import matplotlib.pyplot as plt\n",
        "import random"
      ]
    },
    {
      "cell_type": "code",
      "execution_count": 2,
      "metadata": {
        "id": "wScBGXXFVadm",
        "colab": {
          "base_uri": "https://localhost:8080/"
        },
        "outputId": "1b5ec1df-7ae0-46cc-d270-4d1e69dcc294"
      },
      "outputs": [
        {
          "output_type": "stream",
          "name": "stdout",
          "text": [
            "Downloading http://yann.lecun.com/exdb/mnist/train-images-idx3-ubyte.gz\n",
            "Failed to download (trying next):\n",
            "<urlopen error [SSL: CERTIFICATE_VERIFY_FAILED] certificate verify failed: certificate has expired (_ssl.c:1007)>\n",
            "\n",
            "Downloading https://ossci-datasets.s3.amazonaws.com/mnist/train-images-idx3-ubyte.gz\n",
            "Downloading https://ossci-datasets.s3.amazonaws.com/mnist/train-images-idx3-ubyte.gz to /tmp/MNIST/raw/train-images-idx3-ubyte.gz\n"
          ]
        },
        {
          "output_type": "stream",
          "name": "stderr",
          "text": [
            "100%|██████████| 9.91M/9.91M [00:00<00:00, 48.1MB/s]\n"
          ]
        },
        {
          "output_type": "stream",
          "name": "stdout",
          "text": [
            "Extracting /tmp/MNIST/raw/train-images-idx3-ubyte.gz to /tmp/MNIST/raw\n",
            "\n",
            "Downloading http://yann.lecun.com/exdb/mnist/train-labels-idx1-ubyte.gz\n",
            "Failed to download (trying next):\n",
            "<urlopen error [SSL: CERTIFICATE_VERIFY_FAILED] certificate verify failed: certificate has expired (_ssl.c:1007)>\n",
            "\n",
            "Downloading https://ossci-datasets.s3.amazonaws.com/mnist/train-labels-idx1-ubyte.gz\n",
            "Downloading https://ossci-datasets.s3.amazonaws.com/mnist/train-labels-idx1-ubyte.gz to /tmp/MNIST/raw/train-labels-idx1-ubyte.gz\n"
          ]
        },
        {
          "output_type": "stream",
          "name": "stderr",
          "text": [
            "100%|██████████| 28.9k/28.9k [00:00<00:00, 1.93MB/s]\n"
          ]
        },
        {
          "output_type": "stream",
          "name": "stdout",
          "text": [
            "Extracting /tmp/MNIST/raw/train-labels-idx1-ubyte.gz to /tmp/MNIST/raw\n",
            "\n",
            "Downloading http://yann.lecun.com/exdb/mnist/t10k-images-idx3-ubyte.gz\n",
            "Failed to download (trying next):\n",
            "<urlopen error [SSL: CERTIFICATE_VERIFY_FAILED] certificate verify failed: certificate has expired (_ssl.c:1007)>\n",
            "\n",
            "Downloading https://ossci-datasets.s3.amazonaws.com/mnist/t10k-images-idx3-ubyte.gz\n",
            "Downloading https://ossci-datasets.s3.amazonaws.com/mnist/t10k-images-idx3-ubyte.gz to /tmp/MNIST/raw/t10k-images-idx3-ubyte.gz\n"
          ]
        },
        {
          "output_type": "stream",
          "name": "stderr",
          "text": [
            "100%|██████████| 1.65M/1.65M [00:00<00:00, 13.6MB/s]\n"
          ]
        },
        {
          "output_type": "stream",
          "name": "stdout",
          "text": [
            "Extracting /tmp/MNIST/raw/t10k-images-idx3-ubyte.gz to /tmp/MNIST/raw\n",
            "\n",
            "Downloading http://yann.lecun.com/exdb/mnist/t10k-labels-idx1-ubyte.gz\n",
            "Failed to download (trying next):\n",
            "<urlopen error [SSL: CERTIFICATE_VERIFY_FAILED] certificate verify failed: certificate has expired (_ssl.c:1007)>\n",
            "\n",
            "Downloading https://ossci-datasets.s3.amazonaws.com/mnist/t10k-labels-idx1-ubyte.gz\n",
            "Downloading https://ossci-datasets.s3.amazonaws.com/mnist/t10k-labels-idx1-ubyte.gz to /tmp/MNIST/raw/t10k-labels-idx1-ubyte.gz\n"
          ]
        },
        {
          "output_type": "stream",
          "name": "stderr",
          "text": [
            "100%|██████████| 4.54k/4.54k [00:00<00:00, 8.09MB/s]"
          ]
        },
        {
          "output_type": "stream",
          "name": "stdout",
          "text": [
            "Extracting /tmp/MNIST/raw/t10k-labels-idx1-ubyte.gz to /tmp/MNIST/raw\n",
            "\n"
          ]
        },
        {
          "output_type": "stream",
          "name": "stderr",
          "text": [
            "\n"
          ]
        }
      ],
      "source": [
        "# Run this once to load the train and test data straight into a dataloader class\n",
        "# that will provide the batches\n",
        "\n",
        "# (It may complain that some files are missing because the files seem to have been\n",
        "# reorganized on the underlying website, but it still seems to work). If everything is working\n",
        "# properly, then the whole notebook should run to the end without further problems\n",
        "# even before you make changes.\n",
        "batch_size_train = 64\n",
        "batch_size_test = 1000\n",
        "\n",
        "# TODO Change this directory to point towards an existing directory\n",
        "myDir = '/tmp/'\n",
        "\n",
        "train_loader = torch.utils.data.DataLoader(\n",
        "  torchvision.datasets.MNIST(myDir, train=True, download=True,\n",
        "                             transform=torchvision.transforms.Compose([\n",
        "                               torchvision.transforms.ToTensor(),\n",
        "                               torchvision.transforms.Normalize(\n",
        "                                 (0.1307,), (0.3081,))\n",
        "                             ])),\n",
        "  batch_size=batch_size_train, shuffle=True)\n",
        "\n",
        "test_loader = torch.utils.data.DataLoader(\n",
        "  torchvision.datasets.MNIST(myDir, train=False, download=True,\n",
        "                             transform=torchvision.transforms.Compose([\n",
        "                               torchvision.transforms.ToTensor(),\n",
        "                               torchvision.transforms.Normalize(\n",
        "                                 (0.1307,), (0.3081,))\n",
        "                             ])),\n",
        "  batch_size=batch_size_test, shuffle=True)"
      ]
    },
    {
      "cell_type": "code",
      "execution_count": 3,
      "metadata": {
        "id": "8bKADvLHbiV5",
        "colab": {
          "base_uri": "https://localhost:8080/",
          "height": 438
        },
        "outputId": "e6387445-af32-422a-92e5-318014a7d859"
      },
      "outputs": [
        {
          "output_type": "display_data",
          "data": {
            "text/plain": [
              "<Figure size 640x480 with 6 Axes>"
            ],
            "image/png": "[encoded data removed]"
          },
          "metadata": {}
        }
      ],
      "source": [
        "# Let's draw some of the training data\n",
        "examples = enumerate(test_loader)\n",
        "batch_idx, (example_data, example_targets) = next(examples)\n",
        "\n",
        "fig = plt.figure()\n",
        "for i in range(6):\n",
        "  plt.subplot(2,3,i+1)\n",
        "  plt.tight_layout()\n",
        "  plt.imshow(example_data[i][0], cmap='gray', interpolation='none')\n",
        "  plt.title(\"Ground Truth: {}\".format(example_targets[i]))\n",
        "  plt.xticks([])\n",
        "  plt.yticks([])\n",
        "plt.show()"
      ]
    },
    {
      "cell_type": "markdown",
      "metadata": {
        "id": "_sFvRDGrl4qe"
      },
      "source": [
        "Define the network.  This is a more typical way to define a network than the sequential structure.  We define a class for the network, and define the parameters in the constructor.  Then we use a function called forward to actually run the network.  It's easy to see how you might use residual connections in this format."
      ]
    },
    {
      "cell_type": "code",
      "execution_count": 4,
      "metadata": {
        "id": "EQkvw2KOPVl7"
      },
      "outputs": [],
      "source": [
        "from os import X_OK\n",
        "# TODO Change this class to implement\n",
        "# 1. A valid convolution with kernel size 5, 1 input channel and 10 output channels\n",
        "# 2. A max pooling operation over a 2x2 area\n",
        "# 3. A Relu\n",
        "# 4. A valid convolution with kernel size 5, 10 input channels and 20 output channels\n",
        "# 5. A 2D Dropout layer\n",
        "# 6. A max pooling operation over a 2x2 area\n",
        "# 7. A relu\n",
        "# 8. A flattening operation\n",
        "# 9. A fully connected layer mapping from (whatever dimensions we are at-- find out using .shape) to 50\n",
        "# 10. A ReLU\n",
        "# 11. A fully connected layer mapping from 50 to 10 dimensions\n",
        "# 12. A softmax function.\n",
        "\n",
        "# Replace this class which implements a minimal network (which still does okay)\n",
        "class Net(nn.Module):\n",
        "    def __init__(self):\n",
        "        super(Net, self).__init__()\n",
        "        # 1. A valid convolution with kernel size 5, 1 input channel and 10 output channels\n",
        "        # 2. A max pooling operation over a 2x2 area\n",
        "        # 3. A Relu\n",
        "        self.conv1 = nn.Conv2d(1, 10, kernel_size=5)\n",
        "        self.maxpool1 = nn.MaxPool2d(2)\n",
        "        self.relu1 = nn.ReLU()\n",
        "\n",
        "        # 4. A valid convolution with kernel size 5, 10 input channels and 20 output channels\n",
        "        # 5. A 2D Dropout layer\n",
        "        # 6. A max pooling operation over a 2x2 area\n",
        "        # 7. A relu\n",
        "        self.conv2 = nn.Conv2d(10,20, kernel_size=5)\n",
        "        self.drop2 = nn.Dropout2d()\n",
        "        self.maxpool2 = nn.MaxPool2d(2)\n",
        "        self.relu2 = nn.ReLU()\n",
        "\n",
        "        # 8. A flattening operation\n",
        "        self.flatten3 = nn.Flatten()\n",
        "\n",
        "        # 9. A fully connected layer mapping from (whatever dimensions we are at-- find out using .shape) to 50\n",
        "        # 10. A ReLU\n",
        "        self.fc4 = nn.Linear(320, 50)\n",
        "        self.relu4 = nn.ReLU()\n",
        "\n",
        "        # 11. A fully connected layer mapping from 50 to 10 dimensions\n",
        "        self.fc5 = nn.Linear(50, 10)\n",
        "\n",
        "        # 12. A softmax function.\n",
        "        self.smax6 = nn.Softmax()\n",
        "\n",
        "    def forward(self, x):\n",
        "        x = self.conv1(x)\n",
        "        x = self.maxpool1(x)\n",
        "        x = self.relu1(x)\n",
        "\n",
        "        x = self.conv2(x)\n",
        "        x = self.drop2(x)\n",
        "        x = self.maxpool2(x)\n",
        "        x = self.relu2(x)\n",
        "\n",
        "        x = self.flatten3(x)\n",
        "        x = self.fc4(x)\n",
        "        x = self.relu4(x)\n",
        "\n",
        "        x = self.fc5(x)\n",
        "\n",
        "        x = self.smax6(x)\n",
        "\n",
        "        return x\n"
      ]
    },
    {
      "cell_type": "code",
      "execution_count": 5,
      "metadata": {
        "id": "qWZtkCZcU_dg"
      },
      "outputs": [],
      "source": [
        "# He initialization of weights\n",
        "def weights_init(layer_in):\n",
        "  if isinstance(layer_in, nn.Linear):\n",
        "    nn.init.kaiming_uniform_(layer_in.weight)\n",
        "    layer_in.bias.data.fill_(0.0)"
      ]
    },
    {
      "cell_type": "code",
      "execution_count": 6,
      "metadata": {
        "id": "FslroPJJffrh"
      },
      "outputs": [],
      "source": [
        "# Create network\n",
        "model = Net()\n",
        "# Initialize model weights\n",
        "model.apply(weights_init)\n",
        "# Define optimizer\n",
        "optimizer = optim.SGD(model.parameters(), lr=0.01, momentum=0.5)"
      ]
    },
    {
      "cell_type": "code",
      "execution_count": 7,
      "metadata": {
        "id": "xKQd9PzkQ766"
      },
      "outputs": [],
      "source": [
        "# Main training routine\n",
        "def train(epoch):\n",
        "  model.train()\n",
        "  # Get each\n",
        "  for batch_idx, (data, target) in enumerate(train_loader):\n",
        "    optimizer.zero_grad()\n",
        "    output = model(data)\n",
        "    loss = F.nll_loss(output, target)\n",
        "    loss.backward()\n",
        "    optimizer.step()\n",
        "    # Store results\n",
        "    if batch_idx % 10 == 0:\n",
        "      print('Train Epoch: {} [{}/{}]\\tLoss: {:.6f}'.format(\n",
        "        epoch, batch_idx * len(data), len(train_loader.dataset), loss.item()))"
      ]
    },
    {
      "cell_type": "code",
      "execution_count": 8,
      "metadata": {
        "id": "Byn-f7qWRLxX"
      },
      "outputs": [],
      "source": [
        "# Run on test data\n",
        "def test():\n",
        "  model.eval()\n",
        "  test_loss = 0\n",
        "  correct = 0\n",
        "  with torch.no_grad():\n",
        "    for data, target in test_loader:\n",
        "      output = model(data)\n",
        "      test_loss += F.nll_loss(output, target, size_average=False).item()\n",
        "      pred = output.data.max(1, keepdim=True)[1]\n",
        "      correct += pred.eq(target.data.view_as(pred)).sum()\n",
        "  test_loss /= len(test_loader.dataset)\n",
        "  print('\\nTest set: Avg. loss: {:.4f}, Accuracy: {}/{} ({:.0f}%)\\n'.format(\n",
        "    test_loss, correct, len(test_loader.dataset),\n",
        "    100. * correct / len(test_loader.dataset)))"
      ]
    },
    {
      "cell_type": "code",
      "execution_count": 9,
      "metadata": {
        "id": "YgLaex1pfhqz",
        "colab": {
          "base_uri": "https://localhost:8080/"
        },
        "outputId": "891fb761-43ad-439e-bee9-f3d2fb5a2c1e"
      },
      "outputs": [
        {
          "output_type": "stream",
          "name": "stderr",
          "text": [
            "/usr/local/lib/python3.10/dist-packages/torch/nn/modules/module.py:1736: UserWarning: Implicit dimension choice for softmax has been deprecated. Change the call to include dim=X as an argument.\n",
            "  return self._call_impl(*args, **kwargs)\n",
            "/usr/local/lib/python3.10/dist-packages/torch/nn/_reduction.py:51: UserWarning: size_average and reduce args will be deprecated, please use reduction='sum' instead.\n",
            "  warnings.warn(warning.format(ret))\n"
          ]
        },
        {
          "output_type": "stream",
          "name": "stdout",
          "text": [
            "\n",
            "Test set: Avg. loss: -0.1018, Accuracy: 1134/10000 (11%)\n",
            "\n",
            "Train Epoch: 1 [0/60000]\tLoss: -0.097240\n",
            "Train Epoch: 1 [640/60000]\tLoss: -0.097449\n",
            "Train Epoch: 1 [1280/60000]\tLoss: -0.135696\n",
            "Train Epoch: 1 [1920/60000]\tLoss: -0.116301\n",
            "Train Epoch: 1 [2560/60000]\tLoss: -0.140305\n",
            "Train Epoch: 1 [3200/60000]\tLoss: -0.116211\n",
            "Train Epoch: 1 [3840/60000]\tLoss: -0.119402\n",
            "Train Epoch: 1 [4480/60000]\tLoss: -0.112657\n",
            "Train Epoch: 1 [5120/60000]\tLoss: -0.132971\n",
            "Train Epoch: 1 [5760/60000]\tLoss: -0.148807\n",
            "Train Epoch: 1 [6400/60000]\tLoss: -0.130646\n",
            "Train Epoch: 1 [7040/60000]\tLoss: -0.188494\n",
            "Train Epoch: 1 [7680/60000]\tLoss: -0.155252\n",
            "Train Epoch: 1 [8320/60000]\tLoss: -0.170293\n",
            "Train Epoch: 1 [8960/60000]\tLoss: -0.248703\n",
            "Train Epoch: 1 [9600/60000]\tLoss: -0.241579\n",
            "Train Epoch: 1 [10240/60000]\tLoss: -0.117756\n",
            "Train Epoch: 1 [10880/60000]\tLoss: -0.270443\n",
            "Train Epoch: 1 [11520/60000]\tLoss: -0.258448\n",
            "Train Epoch: 1 [12160/60000]\tLoss: -0.227848\n",
            "Train Epoch: 1 [12800/60000]\tLoss: -0.199849\n",
            "Train Epoch: 1 [13440/60000]\tLoss: -0.199256\n",
            "Train Epoch: 1 [14080/60000]\tLoss: -0.229843\n",
            "Train Epoch: 1 [14720/60000]\tLoss: -0.280050\n",
            "Train Epoch: 1 [15360/60000]\tLoss: -0.350770\n",
            "Train Epoch: 1 [16000/60000]\tLoss: -0.294188\n",
            "Train Epoch: 1 [16640/60000]\tLoss: -0.384908\n",
            "Train Epoch: 1 [17280/60000]\tLoss: -0.298673\n",
            "Train Epoch: 1 [17920/60000]\tLoss: -0.389847\n",
            "Train Epoch: 1 [18560/60000]\tLoss: -0.296020\n",
            "Train Epoch: 1 [19200/60000]\tLoss: -0.377851\n",
            "Train Epoch: 1 [19840/60000]\tLoss: -0.402648\n",
            "Train Epoch: 1 [20480/60000]\tLoss: -0.379476\n",
            "Train Epoch: 1 [21120/60000]\tLoss: -0.329789\n",
            "Train Epoch: 1 [21760/60000]\tLoss: -0.365991\n",
            "Train Epoch: 1 [22400/60000]\tLoss: -0.382172\n",
            "Train Epoch: 1 [23040/60000]\tLoss: -0.381117\n",
            "Train Epoch: 1 [23680/60000]\tLoss: -0.412561\n",
            "Train Epoch: 1 [24320/60000]\tLoss: -0.417288\n",
            "Train Epoch: 1 [24960/60000]\tLoss: -0.373358\n",
            "Train Epoch: 1 [25600/60000]\tLoss: -0.422223\n",
            "Train Epoch: 1 [26240/60000]\tLoss: -0.437119\n",
            "Train Epoch: 1 [26880/60000]\tLoss: -0.398064\n",
            "Train Epoch: 1 [27520/60000]\tLoss: -0.411499\n",
            "Train Epoch: 1 [28160/60000]\tLoss: -0.493084\n",
            "Train Epoch: 1 [28800/60000]\tLoss: -0.409405\n",
            "Train Epoch: 1 [29440/60000]\tLoss: -0.444546\n",
            "Train Epoch: 1 [30080/60000]\tLoss: -0.395885\n",
            "Train Epoch: 1 [30720/60000]\tLoss: -0.421680\n",
            "Train Epoch: 1 [31360/60000]\tLoss: -0.419604\n",
            "Train Epoch: 1 [32000/60000]\tLoss: -0.420517\n",
            "Train Epoch: 1 [32640/60000]\tLoss: -0.447428\n",
            "Train Epoch: 1 [33280/60000]\tLoss: -0.343655\n",
            "Train Epoch: 1 [33920/60000]\tLoss: -0.428699\n",
            "Train Epoch: 1 [34560/60000]\tLoss: -0.499075\n",
            "Train Epoch: 1 [35200/60000]\tLoss: -0.389158\n",
            "Train Epoch: 1 [35840/60000]\tLoss: -0.385272\n",
            "Train Epoch: 1 [36480/60000]\tLoss: -0.539457\n",
            "Train Epoch: 1 [37120/60000]\tLoss: -0.304698\n",
            "Train Epoch: 1 [37760/60000]\tLoss: -0.376644\n",
            "Train Epoch: 1 [38400/60000]\tLoss: -0.432347\n",
            "Train Epoch: 1 [39040/60000]\tLoss: -0.416056\n",
            "Train Epoch: 1 [39680/60000]\tLoss: -0.512859\n",
            "Train Epoch: 1 [40320/60000]\tLoss: -0.356013\n",
            "Train Epoch: 1 [40960/60000]\tLoss: -0.405815\n",
            "Train Epoch: 1 [41600/60000]\tLoss: -0.440238\n",
            "Train Epoch: 1 [42240/60000]\tLoss: -0.409948\n",
            "Train Epoch: 1 [42880/60000]\tLoss: -0.471289\n",
            "Train Epoch: 1 [43520/60000]\tLoss: -0.501919\n",
            "Train Epoch: 1 [44160/60000]\tLoss: -0.503255\n",
            "Train Epoch: 1 [44800/60000]\tLoss: -0.494407\n",
            "Train Epoch: 1 [45440/60000]\tLoss: -0.495984\n",
            "Train Epoch: 1 [46080/60000]\tLoss: -0.492894\n",
            "Train Epoch: 1 [46720/60000]\tLoss: -0.523355\n",
            "Train Epoch: 1 [47360/60000]\tLoss: -0.486311\n",
            "Train Epoch: 1 [48000/60000]\tLoss: -0.534785\n",
            "Train Epoch: 1 [48640/60000]\tLoss: -0.509732\n",
            "Train Epoch: 1 [49280/60000]\tLoss: -0.557102\n",
            "Train Epoch: 1 [49920/60000]\tLoss: -0.608993\n",
            "Train Epoch: 1 [50560/60000]\tLoss: -0.404353\n",
            "Train Epoch: 1 [51200/60000]\tLoss: -0.471064\n",
            "Train Epoch: 1 [51840/60000]\tLoss: -0.443145\n",
            "Train Epoch: 1 [52480/60000]\tLoss: -0.517545\n",
            "Train Epoch: 1 [53120/60000]\tLoss: -0.436525\n",
            "Train Epoch: 1 [53760/60000]\tLoss: -0.513899\n",
            "Train Epoch: 1 [54400/60000]\tLoss: -0.491308\n",
            "Train Epoch: 1 [55040/60000]\tLoss: -0.523264\n",
            "Train Epoch: 1 [55680/60000]\tLoss: -0.459851\n",
            "Train Epoch: 1 [56320/60000]\tLoss: -0.595305\n",
            "Train Epoch: 1 [56960/60000]\tLoss: -0.529298\n",
            "Train Epoch: 1 [57600/60000]\tLoss: -0.537813\n",
            "Train Epoch: 1 [58240/60000]\tLoss: -0.574742\n",
            "Train Epoch: 1 [58880/60000]\tLoss: -0.639637\n",
            "Train Epoch: 1 [59520/60000]\tLoss: -0.604340\n",
            "\n",
            "Test set: Avg. loss: -0.5516, Accuracy: 5574/10000 (56%)\n",
            "\n",
            "Train Epoch: 2 [0/60000]\tLoss: -0.516055\n",
            "Train Epoch: 2 [640/60000]\tLoss: -0.521393\n",
            "Train Epoch: 2 [1280/60000]\tLoss: -0.527860\n",
            "Train Epoch: 2 [1920/60000]\tLoss: -0.581279\n",
            "Train Epoch: 2 [2560/60000]\tLoss: -0.570231\n",
            "Train Epoch: 2 [3200/60000]\tLoss: -0.462220\n",
            "Train Epoch: 2 [3840/60000]\tLoss: -0.509691\n",
            "Train Epoch: 2 [4480/60000]\tLoss: -0.568691\n",
            "Train Epoch: 2 [5120/60000]\tLoss: -0.518686\n",
            "Train Epoch: 2 [5760/60000]\tLoss: -0.449538\n",
            "Train Epoch: 2 [6400/60000]\tLoss: -0.467611\n",
            "Train Epoch: 2 [7040/60000]\tLoss: -0.533276\n",
            "Train Epoch: 2 [7680/60000]\tLoss: -0.689195\n",
            "Train Epoch: 2 [8320/60000]\tLoss: -0.592581\n",
            "Train Epoch: 2 [8960/60000]\tLoss: -0.501330\n",
            "Train Epoch: 2 [9600/60000]\tLoss: -0.388650\n",
            "Train Epoch: 2 [10240/60000]\tLoss: -0.601344\n",
            "Train Epoch: 2 [10880/60000]\tLoss: -0.404605\n",
            "Train Epoch: 2 [11520/60000]\tLoss: -0.466215\n",
            "Train Epoch: 2 [12160/60000]\tLoss: -0.572783\n",
            "Train Epoch: 2 [12800/60000]\tLoss: -0.568077\n",
            "Train Epoch: 2 [13440/60000]\tLoss: -0.631113\n",
            "Train Epoch: 2 [14080/60000]\tLoss: -0.667461\n",
            "Train Epoch: 2 [14720/60000]\tLoss: -0.570898\n",
            "Train Epoch: 2 [15360/60000]\tLoss: -0.472528\n",
            "Train Epoch: 2 [16000/60000]\tLoss: -0.601878\n",
            "Train Epoch: 2 [16640/60000]\tLoss: -0.639821\n",
            "Train Epoch: 2 [17280/60000]\tLoss: -0.576551\n",
            "Train Epoch: 2 [17920/60000]\tLoss: -0.602129\n",
            "Train Epoch: 2 [18560/60000]\tLoss: -0.476996\n",
            "Train Epoch: 2 [19200/60000]\tLoss: -0.547399\n",
            "Train Epoch: 2 [19840/60000]\tLoss: -0.387107\n",
            "Train Epoch: 2 [20480/60000]\tLoss: -0.477929\n",
            "Train Epoch: 2 [21120/60000]\tLoss: -0.537130\n",
            "Train Epoch: 2 [21760/60000]\tLoss: -0.565758\n",
            "Train Epoch: 2 [22400/60000]\tLoss: -0.521235\n",
            "Train Epoch: 2 [23040/60000]\tLoss: -0.524538\n",
            "Train Epoch: 2 [23680/60000]\tLoss: -0.634415\n",
            "Train Epoch: 2 [24320/60000]\tLoss: -0.404023\n",
            "Train Epoch: 2 [24960/60000]\tLoss: -0.466317\n",
            "Train Epoch: 2 [25600/60000]\tLoss: -0.482680\n",
            "Train Epoch: 2 [26240/60000]\tLoss: -0.564796\n",
            "Train Epoch: 2 [26880/60000]\tLoss: -0.489656\n",
            "Train Epoch: 2 [27520/60000]\tLoss: -0.483239\n",
            "Train Epoch: 2 [28160/60000]\tLoss: -0.616612\n",
            "Train Epoch: 2 [28800/60000]\tLoss: -0.585207\n",
            "Train Epoch: 2 [29440/60000]\tLoss: -0.553799\n",
            "Train Epoch: 2 [30080/60000]\tLoss: -0.482108\n",
            "Train Epoch: 2 [30720/60000]\tLoss: -0.547724\n",
            "Train Epoch: 2 [31360/60000]\tLoss: -0.628536\n",
            "Train Epoch: 2 [32000/60000]\tLoss: -0.559945\n",
            "Train Epoch: 2 [32640/60000]\tLoss: -0.585361\n",
            "Train Epoch: 2 [33280/60000]\tLoss: -0.483513\n",
            "Train Epoch: 2 [33920/60000]\tLoss: -0.456074\n",
            "Train Epoch: 2 [34560/60000]\tLoss: -0.525844\n",
            "Train Epoch: 2 [35200/60000]\tLoss: -0.526205\n",
            "Train Epoch: 2 [35840/60000]\tLoss: -0.517309\n",
            "Train Epoch: 2 [36480/60000]\tLoss: -0.508221\n",
            "Train Epoch: 2 [37120/60000]\tLoss: -0.609453\n",
            "Train Epoch: 2 [37760/60000]\tLoss: -0.615794\n",
            "Train Epoch: 2 [38400/60000]\tLoss: -0.694537\n",
            "Train Epoch: 2 [39040/60000]\tLoss: -0.557429\n",
            "Train Epoch: 2 [39680/60000]\tLoss: -0.523851\n",
            "Train Epoch: 2 [40320/60000]\tLoss: -0.601828\n",
            "Train Epoch: 2 [40960/60000]\tLoss: -0.564224\n",
            "Train Epoch: 2 [41600/60000]\tLoss: -0.559222\n",
            "Train Epoch: 2 [42240/60000]\tLoss: -0.611892\n",
            "Train Epoch: 2 [42880/60000]\tLoss: -0.588201\n",
            "Train Epoch: 2 [43520/60000]\tLoss: -0.584538\n",
            "Train Epoch: 2 [44160/60000]\tLoss: -0.640808\n",
            "Train Epoch: 2 [44800/60000]\tLoss: -0.567555\n",
            "Train Epoch: 2 [45440/60000]\tLoss: -0.574196\n",
            "Train Epoch: 2 [46080/60000]\tLoss: -0.498645\n",
            "Train Epoch: 2 [46720/60000]\tLoss: -0.600341\n",
            "Train Epoch: 2 [47360/60000]\tLoss: -0.558212\n",
            "Train Epoch: 2 [48000/60000]\tLoss: -0.587677\n",
            "Train Epoch: 2 [48640/60000]\tLoss: -0.593696\n",
            "Train Epoch: 2 [49280/60000]\tLoss: -0.636525\n",
            "Train Epoch: 2 [49920/60000]\tLoss: -0.530066\n",
            "Train Epoch: 2 [50560/60000]\tLoss: -0.567671\n",
            "Train Epoch: 2 [51200/60000]\tLoss: -0.558207\n",
            "Train Epoch: 2 [51840/60000]\tLoss: -0.689080\n",
            "Train Epoch: 2 [52480/60000]\tLoss: -0.614861\n",
            "Train Epoch: 2 [53120/60000]\tLoss: -0.667326\n",
            "Train Epoch: 2 [53760/60000]\tLoss: -0.677579\n",
            "Train Epoch: 2 [54400/60000]\tLoss: -0.594175\n",
            "Train Epoch: 2 [55040/60000]\tLoss: -0.529203\n",
            "Train Epoch: 2 [55680/60000]\tLoss: -0.481777\n",
            "Train Epoch: 2 [56320/60000]\tLoss: -0.573589\n",
            "Train Epoch: 2 [56960/60000]\tLoss: -0.578090\n",
            "Train Epoch: 2 [57600/60000]\tLoss: -0.609228\n",
            "Train Epoch: 2 [58240/60000]\tLoss: -0.531148\n",
            "Train Epoch: 2 [58880/60000]\tLoss: -0.545398\n",
            "Train Epoch: 2 [59520/60000]\tLoss: -0.572933\n",
            "\n",
            "Test set: Avg. loss: -0.6340, Accuracy: 6385/10000 (64%)\n",
            "\n",
            "Train Epoch: 3 [0/60000]\tLoss: -0.602800\n",
            "Train Epoch: 3 [640/60000]\tLoss: -0.523496\n",
            "Train Epoch: 3 [1280/60000]\tLoss: -0.556125\n",
            "Train Epoch: 3 [1920/60000]\tLoss: -0.627503\n",
            "Train Epoch: 3 [2560/60000]\tLoss: -0.669919\n",
            "Train Epoch: 3 [3200/60000]\tLoss: -0.553325\n",
            "Train Epoch: 3 [3840/60000]\tLoss: -0.637382\n",
            "Train Epoch: 3 [4480/60000]\tLoss: -0.665261\n",
            "Train Epoch: 3 [5120/60000]\tLoss: -0.633016\n",
            "Train Epoch: 3 [5760/60000]\tLoss: -0.507287\n",
            "Train Epoch: 3 [6400/60000]\tLoss: -0.488830\n",
            "Train Epoch: 3 [7040/60000]\tLoss: -0.477467\n",
            "Train Epoch: 3 [7680/60000]\tLoss: -0.666306\n",
            "Train Epoch: 3 [8320/60000]\tLoss: -0.637323\n",
            "Train Epoch: 3 [8960/60000]\tLoss: -0.637369\n",
            "Train Epoch: 3 [9600/60000]\tLoss: -0.621466\n",
            "Train Epoch: 3 [10240/60000]\tLoss: -0.556081\n",
            "Train Epoch: 3 [10880/60000]\tLoss: -0.610430\n",
            "Train Epoch: 3 [11520/60000]\tLoss: -0.675532\n",
            "Train Epoch: 3 [12160/60000]\tLoss: -0.673967\n",
            "Train Epoch: 3 [12800/60000]\tLoss: -0.629367\n",
            "Train Epoch: 3 [13440/60000]\tLoss: -0.614751\n",
            "Train Epoch: 3 [14080/60000]\tLoss: -0.585723\n",
            "Train Epoch: 3 [14720/60000]\tLoss: -0.540274\n",
            "Train Epoch: 3 [15360/60000]\tLoss: -0.571796\n",
            "Train Epoch: 3 [16000/60000]\tLoss: -0.621567\n",
            "Train Epoch: 3 [16640/60000]\tLoss: -0.638690\n",
            "Train Epoch: 3 [17280/60000]\tLoss: -0.605029\n",
            "Train Epoch: 3 [17920/60000]\tLoss: -0.684858\n",
            "Train Epoch: 3 [18560/60000]\tLoss: -0.592304\n",
            "Train Epoch: 3 [19200/60000]\tLoss: -0.642265\n",
            "Train Epoch: 3 [19840/60000]\tLoss: -0.650468\n",
            "Train Epoch: 3 [20480/60000]\tLoss: -0.607166\n",
            "Train Epoch: 3 [21120/60000]\tLoss: -0.701339\n",
            "Train Epoch: 3 [21760/60000]\tLoss: -0.505157\n",
            "Train Epoch: 3 [22400/60000]\tLoss: -0.730640\n",
            "Train Epoch: 3 [23040/60000]\tLoss: -0.629510\n",
            "Train Epoch: 3 [23680/60000]\tLoss: -0.568109\n",
            "Train Epoch: 3 [24320/60000]\tLoss: -0.704519\n",
            "Train Epoch: 3 [24960/60000]\tLoss: -0.607395\n",
            "Train Epoch: 3 [25600/60000]\tLoss: -0.588301\n",
            "Train Epoch: 3 [26240/60000]\tLoss: -0.655764\n",
            "Train Epoch: 3 [26880/60000]\tLoss: -0.643099\n",
            "Train Epoch: 3 [27520/60000]\tLoss: -0.651734\n",
            "Train Epoch: 3 [28160/60000]\tLoss: -0.571936\n",
            "Train Epoch: 3 [28800/60000]\tLoss: -0.512421\n",
            "Train Epoch: 3 [29440/60000]\tLoss: -0.466390\n",
            "Train Epoch: 3 [30080/60000]\tLoss: -0.698788\n",
            "Train Epoch: 3 [30720/60000]\tLoss: -0.702487\n",
            "Train Epoch: 3 [31360/60000]\tLoss: -0.518964\n",
            "Train Epoch: 3 [32000/60000]\tLoss: -0.704928\n",
            "Train Epoch: 3 [32640/60000]\tLoss: -0.739774\n",
            "Train Epoch: 3 [33280/60000]\tLoss: -0.667650\n",
            "Train Epoch: 3 [33920/60000]\tLoss: -0.613072\n",
            "Train Epoch: 3 [34560/60000]\tLoss: -0.527248\n",
            "Train Epoch: 3 [35200/60000]\tLoss: -0.553530\n",
            "Train Epoch: 3 [35840/60000]\tLoss: -0.638097\n",
            "Train Epoch: 3 [36480/60000]\tLoss: -0.520791\n",
            "Train Epoch: 3 [37120/60000]\tLoss: -0.662120\n",
            "Train Epoch: 3 [37760/60000]\tLoss: -0.593474\n",
            "Train Epoch: 3 [38400/60000]\tLoss: -0.594697\n",
            "Train Epoch: 3 [39040/60000]\tLoss: -0.780234\n",
            "Train Epoch: 3 [39680/60000]\tLoss: -0.654183\n",
            "Train Epoch: 3 [40320/60000]\tLoss: -0.597466\n",
            "Train Epoch: 3 [40960/60000]\tLoss: -0.564008\n",
            "Train Epoch: 3 [41600/60000]\tLoss: -0.706327\n",
            "Train Epoch: 3 [42240/60000]\tLoss: -0.629219\n",
            "Train Epoch: 3 [42880/60000]\tLoss: -0.587493\n",
            "Train Epoch: 3 [43520/60000]\tLoss: -0.605614\n",
            "Train Epoch: 3 [44160/60000]\tLoss: -0.638475\n",
            "Train Epoch: 3 [44800/60000]\tLoss: -0.556242\n",
            "Train Epoch: 3 [45440/60000]\tLoss: -0.719661\n",
            "Train Epoch: 3 [46080/60000]\tLoss: -0.639513\n",
            "Train Epoch: 3 [46720/60000]\tLoss: -0.693257\n",
            "Train Epoch: 3 [47360/60000]\tLoss: -0.622229\n",
            "Train Epoch: 3 [48000/60000]\tLoss: -0.637082\n",
            "Train Epoch: 3 [48640/60000]\tLoss: -0.616365\n",
            "Train Epoch: 3 [49280/60000]\tLoss: -0.635156\n",
            "Train Epoch: 3 [49920/60000]\tLoss: -0.709091\n",
            "Train Epoch: 3 [50560/60000]\tLoss: -0.628723\n",
            "Train Epoch: 3 [51200/60000]\tLoss: -0.737467\n",
            "Train Epoch: 3 [51840/60000]\tLoss: -0.645120\n",
            "Train Epoch: 3 [52480/60000]\tLoss: -0.616400\n",
            "Train Epoch: 3 [53120/60000]\tLoss: -0.585187\n",
            "Train Epoch: 3 [53760/60000]\tLoss: -0.651874\n",
            "Train Epoch: 3 [54400/60000]\tLoss: -0.713646\n",
            "Train Epoch: 3 [55040/60000]\tLoss: -0.664556\n",
            "Train Epoch: 3 [55680/60000]\tLoss: -0.565552\n",
            "Train Epoch: 3 [56320/60000]\tLoss: -0.707000\n",
            "Train Epoch: 3 [56960/60000]\tLoss: -0.712150\n",
            "Train Epoch: 3 [57600/60000]\tLoss: -0.655512\n",
            "Train Epoch: 3 [58240/60000]\tLoss: -0.669971\n",
            "Train Epoch: 3 [58880/60000]\tLoss: -0.690485\n",
            "Train Epoch: 3 [59520/60000]\tLoss: -0.665503\n",
            "\n",
            "Test set: Avg. loss: -0.6508, Accuracy: 6540/10000 (65%)\n",
            "\n"
          ]
        }
      ],
      "source": [
        "# Get initial performance\n",
        "test()\n",
        "# Train for three epochs\n",
        "n_epochs = 3\n",
        "for epoch in range(1, n_epochs + 1):\n",
        "  train(epoch)\n",
        "  test()"
      ]
    },
    {
      "cell_type": "code",
      "execution_count": 10,
      "metadata": {
        "id": "o7fRUAy9Se1B",
        "colab": {
          "base_uri": "https://localhost:8080/",
          "height": 207
        },
        "outputId": "8b543fe5-4ba0-4a11-e9ca-aa75c7ccdbf0"
      },
      "outputs": [
        {
          "output_type": "display_data",
          "data": {
            "text/plain": [
              "<Figure size 640x480 with 10 Axes>"
            ],
            "image/png": "[encoded data removed]"
          },
          "metadata": {}
        }
      ],
      "source": [
        "# Run network on data we got before and show predictions\n",
        "output = model(example_data)\n",
        "\n",
        "fig = plt.figure()\n",
        "for i in range(10):\n",
        "  plt.subplot(5,5,i+1)\n",
        "  plt.tight_layout()\n",
        "  plt.imshow(example_data[i][0], cmap='gray', interpolation='none')\n",
        "  plt.title(\"Prediction: {}\".format(\n",
        "    output.data.max(1, keepdim=True)[1][i].item()))\n",
        "  plt.xticks([])\n",
        "  plt.yticks([])\n",
        "plt.show()"
      ]
    }
  ],
  "metadata": {
    "colab": {
      "provenance": []
    },
    "kernelspec": {
      "display_name": "deeplearning",
      "language": "python",
      "name": "python3"
    },
    "language_info": {
      "codemirror_mode": {
        "name": "ipython",
        "version": 3
      },
      "file_extension": ".py",
      "mimetype": "text/x-python",
      "name": "python",
      "nbconvert_exporter": "python",
      "pygments_lexer": "ipython3",
      "version": "3.11.10"
    }
  },
  "nbformat": 4,
  "nbformat_minor": 0
}