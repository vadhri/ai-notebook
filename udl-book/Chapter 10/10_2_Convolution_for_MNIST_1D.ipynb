{
 "cells": [
  {
   "cell_type": "markdown",
   "metadata": {
    "colab_type": "text",
    "id": "view-in-github"
   },
   "source": [
    "<a href=\"https://colab.research.google.com/github/udlbook/udlbook/blob/main/Notebooks/Chap10/10_2_Convolution_for_MNIST_1D.ipynb\" target=\"_parent\"><img src=\"https://colab.research.google.com/assets/colab-badge.svg\" alt=\"Open In Colab\"/></a>"
   ]
  },
  {
   "cell_type": "markdown",
   "metadata": {
    "id": "t9vk9Elugvmi"
   },
   "source": [
    "# **Notebook 10.2: Convolution for MNIST-1D**\n",
    "\n",
    "This notebook investigates a 1D convolutional network for MNIST-1D as in figure 10.7 and 10.8a.\n",
    "\n",
    "Work through the cells below, running each cell in turn. In various places you will see the words \"TO DO\". Follow the instructions at these places and make predictions about what is going to happen or write code to complete the functions.\n",
    "\n",
    "Contact me at udlbookmail@gmail.com if you find any mistakes or have any suggestions.\n",
    "\n"
   ]
  },
  {
   "cell_type": "code",
   "execution_count": 1,
   "metadata": {
    "id": "D5yLObtZCi9J"
   },
   "outputs": [
    {
     "name": "stdout",
     "output_type": "stream",
     "text": [
      "Collecting git+https://github.com/greydanus/mnist1d\n",
      "  Cloning https://github.com/greydanus/mnist1d to /private/var/folders/n5/sr7wwb8n1wggd7jsk_k37l_w0000gn/T/pip-req-build-7otflrt9\n",
      "  Running command git clone --filter=blob:none --quiet https://github.com/greydanus/mnist1d /private/var/folders/n5/sr7wwb8n1wggd7jsk_k37l_w0000gn/T/pip-req-build-7otflrt9\n",
      "  Resolved https://github.com/greydanus/mnist1d to commit 7878d96082abd200c546a07a4101fa90b30fdf7e\n",
      "  Installing build dependencies ... \u001b[?25ldone\n",
      "\u001b[?25h  Getting requirements to build wheel ... \u001b[?25ldone\n",
      "\u001b[?25h  Preparing metadata (pyproject.toml) ... \u001b[?25ldone\n",
      "\u001b[?25hRequirement already satisfied: requests in /Users/venkat/.conda/envs/deeplearning/lib/python3.11/site-packages (from mnist1d==0.0.2.post16) (2.32.3)\n",
      "Requirement already satisfied: numpy in /Users/venkat/.conda/envs/deeplearning/lib/python3.11/site-packages (from mnist1d==0.0.2.post16) (1.26.4)\n",
      "Requirement already satisfied: matplotlib in /Users/venkat/.conda/envs/deeplearning/lib/python3.11/site-packages (from mnist1d==0.0.2.post16) (3.9.2)\n",
      "Requirement already satisfied: scipy in /Users/venkat/.conda/envs/deeplearning/lib/python3.11/site-packages (from mnist1d==0.0.2.post16) (1.14.1)\n",
      "Requirement already satisfied: contourpy>=1.0.1 in /Users/venkat/.conda/envs/deeplearning/lib/python3.11/site-packages (from matplotlib->mnist1d==0.0.2.post16) (1.3.0)\n",
      "Requirement already satisfied: cycler>=0.10 in /Users/venkat/.conda/envs/deeplearning/lib/python3.11/site-packages (from matplotlib->mnist1d==0.0.2.post16) (0.12.1)\n",
      "Requirement already satisfied: fonttools>=4.22.0 in /Users/venkat/.conda/envs/deeplearning/lib/python3.11/site-packages (from matplotlib->mnist1d==0.0.2.post16) (4.54.1)\n",
      "Requirement already satisfied: kiwisolver>=1.3.1 in /Users/venkat/.conda/envs/deeplearning/lib/python3.11/site-packages (from matplotlib->mnist1d==0.0.2.post16) (1.4.7)\n",
      "Requirement already satisfied: packaging>=20.0 in /Users/venkat/.conda/envs/deeplearning/lib/python3.11/site-packages (from matplotlib->mnist1d==0.0.2.post16) (24.1)\n",
      "Requirement already satisfied: pillow>=8 in /Users/venkat/.conda/envs/deeplearning/lib/python3.11/site-packages (from matplotlib->mnist1d==0.0.2.post16) (11.0.0)\n",
      "Requirement already satisfied: pyparsing>=2.3.1 in /Users/venkat/.conda/envs/deeplearning/lib/python3.11/site-packages (from matplotlib->mnist1d==0.0.2.post16) (3.2.0)\n",
      "Requirement already satisfied: python-dateutil>=2.7 in /Users/venkat/.conda/envs/deeplearning/lib/python3.11/site-packages (from matplotlib->mnist1d==0.0.2.post16) (2.9.0.post0)\n",
      "Requirement already satisfied: charset-normalizer<4,>=2 in /Users/venkat/.conda/envs/deeplearning/lib/python3.11/site-packages (from requests->mnist1d==0.0.2.post16) (3.4.0)\n",
      "Requirement already satisfied: idna<4,>=2.5 in /Users/venkat/.conda/envs/deeplearning/lib/python3.11/site-packages (from requests->mnist1d==0.0.2.post16) (3.10)\n",
      "Requirement already satisfied: urllib3<3,>=1.21.1 in /Users/venkat/.conda/envs/deeplearning/lib/python3.11/site-packages (from requests->mnist1d==0.0.2.post16) (2.2.3)\n",
      "Requirement already satisfied: certifi>=2017.4.17 in /Users/venkat/.conda/envs/deeplearning/lib/python3.11/site-packages (from requests->mnist1d==0.0.2.post16) (2024.8.30)\n",
      "Requirement already satisfied: six>=1.5 in /Users/venkat/.conda/envs/deeplearning/lib/python3.11/site-packages (from python-dateutil>=2.7->matplotlib->mnist1d==0.0.2.post16) (1.16.0)\n"
     ]
    }
   ],
   "source": [
    "# Run this if you're in a Colab to install MNIST 1D repository\n",
    "!pip install git+https://github.com/greydanus/mnist1d"
   ]
  },
  {
   "cell_type": "code",
   "execution_count": 2,
   "metadata": {
    "id": "YrXWAH7sUWvU"
   },
   "outputs": [],
   "source": [
    "import numpy as np\n",
    "import os\n",
    "import torch, torch.nn as nn\n",
    "from torch.utils.data import TensorDataset, DataLoader\n",
    "from torch.optim.lr_scheduler import StepLR\n",
    "import matplotlib.pyplot as plt\n",
    "import mnist1d\n",
    "import random"
   ]
  },
  {
   "cell_type": "code",
   "execution_count": 3,
   "metadata": {
    "id": "twI72ZCrCt5z"
   },
   "outputs": [
    {
     "name": "stdout",
     "output_type": "stream",
     "text": [
      "Successfully loaded data from ./mnist1d_data.pkl\n",
      "Examples in training set: 4000\n",
      "Examples in test set: 1000\n",
      "Length of each example: 40\n"
     ]
    }
   ],
   "source": [
    "args = mnist1d.data.get_dataset_args()\n",
    "data = mnist1d.data.get_dataset(args, path='./mnist1d_data.pkl', download=False, regenerate=False)\n",
    "\n",
    "# The training and test input and outputs are in\n",
    "# data['x'], data['y'], data['x_test'], and data['y_test']\n",
    "print(\"Examples in training set: {}\".format(len(data['y'])))\n",
    "print(\"Examples in test set: {}\".format(len(data['y_test'])))\n",
    "print(\"Length of each example: {}\".format(data['x'].shape[-1]))"
   ]
  },
  {
   "cell_type": "code",
   "execution_count": 5,
   "metadata": {
    "id": "8bKADvLHbiV5"
   },
   "outputs": [
    {
     "name": "stdout",
     "output_type": "stream",
     "text": [
      "Train data: 4000 examples (columns), each of which has 40 dimensions (rows)\n",
      "Validation data: 1000 examples (columns), each of which has 40 dimensions (rows)\n"
     ]
    }
   ],
   "source": [
    "# Load in the data\n",
    "train_data_x = data['x'].transpose()\n",
    "train_data_y = data['y']\n",
    "val_data_x = data['x_test'].transpose()\n",
    "val_data_y = data['y_test']\n",
    "# Print out sizes\n",
    "print(\"Train data: %d examples (columns), each of which has %d dimensions (rows)\"%((train_data_x.shape[1],train_data_x.shape[0])))\n",
    "print(\"Validation data: %d examples (columns), each of which has %d dimensions (rows)\"%((val_data_x.shape[1],val_data_x.shape[0])))"
   ]
  },
  {
   "cell_type": "markdown",
   "metadata": {
    "id": "_sFvRDGrl4qe"
   },
   "source": [
    "Define the network"
   ]
  },
  {
   "cell_type": "code",
   "execution_count": 9,
   "metadata": {
    "id": "FslroPJJffrh"
   },
   "outputs": [],
   "source": [
    "# There are 40 input dimensions and 10 output dimensions for this data\n",
    "# The inputs correspond to the 40 offsets in the MNIST1D template.\n",
    "D_i = 40\n",
    "# The outputs correspond to the 10 digits\n",
    "D_o = 10\n",
    "\n",
    "\n",
    "# TODO Create a model with the following layers\n",
    "# 1. Convolutional layer, (input=length 40 and 1 channel, kernel size 3, stride 2, padding=\"valid\", 15 output channels )\n",
    "# 2. ReLU\n",
    "# 3. Convolutional layer, (input=length 19 and 15 channels, kernel size 3, stride 2, padding=\"valid\", 15 output channels )\n",
    "# 4. ReLU\n",
    "# 5. Convolutional layer, (input=length 9 and 15 channels, kernel size 3, stride 2, padding=\"valid\", 15 output channels)\n",
    "# 6. ReLU\n",
    "# 7. Flatten (converts 4x15) to length 60\n",
    "# 8. Linear layer (input size = 60, output size = 10)\n",
    "# References:\n",
    "# https://pytorch.org/docs/1.13/generated/torch.nn.Conv1d.html?highlight=conv1d#torch.nn.Conv1d\n",
    "# https://pytorch.org/docs/stable/generated/torch.nn.Flatten.html\n",
    "# https://pytorch.org/docs/1.13/generated/torch.nn.Linear.html?highlight=linear#torch.nn.Linear\n",
    "\n",
    "# NOTE THAT THE CONVOLUTIONAL LAYERS NEED TO TAKE THE NUMBER OF INPUT CHANNELS AS A PARAMETER\n",
    "# AND NOT THE INPUT SIZE.\n",
    "\n",
    "# Replace the following function:\n",
    "model = nn.Sequential(\n",
    "nn.Conv1d(1, out_channels=15, kernel_size=3, stride=2, padding=\"valid\"),\n",
    "nn.ReLU(),\n",
    "nn.Conv1d(15, out_channels=15, kernel_size=3, stride=2, padding=\"valid\"),\n",
    "nn.ReLU(),\n",
    "nn.Conv1d(15, out_channels=15, kernel_size=3, stride=2, padding=\"valid\"),\n",
    "nn.ReLU(),\n",
    "nn.Flatten(),\n",
    "nn.Linear(60, 10))"
   ]
  },
  {
   "cell_type": "code",
   "execution_count": 10,
   "metadata": {
    "id": "YgLaex1pfhqz"
   },
   "outputs": [],
   "source": [
    "# He initialization of weights\n",
    "def weights_init(layer_in):\n",
    "  if isinstance(layer_in, nn.Linear):\n",
    "    nn.init.kaiming_uniform_(layer_in.weight)\n",
    "    layer_in.bias.data.fill_(0.0)"
   ]
  },
  {
   "cell_type": "code",
   "execution_count": 11,
   "metadata": {
    "id": "NYw8I_3mmX5c"
   },
   "outputs": [
    {
     "name": "stdout",
     "output_type": "stream",
     "text": [
      "Epoch     0, train loss 1.927976, train error 76.75,  val loss 1.934028, percent error 75.80\n",
      "Epoch     1, train loss 1.487166, train error 58.58,  val loss 1.514815, percent error 62.30\n",
      "Epoch     2, train loss 1.393596, train error 55.33,  val loss 1.404949, percent error 56.40\n",
      "Epoch     3, train loss 1.290558, train error 51.95,  val loss 1.308021, percent error 53.10\n",
      "Epoch     4, train loss 1.244212, train error 50.40,  val loss 1.243488, percent error 52.30\n",
      "Epoch     5, train loss 1.167303, train error 46.15,  val loss 1.188735, percent error 47.60\n",
      "Epoch     6, train loss 1.057173, train error 42.12,  val loss 1.060673, percent error 44.00\n",
      "Epoch     7, train loss 0.960086, train error 37.65,  val loss 0.984692, percent error 39.90\n",
      "Epoch     8, train loss 0.897552, train error 36.72,  val loss 0.949227, percent error 39.20\n",
      "Epoch     9, train loss 0.883744, train error 36.92,  val loss 0.929272, percent error 38.80\n",
      "Epoch    10, train loss 0.772814, train error 32.55,  val loss 0.826871, percent error 35.40\n",
      "Epoch    11, train loss 0.685447, train error 27.25,  val loss 0.767104, percent error 31.90\n",
      "Epoch    12, train loss 0.704113, train error 28.60,  val loss 0.806422, percent error 32.30\n",
      "Epoch    13, train loss 0.610754, train error 24.20,  val loss 0.685965, percent error 29.40\n",
      "Epoch    14, train loss 0.557963, train error 20.82,  val loss 0.673970, percent error 25.50\n",
      "Epoch    15, train loss 0.526506, train error 20.80,  val loss 0.629541, percent error 24.60\n",
      "Epoch    16, train loss 0.476616, train error 16.78,  val loss 0.590911, percent error 21.20\n",
      "Epoch    17, train loss 0.403938, train error 13.65,  val loss 0.542276, percent error 19.30\n",
      "Epoch    18, train loss 0.355024, train error 12.85,  val loss 0.504882, percent error 18.10\n",
      "Epoch    19, train loss 0.316482, train error 11.47,  val loss 0.471335, percent error 15.80\n",
      "Epoch    20, train loss 0.255420, train error 8.47,  val loss 0.396543, percent error 13.90\n",
      "Epoch    21, train loss 0.253161, train error 8.57,  val loss 0.413100, percent error 14.30\n",
      "Epoch    22, train loss 0.224278, train error 7.75,  val loss 0.401302, percent error 14.20\n",
      "Epoch    23, train loss 0.217569, train error 7.80,  val loss 0.387722, percent error 13.30\n",
      "Epoch    24, train loss 0.198532, train error 6.85,  val loss 0.385004, percent error 12.20\n",
      "Epoch    25, train loss 0.192316, train error 6.82,  val loss 0.372405, percent error 12.10\n",
      "Epoch    26, train loss 0.174413, train error 6.20,  val loss 0.353115, percent error 11.90\n",
      "Epoch    27, train loss 0.183100, train error 6.20,  val loss 0.389653, percent error 12.20\n",
      "Epoch    28, train loss 0.200807, train error 7.50,  val loss 0.382247, percent error 12.80\n",
      "Epoch    29, train loss 0.164023, train error 5.40,  val loss 0.349684, percent error 11.20\n",
      "Epoch    30, train loss 0.180556, train error 6.78,  val loss 0.416566, percent error 13.30\n",
      "Epoch    31, train loss 0.148400, train error 5.80,  val loss 0.372658, percent error 11.80\n",
      "Epoch    32, train loss 0.151001, train error 5.47,  val loss 0.356016, percent error 11.20\n",
      "Epoch    33, train loss 0.152813, train error 5.40,  val loss 0.367388, percent error 11.50\n",
      "Epoch    34, train loss 0.146388, train error 5.18,  val loss 0.367526, percent error 11.70\n",
      "Epoch    35, train loss 0.138349, train error 4.85,  val loss 0.341967, percent error 10.50\n",
      "Epoch    36, train loss 0.127063, train error 4.75,  val loss 0.368089, percent error 11.50\n",
      "Epoch    37, train loss 0.146414, train error 5.35,  val loss 0.379671, percent error 11.50\n",
      "Epoch    38, train loss 0.172727, train error 6.32,  val loss 0.408687, percent error 12.10\n",
      "Epoch    39, train loss 0.115647, train error 4.07,  val loss 0.358651, percent error 11.40\n",
      "Epoch    40, train loss 0.092980, train error 3.05,  val loss 0.339357, percent error 10.30\n",
      "Epoch    41, train loss 0.088560, train error 2.72,  val loss 0.335837, percent error 10.40\n",
      "Epoch    42, train loss 0.087840, train error 2.65,  val loss 0.347705, percent error 10.40\n",
      "Epoch    43, train loss 0.085607, train error 2.72,  val loss 0.353422, percent error 10.50\n",
      "Epoch    44, train loss 0.082132, train error 2.65,  val loss 0.342875, percent error 9.60\n",
      "Epoch    45, train loss 0.083732, train error 2.55,  val loss 0.360188, percent error 9.70\n",
      "Epoch    46, train loss 0.088281, train error 2.62,  val loss 0.353568, percent error 10.50\n",
      "Epoch    47, train loss 0.078221, train error 2.28,  val loss 0.352739, percent error 9.80\n",
      "Epoch    48, train loss 0.082654, train error 2.47,  val loss 0.362709, percent error 10.30\n",
      "Epoch    49, train loss 0.078695, train error 2.20,  val loss 0.350913, percent error 10.00\n",
      "Epoch    50, train loss 0.072586, train error 1.88,  val loss 0.355840, percent error 9.50\n",
      "Epoch    51, train loss 0.075117, train error 2.30,  val loss 0.358784, percent error 9.60\n",
      "Epoch    52, train loss 0.077753, train error 2.25,  val loss 0.374921, percent error 9.50\n",
      "Epoch    53, train loss 0.068330, train error 1.88,  val loss 0.359880, percent error 10.10\n",
      "Epoch    54, train loss 0.068275, train error 1.97,  val loss 0.354902, percent error 9.20\n",
      "Epoch    55, train loss 0.067115, train error 1.78,  val loss 0.375903, percent error 9.50\n",
      "Epoch    56, train loss 0.064669, train error 1.60,  val loss 0.366808, percent error 8.90\n",
      "Epoch    57, train loss 0.065052, train error 1.78,  val loss 0.359838, percent error 9.00\n",
      "Epoch    58, train loss 0.061589, train error 1.62,  val loss 0.383307, percent error 9.90\n",
      "Epoch    59, train loss 0.061689, train error 1.57,  val loss 0.362373, percent error 9.20\n",
      "Epoch    60, train loss 0.056724, train error 1.40,  val loss 0.372408, percent error 9.40\n",
      "Epoch    61, train loss 0.057508, train error 1.32,  val loss 0.368063, percent error 9.50\n",
      "Epoch    62, train loss 0.055222, train error 1.25,  val loss 0.372966, percent error 9.10\n",
      "Epoch    63, train loss 0.056674, train error 1.20,  val loss 0.371087, percent error 9.30\n",
      "Epoch    64, train loss 0.054842, train error 1.30,  val loss 0.376430, percent error 9.90\n",
      "Epoch    65, train loss 0.054821, train error 1.32,  val loss 0.379786, percent error 10.00\n",
      "Epoch    66, train loss 0.053128, train error 1.25,  val loss 0.377000, percent error 9.60\n",
      "Epoch    67, train loss 0.053174, train error 1.15,  val loss 0.375816, percent error 9.10\n",
      "Epoch    68, train loss 0.054480, train error 1.35,  val loss 0.380234, percent error 8.90\n",
      "Epoch    69, train loss 0.052257, train error 1.18,  val loss 0.382209, percent error 9.80\n",
      "Epoch    70, train loss 0.052116, train error 1.15,  val loss 0.382360, percent error 9.60\n",
      "Epoch    71, train loss 0.052445, train error 1.25,  val loss 0.386302, percent error 9.70\n",
      "Epoch    72, train loss 0.051692, train error 1.15,  val loss 0.382494, percent error 9.90\n",
      "Epoch    73, train loss 0.050200, train error 1.10,  val loss 0.378258, percent error 9.60\n",
      "Epoch    74, train loss 0.049070, train error 1.00,  val loss 0.386356, percent error 9.60\n",
      "Epoch    75, train loss 0.049169, train error 1.12,  val loss 0.389437, percent error 9.20\n",
      "Epoch    76, train loss 0.051135, train error 1.28,  val loss 0.387362, percent error 9.70\n",
      "Epoch    77, train loss 0.048689, train error 1.03,  val loss 0.389449, percent error 9.50\n",
      "Epoch    78, train loss 0.047872, train error 1.10,  val loss 0.395307, percent error 9.50\n",
      "Epoch    79, train loss 0.048113, train error 0.97,  val loss 0.399187, percent error 9.80\n",
      "Epoch    80, train loss 0.046484, train error 0.97,  val loss 0.387348, percent error 9.90\n",
      "Epoch    81, train loss 0.046315, train error 1.00,  val loss 0.390936, percent error 9.40\n",
      "Epoch    82, train loss 0.045593, train error 0.93,  val loss 0.390398, percent error 9.20\n",
      "Epoch    83, train loss 0.046024, train error 0.97,  val loss 0.392329, percent error 9.80\n",
      "Epoch    84, train loss 0.047258, train error 0.95,  val loss 0.392954, percent error 9.90\n",
      "Epoch    85, train loss 0.044985, train error 0.95,  val loss 0.394413, percent error 9.70\n",
      "Epoch    86, train loss 0.044788, train error 0.93,  val loss 0.391356, percent error 9.90\n",
      "Epoch    87, train loss 0.045832, train error 0.97,  val loss 0.396134, percent error 9.80\n",
      "Epoch    88, train loss 0.044752, train error 0.97,  val loss 0.393686, percent error 9.90\n",
      "Epoch    89, train loss 0.043943, train error 0.80,  val loss 0.394243, percent error 9.60\n",
      "Epoch    90, train loss 0.044618, train error 0.97,  val loss 0.399599, percent error 9.90\n",
      "Epoch    91, train loss 0.043608, train error 0.90,  val loss 0.396399, percent error 9.40\n",
      "Epoch    92, train loss 0.043325, train error 0.85,  val loss 0.397140, percent error 9.60\n",
      "Epoch    93, train loss 0.043333, train error 0.95,  val loss 0.399103, percent error 10.00\n",
      "Epoch    94, train loss 0.044830, train error 1.10,  val loss 0.402949, percent error 9.50\n",
      "Epoch    95, train loss 0.043430, train error 0.93,  val loss 0.400704, percent error 10.00\n",
      "Epoch    96, train loss 0.042598, train error 0.90,  val loss 0.398359, percent error 9.60\n",
      "Epoch    97, train loss 0.043310, train error 0.88,  val loss 0.400061, percent error 9.50\n",
      "Epoch    98, train loss 0.042578, train error 0.80,  val loss 0.399967, percent error 9.80\n",
      "Epoch    99, train loss 0.041979, train error 0.82,  val loss 0.401100, percent error 9.90\n"
     ]
    },
    {
     "data": {
      "image/png": "[encoded data removed]",
      "text/plain": [
       "<Figure size 640x480 with 1 Axes>"
      ]
     },
     "metadata": {},
     "output_type": "display_data"
    }
   ],
   "source": [
    "# choose cross entropy loss function (equation 5.24 in the loss notes)\n",
    "loss_function = nn.CrossEntropyLoss()\n",
    "# construct SGD optimizer and initialize learning rate and momentum\n",
    "optimizer = torch.optim.SGD(model.parameters(), lr = 0.05, momentum=0.9)\n",
    "# object that decreases learning rate by half every 20 epochs\n",
    "scheduler = StepLR(optimizer, step_size=20, gamma=0.5)\n",
    "# create 100 dummy data points and store in data loader class\n",
    "x_train = torch.tensor(train_data_x.transpose().astype('float32'))\n",
    "y_train = torch.tensor(train_data_y.astype('long')).long()\n",
    "x_val= torch.tensor(val_data_x.transpose().astype('float32'))\n",
    "y_val = torch.tensor(val_data_y.astype('long')).long()\n",
    "\n",
    "# load the data into a class that creates the batches\n",
    "data_loader = DataLoader(TensorDataset(x_train,y_train), batch_size=100, shuffle=True, worker_init_fn=np.random.seed(1))\n",
    "\n",
    "# Initialize model weights\n",
    "model.apply(weights_init)\n",
    "\n",
    "# loop over the dataset n_epoch times\n",
    "n_epoch = 100\n",
    "# store the loss and the % correct at each epoch\n",
    "losses_train = np.zeros((n_epoch))\n",
    "errors_train = np.zeros((n_epoch))\n",
    "losses_val = np.zeros((n_epoch))\n",
    "errors_val = np.zeros((n_epoch))\n",
    "\n",
    "for epoch in range(n_epoch):\n",
    "  # loop over batches\n",
    "  for i, data in enumerate(data_loader):\n",
    "    # retrieve inputs and labels for this batch\n",
    "    x_batch, y_batch = data\n",
    "    # zero the parameter gradients\n",
    "    optimizer.zero_grad()\n",
    "    # forward pass -- calculate model output\n",
    "    pred = model(x_batch[:,None,:])\n",
    "    # compute the loss\n",
    "    loss = loss_function(pred, y_batch)\n",
    "    # backward pass\n",
    "    loss.backward()\n",
    "    # SGD update\n",
    "    optimizer.step()\n",
    "\n",
    "  # Run whole dataset to get statistics -- normally wouldn't do this\n",
    "  pred_train = model(x_train[:,None,:])\n",
    "  pred_val = model(x_val[:,None,:])\n",
    "  _, predicted_train_class = torch.max(pred_train.data, 1)\n",
    "  _, predicted_val_class = torch.max(pred_val.data, 1)\n",
    "  errors_train[epoch] = 100 - 100 * (predicted_train_class == y_train).float().sum() / len(y_train)\n",
    "  errors_val[epoch]= 100 - 100 * (predicted_val_class == y_val).float().sum() / len(y_val)\n",
    "  losses_train[epoch] = loss_function(pred_train, y_train).item()\n",
    "  losses_val[epoch]= loss_function(pred_val, y_val).item()\n",
    "  print(f'Epoch {epoch:5d}, train loss {losses_train[epoch]:.6f}, train error {errors_train[epoch]:3.2f},  val loss {losses_val[epoch]:.6f}, percent error {errors_val[epoch]:3.2f}')\n",
    "\n",
    "  # tell scheduler to consider updating learning rate\n",
    "  scheduler.step()\n",
    "\n",
    "# Plot the results\n",
    "fig, ax = plt.subplots()\n",
    "ax.plot(errors_train,'r-',label='train')\n",
    "ax.plot(errors_val,'b-',label='validation')\n",
    "ax.set_ylim(0,100); ax.set_xlim(0,n_epoch)\n",
    "ax.set_xlabel('Epoch'); ax.set_ylabel('Error')\n",
    "ax.set_title('Part I: Validation Result %3.2f'%(errors_val[-1]))\n",
    "ax.legend()\n",
    "plt.show()"
   ]
  }
 ],
 "metadata": {
  "colab": {
   "authorship_tag": "ABX9TyNb46PJB/CC1pcHGfjpUUZg",
   "include_colab_link": true,
   "provenance": []
  },
  "kernelspec": {
   "display_name": "deeplearning",
   "language": "python",
   "name": "python3"
  },
  "language_info": {
   "codemirror_mode": {
    "name": "ipython",
    "version": 3
   },
   "file_extension": ".py",
   "mimetype": "text/x-python",
   "name": "python",
   "nbconvert_exporter": "python",
   "pygments_lexer": "ipython3",
   "version": "3.11.10"
  }
 },
 "nbformat": 4,
 "nbformat_minor": 0
}
