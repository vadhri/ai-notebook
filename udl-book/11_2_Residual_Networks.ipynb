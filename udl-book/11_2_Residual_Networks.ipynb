{
 "cells": [
  {
   "cell_type": "markdown",
   "metadata": {
    "colab_type": "text",
    "id": "view-in-github"
   },
   "source": [
    "<a href=\"https://colab.research.google.com/github/udlbook/udlbook/blob/main/Notebooks/Chap11/11_2_Residual_Networks.ipynb\" target=\"_parent\"><img src=\"https://colab.research.google.com/assets/colab-badge.svg\" alt=\"Open In Colab\"/></a>"
   ]
  },
  {
   "cell_type": "markdown",
   "metadata": {
    "id": "t9vk9Elugvmi"
   },
   "source": [
    "# **Notebook 11.2: Residual Networks**\n",
    "\n",
    "This notebook adapts the networks for MNIST1D to use residual connections.\n",
    "\n",
    "Work through the cells below, running each cell in turn. In various places you will see the words \"TO DO\". Follow the instructions at these places and make predictions about what is going to happen or write code to complete the functions.\n",
    "\n",
    "Contact me at udlbookmail@gmail.com if you find any mistakes or have any suggestions.\n",
    "\n"
   ]
  },
  {
   "cell_type": "code",
   "execution_count": 20,
   "metadata": {
    "id": "D5yLObtZCi9J"
   },
   "outputs": [
    {
     "name": "stdout",
     "output_type": "stream",
     "text": [
      "Collecting git+https://github.com/greydanus/mnist1d\n",
      "  Cloning https://github.com/greydanus/mnist1d to /private/var/folders/n5/sr7wwb8n1wggd7jsk_k37l_w0000gn/T/pip-req-build-eebc07yb\n",
      "  Running command git clone --filter=blob:none --quiet https://github.com/greydanus/mnist1d /private/var/folders/n5/sr7wwb8n1wggd7jsk_k37l_w0000gn/T/pip-req-build-eebc07yb\n",
      "  Resolved https://github.com/greydanus/mnist1d to commit 7878d96082abd200c546a07a4101fa90b30fdf7e\n",
      "  Installing build dependencies ... \u001b[?25ldone\n",
      "\u001b[?25h  Getting requirements to build wheel ... \u001b[?25ldone\n",
      "\u001b[?25h  Preparing metadata (pyproject.toml) ... \u001b[?25ldone\n",
      "\u001b[?25hRequirement already satisfied: requests in /Users/venkat/.conda/envs/deeplearning/lib/python3.11/site-packages (from mnist1d==0.0.2.post16) (2.32.3)\n",
      "Requirement already satisfied: numpy in /Users/venkat/.conda/envs/deeplearning/lib/python3.11/site-packages (from mnist1d==0.0.2.post16) (1.26.4)\n",
      "Requirement already satisfied: matplotlib in /Users/venkat/.conda/envs/deeplearning/lib/python3.11/site-packages (from mnist1d==0.0.2.post16) (3.9.2)\n",
      "Requirement already satisfied: scipy in /Users/venkat/.conda/envs/deeplearning/lib/python3.11/site-packages (from mnist1d==0.0.2.post16) (1.14.1)\n",
      "Requirement already satisfied: contourpy>=1.0.1 in /Users/venkat/.conda/envs/deeplearning/lib/python3.11/site-packages (from matplotlib->mnist1d==0.0.2.post16) (1.3.0)\n",
      "Requirement already satisfied: cycler>=0.10 in /Users/venkat/.conda/envs/deeplearning/lib/python3.11/site-packages (from matplotlib->mnist1d==0.0.2.post16) (0.12.1)\n",
      "Requirement already satisfied: fonttools>=4.22.0 in /Users/venkat/.conda/envs/deeplearning/lib/python3.11/site-packages (from matplotlib->mnist1d==0.0.2.post16) (4.54.1)\n",
      "Requirement already satisfied: kiwisolver>=1.3.1 in /Users/venkat/.conda/envs/deeplearning/lib/python3.11/site-packages (from matplotlib->mnist1d==0.0.2.post16) (1.4.7)\n",
      "Requirement already satisfied: packaging>=20.0 in /Users/venkat/.conda/envs/deeplearning/lib/python3.11/site-packages (from matplotlib->mnist1d==0.0.2.post16) (24.1)\n",
      "Requirement already satisfied: pillow>=8 in /Users/venkat/.conda/envs/deeplearning/lib/python3.11/site-packages (from matplotlib->mnist1d==0.0.2.post16) (11.0.0)\n",
      "Requirement already satisfied: pyparsing>=2.3.1 in /Users/venkat/.conda/envs/deeplearning/lib/python3.11/site-packages (from matplotlib->mnist1d==0.0.2.post16) (3.2.0)\n",
      "Requirement already satisfied: python-dateutil>=2.7 in /Users/venkat/.conda/envs/deeplearning/lib/python3.11/site-packages (from matplotlib->mnist1d==0.0.2.post16) (2.9.0.post0)\n",
      "Requirement already satisfied: charset-normalizer<4,>=2 in /Users/venkat/.conda/envs/deeplearning/lib/python3.11/site-packages (from requests->mnist1d==0.0.2.post16) (3.4.0)\n",
      "Requirement already satisfied: idna<4,>=2.5 in /Users/venkat/.conda/envs/deeplearning/lib/python3.11/site-packages (from requests->mnist1d==0.0.2.post16) (3.10)\n",
      "Requirement already satisfied: urllib3<3,>=1.21.1 in /Users/venkat/.conda/envs/deeplearning/lib/python3.11/site-packages (from requests->mnist1d==0.0.2.post16) (2.2.3)\n",
      "Requirement already satisfied: certifi>=2017.4.17 in /Users/venkat/.conda/envs/deeplearning/lib/python3.11/site-packages (from requests->mnist1d==0.0.2.post16) (2024.8.30)\n",
      "Requirement already satisfied: six>=1.5 in /Users/venkat/.conda/envs/deeplearning/lib/python3.11/site-packages (from python-dateutil>=2.7->matplotlib->mnist1d==0.0.2.post16) (1.16.0)\n"
     ]
    }
   ],
   "source": [
    "# Run this if you're in a Colab to install MNIST 1D repository\n",
    "!pip install git+https://github.com/greydanus/mnist1d"
   ]
  },
  {
   "cell_type": "code",
   "execution_count": 21,
   "metadata": {
    "id": "YrXWAH7sUWvU"
   },
   "outputs": [],
   "source": [
    "import numpy as np\n",
    "import os\n",
    "import torch, torch.nn as nn\n",
    "from torch.utils.data import TensorDataset, DataLoader\n",
    "from torch.optim.lr_scheduler import StepLR\n",
    "import matplotlib.pyplot as plt\n",
    "import mnist1d\n",
    "import random"
   ]
  },
  {
   "cell_type": "code",
   "execution_count": 22,
   "metadata": {
    "id": "twI72ZCrCt5z"
   },
   "outputs": [
    {
     "name": "stdout",
     "output_type": "stream",
     "text": [
      "Successfully loaded data from ./mnist1d_data.pkl\n",
      "Examples in training set: 4000\n",
      "Examples in test set: 1000\n",
      "Length of each example: 40\n"
     ]
    }
   ],
   "source": [
    "args = mnist1d.data.get_dataset_args()\n",
    "data = mnist1d.data.get_dataset(args, path='./mnist1d_data.pkl', download=False, regenerate=False)\n",
    "\n",
    "# The training and test input and outputs are in\n",
    "# data['x'], data['y'], data['x_test'], and data['y_test']\n",
    "print(\"Examples in training set: {}\".format(len(data['y'])))\n",
    "print(\"Examples in test set: {}\".format(len(data['y_test'])))\n",
    "print(\"Length of each example: {}\".format(data['x'].shape[-1]))"
   ]
  },
  {
   "cell_type": "code",
   "execution_count": 23,
   "metadata": {
    "id": "8bKADvLHbiV5"
   },
   "outputs": [
    {
     "name": "stdout",
     "output_type": "stream",
     "text": [
      "Train data: 4000 examples (columns), each of which has 40 dimensions (rows)\n",
      "Validation data: 1000 examples (columns), each of which has 40 dimensions (rows)\n"
     ]
    }
   ],
   "source": [
    "# Load in the data\n",
    "train_data_x = data['x'].transpose()\n",
    "train_data_y = data['y']\n",
    "val_data_x = data['x_test'].transpose()\n",
    "val_data_y = data['y_test']\n",
    "# Print out sizes\n",
    "print(\"Train data: %d examples (columns), each of which has %d dimensions (rows)\"%((train_data_x.shape[1],train_data_x.shape[0])))\n",
    "print(\"Validation data: %d examples (columns), each of which has %d dimensions (rows)\"%((val_data_x.shape[1],val_data_x.shape[0])))"
   ]
  },
  {
   "cell_type": "markdown",
   "metadata": {
    "id": "_sFvRDGrl4qe"
   },
   "source": [
    "Define the network"
   ]
  },
  {
   "cell_type": "code",
   "execution_count": null,
   "metadata": {
    "id": "FslroPJJffrh"
   },
   "outputs": [],
   "source": [
    "# There are 40 input dimensions and 10 output dimensions for this data\n",
    "# The inputs correspond to the 40 offsets in the MNIST1D template.\n",
    "D_i = 40\n",
    "# The outputs correspond to the 10 digits\n",
    "D_o = 10\n",
    "\n",
    "# We will adapt this model to have residual connections around the linear layers\n",
    "# This is the same model we used in practical 8.1, but we can't use the sequential\n",
    "# class for residual networks (which aren't strictly sequential).  Hence, I've rewritten\n",
    "# it as a model that inherits from a base class\n",
    "\n",
    "class ResidualNetwork(torch.nn.Module):\n",
    "  def __init__(self, input_size, output_size, hidden_size=100):\n",
    "    super(ResidualNetwork, self).__init__()\n",
    "    self.linear1 = nn.Linear(input_size, hidden_size)\n",
    "    self.linear2 = nn.Linear(hidden_size, hidden_size)\n",
    "    self.linear3 = nn.Linear(hidden_size, hidden_size)\n",
    "    self.linear4 = nn.Linear(hidden_size, output_size)\n",
    "    self.relu = nn.ReLU()\n",
    "    print(\"Initialized MLPBase model with {} parameters\".format(self.count_params()))\n",
    "\n",
    "  def count_params(self):\n",
    "    return sum([p.view(-1).shape[0] for p in self.parameters()])\n",
    "\n",
    "# TODO -- Add residual connections to this model\n",
    "# The order of operations within each block should similar to figure 11.5b\n",
    "# ie., linear1 first, ReLU+linear2 in first residual block, ReLU+linear3 in second residual block), linear4 at end\n",
    "# Replace this function\n",
    "  def forward(self, x):\n",
    "    h1 = self.linear1(x)\n",
    "\n",
    "    r1 = self.relu(h1)\n",
    "    h2 = self.linear2(r1)\n",
    "    h2 += h1\n",
    "    \n",
    "    r2 = self.relu(h2)\n",
    "    h3 = self.linear3(r2)\n",
    "    h3 += h2\n",
    "    \n",
    "    return self.linear4(h3)\n"
   ]
  },
  {
   "cell_type": "code",
   "execution_count": 25,
   "metadata": {
    "id": "YgLaex1pfhqz"
   },
   "outputs": [],
   "source": [
    "# He initialization of weights\n",
    "def weights_init(layer_in):\n",
    "  if isinstance(layer_in, nn.Linear):\n",
    "    nn.init.kaiming_uniform_(layer_in.weight)\n",
    "    layer_in.bias.data.fill_(0.0)"
   ]
  },
  {
   "cell_type": "code",
   "execution_count": 26,
   "metadata": {
    "id": "NYw8I_3mmX5c"
   },
   "outputs": [
    {
     "name": "stdout",
     "output_type": "stream",
     "text": [
      "Initialized MLPBase model with 25310 parameters\n",
      "Epoch     0, train loss 1.803382, train error 66.25,  val loss 1.875066, percent error 68.80\n",
      "Epoch     1, train loss 1.232993, train error 46.50,  val loss 1.413752, percent error 54.00\n",
      "Epoch     2, train loss 0.960362, train error 36.42,  val loss 1.188028, percent error 46.80\n",
      "Epoch     3, train loss 0.891082, train error 32.95,  val loss 1.165256, percent error 43.70\n",
      "Epoch     4, train loss 0.803587, train error 29.50,  val loss 1.098988, percent error 41.90\n",
      "Epoch     5, train loss 0.755671, train error 28.35,  val loss 1.201131, percent error 41.90\n",
      "Epoch     6, train loss 0.645850, train error 24.50,  val loss 1.108845, percent error 40.90\n",
      "Epoch     7, train loss 0.599722, train error 22.97,  val loss 1.118107, percent error 39.30\n",
      "Epoch     8, train loss 0.555652, train error 20.60,  val loss 1.121614, percent error 37.90\n",
      "Epoch     9, train loss 0.596140, train error 23.12,  val loss 1.335067, percent error 42.00\n",
      "Epoch    10, train loss 0.431697, train error 16.12,  val loss 1.242252, percent error 38.30\n",
      "Epoch    11, train loss 0.437649, train error 16.60,  val loss 1.208187, percent error 36.60\n",
      "Epoch    12, train loss 0.383435, train error 14.68,  val loss 1.221746, percent error 37.50\n",
      "Epoch    13, train loss 0.304024, train error 11.35,  val loss 1.229066, percent error 37.50\n",
      "Epoch    14, train loss 0.354181, train error 13.07,  val loss 1.386104, percent error 37.90\n",
      "Epoch    15, train loss 0.418666, train error 15.25,  val loss 1.555190, percent error 36.80\n",
      "Epoch    16, train loss 0.466548, train error 15.22,  val loss 1.633246, percent error 39.10\n",
      "Epoch    17, train loss 0.370106, train error 12.93,  val loss 1.465516, percent error 35.60\n",
      "Epoch    18, train loss 0.358448, train error 13.12,  val loss 1.497061, percent error 36.40\n",
      "Epoch    19, train loss 0.251948, train error 9.30,  val loss 1.463429, percent error 34.50\n",
      "Epoch    20, train loss 0.078410, train error 1.72,  val loss 1.232607, percent error 30.90\n",
      "Epoch    21, train loss 0.039288, train error 0.47,  val loss 1.220541, percent error 30.50\n",
      "Epoch    22, train loss 0.025675, train error 0.10,  val loss 1.253513, percent error 30.50\n",
      "Epoch    23, train loss 0.016942, train error 0.00,  val loss 1.271483, percent error 29.80\n",
      "Epoch    24, train loss 0.013223, train error 0.00,  val loss 1.293863, percent error 29.50\n",
      "Epoch    25, train loss 0.011005, train error 0.00,  val loss 1.324548, percent error 29.90\n",
      "Epoch    26, train loss 0.009500, train error 0.00,  val loss 1.340083, percent error 29.70\n",
      "Epoch    27, train loss 0.008294, train error 0.00,  val loss 1.363937, percent error 28.90\n",
      "Epoch    28, train loss 0.007391, train error 0.00,  val loss 1.381852, percent error 28.80\n",
      "Epoch    29, train loss 0.006658, train error 0.00,  val loss 1.402113, percent error 28.90\n",
      "Epoch    30, train loss 0.006085, train error 0.00,  val loss 1.420146, percent error 28.60\n",
      "Epoch    31, train loss 0.005580, train error 0.00,  val loss 1.432878, percent error 28.80\n",
      "Epoch    32, train loss 0.005173, train error 0.00,  val loss 1.450200, percent error 28.70\n",
      "Epoch    33, train loss 0.004791, train error 0.00,  val loss 1.457345, percent error 29.10\n",
      "Epoch    34, train loss 0.004468, train error 0.00,  val loss 1.469945, percent error 28.70\n",
      "Epoch    35, train loss 0.004187, train error 0.00,  val loss 1.482527, percent error 28.70\n",
      "Epoch    36, train loss 0.003961, train error 0.00,  val loss 1.496095, percent error 28.70\n",
      "Epoch    37, train loss 0.003720, train error 0.00,  val loss 1.505230, percent error 28.60\n",
      "Epoch    38, train loss 0.003526, train error 0.00,  val loss 1.513966, percent error 28.80\n",
      "Epoch    39, train loss 0.003343, train error 0.00,  val loss 1.525089, percent error 28.70\n",
      "Epoch    40, train loss 0.003259, train error 0.00,  val loss 1.528547, percent error 28.40\n",
      "Epoch    41, train loss 0.003182, train error 0.00,  val loss 1.533377, percent error 28.40\n",
      "Epoch    42, train loss 0.003109, train error 0.00,  val loss 1.537764, percent error 28.40\n",
      "Epoch    43, train loss 0.003039, train error 0.00,  val loss 1.542446, percent error 28.60\n",
      "Epoch    44, train loss 0.002971, train error 0.00,  val loss 1.546371, percent error 28.40\n",
      "Epoch    45, train loss 0.002907, train error 0.00,  val loss 1.550743, percent error 28.50\n",
      "Epoch    46, train loss 0.002845, train error 0.00,  val loss 1.554831, percent error 28.40\n",
      "Epoch    47, train loss 0.002786, train error 0.00,  val loss 1.559166, percent error 28.60\n",
      "Epoch    48, train loss 0.002729, train error 0.00,  val loss 1.562165, percent error 28.40\n",
      "Epoch    49, train loss 0.002673, train error 0.00,  val loss 1.566891, percent error 28.40\n",
      "Epoch    50, train loss 0.002621, train error 0.00,  val loss 1.570234, percent error 28.60\n",
      "Epoch    51, train loss 0.002570, train error 0.00,  val loss 1.574142, percent error 28.30\n",
      "Epoch    52, train loss 0.002520, train error 0.00,  val loss 1.578346, percent error 28.30\n",
      "Epoch    53, train loss 0.002474, train error 0.00,  val loss 1.581625, percent error 28.50\n",
      "Epoch    54, train loss 0.002429, train error 0.00,  val loss 1.585122, percent error 28.50\n",
      "Epoch    55, train loss 0.002384, train error 0.00,  val loss 1.588888, percent error 28.40\n",
      "Epoch    56, train loss 0.002341, train error 0.00,  val loss 1.592084, percent error 28.40\n",
      "Epoch    57, train loss 0.002300, train error 0.00,  val loss 1.595639, percent error 28.40\n",
      "Epoch    58, train loss 0.002260, train error 0.00,  val loss 1.598894, percent error 28.30\n",
      "Epoch    59, train loss 0.002221, train error 0.00,  val loss 1.602521, percent error 28.40\n",
      "Epoch    60, train loss 0.002202, train error 0.00,  val loss 1.603885, percent error 28.50\n",
      "Epoch    61, train loss 0.002183, train error 0.00,  val loss 1.605383, percent error 28.50\n",
      "Epoch    62, train loss 0.002165, train error 0.00,  val loss 1.606935, percent error 28.40\n",
      "Epoch    63, train loss 0.002148, train error 0.00,  val loss 1.608801, percent error 28.50\n",
      "Epoch    64, train loss 0.002130, train error 0.00,  val loss 1.610093, percent error 28.40\n",
      "Epoch    65, train loss 0.002113, train error 0.00,  val loss 1.611714, percent error 28.40\n",
      "Epoch    66, train loss 0.002096, train error 0.00,  val loss 1.613444, percent error 28.40\n",
      "Epoch    67, train loss 0.002079, train error 0.00,  val loss 1.614837, percent error 28.50\n",
      "Epoch    68, train loss 0.002063, train error 0.00,  val loss 1.616380, percent error 28.50\n",
      "Epoch    69, train loss 0.002046, train error 0.00,  val loss 1.617505, percent error 28.50\n",
      "Epoch    70, train loss 0.002030, train error 0.00,  val loss 1.619689, percent error 28.50\n",
      "Epoch    71, train loss 0.002015, train error 0.00,  val loss 1.621186, percent error 28.50\n",
      "Epoch    72, train loss 0.001999, train error 0.00,  val loss 1.622014, percent error 28.50\n",
      "Epoch    73, train loss 0.001984, train error 0.00,  val loss 1.624170, percent error 28.50\n",
      "Epoch    74, train loss 0.001969, train error 0.00,  val loss 1.625401, percent error 28.50\n",
      "Epoch    75, train loss 0.001953, train error 0.00,  val loss 1.626945, percent error 28.50\n",
      "Epoch    76, train loss 0.001939, train error 0.00,  val loss 1.628445, percent error 28.50\n",
      "Epoch    77, train loss 0.001924, train error 0.00,  val loss 1.629797, percent error 28.50\n",
      "Epoch    78, train loss 0.001910, train error 0.00,  val loss 1.631259, percent error 28.50\n",
      "Epoch    79, train loss 0.001896, train error 0.00,  val loss 1.632823, percent error 28.50\n",
      "Epoch    80, train loss 0.001889, train error 0.00,  val loss 1.633468, percent error 28.50\n",
      "Epoch    81, train loss 0.001882, train error 0.00,  val loss 1.634151, percent error 28.50\n",
      "Epoch    82, train loss 0.001875, train error 0.00,  val loss 1.634856, percent error 28.50\n",
      "Epoch    83, train loss 0.001868, train error 0.00,  val loss 1.635486, percent error 28.50\n",
      "Epoch    84, train loss 0.001862, train error 0.00,  val loss 1.636219, percent error 28.50\n",
      "Epoch    85, train loss 0.001855, train error 0.00,  val loss 1.637137, percent error 28.60\n",
      "Epoch    86, train loss 0.001848, train error 0.00,  val loss 1.637564, percent error 28.60\n",
      "Epoch    87, train loss 0.001842, train error 0.00,  val loss 1.638576, percent error 28.60\n",
      "Epoch    88, train loss 0.001835, train error 0.00,  val loss 1.639022, percent error 28.60\n",
      "Epoch    89, train loss 0.001828, train error 0.00,  val loss 1.639749, percent error 28.60\n",
      "Epoch    90, train loss 0.001822, train error 0.00,  val loss 1.640478, percent error 28.70\n",
      "Epoch    91, train loss 0.001816, train error 0.00,  val loss 1.641110, percent error 28.70\n",
      "Epoch    92, train loss 0.001809, train error 0.00,  val loss 1.641814, percent error 28.70\n",
      "Epoch    93, train loss 0.001803, train error 0.00,  val loss 1.642525, percent error 28.70\n",
      "Epoch    94, train loss 0.001796, train error 0.00,  val loss 1.643176, percent error 28.70\n",
      "Epoch    95, train loss 0.001790, train error 0.00,  val loss 1.643912, percent error 28.70\n",
      "Epoch    96, train loss 0.001784, train error 0.00,  val loss 1.644447, percent error 28.70\n",
      "Epoch    97, train loss 0.001778, train error 0.00,  val loss 1.645258, percent error 28.70\n",
      "Epoch    98, train loss 0.001772, train error 0.00,  val loss 1.645777, percent error 28.70\n",
      "Epoch    99, train loss 0.001765, train error 0.00,  val loss 1.646567, percent error 28.70\n"
     ]
    }
   ],
   "source": [
    "#Define the model\n",
    "model = ResidualNetwork(40, 10)\n",
    "\n",
    "# choose cross entropy loss function (equation 5.24 in the loss notes)\n",
    "loss_function = nn.CrossEntropyLoss()\n",
    "# construct SGD optimizer and initialize learning rate and momentum\n",
    "optimizer = torch.optim.SGD(model.parameters(), lr = 0.05, momentum=0.9)\n",
    "# object that decreases learning rate by half every 20 epochs\n",
    "scheduler = StepLR(optimizer, step_size=20, gamma=0.5)\n",
    "# convert data to torch tensors\n",
    "x_train = torch.tensor(train_data_x.transpose().astype('float32'))\n",
    "y_train = torch.tensor(train_data_y.astype('long'))\n",
    "x_val= torch.tensor(val_data_x.transpose().astype('float32'))\n",
    "y_val = torch.tensor(val_data_y.astype('long'))\n",
    "\n",
    "# load the data into a class that creates the batches\n",
    "data_loader = DataLoader(TensorDataset(x_train,y_train), batch_size=100, shuffle=True, worker_init_fn=np.random.seed(1))\n",
    "\n",
    "# Initialize model weights\n",
    "model.apply(weights_init)\n",
    "\n",
    "# loop over the dataset n_epoch times\n",
    "n_epoch = 100\n",
    "# store the loss and the % correct at each epoch\n",
    "losses_train = np.zeros((n_epoch))\n",
    "errors_train = np.zeros((n_epoch))\n",
    "losses_val = np.zeros((n_epoch))\n",
    "errors_val = np.zeros((n_epoch))\n",
    "\n",
    "for epoch in range(n_epoch):\n",
    "  # loop over batches\n",
    "  for i, data in enumerate(data_loader):\n",
    "    # retrieve inputs and labels for this batch\n",
    "    x_batch, y_batch = data\n",
    "    # zero the parameter gradients\n",
    "    optimizer.zero_grad()\n",
    "    # forward pass -- calculate model output\n",
    "    pred = model(x_batch)\n",
    "    # compute the loss\n",
    "    loss = loss_function(pred, y_batch)\n",
    "    # backward pass\n",
    "    loss.backward()\n",
    "    # SGD update\n",
    "    optimizer.step()\n",
    "\n",
    "  # Run whole dataset to get statistics -- normally wouldn't do this\n",
    "  pred_train = model(x_train)\n",
    "  pred_val = model(x_val)\n",
    "  _, predicted_train_class = torch.max(pred_train.data, 1)\n",
    "  _, predicted_val_class = torch.max(pred_val.data, 1)\n",
    "  errors_train[epoch] = 100 - 100 * (predicted_train_class == y_train).float().sum() / len(y_train)\n",
    "  errors_val[epoch]= 100 - 100 * (predicted_val_class == y_val).float().sum() / len(y_val)\n",
    "  losses_train[epoch] = loss_function(pred_train, y_train).item()\n",
    "  losses_val[epoch]= loss_function(pred_val, y_val).item()\n",
    "  print(f'Epoch {epoch:5d}, train loss {losses_train[epoch]:.6f}, train error {errors_train[epoch]:3.2f},  val loss {losses_val[epoch]:.6f}, percent error {errors_val[epoch]:3.2f}')\n",
    "\n",
    "  # tell scheduler to consider updating learning rate\n",
    "  scheduler.step()"
   ]
  },
  {
   "cell_type": "code",
   "execution_count": 27,
   "metadata": {
    "id": "CcP_VyEmE2sv"
   },
   "outputs": [
    {
     "data": {
      "image/png": "[encoded data removed]",
      "text/plain": [
       "<Figure size 640x480 with 1 Axes>"
      ]
     },
     "metadata": {},
     "output_type": "display_data"
    }
   ],
   "source": [
    "# Plot the results\n",
    "fig, ax = plt.subplots()\n",
    "ax.plot(errors_train,'r-',label='train')\n",
    "ax.plot(errors_val,'b-',label='test')\n",
    "ax.set_ylim(0,100); ax.set_xlim(0,n_epoch)\n",
    "ax.set_xlabel('Epoch'); ax.set_ylabel('Error')\n",
    "ax.set_title('TrainError %3.2f, Val Error %3.2f'%(errors_train[-1],errors_val[-1]))\n",
    "ax.legend()\n",
    "plt.show()"
   ]
  },
  {
   "cell_type": "markdown",
   "metadata": {
    "id": "wMmqhmxuAx0M"
   },
   "source": [
    "The primary motivation of residual networks is to allow training of much deeper networks.   \n",
    "\n",
    "TODO: Try running this network with and without the residual connections.  Does adding the residual connections change the performance?\n",
    "\n",
    "Ans: The perf has improved by reduction in error : 31.5 to 28.70"
   ]
  }
 ],
 "metadata": {
  "colab": {
   "authorship_tag": "ABX9TyNIY8tswL9e48d5D53aSmHO",
   "include_colab_link": true,
   "provenance": []
  },
  "kernelspec": {
   "display_name": "deeplearning",
   "language": "python",
   "name": "python3"
  },
  "language_info": {
   "codemirror_mode": {
    "name": "ipython",
    "version": 3
   },
   "file_extension": ".py",
   "mimetype": "text/x-python",
   "name": "python",
   "nbconvert_exporter": "python",
   "pygments_lexer": "ipython3",
   "version": "3.11.10"
  }
 },
 "nbformat": 4,
 "nbformat_minor": 0
}
