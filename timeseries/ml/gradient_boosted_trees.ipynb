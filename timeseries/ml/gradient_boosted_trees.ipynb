{
  "nbformat": 4,
  "nbformat_minor": 0,
  "metadata": {
    "colab": {
      "provenance": [],
      "authorship_tag": "ABX9TyM/dNVEif/CR/JU+P1EnBoa",
      "include_colab_link": true
    },
    "kernelspec": {
      "name": "python3",
      "display_name": "Python 3"
    },
    "language_info": {
      "name": "python"
    }
  },
  "cells": [
    {
      "cell_type": "markdown",
      "metadata": {
        "id": "view-in-github",
        "colab_type": "text"
      },
      "source": [
        "<a href=\"https://colab.research.google.com/github/vadhri/ai-notebook/blob/main/timeseries/ml/gradient_boosted_trees.ipynb\" target=\"_parent\"><img src=\"https://colab.research.google.com/assets/colab-badge.svg\" alt=\"Open In Colab\"/></a>"
      ]
    },
    {
      "cell_type": "code",
      "source": [
        "import pandas as pd\n",
        "import numpy as np\n",
        "import matplotlib.pyplot as plt\n",
        "from xgboost import XGBRegressor\n",
        "from sklearn.metrics import mean_absolute_error, mean_squared_error, r2_score\n"
      ],
      "metadata": {
        "id": "1-VR09I03Wlz"
      },
      "execution_count": 1,
      "outputs": []
    },
    {
      "cell_type": "markdown",
      "source": [
        "#### Download dataset"
      ],
      "metadata": {
        "id": "d8fRymfw8VCI"
      }
    },
    {
      "cell_type": "code",
      "execution_count": 2,
      "metadata": {
        "colab": {
          "base_uri": "https://localhost:8080/"
        },
        "id": "a4624eYO2Tn8",
        "outputId": "868309f8-085e-4cda-8286-aca3d26c16de"
      },
      "outputs": [
        {
          "output_type": "stream",
          "name": "stdout",
          "text": [
            "Downloading from https://www.kaggle.com/api/v1/datasets/download/abhisheksjha/time-series-air-quality-data-of-india-2010-2023?dataset_version_number=2...\n"
          ]
        },
        {
          "output_type": "stream",
          "name": "stderr",
          "text": [
            "100%|██████████| 464M/464M [00:08<00:00, 58.8MB/s]"
          ]
        },
        {
          "output_type": "stream",
          "name": "stdout",
          "text": [
            "Extracting files...\n"
          ]
        },
        {
          "output_type": "stream",
          "name": "stderr",
          "text": [
            "\n"
          ]
        },
        {
          "output_type": "stream",
          "name": "stdout",
          "text": [
            "Path to dataset files: /root/.cache/kagglehub/datasets/abhisheksjha/time-series-air-quality-data-of-india-2010-2023/versions/2\n"
          ]
        }
      ],
      "source": [
        "import kagglehub\n",
        "\n",
        "path = kagglehub.dataset_download(\"abhisheksjha/time-series-air-quality-data-of-india-2010-2023\")\n",
        "print(\"Path to dataset files:\", path)"
      ]
    },
    {
      "cell_type": "code",
      "source": [
        "path += \"/AP001.csv\""
      ],
      "metadata": {
        "id": "hO1S-ovO3GZ_"
      },
      "execution_count": 3,
      "outputs": []
    },
    {
      "cell_type": "code",
      "source": [
        "aq_dataset = pd.read_csv(path, parse_dates=[\"From Date\", \"To Date\"], index_col='From Date')"
      ],
      "metadata": {
        "id": "tZHCLSUt3LcB"
      },
      "execution_count": 4,
      "outputs": []
    },
    {
      "cell_type": "code",
      "source": [
        "aq_dataset.head()"
      ],
      "metadata": {
        "id": "sgXzlz473fG4",
        "colab": {
          "base_uri": "https://localhost:8080/",
          "height": 388
        },
        "outputId": "df209b7f-79e0-476d-abb3-bc38213e9ff9"
      },
      "execution_count": 5,
      "outputs": [
        {
          "output_type": "execute_result",
          "data": {
            "text/plain": [
              "                                To Date  PM2.5 (ug/m3)  PM10 (ug/m3)  \\\n",
              "From Date                                                              \n",
              "2016-07-01 10:00:00 2016-07-01 11:00:00          10.67          39.0   \n",
              "2016-07-01 11:00:00 2016-07-01 12:00:00           2.00          39.0   \n",
              "2016-07-01 12:00:00 2016-07-01 13:00:00            NaN           NaN   \n",
              "2016-07-01 13:00:00 2016-07-01 14:00:00            NaN           NaN   \n",
              "2016-07-01 14:00:00 2016-07-01 15:00:00          20.50          50.0   \n",
              "\n",
              "                     NO (ug/m3)  NO2 (ug/m3)  NOx (ppb)  NH3 (ug/m3)  \\\n",
              "From Date                                                              \n",
              "2016-07-01 10:00:00       17.67         39.2      32.33         7.07   \n",
              "2016-07-01 11:00:00       20.50         41.9      35.80         7.40   \n",
              "2016-07-01 12:00:00         NaN          NaN        NaN          NaN   \n",
              "2016-07-01 13:00:00         NaN          NaN        NaN          NaN   \n",
              "2016-07-01 14:00:00       15.40         43.6      32.78         6.35   \n",
              "\n",
              "                     SO2 (ug/m3)  CO (mg/m3)  Ozone (ug/m3)  ...  \\\n",
              "From Date                                                    ...   \n",
              "2016-07-01 10:00:00         6.60        0.48           14.5  ...   \n",
              "2016-07-01 11:00:00          NaN        0.49           15.0  ...   \n",
              "2016-07-01 12:00:00          NaN         NaN            NaN  ...   \n",
              "2016-07-01 13:00:00          NaN         NaN            NaN  ...   \n",
              "2016-07-01 14:00:00         6.38        0.47           10.5  ...   \n",
              "\n",
              "                     Temp (degree C)  RH (%)  WS (m/s)  WD (deg)  SR (W/mt2)  \\\n",
              "From Date                                                                      \n",
              "2016-07-01 10:00:00            33.43   71.67      2.30    226.33      123.67   \n",
              "2016-07-01 11:00:00            33.70   70.00      2.50    223.00      186.00   \n",
              "2016-07-01 12:00:00              NaN     NaN       NaN       NaN         NaN   \n",
              "2016-07-01 13:00:00              NaN     NaN       NaN       NaN         NaN   \n",
              "2016-07-01 14:00:00            33.57   63.50      1.88    223.00      240.50   \n",
              "\n",
              "                     BP (mmHg)  VWS (m/s)  Xylene (ug/m3)  RF (mm)  \\\n",
              "From Date                                                            \n",
              "2016-07-01 10:00:00        NaN       -0.1             0.1      0.0   \n",
              "2016-07-01 11:00:00        NaN       -0.1             0.1      0.0   \n",
              "2016-07-01 12:00:00        NaN        NaN             NaN      NaN   \n",
              "2016-07-01 13:00:00        NaN        NaN             NaN      NaN   \n",
              "2016-07-01 14:00:00        NaN       -0.1             0.1      0.0   \n",
              "\n",
              "                     AT (degree C)  \n",
              "From Date                           \n",
              "2016-07-01 10:00:00          23.05  \n",
              "2016-07-01 11:00:00            NaN  \n",
              "2016-07-01 12:00:00            NaN  \n",
              "2016-07-01 13:00:00            NaN  \n",
              "2016-07-01 14:00:00            NaN  \n",
              "\n",
              "[5 rows x 22 columns]"
            ],
            "text/html": [
              "\n",
              "  <div id=\"df-582518e9-614e-49d3-907a-32ce3c33afe0\" class=\"colab-df-container\">\n",
              "    <div>\n",
              "<style scoped>\n",
              "    .dataframe tbody tr th:only-of-type {\n",
              "        vertical-align: middle;\n",
              "    }\n",
              "\n",
              "    .dataframe tbody tr th {\n",
              "        vertical-align: top;\n",
              "    }\n",
              "\n",
              "    .dataframe thead th {\n",
              "        text-align: right;\n",
              "    }\n",
              "</style>\n",
              "<table border=\"1\" class=\"dataframe\">\n",
              "  <thead>\n",
              "    <tr style=\"text-align: right;\">\n",
              "      <th></th>\n",
              "      <th>To Date</th>\n",
              "      <th>PM2.5 (ug/m3)</th>\n",
              "      <th>PM10 (ug/m3)</th>\n",
              "      <th>NO (ug/m3)</th>\n",
              "      <th>NO2 (ug/m3)</th>\n",
              "      <th>NOx (ppb)</th>\n",
              "      <th>NH3 (ug/m3)</th>\n",
              "      <th>SO2 (ug/m3)</th>\n",
              "      <th>CO (mg/m3)</th>\n",
              "      <th>Ozone (ug/m3)</th>\n",
              "      <th>...</th>\n",
              "      <th>Temp (degree C)</th>\n",
              "      <th>RH (%)</th>\n",
              "      <th>WS (m/s)</th>\n",
              "      <th>WD (deg)</th>\n",
              "      <th>SR (W/mt2)</th>\n",
              "      <th>BP (mmHg)</th>\n",
              "      <th>VWS (m/s)</th>\n",
              "      <th>Xylene (ug/m3)</th>\n",
              "      <th>RF (mm)</th>\n",
              "      <th>AT (degree C)</th>\n",
              "    </tr>\n",
              "    <tr>\n",
              "      <th>From Date</th>\n",
              "      <th></th>\n",
              "      <th></th>\n",
              "      <th></th>\n",
              "      <th></th>\n",
              "      <th></th>\n",
              "      <th></th>\n",
              "      <th></th>\n",
              "      <th></th>\n",
              "      <th></th>\n",
              "      <th></th>\n",
              "      <th></th>\n",
              "      <th></th>\n",
              "      <th></th>\n",
              "      <th></th>\n",
              "      <th></th>\n",
              "      <th></th>\n",
              "      <th></th>\n",
              "      <th></th>\n",
              "      <th></th>\n",
              "      <th></th>\n",
              "      <th></th>\n",
              "    </tr>\n",
              "  </thead>\n",
              "  <tbody>\n",
              "    <tr>\n",
              "      <th>2016-07-01 10:00:00</th>\n",
              "      <td>2016-07-01 11:00:00</td>\n",
              "      <td>10.67</td>\n",
              "      <td>39.0</td>\n",
              "      <td>17.67</td>\n",
              "      <td>39.2</td>\n",
              "      <td>32.33</td>\n",
              "      <td>7.07</td>\n",
              "      <td>6.60</td>\n",
              "      <td>0.48</td>\n",
              "      <td>14.5</td>\n",
              "      <td>...</td>\n",
              "      <td>33.43</td>\n",
              "      <td>71.67</td>\n",
              "      <td>2.30</td>\n",
              "      <td>226.33</td>\n",
              "      <td>123.67</td>\n",
              "      <td>NaN</td>\n",
              "      <td>-0.1</td>\n",
              "      <td>0.1</td>\n",
              "      <td>0.0</td>\n",
              "      <td>23.05</td>\n",
              "    </tr>\n",
              "    <tr>\n",
              "      <th>2016-07-01 11:00:00</th>\n",
              "      <td>2016-07-01 12:00:00</td>\n",
              "      <td>2.00</td>\n",
              "      <td>39.0</td>\n",
              "      <td>20.50</td>\n",
              "      <td>41.9</td>\n",
              "      <td>35.80</td>\n",
              "      <td>7.40</td>\n",
              "      <td>NaN</td>\n",
              "      <td>0.49</td>\n",
              "      <td>15.0</td>\n",
              "      <td>...</td>\n",
              "      <td>33.70</td>\n",
              "      <td>70.00</td>\n",
              "      <td>2.50</td>\n",
              "      <td>223.00</td>\n",
              "      <td>186.00</td>\n",
              "      <td>NaN</td>\n",
              "      <td>-0.1</td>\n",
              "      <td>0.1</td>\n",
              "      <td>0.0</td>\n",
              "      <td>NaN</td>\n",
              "    </tr>\n",
              "    <tr>\n",
              "      <th>2016-07-01 12:00:00</th>\n",
              "      <td>2016-07-01 13:00:00</td>\n",
              "      <td>NaN</td>\n",
              "      <td>NaN</td>\n",
              "      <td>NaN</td>\n",
              "      <td>NaN</td>\n",
              "      <td>NaN</td>\n",
              "      <td>NaN</td>\n",
              "      <td>NaN</td>\n",
              "      <td>NaN</td>\n",
              "      <td>NaN</td>\n",
              "      <td>...</td>\n",
              "      <td>NaN</td>\n",
              "      <td>NaN</td>\n",
              "      <td>NaN</td>\n",
              "      <td>NaN</td>\n",
              "      <td>NaN</td>\n",
              "      <td>NaN</td>\n",
              "      <td>NaN</td>\n",
              "      <td>NaN</td>\n",
              "      <td>NaN</td>\n",
              "      <td>NaN</td>\n",
              "    </tr>\n",
              "    <tr>\n",
              "      <th>2016-07-01 13:00:00</th>\n",
              "      <td>2016-07-01 14:00:00</td>\n",
              "      <td>NaN</td>\n",
              "      <td>NaN</td>\n",
              "      <td>NaN</td>\n",
              "      <td>NaN</td>\n",
              "      <td>NaN</td>\n",
              "      <td>NaN</td>\n",
              "      <td>NaN</td>\n",
              "      <td>NaN</td>\n",
              "      <td>NaN</td>\n",
              "      <td>...</td>\n",
              "      <td>NaN</td>\n",
              "      <td>NaN</td>\n",
              "      <td>NaN</td>\n",
              "      <td>NaN</td>\n",
              "      <td>NaN</td>\n",
              "      <td>NaN</td>\n",
              "      <td>NaN</td>\n",
              "      <td>NaN</td>\n",
              "      <td>NaN</td>\n",
              "      <td>NaN</td>\n",
              "    </tr>\n",
              "    <tr>\n",
              "      <th>2016-07-01 14:00:00</th>\n",
              "      <td>2016-07-01 15:00:00</td>\n",
              "      <td>20.50</td>\n",
              "      <td>50.0</td>\n",
              "      <td>15.40</td>\n",
              "      <td>43.6</td>\n",
              "      <td>32.78</td>\n",
              "      <td>6.35</td>\n",
              "      <td>6.38</td>\n",
              "      <td>0.47</td>\n",
              "      <td>10.5</td>\n",
              "      <td>...</td>\n",
              "      <td>33.57</td>\n",
              "      <td>63.50</td>\n",
              "      <td>1.88</td>\n",
              "      <td>223.00</td>\n",
              "      <td>240.50</td>\n",
              "      <td>NaN</td>\n",
              "      <td>-0.1</td>\n",
              "      <td>0.1</td>\n",
              "      <td>0.0</td>\n",
              "      <td>NaN</td>\n",
              "    </tr>\n",
              "  </tbody>\n",
              "</table>\n",
              "<p>5 rows × 22 columns</p>\n",
              "</div>\n",
              "    <div class=\"colab-df-buttons\">\n",
              "\n",
              "  <div class=\"colab-df-container\">\n",
              "    <button class=\"colab-df-convert\" onclick=\"convertToInteractive('df-582518e9-614e-49d3-907a-32ce3c33afe0')\"\n",
              "            title=\"Convert this dataframe to an interactive table.\"\n",
              "            style=\"display:none;\">\n",
              "\n",
              "  <svg xmlns=\"http://www.w3.org/2000/svg\" height=\"24px\" viewBox=\"0 -960 960 960\">\n",
              "    <path d=\"M120-120v-720h720v720H120Zm60-500h600v-160H180v160Zm220 220h160v-160H400v160Zm0 220h160v-160H400v160ZM180-400h160v-160H180v160Zm440 0h160v-160H620v160ZM180-180h160v-160H180v160Zm440 0h160v-160H620v160Z\"/>\n",
              "  </svg>\n",
              "    </button>\n",
              "\n",
              "  <style>\n",
              "    .colab-df-container {\n",
              "      display:flex;\n",
              "      gap: 12px;\n",
              "    }\n",
              "\n",
              "    .colab-df-convert {\n",
              "      background-color: #E8F0FE;\n",
              "      border: none;\n",
              "      border-radius: 50%;\n",
              "      cursor: pointer;\n",
              "      display: none;\n",
              "      fill: #1967D2;\n",
              "      height: 32px;\n",
              "      padding: 0 0 0 0;\n",
              "      width: 32px;\n",
              "    }\n",
              "\n",
              "    .colab-df-convert:hover {\n",
              "      background-color: #E2EBFA;\n",
              "      box-shadow: 0px 1px 2px rgba(60, 64, 67, 0.3), 0px 1px 3px 1px rgba(60, 64, 67, 0.15);\n",
              "      fill: #174EA6;\n",
              "    }\n",
              "\n",
              "    .colab-df-buttons div {\n",
              "      margin-bottom: 4px;\n",
              "    }\n",
              "\n",
              "    [theme=dark] .colab-df-convert {\n",
              "      background-color: #3B4455;\n",
              "      fill: #D2E3FC;\n",
              "    }\n",
              "\n",
              "    [theme=dark] .colab-df-convert:hover {\n",
              "      background-color: #434B5C;\n",
              "      box-shadow: 0px 1px 3px 1px rgba(0, 0, 0, 0.15);\n",
              "      filter: drop-shadow(0px 1px 2px rgba(0, 0, 0, 0.3));\n",
              "      fill: #FFFFFF;\n",
              "    }\n",
              "  </style>\n",
              "\n",
              "    <script>\n",
              "      const buttonEl =\n",
              "        document.querySelector('#df-582518e9-614e-49d3-907a-32ce3c33afe0 button.colab-df-convert');\n",
              "      buttonEl.style.display =\n",
              "        google.colab.kernel.accessAllowed ? 'block' : 'none';\n",
              "\n",
              "      async function convertToInteractive(key) {\n",
              "        const element = document.querySelector('#df-582518e9-614e-49d3-907a-32ce3c33afe0');\n",
              "        const dataTable =\n",
              "          await google.colab.kernel.invokeFunction('convertToInteractive',\n",
              "                                                    [key], {});\n",
              "        if (!dataTable) return;\n",
              "\n",
              "        const docLinkHtml = 'Like what you see? Visit the ' +\n",
              "          '<a target=\"_blank\" href=https://colab.research.google.com/notebooks/data_table.ipynb>data table notebook</a>'\n",
              "          + ' to learn more about interactive tables.';\n",
              "        element.innerHTML = '';\n",
              "        dataTable['output_type'] = 'display_data';\n",
              "        await google.colab.output.renderOutput(dataTable, element);\n",
              "        const docLink = document.createElement('div');\n",
              "        docLink.innerHTML = docLinkHtml;\n",
              "        element.appendChild(docLink);\n",
              "      }\n",
              "    </script>\n",
              "  </div>\n",
              "\n",
              "\n",
              "    <div id=\"df-1c3f7836-e11c-40d7-9a54-0a1cd5f341f2\">\n",
              "      <button class=\"colab-df-quickchart\" onclick=\"quickchart('df-1c3f7836-e11c-40d7-9a54-0a1cd5f341f2')\"\n",
              "                title=\"Suggest charts\"\n",
              "                style=\"display:none;\">\n",
              "\n",
              "<svg xmlns=\"http://www.w3.org/2000/svg\" height=\"24px\"viewBox=\"0 0 24 24\"\n",
              "     width=\"24px\">\n",
              "    <g>\n",
              "        <path d=\"M19 3H5c-1.1 0-2 .9-2 2v14c0 1.1.9 2 2 2h14c1.1 0 2-.9 2-2V5c0-1.1-.9-2-2-2zM9 17H7v-7h2v7zm4 0h-2V7h2v10zm4 0h-2v-4h2v4z\"/>\n",
              "    </g>\n",
              "</svg>\n",
              "      </button>\n",
              "\n",
              "<style>\n",
              "  .colab-df-quickchart {\n",
              "      --bg-color: #E8F0FE;\n",
              "      --fill-color: #1967D2;\n",
              "      --hover-bg-color: #E2EBFA;\n",
              "      --hover-fill-color: #174EA6;\n",
              "      --disabled-fill-color: #AAA;\n",
              "      --disabled-bg-color: #DDD;\n",
              "  }\n",
              "\n",
              "  [theme=dark] .colab-df-quickchart {\n",
              "      --bg-color: #3B4455;\n",
              "      --fill-color: #D2E3FC;\n",
              "      --hover-bg-color: #434B5C;\n",
              "      --hover-fill-color: #FFFFFF;\n",
              "      --disabled-bg-color: #3B4455;\n",
              "      --disabled-fill-color: #666;\n",
              "  }\n",
              "\n",
              "  .colab-df-quickchart {\n",
              "    background-color: var(--bg-color);\n",
              "    border: none;\n",
              "    border-radius: 50%;\n",
              "    cursor: pointer;\n",
              "    display: none;\n",
              "    fill: var(--fill-color);\n",
              "    height: 32px;\n",
              "    padding: 0;\n",
              "    width: 32px;\n",
              "  }\n",
              "\n",
              "  .colab-df-quickchart:hover {\n",
              "    background-color: var(--hover-bg-color);\n",
              "    box-shadow: 0 1px 2px rgba(60, 64, 67, 0.3), 0 1px 3px 1px rgba(60, 64, 67, 0.15);\n",
              "    fill: var(--button-hover-fill-color);\n",
              "  }\n",
              "\n",
              "  .colab-df-quickchart-complete:disabled,\n",
              "  .colab-df-quickchart-complete:disabled:hover {\n",
              "    background-color: var(--disabled-bg-color);\n",
              "    fill: var(--disabled-fill-color);\n",
              "    box-shadow: none;\n",
              "  }\n",
              "\n",
              "  .colab-df-spinner {\n",
              "    border: 2px solid var(--fill-color);\n",
              "    border-color: transparent;\n",
              "    border-bottom-color: var(--fill-color);\n",
              "    animation:\n",
              "      spin 1s steps(1) infinite;\n",
              "  }\n",
              "\n",
              "  @keyframes spin {\n",
              "    0% {\n",
              "      border-color: transparent;\n",
              "      border-bottom-color: var(--fill-color);\n",
              "      border-left-color: var(--fill-color);\n",
              "    }\n",
              "    20% {\n",
              "      border-color: transparent;\n",
              "      border-left-color: var(--fill-color);\n",
              "      border-top-color: var(--fill-color);\n",
              "    }\n",
              "    30% {\n",
              "      border-color: transparent;\n",
              "      border-left-color: var(--fill-color);\n",
              "      border-top-color: var(--fill-color);\n",
              "      border-right-color: var(--fill-color);\n",
              "    }\n",
              "    40% {\n",
              "      border-color: transparent;\n",
              "      border-right-color: var(--fill-color);\n",
              "      border-top-color: var(--fill-color);\n",
              "    }\n",
              "    60% {\n",
              "      border-color: transparent;\n",
              "      border-right-color: var(--fill-color);\n",
              "    }\n",
              "    80% {\n",
              "      border-color: transparent;\n",
              "      border-right-color: var(--fill-color);\n",
              "      border-bottom-color: var(--fill-color);\n",
              "    }\n",
              "    90% {\n",
              "      border-color: transparent;\n",
              "      border-bottom-color: var(--fill-color);\n",
              "    }\n",
              "  }\n",
              "</style>\n",
              "\n",
              "      <script>\n",
              "        async function quickchart(key) {\n",
              "          const quickchartButtonEl =\n",
              "            document.querySelector('#' + key + ' button');\n",
              "          quickchartButtonEl.disabled = true;  // To prevent multiple clicks.\n",
              "          quickchartButtonEl.classList.add('colab-df-spinner');\n",
              "          try {\n",
              "            const charts = await google.colab.kernel.invokeFunction(\n",
              "                'suggestCharts', [key], {});\n",
              "          } catch (error) {\n",
              "            console.error('Error during call to suggestCharts:', error);\n",
              "          }\n",
              "          quickchartButtonEl.classList.remove('colab-df-spinner');\n",
              "          quickchartButtonEl.classList.add('colab-df-quickchart-complete');\n",
              "        }\n",
              "        (() => {\n",
              "          let quickchartButtonEl =\n",
              "            document.querySelector('#df-1c3f7836-e11c-40d7-9a54-0a1cd5f341f2 button');\n",
              "          quickchartButtonEl.style.display =\n",
              "            google.colab.kernel.accessAllowed ? 'block' : 'none';\n",
              "        })();\n",
              "      </script>\n",
              "    </div>\n",
              "\n",
              "    </div>\n",
              "  </div>\n"
            ],
            "application/vnd.google.colaboratory.intrinsic+json": {
              "type": "dataframe",
              "variable_name": "aq_dataset"
            }
          },
          "metadata": {},
          "execution_count": 5
        }
      ]
    },
    {
      "cell_type": "code",
      "source": [
        "aq_dataset.columns"
      ],
      "metadata": {
        "id": "SV6bem-q4Xrs",
        "colab": {
          "base_uri": "https://localhost:8080/"
        },
        "outputId": "02f03bd8-2907-418a-c386-713ad897b95a"
      },
      "execution_count": 6,
      "outputs": [
        {
          "output_type": "execute_result",
          "data": {
            "text/plain": [
              "Index(['To Date', 'PM2.5 (ug/m3)', 'PM10 (ug/m3)', 'NO (ug/m3)', 'NO2 (ug/m3)',\n",
              "       'NOx (ppb)', 'NH3 (ug/m3)', 'SO2 (ug/m3)', 'CO (mg/m3)',\n",
              "       'Ozone (ug/m3)', 'Benzene (ug/m3)', 'Toluene (ug/m3)',\n",
              "       'Temp (degree C)', 'RH (%)', 'WS (m/s)', 'WD (deg)', 'SR (W/mt2)',\n",
              "       'BP (mmHg)', 'VWS (m/s)', 'Xylene (ug/m3)', 'RF (mm)', 'AT (degree C)'],\n",
              "      dtype='object')"
            ]
          },
          "metadata": {},
          "execution_count": 6
        }
      ]
    },
    {
      "cell_type": "code",
      "source": [
        "aq_dataset['Temp (degree C)'].ffill().plot(figsize=(15, 5))"
      ],
      "metadata": {
        "id": "LbRO2xQh4iHc",
        "colab": {
          "base_uri": "https://localhost:8080/",
          "height": 482
        },
        "outputId": "d8d79ceb-f23c-45df-d9ab-3985bbc6ca2d"
      },
      "execution_count": 7,
      "outputs": [
        {
          "output_type": "execute_result",
          "data": {
            "text/plain": [
              "<Axes: xlabel='From Date'>"
            ]
          },
          "metadata": {},
          "execution_count": 7
        },
        {
          "output_type": "display_data",
          "data": {
            "text/plain": [
              "<Figure size 1500x500 with 1 Axes>"
            ],
            "image/png": "[encoded data removed]"
          },
          "metadata": {}
        }
      ]
    },
    {
      "cell_type": "markdown",
      "source": [
        "##### Prepare features"
      ],
      "metadata": {
        "id": "BfvxLdpX8SJP"
      }
    },
    {
      "cell_type": "code",
      "source": [
        "ts = aq_dataset['Temp (degree C)'].ffill()\n",
        "df = pd.DataFrame(ts)\n",
        "\n",
        "for lag in [1, 2, 3, 7, 14]:\n",
        "    df[f'lag_{lag}'] = df['Temp (degree C)'].shift(lag)\n",
        "\n",
        "df['roll7_mean'] = df['Temp (degree C)'].rolling(7).mean().shift(1)\n",
        "df['roll7_std'] = df['Temp (degree C)'].rolling(7).std().shift(1)\n",
        "\n",
        "df = df.dropna()\n"
      ],
      "metadata": {
        "id": "lpNzkyh86l29"
      },
      "execution_count": 8,
      "outputs": []
    },
    {
      "cell_type": "code",
      "source": [
        "split_idx = int(len(df) * 0.8)\n",
        "train, test = df.iloc[:split_idx], df.iloc[split_idx:]\n",
        "\n",
        "X_train = train.drop(columns=['Temp (degree C)'])\n",
        "y_train = train['Temp (degree C)']\n",
        "X_test = test.drop(columns=['Temp (degree C)'])\n",
        "y_test = test['Temp (degree C)']\n"
      ],
      "metadata": {
        "id": "Fz-vX7X08s8n"
      },
      "execution_count": 9,
      "outputs": []
    },
    {
      "cell_type": "code",
      "source": [
        "model = XGBRegressor(\n",
        "    n_estimators=200,\n",
        "    max_depth=10,\n",
        "    learning_rate=0.01,\n",
        "    objective='reg:squarederror',\n",
        "    random_state=42\n",
        ")\n",
        "model.fit(X_train, y_train)\n",
        "\n",
        "y_pred = model.predict(X_test)\n"
      ],
      "metadata": {
        "id": "CbwTZUH1-5jO"
      },
      "execution_count": 14,
      "outputs": []
    },
    {
      "cell_type": "code",
      "source": [
        "plt.figure(figsize=(15, 5))\n",
        "plt.plot(ts.index, ts.values, label='Original')\n",
        "plt.plot(test.index, y_pred, label='Forecast (XGB)', color='red')\n",
        "plt.axvline(ts.index[split_idx], color='gray', linestyle='--', label='Train/Test Split')\n",
        "plt.legend()\n",
        "plt.show()\n"
      ],
      "metadata": {
        "colab": {
          "base_uri": "https://localhost:8080/",
          "height": 445
        },
        "id": "fyjZ8uEc-6-G",
        "outputId": "527658b2-af7d-4990-c972-bbb93552b2b5"
      },
      "execution_count": 15,
      "outputs": [
        {
          "output_type": "display_data",
          "data": {
            "text/plain": [
              "<Figure size 1500x500 with 1 Axes>"
            ],
            "image/png": "[encoded data removed]"
          },
          "metadata": {}
        }
      ]
    },
    {
      "cell_type": "code",
      "source": [
        "mae = mean_absolute_error(y_test, y_pred)\n",
        "mse = mean_squared_error(y_test, y_pred)\n",
        "rmse = np.sqrt(mse)\n",
        "mape = np.mean(np.abs((y_test - y_pred) / y_test)) * 100\n",
        "r2 = r2_score(y_test, y_pred)\n",
        "\n",
        "metrics_df = pd.DataFrame({\n",
        "    'Metric': ['MAE', 'MSE', 'RMSE', 'MAPE (%)', 'R²'],\n",
        "    'Value': [mae, mse, rmse, mape, r2]\n",
        "})\n",
        "print(metrics_df)\n"
      ],
      "metadata": {
        "colab": {
          "base_uri": "https://localhost:8080/"
        },
        "id": "7PG8NC4j_AIV",
        "outputId": "14c9f5fb-2488-443c-820d-a0f430907e19"
      },
      "execution_count": 16,
      "outputs": [
        {
          "output_type": "stream",
          "name": "stdout",
          "text": [
            "     Metric     Value\n",
            "0       MAE  0.318164\n",
            "1       MSE  1.081641\n",
            "2      RMSE  1.040020\n",
            "3  MAPE (%)  0.981420\n",
            "4        R²  0.573058\n"
          ]
        }
      ]
    },
    {
      "cell_type": "code",
      "source": [],
      "metadata": {
        "id": "zxw7D8qz_DwU"
      },
      "execution_count": null,
      "outputs": []
    }
  ]
}