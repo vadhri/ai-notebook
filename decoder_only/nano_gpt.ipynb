{
  "cells": [
    {
      "cell_type": "markdown",
      "source": [
        "# Decoder only model\n",
        "The following implementation uses word embeddings using nltk tokenizer for words and tries to use the multi headed self attention model to train on text.\n"
      ],
      "metadata": {
        "id": "NbIyx9PFXgL3"
      },
      "id": "NbIyx9PFXgL3"
    },
    {
      "cell_type": "code",
      "execution_count": null,
      "id": "c1dd7e1c-b4d8-460d-8376-2bb2b16e3290",
      "metadata": {
        "tags": [],
        "id": "c1dd7e1c-b4d8-460d-8376-2bb2b16e3290",
        "outputId": "242a4a14-97ce-43aa-81d8-56c517f54d6c",
        "colab": {
          "base_uri": "https://localhost:8080/"
        }
      },
      "outputs": [
        {
          "output_type": "stream",
          "name": "stderr",
          "text": [
            "[nltk_data] Downloading package punkt to /root/nltk_data...\n",
            "[nltk_data]   Package punkt is already up-to-date!\n"
          ]
        },
        {
          "output_type": "stream",
          "name": "stdout",
          "text": [
            "Drive already mounted at /content/drive; to attempt to forcibly remount, call drive.mount(\"/content/drive\", force_remount=True).\n"
          ]
        }
      ],
      "source": [
        "from nltk.tokenize import sent_tokenize, word_tokenize\n",
        "from tqdm import tqdm\n",
        "import torch\n",
        "import nltk\n",
        "import torch.nn as nn\n",
        "from random import randrange\n",
        "import torch.nn.functional as F\n",
        "nltk.download('punkt')\n",
        "device = 'cuda' if torch.cuda.is_available() else 'cpu'\n",
        "print (device)\n",
        "from google.colab import drive\n",
        "drive.mount('/content/drive')\n"
      ]
    },
    {
      "cell_type": "code",
      "execution_count": null,
      "id": "5b358caa-01f5-48d7-90f9-7a4ce441b351",
      "metadata": {
        "tags": [],
        "id": "5b358caa-01f5-48d7-90f9-7a4ce441b351",
        "outputId": "cedf6495-dc83-4776-f05a-7fffb058b477",
        "colab": {
          "base_uri": "https://localhost:8080/",
          "height": 17
        }
      },
      "outputs": [
        {
          "output_type": "display_data",
          "data": {
            "text/plain": [
              "<IPython.core.display.HTML object>"
            ],
            "text/html": [
              "<style>\n",
              "  table {margin-left: 0 !important;}\n",
              "</style>\n"
            ]
          },
          "metadata": {}
        }
      ],
      "source": [
        "%%html\n",
        "<style>\n",
        "  table {margin-left: 0 !important;}\n",
        "</style>"
      ]
    },
    {
      "cell_type": "markdown",
      "id": "90b30589-98a2-475f-a35f-3b1b44456bfd",
      "metadata": {
        "tags": [],
        "id": "90b30589-98a2-475f-a35f-3b1b44456bfd"
      },
      "source": [
        "## Tokenizing input data\n",
        "\n",
        "Create a mapping of the tokenized words into text and viceversa.\n",
        "\n",
        "- load_and_encode_data_nltk\n",
        "\n",
        "nltk uses the nltk tokenizer to split the text into sentenses and words. \\\n",
        "https://www.nltk.org/api/nltk.tokenize.html\n",
        "\n",
        "- tiktoken\n",
        "[todo]\n",
        "- sentence piece\n",
        "[todo]"
      ]
    },
    {
      "cell_type": "code",
      "execution_count": null,
      "id": "9083b6e1-2313-40d3-adbe-c7506cd28713",
      "metadata": {
        "tags": [],
        "id": "9083b6e1-2313-40d3-adbe-c7506cd28713"
      },
      "outputs": [],
      "source": [
        "def read_data(filename):\n",
        "    text = None\n",
        "    with open(filename, \"r\", encoding='utf-8') as f:\n",
        "        text = f.read()\n",
        "\n",
        "    return text"
      ]
    },
    {
      "cell_type": "code",
      "execution_count": null,
      "id": "6b89bc16-5ee1-4441-8f2d-55afae7c880c",
      "metadata": {
        "tags": [],
        "id": "6b89bc16-5ee1-4441-8f2d-55afae7c880c",
        "outputId": "de63b4e9-4bd9-4ef1-9bd1-01840ddea333",
        "colab": {
          "base_uri": "https://localhost:8080/"
        }
      },
      "outputs": [
        {
          "output_type": "stream",
          "name": "stdout",
          "text": [
            "length of dataset =  1013924\n"
          ]
        }
      ],
      "source": [
        "def load_and_encode_data_nltk(filename):\n",
        "    word_to_lookup = {}\n",
        "    lookup_to_word = {}\n",
        "    encoded_data = []\n",
        "\n",
        "    data = read_data(filename)\n",
        "    print ('length of dataset = ', len(data))\n",
        "    tokenized_data = [word_tokenize(w) for w in [s for s in sent_tokenize(data)]]\n",
        "    vocabulary = set()\n",
        "\n",
        "    for s in tokenized_data:\n",
        "        for w in s:\n",
        "            vocabulary.add(w)\n",
        "\n",
        "    vocabulary = sorted(vocabulary)\n",
        "\n",
        "    for c, i in list(zip(vocabulary, range(len(vocabulary)))):\n",
        "        word_to_lookup[c] = i\n",
        "        lookup_to_word[i] = c\n",
        "\n",
        "    for s in tokenized_data:\n",
        "        for w in s:\n",
        "            encoded_data.append(word_to_lookup[w])\n",
        "\n",
        "    return word_to_lookup, lookup_to_word, encoded_data\n",
        "\n",
        "w2l, l2w, tokenized_data = load_and_encode_data_nltk(\"/content/drive/MyDrive/colab/pg1400.txt\")\n",
        "\n",
        "tensor_tokenized_data = torch.tensor(tokenized_data, dtype=torch.long)"
      ]
    },
    {
      "cell_type": "code",
      "execution_count": null,
      "id": "b6a83ba6-a764-470f-8d75-a7c8974c9f5f",
      "metadata": {
        "tags": [],
        "id": "b6a83ba6-a764-470f-8d75-a7c8974c9f5f",
        "outputId": "2deadf22-f936-495f-8681-c70dba4d3140",
        "colab": {
          "base_uri": "https://localhost:8080/"
        }
      },
      "outputs": [
        {
          "output_type": "stream",
          "name": "stdout",
          "text": [
            "torch.Size([229192]) torch.int64\n",
            "tensor([13697,  1241,   661,  5082,  8781,   647,   537,  1537,  5120,  7431,\n",
            "         5967, 12111, 12807,  8781,  2302,  2307,  7092, 12111,  1607,  1453,\n",
            "         2246,  8407,  8902,  9083,  8781, 12111, 13380,  2509,  8622,  4109,\n",
            "         2246, 13322,  2188,  8622, 10315, 13172,    10,  1779,  8135,  4077,\n",
            "         7440,     8,  6277,  7440,  2584,  8867,  9937,  7440, 12617, 12111,\n",
            "        12069,  8781, 12111,  1241,   661,   904,  7119, 13322, 12169,  5120,\n",
            "         8867,  8837,  2509, 13444,    10,   770, 13477,  2388,  8660,  7883,\n",
            "         7092, 12111,  1607,  1453,     8, 13477, 13265,  6661, 12279,  3453,\n",
            "        12111,  7693,  8781, 12111,  4137, 13181, 13477,  2388,  7883,  2752,\n",
            "        12817, 12169,  5082,    10,  1554,    56,   647,   537,   162,    56])\n"
          ]
        }
      ],
      "source": [
        "print(tensor_tokenized_data.shape, tensor_tokenized_data.dtype)\n",
        "print(tensor_tokenized_data[:100])"
      ]
    },
    {
      "cell_type": "markdown",
      "id": "a57ea747-587e-4228-8036-333d1625bb30",
      "metadata": {
        "id": "a57ea747-587e-4228-8036-333d1625bb30"
      },
      "source": [
        "## Test training dataset split"
      ]
    },
    {
      "cell_type": "code",
      "execution_count": null,
      "id": "b85455ca-6b37-4b29-a318-7efbc518c96e",
      "metadata": {
        "tags": [],
        "id": "b85455ca-6b37-4b29-a318-7efbc518c96e"
      },
      "outputs": [],
      "source": [
        "n = int(0.8*len(tensor_tokenized_data))\n",
        "train_data = tensor_tokenized_data[:n]\n",
        "test_data = tensor_tokenized_data[n:]"
      ]
    },
    {
      "cell_type": "code",
      "execution_count": null,
      "id": "917c5bb5-004e-4b7e-b0e2-ed13a686dda9",
      "metadata": {
        "tags": [],
        "id": "917c5bb5-004e-4b7e-b0e2-ed13a686dda9",
        "outputId": "11e23a47-6abc-4c32-d8fd-1c50bc86bb66",
        "colab": {
          "base_uri": "https://localhost:8080/"
        }
      },
      "outputs": [
        {
          "output_type": "execute_result",
          "data": {
            "text/plain": [
              "(tensor([13697,  1241,   661,  ...,     8,  2246, 13181]),\n",
              " tensor([12111, 11712, 12997,  ...,  8589,  5083,    10]))"
            ]
          },
          "metadata": {},
          "execution_count": 57
        }
      ],
      "source": [
        "train_data, test_data"
      ]
    },
    {
      "cell_type": "code",
      "execution_count": null,
      "id": "e1aa9af7-b3e5-4a38-ad56-e0df654ef415",
      "metadata": {
        "id": "e1aa9af7-b3e5-4a38-ad56-e0df654ef415",
        "outputId": "e84b2f31-5520-4974-8816-c27d355ff0d9",
        "colab": {
          "base_uri": "https://localhost:8080/"
        }
      },
      "outputs": [
        {
          "output_type": "execute_result",
          "data": {
            "text/plain": [
              "tensor([13697,  1241,   661,  5082,  8781,   647,   537,  1537,  5120,  7431,\n",
              "         5967, 12111, 12807,  8781,  2302,  2307,  7092, 12111,  1607,  1453,\n",
              "         2246,  8407,  8902,  9083,  8781, 12111, 13380,  2509,  8622,  4109,\n",
              "         2246, 13322,  2188,  8622, 10315, 13172,    10,  1779,  8135,  4077,\n",
              "         7440,     8,  6277,  7440,  2584,  8867,  9937,  7440, 12617, 12111,\n",
              "        12069,  8781, 12111,  1241,   661,   904,  7119, 13322, 12169,  5120,\n",
              "         8867,  8837,  2509, 13444,    10,   770, 13477,  2388,  8660,  7883,\n",
              "         7092, 12111,  1607,  1453,     8, 13477, 13265,  6661, 12279,  3453,\n",
              "        12111,  7693,  8781, 12111,  4137, 13181, 13477,  2388,  7883,  2752,\n",
              "        12817, 12169,  5082,    10,  1554,    56,   647,   537,   162,    56,\n",
              "          321,   441,  1301,  4336,    56,   847,    11,     8,    36,  1785,\n",
              "         5082,     1,    33,  1786,  1026,  9989, 12780,    56,  1109,    51,\n",
              "            8,    40,   891,    56,   505,   395,    56,   122,   126,  1628,\n",
              "         2246,   421,  1695,     7,     7,     7,  1349,  1101,  1490,  1153,\n",
              "          598,   478,   597,   484,     7,     7,     7,  1785,   771,  1786,\n",
              "          647,   537,  1785,    35,   494,  1786,  3235,   321,   441,   375,\n",
              "          320,   753,    10,   320,   756,    10,   320,   757,    10,   320,\n",
              "          767,    10,   320,  1618,   320,  1620,    10,   320,  1621,    10,\n",
              "          320,  1622,    10,   320,   768,    10,   320,  1726,    10,   320,\n",
              "         1727,    10,   320,  1728,    10,   320,  1729,    10,   320,  1730,\n",
              "           10,   320,  1743,    10,   320,  1744,    10,   320,  1745,    10,\n",
              "          320,  1746,    10,   320,  1731,    10,   320,  1747,    10,   320,\n",
              "         1748,    10,   320,  1749,    10,   320,  1750,    10,   320,  1751,\n",
              "           10,   320,  1753,    10,   320,  1754,    10,   320,  1755,    10,\n",
              "          320,  1756,    10,   320,  1752,    10,   320,  1757,    10,   320,\n",
              "         1758,    10,   320,  1759,    10,   320,  1760])"
            ]
          },
          "metadata": {},
          "execution_count": 58
        }
      ],
      "source": [
        "no_of_embeddings = 384 ## Number of trainable parameters per token.\n",
        "attention_head_size = 16\n",
        "batch_size = 64\n",
        "block_size = 256\n",
        "no_of_heads = 6\n",
        "evaluation_iters = 200\n",
        "total_iters = 5000\n",
        "dropout = 0.2 # to prevent overfitting\n",
        "\n",
        "train_data[:block_size+1]"
      ]
    },
    {
      "cell_type": "code",
      "execution_count": null,
      "id": "60b9bc71-ec56-4f12-b607-a1ba866374e8",
      "metadata": {
        "tags": [],
        "id": "60b9bc71-ec56-4f12-b607-a1ba866374e8",
        "outputId": "89640fa0-7a38-4122-b05f-fd2af8b793a8",
        "colab": {
          "base_uri": "https://localhost:8080/",
          "height": 36
        }
      },
      "outputs": [
        {
          "output_type": "execute_result",
          "data": {
            "text/plain": [
              "'Project Gutenberg eBook of Great Expectations'"
            ],
            "application/vnd.google.colaboratory.intrinsic+json": {
              "type": "string"
            }
          },
          "metadata": {},
          "execution_count": 59
        }
      ],
      "source": [
        "\" \".join([l2w[i] for i in train_data[1:7].numpy()])"
      ]
    },
    {
      "cell_type": "code",
      "execution_count": null,
      "id": "1b2df35b-3e51-4a7e-b108-22aefba93fc8",
      "metadata": {
        "tags": [],
        "id": "1b2df35b-3e51-4a7e-b108-22aefba93fc8"
      },
      "outputs": [],
      "source": [
        "def get_data_for_processing(training_data_set):\n",
        "    data = train_data if training_data_set else test_data\n",
        "    sample_indices = torch.randint(len(data)-block_size, (batch_size, ))\n",
        "    x = torch.stack([data[i:i+block_size] for i in sample_indices])\n",
        "    y = torch.stack([data[i+1:i+block_size+1] for i in sample_indices])\n",
        "    return x.to(device), y.to(device)"
      ]
    },
    {
      "cell_type": "code",
      "execution_count": null,
      "id": "7957b67f-0831-445a-9b8f-8a60fd9f0d30",
      "metadata": {
        "tags": [],
        "id": "7957b67f-0831-445a-9b8f-8a60fd9f0d30",
        "outputId": "d7b5fa3e-e9f4-4db3-f5ce-d64ba57de735",
        "colab": {
          "base_uri": "https://localhost:8080/"
        }
      },
      "outputs": [
        {
          "output_type": "stream",
          "name": "stdout",
          "text": [
            "further investigation\n",
            "” said\n",
            "you ought\n",
            "to Miss\n",
            "so unassuming\n",
            "in mind\n",
            "excitable temperament\n",
            "’ r\n",
            "some suspicion\n",
            "himself in\n",
            "had been\n",
            "Besides being\n",
            "remarkable what\n",
            "I lay\n",
            "if I\n",
            "I shall\n",
            "the conduct\n",
            "the mere\n",
            "and I\n",
            "eyes were\n",
            "after hesitating\n",
            "conjectures had\n",
            "thing .\n",
            "“ Say\n",
            "his pockets\n",
            "his hospitality\n",
            "speckled box\n",
            "Illustration ]\n",
            "be possible\n",
            ", and\n",
            ". At\n",
            "I want\n",
            "scarcely see\n",
            "he was\n",
            "at me\n",
            "therefore you\n",
            "got on\n",
            ", Handel\n",
            "Joe ,\n",
            "triumph ,\n",
            "( I\n",
            "helped him\n",
            "something good\n",
            "No ,\n",
            "rather neat\n",
            ", by\n",
            "no idea\n",
            "never was\n",
            "tossing his\n",
            "certainly was\n",
            "was in\n",
            "Hulks !\n",
            "marriage ultimately\n",
            "could possibly\n",
            "so ,\n",
            "a constraint\n",
            "had told\n",
            ", thinking\n",
            "it ,\n",
            "in his\n",
            "would consent\n",
            "“ Estella\n",
            "Biddy .\n",
            "a question\n",
            "13698\n"
          ]
        }
      ],
      "source": [
        "samples_x, samples_y = get_data_for_processing(True)\n",
        "for batch in range(batch_size):\n",
        "    for block in range(1):\n",
        "        context = samples_x[batch, :block+1]\n",
        "        target = samples_y[batch, block]\n",
        "        print (\" \".join([l2w[i] for i in context.cpu().numpy()]), l2w[target.item()])\n",
        "\n",
        "vocab_size = len(l2w)\n",
        "print (vocab_size)"
      ]
    },
    {
      "cell_type": "markdown",
      "source": [],
      "metadata": {
        "id": "nONbUXDVY_rm"
      },
      "id": "nONbUXDVY_rm"
    },
    {
      "cell_type": "code",
      "source": [
        "@torch.no_grad()\n",
        "def estimation_loss():\n",
        "  out = {}\n",
        "  model.eval()\n",
        "  for split in ['train', 'test']:\n",
        "    losses = torch.zeros(evaluation_iters)\n",
        "    for k in range(evaluation_iters):\n",
        "      X,Y = get_data_for_processing(True if split == 'train' else False)\n",
        "      logits, loss = model(X,Y)\n",
        "      losses[k] = loss.item()\n",
        "    out[split] = losses.mean()\n",
        "  model.train()\n",
        "  return out"
      ],
      "metadata": {
        "id": "N64B5mRKCEu_"
      },
      "id": "N64B5mRKCEu_",
      "execution_count": null,
      "outputs": []
    },
    {
      "cell_type": "markdown",
      "source": [
        "## Attention blocks implentation.\n",
        "The various classes below signify the implmenetation from various parts of the attention model for decoder."
      ],
      "metadata": {
        "id": "xvEa2SiiZZwp"
      },
      "id": "xvEa2SiiZZwp"
    },
    {
      "cell_type": "markdown",
      "source": [
        "### Self-attention head"
      ],
      "metadata": {
        "id": "KRGr_rpcZZvP"
      },
      "id": "KRGr_rpcZZvP"
    },
    {
      "cell_type": "code",
      "source": [
        "class SelfAttentionHead(nn.Module):\n",
        "  def __init__(self, attention_head_size):\n",
        "    super(SelfAttentionHead, self).__init__()\n",
        "    self.key = nn.Linear(no_of_embeddings, attention_head_size, bias=False)\n",
        "    self.query = nn.Linear(no_of_embeddings, attention_head_size, bias=False)\n",
        "    self.value = nn.Linear(no_of_embeddings, attention_head_size, bias=False)\n",
        "    self.dropout = nn.Dropout(dropout)\n",
        "    self.register_buffer('tril', torch.tril(torch.ones(block_size, block_size)))\n",
        "  def forward(self, idx):\n",
        "    bts, bs, no_of_embeddings = idx.shape\n",
        "    # print ('idx = ', idx.shape)\n",
        "    k = self.key(idx)\n",
        "    q = self.query(idx)\n",
        "\n",
        "    weights = q @ k.transpose(-2,-1) * no_of_embeddings**-0.5\n",
        "    # print ('w after transpose mul= ', weights.shape)\n",
        "    weights = weights.masked_fill(self.tril[:bs][:bs] == 0, float('-inf'))\n",
        "\n",
        "    weights = F.softmax(weights, dim=-1)\n",
        "    weights = self.dropout(weights)\n",
        "\n",
        "    values = self.value(idx)\n",
        "    # print (weights.shape, values.shape)\n",
        "\n",
        "    out = weights @ values\n",
        "\n",
        "    return out"
      ],
      "metadata": {
        "id": "xwZG0wUpknSw"
      },
      "id": "xwZG0wUpknSw",
      "execution_count": null,
      "outputs": []
    },
    {
      "cell_type": "markdown",
      "source": [
        "### Multi attention head"
      ],
      "metadata": {
        "id": "kmuLO6DLZscP"
      },
      "id": "kmuLO6DLZscP"
    },
    {
      "cell_type": "code",
      "source": [
        "class MultiHeadAttn(nn.Module):\n",
        "  def __init__(self, num_heads, attention_head_size):\n",
        "    super(MultiHeadAttn, self).__init__()\n",
        "    self.heads = nn.ModuleList([SelfAttentionHead(attention_head_size) for _ in range(num_heads)])\n",
        "    self.self_projection = nn.Linear(no_of_embeddings, no_of_embeddings)\n",
        "    self.dropout = nn.Dropout(dropout)\n",
        "  def forward(self, idx):\n",
        "    self_attn_out = torch.cat([head(idx) for head in self.heads], dim=-1)\n",
        "    return self.dropout(self.self_projection(self_attn_out))"
      ],
      "metadata": {
        "id": "Qv4jpiBz-C8i"
      },
      "id": "Qv4jpiBz-C8i",
      "execution_count": null,
      "outputs": []
    },
    {
      "cell_type": "markdown",
      "source": [
        "### Feed forward\n"
      ],
      "metadata": {
        "id": "Dns3OYKxZvvF"
      },
      "id": "Dns3OYKxZvvF"
    },
    {
      "cell_type": "code",
      "source": [
        "class FeedForward(nn.Module):\n",
        "  def __init__(self, no_of_embeddings):\n",
        "    super(FeedForward, self).__init__()\n",
        "    self.network = nn.Sequential(\n",
        "        nn.Linear(no_of_embeddings, 4*no_of_embeddings),\n",
        "        nn.ReLU(),\n",
        "        nn.Linear(4*no_of_embeddings, no_of_embeddings), # This is projection.\n",
        "        nn.Dropout(dropout)\n",
        "    )\n",
        "\n",
        "  def forward(self, idx):\n",
        "    return self.network(idx)"
      ],
      "metadata": {
        "id": "1aMePhR2BOZf"
      },
      "id": "1aMePhR2BOZf",
      "execution_count": null,
      "outputs": []
    },
    {
      "cell_type": "markdown",
      "source": [
        "### Block\n",
        "General block structure to hold other pieces"
      ],
      "metadata": {
        "id": "EkaJggNXZ3KI"
      },
      "id": "EkaJggNXZ3KI"
    },
    {
      "cell_type": "code",
      "source": [
        "class Block(nn.Module):\n",
        "  def __init__(self, no_of_embeddings, no_of_heads):\n",
        "    super(Block, self).__init__()\n",
        "    self.self_attn_heads = MultiHeadAttn(no_of_heads, no_of_embeddings//no_of_heads)\n",
        "    self.feed_forward = FeedForward(no_of_embeddings)\n",
        "    self.layer_norm1 = nn.LayerNorm(no_of_embeddings)\n",
        "    self.layer_norm2 = nn.LayerNorm(no_of_embeddings)\n",
        "\n",
        "  # idx is added as a concept from residual image nets to preserve the original x input.\n",
        "  def forward(self, idx):\n",
        "    self_attn_heads_out = idx + self.self_attn_heads(self.layer_norm1(idx))\n",
        "    ffwd_out = idx + self.feed_forward(self.layer_norm2(self_attn_heads_out))\n",
        "    return ffwd_out"
      ],
      "metadata": {
        "id": "Oa0tB0xCCnf_"
      },
      "id": "Oa0tB0xCCnf_",
      "execution_count": null,
      "outputs": []
    },
    {
      "cell_type": "markdown",
      "source": [
        "### Main model"
      ],
      "metadata": {
        "id": "u68n1pqxZ-VX"
      },
      "id": "u68n1pqxZ-VX"
    },
    {
      "cell_type": "markdown",
      "source": [],
      "metadata": {
        "id": "_s2NQhkZZ-RD"
      },
      "id": "_s2NQhkZZ-RD"
    },
    {
      "cell_type": "code",
      "execution_count": null,
      "id": "da43ee4c-974b-494c-b83e-5cbf3081eaa2",
      "metadata": {
        "tags": [],
        "id": "da43ee4c-974b-494c-b83e-5cbf3081eaa2",
        "outputId": "347cedb7-0303-4ccd-d8a3-0c53ca481866",
        "colab": {
          "base_uri": "https://localhost:8080/"
        }
      },
      "outputs": [
        {
          "output_type": "stream",
          "name": "stdout",
          "text": [
            "torch.Size([16384, 13698]) tensor(9.6883, grad_fn=<NllLossBackward0>)\n"
          ]
        }
      ],
      "source": [
        "class LLM(nn.Module):\n",
        "    def __init__(self, vocab_size, context, embedded_dim):\n",
        "      super(LLM, self).__init__()\n",
        "      self.embedding = nn.Embedding(vocab_size, no_of_embeddings) # batches, block_size, embeddings\n",
        "      self.position_embedding = nn.Embedding(block_size, no_of_embeddings) # block_size, embeddings\n",
        "\n",
        "      self.blocks = nn.Sequential(\n",
        "          Block(no_of_embeddings, no_of_heads),\n",
        "          Block(no_of_embeddings, no_of_heads),\n",
        "          Block(no_of_embeddings, no_of_heads),\n",
        "          Block(no_of_embeddings, no_of_heads),\n",
        "          Block(no_of_embeddings, no_of_heads),\n",
        "          Block(no_of_embeddings, no_of_heads),\n",
        "          nn.LayerNorm(no_of_embeddings)\n",
        "      )\n",
        "      self.language_model_head = nn.Linear(no_of_embeddings, vocab_size)\n",
        "\n",
        "    def forward(self, idx, targets=None):\n",
        "      batch, blocksize = idx.shape\n",
        "      token_embedding = self.embedding(idx)\n",
        "      block_size_values = torch.arange(blocksize, device=device)\n",
        "      position_embedding = self.position_embedding(block_size_values)\n",
        "      tokpos_embedding = token_embedding + position_embedding\n",
        "      # print (tokpos_embedding.shape, token_embedding.shape, position_embedding.shape)\n",
        "      self_attn_out = self.blocks(tokpos_embedding)\n",
        "      logits = self.language_model_head(self_attn_out)\n",
        "\n",
        "      if targets is None:\n",
        "          loss = None\n",
        "      else:\n",
        "          B,T,C = logits.shape\n",
        "          logits = logits.view(B*T,C)\n",
        "          targets = targets.view(B*T)\n",
        "          loss = F.cross_entropy(logits, targets)\n",
        "\n",
        "      return logits, loss\n",
        "\n",
        "    def generate(self, idx, max_new_tokens):\n",
        "      for _ in range(max_new_tokens):\n",
        "          idx_condition = idx[:, -block_size:]\n",
        "          # print (idx_condition)\n",
        "          logits, loss = self(idx_condition)\n",
        "          logits = logits[:, -1,  :]\n",
        "          probs = F.softmax(logits, dim=-1)\n",
        "          idx_next = torch.multinomial(probs, num_samples=1)\n",
        "          idx = torch.cat((idx, idx_next), dim=1)\n",
        "      return idx\n",
        "\n",
        "model = LLM(vocab_size, block_size, vocab_size).to(device)\n",
        "logits, loss = model(samples_x, samples_y)\n",
        "print (logits.shape, loss)"
      ]
    },
    {
      "cell_type": "code",
      "execution_count": null,
      "id": "0b544b4e-c706-4cd2-8916-bf07c55300a0",
      "metadata": {
        "id": "0b544b4e-c706-4cd2-8916-bf07c55300a0"
      },
      "outputs": [],
      "source": [
        "optimizer = torch.optim.AdamW(model.parameters(), lr=0.001)"
      ]
    },
    {
      "cell_type": "code",
      "source": [
        "model.summary()"
      ],
      "metadata": {
        "id": "7E1xDHpFbyzE"
      },
      "id": "7E1xDHpFbyzE",
      "execution_count": null,
      "outputs": []
    },
    {
      "cell_type": "markdown",
      "source": [
        "### Training"
      ],
      "metadata": {
        "id": "9wVxzolBaDvS"
      },
      "id": "9wVxzolBaDvS"
    },
    {
      "cell_type": "markdown",
      "source": [],
      "metadata": {
        "id": "6rg0IyXGaDeT"
      },
      "id": "6rg0IyXGaDeT"
    },
    {
      "cell_type": "code",
      "source": [
        "for step in range(total_iters):\n",
        "    if step % evaluation_iters == 0:\n",
        "      losses = estimation_loss()\n",
        "      print(\"Training data loss = \", losses['train'].item(), \"Test data loss = \", losses['test'].item())\n",
        "    samples_x, samples_y = get_data_for_processing(True)\n",
        "    logits, loss = model(samples_x, samples_y)\n",
        "    optimizer.zero_grad()\n",
        "\n",
        "    loss.backward()\n",
        "    optimizer.step()\n"
      ],
      "metadata": {
        "id": "4-tjz64nAEA4"
      },
      "id": "4-tjz64nAEA4",
      "execution_count": null,
      "outputs": []
    },
    {
      "cell_type": "markdown",
      "source": [
        "## Example generation"
      ],
      "metadata": {
        "id": "HfkWRALNaF1M"
      },
      "id": "HfkWRALNaF1M"
    },
    {
      "cell_type": "code",
      "source": [
        "context = torch.tensor([[w2l[i] for i in \"what is the bill of the character story\".split(' ')]], dtype=torch.long, device=device)\n",
        "g = model.generate(context, max_new_tokens=200)\n",
        "\" \".join([l2w[i] for i in g.cpu().numpy()[0]])"
      ],
      "metadata": {
        "id": "xJxKeP9TAF9P"
      },
      "id": "xJxKeP9TAF9P",
      "execution_count": null,
      "outputs": []
    },
    {
      "cell_type": "code",
      "source": [],
      "metadata": {
        "id": "lAxUsTHHAJO_"
      },
      "id": "lAxUsTHHAJO_",
      "execution_count": null,
      "outputs": []
    }
  ],
  "metadata": {
    "kernelspec": {
      "display_name": "Python 3",
      "name": "python3"
    },
    "language_info": {
      "codemirror_mode": {
        "name": "ipython",
        "version": 3
      },
      "file_extension": ".py",
      "mimetype": "text/x-python",
      "name": "python",
      "nbconvert_exporter": "python",
      "pygments_lexer": "ipython3",
      "version": "3.11.5"
    },
    "colab": {
      "provenance": [],
      "toc_visible": true,
      "gpuType": "T4"
    },
    "accelerator": "GPU"
  },
  "nbformat": 4,
  "nbformat_minor": 5
}