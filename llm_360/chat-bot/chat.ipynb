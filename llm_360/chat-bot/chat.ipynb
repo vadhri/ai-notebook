{
 "cells": [
  {
   "cell_type": "code",
   "execution_count": 7,
   "metadata": {},
   "outputs": [
    {
     "name": "stderr",
     "output_type": "stream",
     "text": [
      "huggingface/tokenizers: The current process just got forked, after parallelism has already been used. Disabling parallelism to avoid deadlocks...\n",
      "To disable this warning, you can either:\n",
      "\t- Avoid using `tokenizers` before the fork if possible\n",
      "\t- Explicitly set the environment variable TOKENIZERS_PARALLELISM=(true | false)\n"
     ]
    }
   ],
   "source": [
    "!pip install  -q -r req.txt"
   ]
  },
  {
   "cell_type": "code",
   "execution_count": 13,
   "metadata": {},
   "outputs": [],
   "source": [
    "from dotenv import load_dotenv\n",
    "import torch\n",
    "from transformers import AutoTokenizer, AutoModelForQuestionAnswering\n",
    "\n",
    "load_dotenv('../../.env')\n",
    "\n",
    "from langchain.vectorstores import Chroma\n",
    "from langchain.text_splitter import RecursiveCharacterTextSplitter\n",
    "from langchain.document_loaders import TextLoader\n",
    "import re\n",
    "from langchain_community.document_loaders import PyPDFLoader\n",
    "from pdfminer.high_level import extract_text\n",
    "\n",
    "from transformers import AutoTokenizer, DistilBertForQuestionAnswering, DistilBertTokenizerFast\n",
    "\n",
    "tokenizer = AutoTokenizer.from_pretrained('deepset/roberta-base-squad2')\n",
    "model = AutoModelForQuestionAnswering.from_pretrained('deepset/roberta-base-squad2')\n",
    "\n",
    "text = extract_text(\"./Computer_vision.pdf\")\n",
    "text_splitter = RecursiveCharacterTextSplitter(chunk_size=1000, chunk_overlap=100)\n",
    "docs = text_splitter.create_documents([text])\n",
    "db3 = Chroma(persist_directory=\"./chroma_db\").from_documents(docs)\n"
   ]
  },
  {
   "cell_type": "code",
   "execution_count": 15,
   "metadata": {},
   "outputs": [
    {
     "name": "stderr",
     "output_type": "stream",
     "text": [
      "Using embedded DuckDB with persistence: data will be stored in: ./chroma_db\n",
      "No embedding_function provided, using default embedding function: SentenceTransformerEmbeddingFunction\n",
      "Using embedded DuckDB without persistence: data will be transient\n",
      "No embedding_function provided, using default embedding function: SentenceTransformerEmbeddingFunction\n"
     ]
    }
   ],
   "source": [
    "db3 = Chroma(persist_directory=\"./chroma_db\").from_documents(docs)\n"
   ]
  },
  {
   "cell_type": "code",
   "execution_count": 16,
   "metadata": {},
   "outputs": [
    {
     "name": "stdout",
     "output_type": "stream",
     "text": [
      "\n",
      "computer  vision  seeks  to  apply  its  theories  and  models  for  the  construction  of  computer  vision  systems.\n",
      "Machine vision refers to a systems engineering discipline, especially in the context of factory automation, In\n",
      "more recent times the terms computer vision and machine vision have converged to a greater degree.: 13\n",
      "Computer vision is an interdisciplinary field that deals with how computers can be made to gain high-level\n",
      "understanding from digital images or videos. From the perspective of engineering, it seeks to automate tasks\n",
      "that the human visual system can do. Computer vision is concerned with the automatic extraction,\n",
      "analysis and understanding of useful information from a single image or a sequence of images. It involves\n",
      "the development of a theoretical and algorithmic basis to achieve automatic visual understanding. As a\n",
      "scientific  discipline,  computer  vision  is  concerned  with  the  theory  behind  artificial  systems  that  extract\n",
      "information  from  images.  The  image  data  can  take  many  forms,  such  as  video  sequences,  views  from\n",
      "multiple  cameras,  or  multi-dimensional  data  from  a  medical  scanner.  As  a  technological  discipline,\n",
      "Other fields\n",
      "\n",
      "Besides  the  above-mentioned  views  on  computer  vision,  many  of  the  related  research  topics  can  also  be\n",
      "studied from a purely mathematical point of view. For example, many methods in computer vision are based\n",
      "on  statistics,  optimization  or  geometry.  Finally,  a  significant  part  of  the  field  is  devoted  to  the\n",
      "implementation aspect of computer vision; how existing methods can be realized in various combinations of\n",
      "software and hardware, or how these methods can be modified in order to gain processing speed without\n",
      "losing too much performance. Computer vision is also used in fashion eCommerce, inventory management,\n",
      "patent search, furniture, and the beauty industry.\n",
      "\n",
      "Distinctions\n",
      "Each of the application areas described above employ a range\n",
      "of computer vision tasks; more or less well-defined measurement problems or processing problems, which\n",
      "can  be  solved  using  a  variety  of  methods.  Some  examples  of  typical  computer  vision  tasks  are  presented\n",
      "below.\n",
      "\n",
      "Computer  vision  tasks  include  methods  for  acquiring,  processing,  analyzing  and  understanding  digital\n",
      "images,  and  extraction  of  high-dimensional  data  from  the  real  world  in  order  to  produce  numerical  or\n",
      "symbolic  information,  e.g.,  in  the  forms  of  decisions.  Understanding  in  this  context  means  the\n",
      "transformation of visual images  into descriptions of the world that can interface with\n"
     ]
    },
    {
     "name": "stderr",
     "output_type": "stream",
     "text": [
      "<>:6: SyntaxWarning: invalid escape sequence '\\('\n",
      "<>:6: SyntaxWarning: invalid escape sequence '\\('\n",
      "/var/folders/n5/sr7wwb8n1wggd7jsk_k37l_w0000gn/T/ipykernel_30754/3155017363.py:6: SyntaxWarning: invalid escape sequence '\\('\n",
      "  context +=  '\\n' +  re.sub('[\\(\\[].*?[\\)\\]]', \"\", p.page_content)\n"
     ]
    }
   ],
   "source": [
    "retriever = db3.as_retriever()\n",
    "pages = retriever.get_relevant_documents(\"What is computer vision ?\")\n",
    "context = \"\"\n",
    "import re \n",
    "for p in pages: \n",
    "    context +=  '\\n' +  re.sub('[\\(\\[].*?[\\)\\]]', \"\", p.page_content)\n",
    "    context = context.replace('\"', '')\n",
    "print (context)"
   ]
  },
  {
   "cell_type": "code",
   "execution_count": 1,
   "metadata": {},
   "outputs": [
    {
     "name": "stderr",
     "output_type": "stream",
     "text": [
      "/Users/venkat/opt/anaconda3/envs/llm/lib/python3.12/site-packages/tqdm/auto.py:21: TqdmWarning: IProgress not found. Please update jupyter and ipywidgets. See https://ipywidgets.readthedocs.io/en/stable/user_install.html\n",
      "  from .autonotebook import tqdm as notebook_tqdm\n"
     ]
    },
    {
     "name": "stdout",
     "output_type": "stream",
     "text": [
      "\n",
      "Question:  what is the urban agglomeration of Bangalore?\n",
      "Answer:  10, 456, 000\n"
     ]
    },
    {
     "data": {
      "text/plain": [
       "['what is the urban agglomeration of Bangalore?', '10, 456, 000']"
      ]
     },
     "execution_count": 1,
     "metadata": {},
     "output_type": "execute_result"
    }
   ],
   "source": [
    "question = \"what is the urban agglomeration of Bangalore?\"\n",
    "context = '''\n",
    "Bangalore is a megacity with a population of 8,443,675 in the city and 10,456,000 in the urban agglomeration,[6][5] up from 8.5 million at the 2011 census.[115] It is the third most populous city in India, the 18th most populous city in the world and the fifth most populous urban agglomeration in India.[11][116] With a growth rate of 38% during the decade, Bangalore was the fastest-growing Indian metropolis after New Delhi between 1991 and 2001. Residents of Bangalore are referred to as \"Bangaloreans\" in English, Bengaloorinavaru or Bengaloorigaru in Kannada and Banglori in Hindi or Urdu.[117] People from other states have migrated to Bangalore, study, or work there as well.[118]\n",
    "'''\n",
    "def query(context, question, verbose=True, context_max_len=2500):\n",
    "    if len(context) > context_max_len:\n",
    "        if verbose:\n",
    "            print(f'Warning: Context length {len(context)} exceeds max {context_max_len}, truncating')\n",
    "            context = context[:context_max_len]\n",
    "    encoding = tokenizer.encode_plus(question, context)\n",
    "    input_ids, attention_mask = encoding[\"input_ids\"], encoding[\"attention_mask\"]\n",
    "    ret = model(torch.tensor([input_ids]), attention_mask=torch.tensor([attention_mask]))  # bug work-around\n",
    "    start_scores, end_scores = ret[0], ret[1]\n",
    "    ans_tokens = input_ids[torch.argmax(start_scores) : torch.argmax(end_scores)+1]\n",
    "    answer_tokens = tokenizer.convert_ids_to_tokens(ans_tokens , skip_special_tokens=True)\n",
    "    answer_tokens_to_string = tokenizer.convert_tokens_to_string(answer_tokens)\n",
    "    if verbose:\n",
    "        print (\"\\nQuestion: \",question)\n",
    "        print (\"Answer: \", answer_tokens_to_string)\n",
    "    return [question, answer_tokens_to_string]\n",
    "\n",
    "\n",
    "tokenizer = AutoTokenizer.from_pretrained('distilbert-base-cased-distilled-squad')\n",
    "model = AutoModelForQuestionAnswering.from_pretrained('distilbert-base-cased-distilled-squad')\n",
    "\n",
    "query(context=context, question=question)"
   ]
  },
  {
   "cell_type": "code",
   "execution_count": 17,
   "metadata": {},
   "outputs": [
    {
     "name": "stdout",
     "output_type": "stream",
     "text": [
      "Warning: Context length 2639 exceeds max 2500, truncating\n",
      "\n",
      "Question:  What is Computer vision?\n",
      "Answer:  an interdisciplinary field that deals with how computers can be made to gain high - level understanding from digital images or videos\n"
     ]
    },
    {
     "data": {
      "text/plain": [
       "['What is Computer vision?',\n",
       " 'an interdisciplinary field that deals with how computers can be made to gain high - level understanding from digital images or videos']"
      ]
     },
     "execution_count": 17,
     "metadata": {},
     "output_type": "execute_result"
    }
   ],
   "source": [
    "question = \"What is Computer vision?\"\n",
    "\n",
    "def query(context, question, verbose=True, context_max_len=2500):\n",
    "    if len(context) > context_max_len:\n",
    "        if verbose:\n",
    "            print(f'Warning: Context length {len(context)} exceeds max {context_max_len}, truncating')\n",
    "            context = context[:context_max_len]\n",
    "    # print (context)\n",
    "    encoding = tokenizer.encode_plus(question, context)\n",
    "    input_ids, attention_mask = encoding[\"input_ids\"], encoding[\"attention_mask\"]\n",
    "    ret = model(torch.tensor([input_ids]), attention_mask=torch.tensor([attention_mask]))  # bug work-around\n",
    "    start_scores, end_scores = ret[0], ret[1]\n",
    "    ans_tokens = input_ids[torch.argmax(start_scores) : torch.argmax(end_scores)+1]\n",
    "    answer_tokens = tokenizer.convert_ids_to_tokens(ans_tokens , skip_special_tokens=True)\n",
    "    answer_tokens_to_string = tokenizer.convert_tokens_to_string(answer_tokens)\n",
    "    if verbose:\n",
    "        print (\"\\nQuestion: \",question)\n",
    "        print (\"Answer: \", answer_tokens_to_string)\n",
    "    return [question, answer_tokens_to_string]\n",
    "\n",
    "query(context=context, question=question)"
   ]
  },
  {
   "cell_type": "code",
   "execution_count": 18,
   "metadata": {},
   "outputs": [
    {
     "name": "stdout",
     "output_type": "stream",
     "text": [
      "Warning: Context length 2639 exceeds max 2500, truncating\n",
      "\n",
      "Question:  what are uses of computer vision?\n",
      "Answer:  fashion eCommerce, inventory management, patent search, furniture, and the beauty industry\n"
     ]
    },
    {
     "data": {
      "text/plain": [
       "['what are uses of computer vision?',\n",
       " 'fashion eCommerce, inventory management, patent search, furniture, and the beauty industry']"
      ]
     },
     "execution_count": 18,
     "metadata": {},
     "output_type": "execute_result"
    }
   ],
   "source": [
    "query(context=context, question=\"what are uses of computer vision?\")"
   ]
  },
  {
   "cell_type": "code",
   "execution_count": null,
   "metadata": {},
   "outputs": [],
   "source": [
    "query(context=context, question=\"what is field of computer vision?\")"
   ]
  }
 ],
 "metadata": {
  "kernelspec": {
   "display_name": "llm",
   "language": "python",
   "name": "python3"
  },
  "language_info": {
   "codemirror_mode": {
    "name": "ipython",
    "version": 3
   },
   "file_extension": ".py",
   "mimetype": "text/x-python",
   "name": "python",
   "nbconvert_exporter": "python",
   "pygments_lexer": "ipython3",
   "version": "3.12.2"
  }
 },
 "nbformat": 4,
 "nbformat_minor": 2
}
