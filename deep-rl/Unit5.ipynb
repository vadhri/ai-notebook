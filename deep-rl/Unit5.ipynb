{
  "cells": [
    {
      "cell_type": "markdown",
      "metadata": {
        "id": "2D3NL_e4crQv"
      },
      "source": [
        "# Unit 5: An Introduction to ML-Agents\n",
        "\n"
      ]
    },
    {
      "cell_type": "markdown",
      "source": [
        "<img src=\"https://huggingface.co/datasets/huggingface-deep-rl-course/course-images/resolve/main/en/unit7/thumbnail.png\" alt=\"Thumbnail\"/>\n",
        "\n",
        "In this notebook, you'll learn about ML-Agents and train two agents.\n",
        "\n",
        "- The first one will learn to **shoot snowballs onto spawning targets**.\n",
        "- The second need to press a button to spawn a pyramid, then navigate to the pyramid, knock it over, **and move to the gold brick at the top**. To do that, it will need to explore its environment, and we will use a technique called curiosity.\n",
        "\n",
        "After that, you'll be able **to watch your agents playing directly on your browser**.\n",
        "\n",
        "For more information about the certification process, check this section 👉 https://huggingface.co/deep-rl-course/en/unit0/introduction#certification-process"
      ],
      "metadata": {
        "id": "97ZiytXEgqIz"
      }
    },
    {
      "cell_type": "markdown",
      "source": [
        "⬇️ Here is an example of what **you will achieve at the end of this unit.** ⬇️\n"
      ],
      "metadata": {
        "id": "FMYrDriDujzX"
      }
    },
    {
      "cell_type": "markdown",
      "source": [
        "<img src=\"https://huggingface.co/datasets/huggingface-deep-rl-course/course-images/resolve/main/en/unit7/pyramids.gif\" alt=\"Pyramids\"/>\n",
        "\n",
        "<img src=\"https://huggingface.co/datasets/huggingface-deep-rl-course/course-images/resolve/main/en/unit7/snowballtarget.gif\" alt=\"SnowballTarget\"/>"
      ],
      "metadata": {
        "id": "cBmFlh8suma-"
      }
    },
    {
      "cell_type": "markdown",
      "source": [
        "### 🎮 Environments:\n",
        "\n",
        "- [Pyramids](https://github.com/Unity-Technologies/ml-agents/blob/main/docs/Learning-Environment-Examples.md#pyramids)\n",
        "- SnowballTarget\n",
        "\n",
        "### 📚 RL-Library:\n",
        "\n",
        "- [ML-Agents](https://github.com/Unity-Technologies/ml-agents)\n"
      ],
      "metadata": {
        "id": "A-cYE0K5iL-w"
      }
    },
    {
      "cell_type": "markdown",
      "source": [
        "We're constantly trying to improve our tutorials, so **if you find some issues in this notebook**, please [open an issue on the GitHub Repo](https://github.com/huggingface/deep-rl-class/issues)."
      ],
      "metadata": {
        "id": "qEhtaFh9i31S"
      }
    },
    {
      "cell_type": "markdown",
      "source": [
        "## Objectives of this notebook 🏆\n",
        "\n",
        "At the end of the notebook, you will:\n",
        "\n",
        "- Understand how works **ML-Agents**, the environment library.\n",
        "- Be able to **train agents in Unity Environments**.\n"
      ],
      "metadata": {
        "id": "j7f63r3Yi5vE"
      }
    },
    {
      "cell_type": "markdown",
      "source": [
        "## This notebook is from the Deep Reinforcement Learning Course\n",
        "<img src=\"https://huggingface.co/datasets/huggingface-deep-rl-course/course-images/resolve/main/en/notebooks/deep-rl-course-illustration.jpg\" alt=\"Deep RL Course illustration\"/>"
      ],
      "metadata": {
        "id": "viNzVbVaYvY3"
      }
    },
    {
      "cell_type": "markdown",
      "metadata": {
        "id": "6p5HnEefISCB"
      },
      "source": [
        "In this free course, you will:\n",
        "\n",
        "- 📖 Study Deep Reinforcement Learning in **theory and practice**.\n",
        "- 🧑‍💻 Learn to **use famous Deep RL libraries** such as Stable Baselines3, RL Baselines3 Zoo, CleanRL and Sample Factory 2.0.\n",
        "- 🤖 Train **agents in unique environments**\n",
        "\n",
        "And more check 📚 the syllabus 👉 https://huggingface.co/deep-rl-course/communication/publishing-schedule\n",
        "\n",
        "Don’t forget to **<a href=\"http://eepurl.com/ic5ZUD\">sign up to the course</a>** (we are collecting your email to be able to **send you the links when each Unit is published and give you information about the challenges and updates).**\n",
        "\n",
        "\n",
        "The best way to keep in touch is to join our discord server to exchange with the community and with us 👉🏻 https://discord.gg/ydHrjt3WP5"
      ]
    },
    {
      "cell_type": "markdown",
      "metadata": {
        "id": "Y-mo_6rXIjRi"
      },
      "source": [
        "## Prerequisites 🏗️\n",
        "Before diving into the notebook, you need to:\n",
        "\n",
        "🔲 📚 **Study [what is ML-Agents and how it works by reading Unit 5](https://huggingface.co/deep-rl-course/unit5/introduction)**  🤗  "
      ]
    },
    {
      "cell_type": "markdown",
      "source": [
        "# Let's train our agents 🚀\n",
        "\n",
        "**To validate this hands-on for the certification process, you just need to push your trained models to the Hub**. There’s no results to attain to validate this one. But if you want to get nice results you can try to attain:\n",
        "\n",
        "- For `Pyramids` : Mean Reward = 1.75\n",
        "- For `SnowballTarget` : Mean Reward = 15 or 30 targets hit in an episode.\n"
      ],
      "metadata": {
        "id": "xYO1uD5Ujgdh"
      }
    },
    {
      "cell_type": "markdown",
      "source": [
        "## Set the GPU 💪\n",
        "- To **accelerate the agent's training, we'll use a GPU**. To do that, go to `Runtime > Change Runtime type`\n",
        "\n",
        "<img src=\"https://huggingface.co/datasets/huggingface-deep-rl-course/course-images/resolve/main/en/notebooks/gpu-step1.jpg\" alt=\"GPU Step 1\">"
      ],
      "metadata": {
        "id": "DssdIjk_8vZE"
      }
    },
    {
      "cell_type": "markdown",
      "source": [
        "- `Hardware Accelerator > GPU`\n",
        "\n",
        "<img src=\"https://huggingface.co/datasets/huggingface-deep-rl-course/course-images/resolve/main/en/notebooks/gpu-step2.jpg\" alt=\"GPU Step 2\">"
      ],
      "metadata": {
        "id": "sTfCXHy68xBv"
      }
    },
    {
      "cell_type": "markdown",
      "metadata": {
        "id": "an3ByrXYQ4iK"
      },
      "source": [
        "## Clone the repository and install the dependencies 🔽\n"
      ]
    },
    {
      "cell_type": "code",
      "execution_count": 1,
      "metadata": {
        "id": "6WNoL04M7rTa"
      },
      "outputs": [],
      "source": [
        "%%capture\n",
        "# Clone the repository\n",
        "!git clone --depth 1 https://github.com/Unity-Technologies/ml-agents"
      ]
    },
    {
      "cell_type": "code",
      "execution_count": 2,
      "metadata": {
        "id": "d8wmVcMk7xKo"
      },
      "outputs": [],
      "source": [
        "%%capture\n",
        "# Go inside the repository and install the package\n",
        "%cd ml-agents\n",
        "!pip3 install -e ./ml-agents-envs\n",
        "!pip3 install -e ./ml-agents"
      ]
    },
    {
      "cell_type": "markdown",
      "source": [
        "## SnowballTarget ⛄\n",
        "\n",
        "If you need a refresher on how this environments work check this section 👉\n",
        "https://huggingface.co/deep-rl-course/unit5/snowball-target"
      ],
      "metadata": {
        "id": "R5_7Ptd_kEcG"
      }
    },
    {
      "cell_type": "markdown",
      "metadata": {
        "id": "HRY5ufKUKfhI"
      },
      "source": [
        "### Download and move the environment zip file in `./training-envs-executables/linux/`\n",
        "- Our environment executable is in a zip file.\n",
        "- We need to download it and place it to `./training-envs-executables/linux/`\n",
        "- We use a linux executable because we use colab, and colab machines OS is Ubuntu (linux)"
      ]
    },
    {
      "cell_type": "code",
      "execution_count": 4,
      "metadata": {
        "id": "C9Ls6_6eOKiA",
        "colab": {
          "base_uri": "https://localhost:8080/"
        },
        "outputId": "6a7355cd-77a5-4c9d-8f20-aacd7877d015"
      },
      "outputs": [
        {
          "output_type": "stream",
          "name": "stdout",
          "text": [
            "mkdir: cannot create directory ‘./training-envs-executables’: File exists\n",
            "mkdir: cannot create directory ‘./training-envs-executables/linux’: File exists\n"
          ]
        }
      ],
      "source": [
        "# Here, we create training-envs-executables and linux\n",
        "!mkdir ./training-envs-executables\n",
        "!mkdir ./training-envs-executables/linux"
      ]
    },
    {
      "cell_type": "markdown",
      "source": [
        "We downloaded the file SnowballTarget.zip from https://github.com/huggingface/Snowball-Target using `wget`"
      ],
      "metadata": {
        "id": "ekSh8LWawkB5"
      }
    },
    {
      "cell_type": "code",
      "source": [
        "!wget \"https://github.com/huggingface/Snowball-Target/raw/main/SnowballTarget.zip\" -O ./training-envs-executables/linux/SnowballTarget.zip"
      ],
      "metadata": {
        "id": "6LosWO50wa77",
        "colab": {
          "base_uri": "https://localhost:8080/"
        },
        "outputId": "bc55490f-b127-4ace-ca4f-be39afcab425"
      },
      "execution_count": 5,
      "outputs": [
        {
          "output_type": "stream",
          "name": "stdout",
          "text": [
            "--2024-02-20 03:22:43--  https://github.com/huggingface/Snowball-Target/raw/main/SnowballTarget.zip\n",
            "Resolving github.com (github.com)... 20.205.243.166\n",
            "Connecting to github.com (github.com)|20.205.243.166|:443... connected.\n",
            "HTTP request sent, awaiting response... 302 Found\n",
            "Location: https://media.githubusercontent.com/media/huggingface/Snowball-Target/main/SnowballTarget.zip [following]\n",
            "--2024-02-20 03:22:43--  https://media.githubusercontent.com/media/huggingface/Snowball-Target/main/SnowballTarget.zip\n",
            "Resolving media.githubusercontent.com (media.githubusercontent.com)... 185.199.108.133, 185.199.109.133, 185.199.110.133, ...\n",
            "Connecting to media.githubusercontent.com (media.githubusercontent.com)|185.199.108.133|:443... connected.\n",
            "HTTP request sent, awaiting response... 200 OK\n",
            "Length: 35134213 (34M) [application/zip]\n",
            "Saving to: ‘./training-envs-executables/linux/SnowballTarget.zip’\n",
            "\n",
            "./training-envs-exe 100%[===================>]  33.51M  --.-KB/s    in 0.1s    \n",
            "\n",
            "2024-02-20 03:22:46 (330 MB/s) - ‘./training-envs-executables/linux/SnowballTarget.zip’ saved [35134213/35134213]\n",
            "\n"
          ]
        }
      ]
    },
    {
      "cell_type": "markdown",
      "source": [
        "We unzip the executable.zip file"
      ],
      "metadata": {
        "id": "_LLVaEEK3ayi"
      }
    },
    {
      "cell_type": "code",
      "execution_count": 6,
      "metadata": {
        "id": "8FPx0an9IAwO"
      },
      "outputs": [],
      "source": [
        "%%capture\n",
        "!unzip -d ./training-envs-executables/linux/ ./training-envs-executables/linux/SnowballTarget.zip"
      ]
    },
    {
      "cell_type": "markdown",
      "metadata": {
        "id": "nyumV5XfPKzu"
      },
      "source": [
        "Make sure your file is accessible"
      ]
    },
    {
      "cell_type": "code",
      "execution_count": 7,
      "metadata": {
        "id": "EdFsLJ11JvQf"
      },
      "outputs": [],
      "source": [
        "!chmod -R 755 ./training-envs-executables/linux/SnowballTarget"
      ]
    },
    {
      "cell_type": "markdown",
      "source": [
        "### Define the SnowballTarget config file\n",
        "- In ML-Agents, you define the **training hyperparameters into config.yaml files.**\n",
        "\n",
        "There are multiple hyperparameters. To know them better, you should check for each explanation with [the documentation](https://github.com/Unity-Technologies/ml-agents/blob/release_20_docs/docs/Training-Configuration-File.md)\n",
        "\n",
        "\n",
        "So you need to create a `SnowballTarget.yaml` config file in ./content/ml-agents/config/ppo/\n",
        "\n",
        "We'll give you here a first version of this config (to copy and paste into your `SnowballTarget.yaml file`), **but you should modify it**.\n",
        "\n",
        "```\n",
        "behaviors:\n",
        "  SnowballTarget:\n",
        "    trainer_type: ppo\n",
        "    summary_freq: 10000\n",
        "    keep_checkpoints: 10\n",
        "    checkpoint_interval: 50000\n",
        "    max_steps: 200000\n",
        "    time_horizon: 64\n",
        "    threaded: true\n",
        "    hyperparameters:\n",
        "      learning_rate: 0.0003\n",
        "      learning_rate_schedule: linear\n",
        "      batch_size: 128\n",
        "      buffer_size: 2048\n",
        "      beta: 0.005\n",
        "      epsilon: 0.2\n",
        "      lambd: 0.95\n",
        "      num_epoch: 3\n",
        "    network_settings:\n",
        "      normalize: false\n",
        "      hidden_units: 256\n",
        "      num_layers: 2\n",
        "      vis_encode_type: simple\n",
        "    reward_signals:\n",
        "      extrinsic:\n",
        "        gamma: 0.99\n",
        "        strength: 1.0\n",
        "```"
      ],
      "metadata": {
        "id": "NAuEq32Mwvtz"
      }
    },
    {
      "cell_type": "markdown",
      "source": [
        "<img src=\"https://huggingface.co/datasets/huggingface-deep-rl-course/course-images/resolve/main/en/unit7/snowballfight_config1.png\" alt=\"Config SnowballTarget\"/>\n",
        "<img src=\"https://huggingface.co/datasets/huggingface-deep-rl-course/course-images/resolve/main/en/unit7/snowballfight_config2.png\" alt=\"Config SnowballTarget\"/>"
      ],
      "metadata": {
        "id": "4U3sRH4N4h_l"
      }
    },
    {
      "cell_type": "markdown",
      "source": [
        "As an experimentation, you should also try to modify some other hyperparameters. Unity provides very [good documentation explaining each of them here](https://github.com/Unity-Technologies/ml-agents/blob/main/docs/Training-Configuration-File.md).\n",
        "\n",
        "Now that you've created the config file and understand what most hyperparameters do, we're ready to train our agent 🔥."
      ],
      "metadata": {
        "id": "JJJdo_5AyoGo"
      }
    },
    {
      "cell_type": "markdown",
      "metadata": {
        "id": "f9fI555bO12v"
      },
      "source": [
        "### Train the agent\n",
        "\n",
        "To train our agent, we just need to **launch mlagents-learn and select the executable containing the environment.**\n",
        "\n",
        "We define four parameters:\n",
        "\n",
        "1. `mlagents-learn <config>`: the path where the hyperparameter config file is.\n",
        "2. `--env`: where the environment executable is.\n",
        "3. `--run_id`: the name you want to give to your training run id.\n",
        "4. `--no-graphics`: to not launch the visualization during the training.\n",
        "\n",
        "<img src=\"https://huggingface.co/datasets/huggingface-deep-rl-course/course-images/resolve/main/en/unit7/mlagentslearn.png\" alt=\"MlAgents learn\"/>\n",
        "\n",
        "Train the model and use the `--resume` flag to continue training in case of interruption.\n",
        "\n",
        "> It will fail first time if and when you use `--resume`, try running the block again to bypass the error.\n",
        "\n"
      ]
    },
    {
      "cell_type": "markdown",
      "source": [
        "The training will take 10 to 35min depending on your config, go take a ☕️you deserve it 🤗."
      ],
      "metadata": {
        "id": "lN32oWF8zPjs"
      }
    },
    {
      "cell_type": "code",
      "execution_count": 8,
      "metadata": {
        "id": "bS-Yh1UdHfzy",
        "colab": {
          "base_uri": "https://localhost:8080/"
        },
        "outputId": "e7839e77-e44d-45c9-ea0b-d8009cfecc77"
      },
      "outputs": [
        {
          "output_type": "stream",
          "name": "stdout",
          "text": [
            "/usr/local/lib/python3.10/dist-packages/torch/__init__.py:690: UserWarning: torch.set_default_tensor_type() is deprecated as of PyTorch 2.1, please use torch.set_default_dtype() and torch.set_default_device() as alternatives. (Triggered internally at ../torch/csrc/tensor/python_tensor.cpp:451.)\n",
            "  _C._set_default_tensor_type(t)\n",
            "\n",
            "            ┐  ╖\n",
            "        ╓╖╬│╡  ││╬╖╖\n",
            "    ╓╖╬│││││┘  ╬│││││╬╖\n",
            " ╖╬│││││╬╜        ╙╬│││││╖╖                               ╗╗╗\n",
            " ╬╬╬╬╖││╦╖        ╖╬││╗╣╣╣╬      ╟╣╣╬    ╟╣╣╣             ╜╜╜  ╟╣╣\n",
            " ╬╬╬╬╬╬╬╬╖│╬╖╖╓╬╪│╓╣╣╣╣╣╣╣╬      ╟╣╣╬    ╟╣╣╣ ╒╣╣╖╗╣╣╣╗   ╣╣╣ ╣╣╣╣╣╣ ╟╣╣╖   ╣╣╣\n",
            " ╬╬╬╬┐  ╙╬╬╬╬│╓╣╣╣╝╜  ╫╣╣╣╬      ╟╣╣╬    ╟╣╣╣ ╟╣╣╣╙ ╙╣╣╣  ╣╣╣ ╙╟╣╣╜╙  ╫╣╣  ╟╣╣\n",
            " ╬╬╬╬┐     ╙╬╬╣╣      ╫╣╣╣╬      ╟╣╣╬    ╟╣╣╣ ╟╣╣╬   ╣╣╣  ╣╣╣  ╟╣╣     ╣╣╣┌╣╣╜\n",
            " ╬╬╬╜       ╬╬╣╣      ╙╝╣╣╬      ╙╣╣╣╗╖╓╗╣╣╣╜ ╟╣╣╬   ╣╣╣  ╣╣╣  ╟╣╣╦╓    ╣╣╣╣╣\n",
            " ╙   ╓╦╖    ╬╬╣╣   ╓╗╗╖            ╙╝╣╣╣╣╝╜   ╘╝╝╜   ╝╝╝  ╝╝╝   ╙╣╣╣    ╟╣╣╣\n",
            "   ╩╬╬╬╬╬╬╦╦╬╬╣╣╗╣╣╣╣╣╣╣╝                                             ╫╣╣╣╣\n",
            "      ╙╬╬╬╬╬╬╬╣╣╣╣╣╣╝╜\n",
            "          ╙╬╬╬╣╣╣╜\n",
            "             ╙\n",
            "        \n",
            " Version information:\n",
            "  ml-agents: 1.1.0.dev0,\n",
            "  ml-agents-envs: 1.1.0.dev0,\n",
            "  Communicator API: 1.5.0,\n",
            "  PyTorch: 2.2.0+cu121\n",
            "[INFO] Connected to Unity environment with package version 2.1.0-exp.1 and communication version 1.5.0\n",
            "[INFO] Connected new brain: SnowballTarget?team=0\n",
            "[INFO] Hyperparameters for behavior name SnowballTarget: \n",
            "\ttrainer_type:\tppo\n",
            "\thyperparameters:\t\n",
            "\t  batch_size:\t128\n",
            "\t  buffer_size:\t2048\n",
            "\t  learning_rate:\t0.0003\n",
            "\t  beta:\t0.005\n",
            "\t  epsilon:\t0.2\n",
            "\t  lambd:\t0.95\n",
            "\t  num_epoch:\t3\n",
            "\t  shared_critic:\tFalse\n",
            "\t  learning_rate_schedule:\tlinear\n",
            "\t  beta_schedule:\tlinear\n",
            "\t  epsilon_schedule:\tlinear\n",
            "\tcheckpoint_interval:\t50000\n",
            "\tnetwork_settings:\t\n",
            "\t  normalize:\tFalse\n",
            "\t  hidden_units:\t256\n",
            "\t  num_layers:\t2\n",
            "\t  vis_encode_type:\tsimple\n",
            "\t  memory:\tNone\n",
            "\t  goal_conditioning_type:\thyper\n",
            "\t  deterministic:\tFalse\n",
            "\treward_signals:\t\n",
            "\t  extrinsic:\t\n",
            "\t    gamma:\t0.99\n",
            "\t    strength:\t1.0\n",
            "\t    network_settings:\t\n",
            "\t      normalize:\tFalse\n",
            "\t      hidden_units:\t128\n",
            "\t      num_layers:\t2\n",
            "\t      vis_encode_type:\tsimple\n",
            "\t      memory:\tNone\n",
            "\t      goal_conditioning_type:\thyper\n",
            "\t      deterministic:\tFalse\n",
            "\tinit_path:\tNone\n",
            "\tkeep_checkpoints:\t10\n",
            "\teven_checkpoints:\tFalse\n",
            "\tmax_steps:\t200000\n",
            "\ttime_horizon:\t64\n",
            "\tsummary_freq:\t10000\n",
            "\tthreaded:\tTrue\n",
            "\tself_play:\tNone\n",
            "\tbehavioral_cloning:\tNone\n",
            "/usr/local/lib/python3.10/dist-packages/transformers/utils/generic.py:441: UserWarning: torch.utils._pytree._register_pytree_node is deprecated. Please use torch.utils._pytree.register_pytree_node instead.\n",
            "  _torch_pytree._register_pytree_node(\n",
            "[INFO] SnowballTarget. Step: 10000. Time Elapsed: 30.231 s. Mean Reward: 2.659. Std of Reward: 1.731. Training.\n",
            "[INFO] SnowballTarget. Step: 20000. Time Elapsed: 56.186 s. Mean Reward: 6.164. Std of Reward: 2.326. Training.\n",
            "[INFO] SnowballTarget. Step: 30000. Time Elapsed: 79.545 s. Mean Reward: 9.409. Std of Reward: 2.640. Training.\n",
            "[INFO] SnowballTarget. Step: 40000. Time Elapsed: 105.689 s. Mean Reward: 11.545. Std of Reward: 2.627. Training.\n",
            "[INFO] SnowballTarget. Step: 50000. Time Elapsed: 130.601 s. Mean Reward: 14.023. Std of Reward: 2.800. Training.\n",
            "[INFO] Exported results/SnowballTarget1/SnowballTarget/SnowballTarget-49936.onnx\n",
            "[INFO] SnowballTarget. Step: 60000. Time Elapsed: 155.527 s. Mean Reward: 16.473. Std of Reward: 2.231. Training.\n",
            "[INFO] SnowballTarget. Step: 70000. Time Elapsed: 180.244 s. Mean Reward: 18.818. Std of Reward: 2.543. Training.\n",
            "[INFO] SnowballTarget. Step: 80000. Time Elapsed: 206.095 s. Mean Reward: 19.818. Std of Reward: 2.905. Training.\n",
            "[INFO] SnowballTarget. Step: 90000. Time Elapsed: 230.239 s. Mean Reward: 21.477. Std of Reward: 2.824. Training.\n",
            "[INFO] SnowballTarget. Step: 100000. Time Elapsed: 256.129 s. Mean Reward: 22.764. Std of Reward: 2.157. Training.\n",
            "[INFO] Exported results/SnowballTarget1/SnowballTarget/SnowballTarget-99960.onnx\n",
            "[INFO] SnowballTarget. Step: 110000. Time Elapsed: 282.241 s. Mean Reward: 23.111. Std of Reward: 2.315. Training.\n",
            "[INFO] SnowballTarget. Step: 120000. Time Elapsed: 305.353 s. Mean Reward: 23.600. Std of Reward: 3.248. Training.\n",
            "[INFO] SnowballTarget. Step: 130000. Time Elapsed: 331.279 s. Mean Reward: 24.527. Std of Reward: 1.925. Training.\n",
            "[INFO] SnowballTarget. Step: 140000. Time Elapsed: 355.310 s. Mean Reward: 24.045. Std of Reward: 2.458. Training.\n",
            "[INFO] SnowballTarget. Step: 150000. Time Elapsed: 380.964 s. Mean Reward: 25.018. Std of Reward: 2.178. Training.\n",
            "[INFO] Exported results/SnowballTarget1/SnowballTarget/SnowballTarget-149984.onnx\n",
            "[INFO] SnowballTarget. Step: 160000. Time Elapsed: 405.263 s. Mean Reward: 25.364. Std of Reward: 2.035. Training.\n",
            "[INFO] SnowballTarget. Step: 170000. Time Elapsed: 429.410 s. Mean Reward: 25.764. Std of Reward: 1.868. Training.\n",
            "[INFO] SnowballTarget. Step: 180000. Time Elapsed: 453.855 s. Mean Reward: 25.182. Std of Reward: 2.289. Training.\n",
            "[INFO] SnowballTarget. Step: 190000. Time Elapsed: 479.413 s. Mean Reward: 25.727. Std of Reward: 2.268. Training.\n",
            "[INFO] SnowballTarget. Step: 200000. Time Elapsed: 503.127 s. Mean Reward: 25.682. Std of Reward: 1.868. Training.\n",
            "[INFO] Exported results/SnowballTarget1/SnowballTarget/SnowballTarget-199984.onnx\n",
            "[INFO] Exported results/SnowballTarget1/SnowballTarget/SnowballTarget-200112.onnx\n",
            "[INFO] Copied results/SnowballTarget1/SnowballTarget/SnowballTarget-200112.onnx to results/SnowballTarget1/SnowballTarget.onnx.\n"
          ]
        }
      ],
      "source": [
        "!mlagents-learn ./config/ppo/SnowballTarget.yaml --env=./training-envs-executables/linux/SnowballTarget/SnowballTarget --run-id=\"SnowballTarget1\" --no-graphics"
      ]
    },
    {
      "cell_type": "markdown",
      "metadata": {
        "id": "5Vue94AzPy1t"
      },
      "source": [
        "### Push the agent to the 🤗 Hub\n",
        "\n",
        "- Now that we trained our agent, we’re **ready to push it to the Hub to be able to visualize it playing on your browser🔥.**"
      ]
    },
    {
      "cell_type": "markdown",
      "source": [
        "To be able to share your model with the community there are three more steps to follow:\n",
        "\n",
        "1️⃣ (If it's not already done) create an account to HF ➡ https://huggingface.co/join\n",
        "\n",
        "2️⃣ Sign in and then, you need to store your authentication token from the Hugging Face website.\n",
        "- Create a new token (https://huggingface.co/settings/tokens) **with write role**\n",
        "\n",
        "<img src=\"https://huggingface.co/datasets/huggingface-deep-rl-course/course-images/resolve/main/en/notebooks/create-token.jpg\" alt=\"Create HF Token\">\n",
        "\n",
        "- Copy the token\n",
        "- Run the cell below and paste the token"
      ],
      "metadata": {
        "id": "izT6FpgNzZ6R"
      }
    },
    {
      "cell_type": "code",
      "execution_count": 9,
      "metadata": {
        "id": "rKt2vsYoK56o",
        "colab": {
          "base_uri": "https://localhost:8080/",
          "height": 145,
          "referenced_widgets": [
            "9a892986fb7e43c89cb4617980ee016c",
            "ae0d28a650cd4d9a870617d10c5adbca",
            "af96923c8f9648bda840e19832837186",
            "fc7fcf6edfd149df87cee0fb5fc42a42",
            "15434359f07c4f5ab5af9cb801289e16",
            "bcfaae00782f4d339ab7a19da663f32a",
            "5f661d00824d40c7b1d87d89833ffb0f",
            "d1d6d4340ccc4b8ab2ca8e7ab2cdf992",
            "8102f90d901e43f0bf238fc9fdfe7405",
            "e3f8880b7ee04dc5ab83b6d5bb46581e",
            "a7b25537645d4510a5d6e468dfc0396f",
            "e5e0c147c6b34f9db0fe10650c5848b3",
            "39f3bce8c17f4c448c940eebe4ea42c4",
            "63aab1165acc4eafab869466d3c65792",
            "8a93f60bd08249bf9f7bd2c100398fce",
            "7691791dab5548289915e2551c0aedcd",
            "94a27c89dabb49029e72c3b073817690",
            "4b39b76b8a064b88b48d73926acfb925",
            "89ed12471d1446c6bc1edcfaa92db053",
            "c52161058d604fc7acf53082bfb90153",
            "942a32d970364f7ab364f8ceb53a1fda",
            "0536c563167940039ef34ffb21e76a4f",
            "720f6b90193943bd80a53d44acbabb7a",
            "557e0aee82ec483695accb98eba55844",
            "1403f4b605f44de0ae5e806b07140e75",
            "fb5c8ae4c7ac4cd7883ace402b2cbf6e",
            "62ee51b9874b4d06a5d3beec3ec9eacd",
            "bfb475332cea4d80a27403ffbe220037",
            "b630f39888f041b892b69bb47d57c5ca",
            "d356bdcc615d47d4aa6f1bde6c0e2556",
            "592d4d73010e428cb99cc388ba802051",
            "b6994a857ebe4deeae7c3148935c3696"
          ]
        },
        "outputId": "4f676699-1fb4-4751-e7a5-ea0cee0aeca4"
      },
      "outputs": [
        {
          "output_type": "display_data",
          "data": {
            "text/plain": [
              "VBox(children=(HTML(value='<center> <img\\nsrc=https://huggingface.co/front/assets/huggingface_logo-noborder.sv…"
            ],
            "application/vnd.jupyter.widget-view+json": {
              "version_major": 2,
              "version_minor": 0,
              "model_id": "9a892986fb7e43c89cb4617980ee016c"
            }
          },
          "metadata": {}
        }
      ],
      "source": [
        "from huggingface_hub import notebook_login\n",
        "notebook_login()"
      ]
    },
    {
      "cell_type": "markdown",
      "source": [
        "If you don't want to use a Google Colab or a Jupyter Notebook, you need to use this command instead: `huggingface-cli login`"
      ],
      "metadata": {
        "id": "aSU9qD9_6dem"
      }
    },
    {
      "cell_type": "markdown",
      "source": [
        "Then, we simply need to run `mlagents-push-to-hf`.\n",
        "\n",
        "And we define 4 parameters:\n",
        "\n",
        "1. `--run-id`: the name of the training run id.\n",
        "2. `--local-dir`: where the agent was saved, it’s results/<run_id name>, so in my case results/First Training.\n",
        "3. `--repo-id`: the name of the Hugging Face repo you want to create or update. It’s always <your huggingface username>/<the repo name>\n",
        "If the repo does not exist **it will be created automatically**\n",
        "4. `--commit-message`: since HF repos are git repository you need to define a commit message.\n",
        "\n",
        "<img src=\"https://huggingface.co/datasets/huggingface-deep-rl-course/course-images/resolve/main/en/unit7/mlagentspushtohub.png\" alt=\"Push to Hub\"/>\n",
        "\n",
        "For instance:\n",
        "\n",
        "`!mlagents-push-to-hf  --run-id=\"SnowballTarget1\" --local-dir=\"./results/SnowballTarget1\" --repo-id=\"ThomasSimonini/ppo-SnowballTarget\"  --commit-message=\"First Push\"`"
      ],
      "metadata": {
        "id": "KK4fPfnczunT"
      }
    },
    {
      "cell_type": "code",
      "source": [
        "!mlagents-push-to-hf --run-id=\"SnowballTarget1\" --local-dir=\"./results/SnowballTarget1\" --repo-id=\"vadhri/snowball-target\" --commit-message=\"First Push\""
      ],
      "metadata": {
        "id": "kAFzVB7OYj_H",
        "colab": {
          "base_uri": "https://localhost:8080/"
        },
        "outputId": "90baed4e-281d-438e-fa6c-d9c5f230db18"
      },
      "execution_count": 15,
      "outputs": [
        {
          "output_type": "stream",
          "name": "stdout",
          "text": [
            "[INFO] This function will create a model card and upload your SnowballTarget1 into HuggingFace Hub. This is a work in progress: If you encounter a bug, please send open an issue\n",
            "[INFO] Pushing repo SnowballTarget1 to the Hugging Face Hub\n",
            "Upload 13 LFS files:   0% 0/13 [00:00<?, ?it/s]\n",
            "SnowballTarget.onnx:   0% 0.00/651k [00:00<?, ?B/s]\u001b[A\n",
            "\n",
            "\n",
            "\n",
            "SnowballTarget-149984.pt:   0% 0.00/3.85M [00:00<?, ?B/s]\u001b[A\u001b[A\u001b[A\u001b[A\n",
            "\n",
            "SnowballTarget-149984.onnx:   0% 0.00/651k [00:00<?, ?B/s]\u001b[A\u001b[A\n",
            "\n",
            "\n",
            "SnowballTarget-199984.pt:   0% 0.00/3.85M [00:00<?, ?B/s]\u001b[A\u001b[A\u001b[A\n",
            "\n",
            "\n",
            "\n",
            "\n",
            "SnowballTarget.onnx:   0% 0.00/651k [00:00<?, ?B/s]\u001b[A\u001b[A\u001b[A\u001b[A\u001b[A\n",
            "\n",
            "\n",
            "\n",
            "\n",
            "SnowballTarget.onnx:   3% 16.4k/651k [00:00<00:06, 103kB/s]\u001b[A\u001b[A\u001b[A\u001b[A\u001b[A\n",
            "\n",
            "\n",
            "\n",
            "SnowballTarget-149984.pt:   0% 16.4k/3.85M [00:00<00:50, 76.2kB/s]\u001b[A\u001b[A\u001b[A\u001b[A\n",
            "SnowballTarget.onnx:   3% 16.4k/651k [00:00<00:08, 73.0kB/s]\u001b[A\n",
            "\n",
            "\n",
            "SnowballTarget-199984.pt:   0% 16.4k/3.85M [00:00<00:52, 72.9kB/s]\u001b[A\u001b[A\u001b[A\n",
            "\n",
            "SnowballTarget-149984.onnx:   3% 16.4k/651k [00:00<00:09, 70.0kB/s]\u001b[A\u001b[A\n",
            "\n",
            "\n",
            "SnowballTarget-149984.pt: 100% 3.85M/3.85M [00:00<00:00, 5.55MB/s]\n",
            "SnowballTarget.onnx: 100% 651k/651k [00:00<00:00, 890kB/s]  \n",
            "\n",
            "SnowballTarget-199984.pt: 100% 3.85M/3.85M [00:01<00:00, 3.40MB/s]\n",
            "\n",
            "\n",
            "\n",
            "SnowballTarget-149984.onnx: 100% 651k/651k [00:01<00:00, 477kB/s]  \n",
            "\n",
            "\n",
            "SnowballTarget-200112.pt: 100% 3.85M/3.85M [00:00<00:00, 7.78MB/s]\n",
            "SnowballTarget.onnx: 100% 651k/651k [00:01<00:00, 416kB/s] \n",
            "Upload 13 LFS files:   8% 1/13 [00:01<00:21,  1.76s/it]\n",
            "Upload 13 LFS files:  23% 3/13 [00:01<00:05,  1.92it/s]\n",
            "\n",
            "\n",
            "\n",
            "SnowballTarget-99960.pt:   0% 0.00/3.85M [00:00<?, ?B/s]\u001b[A\u001b[A\u001b[A\u001b[A\n",
            "\n",
            "\n",
            "\n",
            "\n",
            "SnowballTarget-49936.pt: 100% 3.85M/3.85M [00:00<00:00, 8.78MB/s]\n",
            "\n",
            "\n",
            "\n",
            "\n",
            "SnowballTarget-99960.pt:  47% 1.80M/3.85M [00:00<00:00, 10.8MB/s]\u001b[A\u001b[A\u001b[A\u001b[A\n",
            "\n",
            "SnowballTarget-99960.onnx: 100% 651k/651k [00:00<00:00, 910kB/s]\n",
            "SnowballTarget-49936.onnx: 100% 651k/651k [00:01<00:00, 455kB/s]\n",
            "checkpoint.pt: 100% 3.85M/3.85M [00:00<00:00, 5.59MB/s]\n",
            "events.out.tfevents.1708399442.c6b763e3691d.3163.0: 100% 23.5k/23.5k [00:00<00:00, 65.6kB/s]\n",
            "\n",
            "SnowballTarget-99960.pt: 100% 3.85M/3.85M [00:01<00:00, 3.73MB/s]\n",
            "SnowballTarget.onnx: 100% 651k/651k [00:00<00:00, 998kB/s]\n",
            "Upload 13 LFS files: 100% 13/13 [00:03<00:00,  3.56it/s]\n",
            "[INFO] Your model is pushed to the hub. You can view your model here: https://huggingface.co/vadhri/snowball-target\n"
          ]
        }
      ]
    },
    {
      "cell_type": "code",
      "execution_count": 13,
      "metadata": {
        "id": "dGEFAIboLVc6",
        "colab": {
          "base_uri": "https://localhost:8080/"
        },
        "outputId": "95f2e5fe-bea0-4af9-9b4d-c0a2ea86120d"
      },
      "outputs": [
        {
          "output_type": "stream",
          "name": "stdout",
          "text": [
            "[INFO] This function will create a model card and upload your  into HuggingFace Hub. This is a work in progress: If you encounter a bug, please send open an issue\n",
            "Traceback (most recent call last):\n",
            "  File \"/usr/local/bin/mlagents-push-to-hf\", line 33, in <module>\n",
            "    sys.exit(load_entry_point('mlagents', 'console_scripts', 'mlagents-push-to-hf')())\n",
            "  File \"/content/ml-agents/ml-agents/mlagents/utils/push_to_hf.py\", line 205, in main\n",
            "    package_to_hub(\n",
            "  File \"/content/ml-agents/ml-agents/mlagents/utils/push_to_hf.py\", line 146, in package_to_hub\n",
            "    _, repo_name = repo_id.split(\"/\")\n",
            "AttributeError: 'NoneType' object has no attribute 'split'\n"
          ]
        }
      ],
      "source": [
        "!mlagents-push-to-hf --run-id=\"SnowballTarget1\" --local-dir=\"./results/SnowballTarget1\" --repo-id=\"vadhri/snowball-target\" --commit-message=\"First Push\""
      ]
    },
    {
      "cell_type": "markdown",
      "source": [
        "Else, if everything worked you should have this at the end of the process(but with a different url 😆) :\n",
        "\n",
        "\n",
        "\n",
        "```\n",
        "Your model is pushed to the hub. You can view your model here: https://huggingface.co/ThomasSimonini/ppo-SnowballTarget\n",
        "```\n",
        "\n",
        "It’s the link to your model, it contains a model card that explains how to use it, your Tensorboard and your config file. **What’s awesome is that it’s a git repository, that means you can have different commits, update your repository with a new push etc.**"
      ],
      "metadata": {
        "id": "yborB0850FTM"
      }
    },
    {
      "cell_type": "markdown",
      "source": [
        "But now comes the best: **being able to visualize your agent online 👀.**"
      ],
      "metadata": {
        "id": "5Uaon2cg0NrL"
      }
    },
    {
      "cell_type": "markdown",
      "source": [
        "### Watch your agent playing 👀\n",
        "\n",
        "For this step it’s simple:\n",
        "\n",
        "1. Remember your repo-id\n",
        "\n",
        "2. Go here: https://huggingface.co/spaces/ThomasSimonini/ML-Agents-SnowballTarget\n",
        "\n",
        "3. Launch the game and put it in full screen by clicking on the bottom right button\n",
        "\n",
        "<img src=\"https://huggingface.co/datasets/huggingface-deep-rl-course/course-images/resolve/main/en/unit7/snowballtarget_load.png\" alt=\"Snowballtarget load\"/>"
      ],
      "metadata": {
        "id": "VMc4oOsE0QiZ"
      }
    },
    {
      "cell_type": "markdown",
      "source": [
        "1. In step 1, choose your model repository which is the model id (in my case ThomasSimonini/ppo-SnowballTarget).\n",
        "\n",
        "2. In step 2, **choose what model you want to replay**:\n",
        "  - I have multiple one, since we saved a model every 500000 timesteps.\n",
        "  - But if I want the more recent I choose `SnowballTarget.onnx`\n",
        "\n",
        "👉 What’s nice **is to try with different models step to see the improvement of the agent.**\n",
        "\n",
        "And don't hesitate to share the best score your agent gets on discord in #rl-i-made-this channel 🔥\n",
        "\n",
        "Let's now try a harder environment called Pyramids..."
      ],
      "metadata": {
        "id": "Djs8c5rR0Z8a"
      }
    },
    {
      "cell_type": "markdown",
      "source": [
        "## Pyramids 🏆\n",
        "\n",
        "### Download and move the environment zip file in `./training-envs-executables/linux/`\n",
        "- Our environment executable is in a zip file.\n",
        "- We need to download it and place it to `./training-envs-executables/linux/`\n",
        "- We use a linux executable because we use colab, and colab machines OS is Ubuntu (linux)"
      ],
      "metadata": {
        "id": "rVMwRi4y_tmx"
      }
    },
    {
      "cell_type": "markdown",
      "metadata": {
        "id": "NyqYYkLyAVMK"
      },
      "source": [
        "Download the file Pyramids.zip from https://drive.google.com/uc?export=download&id=1UiFNdKlsH0NTu32xV-giYUEVKV4-vc7H using `wget`. Check out the full solution to download large files from GDrive [here](https://bcrf.biochem.wisc.edu/2021/02/05/download-google-drive-files-using-wget/)"
      ]
    },
    {
      "cell_type": "code",
      "execution_count": 16,
      "metadata": {
        "id": "AxojCsSVAVMP",
        "colab": {
          "base_uri": "https://localhost:8080/"
        },
        "outputId": "54b36c9a-69ed-4157-a74c-19f543fe3290"
      },
      "outputs": [
        {
          "output_type": "stream",
          "name": "stdout",
          "text": [
            "--2024-02-20 03:40:43--  https://docs.google.com/uc?export=download&confirm=&id=1UiFNdKlsH0NTu32xV-giYUEVKV4-vc7H\n",
            "Resolving docs.google.com (docs.google.com)... 172.217.194.100, 172.217.194.113, 172.217.194.138, ...\n",
            "Connecting to docs.google.com (docs.google.com)|172.217.194.100|:443... connected.\n",
            "HTTP request sent, awaiting response... 303 See Other\n",
            "Location: https://drive.usercontent.google.com/download?id=1UiFNdKlsH0NTu32xV-giYUEVKV4-vc7H&export=download [following]\n",
            "--2024-02-20 03:40:43--  https://drive.usercontent.google.com/download?id=1UiFNdKlsH0NTu32xV-giYUEVKV4-vc7H&export=download\n",
            "Resolving drive.usercontent.google.com (drive.usercontent.google.com)... 74.125.130.132, 2404:6800:4003:c01::84\n",
            "Connecting to drive.usercontent.google.com (drive.usercontent.google.com)|74.125.130.132|:443... connected.\n",
            "HTTP request sent, awaiting response... 200 OK\n",
            "Length: 2423 (2.4K) [text/html]\n",
            "Saving to: ‘./training-envs-executables/linux/Pyramids.zip’\n",
            "\n",
            "./training-envs-exe 100%[===================>]   2.37K  --.-KB/s    in 0s      \n",
            "\n",
            "2024-02-20 03:40:43 (25.7 MB/s) - ‘./training-envs-executables/linux/Pyramids.zip’ saved [2423/2423]\n",
            "\n"
          ]
        }
      ],
      "source": [
        "!wget --load-cookies /tmp/cookies.txt \"https://docs.google.com/uc?export=download&confirm=$(wget --quiet --save-cookies /tmp/cookies.txt --keep-session-cookies --no-check-certificate 'https://docs.google.com/uc?export=download&id=1UiFNdKlsH0NTu32xV-giYUEVKV4-vc7H' -O- | sed -rn 's/.*confirm=([0-9A-Za-z_]+).*/\\1\\n/p')&id=1UiFNdKlsH0NTu32xV-giYUEVKV4-vc7H\" -O ./training-envs-executables/linux/Pyramids.zip && rm -rf /tmp/cookies.txt"
      ]
    },
    {
      "cell_type": "markdown",
      "metadata": {
        "id": "bfs6CTJ1AVMP"
      },
      "source": [
        "**OR** Download directly to local machine and then drag and drop the file from local machine to `./training-envs-executables/linux`"
      ]
    },
    {
      "cell_type": "markdown",
      "metadata": {
        "id": "H7JmgOwcSSmF"
      },
      "source": [
        "Wait for the upload to finish and then run the command below.\n",
        "\n",
        "![image.png](data:image/png;base64,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)"
      ]
    },
    {
      "cell_type": "markdown",
      "source": [
        "Unzip it"
      ],
      "metadata": {
        "id": "iWUUcs0_794U"
      }
    },
    {
      "cell_type": "code",
      "execution_count": 20,
      "metadata": {
        "id": "i2E3K4V2AVMP"
      },
      "outputs": [],
      "source": [
        "%%capture\n",
        "!unzip -d ./training-envs-executables/linux/ ./training-envs-executables/linux/Pyramids.zip"
      ]
    },
    {
      "cell_type": "markdown",
      "metadata": {
        "id": "KmKYBgHTAVMP"
      },
      "source": [
        "Make sure your file is accessible"
      ]
    },
    {
      "cell_type": "code",
      "execution_count": 21,
      "metadata": {
        "id": "Im-nwvLPAVMP"
      },
      "outputs": [],
      "source": [
        "!chmod -R 755 ./training-envs-executables/linux/Pyramids/Pyramids"
      ]
    },
    {
      "cell_type": "markdown",
      "source": [
        "###  Modify the PyramidsRND config file\n",
        "- Contrary to the first environment which was a custom one, **Pyramids was made by the Unity team**.\n",
        "- So the PyramidsRND config file already exists and is in ./content/ml-agents/config/ppo/PyramidsRND.yaml\n",
        "- You might asked why \"RND\" in PyramidsRND. RND stands for *random network distillation* it's a way to generate curiosity rewards. If you want to know more on that we wrote an article explaning this technique: https://medium.com/data-from-the-trenches/curiosity-driven-learning-through-random-network-distillation-488ffd8e5938\n",
        "\n",
        "For this training, we’ll modify one thing:\n",
        "- The total training steps hyperparameter is too high since we can hit the benchmark (mean reward = 1.75) in only 1M training steps.\n",
        "👉 To do that, we go to config/ppo/PyramidsRND.yaml,**and modify these to max_steps to 1000000.**\n",
        "\n",
        "<img src=\"https://huggingface.co/datasets/huggingface-deep-rl-course/course-images/resolve/main/en/unit7/pyramids-config.png\" alt=\"Pyramids config\"/>"
      ],
      "metadata": {
        "id": "fqceIATXAgih"
      }
    },
    {
      "cell_type": "markdown",
      "source": [
        "As an experimentation, you should also try to modify some other hyperparameters, Unity provides a very [good documentation explaining each of them here](https://github.com/Unity-Technologies/ml-agents/blob/main/docs/Training-Configuration-File.md).\n",
        "\n",
        "We’re now ready to train our agent 🔥."
      ],
      "metadata": {
        "id": "RI-5aPL7BWVk"
      }
    },
    {
      "cell_type": "markdown",
      "source": [
        "### Train the agent\n",
        "\n",
        "The training will take 30 to 45min depending on your machine, go take a ☕️you deserve it 🤗."
      ],
      "metadata": {
        "id": "s5hr1rvIBdZH"
      }
    },
    {
      "cell_type": "code",
      "execution_count": 22,
      "metadata": {
        "id": "fXi4-IaHBhqD",
        "colab": {
          "base_uri": "https://localhost:8080/"
        },
        "outputId": "adcc3398-a51c-4b00-b0a6-a8f333f1bf22"
      },
      "outputs": [
        {
          "output_type": "stream",
          "name": "stdout",
          "text": [
            "/usr/local/lib/python3.10/dist-packages/torch/__init__.py:690: UserWarning: torch.set_default_tensor_type() is deprecated as of PyTorch 2.1, please use torch.set_default_dtype() and torch.set_default_device() as alternatives. (Triggered internally at ../torch/csrc/tensor/python_tensor.cpp:451.)\n",
            "  _C._set_default_tensor_type(t)\n",
            "\n",
            "            ┐  ╖\n",
            "        ╓╖╬│╡  ││╬╖╖\n",
            "    ╓╖╬│││││┘  ╬│││││╬╖\n",
            " ╖╬│││││╬╜        ╙╬│││││╖╖                               ╗╗╗\n",
            " ╬╬╬╬╖││╦╖        ╖╬││╗╣╣╣╬      ╟╣╣╬    ╟╣╣╣             ╜╜╜  ╟╣╣\n",
            " ╬╬╬╬╬╬╬╬╖│╬╖╖╓╬╪│╓╣╣╣╣╣╣╣╬      ╟╣╣╬    ╟╣╣╣ ╒╣╣╖╗╣╣╣╗   ╣╣╣ ╣╣╣╣╣╣ ╟╣╣╖   ╣╣╣\n",
            " ╬╬╬╬┐  ╙╬╬╬╬│╓╣╣╣╝╜  ╫╣╣╣╬      ╟╣╣╬    ╟╣╣╣ ╟╣╣╣╙ ╙╣╣╣  ╣╣╣ ╙╟╣╣╜╙  ╫╣╣  ╟╣╣\n",
            " ╬╬╬╬┐     ╙╬╬╣╣      ╫╣╣╣╬      ╟╣╣╬    ╟╣╣╣ ╟╣╣╬   ╣╣╣  ╣╣╣  ╟╣╣     ╣╣╣┌╣╣╜\n",
            " ╬╬╬╜       ╬╬╣╣      ╙╝╣╣╬      ╙╣╣╣╗╖╓╗╣╣╣╜ ╟╣╣╬   ╣╣╣  ╣╣╣  ╟╣╣╦╓    ╣╣╣╣╣\n",
            " ╙   ╓╦╖    ╬╬╣╣   ╓╗╗╖            ╙╝╣╣╣╣╝╜   ╘╝╝╜   ╝╝╝  ╝╝╝   ╙╣╣╣    ╟╣╣╣\n",
            "   ╩╬╬╬╬╬╬╦╦╬╬╣╣╗╣╣╣╣╣╣╣╝                                             ╫╣╣╣╣\n",
            "      ╙╬╬╬╬╬╬╬╣╣╣╣╣╣╝╜\n",
            "          ╙╬╬╬╣╣╣╜\n",
            "             ╙\n",
            "        \n",
            " Version information:\n",
            "  ml-agents: 1.1.0.dev0,\n",
            "  ml-agents-envs: 1.1.0.dev0,\n",
            "  Communicator API: 1.5.0,\n",
            "  PyTorch: 2.2.0+cu121\n",
            "[INFO] Connected to Unity environment with package version 2.2.1-exp.1 and communication version 1.5.0\n",
            "[INFO] Connected new brain: Pyramids?team=0\n",
            "[INFO] Hyperparameters for behavior name Pyramids: \n",
            "\ttrainer_type:\tppo\n",
            "\thyperparameters:\t\n",
            "\t  batch_size:\t128\n",
            "\t  buffer_size:\t2048\n",
            "\t  learning_rate:\t0.0003\n",
            "\t  beta:\t0.01\n",
            "\t  epsilon:\t0.2\n",
            "\t  lambd:\t0.95\n",
            "\t  num_epoch:\t3\n",
            "\t  shared_critic:\tFalse\n",
            "\t  learning_rate_schedule:\tlinear\n",
            "\t  beta_schedule:\tlinear\n",
            "\t  epsilon_schedule:\tlinear\n",
            "\tcheckpoint_interval:\t500000\n",
            "\tnetwork_settings:\t\n",
            "\t  normalize:\tFalse\n",
            "\t  hidden_units:\t512\n",
            "\t  num_layers:\t2\n",
            "\t  vis_encode_type:\tsimple\n",
            "\t  memory:\tNone\n",
            "\t  goal_conditioning_type:\thyper\n",
            "\t  deterministic:\tFalse\n",
            "\treward_signals:\t\n",
            "\t  extrinsic:\t\n",
            "\t    gamma:\t0.99\n",
            "\t    strength:\t1.0\n",
            "\t    network_settings:\t\n",
            "\t      normalize:\tFalse\n",
            "\t      hidden_units:\t128\n",
            "\t      num_layers:\t2\n",
            "\t      vis_encode_type:\tsimple\n",
            "\t      memory:\tNone\n",
            "\t      goal_conditioning_type:\thyper\n",
            "\t      deterministic:\tFalse\n",
            "\t  rnd:\t\n",
            "\t    gamma:\t0.99\n",
            "\t    strength:\t0.01\n",
            "\t    network_settings:\t\n",
            "\t      normalize:\tFalse\n",
            "\t      hidden_units:\t64\n",
            "\t      num_layers:\t3\n",
            "\t      vis_encode_type:\tsimple\n",
            "\t      memory:\tNone\n",
            "\t      goal_conditioning_type:\thyper\n",
            "\t      deterministic:\tFalse\n",
            "\t    learning_rate:\t0.0001\n",
            "\t    encoding_size:\tNone\n",
            "\tinit_path:\tNone\n",
            "\tkeep_checkpoints:\t5\n",
            "\teven_checkpoints:\tFalse\n",
            "\tmax_steps:\t3000000\n",
            "\ttime_horizon:\t128\n",
            "\tsummary_freq:\t30000\n",
            "\tthreaded:\tFalse\n",
            "\tself_play:\tNone\n",
            "\tbehavioral_cloning:\tNone\n",
            "/usr/local/lib/python3.10/dist-packages/transformers/utils/generic.py:441: UserWarning: torch.utils._pytree._register_pytree_node is deprecated. Please use torch.utils._pytree.register_pytree_node instead.\n",
            "  _torch_pytree._register_pytree_node(\n",
            "[INFO] Pyramids. Step: 30000. Time Elapsed: 57.019 s. Mean Reward: -1.000. Std of Reward: 0.000. Training.\n",
            "[INFO] Pyramids. Step: 60000. Time Elapsed: 118.482 s. Mean Reward: -0.935. Std of Reward: 0.361. Training.\n",
            "[INFO] Pyramids. Step: 90000. Time Elapsed: 178.947 s. Mean Reward: -0.935. Std of Reward: 0.360. Training.\n",
            "[INFO] Pyramids. Step: 120000. Time Elapsed: 240.061 s. Mean Reward: -0.937. Std of Reward: 0.353. Training.\n",
            "[INFO] Pyramids. Step: 150000. Time Elapsed: 301.211 s. Mean Reward: -0.787. Std of Reward: 0.676. Training.\n",
            "[INFO] Pyramids. Step: 180000. Time Elapsed: 362.018 s. Mean Reward: -0.707. Std of Reward: 0.777. Training.\n",
            "[INFO] Pyramids. Step: 210000. Time Elapsed: 420.834 s. Mean Reward: -0.586. Std of Reward: 0.865. Training.\n",
            "[INFO] Pyramids. Step: 240000. Time Elapsed: 484.484 s. Mean Reward: -0.409. Std of Reward: 1.088. Training.\n",
            "[INFO] Pyramids. Step: 270000. Time Elapsed: 546.676 s. Mean Reward: -0.672. Std of Reward: 0.823. Training.\n",
            "[INFO] Pyramids. Step: 300000. Time Elapsed: 608.341 s. Mean Reward: -0.402. Std of Reward: 0.997. Training.\n",
            "[INFO] Pyramids. Step: 330000. Time Elapsed: 669.963 s. Mean Reward: -0.439. Std of Reward: 0.996. Training.\n",
            "[INFO] Pyramids. Step: 360000. Time Elapsed: 736.334 s. Mean Reward: -0.000. Std of Reward: 1.209. Training.\n",
            "[INFO] Pyramids. Step: 390000. Time Elapsed: 802.078 s. Mean Reward: -0.098. Std of Reward: 1.210. Training.\n",
            "[INFO] Pyramids. Step: 420000. Time Elapsed: 867.375 s. Mean Reward: -0.026. Std of Reward: 1.214. Training.\n",
            "[INFO] Pyramids. Step: 450000. Time Elapsed: 935.820 s. Mean Reward: 0.891. Std of Reward: 1.077. Training.\n",
            "[INFO] Pyramids. Step: 480000. Time Elapsed: 1002.312 s. Mean Reward: 1.262. Std of Reward: 0.707. Training.\n",
            "[INFO] Exported results/Pyramids Training/Pyramids/Pyramids-499970.onnx\n",
            "[INFO] Pyramids. Step: 510000. Time Elapsed: 1071.017 s. Mean Reward: 1.298. Std of Reward: 0.790. Training.\n",
            "[INFO] Pyramids. Step: 540000. Time Elapsed: 1139.002 s. Mean Reward: 1.306. Std of Reward: 0.837. Training.\n",
            "[INFO] Pyramids. Step: 570000. Time Elapsed: 1210.941 s. Mean Reward: 1.449. Std of Reward: 0.682. Training.\n",
            "[INFO] Pyramids. Step: 600000. Time Elapsed: 1283.186 s. Mean Reward: 1.637. Std of Reward: 0.335. Training.\n",
            "[INFO] Pyramids. Step: 630000. Time Elapsed: 1354.935 s. Mean Reward: 1.598. Std of Reward: 0.444. Training.\n",
            "[INFO] Pyramids. Step: 660000. Time Elapsed: 1430.279 s. Mean Reward: 1.632. Std of Reward: 0.337. Training.\n",
            "[INFO] Pyramids. Step: 690000. Time Elapsed: 1501.787 s. Mean Reward: 1.511. Std of Reward: 0.623. Training.\n",
            "[INFO] Pyramids. Step: 720000. Time Elapsed: 1575.780 s. Mean Reward: 1.543. Std of Reward: 0.594. Training.\n",
            "[INFO] Pyramids. Step: 750000. Time Elapsed: 1652.393 s. Mean Reward: 1.679. Std of Reward: 0.320. Training.\n",
            "[INFO] Pyramids. Step: 780000. Time Elapsed: 1729.878 s. Mean Reward: 1.668. Std of Reward: 0.323. Training.\n",
            "[INFO] Pyramids. Step: 810000. Time Elapsed: 1803.647 s. Mean Reward: 1.632. Std of Reward: 0.424. Training.\n",
            "[INFO] Pyramids. Step: 840000. Time Elapsed: 1882.428 s. Mean Reward: 1.696. Std of Reward: 0.307. Training.\n",
            "[INFO] Pyramids. Step: 870000. Time Elapsed: 1960.347 s. Mean Reward: 1.658. Std of Reward: 0.409. Training.\n",
            "[INFO] Pyramids. Step: 900000. Time Elapsed: 2034.647 s. Mean Reward: 1.600. Std of Reward: 0.520. Training.\n",
            "[INFO] Pyramids. Step: 930000. Time Elapsed: 2110.000 s. Mean Reward: 1.619. Std of Reward: 0.547. Training.\n",
            "[INFO] Pyramids. Step: 960000. Time Elapsed: 2183.818 s. Mean Reward: 1.678. Std of Reward: 0.321. Training.\n",
            "[INFO] Pyramids. Step: 990000. Time Elapsed: 2256.615 s. Mean Reward: 1.648. Std of Reward: 0.423. Training.\n",
            "[INFO] Exported results/Pyramids Training/Pyramids/Pyramids-999903.onnx\n",
            "[INFO] Pyramids. Step: 1020000. Time Elapsed: 2336.153 s. Mean Reward: 1.735. Std of Reward: 0.159. Training.\n",
            "[INFO] Pyramids. Step: 1050000. Time Elapsed: 2416.216 s. Mean Reward: 1.636. Std of Reward: 0.552. Training.\n",
            "[INFO] Pyramids. Step: 1080000. Time Elapsed: 2490.122 s. Mean Reward: 1.691. Std of Reward: 0.175. Training.\n",
            "[INFO] Pyramids. Step: 1110000. Time Elapsed: 2568.862 s. Mean Reward: 1.688. Std of Reward: 0.388. Training.\n",
            "[INFO] Pyramids. Step: 1140000. Time Elapsed: 2648.487 s. Mean Reward: 1.732. Std of Reward: 0.155. Training.\n",
            "[INFO] Pyramids. Step: 1170000. Time Elapsed: 2728.514 s. Mean Reward: 1.726. Std of Reward: 0.290. Training.\n",
            "[INFO] Pyramids. Step: 1200000. Time Elapsed: 2805.589 s. Mean Reward: 1.683. Std of Reward: 0.400. Training.\n",
            "[INFO] Pyramids. Step: 1230000. Time Elapsed: 2883.039 s. Mean Reward: 1.736. Std of Reward: 0.168. Training.\n",
            "[INFO] Pyramids. Step: 1260000. Time Elapsed: 2959.422 s. Mean Reward: 1.729. Std of Reward: 0.300. Training.\n",
            "[INFO] Pyramids. Step: 1290000. Time Elapsed: 3036.688 s. Mean Reward: 1.712. Std of Reward: 0.292. Training.\n",
            "[INFO] Pyramids. Step: 1320000. Time Elapsed: 3114.835 s. Mean Reward: 1.721. Std of Reward: 0.368. Training.\n",
            "[INFO] Pyramids. Step: 1350000. Time Elapsed: 3193.729 s. Mean Reward: 1.763. Std of Reward: 0.143. Training.\n",
            "[INFO] Pyramids. Step: 1380000. Time Elapsed: 3269.224 s. Mean Reward: 1.652. Std of Reward: 0.474. Training.\n",
            "[INFO] Pyramids. Step: 1410000. Time Elapsed: 3347.321 s. Mean Reward: 1.722. Std of Reward: 0.288. Training.\n",
            "[INFO] Pyramids. Step: 1440000. Time Elapsed: 3425.718 s. Mean Reward: 1.687. Std of Reward: 0.453. Training.\n",
            "[INFO] Pyramids. Step: 1470000. Time Elapsed: 3507.489 s. Mean Reward: 1.779. Std of Reward: 0.129. Training.\n",
            "[INFO] Pyramids. Step: 1500000. Time Elapsed: 3582.959 s. Mean Reward: 1.679. Std of Reward: 0.416. Training.\n",
            "[INFO] Exported results/Pyramids Training/Pyramids/Pyramids-1499923.onnx\n",
            "[INFO] Pyramids. Step: 1530000. Time Elapsed: 3662.576 s. Mean Reward: 1.712. Std of Reward: 0.382. Training.\n",
            "[INFO] Pyramids. Step: 1560000. Time Elapsed: 3745.569 s. Mean Reward: 1.777. Std of Reward: 0.134. Training.\n",
            "[INFO] Pyramids. Step: 1590000. Time Elapsed: 3828.046 s. Mean Reward: 1.753. Std of Reward: 0.154. Training.\n",
            "[INFO] Pyramids. Step: 1620000. Time Elapsed: 3909.036 s. Mean Reward: 1.687. Std of Reward: 0.400. Training.\n",
            "[INFO] Pyramids. Step: 1650000. Time Elapsed: 3985.799 s. Mean Reward: 1.711. Std of Reward: 0.308. Training.\n",
            "[INFO] Pyramids. Step: 1680000. Time Elapsed: 4070.221 s. Mean Reward: 1.720. Std of Reward: 0.377. Training.\n",
            "[INFO] Pyramids. Step: 1710000. Time Elapsed: 4156.704 s. Mean Reward: 1.696. Std of Reward: 0.456. Training.\n",
            "[INFO] Pyramids. Step: 1740000. Time Elapsed: 4245.976 s. Mean Reward: 1.742. Std of Reward: 0.279. Training.\n",
            "[INFO] Pyramids. Step: 1770000. Time Elapsed: 4332.551 s. Mean Reward: 1.715. Std of Reward: 0.391. Training.\n",
            "[INFO] Pyramids. Step: 1800000. Time Elapsed: 4409.185 s. Mean Reward: 1.712. Std of Reward: 0.391. Training.\n",
            "[INFO] Pyramids. Step: 1830000. Time Elapsed: 4489.428 s. Mean Reward: 1.661. Std of Reward: 0.564. Training.\n",
            "[INFO] Pyramids. Step: 1860000. Time Elapsed: 4562.711 s. Mean Reward: 1.643. Std of Reward: 0.591. Training.\n",
            "[INFO] Pyramids. Step: 1890000. Time Elapsed: 4641.930 s. Mean Reward: 1.717. Std of Reward: 0.386. Training.\n",
            "[INFO] Pyramids. Step: 1920000. Time Elapsed: 4721.178 s. Mean Reward: 1.737. Std of Reward: 0.284. Training.\n",
            "[INFO] Pyramids. Step: 1950000. Time Elapsed: 4796.551 s. Mean Reward: 1.693. Std of Reward: 0.406. Training.\n",
            "[INFO] Pyramids. Step: 1980000. Time Elapsed: 4874.813 s. Mean Reward: 1.641. Std of Reward: 0.624. Training.\n",
            "[INFO] Exported results/Pyramids Training/Pyramids/Pyramids-1999940.onnx\n",
            "[INFO] Pyramids. Step: 2010000. Time Elapsed: 4955.043 s. Mean Reward: 1.753. Std of Reward: 0.169. Training.\n",
            "[INFO] Pyramids. Step: 2040000. Time Elapsed: 5033.898 s. Mean Reward: 1.737. Std of Reward: 0.363. Training.\n",
            "[INFO] Pyramids. Step: 2070000. Time Elapsed: 5113.123 s. Mean Reward: 1.741. Std of Reward: 0.290. Training.\n",
            "[INFO] Pyramids. Step: 2100000. Time Elapsed: 5190.901 s. Mean Reward: 1.713. Std of Reward: 0.448. Training.\n",
            "[INFO] Pyramids. Step: 2130000. Time Elapsed: 5269.311 s. Mean Reward: 1.688. Std of Reward: 0.468. Training.\n",
            "[INFO] Pyramids. Step: 2160000. Time Elapsed: 5352.675 s. Mean Reward: 1.748. Std of Reward: 0.278. Training.\n",
            "[INFO] Pyramids. Step: 2190000. Time Elapsed: 5431.792 s. Mean Reward: 1.751. Std of Reward: 0.359. Training.\n",
            "[INFO] Pyramids. Step: 2220000. Time Elapsed: 5512.916 s. Mean Reward: 1.776. Std of Reward: 0.124. Training.\n",
            "[INFO] Pyramids. Step: 2250000. Time Elapsed: 5593.173 s. Mean Reward: 1.776. Std of Reward: 0.264. Training.\n",
            "[INFO] Pyramids. Step: 2280000. Time Elapsed: 5673.707 s. Mean Reward: 1.779. Std of Reward: 0.135. Training.\n",
            "[INFO] Pyramids. Step: 2310000. Time Elapsed: 5754.004 s. Mean Reward: 1.737. Std of Reward: 0.367. Training.\n",
            "[INFO] Pyramids. Step: 2340000. Time Elapsed: 5834.268 s. Mean Reward: 1.741. Std of Reward: 0.363. Training.\n",
            "[INFO] Pyramids. Step: 2370000. Time Elapsed: 5915.933 s. Mean Reward: 1.753. Std of Reward: 0.273. Training.\n",
            "[INFO] Pyramids. Step: 2400000. Time Elapsed: 5995.565 s. Mean Reward: 1.719. Std of Reward: 0.430. Training.\n",
            "[INFO] Pyramids. Step: 2430000. Time Elapsed: 6076.556 s. Mean Reward: 1.788. Std of Reward: 0.119. Training.\n",
            "[INFO] Pyramids. Step: 2460000. Time Elapsed: 6154.898 s. Mean Reward: 1.742. Std of Reward: 0.284. Training.\n",
            "[INFO] Pyramids. Step: 2490000. Time Elapsed: 6234.767 s. Mean Reward: 1.768. Std of Reward: 0.274. Training.\n",
            "[INFO] Exported results/Pyramids Training/Pyramids/Pyramids-2499901.onnx\n",
            "[INFO] Pyramids. Step: 2520000. Time Elapsed: 6319.058 s. Mean Reward: 1.773. Std of Reward: 0.265. Training.\n",
            "[INFO] Pyramids. Step: 2550000. Time Elapsed: 6399.770 s. Mean Reward: 1.760. Std of Reward: 0.349. Training.\n",
            "[INFO] Pyramids. Step: 2580000. Time Elapsed: 6489.987 s. Mean Reward: 1.754. Std of Reward: 0.347. Training.\n",
            "[INFO] Pyramids. Step: 2610000. Time Elapsed: 6582.103 s. Mean Reward: 1.788. Std of Reward: 0.250. Training.\n",
            "[INFO] Pyramids. Step: 2640000. Time Elapsed: 6673.575 s. Mean Reward: 1.796. Std of Reward: 0.134. Training.\n",
            "[INFO] Pyramids. Step: 2670000. Time Elapsed: 6760.353 s. Mean Reward: 1.800. Std of Reward: 0.107. Training.\n",
            "[INFO] Pyramids. Step: 2700000. Time Elapsed: 6841.294 s. Mean Reward: 1.764. Std of Reward: 0.279. Training.\n",
            "[INFO] Pyramids. Step: 2730000. Time Elapsed: 6926.505 s. Mean Reward: 1.761. Std of Reward: 0.273. Training.\n",
            "[INFO] Pyramids. Step: 2760000. Time Elapsed: 7019.357 s. Mean Reward: 1.752. Std of Reward: 0.407. Training.\n",
            "[INFO] Pyramids. Step: 2790000. Time Elapsed: 7108.247 s. Mean Reward: 1.761. Std of Reward: 0.278. Training.\n",
            "[INFO] Pyramids. Step: 2820000. Time Elapsed: 7199.231 s. Mean Reward: 1.735. Std of Reward: 0.364. Training.\n",
            "[INFO] Pyramids. Step: 2850000. Time Elapsed: 7279.981 s. Mean Reward: 1.759. Std of Reward: 0.355. Training.\n",
            "[INFO] Pyramids. Step: 2880000. Time Elapsed: 7359.523 s. Mean Reward: 1.792. Std of Reward: 0.107. Training.\n",
            "[INFO] Pyramids. Step: 2910000. Time Elapsed: 7437.360 s. Mean Reward: 1.700. Std of Reward: 0.501. Training.\n",
            "[INFO] Pyramids. Step: 2940000. Time Elapsed: 7518.513 s. Mean Reward: 1.772. Std of Reward: 0.341. Training.\n",
            "[INFO] Pyramids. Step: 2970000. Time Elapsed: 7599.113 s. Mean Reward: 1.776. Std of Reward: 0.260. Training.\n",
            "[INFO] Pyramids. Step: 3000000. Time Elapsed: 7675.932 s. Mean Reward: 1.755. Std of Reward: 0.275. Training.\n",
            "[INFO] Exported results/Pyramids Training/Pyramids/Pyramids-2999977.onnx\n",
            "[INFO] Exported results/Pyramids Training/Pyramids/Pyramids-3000105.onnx\n",
            "[INFO] Copied results/Pyramids Training/Pyramids/Pyramids-3000105.onnx to results/Pyramids Training/Pyramids.onnx.\n"
          ]
        }
      ],
      "source": [
        "!mlagents-learn ./config/ppo/PyramidsRND.yaml --env=./training-envs-executables/linux/Pyramids/Pyramids --run-id=\"Pyramids Training\" --no-graphics"
      ]
    },
    {
      "cell_type": "markdown",
      "metadata": {
        "id": "txonKxuSByut"
      },
      "source": [
        "### Push the agent to the 🤗 Hub\n",
        "\n",
        "- Now that we trained our agent, we’re **ready to push it to the Hub to be able to visualize it playing on your browser🔥.**"
      ]
    },
    {
      "cell_type": "code",
      "source": [
        "!mlagents-push-to-hf  --run-id=\"Pyramids Training\" --local-dir=\"./results/Pyramids Training/\" --repo-id=\"vadhri/pyramid-training\" --commit-message=\"First Push\""
      ],
      "metadata": {
        "id": "yiEQbv7rB4mU",
        "colab": {
          "base_uri": "https://localhost:8080/"
        },
        "outputId": "2d0a19b8-1dd0-433d-d04e-032d5d779026"
      },
      "execution_count": 24,
      "outputs": [
        {
          "output_type": "stream",
          "name": "stdout",
          "text": [
            "[INFO] This function will create a model card and upload your Pyramids Training into HuggingFace Hub. This is a work in progress: If you encounter a bug, please send open an issue\n",
            "[INFO] Pushing repo Pyramids Training to the Hugging Face Hub\n",
            "Pyramids-2499901.onnx:   0% 0.00/1.42M [00:00<?, ?B/s]\n",
            "Upload 13 LFS files:   0% 0/13 [00:00<?, ?it/s]\u001b[A\n",
            "\n",
            "Pyramids-1499923.pt:   0% 0.00/8.66M [00:00<?, ?B/s]\u001b[A\u001b[A\n",
            "\n",
            "\n",
            "Pyramids-1499923.onnx:   0% 0.00/1.42M [00:00<?, ?B/s]\u001b[A\u001b[A\u001b[A\n",
            "\n",
            "\n",
            "\n",
            "\n",
            "Pyramids-1999940.pt:   0% 0.00/8.66M [00:00<?, ?B/s]\u001b[A\u001b[A\u001b[A\u001b[A\u001b[A\n",
            "\n",
            "\n",
            "\n",
            "Pyramids-1999940.onnx:   0% 0.00/1.42M [00:00<?, ?B/s]\u001b[A\u001b[A\u001b[A\u001b[A\n",
            "\n",
            "\n",
            "Pyramids-2499901.onnx:   1% 16.4k/1.42M [00:00<00:17, 79.7kB/s]\n",
            "\n",
            "\n",
            "\n",
            "\n",
            "Pyramids-1999940.pt:   0% 16.4k/8.66M [00:00<01:46, 81.3kB/s]\u001b[A\u001b[A\u001b[A\u001b[A\u001b[A\n",
            "\n",
            "\n",
            "\n",
            "Pyramids-1999940.onnx:   1% 16.4k/1.42M [00:00<00:23, 59.7kB/s]\u001b[A\u001b[A\u001b[A\u001b[A\n",
            "\n",
            "Pyramids-1499923.pt:   0% 16.4k/8.66M [00:00<02:28, 58.3kB/s]\u001b[A\u001b[A\n",
            "\n",
            "\n",
            "\n",
            "\n",
            "Pyramids-1999940.pt:  19% 1.64M/8.66M [00:00<00:01, 5.56MB/s]\u001b[A\u001b[A\u001b[A\u001b[A\u001b[A\n",
            "\n",
            "\n",
            "\n",
            "Pyramids-1999940.onnx:  24% 344k/1.42M [00:00<00:00, 1.12MB/s] \u001b[A\u001b[A\u001b[A\u001b[A\n",
            "\n",
            "Pyramids-1499923.pt:   4% 344k/8.66M [00:00<00:07, 1.10MB/s] \u001b[A\u001b[A\n",
            "\n",
            "\n",
            "\n",
            "\n",
            "Pyramids-1999940.pt:  26% 2.28M/8.66M [00:00<00:01, 5.35MB/s]\u001b[A\u001b[A\u001b[A\u001b[A\u001b[A\n",
            "\n",
            "Pyramids-1499923.pt:  31% 2.67M/8.66M [00:00<00:00, 7.84MB/s]\u001b[A\u001b[A\n",
            "\n",
            "Pyramids-2499901.onnx: 100% 1.42M/1.42M [00:01<00:00, 1.21MB/s]\n",
            "\n",
            "\n",
            "\n",
            "\n",
            "\n",
            "Pyramids-1999940.pt:  33% 2.85M/8.66M [00:01<00:03, 1.84MB/s]\u001b[A\u001b[A\u001b[A\u001b[A\u001b[A\n",
            "\n",
            "\n",
            "\n",
            "\n",
            "Pyramids-1499923.onnx: 100% 1.42M/1.42M [00:01<00:00, 1.00MB/s]\n",
            "\n",
            "\n",
            "\n",
            "\n",
            "\n",
            "Pyramids-2499901.pt:   0% 0.00/8.66M [00:00<?, ?B/s]\n",
            "\n",
            "\n",
            "\n",
            "\n",
            "Pyramids-1999940.onnx: 100% 1.42M/1.42M [00:01<00:00, 787kB/s]\n",
            "\n",
            "Upload 13 LFS files:   8% 1/13 [00:01<00:23,  1.95s/it]\u001b[A\n",
            "\n",
            "\n",
            "Pyramids-1499923.pt: 100% 8.66M/8.66M [00:02<00:00, 4.10MB/s]\n",
            "Pyramids-2499901.pt:  82% 7.13M/8.66M [00:00<00:00, 11.0MB/s]\n",
            "\n",
            "Pyramids-2499901.pt:  97% 8.44M/8.66M [00:00<00:00, 11.4MB/s]\n",
            "\n",
            "Pyramids-1999940.pt: 100% 8.66M/8.66M [00:02<00:00, 3.47MB/s]\n",
            "\n",
            "\n",
            "Pyramids-2999977.pt:  46% 3.98M/8.66M [00:00<00:00, 14.7MB/s]\u001b[A\u001b[A\n",
            "\n",
            "\n",
            "\n",
            "Pyramids.onnx:   0% 0.00/1.42M [00:00<?, ?B/s]\u001b[A\u001b[A\u001b[A\u001b[A\n",
            "Upload 13 LFS files:  15% 2/13 [00:02<00:12,  1.17s/it]\u001b[A\n",
            "Upload 13 LFS files:  31% 4/13 [00:02<00:04,  1.82it/s]\u001b[A\n",
            "\n",
            "\n",
            "\n",
            "\n",
            "Pyramids-3000105.pt:   0% 0.00/8.66M [00:00<?, ?B/s]\u001b[A\u001b[A\u001b[A\u001b[A\u001b[A\n",
            "\n",
            "\n",
            "\n",
            "\n",
            "Pyramids.onnx: 100% 1.42M/1.42M [00:00<00:00, 2.36MB/s]\n",
            "\n",
            "\n",
            "\n",
            "\n",
            "\n",
            "Pyramids-2499901.pt: 100% 8.66M/8.66M [00:01<00:00, 5.16MB/s]\n",
            "\n",
            "\n",
            "\n",
            "\n",
            "\n",
            "checkpoint.pt:   0% 0.00/8.66M [00:00<?, ?B/s]\n",
            "Upload 13 LFS files:  46% 6/13 [00:03<00:03,  2.19it/s]\u001b[A\n",
            "\n",
            "\n",
            "\n",
            "Pyramids-2999977.pt: 100% 8.66M/8.66M [00:01<00:00, 5.68MB/s]\n",
            "\n",
            "\n",
            "Pyramids.onnx: 100% 1.42M/1.42M [00:02<00:00, 666kB/s]\n",
            "events.out.tfevents.1708401022.c6b763e3691d.9863.0: 100% 887k/887k [00:00<00:00, 1.82MB/s]\n",
            "\n",
            "Pyramids.onnx: 100% 1.42M/1.42M [00:00<00:00, 3.03MB/s]\n",
            "checkpoint.pt: 100% 8.66M/8.66M [00:01<00:00, 5.49MB/s]\n",
            "Pyramids-3000105.pt: 100% 8.66M/8.66M [00:02<00:00, 3.58MB/s]\n",
            "\n",
            "Upload 13 LFS files: 100% 13/13 [00:05<00:00,  2.30it/s]\n",
            "[INFO] Your model is pushed to the hub. You can view your model here: https://huggingface.co/vadhri/pyramid-training\n"
          ]
        }
      ]
    },
    {
      "cell_type": "markdown",
      "source": [
        "### Watch your agent playing 👀\n",
        "\n",
        "👉 https://huggingface.co/spaces/unity/ML-Agents-Pyramids"
      ],
      "metadata": {
        "id": "7aZfgxo-CDeQ"
      }
    },
    {
      "cell_type": "markdown",
      "source": [
        "### 🎁 Bonus: Why not train on another environment?\n",
        "Now that you know how to train an agent using MLAgents, **why not try another environment?**\n",
        "\n",
        "MLAgents provides 17 different and we’re building some custom ones. The best way to learn is to try things of your own, have fun.\n",
        "\n"
      ],
      "metadata": {
        "id": "hGG_oq2n0wjB"
      }
    },
    {
      "cell_type": "markdown",
      "source": [
        "![cover](https://miro.medium.com/max/1400/0*xERdThTRRM2k_U9f.png)"
      ],
      "metadata": {
        "id": "KSAkJxSr0z6-"
      }
    },
    {
      "cell_type": "markdown",
      "source": [
        "You have the full list of the Unity official environments here 👉 https://github.com/Unity-Technologies/ml-agents/blob/develop/docs/Learning-Environment-Examples.md\n",
        "\n",
        "For the demos to visualize your agent 👉 https://huggingface.co/unity\n",
        "\n",
        "For now we have integrated:\n",
        "- [Worm](https://huggingface.co/spaces/unity/ML-Agents-Worm) demo where you teach a **worm to crawl**.\n",
        "- [Walker](https://huggingface.co/spaces/unity/ML-Agents-Walker) demo where you teach an agent **to walk towards a goal**."
      ],
      "metadata": {
        "id": "YiyF4FX-04JB"
      }
    },
    {
      "cell_type": "markdown",
      "source": [
        "That’s all for today. Congrats on finishing this tutorial!\n",
        "\n",
        "The best way to learn is to practice and try stuff. Why not try another environment? ML-Agents has 17 different environments, but you can also create your own? Check the documentation and have fun!\n",
        "\n",
        "See you on Unit 6 🔥,\n",
        "\n",
        "## Keep Learning, Stay  awesome 🤗"
      ],
      "metadata": {
        "id": "PI6dPWmh064H"
      }
    }
  ],
  "metadata": {
    "accelerator": "GPU",
    "colab": {
      "provenance": [],
      "gpuType": "T4"
    },
    "kernelspec": {
      "display_name": "Python 3",
      "name": "python3"
    },
    "language_info": {
      "name": "python"
    },
    "widgets": {
      "application/vnd.jupyter.widget-state+json": {
        "9a892986fb7e43c89cb4617980ee016c": {
          "model_module": "@jupyter-widgets/controls",
          "model_name": "VBoxModel",
          "model_module_version": "1.5.0",
          "state": {
            "_dom_classes": [],
            "_model_module": "@jupyter-widgets/controls",
            "_model_module_version": "1.5.0",
            "_model_name": "VBoxModel",
            "_view_count": null,
            "_view_module": "@jupyter-widgets/controls",
            "_view_module_version": "1.5.0",
            "_view_name": "VBoxView",
            "box_style": "",
            "children": [
              "IPY_MODEL_942a32d970364f7ab364f8ceb53a1fda",
              "IPY_MODEL_0536c563167940039ef34ffb21e76a4f",
              "IPY_MODEL_720f6b90193943bd80a53d44acbabb7a",
              "IPY_MODEL_557e0aee82ec483695accb98eba55844"
            ],
            "layout": "IPY_MODEL_5f661d00824d40c7b1d87d89833ffb0f"
          }
        },
        "ae0d28a650cd4d9a870617d10c5adbca": {
          "model_module": "@jupyter-widgets/controls",
          "model_name": "HTMLModel",
          "model_module_version": "1.5.0",
          "state": {
            "_dom_classes": [],
            "_model_module": "@jupyter-widgets/controls",
            "_model_module_version": "1.5.0",
            "_model_name": "HTMLModel",
            "_view_count": null,
            "_view_module": "@jupyter-widgets/controls",
            "_view_module_version": "1.5.0",
            "_view_name": "HTMLView",
            "description": "",
            "description_tooltip": null,
            "layout": "IPY_MODEL_d1d6d4340ccc4b8ab2ca8e7ab2cdf992",
            "placeholder": "​",
            "style": "IPY_MODEL_8102f90d901e43f0bf238fc9fdfe7405",
            "value": "<center> <img\nsrc=https://huggingface.co/front/assets/huggingface_logo-noborder.svg\nalt='Hugging Face'> <br> Copy a token from <a\nhref=\"https://huggingface.co/settings/tokens\" target=\"_blank\">your Hugging Face\ntokens page</a> and paste it below. <br> Immediately click login after copying\nyour token or it might be stored in plain text in this notebook file. </center>"
          }
        },
        "af96923c8f9648bda840e19832837186": {
          "model_module": "@jupyter-widgets/controls",
          "model_name": "PasswordModel",
          "model_module_version": "1.5.0",
          "state": {
            "_dom_classes": [],
            "_model_module": "@jupyter-widgets/controls",
            "_model_module_version": "1.5.0",
            "_model_name": "PasswordModel",
            "_view_count": null,
            "_view_module": "@jupyter-widgets/controls",
            "_view_module_version": "1.5.0",
            "_view_name": "PasswordView",
            "continuous_update": true,
            "description": "Token:",
            "description_tooltip": null,
            "disabled": false,
            "layout": "IPY_MODEL_e3f8880b7ee04dc5ab83b6d5bb46581e",
            "placeholder": "​",
            "style": "IPY_MODEL_a7b25537645d4510a5d6e468dfc0396f",
            "value": ""
          }
        },
        "fc7fcf6edfd149df87cee0fb5fc42a42": {
          "model_module": "@jupyter-widgets/controls",
          "model_name": "CheckboxModel",
          "model_module_version": "1.5.0",
          "state": {
            "_dom_classes": [],
            "_model_module": "@jupyter-widgets/controls",
            "_model_module_version": "1.5.0",
            "_model_name": "CheckboxModel",
            "_view_count": null,
            "_view_module": "@jupyter-widgets/controls",
            "_view_module_version": "1.5.0",
            "_view_name": "CheckboxView",
            "description": "Add token as git credential?",
            "description_tooltip": null,
            "disabled": false,
            "indent": true,
            "layout": "IPY_MODEL_e5e0c147c6b34f9db0fe10650c5848b3",
            "style": "IPY_MODEL_39f3bce8c17f4c448c940eebe4ea42c4",
            "value": true
          }
        },
        "15434359f07c4f5ab5af9cb801289e16": {
          "model_module": "@jupyter-widgets/controls",
          "model_name": "ButtonModel",
          "model_module_version": "1.5.0",
          "state": {
            "_dom_classes": [],
            "_model_module": "@jupyter-widgets/controls",
            "_model_module_version": "1.5.0",
            "_model_name": "ButtonModel",
            "_view_count": null,
            "_view_module": "@jupyter-widgets/controls",
            "_view_module_version": "1.5.0",
            "_view_name": "ButtonView",
            "button_style": "",
            "description": "Login",
            "disabled": false,
            "icon": "",
            "layout": "IPY_MODEL_63aab1165acc4eafab869466d3c65792",
            "style": "IPY_MODEL_8a93f60bd08249bf9f7bd2c100398fce",
            "tooltip": ""
          }
        },
        "bcfaae00782f4d339ab7a19da663f32a": {
          "model_module": "@jupyter-widgets/controls",
          "model_name": "HTMLModel",
          "model_module_version": "1.5.0",
          "state": {
            "_dom_classes": [],
            "_model_module": "@jupyter-widgets/controls",
            "_model_module_version": "1.5.0",
            "_model_name": "HTMLModel",
            "_view_count": null,
            "_view_module": "@jupyter-widgets/controls",
            "_view_module_version": "1.5.0",
            "_view_name": "HTMLView",
            "description": "",
            "description_tooltip": null,
            "layout": "IPY_MODEL_7691791dab5548289915e2551c0aedcd",
            "placeholder": "​",
            "style": "IPY_MODEL_94a27c89dabb49029e72c3b073817690",
            "value": "\n<b>Pro Tip:</b> If you don't already have one, you can create a dedicated\n'notebooks' token with 'write' access, that you can then easily reuse for all\nnotebooks. </center>"
          }
        },
        "5f661d00824d40c7b1d87d89833ffb0f": {
          "model_module": "@jupyter-widgets/base",
          "model_name": "LayoutModel",
          "model_module_version": "1.2.0",
          "state": {
            "_model_module": "@jupyter-widgets/base",
            "_model_module_version": "1.2.0",
            "_model_name": "LayoutModel",
            "_view_count": null,
            "_view_module": "@jupyter-widgets/base",
            "_view_module_version": "1.2.0",
            "_view_name": "LayoutView",
            "align_content": null,
            "align_items": "center",
            "align_self": null,
            "border": null,
            "bottom": null,
            "display": "flex",
            "flex": null,
            "flex_flow": "column",
            "grid_area": null,
            "grid_auto_columns": null,
            "grid_auto_flow": null,
            "grid_auto_rows": null,
            "grid_column": null,
            "grid_gap": null,
            "grid_row": null,
            "grid_template_areas": null,
            "grid_template_columns": null,
            "grid_template_rows": null,
            "height": null,
            "justify_content": null,
            "justify_items": null,
            "left": null,
            "margin": null,
            "max_height": null,
            "max_width": null,
            "min_height": null,
            "min_width": null,
            "object_fit": null,
            "object_position": null,
            "order": null,
            "overflow": null,
            "overflow_x": null,
            "overflow_y": null,
            "padding": null,
            "right": null,
            "top": null,
            "visibility": null,
            "width": "50%"
          }
        },
        "d1d6d4340ccc4b8ab2ca8e7ab2cdf992": {
          "model_module": "@jupyter-widgets/base",
          "model_name": "LayoutModel",
          "model_module_version": "1.2.0",
          "state": {
            "_model_module": "@jupyter-widgets/base",
            "_model_module_version": "1.2.0",
            "_model_name": "LayoutModel",
            "_view_count": null,
            "_view_module": "@jupyter-widgets/base",
            "_view_module_version": "1.2.0",
            "_view_name": "LayoutView",
            "align_content": null,
            "align_items": null,
            "align_self": null,
            "border": null,
            "bottom": null,
            "display": null,
            "flex": null,
            "flex_flow": null,
            "grid_area": null,
            "grid_auto_columns": null,
            "grid_auto_flow": null,
            "grid_auto_rows": null,
            "grid_column": null,
            "grid_gap": null,
            "grid_row": null,
            "grid_template_areas": null,
            "grid_template_columns": null,
            "grid_template_rows": null,
            "height": null,
            "justify_content": null,
            "justify_items": null,
            "left": null,
            "margin": null,
            "max_height": null,
            "max_width": null,
            "min_height": null,
            "min_width": null,
            "object_fit": null,
            "object_position": null,
            "order": null,
            "overflow": null,
            "overflow_x": null,
            "overflow_y": null,
            "padding": null,
            "right": null,
            "top": null,
            "visibility": null,
            "width": null
          }
        },
        "8102f90d901e43f0bf238fc9fdfe7405": {
          "model_module": "@jupyter-widgets/controls",
          "model_name": "DescriptionStyleModel",
          "model_module_version": "1.5.0",
          "state": {
            "_model_module": "@jupyter-widgets/controls",
            "_model_module_version": "1.5.0",
            "_model_name": "DescriptionStyleModel",
            "_view_count": null,
            "_view_module": "@jupyter-widgets/base",
            "_view_module_version": "1.2.0",
            "_view_name": "StyleView",
            "description_width": ""
          }
        },
        "e3f8880b7ee04dc5ab83b6d5bb46581e": {
          "model_module": "@jupyter-widgets/base",
          "model_name": "LayoutModel",
          "model_module_version": "1.2.0",
          "state": {
            "_model_module": "@jupyter-widgets/base",
            "_model_module_version": "1.2.0",
            "_model_name": "LayoutModel",
            "_view_count": null,
            "_view_module": "@jupyter-widgets/base",
            "_view_module_version": "1.2.0",
            "_view_name": "LayoutView",
            "align_content": null,
            "align_items": null,
            "align_self": null,
            "border": null,
            "bottom": null,
            "display": null,
            "flex": null,
            "flex_flow": null,
            "grid_area": null,
            "grid_auto_columns": null,
            "grid_auto_flow": null,
            "grid_auto_rows": null,
            "grid_column": null,
            "grid_gap": null,
            "grid_row": null,
            "grid_template_areas": null,
            "grid_template_columns": null,
            "grid_template_rows": null,
            "height": null,
            "justify_content": null,
            "justify_items": null,
            "left": null,
            "margin": null,
            "max_height": null,
            "max_width": null,
            "min_height": null,
            "min_width": null,
            "object_fit": null,
            "object_position": null,
            "order": null,
            "overflow": null,
            "overflow_x": null,
            "overflow_y": null,
            "padding": null,
            "right": null,
            "top": null,
            "visibility": null,
            "width": null
          }
        },
        "a7b25537645d4510a5d6e468dfc0396f": {
          "model_module": "@jupyter-widgets/controls",
          "model_name": "DescriptionStyleModel",
          "model_module_version": "1.5.0",
          "state": {
            "_model_module": "@jupyter-widgets/controls",
            "_model_module_version": "1.5.0",
            "_model_name": "DescriptionStyleModel",
            "_view_count": null,
            "_view_module": "@jupyter-widgets/base",
            "_view_module_version": "1.2.0",
            "_view_name": "StyleView",
            "description_width": ""
          }
        },
        "e5e0c147c6b34f9db0fe10650c5848b3": {
          "model_module": "@jupyter-widgets/base",
          "model_name": "LayoutModel",
          "model_module_version": "1.2.0",
          "state": {
            "_model_module": "@jupyter-widgets/base",
            "_model_module_version": "1.2.0",
            "_model_name": "LayoutModel",
            "_view_count": null,
            "_view_module": "@jupyter-widgets/base",
            "_view_module_version": "1.2.0",
            "_view_name": "LayoutView",
            "align_content": null,
            "align_items": null,
            "align_self": null,
            "border": null,
            "bottom": null,
            "display": null,
            "flex": null,
            "flex_flow": null,
            "grid_area": null,
            "grid_auto_columns": null,
            "grid_auto_flow": null,
            "grid_auto_rows": null,
            "grid_column": null,
            "grid_gap": null,
            "grid_row": null,
            "grid_template_areas": null,
            "grid_template_columns": null,
            "grid_template_rows": null,
            "height": null,
            "justify_content": null,
            "justify_items": null,
            "left": null,
            "margin": null,
            "max_height": null,
            "max_width": null,
            "min_height": null,
            "min_width": null,
            "object_fit": null,
            "object_position": null,
            "order": null,
            "overflow": null,
            "overflow_x": null,
            "overflow_y": null,
            "padding": null,
            "right": null,
            "top": null,
            "visibility": null,
            "width": null
          }
        },
        "39f3bce8c17f4c448c940eebe4ea42c4": {
          "model_module": "@jupyter-widgets/controls",
          "model_name": "DescriptionStyleModel",
          "model_module_version": "1.5.0",
          "state": {
            "_model_module": "@jupyter-widgets/controls",
            "_model_module_version": "1.5.0",
            "_model_name": "DescriptionStyleModel",
            "_view_count": null,
            "_view_module": "@jupyter-widgets/base",
            "_view_module_version": "1.2.0",
            "_view_name": "StyleView",
            "description_width": ""
          }
        },
        "63aab1165acc4eafab869466d3c65792": {
          "model_module": "@jupyter-widgets/base",
          "model_name": "LayoutModel",
          "model_module_version": "1.2.0",
          "state": {
            "_model_module": "@jupyter-widgets/base",
            "_model_module_version": "1.2.0",
            "_model_name": "LayoutModel",
            "_view_count": null,
            "_view_module": "@jupyter-widgets/base",
            "_view_module_version": "1.2.0",
            "_view_name": "LayoutView",
            "align_content": null,
            "align_items": null,
            "align_self": null,
            "border": null,
            "bottom": null,
            "display": null,
            "flex": null,
            "flex_flow": null,
            "grid_area": null,
            "grid_auto_columns": null,
            "grid_auto_flow": null,
            "grid_auto_rows": null,
            "grid_column": null,
            "grid_gap": null,
            "grid_row": null,
            "grid_template_areas": null,
            "grid_template_columns": null,
            "grid_template_rows": null,
            "height": null,
            "justify_content": null,
            "justify_items": null,
            "left": null,
            "margin": null,
            "max_height": null,
            "max_width": null,
            "min_height": null,
            "min_width": null,
            "object_fit": null,
            "object_position": null,
            "order": null,
            "overflow": null,
            "overflow_x": null,
            "overflow_y": null,
            "padding": null,
            "right": null,
            "top": null,
            "visibility": null,
            "width": null
          }
        },
        "8a93f60bd08249bf9f7bd2c100398fce": {
          "model_module": "@jupyter-widgets/controls",
          "model_name": "ButtonStyleModel",
          "model_module_version": "1.5.0",
          "state": {
            "_model_module": "@jupyter-widgets/controls",
            "_model_module_version": "1.5.0",
            "_model_name": "ButtonStyleModel",
            "_view_count": null,
            "_view_module": "@jupyter-widgets/base",
            "_view_module_version": "1.2.0",
            "_view_name": "StyleView",
            "button_color": null,
            "font_weight": ""
          }
        },
        "7691791dab5548289915e2551c0aedcd": {
          "model_module": "@jupyter-widgets/base",
          "model_name": "LayoutModel",
          "model_module_version": "1.2.0",
          "state": {
            "_model_module": "@jupyter-widgets/base",
            "_model_module_version": "1.2.0",
            "_model_name": "LayoutModel",
            "_view_count": null,
            "_view_module": "@jupyter-widgets/base",
            "_view_module_version": "1.2.0",
            "_view_name": "LayoutView",
            "align_content": null,
            "align_items": null,
            "align_self": null,
            "border": null,
            "bottom": null,
            "display": null,
            "flex": null,
            "flex_flow": null,
            "grid_area": null,
            "grid_auto_columns": null,
            "grid_auto_flow": null,
            "grid_auto_rows": null,
            "grid_column": null,
            "grid_gap": null,
            "grid_row": null,
            "grid_template_areas": null,
            "grid_template_columns": null,
            "grid_template_rows": null,
            "height": null,
            "justify_content": null,
            "justify_items": null,
            "left": null,
            "margin": null,
            "max_height": null,
            "max_width": null,
            "min_height": null,
            "min_width": null,
            "object_fit": null,
            "object_position": null,
            "order": null,
            "overflow": null,
            "overflow_x": null,
            "overflow_y": null,
            "padding": null,
            "right": null,
            "top": null,
            "visibility": null,
            "width": null
          }
        },
        "94a27c89dabb49029e72c3b073817690": {
          "model_module": "@jupyter-widgets/controls",
          "model_name": "DescriptionStyleModel",
          "model_module_version": "1.5.0",
          "state": {
            "_model_module": "@jupyter-widgets/controls",
            "_model_module_version": "1.5.0",
            "_model_name": "DescriptionStyleModel",
            "_view_count": null,
            "_view_module": "@jupyter-widgets/base",
            "_view_module_version": "1.2.0",
            "_view_name": "StyleView",
            "description_width": ""
          }
        },
        "4b39b76b8a064b88b48d73926acfb925": {
          "model_module": "@jupyter-widgets/controls",
          "model_name": "LabelModel",
          "model_module_version": "1.5.0",
          "state": {
            "_dom_classes": [],
            "_model_module": "@jupyter-widgets/controls",
            "_model_module_version": "1.5.0",
            "_model_name": "LabelModel",
            "_view_count": null,
            "_view_module": "@jupyter-widgets/controls",
            "_view_module_version": "1.5.0",
            "_view_name": "LabelView",
            "description": "",
            "description_tooltip": null,
            "layout": "IPY_MODEL_89ed12471d1446c6bc1edcfaa92db053",
            "placeholder": "​",
            "style": "IPY_MODEL_c52161058d604fc7acf53082bfb90153",
            "value": "Connecting..."
          }
        },
        "89ed12471d1446c6bc1edcfaa92db053": {
          "model_module": "@jupyter-widgets/base",
          "model_name": "LayoutModel",
          "model_module_version": "1.2.0",
          "state": {
            "_model_module": "@jupyter-widgets/base",
            "_model_module_version": "1.2.0",
            "_model_name": "LayoutModel",
            "_view_count": null,
            "_view_module": "@jupyter-widgets/base",
            "_view_module_version": "1.2.0",
            "_view_name": "LayoutView",
            "align_content": null,
            "align_items": null,
            "align_self": null,
            "border": null,
            "bottom": null,
            "display": null,
            "flex": null,
            "flex_flow": null,
            "grid_area": null,
            "grid_auto_columns": null,
            "grid_auto_flow": null,
            "grid_auto_rows": null,
            "grid_column": null,
            "grid_gap": null,
            "grid_row": null,
            "grid_template_areas": null,
            "grid_template_columns": null,
            "grid_template_rows": null,
            "height": null,
            "justify_content": null,
            "justify_items": null,
            "left": null,
            "margin": null,
            "max_height": null,
            "max_width": null,
            "min_height": null,
            "min_width": null,
            "object_fit": null,
            "object_position": null,
            "order": null,
            "overflow": null,
            "overflow_x": null,
            "overflow_y": null,
            "padding": null,
            "right": null,
            "top": null,
            "visibility": null,
            "width": null
          }
        },
        "c52161058d604fc7acf53082bfb90153": {
          "model_module": "@jupyter-widgets/controls",
          "model_name": "DescriptionStyleModel",
          "model_module_version": "1.5.0",
          "state": {
            "_model_module": "@jupyter-widgets/controls",
            "_model_module_version": "1.5.0",
            "_model_name": "DescriptionStyleModel",
            "_view_count": null,
            "_view_module": "@jupyter-widgets/base",
            "_view_module_version": "1.2.0",
            "_view_name": "StyleView",
            "description_width": ""
          }
        },
        "942a32d970364f7ab364f8ceb53a1fda": {
          "model_module": "@jupyter-widgets/controls",
          "model_name": "LabelModel",
          "model_module_version": "1.5.0",
          "state": {
            "_dom_classes": [],
            "_model_module": "@jupyter-widgets/controls",
            "_model_module_version": "1.5.0",
            "_model_name": "LabelModel",
            "_view_count": null,
            "_view_module": "@jupyter-widgets/controls",
            "_view_module_version": "1.5.0",
            "_view_name": "LabelView",
            "description": "",
            "description_tooltip": null,
            "layout": "IPY_MODEL_1403f4b605f44de0ae5e806b07140e75",
            "placeholder": "​",
            "style": "IPY_MODEL_fb5c8ae4c7ac4cd7883ace402b2cbf6e",
            "value": "Token is valid (permission: write)."
          }
        },
        "0536c563167940039ef34ffb21e76a4f": {
          "model_module": "@jupyter-widgets/controls",
          "model_name": "LabelModel",
          "model_module_version": "1.5.0",
          "state": {
            "_dom_classes": [],
            "_model_module": "@jupyter-widgets/controls",
            "_model_module_version": "1.5.0",
            "_model_name": "LabelModel",
            "_view_count": null,
            "_view_module": "@jupyter-widgets/controls",
            "_view_module_version": "1.5.0",
            "_view_name": "LabelView",
            "description": "",
            "description_tooltip": null,
            "layout": "IPY_MODEL_62ee51b9874b4d06a5d3beec3ec9eacd",
            "placeholder": "​",
            "style": "IPY_MODEL_bfb475332cea4d80a27403ffbe220037",
            "value": "Your token has been saved in your configured git credential helpers (store)."
          }
        },
        "720f6b90193943bd80a53d44acbabb7a": {
          "model_module": "@jupyter-widgets/controls",
          "model_name": "LabelModel",
          "model_module_version": "1.5.0",
          "state": {
            "_dom_classes": [],
            "_model_module": "@jupyter-widgets/controls",
            "_model_module_version": "1.5.0",
            "_model_name": "LabelModel",
            "_view_count": null,
            "_view_module": "@jupyter-widgets/controls",
            "_view_module_version": "1.5.0",
            "_view_name": "LabelView",
            "description": "",
            "description_tooltip": null,
            "layout": "IPY_MODEL_b630f39888f041b892b69bb47d57c5ca",
            "placeholder": "​",
            "style": "IPY_MODEL_d356bdcc615d47d4aa6f1bde6c0e2556",
            "value": "Your token has been saved to /root/.cache/huggingface/token"
          }
        },
        "557e0aee82ec483695accb98eba55844": {
          "model_module": "@jupyter-widgets/controls",
          "model_name": "LabelModel",
          "model_module_version": "1.5.0",
          "state": {
            "_dom_classes": [],
            "_model_module": "@jupyter-widgets/controls",
            "_model_module_version": "1.5.0",
            "_model_name": "LabelModel",
            "_view_count": null,
            "_view_module": "@jupyter-widgets/controls",
            "_view_module_version": "1.5.0",
            "_view_name": "LabelView",
            "description": "",
            "description_tooltip": null,
            "layout": "IPY_MODEL_592d4d73010e428cb99cc388ba802051",
            "placeholder": "​",
            "style": "IPY_MODEL_b6994a857ebe4deeae7c3148935c3696",
            "value": "Login successful"
          }
        },
        "1403f4b605f44de0ae5e806b07140e75": {
          "model_module": "@jupyter-widgets/base",
          "model_name": "LayoutModel",
          "model_module_version": "1.2.0",
          "state": {
            "_model_module": "@jupyter-widgets/base",
            "_model_module_version": "1.2.0",
            "_model_name": "LayoutModel",
            "_view_count": null,
            "_view_module": "@jupyter-widgets/base",
            "_view_module_version": "1.2.0",
            "_view_name": "LayoutView",
            "align_content": null,
            "align_items": null,
            "align_self": null,
            "border": null,
            "bottom": null,
            "display": null,
            "flex": null,
            "flex_flow": null,
            "grid_area": null,
            "grid_auto_columns": null,
            "grid_auto_flow": null,
            "grid_auto_rows": null,
            "grid_column": null,
            "grid_gap": null,
            "grid_row": null,
            "grid_template_areas": null,
            "grid_template_columns": null,
            "grid_template_rows": null,
            "height": null,
            "justify_content": null,
            "justify_items": null,
            "left": null,
            "margin": null,
            "max_height": null,
            "max_width": null,
            "min_height": null,
            "min_width": null,
            "object_fit": null,
            "object_position": null,
            "order": null,
            "overflow": null,
            "overflow_x": null,
            "overflow_y": null,
            "padding": null,
            "right": null,
            "top": null,
            "visibility": null,
            "width": null
          }
        },
        "fb5c8ae4c7ac4cd7883ace402b2cbf6e": {
          "model_module": "@jupyter-widgets/controls",
          "model_name": "DescriptionStyleModel",
          "model_module_version": "1.5.0",
          "state": {
            "_model_module": "@jupyter-widgets/controls",
            "_model_module_version": "1.5.0",
            "_model_name": "DescriptionStyleModel",
            "_view_count": null,
            "_view_module": "@jupyter-widgets/base",
            "_view_module_version": "1.2.0",
            "_view_name": "StyleView",
            "description_width": ""
          }
        },
        "62ee51b9874b4d06a5d3beec3ec9eacd": {
          "model_module": "@jupyter-widgets/base",
          "model_name": "LayoutModel",
          "model_module_version": "1.2.0",
          "state": {
            "_model_module": "@jupyter-widgets/base",
            "_model_module_version": "1.2.0",
            "_model_name": "LayoutModel",
            "_view_count": null,
            "_view_module": "@jupyter-widgets/base",
            "_view_module_version": "1.2.0",
            "_view_name": "LayoutView",
            "align_content": null,
            "align_items": null,
            "align_self": null,
            "border": null,
            "bottom": null,
            "display": null,
            "flex": null,
            "flex_flow": null,
            "grid_area": null,
            "grid_auto_columns": null,
            "grid_auto_flow": null,
            "grid_auto_rows": null,
            "grid_column": null,
            "grid_gap": null,
            "grid_row": null,
            "grid_template_areas": null,
            "grid_template_columns": null,
            "grid_template_rows": null,
            "height": null,
            "justify_content": null,
            "justify_items": null,
            "left": null,
            "margin": null,
            "max_height": null,
            "max_width": null,
            "min_height": null,
            "min_width": null,
            "object_fit": null,
            "object_position": null,
            "order": null,
            "overflow": null,
            "overflow_x": null,
            "overflow_y": null,
            "padding": null,
            "right": null,
            "top": null,
            "visibility": null,
            "width": null
          }
        },
        "bfb475332cea4d80a27403ffbe220037": {
          "model_module": "@jupyter-widgets/controls",
          "model_name": "DescriptionStyleModel",
          "model_module_version": "1.5.0",
          "state": {
            "_model_module": "@jupyter-widgets/controls",
            "_model_module_version": "1.5.0",
            "_model_name": "DescriptionStyleModel",
            "_view_count": null,
            "_view_module": "@jupyter-widgets/base",
            "_view_module_version": "1.2.0",
            "_view_name": "StyleView",
            "description_width": ""
          }
        },
        "b630f39888f041b892b69bb47d57c5ca": {
          "model_module": "@jupyter-widgets/base",
          "model_name": "LayoutModel",
          "model_module_version": "1.2.0",
          "state": {
            "_model_module": "@jupyter-widgets/base",
            "_model_module_version": "1.2.0",
            "_model_name": "LayoutModel",
            "_view_count": null,
            "_view_module": "@jupyter-widgets/base",
            "_view_module_version": "1.2.0",
            "_view_name": "LayoutView",
            "align_content": null,
            "align_items": null,
            "align_self": null,
            "border": null,
            "bottom": null,
            "display": null,
            "flex": null,
            "flex_flow": null,
            "grid_area": null,
            "grid_auto_columns": null,
            "grid_auto_flow": null,
            "grid_auto_rows": null,
            "grid_column": null,
            "grid_gap": null,
            "grid_row": null,
            "grid_template_areas": null,
            "grid_template_columns": null,
            "grid_template_rows": null,
            "height": null,
            "justify_content": null,
            "justify_items": null,
            "left": null,
            "margin": null,
            "max_height": null,
            "max_width": null,
            "min_height": null,
            "min_width": null,
            "object_fit": null,
            "object_position": null,
            "order": null,
            "overflow": null,
            "overflow_x": null,
            "overflow_y": null,
            "padding": null,
            "right": null,
            "top": null,
            "visibility": null,
            "width": null
          }
        },
        "d356bdcc615d47d4aa6f1bde6c0e2556": {
          "model_module": "@jupyter-widgets/controls",
          "model_name": "DescriptionStyleModel",
          "model_module_version": "1.5.0",
          "state": {
            "_model_module": "@jupyter-widgets/controls",
            "_model_module_version": "1.5.0",
            "_model_name": "DescriptionStyleModel",
            "_view_count": null,
            "_view_module": "@jupyter-widgets/base",
            "_view_module_version": "1.2.0",
            "_view_name": "StyleView",
            "description_width": ""
          }
        },
        "592d4d73010e428cb99cc388ba802051": {
          "model_module": "@jupyter-widgets/base",
          "model_name": "LayoutModel",
          "model_module_version": "1.2.0",
          "state": {
            "_model_module": "@jupyter-widgets/base",
            "_model_module_version": "1.2.0",
            "_model_name": "LayoutModel",
            "_view_count": null,
            "_view_module": "@jupyter-widgets/base",
            "_view_module_version": "1.2.0",
            "_view_name": "LayoutView",
            "align_content": null,
            "align_items": null,
            "align_self": null,
            "border": null,
            "bottom": null,
            "display": null,
            "flex": null,
            "flex_flow": null,
            "grid_area": null,
            "grid_auto_columns": null,
            "grid_auto_flow": null,
            "grid_auto_rows": null,
            "grid_column": null,
            "grid_gap": null,
            "grid_row": null,
            "grid_template_areas": null,
            "grid_template_columns": null,
            "grid_template_rows": null,
            "height": null,
            "justify_content": null,
            "justify_items": null,
            "left": null,
            "margin": null,
            "max_height": null,
            "max_width": null,
            "min_height": null,
            "min_width": null,
            "object_fit": null,
            "object_position": null,
            "order": null,
            "overflow": null,
            "overflow_x": null,
            "overflow_y": null,
            "padding": null,
            "right": null,
            "top": null,
            "visibility": null,
            "width": null
          }
        },
        "b6994a857ebe4deeae7c3148935c3696": {
          "model_module": "@jupyter-widgets/controls",
          "model_name": "DescriptionStyleModel",
          "model_module_version": "1.5.0",
          "state": {
            "_model_module": "@jupyter-widgets/controls",
            "_model_module_version": "1.5.0",
            "_model_name": "DescriptionStyleModel",
            "_view_count": null,
            "_view_module": "@jupyter-widgets/base",
            "_view_module_version": "1.2.0",
            "_view_name": "StyleView",
            "description_width": ""
          }
        }
      }
    }
  },
  "nbformat": 4,
  "nbformat_minor": 0
}