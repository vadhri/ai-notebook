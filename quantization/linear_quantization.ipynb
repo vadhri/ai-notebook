{
 "cells": [
  {
   "cell_type": "markdown",
   "metadata": {},
   "source": [
    "$ real\\_value = scale * ( quantized\\_value - zero\\_point ) $\n",
    "\n",
    "$ quantized\\_value = int(round(\\frac{real\\_value}{scale} + zero\\_point) $"
   ]
  },
  {
   "cell_type": "markdown",
   "metadata": {},
   "source": [
    "To calculate the scale and zero poinnt values, the following can be used. \n"
   ]
  },
  {
   "cell_type": "code",
   "execution_count": 84,
   "metadata": {},
   "outputs": [
    {
     "name": "stdout",
     "output_type": "stream",
     "text": [
      "scale, zero_point =  0.7576206955255247 -152\n",
      "tensor([[156.1777,  37.9028,  86.1635],\n",
      "        [211.0878,  28.3854, 190.6095],\n",
      "        [118.6020,  17.8945,  84.2996]])\n",
      "tensor([[  54, -102,  -38],\n",
      "        [ 127, -115,  100],\n",
      "        [   5, -128,  -41]], dtype=torch.int8)\n",
      "tensor([[156.0699,  37.8810,  86.3688],\n",
      "        [211.3762,  28.0320, 190.9204],\n",
      "        [118.9464,  18.1829,  84.0959]])\n",
      "RMS error =  tensor(0.0669)\n"
     ]
    }
   ],
   "source": [
    "import torch\n",
    "\n",
    "input = torch.rand((3,3), dtype=torch.float32)*250\n",
    "\n",
    "rmax = input.max().item()\n",
    "rmin = input.min().item()\n",
    "qtype = torch.iinfo(torch.int8)\n",
    "\n",
    "scale = (rmax - rmin)/(qtype.max - qtype.min)\n",
    "zero_point = round(qtype.min - rmin/scale)\n",
    "\n",
    "print (\"scale, zero_point = \", scale, zero_point)\n",
    "print(input)\n",
    "\n",
    "def quantize_tensor(scale, real_value, zero_point, target_dtype=torch.int8):\n",
    "    scaled_and_shifted_tensor = real_value / scale + zero_point\n",
    "\n",
    "    rounded_tensor = torch.round(scaled_and_shifted_tensor)\n",
    "\n",
    "    q_min = torch.iinfo(target_dtype).min\n",
    "    q_max = torch.iinfo(target_dtype).max\n",
    "\n",
    "    q_tensor = rounded_tensor.clamp(q_min,q_max).to(target_dtype)\n",
    "    \n",
    "    return q_tensor\n",
    "\n",
    "\n",
    "qt = quantize_tensor(scale, input, zero_point)\n",
    "print(qt)\n",
    "def dequantize_tensor(scale, quantized_value, zero_point, target_dtype=torch.float32):\n",
    "    return (scale*(quantized_value.float()-zero_point))\n",
    "\n",
    "dqt = dequantize_tensor(scale, qt, zero_point)\n",
    "print(dqt)\n",
    "\n",
    "print (\"RMS error = \", (dqt - input).square().mean())"
   ]
  }
 ],
 "metadata": {
  "kernelspec": {
   "display_name": "QCML",
   "language": "python",
   "name": "python3"
  },
  "language_info": {
   "codemirror_mode": {
    "name": "ipython",
    "version": 3
   },
   "file_extension": ".py",
   "mimetype": "text/x-python",
   "name": "python",
   "nbconvert_exporter": "python",
   "pygments_lexer": "ipython3",
   "version": "3.9.16"
  }
 },
 "nbformat": 4,
 "nbformat_minor": 2
}
