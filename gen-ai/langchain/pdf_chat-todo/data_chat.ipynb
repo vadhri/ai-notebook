{
 "cells": [
  {
   "cell_type": "code",
   "execution_count": 16,
   "metadata": {},
   "outputs": [
    {
     "name": "stdout",
     "output_type": "stream",
     "text": [
      "1267\n"
     ]
    }
   ],
   "source": [
    "# Load vector database that was persisted earlier and check collection count in it\n",
    "from langchain.vectorstores import Chroma\n",
    "from langchain_community.embeddings import HuggingFaceEmbeddings\n",
    "persist_directory = 'vector_db/chroma/'\n",
    "embeddings = HuggingFaceEmbeddings(model_name=\"all-MiniLM-L6-v2\")\n",
    "vectordb = Chroma(persist_directory=persist_directory, embedding_function=embeddings)\n",
    "print(vectordb._collection.count())"
   ]
  },
  {
   "cell_type": "code",
   "execution_count": 20,
   "metadata": {},
   "outputs": [
    {
     "name": "stdout",
     "output_type": "stream",
     "text": [
      "Planet: Quasarion \n",
      " \n",
      "In the vast expanse of the Andromeda Galaxy, nestled amidst a cosmic ballet of stars, Quasarion emerge\n",
      "s as a celestial jewel, a testament to the imagination's boundless creativity. This fictitious planet, with its e\n",
      "nigmatic name echoing through the cosmic winds, beckons explorers and dreamers alike to embark on a j\n",
      "ourney of discovery. Let's delve into the awe-inspiring wonders of Quasarion, a world that defies expectati\n",
      "ons and captivates the soul. \n",
      " \n",
      "Physical Characteristics: \n",
      " \n",
      "Quasarion is a gas giant, its massive form dominating the space it occupies within the Ursa Cluster. With \n",
      "a diameter nearly ten times that of Jupiter, this colossal planet is a swirling masterpiece of atmospheric dy\n",
      "namics. The surface of Quasarion is veiled in layers of vibrant gases, creating mesmerizing bands of colo\n",
      "rs that shift and dance with the planet's eternal tempests. \n",
      " \n",
      "The planet boasts a unique ring system, a delicate network of iridescent particles that encircle Quasarion i\n",
      "============\n",
      "Planet: Quasarion \n",
      " \n",
      "In the vast expanse of the Andromeda Galaxy, nestled amidst a cosmic ballet of stars, Quasarion emerge\n",
      "s as a celestial jewel, a testament to the imagination's boundless creativity. This fictitious planet, with its e\n",
      "nigmatic name echoing through the cosmic winds, beckons explorers and dreamers alike to embark on a j\n",
      "ourney of discovery. Let's delve into the awe-inspiring wonders of Quasarion, a world that defies expectati\n",
      "ons and captivates the soul. \n",
      " \n",
      "Physical Characteristics: \n",
      " \n",
      "Quasarion is a gas giant, its massive form dominating the space it occupies within the Ursa Cluster. With \n",
      "a diameter nearly ten times that of Jupiter, this colossal planet is a swirling masterpiece of atmospheric dy\n",
      "namics. The surface of Quasarion is veiled in layers of vibrant gases, creating mesmerizing bands of colo\n",
      "rs that shift and dance with the planet's eternal tempests. \n",
      " \n",
      "The planet boasts a unique ring system, a delicate network of iridescent particles that encircle Quasarion i\n",
      "============\n",
      "ardship. Their cultural practices revolve around the appreciation of atmospheric phenomena and the inter\n",
      "connectedness of all life on Quasarion. Festivals celebrating celestial events, such as the Grand Nebular \n",
      "Eclipse, serve as vibrant expressions of their cultural heritage. \n",
      " \n",
      "Conclusion: \n",
      " \n",
      "Quasarion stands as a testament to the limitless possibilities of fictional worlds. With its colossal gas giant\n",
      " form, floating islands, and luminescent ecosystems, the planet invites exploration and challenges precon\n",
      "ceived notions of habitability. The statistics paint a picture of a resilient and interconnected society of Aero\n",
      "phorians, who have not only adapted but thrived in the dynamic and unpredictable environment of Quasar\n",
      "ion. As we peer into the cosmic tapestry, Quasarion beckons us to expand our imaginations and embrace\n",
      " the wonders that can unfold beyond the familiar confines of our own celestial sphere.\n",
      "============\n"
     ]
    }
   ],
   "source": [
    "question = \"what is Quasarion?\"\n",
    "docs = vectordb.similarity_search(question,k=3)\n",
    "len(docs)\n",
    "for res in docs:\n",
    "    print (res.page_content)\n",
    "    print ('============')"
   ]
  },
  {
   "cell_type": "code",
   "execution_count": 145,
   "metadata": {},
   "outputs": [
    {
     "name": "stderr",
     "output_type": "stream",
     "text": [
      "Some weights of DistilBertForQuestionAnswering were not initialized from the model checkpoint at distilbert-base-uncased and are newly initialized: ['qa_outputs.bias', 'qa_outputs.weight']\n",
      "You should probably TRAIN this model on a down-stream task to be able to use it for predictions and inference.\n"
     ]
    }
   ],
   "source": [
    "from transformers import AutoTokenizer, DistilBertForQuestionAnswering, pipeline\n",
    "from langchain_community.llms.huggingface_pipeline import HuggingFacePipeline\n",
    "from transformers import AutoTokenizer, AutoModelForSeq2SeqLM\n",
    "\n",
    "tokenizer = AutoTokenizer.from_pretrained(\"distilbert-base-uncased\")\n",
    "model = DistilBertForQuestionAnswering.from_pretrained(\"distilbert-base-uncased\")\n",
    "\n",
    "# Load model directly\n",
    "\n",
    "pipe = pipeline(\"question-answering\", model=model, tokenizer=tokenizer,     temperature=0.2,\n",
    "    max_new_tokens=512)\n",
    "\n",
    "llm = HuggingFacePipeline(\n",
    "    pipeline = pipe,\n",
    "    model_kwargs={\"temperature\": 0.2, \"max_length\": 1024},\n",
    ")"
   ]
  },
  {
   "cell_type": "code",
   "execution_count": 151,
   "metadata": {},
   "outputs": [
    {
     "name": "stdout",
     "output_type": "stream",
     "text": [
      "tensor(60) tensor(87)\n",
      "tensor([ 9152, 21693, 12070,  2171, 17142,  2083,  1996, 14448,  7266,  1010,\n",
      "        10272,  5644, 19264,  1998, 24726,  2015, 11455,  2000, 28866,  2006,\n",
      "         1037,  1046,  2256,  5420,  1997,  5456,  1012,  2292])\n"
     ]
    },
    {
     "data": {
      "text/plain": [
       "'nigmatic name echoing through the cosmic winds, beckons explorers and dreamers alike to embark on a j ourney of discovery. let'"
      ]
     },
     "execution_count": 151,
     "metadata": {},
     "output_type": "execute_result"
    }
   ],
   "source": [
    "# from langchain.chains.question_answering import load_qa_chain\n",
    "# chain = load_qa_chain(llm, chain_type=\"stuff\",verbose=True)\n",
    "import torch\n",
    "query = \"What is Quasarion ?\"\n",
    "matching_docs = vectordb.max_marginal_relevance_search(query)\n",
    "\n",
    "context = ''\n",
    "for i in matching_docs:\n",
    "    context += \" \" + i.page_content\n",
    "\n",
    "inputs = tokenizer(question, context[:512], return_tensors=\"pt\")\n",
    "with torch.no_grad():\n",
    "    outputs = model(**inputs)\n",
    "\n",
    "answer_start_index = outputs.start_logits.argmax()\n",
    "answer_end_index = outputs.end_logits.argmax()\n",
    "if answer_start_index > answer_end_index:\n",
    "    answer_end_index, answer_start_index = answer_start_index, answer_end_index\n",
    "print (answer_start_index, answer_end_index)\n",
    "predict_answer_tokens = inputs.input_ids[0, answer_start_index : answer_end_index + 1]\n",
    "print (predict_answer_tokens)\n",
    "tokenizer.decode(predict_answer_tokens)"
   ]
  }
 ],
 "metadata": {
  "kernelspec": {
   "display_name": "QCML",
   "language": "python",
   "name": "python3"
  },
  "language_info": {
   "codemirror_mode": {
    "name": "ipython",
    "version": 3
   },
   "file_extension": ".py",
   "mimetype": "text/x-python",
   "name": "python",
   "nbconvert_exporter": "python",
   "pygments_lexer": "ipython3",
   "version": "3.9.16"
  }
 },
 "nbformat": 4,
 "nbformat_minor": 2
}
