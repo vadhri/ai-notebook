{
 "cells": [
  {
   "cell_type": "code",
   "execution_count": 42,
   "metadata": {},
   "outputs": [
    {
     "name": "stdout",
     "output_type": "stream",
     "text": [
      "0.22250702750000007 + 0.08807409749999984·x¹ + 1.2023203749999998·x² -\n",
      "1.3232624999999998·x³ + 0.59965·x⁴ - 0.1066·x⁵ Interpolated value =  0.7612317817483868\n"
     ]
    }
   ],
   "source": [
    "import numpy as np \n",
    "from numpy.polynomial import Polynomial\n",
    "\n",
    "z = [Polynomial([-i/100,1]) for i in range(100,125,5)]\n",
    "for i in range(1, len(z)):\n",
    "    z[i] = z[i]*z[i-1]\n",
    "\n",
    "# fd = [0.47186, -0.2414, 0.012, 0.01335, -0.1066]\n",
    "fd =[0.37678, -0.2332,0.02267,0.01335, -0.1066]\n",
    "a = 0.682689 + sum([fd[i]*z[i] for i in range(5)])\n",
    "print (a, \"Interpolated value = \", a(1.235))"
   ]
  },
  {
   "cell_type": "code",
   "execution_count": 41,
   "metadata": {},
   "outputs": [
    {
     "name": "stdout",
     "output_type": "stream",
     "text": [
      "0.7\n",
      "1.7\n",
      "2.7\n",
      "3.7\n",
      "4.7\n",
      "[ 1.         -0.3        -0.105      -0.0595     -0.0401625  -0.02972025]\n",
      "[0.7887, -0.113034, 0.024486, -0.00134886, -0.00053617, 0.00316818]\n",
      "0.70143515\n"
     ]
    }
   ],
   "source": [
    "import numpy as np \n",
    "from numpy.polynomial import Polynomial\n",
    "\n",
    "def polb(h,target,n):\n",
    "    uo = u = -0.3\n",
    "    ua = [1]\n",
    "\n",
    "    for j in range(1,len(fd)):\n",
    "        ua.append(u)\n",
    "        print((uo + j*1))\n",
    "        u *= (uo + j*1)\n",
    "\n",
    "    ua = np.array(ua)\n",
    "    for i in range(len(ua)):\n",
    "        ua[i] /= np.math.factorial(i)\n",
    "\n",
    "    return (ua)\n",
    "\n",
    "h = 0.05\n",
    "\n",
    "polb(h, 1.235, 10)"
   ]
  },
  {
   "cell_type": "code",
   "execution_count": 55,
   "metadata": {},
   "outputs": [
    {
     "name": "stdout",
     "output_type": "stream",
     "text": [
      "[ 0.682689    0.47186    -0.2414      0.012       0.04       -0.10666667]\n",
      "5\n",
      "-0.10666666666417958\n",
      "1 0.03999999999937335 1.235 1.2\n",
      "2 0.012000000000012044 1.235 1.15\n",
      "3 -0.2413999999999903 1.235 1.1\n",
      "4 0.47185999999999906 1.235 1.05\n",
      "5 0.682689 1.235 1.0\n",
      "[ 0.682689    0.47186    -0.2414      0.012       0.04       -0.10666667]\n",
      "[ 1.000e+00 -3.000e-01  3.750e-02 -2.500e-03  9.375e-05 -1.875e-06]\n",
      "0.682689\n",
      "-0.1415579999999997\n",
      "-0.009052499999999635\n",
      "-3.0000000000030108e-05\n",
      "3.74999999994125e-06\n",
      "1.9999999999533657e-07\n",
      "0.5320524500000005\n",
      "1.0 0.682689\n",
      "1.05 0.706282\n",
      "1.1 0.728668\n",
      "1.15 0.749856\n",
      "1.2 0.769861\n",
      "1.25 0.7887\n"
     ]
    }
   ],
   "source": [
    "def _poly_newton_coefficient(x, y):\n",
    "    \"\"\"\n",
    "    x: list or np array contanining x data points\n",
    "    y: list or np array contanining y data points\n",
    "    \"\"\"\n",
    "\n",
    "    m = len(x)\n",
    "\n",
    "    x = np.copy(x)\n",
    "    a = np.copy(y)\n",
    "    for k in range(1, m):\n",
    "        a[k:m] = (a[k:m] - a[k - 1])/(x[k:m] - x[k - 1])\n",
    "\n",
    "    return a\n",
    "\n",
    "def newton_polynomial(x_data, y_data, x):\n",
    "    \"\"\"\n",
    "    x_data: data points at x\n",
    "    y_data: data points at y\n",
    "    x: evaluation point(s)\n",
    "    \"\"\"\n",
    "    a = _poly_newton_coefficient(x_data, y_data)\n",
    "    print (a)\n",
    "    n = len(x_data) - 1  # Degree of polynomial\n",
    "    print (n)\n",
    "    p = a[n]\n",
    "    print (p)\n",
    "\n",
    "    for k in range(1, n + 1):\n",
    "        print (k, a[n-k], x, x_data[n-k])\n",
    "        p = a[n - k] + (x - x_data[n - k])*p\n",
    "\n",
    "    return p\n",
    "\n",
    "x = [i/100 for i in range(100,130,5)]\n",
    "y = [0.682689, 0.706282,0.728668, 0.749856, 0.769861, 0.7887]\n",
    "newton_polynomial(x, y, 1.235)\n",
    "\n",
    "def polb(h,target,n):\n",
    "    uo = u = -0.3\n",
    "    ua = [1]\n",
    "\n",
    "    for j in range(1,len(fd)+1):\n",
    "        ua.append(u)\n",
    "        u *= (uo + j*0.05)\n",
    "\n",
    "    ua = np.array(ua)\n",
    "    for i in range(len(ua)):\n",
    "        ua[i] /= np.math.factorial(i)\n",
    "\n",
    "    return (ua)\n",
    "\n",
    "a = _poly_newton_coefficient(x, y)\n",
    "print (a)\n",
    "b = polb(h, 1,2)\n",
    "print (b)\n",
    "ans = 0\n",
    "for i in range(len(a)):\n",
    "    print (a[i]*b[i])\n",
    "    ans += a[i]*b[i]\n",
    "print (ans)\n",
    "\n",
    "for i in range(len(x)):\n",
    "    print (x[i], y[i])\n"
   ]
  },
  {
   "cell_type": "code",
   "execution_count": 110,
   "metadata": {},
   "outputs": [
    {
     "name": "stdout",
     "output_type": "stream",
     "text": [
      "[0, 0.16666666666666666, 0.3333333333333333, 0.5, 0.6666666666666666, 0.8333333333333333, 0.9999999999999999] 0.16666666666666666\n",
      "[1.0, 0.9726044771163483, 0.8948393168143698, 0.7788007830714049, 0.6411803884299546, 0.49935178859927626, 0.3678794411714424]\n"
     ]
    },
    {
     "data": {
      "text/plain": [
       "0.746830391489345"
      ]
     },
     "execution_count": 110,
     "metadata": {},
     "output_type": "execute_result"
    }
   ],
   "source": [
    "import numpy\n",
    "h = 1/6\n",
    "start = 0\n",
    "end = 1\n",
    "points = [start]\n",
    "\n",
    "for j in range(200):\n",
    "    points.append(points[-1]+h)\n",
    "    if points[-1]+h > end:\n",
    "        break\n",
    "    \n",
    "print (points, h)\n",
    "f = lambda x: np.exp(-(x**2))\n",
    "value = 0\n",
    "values = [f(a) for a in points]\n",
    "f0 = values[0]+values[-1]\n",
    "feven = 0 \n",
    "fodd = 0\n",
    "\n",
    "# values[0] = values[-1] = 0\n",
    "print (values)\n",
    "for i in range(len(points)):\n",
    "    if i%2 == 0:\n",
    "        feven = values[i]\n",
    "    else:\n",
    "        fodd = values[i]\n",
    "\n",
    "(h/3)*((1.0 + 0.3678794411714424)+4*(0.9726044771163483+0.7788007830714049+0.49935178859927626)+2*(0.8948393168143698+0.6411803884299546))\n"
   ]
  },
  {
   "cell_type": "code",
   "execution_count": 208,
   "metadata": {},
   "outputs": [
    {
     "name": "stdout",
     "output_type": "stream",
     "text": [
      "[0.0, 0.06698729810778066, 0.24999999999999994, 0.4999999999999999, 0.7499999999999999, 0.9330127018922192, 1.0] 6\n"
     ]
    },
    {
     "data": {
      "text/plain": [
       "(0.7853981633974481, 0.99425)"
      ]
     },
     "execution_count": 208,
     "metadata": {},
     "output_type": "execute_result"
    }
   ],
   "source": [
    "h = np.pi/12\n",
    "a = 0\n",
    "points = []\n",
    "n = -1\n",
    "while a <= np.pi/2:\n",
    "    points.append(np.sin(a))\n",
    "    a += h\n",
    "    n += 1\n",
    "\n",
    "print (points, n)\n",
    "\n",
    "(h/2)*(points[0]+points[-1]+2*(sum(points[1:-1]))), 1.9885/2"
   ]
  }
 ],
 "metadata": {
  "kernelspec": {
   "display_name": "QCML",
   "language": "python",
   "name": "python3"
  },
  "language_info": {
   "codemirror_mode": {
    "name": "ipython",
    "version": 3
   },
   "file_extension": ".py",
   "mimetype": "text/x-python",
   "name": "python",
   "nbconvert_exporter": "python",
   "pygments_lexer": "ipython3",
   "version": "3.9.16"
  }
 },
 "nbformat": 4,
 "nbformat_minor": 2
}
