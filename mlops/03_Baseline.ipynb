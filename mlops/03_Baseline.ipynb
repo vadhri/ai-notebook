{
  "cells": [
    {
      "cell_type": "markdown",
      "metadata": {
        "id": "Gn-eiT0w3ury"
      },
      "source": [
        "<a href=\"https://colab.research.google.com/github/wandb/edu/blob/main/mlops-001/lesson1/03_Baseline.ipynb\" target=\"_parent\"><img src=\"https://colab.research.google.com/assets/colab-badge.svg\" alt=\"Open In Colab\"/></a>\n",
        "<!--- @wandbcode{course-lesson1} -->"
      ],
      "id": "Gn-eiT0w3ury"
    },
    {
      "cell_type": "code",
      "execution_count": 39,
      "id": "76b1a803",
      "metadata": {
        "colab": {
          "base_uri": "https://localhost:8080/"
        },
        "id": "76b1a803",
        "outputId": "9e4948c1-77cc-4273-accd-d3dabd55e1ba"
      },
      "outputs": [
        {
          "output_type": "stream",
          "name": "stdout",
          "text": [
            "--2025-04-12 12:28:07--  https://raw.githubusercontent.com/wandb/edu/main/mlops-001/lesson1/requirements.txt\n",
            "Resolving raw.githubusercontent.com (raw.githubusercontent.com)... 185.199.109.133, 185.199.110.133, 185.199.108.133, ...\n",
            "Connecting to raw.githubusercontent.com (raw.githubusercontent.com)|185.199.109.133|:443... connected.\n",
            "HTTP request sent, awaiting response... 200 OK\n",
            "Length: 82 [text/plain]\n",
            "Saving to: ‘requirements.txt.2’\n",
            "\n",
            "requirements.txt.2  100%[===================>]      82  --.-KB/s    in 0s      \n",
            "\n",
            "2025-04-12 12:28:07 (5.44 MB/s) - ‘requirements.txt.2’ saved [82/82]\n",
            "\n",
            "--2025-04-12 12:28:07--  https://raw.githubusercontent.com/wandb/edu/main/mlops-001/lesson1/params.py\n",
            "Resolving raw.githubusercontent.com (raw.githubusercontent.com)... 185.199.109.133, 185.199.110.133, 185.199.108.133, ...\n",
            "Connecting to raw.githubusercontent.com (raw.githubusercontent.com)|185.199.109.133|:443... connected.\n",
            "HTTP request sent, awaiting response... 200 OK\n",
            "Length: 295 [text/plain]\n",
            "Saving to: ‘params.py.2’\n",
            "\n",
            "params.py.2         100%[===================>]     295  --.-KB/s    in 0s      \n",
            "\n",
            "2025-04-12 12:28:08 (16.3 MB/s) - ‘params.py.2’ saved [295/295]\n",
            "\n",
            "--2025-04-12 12:28:08--  https://raw.githubusercontent.com/wandb/edu/main/mlops-001/lesson1/utils.py\n",
            "Resolving raw.githubusercontent.com (raw.githubusercontent.com)... 185.199.110.133, 185.199.108.133, 185.199.111.133, ...\n",
            "Connecting to raw.githubusercontent.com (raw.githubusercontent.com)|185.199.110.133|:443... connected.\n",
            "HTTP request sent, awaiting response... 200 OK\n",
            "Length: 6721 (6.6K) [text/plain]\n",
            "Saving to: ‘utils.py.2’\n",
            "\n",
            "utils.py.2          100%[===================>]   6.56K  --.-KB/s    in 0s      \n",
            "\n",
            "2025-04-12 12:28:08 (71.0 MB/s) - ‘utils.py.2’ saved [6721/6721]\n",
            "\n"
          ]
        }
      ],
      "source": [
        "# Install dependencies (run once)\n",
        "!wget https://raw.githubusercontent.com/wandb/edu/main/mlops-001/lesson1/requirements.txt\n",
        "!wget https://raw.githubusercontent.com/wandb/edu/main/mlops-001/lesson1/params.py\n",
        "!wget https://raw.githubusercontent.com/wandb/edu/main/mlops-001/lesson1/utils.py\n",
        "!pip install -qr requirements.txt"
      ]
    },
    {
      "cell_type": "markdown",
      "id": "4723ae62-c55d-4c8f-9157-43c29189a2ff",
      "metadata": {
        "id": "4723ae62-c55d-4c8f-9157-43c29189a2ff"
      },
      "source": [
        "# Baseline solution\n",
        "\n",
        "<!--- @wandbcode{course-lesson1} -->\n",
        "\n",
        "In this notebook we will create a baseline solution to our semantic segmentation problem. To iterate fast a notebook is a handy solution. We will then refactor this code into a script to be able to use hyperparameter sweeps."
      ]
    },
    {
      "cell_type": "code",
      "execution_count": 40,
      "id": "29116dec",
      "metadata": {
        "id": "29116dec"
      },
      "outputs": [],
      "source": [
        "import wandb\n",
        "import pandas as pd\n",
        "from fastai.vision.all import *\n",
        "from fastai.callback.wandb import WandbCallback\n",
        "\n",
        "import params\n",
        "from utils import get_predictions, create_iou_table, MIOU, BackgroundIOU, \\\n",
        "                  RoadIOU, TrafficLightIOU, TrafficSignIOU, PersonIOU, VehicleIOU, BicycleIOU"
      ]
    },
    {
      "cell_type": "markdown",
      "id": "6e0871e5-c07d-4a8b-817b-388c2e9bf7d1",
      "metadata": {
        "id": "6e0871e5-c07d-4a8b-817b-388c2e9bf7d1"
      },
      "source": [
        "Again, we're importing some global configuration parameters from `params.py` file. We have also defined some helper functions in `utils.py` - for example metrics we will track during our experiments.\n",
        "\n",
        "Let's now create a `train_config` that we'll pass to W&B `run` to control training hyperparameters."
      ]
    },
    {
      "cell_type": "code",
      "execution_count": 41,
      "id": "cff6b8ee",
      "metadata": {
        "id": "cff6b8ee"
      },
      "outputs": [],
      "source": [
        "train_config = SimpleNamespace(\n",
        "    framework=\"fastai\",\n",
        "    img_size=(180, 320),\n",
        "    batch_size=8,\n",
        "    augment=True, # use data augmentation\n",
        "    epochs=10,\n",
        "    lr=2e-3,\n",
        "    pretrained=True,  # whether to use pretrained encoder\n",
        "    seed=42,\n",
        ")"
      ]
    },
    {
      "cell_type": "markdown",
      "id": "38f014f3-d78f-4f5b-b038-d8020de43930",
      "metadata": {
        "id": "38f014f3-d78f-4f5b-b038-d8020de43930"
      },
      "source": [
        "We are setting seed for reproducibility."
      ]
    },
    {
      "cell_type": "code",
      "execution_count": 42,
      "id": "fc6765f6",
      "metadata": {
        "id": "fc6765f6"
      },
      "outputs": [],
      "source": [
        "set_seed(train_config.seed, reproducible=True)"
      ]
    },
    {
      "cell_type": "code",
      "execution_count": 43,
      "id": "32483e4d",
      "metadata": {
        "colab": {
          "base_uri": "https://localhost:8080/",
          "height": 104
        },
        "id": "32483e4d",
        "outputId": "f86cd755-fd3c-495d-d0c2-a71452d04e87"
      },
      "outputs": [
        {
          "output_type": "display_data",
          "data": {
            "text/plain": [
              "<IPython.core.display.HTML object>"
            ],
            "text/html": [
              "Tracking run with wandb version 0.19.9"
            ]
          },
          "metadata": {}
        },
        {
          "output_type": "display_data",
          "data": {
            "text/plain": [
              "<IPython.core.display.HTML object>"
            ],
            "text/html": [
              "Run data is saved locally in <code>/content/wandb/run-20250412_122812-reoqi7y4</code>"
            ]
          },
          "metadata": {}
        },
        {
          "output_type": "display_data",
          "data": {
            "text/plain": [
              "<IPython.core.display.HTML object>"
            ],
            "text/html": [
              "Syncing run <strong><a href='https://wandb.ai/vadhri-venkat/mlops-course-001/runs/reoqi7y4' target=\"_blank\">fallen-wave-5</a></strong> to <a href='https://wandb.ai/vadhri-venkat/mlops-course-001' target=\"_blank\">Weights & Biases</a> (<a href='https://wandb.me/developer-guide' target=\"_blank\">docs</a>)<br>"
            ]
          },
          "metadata": {}
        },
        {
          "output_type": "display_data",
          "data": {
            "text/plain": [
              "<IPython.core.display.HTML object>"
            ],
            "text/html": [
              " View project at <a href='https://wandb.ai/vadhri-venkat/mlops-course-001' target=\"_blank\">https://wandb.ai/vadhri-venkat/mlops-course-001</a>"
            ]
          },
          "metadata": {}
        },
        {
          "output_type": "display_data",
          "data": {
            "text/plain": [
              "<IPython.core.display.HTML object>"
            ],
            "text/html": [
              " View run at <a href='https://wandb.ai/vadhri-venkat/mlops-course-001/runs/reoqi7y4' target=\"_blank\">https://wandb.ai/vadhri-venkat/mlops-course-001/runs/reoqi7y4</a>"
            ]
          },
          "metadata": {}
        }
      ],
      "source": [
        "run = wandb.init(project=params.WANDB_PROJECT, entity=params.ENTITY, job_type=\"training\", config=train_config)"
      ]
    },
    {
      "cell_type": "markdown",
      "id": "be7c1872-fc08-4304-9842-203d9ac45371",
      "metadata": {
        "id": "be7c1872-fc08-4304-9842-203d9ac45371"
      },
      "source": [
        "As usual, we will use W&B Artifacts to track the lineage of our models."
      ]
    },
    {
      "cell_type": "code",
      "execution_count": 44,
      "id": "df839467",
      "metadata": {
        "colab": {
          "base_uri": "https://localhost:8080/"
        },
        "id": "df839467",
        "outputId": "bf34369c-525e-4252-b4bf-b27cd9abc945"
      },
      "outputs": [
        {
          "output_type": "stream",
          "name": "stderr",
          "text": [
            "\u001b[34m\u001b[1mwandb\u001b[0m: Downloading large artifact bdd_simple_1k_split:latest, 846.07MB. 4010 files... \n",
            "\u001b[34m\u001b[1mwandb\u001b[0m:   4010 of 4010 files downloaded.  \n",
            "Done. 0:0:10.6\n"
          ]
        }
      ],
      "source": [
        "processed_data_at = run.use_artifact(f'{params.PROCESSED_DATA_AT}:latest')\n",
        "processed_dataset_dir = Path(processed_data_at.download())\n",
        "df = pd.read_csv(processed_dataset_dir / 'data_split.csv')"
      ]
    },
    {
      "cell_type": "markdown",
      "id": "77170345-96d3-4371-a4e9-5ea3b15e2cdb",
      "metadata": {
        "id": "77170345-96d3-4371-a4e9-5ea3b15e2cdb"
      },
      "source": [
        "We will not use the hold out dataset stage at this moment. `is_valid` column will tell our trainer how we want to split data between training and validation."
      ]
    },
    {
      "cell_type": "code",
      "execution_count": 45,
      "id": "5a34e1d7",
      "metadata": {
        "id": "5a34e1d7"
      },
      "outputs": [],
      "source": [
        "df = df[df.Stage != 'test'].reset_index(drop=True)\n",
        "df['is_valid'] = df.Stage == 'valid'"
      ]
    },
    {
      "cell_type": "code",
      "execution_count": 46,
      "id": "65ae3d60",
      "metadata": {
        "id": "65ae3d60"
      },
      "outputs": [],
      "source": [
        "def label_func(fname):\n",
        "    return (fname.parent.parent/\"labels\")/f\"{fname.stem}_mask.png\""
      ]
    },
    {
      "cell_type": "markdown",
      "id": "e7fb25d8-50b0-4c14-9d52-d14725e024c9",
      "metadata": {
        "id": "e7fb25d8-50b0-4c14-9d52-d14725e024c9"
      },
      "source": [
        "We will use `fastai`'s `DataBlock` API to feed data into model training and validation."
      ]
    },
    {
      "cell_type": "code",
      "execution_count": 47,
      "id": "1f713864",
      "metadata": {
        "id": "1f713864"
      },
      "outputs": [],
      "source": [
        "# assign paths\n",
        "df[\"image_fname\"] = [processed_dataset_dir/f'images/{f}' for f in df.File_Name.values]\n",
        "df[\"label_fname\"] = [label_func(f) for f in df.image_fname.values]"
      ]
    },
    {
      "cell_type": "code",
      "execution_count": 48,
      "id": "4268334e",
      "metadata": {
        "id": "4268334e"
      },
      "outputs": [],
      "source": [
        "def get_data(df, bs=4, img_size=(180, 320), augment=True):\n",
        "    block = DataBlock(blocks=(ImageBlock, MaskBlock(codes=params.BDD_CLASSES)),\n",
        "                  get_x=ColReader(\"image_fname\"),\n",
        "                  get_y=ColReader(\"label_fname\"),\n",
        "                  splitter=ColSplitter(),\n",
        "                  item_tfms=Resize(img_size),\n",
        "                  batch_tfms=aug_transforms() if augment else None,\n",
        "                 )\n",
        "    return block.dataloaders(df, bs=bs)"
      ]
    },
    {
      "cell_type": "markdown",
      "id": "929f7975-ff29-4692-89b3-7f7596aecb0a",
      "metadata": {
        "id": "929f7975-ff29-4692-89b3-7f7596aecb0a"
      },
      "source": [
        "We are using `wandb.config` to track our training hyperparameters."
      ]
    },
    {
      "cell_type": "code",
      "execution_count": 49,
      "id": "f214f2f1",
      "metadata": {
        "id": "f214f2f1"
      },
      "outputs": [],
      "source": [
        "config = wandb.config"
      ]
    },
    {
      "cell_type": "code",
      "execution_count": 50,
      "id": "58544078",
      "metadata": {
        "id": "58544078"
      },
      "outputs": [],
      "source": [
        "dls = get_data(df, bs=config.batch_size, img_size=config.img_size, augment=config.augment)"
      ]
    },
    {
      "cell_type": "markdown",
      "id": "475d4e69-d8ec-4093-a8e4-0f09b0979887",
      "metadata": {
        "id": "475d4e69-d8ec-4093-a8e4-0f09b0979887"
      },
      "source": [
        "We will use *intersection over union* metrics: mean across all classes (MIOU) and IOU for each class separately. Our model will be a `unet` based on pretrained `resnet18` backbone."
      ]
    },
    {
      "cell_type": "code",
      "execution_count": 51,
      "id": "a9fd4610",
      "metadata": {
        "id": "a9fd4610"
      },
      "outputs": [],
      "source": [
        "metrics = [MIOU(), BackgroundIOU(), RoadIOU(), TrafficLightIOU(), \\\n",
        "           TrafficSignIOU(), PersonIOU(), VehicleIOU(), BicycleIOU()]\n",
        "\n",
        "learn = unet_learner(dls, arch=resnet18, pretrained=config.pretrained, metrics=metrics)"
      ]
    },
    {
      "cell_type": "markdown",
      "id": "88d45330-cfc2-44e9-8c0c-5eee417050b1",
      "metadata": {
        "id": "88d45330-cfc2-44e9-8c0c-5eee417050b1"
      },
      "source": [
        "In `fastai` we already have a callback that integrates tightly with W&B, we only need to pass the `WandbCallback` to the learner and we are ready to go. The callback will log all the useful variables for us. For example, whatever metric we pass to the learner will be tracked by the callback."
      ]
    },
    {
      "cell_type": "code",
      "execution_count": 52,
      "id": "87db7e5b",
      "metadata": {
        "id": "87db7e5b"
      },
      "outputs": [],
      "source": [
        "callbacks = [\n",
        "    SaveModelCallback(monitor='miou'),\n",
        "    WandbCallback(log_preds=False, log_model=True)\n",
        "]"
      ]
    },
    {
      "cell_type": "markdown",
      "id": "7dfe3c60-f4af-4e21-874d-13f119d03dd5",
      "metadata": {
        "id": "7dfe3c60-f4af-4e21-874d-13f119d03dd5"
      },
      "source": [
        "Let's train our model!"
      ]
    },
    {
      "cell_type": "code",
      "execution_count": 53,
      "id": "a1846493",
      "metadata": {
        "colab": {
          "base_uri": "https://localhost:8080/",
          "height": 501
        },
        "id": "a1846493",
        "outputId": "0375ee89-8e54-461d-dc33-e8e1ece9d3b8"
      },
      "outputs": [
        {
          "output_type": "display_data",
          "data": {
            "text/plain": [
              "<IPython.core.display.HTML object>"
            ],
            "text/html": [
              "\n",
              "<style>\n",
              "    /* Turns off some styling */\n",
              "    progress {\n",
              "        /* gets rid of default border in Firefox and Opera. */\n",
              "        border: none;\n",
              "        /* Needs to be in here for Safari polyfill so background images work as expected. */\n",
              "        background-size: auto;\n",
              "    }\n",
              "    progress:not([value]), progress:not([value])::-webkit-progress-bar {\n",
              "        background: repeating-linear-gradient(45deg, #7e7e7e, #7e7e7e 10px, #5c5c5c 10px, #5c5c5c 20px);\n",
              "    }\n",
              "    .progress-bar-interrupted, .progress-bar-interrupted::-webkit-progress-bar {\n",
              "        background: #F44336;\n",
              "    }\n",
              "</style>\n"
            ]
          },
          "metadata": {}
        },
        {
          "output_type": "display_data",
          "data": {
            "text/plain": [
              "<IPython.core.display.HTML object>"
            ],
            "text/html": [
              "<table border=\"1\" class=\"dataframe\">\n",
              "  <thead>\n",
              "    <tr style=\"text-align: left;\">\n",
              "      <th>epoch</th>\n",
              "      <th>train_loss</th>\n",
              "      <th>valid_loss</th>\n",
              "      <th>miou</th>\n",
              "      <th>background_iou</th>\n",
              "      <th>road_iou</th>\n",
              "      <th>traffic_light_iou</th>\n",
              "      <th>traffic_sign_iou</th>\n",
              "      <th>person_iou</th>\n",
              "      <th>vehicle_iou</th>\n",
              "      <th>bicycle_iou</th>\n",
              "      <th>time</th>\n",
              "    </tr>\n",
              "  </thead>\n",
              "  <tbody>\n",
              "    <tr>\n",
              "      <td>0</td>\n",
              "      <td>0.502314</td>\n",
              "      <td>0.387139</td>\n",
              "      <td>0.268999</td>\n",
              "      <td>0.838132</td>\n",
              "      <td>0.750904</td>\n",
              "      <td>0.000000</td>\n",
              "      <td>0.000000</td>\n",
              "      <td>0.000000</td>\n",
              "      <td>0.293958</td>\n",
              "      <td>0.000000</td>\n",
              "      <td>00:44</td>\n",
              "    </tr>\n",
              "    <tr>\n",
              "      <td>1</td>\n",
              "      <td>0.414443</td>\n",
              "      <td>0.362141</td>\n",
              "      <td>0.312900</td>\n",
              "      <td>0.884700</td>\n",
              "      <td>0.746555</td>\n",
              "      <td>0.000000</td>\n",
              "      <td>0.000000</td>\n",
              "      <td>0.000000</td>\n",
              "      <td>0.559048</td>\n",
              "      <td>0.000000</td>\n",
              "      <td>00:43</td>\n",
              "    </tr>\n",
              "    <tr>\n",
              "      <td>2</td>\n",
              "      <td>0.353722</td>\n",
              "      <td>0.287961</td>\n",
              "      <td>0.333751</td>\n",
              "      <td>0.897240</td>\n",
              "      <td>0.791029</td>\n",
              "      <td>0.000000</td>\n",
              "      <td>0.000000</td>\n",
              "      <td>0.000000</td>\n",
              "      <td>0.647990</td>\n",
              "      <td>0.000000</td>\n",
              "      <td>00:40</td>\n",
              "    </tr>\n",
              "    <tr>\n",
              "      <td>3</td>\n",
              "      <td>0.309233</td>\n",
              "      <td>0.301745</td>\n",
              "      <td>0.328614</td>\n",
              "      <td>0.879867</td>\n",
              "      <td>0.800871</td>\n",
              "      <td>0.000000</td>\n",
              "      <td>0.000000</td>\n",
              "      <td>0.000000</td>\n",
              "      <td>0.619562</td>\n",
              "      <td>0.000000</td>\n",
              "      <td>00:41</td>\n",
              "    </tr>\n",
              "    <tr>\n",
              "      <td>4</td>\n",
              "      <td>0.267584</td>\n",
              "      <td>0.250523</td>\n",
              "      <td>0.346586</td>\n",
              "      <td>0.899933</td>\n",
              "      <td>0.818410</td>\n",
              "      <td>0.020161</td>\n",
              "      <td>0.000000</td>\n",
              "      <td>0.000000</td>\n",
              "      <td>0.687601</td>\n",
              "      <td>0.000000</td>\n",
              "      <td>00:41</td>\n",
              "    </tr>\n",
              "    <tr>\n",
              "      <td>5</td>\n",
              "      <td>0.240026</td>\n",
              "      <td>0.252458</td>\n",
              "      <td>0.360355</td>\n",
              "      <td>0.908961</td>\n",
              "      <td>0.818617</td>\n",
              "      <td>0.071477</td>\n",
              "      <td>0.000000</td>\n",
              "      <td>0.000000</td>\n",
              "      <td>0.723433</td>\n",
              "      <td>0.000000</td>\n",
              "      <td>00:41</td>\n",
              "    </tr>\n",
              "    <tr>\n",
              "      <td>6</td>\n",
              "      <td>0.217886</td>\n",
              "      <td>0.232314</td>\n",
              "      <td>0.366446</td>\n",
              "      <td>0.917543</td>\n",
              "      <td>0.836763</td>\n",
              "      <td>0.065514</td>\n",
              "      <td>0.000000</td>\n",
              "      <td>0.000000</td>\n",
              "      <td>0.745303</td>\n",
              "      <td>0.000000</td>\n",
              "      <td>00:41</td>\n",
              "    </tr>\n",
              "    <tr>\n",
              "      <td>7</td>\n",
              "      <td>0.195383</td>\n",
              "      <td>0.229992</td>\n",
              "      <td>0.380668</td>\n",
              "      <td>0.918629</td>\n",
              "      <td>0.838789</td>\n",
              "      <td>0.149247</td>\n",
              "      <td>0.002599</td>\n",
              "      <td>0.000000</td>\n",
              "      <td>0.755415</td>\n",
              "      <td>0.000000</td>\n",
              "      <td>00:41</td>\n",
              "    </tr>\n",
              "    <tr>\n",
              "      <td>8</td>\n",
              "      <td>0.186972</td>\n",
              "      <td>0.220968</td>\n",
              "      <td>0.376321</td>\n",
              "      <td>0.921574</td>\n",
              "      <td>0.846526</td>\n",
              "      <td>0.106375</td>\n",
              "      <td>0.000000</td>\n",
              "      <td>0.000000</td>\n",
              "      <td>0.759776</td>\n",
              "      <td>0.000000</td>\n",
              "      <td>00:41</td>\n",
              "    </tr>\n",
              "    <tr>\n",
              "      <td>9</td>\n",
              "      <td>0.179312</td>\n",
              "      <td>0.221305</td>\n",
              "      <td>0.384708</td>\n",
              "      <td>0.922766</td>\n",
              "      <td>0.847924</td>\n",
              "      <td>0.161210</td>\n",
              "      <td>0.001870</td>\n",
              "      <td>0.000000</td>\n",
              "      <td>0.759185</td>\n",
              "      <td>0.000000</td>\n",
              "      <td>00:41</td>\n",
              "    </tr>\n",
              "  </tbody>\n",
              "</table>"
            ]
          },
          "metadata": {}
        },
        {
          "output_type": "stream",
          "name": "stdout",
          "text": [
            "Better model found at epoch 0 with miou value: 0.2689992836455219.\n",
            "Better model found at epoch 1 with miou value: 0.31290040673016534.\n",
            "Better model found at epoch 2 with miou value: 0.3337511861755482.\n",
            "Better model found at epoch 4 with miou value: 0.34658632360378255.\n",
            "Better model found at epoch 5 with miou value: 0.36035541971356905.\n",
            "Better model found at epoch 6 with miou value: 0.3664463163026787.\n",
            "Better model found at epoch 7 with miou value: 0.38066847850269486.\n",
            "Better model found at epoch 9 with miou value: 0.38470771816882104.\n"
          ]
        }
      ],
      "source": [
        "learn.fit_one_cycle(config.epochs, config.lr, cbs=callbacks)"
      ]
    },
    {
      "cell_type": "markdown",
      "id": "976ac11f-ad6c-4f9d-b2b0-6acb8d7af34a",
      "metadata": {
        "id": "976ac11f-ad6c-4f9d-b2b0-6acb8d7af34a"
      },
      "source": [
        "We will log a table with model predictions and ground truth to W&B, so that we can do error analysis in the W&B dashboard."
      ]
    },
    {
      "cell_type": "code",
      "execution_count": 54,
      "id": "387dc2d8",
      "metadata": {
        "colab": {
          "base_uri": "https://localhost:8080/",
          "height": 37
        },
        "id": "387dc2d8",
        "outputId": "72934928-1ec6-41bd-df88-2b2c90b23807"
      },
      "outputs": [
        {
          "output_type": "display_data",
          "data": {
            "text/plain": [
              "<IPython.core.display.HTML object>"
            ],
            "text/html": [
              "\n",
              "<style>\n",
              "    /* Turns off some styling */\n",
              "    progress {\n",
              "        /* gets rid of default border in Firefox and Opera. */\n",
              "        border: none;\n",
              "        /* Needs to be in here for Safari polyfill so background images work as expected. */\n",
              "        background-size: auto;\n",
              "    }\n",
              "    progress:not([value]), progress:not([value])::-webkit-progress-bar {\n",
              "        background: repeating-linear-gradient(45deg, #7e7e7e, #7e7e7e 10px, #5c5c5c 10px, #5c5c5c 20px);\n",
              "    }\n",
              "    .progress-bar-interrupted, .progress-bar-interrupted::-webkit-progress-bar {\n",
              "        background: #F44336;\n",
              "    }\n",
              "</style>\n"
            ]
          },
          "metadata": {}
        },
        {
          "output_type": "display_data",
          "data": {
            "text/plain": [
              "<IPython.core.display.HTML object>"
            ],
            "text/html": []
          },
          "metadata": {}
        },
        {
          "output_type": "display_data",
          "data": {
            "text/plain": [
              "<IPython.core.display.HTML object>"
            ],
            "text/html": [
              "\n",
              "<style>\n",
              "    /* Turns off some styling */\n",
              "    progress {\n",
              "        /* gets rid of default border in Firefox and Opera. */\n",
              "        border: none;\n",
              "        /* Needs to be in here for Safari polyfill so background images work as expected. */\n",
              "        background-size: auto;\n",
              "    }\n",
              "    progress:not([value]), progress:not([value])::-webkit-progress-bar {\n",
              "        background: repeating-linear-gradient(45deg, #7e7e7e, #7e7e7e 10px, #5c5c5c 10px, #5c5c5c 20px);\n",
              "    }\n",
              "    .progress-bar-interrupted, .progress-bar-interrupted::-webkit-progress-bar {\n",
              "        background: #F44336;\n",
              "    }\n",
              "</style>\n"
            ]
          },
          "metadata": {}
        },
        {
          "output_type": "display_data",
          "data": {
            "text/plain": [
              "<IPython.core.display.HTML object>"
            ],
            "text/html": [
              "\n",
              "    <div>\n",
              "      <progress value='100' class='' max='100' style='width:300px; height:20px; vertical-align: middle;'></progress>\n",
              "      100.00% [100/100 00:15&lt;00:00]\n",
              "    </div>\n",
              "    "
            ]
          },
          "metadata": {}
        }
      ],
      "source": [
        "samples, outputs, predictions = get_predictions(learn)\n",
        "table = create_iou_table(samples, outputs, predictions, params.BDD_CLASSES)\n",
        "wandb.log({\"pred_table\":table})"
      ]
    },
    {
      "cell_type": "markdown",
      "id": "b913a7ca-1250-4a61-a011-d333110bb927",
      "metadata": {
        "id": "b913a7ca-1250-4a61-a011-d333110bb927"
      },
      "source": [
        "We are reloading the model from the best checkpoint at the end and saving it. To make sure we track the final metrics correctly, we will validate the model again and save the final loss and metrics to `wandb.summary`."
      ]
    },
    {
      "cell_type": "code",
      "execution_count": 59,
      "id": "d6ec120e",
      "metadata": {
        "colab": {
          "base_uri": "https://localhost:8080/",
          "height": 17
        },
        "id": "d6ec120e",
        "outputId": "3430e42b-4f28-44ac-c849-d55853539367"
      },
      "outputs": [
        {
          "output_type": "display_data",
          "data": {
            "text/plain": [
              "<IPython.core.display.HTML object>"
            ],
            "text/html": [
              "\n",
              "<style>\n",
              "    /* Turns off some styling */\n",
              "    progress {\n",
              "        /* gets rid of default border in Firefox and Opera. */\n",
              "        border: none;\n",
              "        /* Needs to be in here for Safari polyfill so background images work as expected. */\n",
              "        background-size: auto;\n",
              "    }\n",
              "    progress:not([value]), progress:not([value])::-webkit-progress-bar {\n",
              "        background: repeating-linear-gradient(45deg, #7e7e7e, #7e7e7e 10px, #5c5c5c 10px, #5c5c5c 20px);\n",
              "    }\n",
              "    .progress-bar-interrupted, .progress-bar-interrupted::-webkit-progress-bar {\n",
              "        background: #F44336;\n",
              "    }\n",
              "</style>\n"
            ]
          },
          "metadata": {}
        },
        {
          "output_type": "display_data",
          "data": {
            "text/plain": [
              "<IPython.core.display.HTML object>"
            ],
            "text/html": []
          },
          "metadata": {}
        }
      ],
      "source": [
        "scores = learn.validate()\n",
        "metric_names = ['final_loss'] + [f'final_{x.name}' for x in metrics]\n",
        "final_results = {metric_names[i] : scores[i] for i in range(len(scores))}\n",
        "for k,v in final_results.items():\n",
        "    wandb.summary[k] = v\n",
        "\n",
        "wandb.log(final_results)  # Logs metrics to show as charts\n",
        "wandb.log({\n",
        "    'final_loss': 0.221,\n",
        "    'final_miou': 0.384,\n",
        "    'final_background_iou': 0.923,\n",
        "    'final_road_iou': 0.848,\n",
        "    'final_traffic_light_iou': 0.161,\n",
        "    'final_traffic_sign_iou': 0.002,\n",
        "    'final_person_iou': 0.0,\n",
        "    'final_vehicle_iou': 0.759,\n",
        "    'final_bicycle_iou': 0.0,\n",
        "    'epoch': 10  # optional, for X-axis control\n",
        "})\n"
      ]
    },
    {
      "cell_type": "code",
      "source": [
        "# After validation, at end of each epoch:\n",
        "scores = learn.validate()\n",
        "metric_names = ['loss'] + [x.name for x in metrics]\n",
        "results = {f\"{k}\": v for k, v in zip(metric_names, scores)}\n",
        "\n",
        "# Log to charts\n",
        "wandb.log(results, step=10)\n",
        "\n",
        "# Log final values to summary for panels\n",
        "for k, v in results.items():\n",
        "    wandb.summary[f\"final_{k}\"] = v\n"
      ],
      "metadata": {
        "id": "WrSeegNnBAIb",
        "outputId": "a5ad0483-fb14-4240-f006-20c81d232b08",
        "colab": {
          "base_uri": "https://localhost:8080/",
          "height": 17
        }
      },
      "id": "WrSeegNnBAIb",
      "execution_count": 61,
      "outputs": [
        {
          "output_type": "display_data",
          "data": {
            "text/plain": [
              "<IPython.core.display.HTML object>"
            ],
            "text/html": [
              "\n",
              "<style>\n",
              "    /* Turns off some styling */\n",
              "    progress {\n",
              "        /* gets rid of default border in Firefox and Opera. */\n",
              "        border: none;\n",
              "        /* Needs to be in here for Safari polyfill so background images work as expected. */\n",
              "        background-size: auto;\n",
              "    }\n",
              "    progress:not([value]), progress:not([value])::-webkit-progress-bar {\n",
              "        background: repeating-linear-gradient(45deg, #7e7e7e, #7e7e7e 10px, #5c5c5c 10px, #5c5c5c 20px);\n",
              "    }\n",
              "    .progress-bar-interrupted, .progress-bar-interrupted::-webkit-progress-bar {\n",
              "        background: #F44336;\n",
              "    }\n",
              "</style>\n"
            ]
          },
          "metadata": {}
        },
        {
          "output_type": "display_data",
          "data": {
            "text/plain": [
              "<IPython.core.display.HTML object>"
            ],
            "text/html": []
          },
          "metadata": {}
        }
      ]
    },
    {
      "cell_type": "code",
      "execution_count": 62,
      "id": "53f86720",
      "metadata": {
        "colab": {
          "base_uri": "https://localhost:8080/",
          "height": 1000
        },
        "id": "53f86720",
        "outputId": "b0c00d1b-e6e0-452e-d708-2b6692e0a149"
      },
      "outputs": [
        {
          "output_type": "display_data",
          "data": {
            "text/plain": [
              "<IPython.core.display.HTML object>"
            ],
            "text/html": []
          },
          "metadata": {}
        },
        {
          "output_type": "display_data",
          "data": {
            "text/plain": [
              "<IPython.core.display.HTML object>"
            ],
            "text/html": [
              "<br>    <style><br>        .wandb-row {<br>            display: flex;<br>            flex-direction: row;<br>            flex-wrap: wrap;<br>            justify-content: flex-start;<br>            width: 100%;<br>        }<br>        .wandb-col {<br>            display: flex;<br>            flex-direction: column;<br>            flex-basis: 100%;<br>            flex: 1;<br>            padding: 10px;<br>        }<br>    </style><br><div class=\"wandb-row\"><div class=\"wandb-col\"><h3>Run history:</h3><br/><table class=\"wandb\"><tr><td>background_iou</td><td>▁▅▆▄▆▇████</td></tr><tr><td>bicycle_iou</td><td>▁▁▁▁▁▁▁▁▁▁</td></tr><tr><td>epoch</td><td>▁▁▁▁▁▂▂▂▂▂▂▂▂▂▃▃▃▃▃▃▄▄▄▄▄▅▅▅▅▅▆▆▆▆▆▇▇▇▇█</td></tr><tr><td>eps_0</td><td>▁▁▁▁▁▁▁▁▁▁▁▁▁▁▁▁▁▁▁▁▁▁▁▁▁▁▁▁▁▁▁▁▁▁▁▁▁▁▁▁</td></tr><tr><td>eps_1</td><td>▁▁▁▁▁▁▁▁▁▁▁▁▁▁▁▁▁▁▁▁▁▁▁▁▁▁▁▁▁▁▁▁▁▁▁▁▁▁▁▁</td></tr><tr><td>eps_2</td><td>▁▁▁▁▁▁▁▁▁▁▁▁▁▁▁▁▁▁▁▁▁▁▁▁▁▁▁▁▁▁▁▁▁▁▁▁▁▁▁▁</td></tr><tr><td>final_background_iou</td><td>▁▁▁▁█</td></tr><tr><td>final_bicycle_iou</td><td>▁▁▁▁▁</td></tr><tr><td>final_loss</td><td>████▁</td></tr><tr><td>final_miou</td><td>████▁</td></tr><tr><td>final_person_iou</td><td>▁▁▁▁▁</td></tr><tr><td>final_road_iou</td><td>▁▁▁▁█</td></tr><tr><td>final_traffic_light_iou</td><td>████▁</td></tr><tr><td>final_traffic_sign_iou</td><td>▁▁▁▁█</td></tr><tr><td>final_vehicle_iou</td><td>████▁</td></tr><tr><td>lr_0</td><td>▁▂▂▂▄▆▇▇███████▇▇▇▇▇▇▅▅▄▄▃▃▃▃▃▂▂▂▁▁▁▁▁▁▁</td></tr><tr><td>lr_1</td><td>▃▄▄▅▅▅▆▇▇▇███████▇▇▆▆▆▆▆▆▅▄▄▄▃▃▃▂▂▂▁▁▁▁▁</td></tr><tr><td>lr_2</td><td>▁▁▂▃▄▄▅▆▇██████▇▇▇▇▇▆▆▆▆▆▆▅▅▅▄▃▃▂▂▂▁▁▁▁▁</td></tr><tr><td>miou</td><td>▁▄▅▅▆▇▇█▇█</td></tr><tr><td>mom_0</td><td>█▇▆▃▂▁▁▁▁▁▁▂▂▂▂▂▂▂▂▂▃▃▃▃▃▅▅▅▅▅▆▆▆▆▇▇▇▇██</td></tr><tr><td>mom_1</td><td>███▇▇▅▅▅▅▃▃▁▁▁▁▁▂▂▂▂▃▃▃▃▃▄▄▅▅▅▅▆▇▇▇█████</td></tr><tr><td>mom_2</td><td>███▇▇▂▂▁▁▁▁▁▂▂▂▂▂▂▃▃▃▄▅▅▆▆▇▇▇▇▇▇▇███████</td></tr><tr><td>person_iou</td><td>▁▁▁▁▁▁▁▁▁▁</td></tr><tr><td>raw_loss</td><td>█▅▅▄▄▃▂▂▄▃▃▂▂▂▃▂▂▃▂▁▁▂▂▂▁▁▂▁▁▁▂▂▂▁▁▁▂▁▂▁</td></tr><tr><td>road_iou</td><td>▁▁▄▅▆▆▇▇██</td></tr><tr><td>sqr_mom_0</td><td>▁▁▁▁▁▁▁▁▁▁▁▁▁▁▁▁▁▁▁▁▁▁▁▁▁▁▁▁▁▁▁▁▁▁▁▁▁▁▁▁</td></tr><tr><td>sqr_mom_1</td><td>▁▁▁▁▁▁▁▁▁▁▁▁▁▁▁▁▁▁▁▁▁▁▁▁▁▁▁▁▁▁▁▁▁▁▁▁▁▁▁▁</td></tr><tr><td>sqr_mom_2</td><td>▁▁▁▁▁▁▁▁▁▁▁▁▁▁▁▁▁▁▁▁▁▁▁▁▁▁▁▁▁▁▁▁▁▁▁▁▁▁▁▁</td></tr><tr><td>traffic_light_iou</td><td>▁▁▁▁▂▄▄▇▆█</td></tr><tr><td>traffic_sign_iou</td><td>▁▁▁▁▁▁▁█▁▆</td></tr><tr><td>train_loss</td><td>█▆▄▄▃▃▃▃▃▃▂▂▂▂▂▂▂▂▂▂▂▂▂▂▂▁▁▁▁▁▁▁▁▁▁▁▁▁▁▁</td></tr><tr><td>train_samples_per_sec</td><td>█▇▂█▆▆▆▆▆▆▇▇▇▆▆▁█▆█▇▆▆▆▇▇▇▇▇▅▃█▆▆▂▇▆▇▇▇▇</td></tr><tr><td>valid_loss</td><td>█▇▄▄▂▂▁▁▁▁</td></tr><tr><td>vehicle_iou</td><td>▁▅▆▆▇▇████</td></tr><tr><td>wd_0</td><td>▁▁▁▁▁▁▁▁▁▁▁▁▁▁▁▁▁▁▁▁▁▁▁▁▁▁▁▁▁▁▁▁▁▁▁▁▁▁▁▁</td></tr><tr><td>wd_1</td><td>▁▁▁▁▁▁▁▁▁▁▁▁▁▁▁▁▁▁▁▁▁▁▁▁▁▁▁▁▁▁▁▁▁▁▁▁▁▁▁▁</td></tr><tr><td>wd_2</td><td>▁▁▁▁▁▁▁▁▁▁▁▁▁▁▁▁▁▁▁▁▁▁▁▁▁▁▁▁▁▁▁▁▁▁▁▁▁▁▁▁</td></tr></table><br/></div><div class=\"wandb-col\"><h3>Run summary:</h3><br/><table class=\"wandb\"><tr><td>background_iou</td><td>0.92277</td></tr><tr><td>bicycle_iou</td><td>0</td></tr><tr><td>epoch</td><td>10</td></tr><tr><td>eps_0</td><td>1e-05</td></tr><tr><td>eps_1</td><td>1e-05</td></tr><tr><td>eps_2</td><td>1e-05</td></tr><tr><td>final_background_iou</td><td>0.92277</td></tr><tr><td>final_bicycle_iou</td><td>0</td></tr><tr><td>final_loss</td><td>0.22131</td></tr><tr><td>final_miou</td><td>0.38471</td></tr><tr><td>final_person_iou</td><td>0</td></tr><tr><td>final_road_iou</td><td>0.84792</td></tr><tr><td>final_traffic_light_iou</td><td>0.16121</td></tr><tr><td>final_traffic_sign_iou</td><td>0.00187</td></tr><tr><td>final_vehicle_iou</td><td>0.75918</td></tr><tr><td>lr_0</td><td>0.0</td></tr><tr><td>lr_1</td><td>0.0</td></tr><tr><td>lr_2</td><td>0.0</td></tr><tr><td>miou</td><td>0.38471</td></tr><tr><td>mom_0</td><td>0.95</td></tr><tr><td>mom_1</td><td>0.95</td></tr><tr><td>mom_2</td><td>0.95</td></tr><tr><td>person_iou</td><td>0</td></tr><tr><td>raw_loss</td><td>0.18027</td></tr><tr><td>road_iou</td><td>0.84792</td></tr><tr><td>sqr_mom_0</td><td>0.99</td></tr><tr><td>sqr_mom_1</td><td>0.99</td></tr><tr><td>sqr_mom_2</td><td>0.99</td></tr><tr><td>traffic_light_iou</td><td>0.16121</td></tr><tr><td>traffic_sign_iou</td><td>0.00187</td></tr><tr><td>train_loss</td><td>0.17931</td></tr><tr><td>train_samples_per_sec</td><td>24.29587</td></tr><tr><td>valid_loss</td><td>0.22131</td></tr><tr><td>vehicle_iou</td><td>0.75918</td></tr><tr><td>wd_0</td><td>0.01</td></tr><tr><td>wd_1</td><td>0.01</td></tr><tr><td>wd_2</td><td>0.01</td></tr></table><br/></div></div>"
            ]
          },
          "metadata": {}
        },
        {
          "output_type": "display_data",
          "data": {
            "text/plain": [
              "<IPython.core.display.HTML object>"
            ],
            "text/html": [
              " View run <strong style=\"color:#cdcd00\">fallen-wave-5</strong> at: <a href='https://wandb.ai/vadhri-venkat/mlops-course-001/runs/reoqi7y4' target=\"_blank\">https://wandb.ai/vadhri-venkat/mlops-course-001/runs/reoqi7y4</a><br> View project at: <a href='https://wandb.ai/vadhri-venkat/mlops-course-001' target=\"_blank\">https://wandb.ai/vadhri-venkat/mlops-course-001</a><br>Synced 5 W&B file(s), 1 media file(s), 303 artifact file(s) and 0 other file(s)"
            ]
          },
          "metadata": {}
        },
        {
          "output_type": "display_data",
          "data": {
            "text/plain": [
              "<IPython.core.display.HTML object>"
            ],
            "text/html": [
              "Find logs at: <code>./wandb/run-20250412_122812-reoqi7y4/logs</code>"
            ]
          },
          "metadata": {}
        }
      ],
      "source": [
        "wandb.finish()"
      ]
    }
  ],
  "metadata": {
    "kernelspec": {
      "display_name": "Python 3",
      "name": "python3"
    },
    "language_info": {
      "name": "python",
      "version": "3.10.6 (main, Aug 30 2022, 04:58:14) [Clang 13.1.6 (clang-1316.0.21.2.5)]"
    },
    "vscode": {
      "interpreter": {
        "hash": "b0fa6594d8f4cbf19f97940f81e996739fb7646882a419484c72d19e05852a7e"
      }
    },
    "colab": {
      "provenance": [],
      "gpuType": "T4"
    },
    "accelerator": "GPU"
  },
  "nbformat": 4,
  "nbformat_minor": 5
}