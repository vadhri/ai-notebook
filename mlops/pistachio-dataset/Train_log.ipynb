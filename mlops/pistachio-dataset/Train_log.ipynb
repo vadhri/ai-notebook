{
  "nbformat": 4,
  "nbformat_minor": 0,
  "metadata": {
    "colab": {
      "provenance": [],
      "gpuType": "T4",
      "authorship_tag": "ABX9TyO1EFq5YymdyQ25J6Ibe81+",
      "include_colab_link": true
    },
    "kernelspec": {
      "name": "python3",
      "display_name": "Python 3"
    },
    "language_info": {
      "name": "python"
    },
    "accelerator": "GPU"
  },
  "cells": [
    {
      "cell_type": "markdown",
      "metadata": {
        "id": "view-in-github",
        "colab_type": "text"
      },
      "source": [
        "<a href=\"https://colab.research.google.com/github/vadhri/ai-notebook/blob/main/mlops/pistachio-dataset/Train_log.ipynb\" target=\"_parent\"><img src=\"https://colab.research.google.com/assets/colab-badge.svg\" alt=\"Open In Colab\"/></a>"
      ]
    },
    {
      "cell_type": "code",
      "source": [
        "# !wget https://raw.githubusercontent.com/wandb/edu/main/mlops-001/lesson1/requirements.txt\n",
        "# !wget https://raw.githubusercontent.com/wandb/edu/main/mlops-001/lesson1/params.py\n",
        "# !wget https://raw.githubusercontent.com/wandb/edu/main/mlops-001/lesson1/utils.py\n",
        "# !pip install -qr requirements.txt\n",
        "\n",
        "# from fastai.vision.all import *\n",
        "# import params\n",
        "import wandb\n"
      ],
      "metadata": {
        "id": "OEouDBh86NfB"
      },
      "execution_count": 6,
      "outputs": []
    },
    {
      "cell_type": "code",
      "source": [
        "from zipfile import ZipFile\n",
        "import pandas as pd\n",
        "from scipy.io import arff\n",
        "\n"
      ],
      "metadata": {
        "id": "sLdC4FL1848H"
      },
      "execution_count": 7,
      "outputs": []
    },
    {
      "cell_type": "code",
      "execution_count": 8,
      "metadata": {
        "colab": {
          "base_uri": "https://localhost:8080/"
        },
        "id": "Aj2Hi5zC438J",
        "outputId": "21ff67cf-d764-4d8d-ced8-6ea508fa368f"
      },
      "outputs": [
        {
          "output_type": "stream",
          "name": "stdout",
          "text": [
            "Drive already mounted at /content/gdrive; to attempt to forcibly remount, call drive.mount(\"/content/gdrive\", force_remount=True).\n"
          ]
        }
      ],
      "source": [
        "from google.colab import drive\n",
        "drive.mount('/content/gdrive')"
      ]
    },
    {
      "cell_type": "code",
      "source": [
        "# unzip the dataset,\n",
        "!ls -larth /content/gdrive/MyDrive/Pistachio_Image_Dataset.zip\n",
        "local_zip = '/content/gdrive/MyDrive/Pistachio_Image_Dataset.zip'\n",
        "from fastai.vision.all import *"
      ],
      "metadata": {
        "colab": {
          "base_uri": "https://localhost:8080/"
        },
        "id": "ORNKyCgq5yzN",
        "outputId": "6c3dab41-9cc3-49b9-bd6f-a8f8faeb584d"
      },
      "execution_count": 12,
      "outputs": [
        {
          "output_type": "stream",
          "name": "stdout",
          "text": [
            "-rw------- 1 root root 27M Apr 13 02:04 /content/gdrive/MyDrive/Pistachio_Image_Dataset.zip\n"
          ]
        }
      ]
    },
    {
      "cell_type": "markdown",
      "source": [
        "# Data visualization and upload\n"
      ],
      "metadata": {
        "id": "Wfc47wPjh88k"
      }
    },
    {
      "cell_type": "code",
      "source": [
        "local_zip = Path('/content/gdrive/MyDrive/Pistachio_Image_Dataset.zip')\n",
        "path = Path('/content/dataset')\n",
        "\n",
        "if not path.exists():\n",
        "    with ZipFile(local_zip, 'r') as zip_ref:\n",
        "        zip_ref.extractall(path)\n",
        "\n",
        "for item in path.ls()[0].ls():\n",
        "  print (item)"
      ],
      "metadata": {
        "colab": {
          "base_uri": "https://localhost:8080/"
        },
        "id": "5R8ejgGf6uGO",
        "outputId": "0df84ebb-4e1b-4f5d-fd7d-7c268dc818bd"
      },
      "execution_count": 14,
      "outputs": [
        {
          "output_type": "stream",
          "name": "stdout",
          "text": [
            "/content/dataset/Pistachio_Image_Dataset/Pistachio_28_Features_Dataset\n",
            "/content/dataset/Pistachio_Image_Dataset/Pistachio_Image_Dataset_Request.txt\n",
            "/content/dataset/Pistachio_Image_Dataset/Pistachio_Image_Dataset\n",
            "/content/dataset/Pistachio_Image_Dataset/Pistachio_16_Features_Dataset\n"
          ]
        }
      ]
    },
    {
      "cell_type": "code",
      "source": [
        "ds_base_path = '/content/dataset/Pistachio_Image_Dataset/'\n",
        "arff_path = ds_base_path + 'Pistachio_16_Features_Dataset/Pistachio_16_Features_Dataset.arff'\n",
        "\n",
        "print (f\"\\nBase path = {ds_base_path} \\n \")\n",
        "print (f\"ARFF path = {arff_path} \\n \")\n",
        "\n",
        "arff_file = arff.loadarff(arff_path)\n",
        "df = pd.DataFrame(arff_file[0])\n",
        "df.head()\n"
      ],
      "metadata": {
        "colab": {
          "base_uri": "https://localhost:8080/",
          "height": 313
        },
        "id": "44c5-kME66Ao",
        "outputId": "f8f52d63-d096-453a-83fd-5610bf79d540"
      },
      "execution_count": 15,
      "outputs": [
        {
          "output_type": "stream",
          "name": "stdout",
          "text": [
            "\n",
            "Base path = /content/dataset/Pistachio_Image_Dataset/ \n",
            " \n",
            "ARFF path = /content/dataset/Pistachio_Image_Dataset/Pistachio_16_Features_Dataset/Pistachio_16_Features_Dataset.arff \n",
            " \n"
          ]
        },
        {
          "output_type": "execute_result",
          "data": {
            "text/plain": [
              "      AREA  PERIMETER  MAJOR_AXIS  MINOR_AXIS  ECCENTRICITY   EQDIASQ  \\\n",
              "0  63391.0   1568.405    390.3396    236.7461        0.7951  284.0984   \n",
              "1  68358.0   1942.187    410.8594    234.7525        0.8207  295.0188   \n",
              "2  73589.0   1246.538    452.3630    220.5547        0.8731  306.0987   \n",
              "3  71106.0   1445.261    429.5291    216.0765        0.8643  300.8903   \n",
              "4  80087.0   1251.524    469.3783    220.9344        0.8823  319.3273   \n",
              "\n",
              "   SOLIDITY  CONVEX_AREA  EXTENT  ASPECT_RATIO  ROUNDNESS  COMPACTNESS  \\\n",
              "0    0.8665      73160.0  0.6394        1.6488     0.3238       0.7278   \n",
              "1    0.8765      77991.0  0.6772        1.7502     0.2277       0.7181   \n",
              "2    0.9172      80234.0  0.7127        2.0510     0.5951       0.6767   \n",
              "3    0.9589      74153.0  0.7028        1.9879     0.4278       0.7005   \n",
              "4    0.9657      82929.0  0.7459        2.1245     0.6425       0.6803   \n",
              "\n",
              "   SHAPEFACTOR_1  SHAPEFACTOR_2  SHAPEFACTOR_3  SHAPEFACTOR_4  \\\n",
              "0         0.0062         0.0037         0.5297         0.8734   \n",
              "1         0.0060         0.0034         0.5156         0.9024   \n",
              "2         0.0061         0.0030         0.4579         0.9391   \n",
              "3         0.0060         0.0030         0.4907         0.9755   \n",
              "4         0.0059         0.0028         0.4628         0.9833   \n",
              "\n",
              "                  Class  \n",
              "0  b'Kirmizi_Pistachio'  \n",
              "1  b'Kirmizi_Pistachio'  \n",
              "2  b'Kirmizi_Pistachio'  \n",
              "3  b'Kirmizi_Pistachio'  \n",
              "4  b'Kirmizi_Pistachio'  "
            ],
            "text/html": [
              "\n",
              "  <div id=\"df-9d63750f-9fa0-4c29-ac36-0642ee8ab689\" class=\"colab-df-container\">\n",
              "    <div>\n",
              "<style scoped>\n",
              "    .dataframe tbody tr th:only-of-type {\n",
              "        vertical-align: middle;\n",
              "    }\n",
              "\n",
              "    .dataframe tbody tr th {\n",
              "        vertical-align: top;\n",
              "    }\n",
              "\n",
              "    .dataframe thead th {\n",
              "        text-align: right;\n",
              "    }\n",
              "</style>\n",
              "<table border=\"1\" class=\"dataframe\">\n",
              "  <thead>\n",
              "    <tr style=\"text-align: right;\">\n",
              "      <th></th>\n",
              "      <th>AREA</th>\n",
              "      <th>PERIMETER</th>\n",
              "      <th>MAJOR_AXIS</th>\n",
              "      <th>MINOR_AXIS</th>\n",
              "      <th>ECCENTRICITY</th>\n",
              "      <th>EQDIASQ</th>\n",
              "      <th>SOLIDITY</th>\n",
              "      <th>CONVEX_AREA</th>\n",
              "      <th>EXTENT</th>\n",
              "      <th>ASPECT_RATIO</th>\n",
              "      <th>ROUNDNESS</th>\n",
              "      <th>COMPACTNESS</th>\n",
              "      <th>SHAPEFACTOR_1</th>\n",
              "      <th>SHAPEFACTOR_2</th>\n",
              "      <th>SHAPEFACTOR_3</th>\n",
              "      <th>SHAPEFACTOR_4</th>\n",
              "      <th>Class</th>\n",
              "    </tr>\n",
              "  </thead>\n",
              "  <tbody>\n",
              "    <tr>\n",
              "      <th>0</th>\n",
              "      <td>63391.0</td>\n",
              "      <td>1568.405</td>\n",
              "      <td>390.3396</td>\n",
              "      <td>236.7461</td>\n",
              "      <td>0.7951</td>\n",
              "      <td>284.0984</td>\n",
              "      <td>0.8665</td>\n",
              "      <td>73160.0</td>\n",
              "      <td>0.6394</td>\n",
              "      <td>1.6488</td>\n",
              "      <td>0.3238</td>\n",
              "      <td>0.7278</td>\n",
              "      <td>0.0062</td>\n",
              "      <td>0.0037</td>\n",
              "      <td>0.5297</td>\n",
              "      <td>0.8734</td>\n",
              "      <td>b'Kirmizi_Pistachio'</td>\n",
              "    </tr>\n",
              "    <tr>\n",
              "      <th>1</th>\n",
              "      <td>68358.0</td>\n",
              "      <td>1942.187</td>\n",
              "      <td>410.8594</td>\n",
              "      <td>234.7525</td>\n",
              "      <td>0.8207</td>\n",
              "      <td>295.0188</td>\n",
              "      <td>0.8765</td>\n",
              "      <td>77991.0</td>\n",
              "      <td>0.6772</td>\n",
              "      <td>1.7502</td>\n",
              "      <td>0.2277</td>\n",
              "      <td>0.7181</td>\n",
              "      <td>0.0060</td>\n",
              "      <td>0.0034</td>\n",
              "      <td>0.5156</td>\n",
              "      <td>0.9024</td>\n",
              "      <td>b'Kirmizi_Pistachio'</td>\n",
              "    </tr>\n",
              "    <tr>\n",
              "      <th>2</th>\n",
              "      <td>73589.0</td>\n",
              "      <td>1246.538</td>\n",
              "      <td>452.3630</td>\n",
              "      <td>220.5547</td>\n",
              "      <td>0.8731</td>\n",
              "      <td>306.0987</td>\n",
              "      <td>0.9172</td>\n",
              "      <td>80234.0</td>\n",
              "      <td>0.7127</td>\n",
              "      <td>2.0510</td>\n",
              "      <td>0.5951</td>\n",
              "      <td>0.6767</td>\n",
              "      <td>0.0061</td>\n",
              "      <td>0.0030</td>\n",
              "      <td>0.4579</td>\n",
              "      <td>0.9391</td>\n",
              "      <td>b'Kirmizi_Pistachio'</td>\n",
              "    </tr>\n",
              "    <tr>\n",
              "      <th>3</th>\n",
              "      <td>71106.0</td>\n",
              "      <td>1445.261</td>\n",
              "      <td>429.5291</td>\n",
              "      <td>216.0765</td>\n",
              "      <td>0.8643</td>\n",
              "      <td>300.8903</td>\n",
              "      <td>0.9589</td>\n",
              "      <td>74153.0</td>\n",
              "      <td>0.7028</td>\n",
              "      <td>1.9879</td>\n",
              "      <td>0.4278</td>\n",
              "      <td>0.7005</td>\n",
              "      <td>0.0060</td>\n",
              "      <td>0.0030</td>\n",
              "      <td>0.4907</td>\n",
              "      <td>0.9755</td>\n",
              "      <td>b'Kirmizi_Pistachio'</td>\n",
              "    </tr>\n",
              "    <tr>\n",
              "      <th>4</th>\n",
              "      <td>80087.0</td>\n",
              "      <td>1251.524</td>\n",
              "      <td>469.3783</td>\n",
              "      <td>220.9344</td>\n",
              "      <td>0.8823</td>\n",
              "      <td>319.3273</td>\n",
              "      <td>0.9657</td>\n",
              "      <td>82929.0</td>\n",
              "      <td>0.7459</td>\n",
              "      <td>2.1245</td>\n",
              "      <td>0.6425</td>\n",
              "      <td>0.6803</td>\n",
              "      <td>0.0059</td>\n",
              "      <td>0.0028</td>\n",
              "      <td>0.4628</td>\n",
              "      <td>0.9833</td>\n",
              "      <td>b'Kirmizi_Pistachio'</td>\n",
              "    </tr>\n",
              "  </tbody>\n",
              "</table>\n",
              "</div>\n",
              "    <div class=\"colab-df-buttons\">\n",
              "\n",
              "  <div class=\"colab-df-container\">\n",
              "    <button class=\"colab-df-convert\" onclick=\"convertToInteractive('df-9d63750f-9fa0-4c29-ac36-0642ee8ab689')\"\n",
              "            title=\"Convert this dataframe to an interactive table.\"\n",
              "            style=\"display:none;\">\n",
              "\n",
              "  <svg xmlns=\"http://www.w3.org/2000/svg\" height=\"24px\" viewBox=\"0 -960 960 960\">\n",
              "    <path d=\"M120-120v-720h720v720H120Zm60-500h600v-160H180v160Zm220 220h160v-160H400v160Zm0 220h160v-160H400v160ZM180-400h160v-160H180v160Zm440 0h160v-160H620v160ZM180-180h160v-160H180v160Zm440 0h160v-160H620v160Z\"/>\n",
              "  </svg>\n",
              "    </button>\n",
              "\n",
              "  <style>\n",
              "    .colab-df-container {\n",
              "      display:flex;\n",
              "      gap: 12px;\n",
              "    }\n",
              "\n",
              "    .colab-df-convert {\n",
              "      background-color: #E8F0FE;\n",
              "      border: none;\n",
              "      border-radius: 50%;\n",
              "      cursor: pointer;\n",
              "      display: none;\n",
              "      fill: #1967D2;\n",
              "      height: 32px;\n",
              "      padding: 0 0 0 0;\n",
              "      width: 32px;\n",
              "    }\n",
              "\n",
              "    .colab-df-convert:hover {\n",
              "      background-color: #E2EBFA;\n",
              "      box-shadow: 0px 1px 2px rgba(60, 64, 67, 0.3), 0px 1px 3px 1px rgba(60, 64, 67, 0.15);\n",
              "      fill: #174EA6;\n",
              "    }\n",
              "\n",
              "    .colab-df-buttons div {\n",
              "      margin-bottom: 4px;\n",
              "    }\n",
              "\n",
              "    [theme=dark] .colab-df-convert {\n",
              "      background-color: #3B4455;\n",
              "      fill: #D2E3FC;\n",
              "    }\n",
              "\n",
              "    [theme=dark] .colab-df-convert:hover {\n",
              "      background-color: #434B5C;\n",
              "      box-shadow: 0px 1px 3px 1px rgba(0, 0, 0, 0.15);\n",
              "      filter: drop-shadow(0px 1px 2px rgba(0, 0, 0, 0.3));\n",
              "      fill: #FFFFFF;\n",
              "    }\n",
              "  </style>\n",
              "\n",
              "    <script>\n",
              "      const buttonEl =\n",
              "        document.querySelector('#df-9d63750f-9fa0-4c29-ac36-0642ee8ab689 button.colab-df-convert');\n",
              "      buttonEl.style.display =\n",
              "        google.colab.kernel.accessAllowed ? 'block' : 'none';\n",
              "\n",
              "      async function convertToInteractive(key) {\n",
              "        const element = document.querySelector('#df-9d63750f-9fa0-4c29-ac36-0642ee8ab689');\n",
              "        const dataTable =\n",
              "          await google.colab.kernel.invokeFunction('convertToInteractive',\n",
              "                                                    [key], {});\n",
              "        if (!dataTable) return;\n",
              "\n",
              "        const docLinkHtml = 'Like what you see? Visit the ' +\n",
              "          '<a target=\"_blank\" href=https://colab.research.google.com/notebooks/data_table.ipynb>data table notebook</a>'\n",
              "          + ' to learn more about interactive tables.';\n",
              "        element.innerHTML = '';\n",
              "        dataTable['output_type'] = 'display_data';\n",
              "        await google.colab.output.renderOutput(dataTable, element);\n",
              "        const docLink = document.createElement('div');\n",
              "        docLink.innerHTML = docLinkHtml;\n",
              "        element.appendChild(docLink);\n",
              "      }\n",
              "    </script>\n",
              "  </div>\n",
              "\n",
              "\n",
              "<div id=\"df-f414dbb9-754f-474f-9860-aa26abe05367\">\n",
              "  <button class=\"colab-df-quickchart\" onclick=\"quickchart('df-f414dbb9-754f-474f-9860-aa26abe05367')\"\n",
              "            title=\"Suggest charts\"\n",
              "            style=\"display:none;\">\n",
              "\n",
              "<svg xmlns=\"http://www.w3.org/2000/svg\" height=\"24px\"viewBox=\"0 0 24 24\"\n",
              "     width=\"24px\">\n",
              "    <g>\n",
              "        <path d=\"M19 3H5c-1.1 0-2 .9-2 2v14c0 1.1.9 2 2 2h14c1.1 0 2-.9 2-2V5c0-1.1-.9-2-2-2zM9 17H7v-7h2v7zm4 0h-2V7h2v10zm4 0h-2v-4h2v4z\"/>\n",
              "    </g>\n",
              "</svg>\n",
              "  </button>\n",
              "\n",
              "<style>\n",
              "  .colab-df-quickchart {\n",
              "      --bg-color: #E8F0FE;\n",
              "      --fill-color: #1967D2;\n",
              "      --hover-bg-color: #E2EBFA;\n",
              "      --hover-fill-color: #174EA6;\n",
              "      --disabled-fill-color: #AAA;\n",
              "      --disabled-bg-color: #DDD;\n",
              "  }\n",
              "\n",
              "  [theme=dark] .colab-df-quickchart {\n",
              "      --bg-color: #3B4455;\n",
              "      --fill-color: #D2E3FC;\n",
              "      --hover-bg-color: #434B5C;\n",
              "      --hover-fill-color: #FFFFFF;\n",
              "      --disabled-bg-color: #3B4455;\n",
              "      --disabled-fill-color: #666;\n",
              "  }\n",
              "\n",
              "  .colab-df-quickchart {\n",
              "    background-color: var(--bg-color);\n",
              "    border: none;\n",
              "    border-radius: 50%;\n",
              "    cursor: pointer;\n",
              "    display: none;\n",
              "    fill: var(--fill-color);\n",
              "    height: 32px;\n",
              "    padding: 0;\n",
              "    width: 32px;\n",
              "  }\n",
              "\n",
              "  .colab-df-quickchart:hover {\n",
              "    background-color: var(--hover-bg-color);\n",
              "    box-shadow: 0 1px 2px rgba(60, 64, 67, 0.3), 0 1px 3px 1px rgba(60, 64, 67, 0.15);\n",
              "    fill: var(--button-hover-fill-color);\n",
              "  }\n",
              "\n",
              "  .colab-df-quickchart-complete:disabled,\n",
              "  .colab-df-quickchart-complete:disabled:hover {\n",
              "    background-color: var(--disabled-bg-color);\n",
              "    fill: var(--disabled-fill-color);\n",
              "    box-shadow: none;\n",
              "  }\n",
              "\n",
              "  .colab-df-spinner {\n",
              "    border: 2px solid var(--fill-color);\n",
              "    border-color: transparent;\n",
              "    border-bottom-color: var(--fill-color);\n",
              "    animation:\n",
              "      spin 1s steps(1) infinite;\n",
              "  }\n",
              "\n",
              "  @keyframes spin {\n",
              "    0% {\n",
              "      border-color: transparent;\n",
              "      border-bottom-color: var(--fill-color);\n",
              "      border-left-color: var(--fill-color);\n",
              "    }\n",
              "    20% {\n",
              "      border-color: transparent;\n",
              "      border-left-color: var(--fill-color);\n",
              "      border-top-color: var(--fill-color);\n",
              "    }\n",
              "    30% {\n",
              "      border-color: transparent;\n",
              "      border-left-color: var(--fill-color);\n",
              "      border-top-color: var(--fill-color);\n",
              "      border-right-color: var(--fill-color);\n",
              "    }\n",
              "    40% {\n",
              "      border-color: transparent;\n",
              "      border-right-color: var(--fill-color);\n",
              "      border-top-color: var(--fill-color);\n",
              "    }\n",
              "    60% {\n",
              "      border-color: transparent;\n",
              "      border-right-color: var(--fill-color);\n",
              "    }\n",
              "    80% {\n",
              "      border-color: transparent;\n",
              "      border-right-color: var(--fill-color);\n",
              "      border-bottom-color: var(--fill-color);\n",
              "    }\n",
              "    90% {\n",
              "      border-color: transparent;\n",
              "      border-bottom-color: var(--fill-color);\n",
              "    }\n",
              "  }\n",
              "</style>\n",
              "\n",
              "  <script>\n",
              "    async function quickchart(key) {\n",
              "      const quickchartButtonEl =\n",
              "        document.querySelector('#' + key + ' button');\n",
              "      quickchartButtonEl.disabled = true;  // To prevent multiple clicks.\n",
              "      quickchartButtonEl.classList.add('colab-df-spinner');\n",
              "      try {\n",
              "        const charts = await google.colab.kernel.invokeFunction(\n",
              "            'suggestCharts', [key], {});\n",
              "      } catch (error) {\n",
              "        console.error('Error during call to suggestCharts:', error);\n",
              "      }\n",
              "      quickchartButtonEl.classList.remove('colab-df-spinner');\n",
              "      quickchartButtonEl.classList.add('colab-df-quickchart-complete');\n",
              "    }\n",
              "    (() => {\n",
              "      let quickchartButtonEl =\n",
              "        document.querySelector('#df-f414dbb9-754f-474f-9860-aa26abe05367 button');\n",
              "      quickchartButtonEl.style.display =\n",
              "        google.colab.kernel.accessAllowed ? 'block' : 'none';\n",
              "    })();\n",
              "  </script>\n",
              "</div>\n",
              "\n",
              "    </div>\n",
              "  </div>\n"
            ],
            "application/vnd.google.colaboratory.intrinsic+json": {
              "type": "dataframe",
              "variable_name": "df",
              "summary": "{\n  \"name\": \"df\",\n  \"rows\": 2148,\n  \"fields\": [\n    {\n      \"column\": \"AREA\",\n      \"properties\": {\n        \"dtype\": \"number\",\n        \"std\": 13121.73779890054,\n        \"min\": 29808.0,\n        \"max\": 124008.0,\n        \"num_unique_values\": 2101,\n        \"samples\": [\n          97590.0,\n          103994.0,\n          72913.0\n        ],\n        \"semantic_type\": \"\",\n        \"description\": \"\"\n      }\n    },\n    {\n      \"column\": \"PERIMETER\",\n      \"properties\": {\n        \"dtype\": \"number\",\n        \"std\": 375.56550345439894,\n        \"min\": 858.363,\n        \"max\": 2755.0491,\n        \"num_unique_values\": 2144,\n        \"samples\": [\n          2138.689,\n          1129.559,\n          1180.433\n        ],\n        \"semantic_type\": \"\",\n        \"description\": \"\"\n      }\n    },\n    {\n      \"column\": \"MAJOR_AXIS\",\n      \"properties\": {\n        \"dtype\": \"number\",\n        \"std\": 32.445303508178796,\n        \"min\": 320.3445,\n        \"max\": 541.9661,\n        \"num_unique_values\": 2143,\n        \"samples\": [\n          458.5762,\n          336.944,\n          509.9047\n        ],\n        \"semantic_type\": \"\",\n        \"description\": \"\"\n      }\n    },\n    {\n      \"column\": \"MINOR_AXIS\",\n      \"properties\": {\n        \"dtype\": \"number\",\n        \"std\": 30.310695396739984,\n        \"min\": 133.5096,\n        \"max\": 383.0461,\n        \"num_unique_values\": 2147,\n        \"samples\": [\n          261.1837,\n          335.8377,\n          231.4328\n        ],\n        \"semantic_type\": \"\",\n        \"description\": \"\"\n      }\n    },\n    {\n      \"column\": \"ECCENTRICITY\",\n      \"properties\": {\n        \"dtype\": \"number\",\n        \"std\": 0.048758957264750165,\n        \"min\": 0.5049,\n        \"max\": 0.946,\n        \"num_unique_values\": 1172,\n        \"samples\": [\n          0.855,\n          0.8627,\n          0.8585\n        ],\n        \"semantic_type\": \"\",\n        \"description\": \"\"\n      }\n    },\n    {\n      \"column\": \"EQDIASQ\",\n      \"properties\": {\n        \"dtype\": \"number\",\n        \"std\": 26.90860002379475,\n        \"min\": 194.8146,\n        \"max\": 397.3561,\n        \"num_unique_values\": 2101,\n        \"samples\": [\n          352.4989,\n          363.8809,\n          304.6895\n        ],\n        \"semantic_type\": \"\",\n        \"description\": \"\"\n      }\n    },\n    {\n      \"column\": \"SOLIDITY\",\n      \"properties\": {\n        \"dtype\": \"number\",\n        \"std\": 0.05045218484942025,\n        \"min\": 0.588,\n        \"max\": 0.9951,\n        \"num_unique_values\": 1070,\n        \"samples\": [\n          0.89,\n          0.9139,\n          0.9895\n        ],\n        \"semantic_type\": \"\",\n        \"description\": \"\"\n      }\n    },\n    {\n      \"column\": \"CONVEX_AREA\",\n      \"properties\": {\n        \"dtype\": \"number\",\n        \"std\": 13154.91932656929,\n        \"min\": 37935.0,\n        \"max\": 132478.0,\n        \"num_unique_values\": 2102,\n        \"samples\": [\n          87669.0,\n          94682.0,\n          76523.0\n        ],\n        \"semantic_type\": \"\",\n        \"description\": \"\"\n      }\n    },\n    {\n      \"column\": \"EXTENT\",\n      \"properties\": {\n        \"dtype\": \"number\",\n        \"std\": 0.05253229423461956,\n        \"min\": 0.4272,\n        \"max\": 0.8204,\n        \"num_unique_values\": 1222,\n        \"samples\": [\n          0.7662,\n          0.6922,\n          0.7454\n        ],\n        \"semantic_type\": \"\",\n        \"description\": \"\"\n      }\n    },\n    {\n      \"column\": \"ASPECT_RATIO\",\n      \"properties\": {\n        \"dtype\": \"number\",\n        \"std\": 0.24010025581296487,\n        \"min\": 1.1585,\n        \"max\": 3.0858,\n        \"num_unique_values\": 1922,\n        \"samples\": [\n          1.6521,\n          1.9963,\n          2.0112\n        ],\n        \"semantic_type\": \"\",\n        \"description\": \"\"\n      }\n    },\n    {\n      \"column\": \"ROUNDNESS\",\n      \"properties\": {\n        \"dtype\": \"number\",\n        \"std\": 0.21275974294227137,\n        \"min\": 0.0628,\n        \"max\": 0.9336,\n        \"num_unique_values\": 1789,\n        \"samples\": [\n          0.1827,\n          0.2723,\n          0.3997\n        ],\n        \"semantic_type\": \"\",\n        \"description\": \"\"\n      }\n    },\n    {\n      \"column\": \"COMPACTNESS\",\n      \"properties\": {\n        \"dtype\": \"number\",\n        \"std\": 0.04454714349125852,\n        \"min\": 0.476,\n        \"max\": 0.8779,\n        \"num_unique_values\": 1187,\n        \"samples\": [\n          0.6927,\n          0.7713,\n          0.7134\n        ],\n        \"semantic_type\": \"\",\n        \"description\": \"\"\n      }\n    },\n    {\n      \"column\": \"SHAPEFACTOR_1\",\n      \"properties\": {\n        \"dtype\": \"number\",\n        \"std\": 0.000817253003312335,\n        \"min\": 0.004,\n        \"max\": 0.0131,\n        \"num_unique_values\": 58,\n        \"samples\": [\n          0.0062,\n          0.0054,\n          0.0096\n        ],\n        \"semantic_type\": \"\",\n        \"description\": \"\"\n      }\n    },\n    {\n      \"column\": \"SHAPEFACTOR_2\",\n      \"properties\": {\n        \"dtype\": \"number\",\n        \"std\": 0.00033976902710538436,\n        \"min\": 0.0024,\n        \"max\": 0.0053,\n        \"num_unique_values\": 28,\n        \"samples\": [\n          0.0029,\n          0.0045,\n          0.0032\n        ],\n        \"semantic_type\": \"\",\n        \"description\": \"\"\n      }\n    },\n    {\n      \"column\": \"SHAPEFACTOR_3\",\n      \"properties\": {\n        \"dtype\": \"number\",\n        \"std\": 0.06394198264088032,\n        \"min\": 0.2266,\n        \"max\": 0.7706,\n        \"num_unique_values\": 1379,\n        \"samples\": [\n          0.4441,\n          0.5227,\n          0.505\n        ],\n        \"semantic_type\": \"\",\n        \"description\": \"\"\n      }\n    },\n    {\n      \"column\": \"SHAPEFACTOR_4\",\n      \"properties\": {\n        \"dtype\": \"number\",\n        \"std\": 0.051840480731986036,\n        \"min\": 0.6204,\n        \"max\": 0.999,\n        \"num_unique_values\": 928,\n        \"samples\": [\n          0.9809,\n          0.9875,\n          0.9805\n        ],\n        \"semantic_type\": \"\",\n        \"description\": \"\"\n      }\n    },\n    {\n      \"column\": \"Class\",\n      \"properties\": {\n        \"dtype\": \"category\",\n        \"num_unique_values\": 2,\n        \"samples\": [\n          \"b'Siit_Pistachio'\",\n          \"b'Kirmizi_Pistachio'\"\n        ],\n        \"semantic_type\": \"\",\n        \"description\": \"\"\n      }\n    }\n  ]\n}"
            }
          },
          "metadata": {},
          "execution_count": 15
        }
      ]
    },
    {
      "cell_type": "code",
      "source": [
        "class1_path = os.path.join(ds_base_path, 'Pistachio_Image_Dataset/Kirmizi_Pistachio/')\n",
        "class2_path = os.path.join(ds_base_path, 'Pistachio_Image_Dataset/Siirt_Pistachio/')\n",
        "\n",
        "# Get all image file paths for each class\n",
        "class1_images = [os.path.join(class1_path, f\"kirmizi {i}.jpg\") for i in range(1, 1233)]  # 1232 images in Kirmizi_Pistachio\n",
        "class2_images = [os.path.join(class2_path, f\"siirt {i}.jpg\") for i in range(1, 917)]  # 916 images in Siirt_Pistachio\n",
        "\n",
        "# Combine the image paths for both classes\n",
        "image_paths = class1_images + class2_images\n",
        "\n",
        "# Assuming the order in the DataFrame corresponds directly to the image order\n",
        "df['image_paths'] = image_paths\n",
        "\n",
        "# Check if the first image exists\n",
        "print(f\"Checking image path: {class1_images[0]}\")\n",
        "print(f\"Checking image path: {class2_images[0]}\")"
      ],
      "metadata": {
        "colab": {
          "base_uri": "https://localhost:8080/"
        },
        "id": "xQJ_Ry6T-DOi",
        "outputId": "4fe36c00-935e-4c6c-9f2b-a4f6ea475ff5"
      },
      "execution_count": 16,
      "outputs": [
        {
          "output_type": "stream",
          "name": "stdout",
          "text": [
            "Checking image path: /content/dataset/Pistachio_Image_Dataset/Pistachio_Image_Dataset/Kirmizi_Pistachio/kirmizi 1.jpg\n",
            "Checking image path: /content/dataset/Pistachio_Image_Dataset/Pistachio_Image_Dataset/Siirt_Pistachio/siirt 1.jpg\n"
          ]
        }
      ]
    },
    {
      "cell_type": "code",
      "source": [
        "import matplotlib.pyplot as plt\n",
        "import matplotlib.image as mpimg\n",
        "\n",
        "# Function to display images\n",
        "def display_images(image_paths, title):\n",
        "    plt.figure(figsize=(10, 7))\n",
        "    for i, image_path in enumerate(image_paths[:5]):\n",
        "        img = mpimg.imread(image_path)\n",
        "        plt.subplot(1, 5, i + 1)\n",
        "        plt.imshow(img)\n",
        "        plt.title(f\"{title}-{i+1}\")\n",
        "        plt.axis('off')\n",
        "    plt.show()\n",
        "\n",
        "\n",
        "# Display 5 sample images from each class\n",
        "display_images(class1_images, \"Kirmizi Pistachio\")\n",
        "display_images(class2_images, \"Siirt Pistachio\")\n"
      ],
      "metadata": {
        "colab": {
          "base_uri": "https://localhost:8080/",
          "height": 367
        },
        "id": "bbHxrk_1AMeO",
        "outputId": "c53d4bfd-84a9-4406-e49a-fd65d73c3dd6"
      },
      "execution_count": 17,
      "outputs": [
        {
          "output_type": "display_data",
          "data": {
            "text/plain": [
              "<Figure size 1000x700 with 5 Axes>"
            ],
            "image/png": "[encoded data removed]"
          },
          "metadata": {}
        },
        {
          "output_type": "display_data",
          "data": {
            "text/plain": [
              "<Figure size 1000x700 with 5 Axes>"
            ],
            "image/png": "[encoded data removed]"
          },
          "metadata": {}
        }
      ]
    },
    {
      "cell_type": "code",
      "source": [
        "run = wandb.init(project='pistachio-classification', entity=None, job_type=\"upload\")\n",
        "raw_data_at = wandb.Artifact(\"pistachio-image-classification\", type=\"raw_data\")\n"
      ],
      "metadata": {
        "colab": {
          "base_uri": "https://localhost:8080/",
          "height": 277
        },
        "id": "X6KRwctZAk_N",
        "outputId": "9bd81583-d971-4907-abd3-bfe8180310e7"
      },
      "execution_count": 18,
      "outputs": [
        {
          "output_type": "stream",
          "name": "stderr",
          "text": [
            "\u001b[34m\u001b[1mwandb\u001b[0m: Using wandb-core as the SDK backend.  Please refer to https://wandb.me/wandb-core for more information.\n"
          ]
        },
        {
          "output_type": "display_data",
          "data": {
            "text/plain": [
              "<IPython.core.display.Javascript object>"
            ],
            "application/javascript": [
              "\n",
              "        window._wandbApiKey = new Promise((resolve, reject) => {\n",
              "            function loadScript(url) {\n",
              "            return new Promise(function(resolve, reject) {\n",
              "                let newScript = document.createElement(\"script\");\n",
              "                newScript.onerror = reject;\n",
              "                newScript.onload = resolve;\n",
              "                document.body.appendChild(newScript);\n",
              "                newScript.src = url;\n",
              "            });\n",
              "            }\n",
              "            loadScript(\"https://cdn.jsdelivr.net/npm/postmate/build/postmate.min.js\").then(() => {\n",
              "            const iframe = document.createElement('iframe')\n",
              "            iframe.style.cssText = \"width:0;height:0;border:none\"\n",
              "            document.body.appendChild(iframe)\n",
              "            const handshake = new Postmate({\n",
              "                container: iframe,\n",
              "                url: 'https://wandb.ai/authorize'\n",
              "            });\n",
              "            const timeout = setTimeout(() => reject(\"Couldn't auto authenticate\"), 5000)\n",
              "            handshake.then(function(child) {\n",
              "                child.on('authorize', data => {\n",
              "                    clearTimeout(timeout)\n",
              "                    resolve(data)\n",
              "                });\n",
              "            });\n",
              "            })\n",
              "        });\n",
              "    "
            ]
          },
          "metadata": {}
        },
        {
          "output_type": "stream",
          "name": "stderr",
          "text": [
            "\u001b[34m\u001b[1mwandb\u001b[0m: Logging into wandb.ai. (Learn how to deploy a W&B server locally: https://wandb.me/wandb-server)\n",
            "\u001b[34m\u001b[1mwandb\u001b[0m: You can find your API key in your browser here: https://wandb.ai/authorize\n",
            "wandb: Paste an API key from your profile and hit enter:"
          ]
        },
        {
          "name": "stdout",
          "output_type": "stream",
          "text": [
            " ··········\n"
          ]
        },
        {
          "output_type": "stream",
          "name": "stderr",
          "text": [
            "\u001b[34m\u001b[1mwandb\u001b[0m: \u001b[33mWARNING\u001b[0m If you're specifying your api key in code, ensure this code is not shared publicly.\n",
            "\u001b[34m\u001b[1mwandb\u001b[0m: \u001b[33mWARNING\u001b[0m Consider setting the WANDB_API_KEY environment variable, or running `wandb login` from the command line.\n",
            "\u001b[34m\u001b[1mwandb\u001b[0m: No netrc file found, creating one.\n",
            "\u001b[34m\u001b[1mwandb\u001b[0m: Appending key for api.wandb.ai to your netrc file: /root/.netrc\n",
            "\u001b[34m\u001b[1mwandb\u001b[0m: Currently logged in as: \u001b[33mvadhri-venkat\u001b[0m to \u001b[32mhttps://api.wandb.ai\u001b[0m. Use \u001b[1m`wandb login --relogin`\u001b[0m to force relogin\n"
          ]
        },
        {
          "output_type": "display_data",
          "data": {
            "text/plain": [
              "<IPython.core.display.HTML object>"
            ],
            "text/html": [
              "Tracking run with wandb version 0.19.9"
            ]
          },
          "metadata": {}
        },
        {
          "output_type": "display_data",
          "data": {
            "text/plain": [
              "<IPython.core.display.HTML object>"
            ],
            "text/html": [
              "Run data is saved locally in <code>/content/wandb/run-20250413_075357-w6bhfsa7</code>"
            ]
          },
          "metadata": {}
        },
        {
          "output_type": "display_data",
          "data": {
            "text/plain": [
              "<IPython.core.display.HTML object>"
            ],
            "text/html": [
              "Syncing run <strong><a href='https://wandb.ai/vadhri-venkat/pistachio-classification/runs/w6bhfsa7' target=\"_blank\">easy-terrain-17</a></strong> to <a href='https://wandb.ai/vadhri-venkat/pistachio-classification' target=\"_blank\">Weights & Biases</a> (<a href='https://wandb.me/developer-guide' target=\"_blank\">docs</a>)<br>"
            ]
          },
          "metadata": {}
        },
        {
          "output_type": "display_data",
          "data": {
            "text/plain": [
              "<IPython.core.display.HTML object>"
            ],
            "text/html": [
              " View project at <a href='https://wandb.ai/vadhri-venkat/pistachio-classification' target=\"_blank\">https://wandb.ai/vadhri-venkat/pistachio-classification</a>"
            ]
          },
          "metadata": {}
        },
        {
          "output_type": "display_data",
          "data": {
            "text/plain": [
              "<IPython.core.display.HTML object>"
            ],
            "text/html": [
              " View run at <a href='https://wandb.ai/vadhri-venkat/pistachio-classification/runs/w6bhfsa7' target=\"_blank\">https://wandb.ai/vadhri-venkat/pistachio-classification/runs/w6bhfsa7</a>"
            ]
          },
          "metadata": {}
        }
      ]
    },
    {
      "cell_type": "code",
      "source": [
        "raw_data_at.add_file('/content/dataset/Pistachio_Image_Dataset/Pistachio_Image_Dataset_Request.txt', name='dataset_citation.txt')"
      ],
      "metadata": {
        "colab": {
          "base_uri": "https://localhost:8080/"
        },
        "id": "LXCKdPdRCtBh",
        "outputId": "b27229e2-fe5a-48a5-de83-1dba308b44cf"
      },
      "execution_count": 19,
      "outputs": [
        {
          "output_type": "execute_result",
          "data": {
            "text/plain": [
              "ArtifactManifestEntry(path='dataset_citation.txt', digest='y2OTpLY2/FyFPvHbdGRVjQ==', size=5108, local_path='/root/.local/share/wandb/artifacts/staging/tmpe4b63qm1', skip_cache=False)"
            ]
          },
          "metadata": {},
          "execution_count": 19
        }
      ]
    },
    {
      "cell_type": "code",
      "source": [
        "raw_data_at.add_dir('/content/dataset/Pistachio_Image_Dataset/Pistachio_Image_Dataset/', name='images')\n",
        "raw_data_at.add_dir('/content/dataset/Pistachio_Image_Dataset/Pistachio_16_Features_Dataset/', name='labels')"
      ],
      "metadata": {
        "colab": {
          "base_uri": "https://localhost:8080/"
        },
        "id": "ILD9Y4iCC83m",
        "outputId": "00cb447f-9c27-4a38-d2ca-c9c3d3dfb366"
      },
      "execution_count": 20,
      "outputs": [
        {
          "output_type": "stream",
          "name": "stderr",
          "text": [
            "\u001b[34m\u001b[1mwandb\u001b[0m: Adding directory to artifact (/content/dataset/Pistachio_Image_Dataset/Pistachio_Image_Dataset)... Done. 1.1s\n",
            "\u001b[34m\u001b[1mwandb\u001b[0m: Adding directory to artifact (/content/dataset/Pistachio_Image_Dataset/Pistachio_16_Features_Dataset)... Done. 0.0s\n"
          ]
        }
      ]
    },
    {
      "cell_type": "code",
      "source": [
        "import wandb\n",
        "from PIL import Image\n",
        "\n",
        "# Create a WandB Table\n",
        "table = wandb.Table(columns=list(df.columns) + [\"image\"])\n",
        "\n",
        "# Iterate through the DataFrame and add rows to the table\n",
        "for index, row in df.iterrows():\n",
        "    image_path = row['image_paths']\n",
        "    try:\n",
        "      image = Image.open(image_path)\n",
        "    except FileNotFoundError:\n",
        "      print(f\"Image not found: {image_path}\")\n",
        "      continue\n",
        "    table.add_data(*row.values, wandb.Image(image))\n",
        "\n",
        "raw_data_at.add(table, \"eda_table\")\n",
        "\n",
        "# Log the table to Weights & Biases\n",
        "wandb.log({\"raw_data_table\": table})\n"
      ],
      "metadata": {
        "colab": {
          "base_uri": "https://localhost:8080/"
        },
        "id": "GS1jwUjOEHQe",
        "outputId": "bc5fe59f-4ee4-483b-ad98-c91c2323ea65"
      },
      "execution_count": 21,
      "outputs": [
        {
          "output_type": "stream",
          "name": "stdout",
          "text": [
            "Image not found: /content/dataset/Pistachio_Image_Dataset/Pistachio_Image_Dataset/Kirmizi_Pistachio/kirmizi 1168.jpg\n",
            "Image not found: /content/dataset/Pistachio_Image_Dataset/Pistachio_Image_Dataset/Kirmizi_Pistachio/kirmizi 1169.jpg\n",
            "Image not found: /content/dataset/Pistachio_Image_Dataset/Pistachio_Image_Dataset/Kirmizi_Pistachio/kirmizi 1170.jpg\n",
            "Image not found: /content/dataset/Pistachio_Image_Dataset/Pistachio_Image_Dataset/Kirmizi_Pistachio/kirmizi 1171.jpg\n",
            "Image not found: /content/dataset/Pistachio_Image_Dataset/Pistachio_Image_Dataset/Kirmizi_Pistachio/kirmizi 1172.jpg\n",
            "Image not found: /content/dataset/Pistachio_Image_Dataset/Pistachio_Image_Dataset/Kirmizi_Pistachio/kirmizi 1173.jpg\n",
            "Image not found: /content/dataset/Pistachio_Image_Dataset/Pistachio_Image_Dataset/Kirmizi_Pistachio/kirmizi 1174.jpg\n",
            "Image not found: /content/dataset/Pistachio_Image_Dataset/Pistachio_Image_Dataset/Kirmizi_Pistachio/kirmizi 1175.jpg\n",
            "Image not found: /content/dataset/Pistachio_Image_Dataset/Pistachio_Image_Dataset/Kirmizi_Pistachio/kirmizi 1176.jpg\n",
            "Image not found: /content/dataset/Pistachio_Image_Dataset/Pistachio_Image_Dataset/Kirmizi_Pistachio/kirmizi 1177.jpg\n",
            "Image not found: /content/dataset/Pistachio_Image_Dataset/Pistachio_Image_Dataset/Kirmizi_Pistachio/kirmizi 1178.jpg\n",
            "Image not found: /content/dataset/Pistachio_Image_Dataset/Pistachio_Image_Dataset/Kirmizi_Pistachio/kirmizi 1179.jpg\n",
            "Image not found: /content/dataset/Pistachio_Image_Dataset/Pistachio_Image_Dataset/Kirmizi_Pistachio/kirmizi 1180.jpg\n",
            "Image not found: /content/dataset/Pistachio_Image_Dataset/Pistachio_Image_Dataset/Kirmizi_Pistachio/kirmizi 1181.jpg\n",
            "Image not found: /content/dataset/Pistachio_Image_Dataset/Pistachio_Image_Dataset/Kirmizi_Pistachio/kirmizi 1182.jpg\n",
            "Image not found: /content/dataset/Pistachio_Image_Dataset/Pistachio_Image_Dataset/Kirmizi_Pistachio/kirmizi 1183.jpg\n",
            "Image not found: /content/dataset/Pistachio_Image_Dataset/Pistachio_Image_Dataset/Kirmizi_Pistachio/kirmizi 1184.jpg\n",
            "Image not found: /content/dataset/Pistachio_Image_Dataset/Pistachio_Image_Dataset/Kirmizi_Pistachio/kirmizi 1185.jpg\n",
            "Image not found: /content/dataset/Pistachio_Image_Dataset/Pistachio_Image_Dataset/Kirmizi_Pistachio/kirmizi 1186.jpg\n",
            "Image not found: /content/dataset/Pistachio_Image_Dataset/Pistachio_Image_Dataset/Kirmizi_Pistachio/kirmizi 1187.jpg\n",
            "Image not found: /content/dataset/Pistachio_Image_Dataset/Pistachio_Image_Dataset/Kirmizi_Pistachio/kirmizi 1188.jpg\n",
            "Image not found: /content/dataset/Pistachio_Image_Dataset/Pistachio_Image_Dataset/Kirmizi_Pistachio/kirmizi 1189.jpg\n",
            "Image not found: /content/dataset/Pistachio_Image_Dataset/Pistachio_Image_Dataset/Kirmizi_Pistachio/kirmizi 1190.jpg\n",
            "Image not found: /content/dataset/Pistachio_Image_Dataset/Pistachio_Image_Dataset/Kirmizi_Pistachio/kirmizi 1191.jpg\n",
            "Image not found: /content/dataset/Pistachio_Image_Dataset/Pistachio_Image_Dataset/Kirmizi_Pistachio/kirmizi 1192.jpg\n",
            "Image not found: /content/dataset/Pistachio_Image_Dataset/Pistachio_Image_Dataset/Kirmizi_Pistachio/kirmizi 1193.jpg\n",
            "Image not found: /content/dataset/Pistachio_Image_Dataset/Pistachio_Image_Dataset/Kirmizi_Pistachio/kirmizi 1194.jpg\n",
            "Image not found: /content/dataset/Pistachio_Image_Dataset/Pistachio_Image_Dataset/Kirmizi_Pistachio/kirmizi 1195.jpg\n",
            "Image not found: /content/dataset/Pistachio_Image_Dataset/Pistachio_Image_Dataset/Kirmizi_Pistachio/kirmizi 1196.jpg\n",
            "Image not found: /content/dataset/Pistachio_Image_Dataset/Pistachio_Image_Dataset/Kirmizi_Pistachio/kirmizi 1197.jpg\n",
            "Image not found: /content/dataset/Pistachio_Image_Dataset/Pistachio_Image_Dataset/Kirmizi_Pistachio/kirmizi 1198.jpg\n",
            "Image not found: /content/dataset/Pistachio_Image_Dataset/Pistachio_Image_Dataset/Kirmizi_Pistachio/kirmizi 1199.jpg\n",
            "Image not found: /content/dataset/Pistachio_Image_Dataset/Pistachio_Image_Dataset/Kirmizi_Pistachio/kirmizi 1200.jpg\n",
            "Image not found: /content/dataset/Pistachio_Image_Dataset/Pistachio_Image_Dataset/Kirmizi_Pistachio/kirmizi 1201.jpg\n",
            "Image not found: /content/dataset/Pistachio_Image_Dataset/Pistachio_Image_Dataset/Kirmizi_Pistachio/kirmizi 1202.jpg\n",
            "Image not found: /content/dataset/Pistachio_Image_Dataset/Pistachio_Image_Dataset/Kirmizi_Pistachio/kirmizi 1203.jpg\n",
            "Image not found: /content/dataset/Pistachio_Image_Dataset/Pistachio_Image_Dataset/Kirmizi_Pistachio/kirmizi 1204.jpg\n",
            "Image not found: /content/dataset/Pistachio_Image_Dataset/Pistachio_Image_Dataset/Kirmizi_Pistachio/kirmizi 1205.jpg\n",
            "Image not found: /content/dataset/Pistachio_Image_Dataset/Pistachio_Image_Dataset/Kirmizi_Pistachio/kirmizi 1206.jpg\n",
            "Image not found: /content/dataset/Pistachio_Image_Dataset/Pistachio_Image_Dataset/Kirmizi_Pistachio/kirmizi 1207.jpg\n",
            "Image not found: /content/dataset/Pistachio_Image_Dataset/Pistachio_Image_Dataset/Kirmizi_Pistachio/kirmizi 1208.jpg\n",
            "Image not found: /content/dataset/Pistachio_Image_Dataset/Pistachio_Image_Dataset/Kirmizi_Pistachio/kirmizi 1209.jpg\n",
            "Image not found: /content/dataset/Pistachio_Image_Dataset/Pistachio_Image_Dataset/Kirmizi_Pistachio/kirmizi 1210.jpg\n",
            "Image not found: /content/dataset/Pistachio_Image_Dataset/Pistachio_Image_Dataset/Kirmizi_Pistachio/kirmizi 1211.jpg\n",
            "Image not found: /content/dataset/Pistachio_Image_Dataset/Pistachio_Image_Dataset/Kirmizi_Pistachio/kirmizi 1212.jpg\n",
            "Image not found: /content/dataset/Pistachio_Image_Dataset/Pistachio_Image_Dataset/Kirmizi_Pistachio/kirmizi 1213.jpg\n",
            "Image not found: /content/dataset/Pistachio_Image_Dataset/Pistachio_Image_Dataset/Kirmizi_Pistachio/kirmizi 1214.jpg\n",
            "Image not found: /content/dataset/Pistachio_Image_Dataset/Pistachio_Image_Dataset/Kirmizi_Pistachio/kirmizi 1215.jpg\n",
            "Image not found: /content/dataset/Pistachio_Image_Dataset/Pistachio_Image_Dataset/Kirmizi_Pistachio/kirmizi 1216.jpg\n",
            "Image not found: /content/dataset/Pistachio_Image_Dataset/Pistachio_Image_Dataset/Kirmizi_Pistachio/kirmizi 1217.jpg\n",
            "Image not found: /content/dataset/Pistachio_Image_Dataset/Pistachio_Image_Dataset/Kirmizi_Pistachio/kirmizi 1218.jpg\n",
            "Image not found: /content/dataset/Pistachio_Image_Dataset/Pistachio_Image_Dataset/Kirmizi_Pistachio/kirmizi 1219.jpg\n",
            "Image not found: /content/dataset/Pistachio_Image_Dataset/Pistachio_Image_Dataset/Kirmizi_Pistachio/kirmizi 1220.jpg\n",
            "Image not found: /content/dataset/Pistachio_Image_Dataset/Pistachio_Image_Dataset/Kirmizi_Pistachio/kirmizi 1221.jpg\n",
            "Image not found: /content/dataset/Pistachio_Image_Dataset/Pistachio_Image_Dataset/Kirmizi_Pistachio/kirmizi 1222.jpg\n",
            "Image not found: /content/dataset/Pistachio_Image_Dataset/Pistachio_Image_Dataset/Kirmizi_Pistachio/kirmizi 1223.jpg\n",
            "Image not found: /content/dataset/Pistachio_Image_Dataset/Pistachio_Image_Dataset/Kirmizi_Pistachio/kirmizi 1224.jpg\n",
            "Image not found: /content/dataset/Pistachio_Image_Dataset/Pistachio_Image_Dataset/Kirmizi_Pistachio/kirmizi 1225.jpg\n",
            "Image not found: /content/dataset/Pistachio_Image_Dataset/Pistachio_Image_Dataset/Kirmizi_Pistachio/kirmizi 1226.jpg\n",
            "Image not found: /content/dataset/Pistachio_Image_Dataset/Pistachio_Image_Dataset/Kirmizi_Pistachio/kirmizi 1227.jpg\n",
            "Image not found: /content/dataset/Pistachio_Image_Dataset/Pistachio_Image_Dataset/Kirmizi_Pistachio/kirmizi 1228.jpg\n",
            "Image not found: /content/dataset/Pistachio_Image_Dataset/Pistachio_Image_Dataset/Kirmizi_Pistachio/kirmizi 1229.jpg\n",
            "Image not found: /content/dataset/Pistachio_Image_Dataset/Pistachio_Image_Dataset/Kirmizi_Pistachio/kirmizi 1230.jpg\n",
            "Image not found: /content/dataset/Pistachio_Image_Dataset/Pistachio_Image_Dataset/Kirmizi_Pistachio/kirmizi 1231.jpg\n",
            "Image not found: /content/dataset/Pistachio_Image_Dataset/Pistachio_Image_Dataset/Kirmizi_Pistachio/kirmizi 1232.jpg\n",
            "Image not found: /content/dataset/Pistachio_Image_Dataset/Pistachio_Image_Dataset/Siirt_Pistachio/siirt 867.jpg\n",
            "Image not found: /content/dataset/Pistachio_Image_Dataset/Pistachio_Image_Dataset/Siirt_Pistachio/siirt 868.jpg\n",
            "Image not found: /content/dataset/Pistachio_Image_Dataset/Pistachio_Image_Dataset/Siirt_Pistachio/siirt 869.jpg\n",
            "Image not found: /content/dataset/Pistachio_Image_Dataset/Pistachio_Image_Dataset/Siirt_Pistachio/siirt 870.jpg\n",
            "Image not found: /content/dataset/Pistachio_Image_Dataset/Pistachio_Image_Dataset/Siirt_Pistachio/siirt 871.jpg\n",
            "Image not found: /content/dataset/Pistachio_Image_Dataset/Pistachio_Image_Dataset/Siirt_Pistachio/siirt 872.jpg\n",
            "Image not found: /content/dataset/Pistachio_Image_Dataset/Pistachio_Image_Dataset/Siirt_Pistachio/siirt 873.jpg\n",
            "Image not found: /content/dataset/Pistachio_Image_Dataset/Pistachio_Image_Dataset/Siirt_Pistachio/siirt 874.jpg\n",
            "Image not found: /content/dataset/Pistachio_Image_Dataset/Pistachio_Image_Dataset/Siirt_Pistachio/siirt 875.jpg\n",
            "Image not found: /content/dataset/Pistachio_Image_Dataset/Pistachio_Image_Dataset/Siirt_Pistachio/siirt 876.jpg\n",
            "Image not found: /content/dataset/Pistachio_Image_Dataset/Pistachio_Image_Dataset/Siirt_Pistachio/siirt 877.jpg\n",
            "Image not found: /content/dataset/Pistachio_Image_Dataset/Pistachio_Image_Dataset/Siirt_Pistachio/siirt 878.jpg\n",
            "Image not found: /content/dataset/Pistachio_Image_Dataset/Pistachio_Image_Dataset/Siirt_Pistachio/siirt 879.jpg\n",
            "Image not found: /content/dataset/Pistachio_Image_Dataset/Pistachio_Image_Dataset/Siirt_Pistachio/siirt 880.jpg\n",
            "Image not found: /content/dataset/Pistachio_Image_Dataset/Pistachio_Image_Dataset/Siirt_Pistachio/siirt 881.jpg\n",
            "Image not found: /content/dataset/Pistachio_Image_Dataset/Pistachio_Image_Dataset/Siirt_Pistachio/siirt 882.jpg\n",
            "Image not found: /content/dataset/Pistachio_Image_Dataset/Pistachio_Image_Dataset/Siirt_Pistachio/siirt 883.jpg\n",
            "Image not found: /content/dataset/Pistachio_Image_Dataset/Pistachio_Image_Dataset/Siirt_Pistachio/siirt 884.jpg\n",
            "Image not found: /content/dataset/Pistachio_Image_Dataset/Pistachio_Image_Dataset/Siirt_Pistachio/siirt 885.jpg\n",
            "Image not found: /content/dataset/Pistachio_Image_Dataset/Pistachio_Image_Dataset/Siirt_Pistachio/siirt 886.jpg\n",
            "Image not found: /content/dataset/Pistachio_Image_Dataset/Pistachio_Image_Dataset/Siirt_Pistachio/siirt 887.jpg\n",
            "Image not found: /content/dataset/Pistachio_Image_Dataset/Pistachio_Image_Dataset/Siirt_Pistachio/siirt 888.jpg\n",
            "Image not found: /content/dataset/Pistachio_Image_Dataset/Pistachio_Image_Dataset/Siirt_Pistachio/siirt 889.jpg\n",
            "Image not found: /content/dataset/Pistachio_Image_Dataset/Pistachio_Image_Dataset/Siirt_Pistachio/siirt 890.jpg\n",
            "Image not found: /content/dataset/Pistachio_Image_Dataset/Pistachio_Image_Dataset/Siirt_Pistachio/siirt 891.jpg\n",
            "Image not found: /content/dataset/Pistachio_Image_Dataset/Pistachio_Image_Dataset/Siirt_Pistachio/siirt 892.jpg\n",
            "Image not found: /content/dataset/Pistachio_Image_Dataset/Pistachio_Image_Dataset/Siirt_Pistachio/siirt 893.jpg\n",
            "Image not found: /content/dataset/Pistachio_Image_Dataset/Pistachio_Image_Dataset/Siirt_Pistachio/siirt 894.jpg\n",
            "Image not found: /content/dataset/Pistachio_Image_Dataset/Pistachio_Image_Dataset/Siirt_Pistachio/siirt 895.jpg\n",
            "Image not found: /content/dataset/Pistachio_Image_Dataset/Pistachio_Image_Dataset/Siirt_Pistachio/siirt 896.jpg\n",
            "Image not found: /content/dataset/Pistachio_Image_Dataset/Pistachio_Image_Dataset/Siirt_Pistachio/siirt 897.jpg\n",
            "Image not found: /content/dataset/Pistachio_Image_Dataset/Pistachio_Image_Dataset/Siirt_Pistachio/siirt 898.jpg\n",
            "Image not found: /content/dataset/Pistachio_Image_Dataset/Pistachio_Image_Dataset/Siirt_Pistachio/siirt 899.jpg\n",
            "Image not found: /content/dataset/Pistachio_Image_Dataset/Pistachio_Image_Dataset/Siirt_Pistachio/siirt 900.jpg\n",
            "Image not found: /content/dataset/Pistachio_Image_Dataset/Pistachio_Image_Dataset/Siirt_Pistachio/siirt 901.jpg\n",
            "Image not found: /content/dataset/Pistachio_Image_Dataset/Pistachio_Image_Dataset/Siirt_Pistachio/siirt 902.jpg\n",
            "Image not found: /content/dataset/Pistachio_Image_Dataset/Pistachio_Image_Dataset/Siirt_Pistachio/siirt 903.jpg\n",
            "Image not found: /content/dataset/Pistachio_Image_Dataset/Pistachio_Image_Dataset/Siirt_Pistachio/siirt 904.jpg\n",
            "Image not found: /content/dataset/Pistachio_Image_Dataset/Pistachio_Image_Dataset/Siirt_Pistachio/siirt 905.jpg\n",
            "Image not found: /content/dataset/Pistachio_Image_Dataset/Pistachio_Image_Dataset/Siirt_Pistachio/siirt 906.jpg\n",
            "Image not found: /content/dataset/Pistachio_Image_Dataset/Pistachio_Image_Dataset/Siirt_Pistachio/siirt 907.jpg\n",
            "Image not found: /content/dataset/Pistachio_Image_Dataset/Pistachio_Image_Dataset/Siirt_Pistachio/siirt 908.jpg\n",
            "Image not found: /content/dataset/Pistachio_Image_Dataset/Pistachio_Image_Dataset/Siirt_Pistachio/siirt 909.jpg\n",
            "Image not found: /content/dataset/Pistachio_Image_Dataset/Pistachio_Image_Dataset/Siirt_Pistachio/siirt 910.jpg\n",
            "Image not found: /content/dataset/Pistachio_Image_Dataset/Pistachio_Image_Dataset/Siirt_Pistachio/siirt 911.jpg\n",
            "Image not found: /content/dataset/Pistachio_Image_Dataset/Pistachio_Image_Dataset/Siirt_Pistachio/siirt 912.jpg\n",
            "Image not found: /content/dataset/Pistachio_Image_Dataset/Pistachio_Image_Dataset/Siirt_Pistachio/siirt 913.jpg\n",
            "Image not found: /content/dataset/Pistachio_Image_Dataset/Pistachio_Image_Dataset/Siirt_Pistachio/siirt 914.jpg\n",
            "Image not found: /content/dataset/Pistachio_Image_Dataset/Pistachio_Image_Dataset/Siirt_Pistachio/siirt 915.jpg\n",
            "Image not found: /content/dataset/Pistachio_Image_Dataset/Pistachio_Image_Dataset/Siirt_Pistachio/siirt 916.jpg\n"
          ]
        }
      ]
    },
    {
      "cell_type": "code",
      "source": [
        "run.log_artifact(raw_data_at)\n"
      ],
      "metadata": {
        "colab": {
          "base_uri": "https://localhost:8080/"
        },
        "id": "tkwrFrC2EuJU",
        "outputId": "f558374a-a796-435f-b3d4-8ab46183c648"
      },
      "execution_count": 22,
      "outputs": [
        {
          "output_type": "execute_result",
          "data": {
            "text/plain": [
              "<Artifact pistachio-image-classification>"
            ]
          },
          "metadata": {},
          "execution_count": 22
        }
      ]
    },
    {
      "cell_type": "code",
      "source": [
        "run.finish()"
      ],
      "metadata": {
        "colab": {
          "base_uri": "https://localhost:8080/",
          "height": 86
        },
        "id": "8Y0c2YD5GvHh",
        "outputId": "11809410-e230-4b33-b579-8ef5b015cc79"
      },
      "execution_count": 23,
      "outputs": [
        {
          "output_type": "display_data",
          "data": {
            "text/plain": [
              "<IPython.core.display.HTML object>"
            ],
            "text/html": []
          },
          "metadata": {}
        },
        {
          "output_type": "display_data",
          "data": {
            "text/plain": [
              "<IPython.core.display.HTML object>"
            ],
            "text/html": [
              " View run <strong style=\"color:#cdcd00\">easy-terrain-17</strong> at: <a href='https://wandb.ai/vadhri-venkat/pistachio-classification/runs/w6bhfsa7' target=\"_blank\">https://wandb.ai/vadhri-venkat/pistachio-classification/runs/w6bhfsa7</a><br> View project at: <a href='https://wandb.ai/vadhri-venkat/pistachio-classification' target=\"_blank\">https://wandb.ai/vadhri-venkat/pistachio-classification</a><br>Synced 5 W&B file(s), 1 media file(s), 2035 artifact file(s) and 0 other file(s)"
            ]
          },
          "metadata": {}
        },
        {
          "output_type": "display_data",
          "data": {
            "text/plain": [
              "<IPython.core.display.HTML object>"
            ],
            "text/html": [
              "Find logs at: <code>./wandb/run-20250413_075357-w6bhfsa7/logs</code>"
            ]
          },
          "metadata": {}
        }
      ]
    },
    {
      "cell_type": "code",
      "source": [],
      "metadata": {
        "id": "C-kFADQXI5zY"
      },
      "execution_count": 23,
      "outputs": []
    },
    {
      "cell_type": "markdown",
      "source": [
        "# Data prep"
      ],
      "metadata": {
        "id": "tFGlya-CiHpl"
      }
    },
    {
      "cell_type": "code",
      "source": [
        "run = wandb.init(project='pistachio-classification', entity=None, job_type=\"data_split\")"
      ],
      "metadata": {
        "colab": {
          "base_uri": "https://localhost:8080/",
          "height": 104
        },
        "id": "_0zhk9NQiJ15",
        "outputId": "8d65f17a-13c0-4097-a329-1d27566bebbf"
      },
      "execution_count": 24,
      "outputs": [
        {
          "output_type": "display_data",
          "data": {
            "text/plain": [
              "<IPython.core.display.HTML object>"
            ],
            "text/html": [
              "Tracking run with wandb version 0.19.9"
            ]
          },
          "metadata": {}
        },
        {
          "output_type": "display_data",
          "data": {
            "text/plain": [
              "<IPython.core.display.HTML object>"
            ],
            "text/html": [
              "Run data is saved locally in <code>/content/wandb/run-20250413_075527-xidsohtm</code>"
            ]
          },
          "metadata": {}
        },
        {
          "output_type": "display_data",
          "data": {
            "text/plain": [
              "<IPython.core.display.HTML object>"
            ],
            "text/html": [
              "Syncing run <strong><a href='https://wandb.ai/vadhri-venkat/pistachio-classification/runs/xidsohtm' target=\"_blank\">pious-pine-18</a></strong> to <a href='https://wandb.ai/vadhri-venkat/pistachio-classification' target=\"_blank\">Weights & Biases</a> (<a href='https://wandb.me/developer-guide' target=\"_blank\">docs</a>)<br>"
            ]
          },
          "metadata": {}
        },
        {
          "output_type": "display_data",
          "data": {
            "text/plain": [
              "<IPython.core.display.HTML object>"
            ],
            "text/html": [
              " View project at <a href='https://wandb.ai/vadhri-venkat/pistachio-classification' target=\"_blank\">https://wandb.ai/vadhri-venkat/pistachio-classification</a>"
            ]
          },
          "metadata": {}
        },
        {
          "output_type": "display_data",
          "data": {
            "text/plain": [
              "<IPython.core.display.HTML object>"
            ],
            "text/html": [
              " View run at <a href='https://wandb.ai/vadhri-venkat/pistachio-classification/runs/xidsohtm' target=\"_blank\">https://wandb.ai/vadhri-venkat/pistachio-classification/runs/xidsohtm</a>"
            ]
          },
          "metadata": {}
        }
      ]
    },
    {
      "cell_type": "code",
      "source": [
        "raw_data_at = run.use_artifact(f'pistachio-image-classification:latest')\n",
        "path = Path(raw_data_at.download())"
      ],
      "metadata": {
        "colab": {
          "base_uri": "https://localhost:8080/"
        },
        "id": "uxqVgp1KjxSF",
        "outputId": "73f94bc7-adc4-4346-d340-545adef0470e"
      },
      "execution_count": 25,
      "outputs": [
        {
          "output_type": "stream",
          "name": "stderr",
          "text": [
            "\u001b[34m\u001b[1mwandb\u001b[0m: Downloading large artifact pistachio-image-classification:latest, 232.70MB. 4188 files... \n",
            "\u001b[34m\u001b[1mwandb\u001b[0m:   4188 of 4188 files downloaded.  \n",
            "Done. 0:0:19.9\n"
          ]
        }
      ]
    },
    {
      "cell_type": "code",
      "source": [
        "\n",
        "import pandas as pd\n",
        "from scipy.io import arff\n",
        "\n",
        "# Assuming 'arff_path' is defined as in your previous code\n",
        "arff_path = '/content/artifacts/pistachio-image-classification:v1/labels/Pistachio_16_Features_Dataset.arff'\n",
        "\n",
        "# Load the ARFF file into a Pandas DataFrame\n",
        "try:\n",
        "    arff_file = arff.loadarff(arff_path)\n",
        "    df = pd.DataFrame(arff_file[0])\n",
        "except FileNotFoundError:\n",
        "    print(f\"Error: ARFF file not found at {arff_path}\")\n",
        "except Exception as e:\n",
        "    print(f\"An error occurred: {e}\")\n",
        "\n",
        "df.head()\n"
      ],
      "metadata": {
        "colab": {
          "base_uri": "https://localhost:8080/",
          "height": 226
        },
        "id": "0A7VqC83kA5s",
        "outputId": "671272e8-0405-45ac-ccff-408981c79a82"
      },
      "execution_count": 26,
      "outputs": [
        {
          "output_type": "execute_result",
          "data": {
            "text/plain": [
              "      AREA  PERIMETER  MAJOR_AXIS  MINOR_AXIS  ECCENTRICITY   EQDIASQ  \\\n",
              "0  63391.0   1568.405    390.3396    236.7461        0.7951  284.0984   \n",
              "1  68358.0   1942.187    410.8594    234.7525        0.8207  295.0188   \n",
              "2  73589.0   1246.538    452.3630    220.5547        0.8731  306.0987   \n",
              "3  71106.0   1445.261    429.5291    216.0765        0.8643  300.8903   \n",
              "4  80087.0   1251.524    469.3783    220.9344        0.8823  319.3273   \n",
              "\n",
              "   SOLIDITY  CONVEX_AREA  EXTENT  ASPECT_RATIO  ROUNDNESS  COMPACTNESS  \\\n",
              "0    0.8665      73160.0  0.6394        1.6488     0.3238       0.7278   \n",
              "1    0.8765      77991.0  0.6772        1.7502     0.2277       0.7181   \n",
              "2    0.9172      80234.0  0.7127        2.0510     0.5951       0.6767   \n",
              "3    0.9589      74153.0  0.7028        1.9879     0.4278       0.7005   \n",
              "4    0.9657      82929.0  0.7459        2.1245     0.6425       0.6803   \n",
              "\n",
              "   SHAPEFACTOR_1  SHAPEFACTOR_2  SHAPEFACTOR_3  SHAPEFACTOR_4  \\\n",
              "0         0.0062         0.0037         0.5297         0.8734   \n",
              "1         0.0060         0.0034         0.5156         0.9024   \n",
              "2         0.0061         0.0030         0.4579         0.9391   \n",
              "3         0.0060         0.0030         0.4907         0.9755   \n",
              "4         0.0059         0.0028         0.4628         0.9833   \n",
              "\n",
              "                  Class  \n",
              "0  b'Kirmizi_Pistachio'  \n",
              "1  b'Kirmizi_Pistachio'  \n",
              "2  b'Kirmizi_Pistachio'  \n",
              "3  b'Kirmizi_Pistachio'  \n",
              "4  b'Kirmizi_Pistachio'  "
            ],
            "text/html": [
              "\n",
              "  <div id=\"df-1de53254-01e0-4cd6-843a-654fc9ab2106\" class=\"colab-df-container\">\n",
              "    <div>\n",
              "<style scoped>\n",
              "    .dataframe tbody tr th:only-of-type {\n",
              "        vertical-align: middle;\n",
              "    }\n",
              "\n",
              "    .dataframe tbody tr th {\n",
              "        vertical-align: top;\n",
              "    }\n",
              "\n",
              "    .dataframe thead th {\n",
              "        text-align: right;\n",
              "    }\n",
              "</style>\n",
              "<table border=\"1\" class=\"dataframe\">\n",
              "  <thead>\n",
              "    <tr style=\"text-align: right;\">\n",
              "      <th></th>\n",
              "      <th>AREA</th>\n",
              "      <th>PERIMETER</th>\n",
              "      <th>MAJOR_AXIS</th>\n",
              "      <th>MINOR_AXIS</th>\n",
              "      <th>ECCENTRICITY</th>\n",
              "      <th>EQDIASQ</th>\n",
              "      <th>SOLIDITY</th>\n",
              "      <th>CONVEX_AREA</th>\n",
              "      <th>EXTENT</th>\n",
              "      <th>ASPECT_RATIO</th>\n",
              "      <th>ROUNDNESS</th>\n",
              "      <th>COMPACTNESS</th>\n",
              "      <th>SHAPEFACTOR_1</th>\n",
              "      <th>SHAPEFACTOR_2</th>\n",
              "      <th>SHAPEFACTOR_3</th>\n",
              "      <th>SHAPEFACTOR_4</th>\n",
              "      <th>Class</th>\n",
              "    </tr>\n",
              "  </thead>\n",
              "  <tbody>\n",
              "    <tr>\n",
              "      <th>0</th>\n",
              "      <td>63391.0</td>\n",
              "      <td>1568.405</td>\n",
              "      <td>390.3396</td>\n",
              "      <td>236.7461</td>\n",
              "      <td>0.7951</td>\n",
              "      <td>284.0984</td>\n",
              "      <td>0.8665</td>\n",
              "      <td>73160.0</td>\n",
              "      <td>0.6394</td>\n",
              "      <td>1.6488</td>\n",
              "      <td>0.3238</td>\n",
              "      <td>0.7278</td>\n",
              "      <td>0.0062</td>\n",
              "      <td>0.0037</td>\n",
              "      <td>0.5297</td>\n",
              "      <td>0.8734</td>\n",
              "      <td>b'Kirmizi_Pistachio'</td>\n",
              "    </tr>\n",
              "    <tr>\n",
              "      <th>1</th>\n",
              "      <td>68358.0</td>\n",
              "      <td>1942.187</td>\n",
              "      <td>410.8594</td>\n",
              "      <td>234.7525</td>\n",
              "      <td>0.8207</td>\n",
              "      <td>295.0188</td>\n",
              "      <td>0.8765</td>\n",
              "      <td>77991.0</td>\n",
              "      <td>0.6772</td>\n",
              "      <td>1.7502</td>\n",
              "      <td>0.2277</td>\n",
              "      <td>0.7181</td>\n",
              "      <td>0.0060</td>\n",
              "      <td>0.0034</td>\n",
              "      <td>0.5156</td>\n",
              "      <td>0.9024</td>\n",
              "      <td>b'Kirmizi_Pistachio'</td>\n",
              "    </tr>\n",
              "    <tr>\n",
              "      <th>2</th>\n",
              "      <td>73589.0</td>\n",
              "      <td>1246.538</td>\n",
              "      <td>452.3630</td>\n",
              "      <td>220.5547</td>\n",
              "      <td>0.8731</td>\n",
              "      <td>306.0987</td>\n",
              "      <td>0.9172</td>\n",
              "      <td>80234.0</td>\n",
              "      <td>0.7127</td>\n",
              "      <td>2.0510</td>\n",
              "      <td>0.5951</td>\n",
              "      <td>0.6767</td>\n",
              "      <td>0.0061</td>\n",
              "      <td>0.0030</td>\n",
              "      <td>0.4579</td>\n",
              "      <td>0.9391</td>\n",
              "      <td>b'Kirmizi_Pistachio'</td>\n",
              "    </tr>\n",
              "    <tr>\n",
              "      <th>3</th>\n",
              "      <td>71106.0</td>\n",
              "      <td>1445.261</td>\n",
              "      <td>429.5291</td>\n",
              "      <td>216.0765</td>\n",
              "      <td>0.8643</td>\n",
              "      <td>300.8903</td>\n",
              "      <td>0.9589</td>\n",
              "      <td>74153.0</td>\n",
              "      <td>0.7028</td>\n",
              "      <td>1.9879</td>\n",
              "      <td>0.4278</td>\n",
              "      <td>0.7005</td>\n",
              "      <td>0.0060</td>\n",
              "      <td>0.0030</td>\n",
              "      <td>0.4907</td>\n",
              "      <td>0.9755</td>\n",
              "      <td>b'Kirmizi_Pistachio'</td>\n",
              "    </tr>\n",
              "    <tr>\n",
              "      <th>4</th>\n",
              "      <td>80087.0</td>\n",
              "      <td>1251.524</td>\n",
              "      <td>469.3783</td>\n",
              "      <td>220.9344</td>\n",
              "      <td>0.8823</td>\n",
              "      <td>319.3273</td>\n",
              "      <td>0.9657</td>\n",
              "      <td>82929.0</td>\n",
              "      <td>0.7459</td>\n",
              "      <td>2.1245</td>\n",
              "      <td>0.6425</td>\n",
              "      <td>0.6803</td>\n",
              "      <td>0.0059</td>\n",
              "      <td>0.0028</td>\n",
              "      <td>0.4628</td>\n",
              "      <td>0.9833</td>\n",
              "      <td>b'Kirmizi_Pistachio'</td>\n",
              "    </tr>\n",
              "  </tbody>\n",
              "</table>\n",
              "</div>\n",
              "    <div class=\"colab-df-buttons\">\n",
              "\n",
              "  <div class=\"colab-df-container\">\n",
              "    <button class=\"colab-df-convert\" onclick=\"convertToInteractive('df-1de53254-01e0-4cd6-843a-654fc9ab2106')\"\n",
              "            title=\"Convert this dataframe to an interactive table.\"\n",
              "            style=\"display:none;\">\n",
              "\n",
              "  <svg xmlns=\"http://www.w3.org/2000/svg\" height=\"24px\" viewBox=\"0 -960 960 960\">\n",
              "    <path d=\"M120-120v-720h720v720H120Zm60-500h600v-160H180v160Zm220 220h160v-160H400v160Zm0 220h160v-160H400v160ZM180-400h160v-160H180v160Zm440 0h160v-160H620v160ZM180-180h160v-160H180v160Zm440 0h160v-160H620v160Z\"/>\n",
              "  </svg>\n",
              "    </button>\n",
              "\n",
              "  <style>\n",
              "    .colab-df-container {\n",
              "      display:flex;\n",
              "      gap: 12px;\n",
              "    }\n",
              "\n",
              "    .colab-df-convert {\n",
              "      background-color: #E8F0FE;\n",
              "      border: none;\n",
              "      border-radius: 50%;\n",
              "      cursor: pointer;\n",
              "      display: none;\n",
              "      fill: #1967D2;\n",
              "      height: 32px;\n",
              "      padding: 0 0 0 0;\n",
              "      width: 32px;\n",
              "    }\n",
              "\n",
              "    .colab-df-convert:hover {\n",
              "      background-color: #E2EBFA;\n",
              "      box-shadow: 0px 1px 2px rgba(60, 64, 67, 0.3), 0px 1px 3px 1px rgba(60, 64, 67, 0.15);\n",
              "      fill: #174EA6;\n",
              "    }\n",
              "\n",
              "    .colab-df-buttons div {\n",
              "      margin-bottom: 4px;\n",
              "    }\n",
              "\n",
              "    [theme=dark] .colab-df-convert {\n",
              "      background-color: #3B4455;\n",
              "      fill: #D2E3FC;\n",
              "    }\n",
              "\n",
              "    [theme=dark] .colab-df-convert:hover {\n",
              "      background-color: #434B5C;\n",
              "      box-shadow: 0px 1px 3px 1px rgba(0, 0, 0, 0.15);\n",
              "      filter: drop-shadow(0px 1px 2px rgba(0, 0, 0, 0.3));\n",
              "      fill: #FFFFFF;\n",
              "    }\n",
              "  </style>\n",
              "\n",
              "    <script>\n",
              "      const buttonEl =\n",
              "        document.querySelector('#df-1de53254-01e0-4cd6-843a-654fc9ab2106 button.colab-df-convert');\n",
              "      buttonEl.style.display =\n",
              "        google.colab.kernel.accessAllowed ? 'block' : 'none';\n",
              "\n",
              "      async function convertToInteractive(key) {\n",
              "        const element = document.querySelector('#df-1de53254-01e0-4cd6-843a-654fc9ab2106');\n",
              "        const dataTable =\n",
              "          await google.colab.kernel.invokeFunction('convertToInteractive',\n",
              "                                                    [key], {});\n",
              "        if (!dataTable) return;\n",
              "\n",
              "        const docLinkHtml = 'Like what you see? Visit the ' +\n",
              "          '<a target=\"_blank\" href=https://colab.research.google.com/notebooks/data_table.ipynb>data table notebook</a>'\n",
              "          + ' to learn more about interactive tables.';\n",
              "        element.innerHTML = '';\n",
              "        dataTable['output_type'] = 'display_data';\n",
              "        await google.colab.output.renderOutput(dataTable, element);\n",
              "        const docLink = document.createElement('div');\n",
              "        docLink.innerHTML = docLinkHtml;\n",
              "        element.appendChild(docLink);\n",
              "      }\n",
              "    </script>\n",
              "  </div>\n",
              "\n",
              "\n",
              "<div id=\"df-1df5e38d-f683-48f4-b2e8-61cc162be886\">\n",
              "  <button class=\"colab-df-quickchart\" onclick=\"quickchart('df-1df5e38d-f683-48f4-b2e8-61cc162be886')\"\n",
              "            title=\"Suggest charts\"\n",
              "            style=\"display:none;\">\n",
              "\n",
              "<svg xmlns=\"http://www.w3.org/2000/svg\" height=\"24px\"viewBox=\"0 0 24 24\"\n",
              "     width=\"24px\">\n",
              "    <g>\n",
              "        <path d=\"M19 3H5c-1.1 0-2 .9-2 2v14c0 1.1.9 2 2 2h14c1.1 0 2-.9 2-2V5c0-1.1-.9-2-2-2zM9 17H7v-7h2v7zm4 0h-2V7h2v10zm4 0h-2v-4h2v4z\"/>\n",
              "    </g>\n",
              "</svg>\n",
              "  </button>\n",
              "\n",
              "<style>\n",
              "  .colab-df-quickchart {\n",
              "      --bg-color: #E8F0FE;\n",
              "      --fill-color: #1967D2;\n",
              "      --hover-bg-color: #E2EBFA;\n",
              "      --hover-fill-color: #174EA6;\n",
              "      --disabled-fill-color: #AAA;\n",
              "      --disabled-bg-color: #DDD;\n",
              "  }\n",
              "\n",
              "  [theme=dark] .colab-df-quickchart {\n",
              "      --bg-color: #3B4455;\n",
              "      --fill-color: #D2E3FC;\n",
              "      --hover-bg-color: #434B5C;\n",
              "      --hover-fill-color: #FFFFFF;\n",
              "      --disabled-bg-color: #3B4455;\n",
              "      --disabled-fill-color: #666;\n",
              "  }\n",
              "\n",
              "  .colab-df-quickchart {\n",
              "    background-color: var(--bg-color);\n",
              "    border: none;\n",
              "    border-radius: 50%;\n",
              "    cursor: pointer;\n",
              "    display: none;\n",
              "    fill: var(--fill-color);\n",
              "    height: 32px;\n",
              "    padding: 0;\n",
              "    width: 32px;\n",
              "  }\n",
              "\n",
              "  .colab-df-quickchart:hover {\n",
              "    background-color: var(--hover-bg-color);\n",
              "    box-shadow: 0 1px 2px rgba(60, 64, 67, 0.3), 0 1px 3px 1px rgba(60, 64, 67, 0.15);\n",
              "    fill: var(--button-hover-fill-color);\n",
              "  }\n",
              "\n",
              "  .colab-df-quickchart-complete:disabled,\n",
              "  .colab-df-quickchart-complete:disabled:hover {\n",
              "    background-color: var(--disabled-bg-color);\n",
              "    fill: var(--disabled-fill-color);\n",
              "    box-shadow: none;\n",
              "  }\n",
              "\n",
              "  .colab-df-spinner {\n",
              "    border: 2px solid var(--fill-color);\n",
              "    border-color: transparent;\n",
              "    border-bottom-color: var(--fill-color);\n",
              "    animation:\n",
              "      spin 1s steps(1) infinite;\n",
              "  }\n",
              "\n",
              "  @keyframes spin {\n",
              "    0% {\n",
              "      border-color: transparent;\n",
              "      border-bottom-color: var(--fill-color);\n",
              "      border-left-color: var(--fill-color);\n",
              "    }\n",
              "    20% {\n",
              "      border-color: transparent;\n",
              "      border-left-color: var(--fill-color);\n",
              "      border-top-color: var(--fill-color);\n",
              "    }\n",
              "    30% {\n",
              "      border-color: transparent;\n",
              "      border-left-color: var(--fill-color);\n",
              "      border-top-color: var(--fill-color);\n",
              "      border-right-color: var(--fill-color);\n",
              "    }\n",
              "    40% {\n",
              "      border-color: transparent;\n",
              "      border-right-color: var(--fill-color);\n",
              "      border-top-color: var(--fill-color);\n",
              "    }\n",
              "    60% {\n",
              "      border-color: transparent;\n",
              "      border-right-color: var(--fill-color);\n",
              "    }\n",
              "    80% {\n",
              "      border-color: transparent;\n",
              "      border-right-color: var(--fill-color);\n",
              "      border-bottom-color: var(--fill-color);\n",
              "    }\n",
              "    90% {\n",
              "      border-color: transparent;\n",
              "      border-bottom-color: var(--fill-color);\n",
              "    }\n",
              "  }\n",
              "</style>\n",
              "\n",
              "  <script>\n",
              "    async function quickchart(key) {\n",
              "      const quickchartButtonEl =\n",
              "        document.querySelector('#' + key + ' button');\n",
              "      quickchartButtonEl.disabled = true;  // To prevent multiple clicks.\n",
              "      quickchartButtonEl.classList.add('colab-df-spinner');\n",
              "      try {\n",
              "        const charts = await google.colab.kernel.invokeFunction(\n",
              "            'suggestCharts', [key], {});\n",
              "      } catch (error) {\n",
              "        console.error('Error during call to suggestCharts:', error);\n",
              "      }\n",
              "      quickchartButtonEl.classList.remove('colab-df-spinner');\n",
              "      quickchartButtonEl.classList.add('colab-df-quickchart-complete');\n",
              "    }\n",
              "    (() => {\n",
              "      let quickchartButtonEl =\n",
              "        document.querySelector('#df-1df5e38d-f683-48f4-b2e8-61cc162be886 button');\n",
              "      quickchartButtonEl.style.display =\n",
              "        google.colab.kernel.accessAllowed ? 'block' : 'none';\n",
              "    })();\n",
              "  </script>\n",
              "</div>\n",
              "\n",
              "    </div>\n",
              "  </div>\n"
            ],
            "application/vnd.google.colaboratory.intrinsic+json": {
              "type": "dataframe",
              "variable_name": "df",
              "summary": "{\n  \"name\": \"df\",\n  \"rows\": 2148,\n  \"fields\": [\n    {\n      \"column\": \"AREA\",\n      \"properties\": {\n        \"dtype\": \"number\",\n        \"std\": 13121.73779890054,\n        \"min\": 29808.0,\n        \"max\": 124008.0,\n        \"num_unique_values\": 2101,\n        \"samples\": [\n          97590.0,\n          103994.0,\n          72913.0\n        ],\n        \"semantic_type\": \"\",\n        \"description\": \"\"\n      }\n    },\n    {\n      \"column\": \"PERIMETER\",\n      \"properties\": {\n        \"dtype\": \"number\",\n        \"std\": 375.56550345439894,\n        \"min\": 858.363,\n        \"max\": 2755.0491,\n        \"num_unique_values\": 2144,\n        \"samples\": [\n          2138.689,\n          1129.559,\n          1180.433\n        ],\n        \"semantic_type\": \"\",\n        \"description\": \"\"\n      }\n    },\n    {\n      \"column\": \"MAJOR_AXIS\",\n      \"properties\": {\n        \"dtype\": \"number\",\n        \"std\": 32.445303508178796,\n        \"min\": 320.3445,\n        \"max\": 541.9661,\n        \"num_unique_values\": 2143,\n        \"samples\": [\n          458.5762,\n          336.944,\n          509.9047\n        ],\n        \"semantic_type\": \"\",\n        \"description\": \"\"\n      }\n    },\n    {\n      \"column\": \"MINOR_AXIS\",\n      \"properties\": {\n        \"dtype\": \"number\",\n        \"std\": 30.310695396739984,\n        \"min\": 133.5096,\n        \"max\": 383.0461,\n        \"num_unique_values\": 2147,\n        \"samples\": [\n          261.1837,\n          335.8377,\n          231.4328\n        ],\n        \"semantic_type\": \"\",\n        \"description\": \"\"\n      }\n    },\n    {\n      \"column\": \"ECCENTRICITY\",\n      \"properties\": {\n        \"dtype\": \"number\",\n        \"std\": 0.048758957264750165,\n        \"min\": 0.5049,\n        \"max\": 0.946,\n        \"num_unique_values\": 1172,\n        \"samples\": [\n          0.855,\n          0.8627,\n          0.8585\n        ],\n        \"semantic_type\": \"\",\n        \"description\": \"\"\n      }\n    },\n    {\n      \"column\": \"EQDIASQ\",\n      \"properties\": {\n        \"dtype\": \"number\",\n        \"std\": 26.90860002379475,\n        \"min\": 194.8146,\n        \"max\": 397.3561,\n        \"num_unique_values\": 2101,\n        \"samples\": [\n          352.4989,\n          363.8809,\n          304.6895\n        ],\n        \"semantic_type\": \"\",\n        \"description\": \"\"\n      }\n    },\n    {\n      \"column\": \"SOLIDITY\",\n      \"properties\": {\n        \"dtype\": \"number\",\n        \"std\": 0.05045218484942025,\n        \"min\": 0.588,\n        \"max\": 0.9951,\n        \"num_unique_values\": 1070,\n        \"samples\": [\n          0.89,\n          0.9139,\n          0.9895\n        ],\n        \"semantic_type\": \"\",\n        \"description\": \"\"\n      }\n    },\n    {\n      \"column\": \"CONVEX_AREA\",\n      \"properties\": {\n        \"dtype\": \"number\",\n        \"std\": 13154.91932656929,\n        \"min\": 37935.0,\n        \"max\": 132478.0,\n        \"num_unique_values\": 2102,\n        \"samples\": [\n          87669.0,\n          94682.0,\n          76523.0\n        ],\n        \"semantic_type\": \"\",\n        \"description\": \"\"\n      }\n    },\n    {\n      \"column\": \"EXTENT\",\n      \"properties\": {\n        \"dtype\": \"number\",\n        \"std\": 0.05253229423461956,\n        \"min\": 0.4272,\n        \"max\": 0.8204,\n        \"num_unique_values\": 1222,\n        \"samples\": [\n          0.7662,\n          0.6922,\n          0.7454\n        ],\n        \"semantic_type\": \"\",\n        \"description\": \"\"\n      }\n    },\n    {\n      \"column\": \"ASPECT_RATIO\",\n      \"properties\": {\n        \"dtype\": \"number\",\n        \"std\": 0.24010025581296487,\n        \"min\": 1.1585,\n        \"max\": 3.0858,\n        \"num_unique_values\": 1922,\n        \"samples\": [\n          1.6521,\n          1.9963,\n          2.0112\n        ],\n        \"semantic_type\": \"\",\n        \"description\": \"\"\n      }\n    },\n    {\n      \"column\": \"ROUNDNESS\",\n      \"properties\": {\n        \"dtype\": \"number\",\n        \"std\": 0.21275974294227137,\n        \"min\": 0.0628,\n        \"max\": 0.9336,\n        \"num_unique_values\": 1789,\n        \"samples\": [\n          0.1827,\n          0.2723,\n          0.3997\n        ],\n        \"semantic_type\": \"\",\n        \"description\": \"\"\n      }\n    },\n    {\n      \"column\": \"COMPACTNESS\",\n      \"properties\": {\n        \"dtype\": \"number\",\n        \"std\": 0.04454714349125852,\n        \"min\": 0.476,\n        \"max\": 0.8779,\n        \"num_unique_values\": 1187,\n        \"samples\": [\n          0.6927,\n          0.7713,\n          0.7134\n        ],\n        \"semantic_type\": \"\",\n        \"description\": \"\"\n      }\n    },\n    {\n      \"column\": \"SHAPEFACTOR_1\",\n      \"properties\": {\n        \"dtype\": \"number\",\n        \"std\": 0.000817253003312335,\n        \"min\": 0.004,\n        \"max\": 0.0131,\n        \"num_unique_values\": 58,\n        \"samples\": [\n          0.0062,\n          0.0054,\n          0.0096\n        ],\n        \"semantic_type\": \"\",\n        \"description\": \"\"\n      }\n    },\n    {\n      \"column\": \"SHAPEFACTOR_2\",\n      \"properties\": {\n        \"dtype\": \"number\",\n        \"std\": 0.00033976902710538436,\n        \"min\": 0.0024,\n        \"max\": 0.0053,\n        \"num_unique_values\": 28,\n        \"samples\": [\n          0.0029,\n          0.0045,\n          0.0032\n        ],\n        \"semantic_type\": \"\",\n        \"description\": \"\"\n      }\n    },\n    {\n      \"column\": \"SHAPEFACTOR_3\",\n      \"properties\": {\n        \"dtype\": \"number\",\n        \"std\": 0.06394198264088032,\n        \"min\": 0.2266,\n        \"max\": 0.7706,\n        \"num_unique_values\": 1379,\n        \"samples\": [\n          0.4441,\n          0.5227,\n          0.505\n        ],\n        \"semantic_type\": \"\",\n        \"description\": \"\"\n      }\n    },\n    {\n      \"column\": \"SHAPEFACTOR_4\",\n      \"properties\": {\n        \"dtype\": \"number\",\n        \"std\": 0.051840480731986036,\n        \"min\": 0.6204,\n        \"max\": 0.999,\n        \"num_unique_values\": 928,\n        \"samples\": [\n          0.9809,\n          0.9875,\n          0.9805\n        ],\n        \"semantic_type\": \"\",\n        \"description\": \"\"\n      }\n    },\n    {\n      \"column\": \"Class\",\n      \"properties\": {\n        \"dtype\": \"category\",\n        \"num_unique_values\": 2,\n        \"samples\": [\n          \"b'Siit_Pistachio'\",\n          \"b'Kirmizi_Pistachio'\"\n        ],\n        \"semantic_type\": \"\",\n        \"description\": \"\"\n      }\n    }\n  ]\n}"
            }
          },
          "metadata": {},
          "execution_count": 26
        }
      ]
    },
    {
      "cell_type": "code",
      "source": [
        "import pandas as pd\n",
        "from sklearn.model_selection import train_test_split\n",
        "\n",
        "# Split the data into training and temporary sets (test + validation)\n",
        "train_df, temp_df = train_test_split(df, train_size=0.8, random_state=42) # 80% train\n",
        "\n",
        "# Split the temporary set into testing and validation sets\n",
        "test_df, val_df = train_test_split(temp_df, train_size=0.5, random_state=42) # 10% test, 10% validation\n",
        "\n",
        "\n",
        "# Create the 'Stage' column in each DataFrame\n",
        "train_df['Stage'] = 'train'\n",
        "test_df['Stage'] = 'test'\n",
        "val_df['Stage'] = 'val'\n",
        "\n",
        "\n",
        "# Concatenate the DataFrames back together\n",
        "combined_df = pd.concat([train_df, test_df, val_df], ignore_index=True)\n",
        "\n",
        "combined_df.head()\n",
        "combined_df.to_csv('data_split.csv', index=False)\n"
      ],
      "metadata": {
        "id": "ZnFtKP16kieW"
      },
      "execution_count": 27,
      "outputs": []
    },
    {
      "cell_type": "code",
      "source": [
        "processed_data_at = wandb.Artifact(\"pistachio-image-classification-data-split\", type=\"split_data\")\n",
        "processed_data_at.add_file('data_split.csv')\n",
        "processed_data_at.add_dir(path)"
      ],
      "metadata": {
        "colab": {
          "base_uri": "https://localhost:8080/"
        },
        "id": "CkHJoFvHmiY0",
        "outputId": "e5eaa9b0-19bf-4167-cb1b-bdd5170350f0"
      },
      "execution_count": 28,
      "outputs": [
        {
          "output_type": "stream",
          "name": "stderr",
          "text": [
            "\u001b[34m\u001b[1mwandb\u001b[0m: Adding directory to artifact (/content/artifacts/pistachio-image-classification:v1)... Done. 2.5s\n"
          ]
        }
      ]
    },
    {
      "cell_type": "code",
      "source": [
        "# Create a WandB Table\n",
        "table = wandb.Table(columns=list(combined_df.columns))\n",
        "\n",
        "# Iterate through the DataFrame and add rows to the table\n",
        "for index, row in combined_df.iterrows():\n",
        "    table.add_data(*row.values)\n",
        "\n",
        "processed_data_at.add(table, \"eda_table_data_split\")\n",
        "\n",
        "# Log the table to Weights & Biases\n",
        "wandb.log({\"raw_data_table\": table})\n",
        "run.log_artifact(processed_data_at)\n"
      ],
      "metadata": {
        "colab": {
          "base_uri": "https://localhost:8080/"
        },
        "id": "MpP7Uty3nJfx",
        "outputId": "4f4003b1-2330-4ada-ce0f-f4020a6a953a"
      },
      "execution_count": 29,
      "outputs": [
        {
          "output_type": "execute_result",
          "data": {
            "text/plain": [
              "<Artifact pistachio-image-classification-data-split>"
            ]
          },
          "metadata": {},
          "execution_count": 29
        }
      ]
    },
    {
      "cell_type": "code",
      "source": [
        "run.finish()"
      ],
      "metadata": {
        "colab": {
          "base_uri": "https://localhost:8080/",
          "height": 86
        },
        "id": "xB_j82z9pZsA",
        "outputId": "c42a5fcc-da88-4de7-d944-7a596b14edb4"
      },
      "execution_count": 30,
      "outputs": [
        {
          "output_type": "display_data",
          "data": {
            "text/plain": [
              "<IPython.core.display.HTML object>"
            ],
            "text/html": []
          },
          "metadata": {}
        },
        {
          "output_type": "display_data",
          "data": {
            "text/plain": [
              "<IPython.core.display.HTML object>"
            ],
            "text/html": [
              " View run <strong style=\"color:#cdcd00\">pious-pine-18</strong> at: <a href='https://wandb.ai/vadhri-venkat/pistachio-classification/runs/xidsohtm' target=\"_blank\">https://wandb.ai/vadhri-venkat/pistachio-classification/runs/xidsohtm</a><br> View project at: <a href='https://wandb.ai/vadhri-venkat/pistachio-classification' target=\"_blank\">https://wandb.ai/vadhri-venkat/pistachio-classification</a><br>Synced 5 W&B file(s), 1 media file(s), 2 artifact file(s) and 0 other file(s)"
            ]
          },
          "metadata": {}
        },
        {
          "output_type": "display_data",
          "data": {
            "text/plain": [
              "<IPython.core.display.HTML object>"
            ],
            "text/html": [
              "Find logs at: <code>./wandb/run-20250413_075527-xidsohtm/logs</code>"
            ]
          },
          "metadata": {}
        }
      ]
    },
    {
      "cell_type": "code",
      "source": [
        "import wandb\n",
        "import pandas as pd\n",
        "from sklearn.model_selection import train_test_split\n",
        "from sklearn.metrics import accuracy_score\n",
        "\n",
        "# Initialize a new wandb run\n",
        "run = wandb.init(project='pistachio-classification', entity=None, job_type=\"training\")\n",
        "\n",
        "# Access the processed data artifact\n",
        "processed_data_at = run.use_artifact('pistachio-image-classification-data-split:latest')\n",
        "path = Path(processed_data_at.download())\n",
        "data_split_path = 'data_split.csv' # Assuming this is where the file is saved after download\n",
        "\n",
        "# Load the data\n",
        "df = pd.read_csv(data_split_path)\n",
        "\n",
        "# Prepare data\n",
        "X = df.drop(['Class', 'Stage'], axis=1)\n",
        "y = df['Class']\n",
        "\n",
        "X_train = X[df['Stage'] == 'train']\n",
        "y_train = y[df['Stage'] == 'train']\n",
        "X_val = X[df['Stage'] == 'val']\n",
        "y_val = y[df['Stage'] == 'val']\n",
        "X_test = X[df['Stage'] == 'test']\n",
        "y_test = y[df['Stage'] == 'test']\n",
        "\n",
        "X_train"
      ],
      "metadata": {
        "colab": {
          "base_uri": "https://localhost:8080/",
          "height": 652
        },
        "id": "l1SspGozscjK",
        "outputId": "1cac8bb5-bed8-4ea7-e957-e9aa68498312"
      },
      "execution_count": 33,
      "outputs": [
        {
          "output_type": "display_data",
          "data": {
            "text/plain": [
              "<IPython.core.display.HTML object>"
            ],
            "text/html": []
          },
          "metadata": {}
        },
        {
          "output_type": "display_data",
          "data": {
            "text/plain": [
              "<IPython.core.display.HTML object>"
            ],
            "text/html": [
              " View run <strong style=\"color:#cdcd00\">sgd_classifier_run</strong> at: <a href='https://wandb.ai/vadhri-venkat/pistachio-classification/runs/kxz7qmok' target=\"_blank\">https://wandb.ai/vadhri-venkat/pistachio-classification/runs/kxz7qmok</a><br> View project at: <a href='https://wandb.ai/vadhri-venkat/pistachio-classification' target=\"_blank\">https://wandb.ai/vadhri-venkat/pistachio-classification</a><br>Synced 5 W&B file(s), 0 media file(s), 0 artifact file(s) and 0 other file(s)"
            ]
          },
          "metadata": {}
        },
        {
          "output_type": "display_data",
          "data": {
            "text/plain": [
              "<IPython.core.display.HTML object>"
            ],
            "text/html": [
              "Find logs at: <code>./wandb/run-20250413_075606-kxz7qmok/logs</code>"
            ]
          },
          "metadata": {}
        },
        {
          "output_type": "display_data",
          "data": {
            "text/plain": [
              "<IPython.core.display.HTML object>"
            ],
            "text/html": [
              "Tracking run with wandb version 0.19.9"
            ]
          },
          "metadata": {}
        },
        {
          "output_type": "display_data",
          "data": {
            "text/plain": [
              "<IPython.core.display.HTML object>"
            ],
            "text/html": [
              "Run data is saved locally in <code>/content/wandb/run-20250413_075644-rndiskzi</code>"
            ]
          },
          "metadata": {}
        },
        {
          "output_type": "display_data",
          "data": {
            "text/plain": [
              "<IPython.core.display.HTML object>"
            ],
            "text/html": [
              "Syncing run <strong><a href='https://wandb.ai/vadhri-venkat/pistachio-classification/runs/rndiskzi' target=\"_blank\">fast-resonance-21</a></strong> to <a href='https://wandb.ai/vadhri-venkat/pistachio-classification' target=\"_blank\">Weights & Biases</a> (<a href='https://wandb.me/developer-guide' target=\"_blank\">docs</a>)<br>"
            ]
          },
          "metadata": {}
        },
        {
          "output_type": "display_data",
          "data": {
            "text/plain": [
              "<IPython.core.display.HTML object>"
            ],
            "text/html": [
              " View project at <a href='https://wandb.ai/vadhri-venkat/pistachio-classification' target=\"_blank\">https://wandb.ai/vadhri-venkat/pistachio-classification</a>"
            ]
          },
          "metadata": {}
        },
        {
          "output_type": "display_data",
          "data": {
            "text/plain": [
              "<IPython.core.display.HTML object>"
            ],
            "text/html": [
              " View run at <a href='https://wandb.ai/vadhri-venkat/pistachio-classification/runs/rndiskzi' target=\"_blank\">https://wandb.ai/vadhri-venkat/pistachio-classification/runs/rndiskzi</a>"
            ]
          },
          "metadata": {}
        },
        {
          "output_type": "stream",
          "name": "stderr",
          "text": [
            "\u001b[34m\u001b[1mwandb\u001b[0m: Downloading large artifact pistachio-image-classification-data-split:latest, 233.35MB. 4190 files... \n",
            "\u001b[34m\u001b[1mwandb\u001b[0m:   4190 of 4190 files downloaded.  \n",
            "Done. 0:0:8.8\n"
          ]
        },
        {
          "output_type": "execute_result",
          "data": {
            "text/plain": [
              "          AREA  PERIMETER  MAJOR_AXIS  MINOR_AXIS  ECCENTRICITY   EQDIASQ  \\\n",
              "0      84923.0   1199.219    469.3299    232.0247        0.8692  328.8272   \n",
              "1      84224.0   1200.877    467.1863    235.6823        0.8634  327.4711   \n",
              "2      86122.0   1221.968    484.0731    228.6191        0.8814  331.1404   \n",
              "3      68690.0   1393.833    404.2966    230.1950        0.8221  295.7344   \n",
              "4      97881.0   2399.230    461.0921    296.1725        0.7664  353.0240   \n",
              "...        ...        ...         ...         ...           ...       ...   \n",
              "1713   98991.0   1318.223    489.3268    259.3689        0.8480  355.0201   \n",
              "1714   75029.0   1459.381    421.1766    240.2017        0.8214  309.0791   \n",
              "1715   64524.0   1033.183    399.9250    218.3169        0.8379  286.6261   \n",
              "1716  104872.0   1330.420    492.2440    274.5856        0.8300  365.4137   \n",
              "1717   86161.0   1197.375    489.0427    225.6138        0.8872  331.2153   \n",
              "\n",
              "      SOLIDITY  CONVEX_AREA  EXTENT  ASPECT_RATIO  ROUNDNESS  COMPACTNESS  \\\n",
              "0       0.9816      86519.0  0.6558        2.0228     0.7421       0.7006   \n",
              "1       0.9668      87114.0  0.7333        1.9823     0.7339       0.7009   \n",
              "2       0.9761      88229.0  0.7310        2.1174     0.7248       0.6841   \n",
              "3       0.9094      75536.0  0.7537        1.7563     0.4443       0.7315   \n",
              "4       0.8852     110573.0  0.6879        1.5568     0.2137       0.7656   \n",
              "...        ...          ...     ...           ...        ...          ...   \n",
              "1713    0.9783     101188.0  0.7670        1.8866     0.7159       0.7255   \n",
              "1714    0.9360      80155.0  0.6927        1.7534     0.4427       0.7338   \n",
              "1715    0.9465      68168.0  0.7239        1.8319     0.7596       0.7167   \n",
              "1716    0.9675     108394.0  0.7543        1.7927     0.7445       0.7423   \n",
              "1717    0.9921      86849.0  0.7467        2.1676     0.7552       0.6773   \n",
              "\n",
              "      SHAPEFACTOR_1  SHAPEFACTOR_2  SHAPEFACTOR_3  SHAPEFACTOR_4  \n",
              "0            0.0055         0.0027         0.4909         0.9929  \n",
              "1            0.0055         0.0028         0.4913         0.9739  \n",
              "2            0.0056         0.0027         0.4680         0.9908  \n",
              "3            0.0059         0.0034         0.5351         0.9397  \n",
              "4            0.0047         0.0030         0.5862         0.9126  \n",
              "...             ...            ...            ...            ...  \n",
              "1713         0.0049         0.0026         0.5264         0.9931  \n",
              "1714         0.0056         0.0032         0.5385         0.9443  \n",
              "1715         0.0062         0.0034         0.5137         0.9409  \n",
              "1716         0.0047         0.0026         0.5511         0.9879  \n",
              "1717         0.0057         0.0026         0.4587         0.9943  \n",
              "\n",
              "[1718 rows x 16 columns]"
            ],
            "text/html": [
              "\n",
              "  <div id=\"df-4867e722-7a1e-4b38-9870-6e024917e7a8\" class=\"colab-df-container\">\n",
              "    <div>\n",
              "<style scoped>\n",
              "    .dataframe tbody tr th:only-of-type {\n",
              "        vertical-align: middle;\n",
              "    }\n",
              "\n",
              "    .dataframe tbody tr th {\n",
              "        vertical-align: top;\n",
              "    }\n",
              "\n",
              "    .dataframe thead th {\n",
              "        text-align: right;\n",
              "    }\n",
              "</style>\n",
              "<table border=\"1\" class=\"dataframe\">\n",
              "  <thead>\n",
              "    <tr style=\"text-align: right;\">\n",
              "      <th></th>\n",
              "      <th>AREA</th>\n",
              "      <th>PERIMETER</th>\n",
              "      <th>MAJOR_AXIS</th>\n",
              "      <th>MINOR_AXIS</th>\n",
              "      <th>ECCENTRICITY</th>\n",
              "      <th>EQDIASQ</th>\n",
              "      <th>SOLIDITY</th>\n",
              "      <th>CONVEX_AREA</th>\n",
              "      <th>EXTENT</th>\n",
              "      <th>ASPECT_RATIO</th>\n",
              "      <th>ROUNDNESS</th>\n",
              "      <th>COMPACTNESS</th>\n",
              "      <th>SHAPEFACTOR_1</th>\n",
              "      <th>SHAPEFACTOR_2</th>\n",
              "      <th>SHAPEFACTOR_3</th>\n",
              "      <th>SHAPEFACTOR_4</th>\n",
              "    </tr>\n",
              "  </thead>\n",
              "  <tbody>\n",
              "    <tr>\n",
              "      <th>0</th>\n",
              "      <td>84923.0</td>\n",
              "      <td>1199.219</td>\n",
              "      <td>469.3299</td>\n",
              "      <td>232.0247</td>\n",
              "      <td>0.8692</td>\n",
              "      <td>328.8272</td>\n",
              "      <td>0.9816</td>\n",
              "      <td>86519.0</td>\n",
              "      <td>0.6558</td>\n",
              "      <td>2.0228</td>\n",
              "      <td>0.7421</td>\n",
              "      <td>0.7006</td>\n",
              "      <td>0.0055</td>\n",
              "      <td>0.0027</td>\n",
              "      <td>0.4909</td>\n",
              "      <td>0.9929</td>\n",
              "    </tr>\n",
              "    <tr>\n",
              "      <th>1</th>\n",
              "      <td>84224.0</td>\n",
              "      <td>1200.877</td>\n",
              "      <td>467.1863</td>\n",
              "      <td>235.6823</td>\n",
              "      <td>0.8634</td>\n",
              "      <td>327.4711</td>\n",
              "      <td>0.9668</td>\n",
              "      <td>87114.0</td>\n",
              "      <td>0.7333</td>\n",
              "      <td>1.9823</td>\n",
              "      <td>0.7339</td>\n",
              "      <td>0.7009</td>\n",
              "      <td>0.0055</td>\n",
              "      <td>0.0028</td>\n",
              "      <td>0.4913</td>\n",
              "      <td>0.9739</td>\n",
              "    </tr>\n",
              "    <tr>\n",
              "      <th>2</th>\n",
              "      <td>86122.0</td>\n",
              "      <td>1221.968</td>\n",
              "      <td>484.0731</td>\n",
              "      <td>228.6191</td>\n",
              "      <td>0.8814</td>\n",
              "      <td>331.1404</td>\n",
              "      <td>0.9761</td>\n",
              "      <td>88229.0</td>\n",
              "      <td>0.7310</td>\n",
              "      <td>2.1174</td>\n",
              "      <td>0.7248</td>\n",
              "      <td>0.6841</td>\n",
              "      <td>0.0056</td>\n",
              "      <td>0.0027</td>\n",
              "      <td>0.4680</td>\n",
              "      <td>0.9908</td>\n",
              "    </tr>\n",
              "    <tr>\n",
              "      <th>3</th>\n",
              "      <td>68690.0</td>\n",
              "      <td>1393.833</td>\n",
              "      <td>404.2966</td>\n",
              "      <td>230.1950</td>\n",
              "      <td>0.8221</td>\n",
              "      <td>295.7344</td>\n",
              "      <td>0.9094</td>\n",
              "      <td>75536.0</td>\n",
              "      <td>0.7537</td>\n",
              "      <td>1.7563</td>\n",
              "      <td>0.4443</td>\n",
              "      <td>0.7315</td>\n",
              "      <td>0.0059</td>\n",
              "      <td>0.0034</td>\n",
              "      <td>0.5351</td>\n",
              "      <td>0.9397</td>\n",
              "    </tr>\n",
              "    <tr>\n",
              "      <th>4</th>\n",
              "      <td>97881.0</td>\n",
              "      <td>2399.230</td>\n",
              "      <td>461.0921</td>\n",
              "      <td>296.1725</td>\n",
              "      <td>0.7664</td>\n",
              "      <td>353.0240</td>\n",
              "      <td>0.8852</td>\n",
              "      <td>110573.0</td>\n",
              "      <td>0.6879</td>\n",
              "      <td>1.5568</td>\n",
              "      <td>0.2137</td>\n",
              "      <td>0.7656</td>\n",
              "      <td>0.0047</td>\n",
              "      <td>0.0030</td>\n",
              "      <td>0.5862</td>\n",
              "      <td>0.9126</td>\n",
              "    </tr>\n",
              "    <tr>\n",
              "      <th>...</th>\n",
              "      <td>...</td>\n",
              "      <td>...</td>\n",
              "      <td>...</td>\n",
              "      <td>...</td>\n",
              "      <td>...</td>\n",
              "      <td>...</td>\n",
              "      <td>...</td>\n",
              "      <td>...</td>\n",
              "      <td>...</td>\n",
              "      <td>...</td>\n",
              "      <td>...</td>\n",
              "      <td>...</td>\n",
              "      <td>...</td>\n",
              "      <td>...</td>\n",
              "      <td>...</td>\n",
              "      <td>...</td>\n",
              "    </tr>\n",
              "    <tr>\n",
              "      <th>1713</th>\n",
              "      <td>98991.0</td>\n",
              "      <td>1318.223</td>\n",
              "      <td>489.3268</td>\n",
              "      <td>259.3689</td>\n",
              "      <td>0.8480</td>\n",
              "      <td>355.0201</td>\n",
              "      <td>0.9783</td>\n",
              "      <td>101188.0</td>\n",
              "      <td>0.7670</td>\n",
              "      <td>1.8866</td>\n",
              "      <td>0.7159</td>\n",
              "      <td>0.7255</td>\n",
              "      <td>0.0049</td>\n",
              "      <td>0.0026</td>\n",
              "      <td>0.5264</td>\n",
              "      <td>0.9931</td>\n",
              "    </tr>\n",
              "    <tr>\n",
              "      <th>1714</th>\n",
              "      <td>75029.0</td>\n",
              "      <td>1459.381</td>\n",
              "      <td>421.1766</td>\n",
              "      <td>240.2017</td>\n",
              "      <td>0.8214</td>\n",
              "      <td>309.0791</td>\n",
              "      <td>0.9360</td>\n",
              "      <td>80155.0</td>\n",
              "      <td>0.6927</td>\n",
              "      <td>1.7534</td>\n",
              "      <td>0.4427</td>\n",
              "      <td>0.7338</td>\n",
              "      <td>0.0056</td>\n",
              "      <td>0.0032</td>\n",
              "      <td>0.5385</td>\n",
              "      <td>0.9443</td>\n",
              "    </tr>\n",
              "    <tr>\n",
              "      <th>1715</th>\n",
              "      <td>64524.0</td>\n",
              "      <td>1033.183</td>\n",
              "      <td>399.9250</td>\n",
              "      <td>218.3169</td>\n",
              "      <td>0.8379</td>\n",
              "      <td>286.6261</td>\n",
              "      <td>0.9465</td>\n",
              "      <td>68168.0</td>\n",
              "      <td>0.7239</td>\n",
              "      <td>1.8319</td>\n",
              "      <td>0.7596</td>\n",
              "      <td>0.7167</td>\n",
              "      <td>0.0062</td>\n",
              "      <td>0.0034</td>\n",
              "      <td>0.5137</td>\n",
              "      <td>0.9409</td>\n",
              "    </tr>\n",
              "    <tr>\n",
              "      <th>1716</th>\n",
              "      <td>104872.0</td>\n",
              "      <td>1330.420</td>\n",
              "      <td>492.2440</td>\n",
              "      <td>274.5856</td>\n",
              "      <td>0.8300</td>\n",
              "      <td>365.4137</td>\n",
              "      <td>0.9675</td>\n",
              "      <td>108394.0</td>\n",
              "      <td>0.7543</td>\n",
              "      <td>1.7927</td>\n",
              "      <td>0.7445</td>\n",
              "      <td>0.7423</td>\n",
              "      <td>0.0047</td>\n",
              "      <td>0.0026</td>\n",
              "      <td>0.5511</td>\n",
              "      <td>0.9879</td>\n",
              "    </tr>\n",
              "    <tr>\n",
              "      <th>1717</th>\n",
              "      <td>86161.0</td>\n",
              "      <td>1197.375</td>\n",
              "      <td>489.0427</td>\n",
              "      <td>225.6138</td>\n",
              "      <td>0.8872</td>\n",
              "      <td>331.2153</td>\n",
              "      <td>0.9921</td>\n",
              "      <td>86849.0</td>\n",
              "      <td>0.7467</td>\n",
              "      <td>2.1676</td>\n",
              "      <td>0.7552</td>\n",
              "      <td>0.6773</td>\n",
              "      <td>0.0057</td>\n",
              "      <td>0.0026</td>\n",
              "      <td>0.4587</td>\n",
              "      <td>0.9943</td>\n",
              "    </tr>\n",
              "  </tbody>\n",
              "</table>\n",
              "<p>1718 rows × 16 columns</p>\n",
              "</div>\n",
              "    <div class=\"colab-df-buttons\">\n",
              "\n",
              "  <div class=\"colab-df-container\">\n",
              "    <button class=\"colab-df-convert\" onclick=\"convertToInteractive('df-4867e722-7a1e-4b38-9870-6e024917e7a8')\"\n",
              "            title=\"Convert this dataframe to an interactive table.\"\n",
              "            style=\"display:none;\">\n",
              "\n",
              "  <svg xmlns=\"http://www.w3.org/2000/svg\" height=\"24px\" viewBox=\"0 -960 960 960\">\n",
              "    <path d=\"M120-120v-720h720v720H120Zm60-500h600v-160H180v160Zm220 220h160v-160H400v160Zm0 220h160v-160H400v160ZM180-400h160v-160H180v160Zm440 0h160v-160H620v160ZM180-180h160v-160H180v160Zm440 0h160v-160H620v160Z\"/>\n",
              "  </svg>\n",
              "    </button>\n",
              "\n",
              "  <style>\n",
              "    .colab-df-container {\n",
              "      display:flex;\n",
              "      gap: 12px;\n",
              "    }\n",
              "\n",
              "    .colab-df-convert {\n",
              "      background-color: #E8F0FE;\n",
              "      border: none;\n",
              "      border-radius: 50%;\n",
              "      cursor: pointer;\n",
              "      display: none;\n",
              "      fill: #1967D2;\n",
              "      height: 32px;\n",
              "      padding: 0 0 0 0;\n",
              "      width: 32px;\n",
              "    }\n",
              "\n",
              "    .colab-df-convert:hover {\n",
              "      background-color: #E2EBFA;\n",
              "      box-shadow: 0px 1px 2px rgba(60, 64, 67, 0.3), 0px 1px 3px 1px rgba(60, 64, 67, 0.15);\n",
              "      fill: #174EA6;\n",
              "    }\n",
              "\n",
              "    .colab-df-buttons div {\n",
              "      margin-bottom: 4px;\n",
              "    }\n",
              "\n",
              "    [theme=dark] .colab-df-convert {\n",
              "      background-color: #3B4455;\n",
              "      fill: #D2E3FC;\n",
              "    }\n",
              "\n",
              "    [theme=dark] .colab-df-convert:hover {\n",
              "      background-color: #434B5C;\n",
              "      box-shadow: 0px 1px 3px 1px rgba(0, 0, 0, 0.15);\n",
              "      filter: drop-shadow(0px 1px 2px rgba(0, 0, 0, 0.3));\n",
              "      fill: #FFFFFF;\n",
              "    }\n",
              "  </style>\n",
              "\n",
              "    <script>\n",
              "      const buttonEl =\n",
              "        document.querySelector('#df-4867e722-7a1e-4b38-9870-6e024917e7a8 button.colab-df-convert');\n",
              "      buttonEl.style.display =\n",
              "        google.colab.kernel.accessAllowed ? 'block' : 'none';\n",
              "\n",
              "      async function convertToInteractive(key) {\n",
              "        const element = document.querySelector('#df-4867e722-7a1e-4b38-9870-6e024917e7a8');\n",
              "        const dataTable =\n",
              "          await google.colab.kernel.invokeFunction('convertToInteractive',\n",
              "                                                    [key], {});\n",
              "        if (!dataTable) return;\n",
              "\n",
              "        const docLinkHtml = 'Like what you see? Visit the ' +\n",
              "          '<a target=\"_blank\" href=https://colab.research.google.com/notebooks/data_table.ipynb>data table notebook</a>'\n",
              "          + ' to learn more about interactive tables.';\n",
              "        element.innerHTML = '';\n",
              "        dataTable['output_type'] = 'display_data';\n",
              "        await google.colab.output.renderOutput(dataTable, element);\n",
              "        const docLink = document.createElement('div');\n",
              "        docLink.innerHTML = docLinkHtml;\n",
              "        element.appendChild(docLink);\n",
              "      }\n",
              "    </script>\n",
              "  </div>\n",
              "\n",
              "\n",
              "<div id=\"df-dd8dc3c7-59b3-4aed-9902-c5f85b1ffa02\">\n",
              "  <button class=\"colab-df-quickchart\" onclick=\"quickchart('df-dd8dc3c7-59b3-4aed-9902-c5f85b1ffa02')\"\n",
              "            title=\"Suggest charts\"\n",
              "            style=\"display:none;\">\n",
              "\n",
              "<svg xmlns=\"http://www.w3.org/2000/svg\" height=\"24px\"viewBox=\"0 0 24 24\"\n",
              "     width=\"24px\">\n",
              "    <g>\n",
              "        <path d=\"M19 3H5c-1.1 0-2 .9-2 2v14c0 1.1.9 2 2 2h14c1.1 0 2-.9 2-2V5c0-1.1-.9-2-2-2zM9 17H7v-7h2v7zm4 0h-2V7h2v10zm4 0h-2v-4h2v4z\"/>\n",
              "    </g>\n",
              "</svg>\n",
              "  </button>\n",
              "\n",
              "<style>\n",
              "  .colab-df-quickchart {\n",
              "      --bg-color: #E8F0FE;\n",
              "      --fill-color: #1967D2;\n",
              "      --hover-bg-color: #E2EBFA;\n",
              "      --hover-fill-color: #174EA6;\n",
              "      --disabled-fill-color: #AAA;\n",
              "      --disabled-bg-color: #DDD;\n",
              "  }\n",
              "\n",
              "  [theme=dark] .colab-df-quickchart {\n",
              "      --bg-color: #3B4455;\n",
              "      --fill-color: #D2E3FC;\n",
              "      --hover-bg-color: #434B5C;\n",
              "      --hover-fill-color: #FFFFFF;\n",
              "      --disabled-bg-color: #3B4455;\n",
              "      --disabled-fill-color: #666;\n",
              "  }\n",
              "\n",
              "  .colab-df-quickchart {\n",
              "    background-color: var(--bg-color);\n",
              "    border: none;\n",
              "    border-radius: 50%;\n",
              "    cursor: pointer;\n",
              "    display: none;\n",
              "    fill: var(--fill-color);\n",
              "    height: 32px;\n",
              "    padding: 0;\n",
              "    width: 32px;\n",
              "  }\n",
              "\n",
              "  .colab-df-quickchart:hover {\n",
              "    background-color: var(--hover-bg-color);\n",
              "    box-shadow: 0 1px 2px rgba(60, 64, 67, 0.3), 0 1px 3px 1px rgba(60, 64, 67, 0.15);\n",
              "    fill: var(--button-hover-fill-color);\n",
              "  }\n",
              "\n",
              "  .colab-df-quickchart-complete:disabled,\n",
              "  .colab-df-quickchart-complete:disabled:hover {\n",
              "    background-color: var(--disabled-bg-color);\n",
              "    fill: var(--disabled-fill-color);\n",
              "    box-shadow: none;\n",
              "  }\n",
              "\n",
              "  .colab-df-spinner {\n",
              "    border: 2px solid var(--fill-color);\n",
              "    border-color: transparent;\n",
              "    border-bottom-color: var(--fill-color);\n",
              "    animation:\n",
              "      spin 1s steps(1) infinite;\n",
              "  }\n",
              "\n",
              "  @keyframes spin {\n",
              "    0% {\n",
              "      border-color: transparent;\n",
              "      border-bottom-color: var(--fill-color);\n",
              "      border-left-color: var(--fill-color);\n",
              "    }\n",
              "    20% {\n",
              "      border-color: transparent;\n",
              "      border-left-color: var(--fill-color);\n",
              "      border-top-color: var(--fill-color);\n",
              "    }\n",
              "    30% {\n",
              "      border-color: transparent;\n",
              "      border-left-color: var(--fill-color);\n",
              "      border-top-color: var(--fill-color);\n",
              "      border-right-color: var(--fill-color);\n",
              "    }\n",
              "    40% {\n",
              "      border-color: transparent;\n",
              "      border-right-color: var(--fill-color);\n",
              "      border-top-color: var(--fill-color);\n",
              "    }\n",
              "    60% {\n",
              "      border-color: transparent;\n",
              "      border-right-color: var(--fill-color);\n",
              "    }\n",
              "    80% {\n",
              "      border-color: transparent;\n",
              "      border-right-color: var(--fill-color);\n",
              "      border-bottom-color: var(--fill-color);\n",
              "    }\n",
              "    90% {\n",
              "      border-color: transparent;\n",
              "      border-bottom-color: var(--fill-color);\n",
              "    }\n",
              "  }\n",
              "</style>\n",
              "\n",
              "  <script>\n",
              "    async function quickchart(key) {\n",
              "      const quickchartButtonEl =\n",
              "        document.querySelector('#' + key + ' button');\n",
              "      quickchartButtonEl.disabled = true;  // To prevent multiple clicks.\n",
              "      quickchartButtonEl.classList.add('colab-df-spinner');\n",
              "      try {\n",
              "        const charts = await google.colab.kernel.invokeFunction(\n",
              "            'suggestCharts', [key], {});\n",
              "      } catch (error) {\n",
              "        console.error('Error during call to suggestCharts:', error);\n",
              "      }\n",
              "      quickchartButtonEl.classList.remove('colab-df-spinner');\n",
              "      quickchartButtonEl.classList.add('colab-df-quickchart-complete');\n",
              "    }\n",
              "    (() => {\n",
              "      let quickchartButtonEl =\n",
              "        document.querySelector('#df-dd8dc3c7-59b3-4aed-9902-c5f85b1ffa02 button');\n",
              "      quickchartButtonEl.style.display =\n",
              "        google.colab.kernel.accessAllowed ? 'block' : 'none';\n",
              "    })();\n",
              "  </script>\n",
              "</div>\n",
              "\n",
              "  <div id=\"id_be84588e-db42-49f2-ba95-911c33568ed2\">\n",
              "    <style>\n",
              "      .colab-df-generate {\n",
              "        background-color: #E8F0FE;\n",
              "        border: none;\n",
              "        border-radius: 50%;\n",
              "        cursor: pointer;\n",
              "        display: none;\n",
              "        fill: #1967D2;\n",
              "        height: 32px;\n",
              "        padding: 0 0 0 0;\n",
              "        width: 32px;\n",
              "      }\n",
              "\n",
              "      .colab-df-generate:hover {\n",
              "        background-color: #E2EBFA;\n",
              "        box-shadow: 0px 1px 2px rgba(60, 64, 67, 0.3), 0px 1px 3px 1px rgba(60, 64, 67, 0.15);\n",
              "        fill: #174EA6;\n",
              "      }\n",
              "\n",
              "      [theme=dark] .colab-df-generate {\n",
              "        background-color: #3B4455;\n",
              "        fill: #D2E3FC;\n",
              "      }\n",
              "\n",
              "      [theme=dark] .colab-df-generate:hover {\n",
              "        background-color: #434B5C;\n",
              "        box-shadow: 0px 1px 3px 1px rgba(0, 0, 0, 0.15);\n",
              "        filter: drop-shadow(0px 1px 2px rgba(0, 0, 0, 0.3));\n",
              "        fill: #FFFFFF;\n",
              "      }\n",
              "    </style>\n",
              "    <button class=\"colab-df-generate\" onclick=\"generateWithVariable('X_train')\"\n",
              "            title=\"Generate code using this dataframe.\"\n",
              "            style=\"display:none;\">\n",
              "\n",
              "  <svg xmlns=\"http://www.w3.org/2000/svg\" height=\"24px\"viewBox=\"0 0 24 24\"\n",
              "       width=\"24px\">\n",
              "    <path d=\"M7,19H8.4L18.45,9,17,7.55,7,17.6ZM5,21V16.75L18.45,3.32a2,2,0,0,1,2.83,0l1.4,1.43a1.91,1.91,0,0,1,.58,1.4,1.91,1.91,0,0,1-.58,1.4L9.25,21ZM18.45,9,17,7.55Zm-12,3A5.31,5.31,0,0,0,4.9,8.1,5.31,5.31,0,0,0,1,6.5,5.31,5.31,0,0,0,4.9,4.9,5.31,5.31,0,0,0,6.5,1,5.31,5.31,0,0,0,8.1,4.9,5.31,5.31,0,0,0,12,6.5,5.46,5.46,0,0,0,6.5,12Z\"/>\n",
              "  </svg>\n",
              "    </button>\n",
              "    <script>\n",
              "      (() => {\n",
              "      const buttonEl =\n",
              "        document.querySelector('#id_be84588e-db42-49f2-ba95-911c33568ed2 button.colab-df-generate');\n",
              "      buttonEl.style.display =\n",
              "        google.colab.kernel.accessAllowed ? 'block' : 'none';\n",
              "\n",
              "      buttonEl.onclick = () => {\n",
              "        google.colab.notebook.generateWithVariable('X_train');\n",
              "      }\n",
              "      })();\n",
              "    </script>\n",
              "  </div>\n",
              "\n",
              "    </div>\n",
              "  </div>\n"
            ],
            "application/vnd.google.colaboratory.intrinsic+json": {
              "type": "dataframe",
              "variable_name": "X_train",
              "summary": "{\n  \"name\": \"X_train\",\n  \"rows\": 1718,\n  \"fields\": [\n    {\n      \"column\": \"AREA\",\n      \"properties\": {\n        \"dtype\": \"number\",\n        \"std\": 13009.196238810478,\n        \"min\": 29808.0,\n        \"max\": 120744.0,\n        \"num_unique_values\": 1691,\n        \"samples\": [\n          60411.0,\n          80972.0,\n          70125.0\n        ],\n        \"semantic_type\": \"\",\n        \"description\": \"\"\n      }\n    },\n    {\n      \"column\": \"PERIMETER\",\n      \"properties\": {\n        \"dtype\": \"number\",\n        \"std\": 376.3994807394914,\n        \"min\": 858.363,\n        \"max\": 2755.0491,\n        \"num_unique_values\": 1714,\n        \"samples\": [\n          1163.835,\n          1162.719,\n          1125.891\n        ],\n        \"semantic_type\": \"\",\n        \"description\": \"\"\n      }\n    },\n    {\n      \"column\": \"MAJOR_AXIS\",\n      \"properties\": {\n        \"dtype\": \"number\",\n        \"std\": 32.297804512453624,\n        \"min\": 320.3445,\n        \"max\": 532.0884,\n        \"num_unique_values\": 1716,\n        \"samples\": [\n          492.1038,\n          462.6178,\n          445.6265\n        ],\n        \"semantic_type\": \"\",\n        \"description\": \"\"\n      }\n    },\n    {\n      \"column\": \"MINOR_AXIS\",\n      \"properties\": {\n        \"dtype\": \"number\",\n        \"std\": 30.25295283128459,\n        \"min\": 133.5096,\n        \"max\": 383.0461,\n        \"num_unique_values\": 1717,\n        \"samples\": [\n          225.662,\n          231.464,\n          215.1767\n        ],\n        \"semantic_type\": \"\",\n        \"description\": \"\"\n      }\n    },\n    {\n      \"column\": \"ECCENTRICITY\",\n      \"properties\": {\n        \"dtype\": \"number\",\n        \"std\": 0.04931402308326414,\n        \"min\": 0.5049,\n        \"max\": 0.946,\n        \"num_unique_values\": 1038,\n        \"samples\": [\n          0.889,\n          0.7554,\n          0.8151\n        ],\n        \"semantic_type\": \"\",\n        \"description\": \"\"\n      }\n    },\n    {\n      \"column\": \"EQDIASQ\",\n      \"properties\": {\n        \"dtype\": \"number\",\n        \"std\": 26.638729858508604,\n        \"min\": 194.8146,\n        \"max\": 392.0919,\n        \"num_unique_values\": 1691,\n        \"samples\": [\n          277.3404,\n          321.0868,\n          298.8075\n        ],\n        \"semantic_type\": \"\",\n        \"description\": \"\"\n      }\n    },\n    {\n      \"column\": \"SOLIDITY\",\n      \"properties\": {\n        \"dtype\": \"number\",\n        \"std\": 0.0496624920784874,\n        \"min\": 0.588,\n        \"max\": 0.9951,\n        \"num_unique_values\": 935,\n        \"samples\": [\n          0.9461,\n          0.9676,\n          0.9547\n        ],\n        \"semantic_type\": \"\",\n        \"description\": \"\"\n      }\n    },\n    {\n      \"column\": \"CONVEX_AREA\",\n      \"properties\": {\n        \"dtype\": \"number\",\n        \"std\": 13027.775189274662,\n        \"min\": 37935.0,\n        \"max\": 126991.0,\n        \"num_unique_values\": 1690,\n        \"samples\": [\n          95394.0,\n          76613.0,\n          85753.0\n        ],\n        \"semantic_type\": \"\",\n        \"description\": \"\"\n      }\n    },\n    {\n      \"column\": \"EXTENT\",\n      \"properties\": {\n        \"dtype\": \"number\",\n        \"std\": 0.05198239795843316,\n        \"min\": 0.4272,\n        \"max\": 0.8204,\n        \"num_unique_values\": 1073,\n        \"samples\": [\n          0.6772,\n          0.7646,\n          0.7812\n        ],\n        \"semantic_type\": \"\",\n        \"description\": \"\"\n      }\n    },\n    {\n      \"column\": \"ASPECT_RATIO\",\n      \"properties\": {\n        \"dtype\": \"number\",\n        \"std\": 0.2426137232512913,\n        \"min\": 1.1585,\n        \"max\": 3.0858,\n        \"num_unique_values\": 1568,\n        \"samples\": [\n          1.6805,\n          1.5985,\n          2.2375\n        ],\n        \"semantic_type\": \"\",\n        \"description\": \"\"\n      }\n    },\n    {\n      \"column\": \"ROUNDNESS\",\n      \"properties\": {\n        \"dtype\": \"number\",\n        \"std\": 0.21311407071423372,\n        \"min\": 0.0628,\n        \"max\": 0.9336,\n        \"num_unique_values\": 1495,\n        \"samples\": [\n          0.6945,\n          0.468,\n          0.6577\n        ],\n        \"semantic_type\": \"\",\n        \"description\": \"\"\n      }\n    },\n    {\n      \"column\": \"COMPACTNESS\",\n      \"properties\": {\n        \"dtype\": \"number\",\n        \"std\": 0.04483347219831915,\n        \"min\": 0.476,\n        \"max\": 0.8779,\n        \"num_unique_values\": 1054,\n        \"samples\": [\n          0.7348,\n          0.7449,\n          0.7163\n        ],\n        \"semantic_type\": \"\",\n        \"description\": \"\"\n      }\n    },\n    {\n      \"column\": \"SHAPEFACTOR_1\",\n      \"properties\": {\n        \"dtype\": \"number\",\n        \"std\": 0.0008013201522981373,\n        \"min\": 0.004,\n        \"max\": 0.0131,\n        \"num_unique_values\": 54,\n        \"samples\": [\n          0.0069,\n          0.0084,\n          0.0042\n        ],\n        \"semantic_type\": \"\",\n        \"description\": \"\"\n      }\n    },\n    {\n      \"column\": \"SHAPEFACTOR_2\",\n      \"properties\": {\n        \"dtype\": \"number\",\n        \"std\": 0.0003355035260354264,\n        \"min\": 0.0024,\n        \"max\": 0.0053,\n        \"num_unique_values\": 27,\n        \"samples\": [\n          0.0032,\n          0.0035,\n          0.0031\n        ],\n        \"semantic_type\": \"\",\n        \"description\": \"\"\n      }\n    },\n    {\n      \"column\": \"SHAPEFACTOR_3\",\n      \"properties\": {\n        \"dtype\": \"number\",\n        \"std\": 0.06452001482456647,\n        \"min\": 0.2266,\n        \"max\": 0.7706,\n        \"num_unique_values\": 1202,\n        \"samples\": [\n          0.4606,\n          0.561,\n          0.5489\n        ],\n        \"semantic_type\": \"\",\n        \"description\": \"\"\n      }\n    },\n    {\n      \"column\": \"SHAPEFACTOR_4\",\n      \"properties\": {\n        \"dtype\": \"number\",\n        \"std\": 0.05074526409979103,\n        \"min\": 0.6204,\n        \"max\": 0.9987,\n        \"num_unique_values\": 823,\n        \"samples\": [\n          0.9408,\n          0.78,\n          0.9913\n        ],\n        \"semantic_type\": \"\",\n        \"description\": \"\"\n      }\n    }\n  ]\n}"
            }
          },
          "metadata": {},
          "execution_count": 33
        }
      ]
    },
    {
      "cell_type": "code",
      "source": [
        "from sklearn.linear_model import SGDClassifier\n",
        "from sklearn.metrics import accuracy_score\n",
        "from sklearn.preprocessing import StandardScaler, LabelEncoder\n",
        "from sklearn.utils.class_weight import compute_class_weight\n",
        "import numpy as np\n",
        "import wandb\n",
        "\n",
        "# Initialize WandB logging\n",
        "wandb.init(project='pistachio-classification', name=\"sgd_classifier_run\")\n",
        "\n",
        "# Initialize LabelEncoder to convert class names to numbers\n",
        "label_encoder = LabelEncoder()\n",
        "\n",
        "# Encode the target labels (strings) into numeric values\n",
        "y_train_encoded = label_encoder.fit_transform(y_train)\n",
        "y_val_encoded = label_encoder.transform(y_val)\n",
        "y_test_encoded = label_encoder.transform(y_test)\n",
        "\n",
        "# Scale features\n",
        "scaler = StandardScaler()\n",
        "X_train_scaled = scaler.fit_transform(X_train)\n",
        "X_val_scaled = scaler.transform(X_val)\n",
        "X_test_scaled = scaler.transform(X_test)\n",
        "\n",
        "# Compute class weights manually\n",
        "classes = np.unique(y_train_encoded)\n",
        "class_weights = compute_class_weight('balanced', classes=classes, y=y_train_encoded)\n",
        "class_weight_dict = dict(zip(classes, class_weights))\n",
        "\n",
        "# Initialize SGD classifier (logistic regression)\n",
        "model = SGDClassifier(\n",
        "    loss=\"log_loss\",\n",
        "    learning_rate=\"optimal\",\n",
        "    random_state=42\n",
        ")\n",
        "\n",
        "results = []\n",
        "# Training loop with partial_fit\n",
        "for iteration in range(1000):\n",
        "    model.partial_fit(X_train_scaled, y_train_encoded, classes=classes)\n",
        "\n",
        "    # Predictions\n",
        "    y_train_pred = model.predict(X_train_scaled)\n",
        "    y_test_pred = model.predict(X_test_scaled)\n",
        "\n",
        "    # Accuracies\n",
        "    train_accuracy = accuracy_score(y_train_encoded, y_train_pred)\n",
        "    test_accuracy = accuracy_score(y_test_encoded, y_test_pred)\n",
        "\n",
        "    # Logging accuracies for each iteration\n",
        "    if iteration % 100 == 0:\n",
        "      print(f\"Iteration {iteration+1}:\")\n",
        "      print(f\"  Training Accuracy: {train_accuracy:.4f}\")\n",
        "      print(f\"  Test Accuracy: {test_accuracy:.4f}\")\n",
        "\n",
        "    # Log to WandB\n",
        "    results.append({\n",
        "        \"iteration\": iteration + 1,\n",
        "        \"train_accuracy\": train_accuracy,\n",
        "        \"test_accuracy\": test_accuracy\n",
        "    })\n",
        "\n",
        "# Final evaluation on the validation set\n",
        "y_val_pred = model.predict(X_val_scaled)\n",
        "val_accuracy = accuracy_score(y_val_encoded, y_val_pred)\n",
        "\n",
        "# Log final validation accuracy\n",
        "print(f\"Final Validation Accuracy: {val_accuracy:.4f}\")\n",
        "wandb.log({\"final_val_accuracy\": val_accuracy})\n",
        "\n",
        "# Create a WandB Table\n",
        "table = wandb.Table(columns=[\"iteration\", \"train_accuracy\", \"test_accuracy\"])\n",
        "\n",
        "# Add the results to the table\n",
        "for result in results:\n",
        "    table.add_data(result[\"iteration\"], result[\"train_accuracy\"], result[\"test_accuracy\"])\n",
        "\n",
        "# Log the table to Weights & Biases\n",
        "wandb.log({\"training_results\": table})\n",
        "\n",
        "# Finish WandB run\n",
        "wandb.finish()\n"
      ],
      "metadata": {
        "colab": {
          "base_uri": "https://localhost:8080/",
          "height": 1000
        },
        "id": "WjxJt93oxJCh",
        "outputId": "5153aba1-b9cc-4839-f22c-d09e43a5a879"
      },
      "execution_count": 34,
      "outputs": [
        {
          "output_type": "display_data",
          "data": {
            "text/plain": [
              "<IPython.core.display.HTML object>"
            ],
            "text/html": []
          },
          "metadata": {}
        },
        {
          "output_type": "display_data",
          "data": {
            "text/plain": [
              "<IPython.core.display.HTML object>"
            ],
            "text/html": [
              " View run <strong style=\"color:#cdcd00\">fast-resonance-21</strong> at: <a href='https://wandb.ai/vadhri-venkat/pistachio-classification/runs/rndiskzi' target=\"_blank\">https://wandb.ai/vadhri-venkat/pistachio-classification/runs/rndiskzi</a><br> View project at: <a href='https://wandb.ai/vadhri-venkat/pistachio-classification' target=\"_blank\">https://wandb.ai/vadhri-venkat/pistachio-classification</a><br>Synced 5 W&B file(s), 0 media file(s), 0 artifact file(s) and 0 other file(s)"
            ]
          },
          "metadata": {}
        },
        {
          "output_type": "display_data",
          "data": {
            "text/plain": [
              "<IPython.core.display.HTML object>"
            ],
            "text/html": [
              "Find logs at: <code>./wandb/run-20250413_075644-rndiskzi/logs</code>"
            ]
          },
          "metadata": {}
        },
        {
          "output_type": "display_data",
          "data": {
            "text/plain": [
              "<IPython.core.display.HTML object>"
            ],
            "text/html": [
              "Tracking run with wandb version 0.19.9"
            ]
          },
          "metadata": {}
        },
        {
          "output_type": "display_data",
          "data": {
            "text/plain": [
              "<IPython.core.display.HTML object>"
            ],
            "text/html": [
              "Run data is saved locally in <code>/content/wandb/run-20250413_075656-dsyrpybf</code>"
            ]
          },
          "metadata": {}
        },
        {
          "output_type": "display_data",
          "data": {
            "text/plain": [
              "<IPython.core.display.HTML object>"
            ],
            "text/html": [
              "Syncing run <strong><a href='https://wandb.ai/vadhri-venkat/pistachio-classification/runs/dsyrpybf' target=\"_blank\">sgd_classifier_run</a></strong> to <a href='https://wandb.ai/vadhri-venkat/pistachio-classification' target=\"_blank\">Weights & Biases</a> (<a href='https://wandb.me/developer-guide' target=\"_blank\">docs</a>)<br>"
            ]
          },
          "metadata": {}
        },
        {
          "output_type": "display_data",
          "data": {
            "text/plain": [
              "<IPython.core.display.HTML object>"
            ],
            "text/html": [
              " View project at <a href='https://wandb.ai/vadhri-venkat/pistachio-classification' target=\"_blank\">https://wandb.ai/vadhri-venkat/pistachio-classification</a>"
            ]
          },
          "metadata": {}
        },
        {
          "output_type": "display_data",
          "data": {
            "text/plain": [
              "<IPython.core.display.HTML object>"
            ],
            "text/html": [
              " View run at <a href='https://wandb.ai/vadhri-venkat/pistachio-classification/runs/dsyrpybf' target=\"_blank\">https://wandb.ai/vadhri-venkat/pistachio-classification/runs/dsyrpybf</a>"
            ]
          },
          "metadata": {}
        },
        {
          "output_type": "stream",
          "name": "stdout",
          "text": [
            "Iteration 1:\n",
            "  Training Accuracy: 0.8440\n",
            "  Test Accuracy: 0.8372\n",
            "Iteration 101:\n",
            "  Training Accuracy: 0.8661\n",
            "  Test Accuracy: 0.8558\n",
            "Iteration 201:\n",
            "  Training Accuracy: 0.8702\n",
            "  Test Accuracy: 0.8558\n",
            "Iteration 301:\n",
            "  Training Accuracy: 0.8714\n",
            "  Test Accuracy: 0.8698\n",
            "Iteration 401:\n",
            "  Training Accuracy: 0.8731\n",
            "  Test Accuracy: 0.8744\n",
            "Iteration 501:\n",
            "  Training Accuracy: 0.8731\n",
            "  Test Accuracy: 0.8744\n",
            "Iteration 601:\n",
            "  Training Accuracy: 0.8737\n",
            "  Test Accuracy: 0.8791\n",
            "Iteration 701:\n",
            "  Training Accuracy: 0.8743\n",
            "  Test Accuracy: 0.8791\n",
            "Iteration 801:\n",
            "  Training Accuracy: 0.8737\n",
            "  Test Accuracy: 0.8791\n",
            "Iteration 901:\n",
            "  Training Accuracy: 0.8743\n",
            "  Test Accuracy: 0.8837\n",
            "Final Validation Accuracy: 0.8419\n"
          ]
        },
        {
          "output_type": "display_data",
          "data": {
            "text/plain": [
              "<IPython.core.display.HTML object>"
            ],
            "text/html": []
          },
          "metadata": {}
        },
        {
          "output_type": "display_data",
          "data": {
            "text/plain": [
              "<IPython.core.display.HTML object>"
            ],
            "text/html": [
              "<br>    <style><br>        .wandb-row {<br>            display: flex;<br>            flex-direction: row;<br>            flex-wrap: wrap;<br>            justify-content: flex-start;<br>            width: 100%;<br>        }<br>        .wandb-col {<br>            display: flex;<br>            flex-direction: column;<br>            flex-basis: 100%;<br>            flex: 1;<br>            padding: 10px;<br>        }<br>    </style><br><div class=\"wandb-row\"><div class=\"wandb-col\"><h3>Run history:</h3><br/><table class=\"wandb\"><tr><td>final_val_accuracy</td><td>▁</td></tr></table><br/></div><div class=\"wandb-col\"><h3>Run summary:</h3><br/><table class=\"wandb\"><tr><td>final_val_accuracy</td><td>0.84186</td></tr></table><br/></div></div>"
            ]
          },
          "metadata": {}
        },
        {
          "output_type": "display_data",
          "data": {
            "text/plain": [
              "<IPython.core.display.HTML object>"
            ],
            "text/html": [
              " View run <strong style=\"color:#cdcd00\">sgd_classifier_run</strong> at: <a href='https://wandb.ai/vadhri-venkat/pistachio-classification/runs/dsyrpybf' target=\"_blank\">https://wandb.ai/vadhri-venkat/pistachio-classification/runs/dsyrpybf</a><br> View project at: <a href='https://wandb.ai/vadhri-venkat/pistachio-classification' target=\"_blank\">https://wandb.ai/vadhri-venkat/pistachio-classification</a><br>Synced 5 W&B file(s), 1 media file(s), 2 artifact file(s) and 0 other file(s)"
            ]
          },
          "metadata": {}
        },
        {
          "output_type": "display_data",
          "data": {
            "text/plain": [
              "<IPython.core.display.HTML object>"
            ],
            "text/html": [
              "Find logs at: <code>./wandb/run-20250413_075656-dsyrpybf/logs</code>"
            ]
          },
          "metadata": {}
        }
      ]
    }
  ]
}