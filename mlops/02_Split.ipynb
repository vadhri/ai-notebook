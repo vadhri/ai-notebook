{
  "cells": [
    {
      "cell_type": "markdown",
      "metadata": {
        "id": "view-in-github",
        "colab_type": "text"
      },
      "source": [
        "<a href=\"https://colab.research.google.com/github/vadhri/ai-notebook/blob/main/mlops/02_Split.ipynb\" target=\"_parent\"><img src=\"https://colab.research.google.com/assets/colab-badge.svg\" alt=\"Open In Colab\"/></a>"
      ]
    },
    {
      "cell_type": "markdown",
      "metadata": {
        "id": "mQ9bTXDLqO6Z"
      },
      "source": [
        "<a href=\"https://colab.research.google.com/github/wandb/edu/blob/main/mlops-001/lesson1/02_Split.ipynb\" target=\"_parent\"><img src=\"https://colab.research.google.com/assets/colab-badge.svg\" alt=\"Open In Colab\"/></a>\n",
        "<!--- @wandbcode{course-lesson1} -->"
      ],
      "id": "mQ9bTXDLqO6Z"
    },
    {
      "cell_type": "code",
      "execution_count": 1,
      "id": "dee477f2",
      "metadata": {
        "colab": {
          "base_uri": "https://localhost:8080/"
        },
        "id": "dee477f2",
        "outputId": "26e95b46-fd04-45f3-cf82-f81bbfd1a689"
      },
      "outputs": [
        {
          "output_type": "stream",
          "name": "stdout",
          "text": [
            "--2025-04-12 11:03:42--  https://raw.githubusercontent.com/wandb/edu/main/mlops-001/lesson1/requirements.txt\n",
            "Resolving raw.githubusercontent.com (raw.githubusercontent.com)... 185.199.108.133, 185.199.111.133, 185.199.109.133, ...\n",
            "Connecting to raw.githubusercontent.com (raw.githubusercontent.com)|185.199.108.133|:443... connected.\n",
            "HTTP request sent, awaiting response... 200 OK\n",
            "Length: 82 [text/plain]\n",
            "Saving to: ‘requirements.txt’\n",
            "\n",
            "\rrequirements.txt      0%[                    ]       0  --.-KB/s               \rrequirements.txt    100%[===================>]      82  --.-KB/s    in 0s      \n",
            "\n",
            "2025-04-12 11:03:42 (4.65 MB/s) - ‘requirements.txt’ saved [82/82]\n",
            "\n",
            "--2025-04-12 11:03:42--  https://raw.githubusercontent.com/wandb/edu/main/mlops-001/lesson1/params.py\n",
            "Resolving raw.githubusercontent.com (raw.githubusercontent.com)... 185.199.109.133, 185.199.111.133, 185.199.110.133, ...\n",
            "Connecting to raw.githubusercontent.com (raw.githubusercontent.com)|185.199.109.133|:443... connected.\n",
            "HTTP request sent, awaiting response... 200 OK\n",
            "Length: 295 [text/plain]\n",
            "Saving to: ‘params.py’\n",
            "\n",
            "params.py           100%[===================>]     295  --.-KB/s    in 0s      \n",
            "\n",
            "2025-04-12 11:03:43 (8.42 MB/s) - ‘params.py’ saved [295/295]\n",
            "\n",
            "--2025-04-12 11:03:43--  https://raw.githubusercontent.com/wandb/edu/main/mlops-001/lesson1/utils.py\n",
            "Resolving raw.githubusercontent.com (raw.githubusercontent.com)... 185.199.109.133, 185.199.111.133, 185.199.110.133, ...\n",
            "Connecting to raw.githubusercontent.com (raw.githubusercontent.com)|185.199.109.133|:443... connected.\n",
            "HTTP request sent, awaiting response... 200 OK\n",
            "Length: 6721 (6.6K) [text/plain]\n",
            "Saving to: ‘utils.py’\n",
            "\n",
            "utils.py            100%[===================>]   6.56K  --.-KB/s    in 0s      \n",
            "\n",
            "2025-04-12 11:03:43 (85.5 MB/s) - ‘utils.py’ saved [6721/6721]\n",
            "\n",
            "\u001b[2K   \u001b[90m━━━━━━━━━━━━━━━━━━━━━━━━━━━━━━━━━━━━━━━━\u001b[0m \u001b[32m363.4/363.4 MB\u001b[0m \u001b[31m2.9 MB/s\u001b[0m eta \u001b[36m0:00:00\u001b[0m\n",
            "\u001b[2K   \u001b[90m━━━━━━━━━━━━━━━━━━━━━━━━━━━━━━━━━━━━━━━━\u001b[0m \u001b[32m13.8/13.8 MB\u001b[0m \u001b[31m31.9 MB/s\u001b[0m eta \u001b[36m0:00:00\u001b[0m\n",
            "\u001b[2K   \u001b[90m━━━━━━━━━━━━━━━━━━━━━━━━━━━━━━━━━━━━━━━━\u001b[0m \u001b[32m24.6/24.6 MB\u001b[0m \u001b[31m20.4 MB/s\u001b[0m eta \u001b[36m0:00:00\u001b[0m\n",
            "\u001b[2K   \u001b[90m━━━━━━━━━━━━━━━━━━━━━━━━━━━━━━━━━━━━━━━━\u001b[0m \u001b[32m883.7/883.7 kB\u001b[0m \u001b[31m23.4 MB/s\u001b[0m eta \u001b[36m0:00:00\u001b[0m\n",
            "\u001b[2K   \u001b[90m━━━━━━━━━━━━━━━━━━━━━━━━━━━━━━━━━━━━━━━━\u001b[0m \u001b[32m664.8/664.8 MB\u001b[0m \u001b[31m2.1 MB/s\u001b[0m eta \u001b[36m0:00:00\u001b[0m\n",
            "\u001b[2K   \u001b[90m━━━━━━━━━━━━━━━━━━━━━━━━━━━━━━━━━━━━━━━━\u001b[0m \u001b[32m211.5/211.5 MB\u001b[0m \u001b[31m5.6 MB/s\u001b[0m eta \u001b[36m0:00:00\u001b[0m\n",
            "\u001b[2K   \u001b[90m━━━━━━━━━━━━━━━━━━━━━━━━━━━━━━━━━━━━━━━━\u001b[0m \u001b[32m56.3/56.3 MB\u001b[0m \u001b[31m13.0 MB/s\u001b[0m eta \u001b[36m0:00:00\u001b[0m\n",
            "\u001b[2K   \u001b[90m━━━━━━━━━━━━━━━━━━━━━━━━━━━━━━━━━━━━━━━━\u001b[0m \u001b[32m127.9/127.9 MB\u001b[0m \u001b[31m7.4 MB/s\u001b[0m eta \u001b[36m0:00:00\u001b[0m\n",
            "\u001b[2K   \u001b[90m━━━━━━━━━━━━━━━━━━━━━━━━━━━━━━━━━━━━━━━━\u001b[0m \u001b[32m207.5/207.5 MB\u001b[0m \u001b[31m5.3 MB/s\u001b[0m eta \u001b[36m0:00:00\u001b[0m\n",
            "\u001b[2K   \u001b[90m━━━━━━━━━━━━━━━━━━━━━━━━━━━━━━━━━━━━━━━━\u001b[0m \u001b[32m21.1/21.1 MB\u001b[0m \u001b[31m67.7 MB/s\u001b[0m eta \u001b[36m0:00:00\u001b[0m\n",
            "\u001b[?25h"
          ]
        }
      ],
      "source": [
        "# Install dependencies (run once)\n",
        "!wget https://raw.githubusercontent.com/wandb/edu/main/mlops-001/lesson1/requirements.txt\n",
        "!wget https://raw.githubusercontent.com/wandb/edu/main/mlops-001/lesson1/params.py\n",
        "!wget https://raw.githubusercontent.com/wandb/edu/main/mlops-001/lesson1/utils.py\n",
        "!pip install -qr requirements.txt"
      ]
    },
    {
      "cell_type": "markdown",
      "id": "e6cc5437-1a17-4738-a3c7-f1959324f4ed",
      "metadata": {
        "id": "e6cc5437-1a17-4738-a3c7-f1959324f4ed"
      },
      "source": [
        "# Data preparation\n",
        "\n",
        "<!--- @wandbcode{course-lesson1} -->\n",
        "\n",
        "In this notebook we will prepare the data to later train our deep learning model. To do so,\n",
        "\n",
        "- we will start a new W&B `run` and use our raw data artifact\n",
        "- split the data and save the splits into a new W&B Artifact\n",
        "- join information about the split with our EDA Table"
      ]
    },
    {
      "cell_type": "code",
      "execution_count": 2,
      "id": "c8018ee4-8f0f-4e1d-a39d-d005bc9b4591",
      "metadata": {
        "id": "c8018ee4-8f0f-4e1d-a39d-d005bc9b4591"
      },
      "outputs": [],
      "source": [
        "import os, warnings\n",
        "import wandb\n",
        "\n",
        "import pandas as pd\n",
        "from fastai.vision.all import *\n",
        "from sklearn.model_selection import StratifiedGroupKFold\n",
        "\n",
        "import params\n",
        "warnings.filterwarnings('ignore')"
      ]
    },
    {
      "cell_type": "code",
      "execution_count": 3,
      "id": "423709e6-1f8c-4b90-8a7b-6ed6c05492ca",
      "metadata": {
        "colab": {
          "base_uri": "https://localhost:8080/",
          "height": 277
        },
        "id": "423709e6-1f8c-4b90-8a7b-6ed6c05492ca",
        "outputId": "76689c78-4660-43c4-a35e-8e04a7d3c76f"
      },
      "outputs": [
        {
          "output_type": "stream",
          "name": "stderr",
          "text": [
            "\u001b[34m\u001b[1mwandb\u001b[0m: Using wandb-core as the SDK backend.  Please refer to https://wandb.me/wandb-core for more information.\n"
          ]
        },
        {
          "output_type": "display_data",
          "data": {
            "text/plain": [
              "<IPython.core.display.Javascript object>"
            ],
            "application/javascript": [
              "\n",
              "        window._wandbApiKey = new Promise((resolve, reject) => {\n",
              "            function loadScript(url) {\n",
              "            return new Promise(function(resolve, reject) {\n",
              "                let newScript = document.createElement(\"script\");\n",
              "                newScript.onerror = reject;\n",
              "                newScript.onload = resolve;\n",
              "                document.body.appendChild(newScript);\n",
              "                newScript.src = url;\n",
              "            });\n",
              "            }\n",
              "            loadScript(\"https://cdn.jsdelivr.net/npm/postmate/build/postmate.min.js\").then(() => {\n",
              "            const iframe = document.createElement('iframe')\n",
              "            iframe.style.cssText = \"width:0;height:0;border:none\"\n",
              "            document.body.appendChild(iframe)\n",
              "            const handshake = new Postmate({\n",
              "                container: iframe,\n",
              "                url: 'https://wandb.ai/authorize'\n",
              "            });\n",
              "            const timeout = setTimeout(() => reject(\"Couldn't auto authenticate\"), 5000)\n",
              "            handshake.then(function(child) {\n",
              "                child.on('authorize', data => {\n",
              "                    clearTimeout(timeout)\n",
              "                    resolve(data)\n",
              "                });\n",
              "            });\n",
              "            })\n",
              "        });\n",
              "    "
            ]
          },
          "metadata": {}
        },
        {
          "output_type": "stream",
          "name": "stderr",
          "text": [
            "\u001b[34m\u001b[1mwandb\u001b[0m: Logging into wandb.ai. (Learn how to deploy a W&B server locally: https://wandb.me/wandb-server)\n",
            "\u001b[34m\u001b[1mwandb\u001b[0m: You can find your API key in your browser here: https://wandb.ai/authorize\n",
            "wandb: Paste an API key from your profile and hit enter:"
          ]
        },
        {
          "name": "stdout",
          "output_type": "stream",
          "text": [
            " ··········\n"
          ]
        },
        {
          "output_type": "stream",
          "name": "stderr",
          "text": [
            "\u001b[34m\u001b[1mwandb\u001b[0m: \u001b[33mWARNING\u001b[0m If you're specifying your api key in code, ensure this code is not shared publicly.\n",
            "\u001b[34m\u001b[1mwandb\u001b[0m: \u001b[33mWARNING\u001b[0m Consider setting the WANDB_API_KEY environment variable, or running `wandb login` from the command line.\n",
            "\u001b[34m\u001b[1mwandb\u001b[0m: No netrc file found, creating one.\n",
            "\u001b[34m\u001b[1mwandb\u001b[0m: Appending key for api.wandb.ai to your netrc file: /root/.netrc\n",
            "\u001b[34m\u001b[1mwandb\u001b[0m: Currently logged in as: \u001b[33mvadhri-venkat\u001b[0m to \u001b[32mhttps://api.wandb.ai\u001b[0m. Use \u001b[1m`wandb login --relogin`\u001b[0m to force relogin\n"
          ]
        },
        {
          "output_type": "display_data",
          "data": {
            "text/plain": [
              "<IPython.core.display.HTML object>"
            ],
            "text/html": [
              "Tracking run with wandb version 0.19.9"
            ]
          },
          "metadata": {}
        },
        {
          "output_type": "display_data",
          "data": {
            "text/plain": [
              "<IPython.core.display.HTML object>"
            ],
            "text/html": [
              "Run data is saved locally in <code>/content/wandb/run-20250412_110613-ji48rotq</code>"
            ]
          },
          "metadata": {}
        },
        {
          "output_type": "display_data",
          "data": {
            "text/plain": [
              "<IPython.core.display.HTML object>"
            ],
            "text/html": [
              "Syncing run <strong><a href='https://wandb.ai/vadhri-venkat/mlops-course-001/runs/ji48rotq' target=\"_blank\">honest-cosmos-2</a></strong> to <a href='https://wandb.ai/vadhri-venkat/mlops-course-001' target=\"_blank\">Weights & Biases</a> (<a href='https://wandb.me/developer-guide' target=\"_blank\">docs</a>)<br>"
            ]
          },
          "metadata": {}
        },
        {
          "output_type": "display_data",
          "data": {
            "text/plain": [
              "<IPython.core.display.HTML object>"
            ],
            "text/html": [
              " View project at <a href='https://wandb.ai/vadhri-venkat/mlops-course-001' target=\"_blank\">https://wandb.ai/vadhri-venkat/mlops-course-001</a>"
            ]
          },
          "metadata": {}
        },
        {
          "output_type": "display_data",
          "data": {
            "text/plain": [
              "<IPython.core.display.HTML object>"
            ],
            "text/html": [
              " View run at <a href='https://wandb.ai/vadhri-venkat/mlops-course-001/runs/ji48rotq' target=\"_blank\">https://wandb.ai/vadhri-venkat/mlops-course-001/runs/ji48rotq</a>"
            ]
          },
          "metadata": {}
        }
      ],
      "source": [
        "run = wandb.init(project=params.WANDB_PROJECT, entity=params.ENTITY, job_type=\"data_split\")"
      ]
    },
    {
      "cell_type": "markdown",
      "id": "99b9419f-e0cc-4e57-b0f4-e9273fec996b",
      "metadata": {
        "id": "99b9419f-e0cc-4e57-b0f4-e9273fec996b"
      },
      "source": [
        "Let's use artifact we previously saved to W&B (we're storing artifact names and other global parameters in `params`)."
      ]
    },
    {
      "cell_type": "code",
      "execution_count": 4,
      "id": "7841e7a1-188e-4021-9c2b-b662b7a13a08",
      "metadata": {
        "colab": {
          "base_uri": "https://localhost:8080/"
        },
        "id": "7841e7a1-188e-4021-9c2b-b662b7a13a08",
        "outputId": "5c32d470-3616-448b-eb5a-f2ba5bd62570"
      },
      "outputs": [
        {
          "output_type": "stream",
          "name": "stderr",
          "text": [
            "\u001b[34m\u001b[1mwandb\u001b[0m: Downloading large artifact bdd_simple_1k:latest, 846.57MB. 4007 files... \n",
            "\u001b[34m\u001b[1mwandb\u001b[0m:   4007 of 4007 files downloaded.  \n",
            "Done. 0:0:36.0\n"
          ]
        }
      ],
      "source": [
        "raw_data_at = run.use_artifact(f'{params.RAW_DATA_AT}:latest')\n",
        "path = Path(raw_data_at.download())"
      ]
    },
    {
      "cell_type": "code",
      "execution_count": 5,
      "id": "160fcb5d-3a3b-40a6-b131-60b33ea3b530",
      "metadata": {
        "colab": {
          "base_uri": "https://localhost:8080/"
        },
        "id": "160fcb5d-3a3b-40a6-b131-60b33ea3b530",
        "outputId": "fb309085-05e1-4da0-d20b-c8053e524bf7"
      },
      "outputs": [
        {
          "output_type": "execute_result",
          "data": {
            "text/plain": [
              "(#5) [Path('/content/artifacts/bdd_simple_1k:v0/media'),Path('/content/artifacts/bdd_simple_1k:v0/eda_table.table.json'),Path('/content/artifacts/bdd_simple_1k:v0/labels'),Path('/content/artifacts/bdd_simple_1k:v0/LICENSE.txt'),Path('/content/artifacts/bdd_simple_1k:v0/images')]"
            ]
          },
          "metadata": {},
          "execution_count": 5
        }
      ],
      "source": [
        "path.ls()"
      ]
    },
    {
      "cell_type": "markdown",
      "id": "4fbbb8be-49cc-46c2-b563-b90d14892708",
      "metadata": {
        "id": "4fbbb8be-49cc-46c2-b563-b90d14892708"
      },
      "source": [
        "To split data between training, testing and validation, we need file names, groups (derived from the file name) and target (here we use our rare class bicycle for stratification). We previously saved these columns to EDA table, so let's retrieve it from the table now."
      ]
    },
    {
      "cell_type": "code",
      "execution_count": 6,
      "id": "156ac385-610f-43c8-ab3a-8ab91a1cbc06",
      "metadata": {
        "id": "156ac385-610f-43c8-ab3a-8ab91a1cbc06"
      },
      "outputs": [],
      "source": [
        "fnames = os.listdir(path/'images')\n",
        "groups = [s.split('-')[0] for s in fnames]"
      ]
    },
    {
      "cell_type": "code",
      "execution_count": 7,
      "id": "42d93918-c51e-4501-9b2a-9ea87ae1184a",
      "metadata": {
        "colab": {
          "base_uri": "https://localhost:8080/"
        },
        "id": "42d93918-c51e-4501-9b2a-9ea87ae1184a",
        "outputId": "8a0ff116-6a98-44c2-d4cd-e930c4b9c4fb"
      },
      "outputs": [
        {
          "output_type": "stream",
          "name": "stderr",
          "text": [
            "\u001b[34m\u001b[1mwandb\u001b[0m: Downloading large artifact bdd_simple_1k:latest, 846.57MB. 4007 files... \n",
            "\u001b[34m\u001b[1mwandb\u001b[0m:   4007 of 4007 files downloaded.  \n",
            "Done. 0:0:11.1\n"
          ]
        }
      ],
      "source": [
        "orig_eda_table = raw_data_at.get(\"eda_table\")"
      ]
    },
    {
      "cell_type": "code",
      "execution_count": 8,
      "id": "6a31eef6-725a-4eaa-9bb4-bec9aeaf4414",
      "metadata": {
        "id": "6a31eef6-725a-4eaa-9bb4-bec9aeaf4414"
      },
      "outputs": [],
      "source": [
        "y = orig_eda_table.get_column('bicycle')"
      ]
    },
    {
      "cell_type": "code",
      "source": [
        "orig_eda_table"
      ],
      "metadata": {
        "id": "x6HCsW9EsMvY",
        "outputId": "31a62aac-8887-4aa1-9f33-6d2965062a8c",
        "colab": {
          "base_uri": "https://localhost:8080/"
        }
      },
      "id": "x6HCsW9EsMvY",
      "execution_count": 15,
      "outputs": [
        {
          "output_type": "execute_result",
          "data": {
            "text/plain": [
              "<wandb.sdk.data_types.table.Table at 0x7adccc2097d0>"
            ]
          },
          "metadata": {},
          "execution_count": 15
        }
      ]
    },
    {
      "cell_type": "markdown",
      "id": "735730ed-e4c0-4ca6-82be-22a517cd74bc",
      "metadata": {
        "id": "735730ed-e4c0-4ca6-82be-22a517cd74bc"
      },
      "source": [
        "Now we will split the data into train (80%), validation (10%) and test (10%) sets. As we do that, we need to be careful to:\n",
        "\n",
        "- *avoid leakage*: for that reason we are grouping data according to video identifier (we want to make sure our model can generalize to new cars or video frames)\n",
        "- handle the *label imbalance*: for that reason we stratify data with our target column\n",
        "\n",
        "We will use sklearn's `StratifiedGroupKFold` to split the data into 10 folds and assign 1 fold for test, 1 for validation and the rest for training."
      ]
    },
    {
      "cell_type": "code",
      "execution_count": 16,
      "id": "1af79361-0aea-4ecd-bfaf-3bc034286cf5",
      "metadata": {
        "id": "1af79361-0aea-4ecd-bfaf-3bc034286cf5"
      },
      "outputs": [],
      "source": [
        "df = pd.DataFrame()\n",
        "df['File_Name'] = fnames\n",
        "df['fold'] = -1"
      ]
    },
    {
      "cell_type": "code",
      "source": [
        "df.head()"
      ],
      "metadata": {
        "id": "ojkHwl_psQaH",
        "outputId": "c90a838b-b8b1-4b76-9c60-23a7a49d6054",
        "colab": {
          "base_uri": "https://localhost:8080/",
          "height": 206
        }
      },
      "id": "ojkHwl_psQaH",
      "execution_count": 18,
      "outputs": [
        {
          "output_type": "execute_result",
          "data": {
            "text/plain": [
              "               File_Name  fold\n",
              "0  686f85a0-6eb9dad0.jpg    -1\n",
              "1  4c89d609-1b11297a.jpg    -1\n",
              "2  b3f2fee7-1482dee6.jpg    -1\n",
              "3  186b8229-93f247b4.jpg    -1\n",
              "4  14a197e0-8a00fc55.jpg    -1"
            ],
            "text/html": [
              "\n",
              "  <div id=\"df-0f229599-1583-4717-a237-8687091ac455\" class=\"colab-df-container\">\n",
              "    <div>\n",
              "<style scoped>\n",
              "    .dataframe tbody tr th:only-of-type {\n",
              "        vertical-align: middle;\n",
              "    }\n",
              "\n",
              "    .dataframe tbody tr th {\n",
              "        vertical-align: top;\n",
              "    }\n",
              "\n",
              "    .dataframe thead th {\n",
              "        text-align: right;\n",
              "    }\n",
              "</style>\n",
              "<table border=\"1\" class=\"dataframe\">\n",
              "  <thead>\n",
              "    <tr style=\"text-align: right;\">\n",
              "      <th></th>\n",
              "      <th>File_Name</th>\n",
              "      <th>fold</th>\n",
              "    </tr>\n",
              "  </thead>\n",
              "  <tbody>\n",
              "    <tr>\n",
              "      <th>0</th>\n",
              "      <td>686f85a0-6eb9dad0.jpg</td>\n",
              "      <td>-1</td>\n",
              "    </tr>\n",
              "    <tr>\n",
              "      <th>1</th>\n",
              "      <td>4c89d609-1b11297a.jpg</td>\n",
              "      <td>-1</td>\n",
              "    </tr>\n",
              "    <tr>\n",
              "      <th>2</th>\n",
              "      <td>b3f2fee7-1482dee6.jpg</td>\n",
              "      <td>-1</td>\n",
              "    </tr>\n",
              "    <tr>\n",
              "      <th>3</th>\n",
              "      <td>186b8229-93f247b4.jpg</td>\n",
              "      <td>-1</td>\n",
              "    </tr>\n",
              "    <tr>\n",
              "      <th>4</th>\n",
              "      <td>14a197e0-8a00fc55.jpg</td>\n",
              "      <td>-1</td>\n",
              "    </tr>\n",
              "  </tbody>\n",
              "</table>\n",
              "</div>\n",
              "    <div class=\"colab-df-buttons\">\n",
              "\n",
              "  <div class=\"colab-df-container\">\n",
              "    <button class=\"colab-df-convert\" onclick=\"convertToInteractive('df-0f229599-1583-4717-a237-8687091ac455')\"\n",
              "            title=\"Convert this dataframe to an interactive table.\"\n",
              "            style=\"display:none;\">\n",
              "\n",
              "  <svg xmlns=\"http://www.w3.org/2000/svg\" height=\"24px\" viewBox=\"0 -960 960 960\">\n",
              "    <path d=\"M120-120v-720h720v720H120Zm60-500h600v-160H180v160Zm220 220h160v-160H400v160Zm0 220h160v-160H400v160ZM180-400h160v-160H180v160Zm440 0h160v-160H620v160ZM180-180h160v-160H180v160Zm440 0h160v-160H620v160Z\"/>\n",
              "  </svg>\n",
              "    </button>\n",
              "\n",
              "  <style>\n",
              "    .colab-df-container {\n",
              "      display:flex;\n",
              "      gap: 12px;\n",
              "    }\n",
              "\n",
              "    .colab-df-convert {\n",
              "      background-color: #E8F0FE;\n",
              "      border: none;\n",
              "      border-radius: 50%;\n",
              "      cursor: pointer;\n",
              "      display: none;\n",
              "      fill: #1967D2;\n",
              "      height: 32px;\n",
              "      padding: 0 0 0 0;\n",
              "      width: 32px;\n",
              "    }\n",
              "\n",
              "    .colab-df-convert:hover {\n",
              "      background-color: #E2EBFA;\n",
              "      box-shadow: 0px 1px 2px rgba(60, 64, 67, 0.3), 0px 1px 3px 1px rgba(60, 64, 67, 0.15);\n",
              "      fill: #174EA6;\n",
              "    }\n",
              "\n",
              "    .colab-df-buttons div {\n",
              "      margin-bottom: 4px;\n",
              "    }\n",
              "\n",
              "    [theme=dark] .colab-df-convert {\n",
              "      background-color: #3B4455;\n",
              "      fill: #D2E3FC;\n",
              "    }\n",
              "\n",
              "    [theme=dark] .colab-df-convert:hover {\n",
              "      background-color: #434B5C;\n",
              "      box-shadow: 0px 1px 3px 1px rgba(0, 0, 0, 0.15);\n",
              "      filter: drop-shadow(0px 1px 2px rgba(0, 0, 0, 0.3));\n",
              "      fill: #FFFFFF;\n",
              "    }\n",
              "  </style>\n",
              "\n",
              "    <script>\n",
              "      const buttonEl =\n",
              "        document.querySelector('#df-0f229599-1583-4717-a237-8687091ac455 button.colab-df-convert');\n",
              "      buttonEl.style.display =\n",
              "        google.colab.kernel.accessAllowed ? 'block' : 'none';\n",
              "\n",
              "      async function convertToInteractive(key) {\n",
              "        const element = document.querySelector('#df-0f229599-1583-4717-a237-8687091ac455');\n",
              "        const dataTable =\n",
              "          await google.colab.kernel.invokeFunction('convertToInteractive',\n",
              "                                                    [key], {});\n",
              "        if (!dataTable) return;\n",
              "\n",
              "        const docLinkHtml = 'Like what you see? Visit the ' +\n",
              "          '<a target=\"_blank\" href=https://colab.research.google.com/notebooks/data_table.ipynb>data table notebook</a>'\n",
              "          + ' to learn more about interactive tables.';\n",
              "        element.innerHTML = '';\n",
              "        dataTable['output_type'] = 'display_data';\n",
              "        await google.colab.output.renderOutput(dataTable, element);\n",
              "        const docLink = document.createElement('div');\n",
              "        docLink.innerHTML = docLinkHtml;\n",
              "        element.appendChild(docLink);\n",
              "      }\n",
              "    </script>\n",
              "  </div>\n",
              "\n",
              "\n",
              "<div id=\"df-6c104952-8a05-4694-bb14-e9e60d534f8c\">\n",
              "  <button class=\"colab-df-quickchart\" onclick=\"quickchart('df-6c104952-8a05-4694-bb14-e9e60d534f8c')\"\n",
              "            title=\"Suggest charts\"\n",
              "            style=\"display:none;\">\n",
              "\n",
              "<svg xmlns=\"http://www.w3.org/2000/svg\" height=\"24px\"viewBox=\"0 0 24 24\"\n",
              "     width=\"24px\">\n",
              "    <g>\n",
              "        <path d=\"M19 3H5c-1.1 0-2 .9-2 2v14c0 1.1.9 2 2 2h14c1.1 0 2-.9 2-2V5c0-1.1-.9-2-2-2zM9 17H7v-7h2v7zm4 0h-2V7h2v10zm4 0h-2v-4h2v4z\"/>\n",
              "    </g>\n",
              "</svg>\n",
              "  </button>\n",
              "\n",
              "<style>\n",
              "  .colab-df-quickchart {\n",
              "      --bg-color: #E8F0FE;\n",
              "      --fill-color: #1967D2;\n",
              "      --hover-bg-color: #E2EBFA;\n",
              "      --hover-fill-color: #174EA6;\n",
              "      --disabled-fill-color: #AAA;\n",
              "      --disabled-bg-color: #DDD;\n",
              "  }\n",
              "\n",
              "  [theme=dark] .colab-df-quickchart {\n",
              "      --bg-color: #3B4455;\n",
              "      --fill-color: #D2E3FC;\n",
              "      --hover-bg-color: #434B5C;\n",
              "      --hover-fill-color: #FFFFFF;\n",
              "      --disabled-bg-color: #3B4455;\n",
              "      --disabled-fill-color: #666;\n",
              "  }\n",
              "\n",
              "  .colab-df-quickchart {\n",
              "    background-color: var(--bg-color);\n",
              "    border: none;\n",
              "    border-radius: 50%;\n",
              "    cursor: pointer;\n",
              "    display: none;\n",
              "    fill: var(--fill-color);\n",
              "    height: 32px;\n",
              "    padding: 0;\n",
              "    width: 32px;\n",
              "  }\n",
              "\n",
              "  .colab-df-quickchart:hover {\n",
              "    background-color: var(--hover-bg-color);\n",
              "    box-shadow: 0 1px 2px rgba(60, 64, 67, 0.3), 0 1px 3px 1px rgba(60, 64, 67, 0.15);\n",
              "    fill: var(--button-hover-fill-color);\n",
              "  }\n",
              "\n",
              "  .colab-df-quickchart-complete:disabled,\n",
              "  .colab-df-quickchart-complete:disabled:hover {\n",
              "    background-color: var(--disabled-bg-color);\n",
              "    fill: var(--disabled-fill-color);\n",
              "    box-shadow: none;\n",
              "  }\n",
              "\n",
              "  .colab-df-spinner {\n",
              "    border: 2px solid var(--fill-color);\n",
              "    border-color: transparent;\n",
              "    border-bottom-color: var(--fill-color);\n",
              "    animation:\n",
              "      spin 1s steps(1) infinite;\n",
              "  }\n",
              "\n",
              "  @keyframes spin {\n",
              "    0% {\n",
              "      border-color: transparent;\n",
              "      border-bottom-color: var(--fill-color);\n",
              "      border-left-color: var(--fill-color);\n",
              "    }\n",
              "    20% {\n",
              "      border-color: transparent;\n",
              "      border-left-color: var(--fill-color);\n",
              "      border-top-color: var(--fill-color);\n",
              "    }\n",
              "    30% {\n",
              "      border-color: transparent;\n",
              "      border-left-color: var(--fill-color);\n",
              "      border-top-color: var(--fill-color);\n",
              "      border-right-color: var(--fill-color);\n",
              "    }\n",
              "    40% {\n",
              "      border-color: transparent;\n",
              "      border-right-color: var(--fill-color);\n",
              "      border-top-color: var(--fill-color);\n",
              "    }\n",
              "    60% {\n",
              "      border-color: transparent;\n",
              "      border-right-color: var(--fill-color);\n",
              "    }\n",
              "    80% {\n",
              "      border-color: transparent;\n",
              "      border-right-color: var(--fill-color);\n",
              "      border-bottom-color: var(--fill-color);\n",
              "    }\n",
              "    90% {\n",
              "      border-color: transparent;\n",
              "      border-bottom-color: var(--fill-color);\n",
              "    }\n",
              "  }\n",
              "</style>\n",
              "\n",
              "  <script>\n",
              "    async function quickchart(key) {\n",
              "      const quickchartButtonEl =\n",
              "        document.querySelector('#' + key + ' button');\n",
              "      quickchartButtonEl.disabled = true;  // To prevent multiple clicks.\n",
              "      quickchartButtonEl.classList.add('colab-df-spinner');\n",
              "      try {\n",
              "        const charts = await google.colab.kernel.invokeFunction(\n",
              "            'suggestCharts', [key], {});\n",
              "      } catch (error) {\n",
              "        console.error('Error during call to suggestCharts:', error);\n",
              "      }\n",
              "      quickchartButtonEl.classList.remove('colab-df-spinner');\n",
              "      quickchartButtonEl.classList.add('colab-df-quickchart-complete');\n",
              "    }\n",
              "    (() => {\n",
              "      let quickchartButtonEl =\n",
              "        document.querySelector('#df-6c104952-8a05-4694-bb14-e9e60d534f8c button');\n",
              "      quickchartButtonEl.style.display =\n",
              "        google.colab.kernel.accessAllowed ? 'block' : 'none';\n",
              "    })();\n",
              "  </script>\n",
              "</div>\n",
              "\n",
              "    </div>\n",
              "  </div>\n"
            ],
            "application/vnd.google.colaboratory.intrinsic+json": {
              "type": "dataframe",
              "variable_name": "df",
              "summary": "{\n  \"name\": \"df\",\n  \"rows\": 1000,\n  \"fields\": [\n    {\n      \"column\": \"File_Name\",\n      \"properties\": {\n        \"dtype\": \"string\",\n        \"num_unique_values\": 1000,\n        \"samples\": [\n          \"7a1ed1b0-ff92d878.jpg\",\n          \"6268fd0c-4c007855.jpg\",\n          \"1fbf13dd-e90a8282.jpg\"\n        ],\n        \"semantic_type\": \"\",\n        \"description\": \"\"\n      }\n    },\n    {\n      \"column\": \"fold\",\n      \"properties\": {\n        \"dtype\": \"number\",\n        \"std\": 0,\n        \"min\": -1,\n        \"max\": -1,\n        \"num_unique_values\": 1,\n        \"samples\": [\n          -1\n        ],\n        \"semantic_type\": \"\",\n        \"description\": \"\"\n      }\n    }\n  ]\n}"
            }
          },
          "metadata": {},
          "execution_count": 18
        }
      ]
    },
    {
      "cell_type": "code",
      "execution_count": 19,
      "id": "f09ceb74-d7dc-4a3b-9bca-7a30f3a1de23",
      "metadata": {
        "id": "f09ceb74-d7dc-4a3b-9bca-7a30f3a1de23"
      },
      "outputs": [],
      "source": [
        "cv = StratifiedGroupKFold(n_splits=10)\n",
        "for i, (train_idxs, test_idxs) in enumerate(cv.split(fnames, y, groups)):\n",
        "    df.loc[test_idxs, ['fold']] = i"
      ]
    },
    {
      "cell_type": "code",
      "execution_count": 20,
      "id": "ced2899d-dc7e-4769-92e5-f0eaf585a4cf",
      "metadata": {
        "colab": {
          "base_uri": "https://localhost:8080/",
          "height": 210
        },
        "id": "ced2899d-dc7e-4769-92e5-f0eaf585a4cf",
        "outputId": "15739b75-22a8-478c-ff51-d7871ea3452b"
      },
      "outputs": [
        {
          "output_type": "execute_result",
          "data": {
            "text/plain": [
              "Stage\n",
              "train    800\n",
              "valid    100\n",
              "test     100\n",
              "Name: count, dtype: int64"
            ],
            "text/html": [
              "<div>\n",
              "<style scoped>\n",
              "    .dataframe tbody tr th:only-of-type {\n",
              "        vertical-align: middle;\n",
              "    }\n",
              "\n",
              "    .dataframe tbody tr th {\n",
              "        vertical-align: top;\n",
              "    }\n",
              "\n",
              "    .dataframe thead th {\n",
              "        text-align: right;\n",
              "    }\n",
              "</style>\n",
              "<table border=\"1\" class=\"dataframe\">\n",
              "  <thead>\n",
              "    <tr style=\"text-align: right;\">\n",
              "      <th></th>\n",
              "      <th>count</th>\n",
              "    </tr>\n",
              "    <tr>\n",
              "      <th>Stage</th>\n",
              "      <th></th>\n",
              "    </tr>\n",
              "  </thead>\n",
              "  <tbody>\n",
              "    <tr>\n",
              "      <th>train</th>\n",
              "      <td>800</td>\n",
              "    </tr>\n",
              "    <tr>\n",
              "      <th>valid</th>\n",
              "      <td>100</td>\n",
              "    </tr>\n",
              "    <tr>\n",
              "      <th>test</th>\n",
              "      <td>100</td>\n",
              "    </tr>\n",
              "  </tbody>\n",
              "</table>\n",
              "</div><br><label><b>dtype:</b> int64</label>"
            ]
          },
          "metadata": {},
          "execution_count": 20
        }
      ],
      "source": [
        "df['Stage'] = 'train'\n",
        "df.loc[df.fold == 0, ['Stage']] = 'test'\n",
        "df.loc[df.fold == 1, ['Stage']] = 'valid'\n",
        "del df['fold']\n",
        "df.Stage.value_counts()"
      ]
    },
    {
      "cell_type": "code",
      "execution_count": 21,
      "id": "3b322c8d-dab6-4f21-8b0b-22fac2de3aae",
      "metadata": {
        "id": "3b322c8d-dab6-4f21-8b0b-22fac2de3aae"
      },
      "outputs": [],
      "source": [
        "df.to_csv('data_split.csv', index=False)"
      ]
    },
    {
      "cell_type": "markdown",
      "id": "b7fd8322-a52b-4f69-a716-04ce4b4ffb5b",
      "metadata": {
        "id": "b7fd8322-a52b-4f69-a716-04ce4b4ffb5b"
      },
      "source": [
        "We will now create a new artifact and add our data there."
      ]
    },
    {
      "cell_type": "code",
      "execution_count": 22,
      "id": "7369b2a4-6c0b-44fb-8850-c8bfebd105ef",
      "metadata": {
        "id": "7369b2a4-6c0b-44fb-8850-c8bfebd105ef"
      },
      "outputs": [],
      "source": [
        "processed_data_at = wandb.Artifact(params.PROCESSED_DATA_AT, type=\"split_data\")"
      ]
    },
    {
      "cell_type": "code",
      "execution_count": 23,
      "id": "b264b216-ef03-4417-88df-6fc27865c1f5",
      "metadata": {
        "colab": {
          "base_uri": "https://localhost:8080/"
        },
        "id": "b264b216-ef03-4417-88df-6fc27865c1f5",
        "outputId": "68bcf0ea-7722-4591-b4e9-18e2e970978a"
      },
      "outputs": [
        {
          "output_type": "stream",
          "name": "stderr",
          "text": [
            "\u001b[34m\u001b[1mwandb\u001b[0m: Adding directory to artifact (/content/artifacts/bdd_simple_1k:v0)... Done. 4.5s\n"
          ]
        }
      ],
      "source": [
        "processed_data_at.add_file('data_split.csv')\n",
        "processed_data_at.add_dir(path)"
      ]
    },
    {
      "cell_type": "markdown",
      "id": "7df4949c-c9de-4e0b-990e-58e98b2121e3",
      "metadata": {
        "id": "7df4949c-c9de-4e0b-990e-58e98b2121e3"
      },
      "source": [
        "Finally, the split information may be relevant for our analyses - rather than uploading images again, we will save the split information to a new table and join it with EDA table we created previously."
      ]
    },
    {
      "cell_type": "code",
      "execution_count": 24,
      "id": "818a359a-6b54-4f65-b5d9-732bbe5eb91a",
      "metadata": {
        "id": "818a359a-6b54-4f65-b5d9-732bbe5eb91a"
      },
      "outputs": [],
      "source": [
        "data_split_table = wandb.Table(dataframe=df[['File_Name', 'Stage']])"
      ]
    },
    {
      "cell_type": "code",
      "execution_count": 25,
      "id": "eedc9255-2ee3-4015-bdd3-a8449a120895",
      "metadata": {
        "id": "eedc9255-2ee3-4015-bdd3-a8449a120895"
      },
      "outputs": [],
      "source": [
        "join_table = wandb.JoinedTable(orig_eda_table, data_split_table, \"File_Name\")"
      ]
    },
    {
      "cell_type": "markdown",
      "id": "998b2369-d11b-4fef-a709-69cdc333ee1b",
      "metadata": {
        "id": "998b2369-d11b-4fef-a709-69cdc333ee1b"
      },
      "source": [
        "Let's add it to our artifact, log it and finish our `run`."
      ]
    },
    {
      "cell_type": "code",
      "execution_count": 26,
      "id": "42157919-05b2-4e28-8dc4-350160c0ae53",
      "metadata": {
        "colab": {
          "base_uri": "https://localhost:8080/"
        },
        "id": "42157919-05b2-4e28-8dc4-350160c0ae53",
        "outputId": "e88f9f74-3ac9-4b71-d1df-f5c9f60822dd"
      },
      "outputs": [
        {
          "output_type": "execute_result",
          "data": {
            "text/plain": [
              "ArtifactManifestEntry(path='eda_table_data_split.joined-table.json', digest='As8yBpzQztgwI/UjWT3C1A==', size=127, local_path='/root/.local/share/wandb/artifacts/staging/tmpnboc_8gl', skip_cache=False)"
            ]
          },
          "metadata": {},
          "execution_count": 26
        }
      ],
      "source": [
        "processed_data_at.add(join_table, \"eda_table_data_split\")"
      ]
    },
    {
      "cell_type": "code",
      "execution_count": 27,
      "id": "1a6745c3-1ab6-4ebf-8f89-07d6da09fe65",
      "metadata": {
        "colab": {
          "base_uri": "https://localhost:8080/",
          "height": 86
        },
        "id": "1a6745c3-1ab6-4ebf-8f89-07d6da09fe65",
        "outputId": "0983d0df-2352-4915-869c-00d7b10eca92"
      },
      "outputs": [
        {
          "output_type": "display_data",
          "data": {
            "text/plain": [
              "<IPython.core.display.HTML object>"
            ],
            "text/html": []
          },
          "metadata": {}
        },
        {
          "output_type": "display_data",
          "data": {
            "text/plain": [
              "<IPython.core.display.HTML object>"
            ],
            "text/html": [
              " View run <strong style=\"color:#cdcd00\">honest-cosmos-2</strong> at: <a href='https://wandb.ai/vadhri-venkat/mlops-course-001/runs/ji48rotq' target=\"_blank\">https://wandb.ai/vadhri-venkat/mlops-course-001/runs/ji48rotq</a><br> View project at: <a href='https://wandb.ai/vadhri-venkat/mlops-course-001' target=\"_blank\">https://wandb.ai/vadhri-venkat/mlops-course-001</a><br>Synced 5 W&B file(s), 0 media file(s), 4010 artifact file(s) and 0 other file(s)"
            ]
          },
          "metadata": {}
        },
        {
          "output_type": "display_data",
          "data": {
            "text/plain": [
              "<IPython.core.display.HTML object>"
            ],
            "text/html": [
              "Find logs at: <code>./wandb/run-20250412_110613-ji48rotq/logs</code>"
            ]
          },
          "metadata": {}
        }
      ],
      "source": [
        "run.log_artifact(processed_data_at)\n",
        "run.finish()"
      ]
    },
    {
      "cell_type": "code",
      "execution_count": null,
      "id": "299d71f3",
      "metadata": {
        "id": "299d71f3"
      },
      "outputs": [],
      "source": []
    }
  ],
  "metadata": {
    "kernelspec": {
      "display_name": "Python 3",
      "name": "python3"
    },
    "language_info": {
      "name": "python",
      "version": "3.10.6 (main, Aug 30 2022, 04:58:14) [Clang 13.1.6 (clang-1316.0.21.2.5)]"
    },
    "vscode": {
      "interpreter": {
        "hash": "b0fa6594d8f4cbf19f97940f81e996739fb7646882a419484c72d19e05852a7e"
      }
    },
    "colab": {
      "provenance": [],
      "gpuType": "T4",
      "include_colab_link": true
    },
    "accelerator": "GPU"
  },
  "nbformat": 4,
  "nbformat_minor": 5
}