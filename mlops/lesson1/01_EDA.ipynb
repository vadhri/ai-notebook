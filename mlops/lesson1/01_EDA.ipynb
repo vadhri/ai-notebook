{
  "cells": [
    {
      "cell_type": "markdown",
      "metadata": {
        "id": "NWGfyEglTtYI"
      },
      "source": [
        "<a href=\"https://colab.research.google.com/github/wandb/edu/blob/main/mlops-001/lesson1/01_EDA.ipynb\" target=\"_parent\"><img src=\"https://colab.research.google.com/assets/colab-badge.svg\" alt=\"Open In Colab\"/></a>\n",
        "<!--- @wandbcode{course-lesson1} -->"
      ],
      "id": "NWGfyEglTtYI"
    },
    {
      "cell_type": "code",
      "execution_count": 1,
      "id": "faa157c5",
      "metadata": {
        "colab": {
          "base_uri": "https://localhost:8080/"
        },
        "id": "faa157c5",
        "outputId": "919d103c-e889-47ba-d620-1ef3c7caef4d"
      },
      "outputs": [
        {
          "output_type": "stream",
          "name": "stdout",
          "text": [
            "--2025-04-12 10:47:29--  https://raw.githubusercontent.com/wandb/edu/main/mlops-001/lesson1/requirements.txt\n",
            "Resolving raw.githubusercontent.com (raw.githubusercontent.com)... 185.199.108.133, 185.199.109.133, 185.199.110.133, ...\n",
            "Connecting to raw.githubusercontent.com (raw.githubusercontent.com)|185.199.108.133|:443... connected.\n",
            "HTTP request sent, awaiting response... 200 OK\n",
            "Length: 82 [text/plain]\n",
            "Saving to: ‘requirements.txt’\n",
            "\n",
            "requirements.txt    100%[===================>]      82  --.-KB/s    in 0s      \n",
            "\n",
            "2025-04-12 10:47:29 (1.43 MB/s) - ‘requirements.txt’ saved [82/82]\n",
            "\n",
            "--2025-04-12 10:47:30--  https://raw.githubusercontent.com/wandb/edu/main/mlops-001/lesson1/params.py\n",
            "Resolving raw.githubusercontent.com (raw.githubusercontent.com)... 185.199.111.133, 185.199.108.133, 185.199.110.133, ...\n",
            "Connecting to raw.githubusercontent.com (raw.githubusercontent.com)|185.199.111.133|:443... connected.\n",
            "HTTP request sent, awaiting response... 200 OK\n",
            "Length: 295 [text/plain]\n",
            "Saving to: ‘params.py’\n",
            "\n",
            "params.py           100%[===================>]     295  --.-KB/s    in 0s      \n",
            "\n",
            "2025-04-12 10:47:30 (5.01 MB/s) - ‘params.py’ saved [295/295]\n",
            "\n",
            "--2025-04-12 10:47:30--  https://raw.githubusercontent.com/wandb/edu/main/mlops-001/lesson1/utils.py\n",
            "Resolving raw.githubusercontent.com (raw.githubusercontent.com)... 185.199.111.133, 185.199.110.133, 185.199.108.133, ...\n",
            "Connecting to raw.githubusercontent.com (raw.githubusercontent.com)|185.199.111.133|:443... connected.\n",
            "HTTP request sent, awaiting response... 200 OK\n",
            "Length: 6721 (6.6K) [text/plain]\n",
            "Saving to: ‘utils.py’\n",
            "\n",
            "utils.py            100%[===================>]   6.56K  --.-KB/s    in 0s      \n",
            "\n",
            "2025-04-12 10:47:30 (77.5 MB/s) - ‘utils.py’ saved [6721/6721]\n",
            "\n",
            "\u001b[2K   \u001b[90m━━━━━━━━━━━━━━━━━━━━━━━━━━━━━━━━━━━━━━━━\u001b[0m \u001b[32m363.4/363.4 MB\u001b[0m \u001b[31m2.3 MB/s\u001b[0m eta \u001b[36m0:00:00\u001b[0m\n",
            "\u001b[2K   \u001b[90m━━━━━━━━━━━━━━━━━━━━━━━━━━━━━━━━━━━━━━━━\u001b[0m \u001b[32m13.8/13.8 MB\u001b[0m \u001b[31m17.9 MB/s\u001b[0m eta \u001b[36m0:00:00\u001b[0m\n",
            "\u001b[2K   \u001b[90m━━━━━━━━━━━━━━━━━━━━━━━━━━━━━━━━━━━━━━━━\u001b[0m \u001b[32m24.6/24.6 MB\u001b[0m \u001b[31m39.9 MB/s\u001b[0m eta \u001b[36m0:00:00\u001b[0m\n",
            "\u001b[2K   \u001b[90m━━━━━━━━━━━━━━━━━━━━━━━━━━━━━━━━━━━━━━━━\u001b[0m \u001b[32m883.7/883.7 kB\u001b[0m \u001b[31m22.2 MB/s\u001b[0m eta \u001b[36m0:00:00\u001b[0m\n",
            "\u001b[2K   \u001b[90m━━━━━━━━━━━━━━━━━━━━━━━━━━━━━━━━━━━━━━━━\u001b[0m \u001b[32m664.8/664.8 MB\u001b[0m \u001b[31m2.6 MB/s\u001b[0m eta \u001b[36m0:00:00\u001b[0m\n",
            "\u001b[2K   \u001b[90m━━━━━━━━━━━━━━━━━━━━━━━━━━━━━━━━━━━━━━━━\u001b[0m \u001b[32m211.5/211.5 MB\u001b[0m \u001b[31m5.9 MB/s\u001b[0m eta \u001b[36m0:00:00\u001b[0m\n",
            "\u001b[2K   \u001b[90m━━━━━━━━━━━━━━━━━━━━━━━━━━━━━━━━━━━━━━━━\u001b[0m \u001b[32m56.3/56.3 MB\u001b[0m \u001b[31m11.4 MB/s\u001b[0m eta \u001b[36m0:00:00\u001b[0m\n",
            "\u001b[2K   \u001b[90m━━━━━━━━━━━━━━━━━━━━━━━━━━━━━━━━━━━━━━━━\u001b[0m \u001b[32m127.9/127.9 MB\u001b[0m \u001b[31m7.3 MB/s\u001b[0m eta \u001b[36m0:00:00\u001b[0m\n",
            "\u001b[2K   \u001b[90m━━━━━━━━━━━━━━━━━━━━━━━━━━━━━━━━━━━━━━━━\u001b[0m \u001b[32m207.5/207.5 MB\u001b[0m \u001b[31m5.8 MB/s\u001b[0m eta \u001b[36m0:00:00\u001b[0m\n",
            "\u001b[2K   \u001b[90m━━━━━━━━━━━━━━━━━━━━━━━━━━━━━━━━━━━━━━━━\u001b[0m \u001b[32m21.1/21.1 MB\u001b[0m \u001b[31m86.0 MB/s\u001b[0m eta \u001b[36m0:00:00\u001b[0m\n",
            "\u001b[?25h"
          ]
        }
      ],
      "source": [
        "# Install dependencies (run once)\n",
        "!wget https://raw.githubusercontent.com/wandb/edu/main/mlops-001/lesson1/requirements.txt\n",
        "!wget https://raw.githubusercontent.com/wandb/edu/main/mlops-001/lesson1/params.py\n",
        "!wget https://raw.githubusercontent.com/wandb/edu/main/mlops-001/lesson1/utils.py\n",
        "!pip install -qr requirements.txt"
      ]
    },
    {
      "cell_type": "markdown",
      "id": "a212966e-8f38-4b4a-8e00-2985120439ca",
      "metadata": {
        "id": "a212966e-8f38-4b4a-8e00-2985120439ca"
      },
      "source": [
        "# EDA\n",
        "<!--- @wandbcode{course-lesson1} -->\n",
        "\n",
        "In this notebook, we will download a sample of the [BDD100K](https://www.bdd100k.com/) semantic segmentation dataset and use W&B Artifacts and Tables to version and analyze our data."
      ]
    },
    {
      "cell_type": "code",
      "execution_count": 2,
      "id": "17490b58-a8f2-489e-9c71-ca0e078591dc",
      "metadata": {
        "id": "17490b58-a8f2-489e-9c71-ca0e078591dc"
      },
      "outputs": [],
      "source": [
        "DEBUG = False # set this flag to True to use a small subset of data for testing"
      ]
    },
    {
      "cell_type": "code",
      "execution_count": 3,
      "id": "7ee88efc-3257-4ed7-bb8c-1695f4a8c828",
      "metadata": {
        "id": "7ee88efc-3257-4ed7-bb8c-1695f4a8c828"
      },
      "outputs": [],
      "source": [
        "from fastai.vision.all import *\n",
        "import params\n",
        "\n",
        "import wandb"
      ]
    },
    {
      "cell_type": "markdown",
      "id": "055764da-7252-4796-86af-585007dea288",
      "metadata": {
        "id": "055764da-7252-4796-86af-585007dea288"
      },
      "source": [
        "We have defined some global configuration parameters in the `params.py` file. `ENTITY` should correspond to your W&B Team name if you work in a team, replace it with `None` if you work individually.\n",
        "\n",
        "In the section below, we will use `untar_data` function from `fastai` to download and unzip our datasets."
      ]
    },
    {
      "cell_type": "code",
      "execution_count": 4,
      "id": "0bae3750-a653-4265-9c52-c1f9af9b8393",
      "metadata": {
        "id": "0bae3750-a653-4265-9c52-c1f9af9b8393"
      },
      "outputs": [],
      "source": [
        "URL = 'https://storage.googleapis.com/wandb_course/bdd_simple_1k.zip'"
      ]
    },
    {
      "cell_type": "code",
      "execution_count": 5,
      "id": "0da50d19-860a-4b39-8320-a376c483da04",
      "metadata": {
        "colab": {
          "base_uri": "https://localhost:8080/",
          "height": 37
        },
        "id": "0da50d19-860a-4b39-8320-a376c483da04",
        "outputId": "7c2162ff-9175-469d-cec5-ce48a13a0c8a"
      },
      "outputs": [
        {
          "output_type": "display_data",
          "data": {
            "text/plain": [
              "<IPython.core.display.HTML object>"
            ],
            "text/html": [
              "\n",
              "<style>\n",
              "    /* Turns off some styling */\n",
              "    progress {\n",
              "        /* gets rid of default border in Firefox and Opera. */\n",
              "        border: none;\n",
              "        /* Needs to be in here for Safari polyfill so background images work as expected. */\n",
              "        background-size: auto;\n",
              "    }\n",
              "    progress:not([value]), progress:not([value])::-webkit-progress-bar {\n",
              "        background: repeating-linear-gradient(45deg, #7e7e7e, #7e7e7e 10px, #5c5c5c 10px, #5c5c5c 20px);\n",
              "    }\n",
              "    .progress-bar-interrupted, .progress-bar-interrupted::-webkit-progress-bar {\n",
              "        background: #F44336;\n",
              "    }\n",
              "</style>\n"
            ]
          },
          "metadata": {}
        },
        {
          "output_type": "display_data",
          "data": {
            "text/plain": [
              "<IPython.core.display.HTML object>"
            ],
            "text/html": [
              "\n",
              "    <div>\n",
              "      <progress value='122470400' class='' max='122467691' style='width:300px; height:20px; vertical-align: middle;'></progress>\n",
              "      100.00% [122470400/122467691 00:06&lt;00:00]\n",
              "    </div>\n",
              "    "
            ]
          },
          "metadata": {}
        }
      ],
      "source": [
        "path = Path(untar_data(URL, force_download=True))"
      ]
    },
    {
      "cell_type": "code",
      "execution_count": 6,
      "id": "6df5b830-e685-4a0d-81e8-6dda10697dff",
      "metadata": {
        "colab": {
          "base_uri": "https://localhost:8080/"
        },
        "id": "6df5b830-e685-4a0d-81e8-6dda10697dff",
        "outputId": "75e10e78-6523-4f9f-e01f-8456a3325fc5"
      },
      "outputs": [
        {
          "output_type": "execute_result",
          "data": {
            "text/plain": [
              "(#3) [Path('/root/.fastai/data/bdd_simple_1k/labels'),Path('/root/.fastai/data/bdd_simple_1k/LICENSE.txt'),Path('/root/.fastai/data/bdd_simple_1k/images')]"
            ]
          },
          "metadata": {},
          "execution_count": 6
        }
      ],
      "source": [
        "path.ls()"
      ]
    },
    {
      "cell_type": "markdown",
      "id": "db6708ae-abaa-432f-83b0-028a99222096",
      "metadata": {
        "id": "db6708ae-abaa-432f-83b0-028a99222096"
      },
      "source": [
        "Here we define several functions to help us process the data and upload it as a `Table` to W&B."
      ]
    },
    {
      "cell_type": "code",
      "execution_count": 7,
      "id": "5779f980-4d9b-4645-9726-642a25334e10",
      "metadata": {
        "id": "5779f980-4d9b-4645-9726-642a25334e10"
      },
      "outputs": [],
      "source": [
        "def label_func(fname):\n",
        "    return (fname.parent.parent/\"labels\")/f\"{fname.stem}_mask.png\"\n",
        "\n",
        "def get_classes_per_image(mask_data, class_labels):\n",
        "    unique = list(np.unique(mask_data))\n",
        "    result_dict = {}\n",
        "    for _class in class_labels.keys():\n",
        "        result_dict[class_labels[_class]] = int(_class in unique)\n",
        "    return result_dict\n",
        "\n",
        "def _create_table(image_files, class_labels):\n",
        "    \"Create a table with the dataset\"\n",
        "    labels = [str(class_labels[_lab]) for _lab in list(class_labels)]\n",
        "    table = wandb.Table(columns=[\"File_Name\", \"Images\", \"Split\"] + labels)\n",
        "\n",
        "    for i, image_file in progress_bar(enumerate(image_files), total=len(image_files)):\n",
        "        image = Image.open(image_file)\n",
        "        mask_data = np.array(Image.open(label_func(image_file)))\n",
        "        class_in_image = get_classes_per_image(mask_data, class_labels)\n",
        "        table.add_data(\n",
        "            str(image_file.name),\n",
        "            wandb.Image(\n",
        "                    image,\n",
        "                    masks={\n",
        "                        \"predictions\": {\n",
        "                            \"mask_data\": mask_data,\n",
        "                            \"class_labels\": class_labels,\n",
        "                        }\n",
        "                    }\n",
        "            ),\n",
        "            \"None\", # we don't have a dataset split yet\n",
        "            *[class_in_image[_lab] for _lab in labels]\n",
        "        )\n",
        "\n",
        "    return table"
      ]
    },
    {
      "cell_type": "markdown",
      "id": "eac085cd-2409-4baf-a887-108e3dca65b9",
      "metadata": {
        "id": "eac085cd-2409-4baf-a887-108e3dca65b9"
      },
      "source": [
        "We will start a new W&B `run` and put everything into a raw Artifact."
      ]
    },
    {
      "cell_type": "code",
      "execution_count": 8,
      "id": "e87141b3-b9b7-4a40-839c-64c835484f48",
      "metadata": {
        "colab": {
          "base_uri": "https://localhost:8080/",
          "height": 277
        },
        "id": "e87141b3-b9b7-4a40-839c-64c835484f48",
        "outputId": "dbe76ca1-0573-4b74-8188-a4126ff58eda"
      },
      "outputs": [
        {
          "output_type": "stream",
          "name": "stderr",
          "text": [
            "\u001b[34m\u001b[1mwandb\u001b[0m: Using wandb-core as the SDK backend.  Please refer to https://wandb.me/wandb-core for more information.\n"
          ]
        },
        {
          "output_type": "display_data",
          "data": {
            "text/plain": [
              "<IPython.core.display.Javascript object>"
            ],
            "application/javascript": [
              "\n",
              "        window._wandbApiKey = new Promise((resolve, reject) => {\n",
              "            function loadScript(url) {\n",
              "            return new Promise(function(resolve, reject) {\n",
              "                let newScript = document.createElement(\"script\");\n",
              "                newScript.onerror = reject;\n",
              "                newScript.onload = resolve;\n",
              "                document.body.appendChild(newScript);\n",
              "                newScript.src = url;\n",
              "            });\n",
              "            }\n",
              "            loadScript(\"https://cdn.jsdelivr.net/npm/postmate/build/postmate.min.js\").then(() => {\n",
              "            const iframe = document.createElement('iframe')\n",
              "            iframe.style.cssText = \"width:0;height:0;border:none\"\n",
              "            document.body.appendChild(iframe)\n",
              "            const handshake = new Postmate({\n",
              "                container: iframe,\n",
              "                url: 'https://wandb.ai/authorize'\n",
              "            });\n",
              "            const timeout = setTimeout(() => reject(\"Couldn't auto authenticate\"), 5000)\n",
              "            handshake.then(function(child) {\n",
              "                child.on('authorize', data => {\n",
              "                    clearTimeout(timeout)\n",
              "                    resolve(data)\n",
              "                });\n",
              "            });\n",
              "            })\n",
              "        });\n",
              "    "
            ]
          },
          "metadata": {}
        },
        {
          "output_type": "stream",
          "name": "stderr",
          "text": [
            "\u001b[34m\u001b[1mwandb\u001b[0m: Logging into wandb.ai. (Learn how to deploy a W&B server locally: https://wandb.me/wandb-server)\n",
            "\u001b[34m\u001b[1mwandb\u001b[0m: You can find your API key in your browser here: https://wandb.ai/authorize\n",
            "wandb: Paste an API key from your profile and hit enter:"
          ]
        },
        {
          "name": "stdout",
          "output_type": "stream",
          "text": [
            " ··········\n"
          ]
        },
        {
          "output_type": "stream",
          "name": "stderr",
          "text": [
            "\u001b[34m\u001b[1mwandb\u001b[0m: \u001b[33mWARNING\u001b[0m If you're specifying your api key in code, ensure this code is not shared publicly.\n",
            "\u001b[34m\u001b[1mwandb\u001b[0m: \u001b[33mWARNING\u001b[0m Consider setting the WANDB_API_KEY environment variable, or running `wandb login` from the command line.\n",
            "\u001b[34m\u001b[1mwandb\u001b[0m: No netrc file found, creating one.\n",
            "\u001b[34m\u001b[1mwandb\u001b[0m: Appending key for api.wandb.ai to your netrc file: /root/.netrc\n",
            "\u001b[34m\u001b[1mwandb\u001b[0m: Currently logged in as: \u001b[33mvadhri-venkat\u001b[0m to \u001b[32mhttps://api.wandb.ai\u001b[0m. Use \u001b[1m`wandb login --relogin`\u001b[0m to force relogin\n"
          ]
        },
        {
          "output_type": "display_data",
          "data": {
            "text/plain": [
              "<IPython.core.display.HTML object>"
            ],
            "text/html": [
              "Tracking run with wandb version 0.19.9"
            ]
          },
          "metadata": {}
        },
        {
          "output_type": "display_data",
          "data": {
            "text/plain": [
              "<IPython.core.display.HTML object>"
            ],
            "text/html": [
              "Run data is saved locally in <code>/content/wandb/run-20250412_105210-g1q5bl1x</code>"
            ]
          },
          "metadata": {}
        },
        {
          "output_type": "display_data",
          "data": {
            "text/plain": [
              "<IPython.core.display.HTML object>"
            ],
            "text/html": [
              "Syncing run <strong><a href='https://wandb.ai/vadhri-venkat/mlops-course-001/runs/g1q5bl1x' target=\"_blank\">zesty-river-1</a></strong> to <a href='https://wandb.ai/vadhri-venkat/mlops-course-001' target=\"_blank\">Weights & Biases</a> (<a href='https://wandb.me/developer-guide' target=\"_blank\">docs</a>)<br>"
            ]
          },
          "metadata": {}
        },
        {
          "output_type": "display_data",
          "data": {
            "text/plain": [
              "<IPython.core.display.HTML object>"
            ],
            "text/html": [
              " View project at <a href='https://wandb.ai/vadhri-venkat/mlops-course-001' target=\"_blank\">https://wandb.ai/vadhri-venkat/mlops-course-001</a>"
            ]
          },
          "metadata": {}
        },
        {
          "output_type": "display_data",
          "data": {
            "text/plain": [
              "<IPython.core.display.HTML object>"
            ],
            "text/html": [
              " View run at <a href='https://wandb.ai/vadhri-venkat/mlops-course-001/runs/g1q5bl1x' target=\"_blank\">https://wandb.ai/vadhri-venkat/mlops-course-001/runs/g1q5bl1x</a>"
            ]
          },
          "metadata": {}
        }
      ],
      "source": [
        "run = wandb.init(project=params.WANDB_PROJECT, entity=params.ENTITY, job_type=\"upload\")\n",
        "raw_data_at = wandb.Artifact(params.RAW_DATA_AT, type=\"raw_data\")"
      ]
    },
    {
      "cell_type": "code",
      "execution_count": 9,
      "id": "f2de6968-b465-4e2e-aaf1-787a48c7981e",
      "metadata": {
        "colab": {
          "base_uri": "https://localhost:8080/"
        },
        "id": "f2de6968-b465-4e2e-aaf1-787a48c7981e",
        "outputId": "55f53861-827c-4f1d-9ab0-f35869a46e8f"
      },
      "outputs": [
        {
          "output_type": "execute_result",
          "data": {
            "text/plain": [
              "ArtifactManifestEntry(path='LICENSE.txt', digest='X+6ZFkDOlnKesJCNt20yRg==', size=1594, local_path='/root/.local/share/wandb/artifacts/staging/tmpc8bn2uv0', skip_cache=False)"
            ]
          },
          "metadata": {},
          "execution_count": 9
        }
      ],
      "source": [
        "raw_data_at.add_file(path/'LICENSE.txt', name='LICENSE.txt')"
      ]
    },
    {
      "cell_type": "markdown",
      "id": "10addc71-201d-4c29-af23-9a5d9a5cbddf",
      "metadata": {
        "id": "10addc71-201d-4c29-af23-9a5d9a5cbddf"
      },
      "source": [
        "Let's add the images and label masks."
      ]
    },
    {
      "cell_type": "code",
      "execution_count": 10,
      "id": "e2e29a83-ec60-4518-8b73-078f1719bc8f",
      "metadata": {
        "colab": {
          "base_uri": "https://localhost:8080/"
        },
        "id": "e2e29a83-ec60-4518-8b73-078f1719bc8f",
        "outputId": "8a50f973-72d1-4ba9-8870-d0c913706d0f"
      },
      "outputs": [
        {
          "output_type": "stream",
          "name": "stderr",
          "text": [
            "\u001b[34m\u001b[1mwandb\u001b[0m: Adding directory to artifact (/root/.fastai/data/bdd_simple_1k/images)... Done. 1.0s\n",
            "\u001b[34m\u001b[1mwandb\u001b[0m: Adding directory to artifact (/root/.fastai/data/bdd_simple_1k/labels)... Done. 0.5s\n"
          ]
        }
      ],
      "source": [
        "raw_data_at.add_dir(path/'images', name='images')\n",
        "raw_data_at.add_dir(path/'labels', name='labels')"
      ]
    },
    {
      "cell_type": "markdown",
      "id": "01b989eb-36da-4194-9a34-88126749f210",
      "metadata": {
        "id": "01b989eb-36da-4194-9a34-88126749f210"
      },
      "source": [
        "Let's get the file names of images in our dataset and use the function we defined above to create a W&B Table."
      ]
    },
    {
      "cell_type": "code",
      "execution_count": 11,
      "id": "aeaa2dae-1b2b-4c70-8dcf-b079f4f05b86",
      "metadata": {
        "id": "aeaa2dae-1b2b-4c70-8dcf-b079f4f05b86"
      },
      "outputs": [],
      "source": [
        "image_files = get_image_files(path/\"images\", recurse=False)\n",
        "\n",
        "# sample a subset if DEBUG\n",
        "if DEBUG: image_files = image_files[:10]"
      ]
    },
    {
      "cell_type": "code",
      "execution_count": 12,
      "id": "451ff088-4cb3-4739-b4e8-308d03645ffe",
      "metadata": {
        "colab": {
          "base_uri": "https://localhost:8080/",
          "height": 37
        },
        "id": "451ff088-4cb3-4739-b4e8-308d03645ffe",
        "outputId": "65c33a73-5e72-467f-bcf6-34f1f83ed999"
      },
      "outputs": [
        {
          "output_type": "display_data",
          "data": {
            "text/plain": [
              "<IPython.core.display.HTML object>"
            ],
            "text/html": [
              "\n",
              "<style>\n",
              "    /* Turns off some styling */\n",
              "    progress {\n",
              "        /* gets rid of default border in Firefox and Opera. */\n",
              "        border: none;\n",
              "        /* Needs to be in here for Safari polyfill so background images work as expected. */\n",
              "        background-size: auto;\n",
              "    }\n",
              "    progress:not([value]), progress:not([value])::-webkit-progress-bar {\n",
              "        background: repeating-linear-gradient(45deg, #7e7e7e, #7e7e7e 10px, #5c5c5c 10px, #5c5c5c 20px);\n",
              "    }\n",
              "    .progress-bar-interrupted, .progress-bar-interrupted::-webkit-progress-bar {\n",
              "        background: #F44336;\n",
              "    }\n",
              "</style>\n"
            ]
          },
          "metadata": {}
        },
        {
          "output_type": "display_data",
          "data": {
            "text/plain": [
              "<IPython.core.display.HTML object>"
            ],
            "text/html": [
              "\n",
              "    <div>\n",
              "      <progress value='1000' class='' max='1000' style='width:300px; height:20px; vertical-align: middle;'></progress>\n",
              "      100.00% [1000/1000 04:31&lt;00:00]\n",
              "    </div>\n",
              "    "
            ]
          },
          "metadata": {}
        }
      ],
      "source": [
        "table = _create_table(image_files, params.BDD_CLASSES)"
      ]
    },
    {
      "cell_type": "markdown",
      "id": "ff73cd37-6a72-44f7-a5cf-6abe7d327092",
      "metadata": {
        "id": "ff73cd37-6a72-44f7-a5cf-6abe7d327092"
      },
      "source": [
        "Finally, we will add the Table to our Artifact, log it to W&B and finish our `run`."
      ]
    },
    {
      "cell_type": "code",
      "execution_count": 13,
      "id": "d4183e9c-75e4-48a8-a2e1-0f4492c0b5d0",
      "metadata": {
        "colab": {
          "base_uri": "https://localhost:8080/"
        },
        "id": "d4183e9c-75e4-48a8-a2e1-0f4492c0b5d0",
        "outputId": "731ae5be-e676-4e48-f396-03cb9d0d8479"
      },
      "outputs": [
        {
          "output_type": "execute_result",
          "data": {
            "text/plain": [
              "ArtifactManifestEntry(path='eda_table.table.json', digest='+0P2GC7USgDPsv1+wXd91g==', size=588824, local_path='/root/.local/share/wandb/artifacts/staging/tmpm18f68p5', skip_cache=False)"
            ]
          },
          "metadata": {},
          "execution_count": 13
        }
      ],
      "source": [
        "raw_data_at.add(table, \"eda_table\")"
      ]
    },
    {
      "cell_type": "code",
      "execution_count": 14,
      "id": "e81ed9c8-6905-4841-a9f7-e3f3b9b6d927",
      "metadata": {
        "colab": {
          "base_uri": "https://localhost:8080/",
          "height": 86
        },
        "id": "e81ed9c8-6905-4841-a9f7-e3f3b9b6d927",
        "outputId": "29bf32be-e7e7-456a-9e36-50a92ec25c81"
      },
      "outputs": [
        {
          "output_type": "display_data",
          "data": {
            "text/plain": [
              "<IPython.core.display.HTML object>"
            ],
            "text/html": []
          },
          "metadata": {}
        },
        {
          "output_type": "display_data",
          "data": {
            "text/plain": [
              "<IPython.core.display.HTML object>"
            ],
            "text/html": [
              " View run <strong style=\"color:#cdcd00\">zesty-river-1</strong> at: <a href='https://wandb.ai/vadhri-venkat/mlops-course-001/runs/g1q5bl1x' target=\"_blank\">https://wandb.ai/vadhri-venkat/mlops-course-001/runs/g1q5bl1x</a><br> View project at: <a href='https://wandb.ai/vadhri-venkat/mlops-course-001' target=\"_blank\">https://wandb.ai/vadhri-venkat/mlops-course-001</a><br>Synced 5 W&B file(s), 0 media file(s), 4008 artifact file(s) and 0 other file(s)"
            ]
          },
          "metadata": {}
        },
        {
          "output_type": "display_data",
          "data": {
            "text/plain": [
              "<IPython.core.display.HTML object>"
            ],
            "text/html": [
              "Find logs at: <code>./wandb/run-20250412_105210-g1q5bl1x/logs</code>"
            ]
          },
          "metadata": {}
        }
      ],
      "source": [
        "run.log_artifact(raw_data_at)\n",
        "run.finish()"
      ]
    }
  ],
  "metadata": {
    "kernelspec": {
      "display_name": "Python 3",
      "name": "python3"
    },
    "language_info": {
      "name": "python",
      "version": "3.10.6 (main, Aug 30 2022, 04:58:14) [Clang 13.1.6 (clang-1316.0.21.2.5)]"
    },
    "vscode": {
      "interpreter": {
        "hash": "b0fa6594d8f4cbf19f97940f81e996739fb7646882a419484c72d19e05852a7e"
      }
    },
    "colab": {
      "provenance": [],
      "gpuType": "T4"
    },
    "accelerator": "GPU"
  },
  "nbformat": 4,
  "nbformat_minor": 5
}