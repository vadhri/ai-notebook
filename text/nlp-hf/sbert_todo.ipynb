{
 "cells": [
  {
   "cell_type": "code",
   "execution_count": 1,
   "metadata": {},
   "outputs": [
    {
     "name": "stdout",
     "output_type": "stream",
     "text": [
      "Collecting sentence-transformers\n",
      "  Downloading sentence-transformers-2.2.2.tar.gz (85 kB)\n",
      "\u001b[2K     \u001b[90m━━━━━━━━━━━━━━━━━━━━━━━━━━━━━━━━━━━━━━━━\u001b[0m \u001b[32m86.0/86.0 kB\u001b[0m \u001b[31m1.8 MB/s\u001b[0m eta \u001b[36m0:00:00\u001b[0ma \u001b[36m0:00:01\u001b[0m\n",
      "\u001b[?25h  Preparing metadata (setup.py) ... \u001b[?25ldone\n",
      "\u001b[?25hRequirement already satisfied: transformers<5.0.0,>=4.6.0 in /Users/venkat/opt/anaconda3/envs/QCML/lib/python3.9/site-packages (from sentence-transformers) (4.36.2)\n",
      "Requirement already satisfied: tqdm in /Users/venkat/opt/anaconda3/envs/QCML/lib/python3.9/site-packages (from sentence-transformers) (4.64.1)\n",
      "Requirement already satisfied: torch>=1.6.0 in /Users/venkat/opt/anaconda3/envs/QCML/lib/python3.9/site-packages (from sentence-transformers) (1.13.1)\n",
      "Requirement already satisfied: torchvision in /Users/venkat/opt/anaconda3/envs/QCML/lib/python3.9/site-packages (from sentence-transformers) (0.15.2)\n",
      "Requirement already satisfied: numpy in /Users/venkat/opt/anaconda3/envs/QCML/lib/python3.9/site-packages (from sentence-transformers) (1.23.5)\n",
      "Requirement already satisfied: scikit-learn in /Users/venkat/opt/anaconda3/envs/QCML/lib/python3.9/site-packages (from sentence-transformers) (1.2.2)\n",
      "Requirement already satisfied: scipy in /Users/venkat/opt/anaconda3/envs/QCML/lib/python3.9/site-packages (from sentence-transformers) (1.10.0)\n",
      "Requirement already satisfied: nltk in /Users/venkat/opt/anaconda3/envs/QCML/lib/python3.9/site-packages (from sentence-transformers) (3.8.1)\n",
      "Collecting sentencepiece (from sentence-transformers)\n",
      "  Downloading sentencepiece-0.1.99-cp39-cp39-macosx_10_9_x86_64.whl (1.2 MB)\n",
      "\u001b[2K     \u001b[90m━━━━━━━━━━━━━━━━━━━━━━━━━━━━━━━━━━━━━━━━\u001b[0m \u001b[32m1.2/1.2 MB\u001b[0m \u001b[31m4.7 MB/s\u001b[0m eta \u001b[36m0:00:00\u001b[0m00:01\u001b[0m00:01\u001b[0m\n",
      "\u001b[?25hRequirement already satisfied: huggingface-hub>=0.4.0 in /Users/venkat/opt/anaconda3/envs/QCML/lib/python3.9/site-packages (from sentence-transformers) (0.19.4)\n",
      "Requirement already satisfied: filelock in /Users/venkat/opt/anaconda3/envs/QCML/lib/python3.9/site-packages (from huggingface-hub>=0.4.0->sentence-transformers) (3.12.2)\n",
      "Requirement already satisfied: fsspec>=2023.5.0 in /Users/venkat/opt/anaconda3/envs/QCML/lib/python3.9/site-packages (from huggingface-hub>=0.4.0->sentence-transformers) (2023.10.0)\n",
      "Requirement already satisfied: requests in /Users/venkat/opt/anaconda3/envs/QCML/lib/python3.9/site-packages (from huggingface-hub>=0.4.0->sentence-transformers) (2.31.0)\n",
      "Requirement already satisfied: pyyaml>=5.1 in /Users/venkat/opt/anaconda3/envs/QCML/lib/python3.9/site-packages (from huggingface-hub>=0.4.0->sentence-transformers) (6.0)\n",
      "Requirement already satisfied: typing-extensions>=3.7.4.3 in /Users/venkat/opt/anaconda3/envs/QCML/lib/python3.9/site-packages (from huggingface-hub>=0.4.0->sentence-transformers) (4.9.0)\n",
      "Requirement already satisfied: packaging>=20.9 in /Users/venkat/opt/anaconda3/envs/QCML/lib/python3.9/site-packages (from huggingface-hub>=0.4.0->sentence-transformers) (22.0)\n",
      "Requirement already satisfied: regex!=2019.12.17 in /Users/venkat/opt/anaconda3/envs/QCML/lib/python3.9/site-packages (from transformers<5.0.0,>=4.6.0->sentence-transformers) (2023.10.3)\n",
      "Requirement already satisfied: tokenizers<0.19,>=0.14 in /Users/venkat/opt/anaconda3/envs/QCML/lib/python3.9/site-packages (from transformers<5.0.0,>=4.6.0->sentence-transformers) (0.15.0)\n",
      "Requirement already satisfied: safetensors>=0.3.1 in /Users/venkat/opt/anaconda3/envs/QCML/lib/python3.9/site-packages (from transformers<5.0.0,>=4.6.0->sentence-transformers) (0.4.1)\n",
      "Requirement already satisfied: click in /Users/venkat/opt/anaconda3/envs/QCML/lib/python3.9/site-packages (from nltk->sentence-transformers) (8.1.7)\n",
      "Requirement already satisfied: joblib in /Users/venkat/opt/anaconda3/envs/QCML/lib/python3.9/site-packages (from nltk->sentence-transformers) (1.2.0)\n",
      "Requirement already satisfied: threadpoolctl>=2.0.0 in /Users/venkat/opt/anaconda3/envs/QCML/lib/python3.9/site-packages (from scikit-learn->sentence-transformers) (3.1.0)\n",
      "Collecting torch>=1.6.0 (from sentence-transformers)\n",
      "  Downloading torch-2.0.1-cp39-none-macosx_10_9_x86_64.whl (143.4 MB)\n",
      "\u001b[2K     \u001b[90m━━━━━━━━━━━━━━━━━━━━━━━━━━━━━━━━━━━━━━━\u001b[0m \u001b[32m143.4/143.4 MB\u001b[0m \u001b[31m3.7 MB/s\u001b[0m eta \u001b[36m0:00:00\u001b[0m00:01\u001b[0m00:01\u001b[0m\n",
      "\u001b[?25hRequirement already satisfied: pillow!=8.3.*,>=5.3.0 in /Users/venkat/opt/anaconda3/envs/QCML/lib/python3.9/site-packages (from torchvision->sentence-transformers) (9.4.0)\n",
      "Requirement already satisfied: sympy in /Users/venkat/opt/anaconda3/envs/QCML/lib/python3.9/site-packages (from torch>=1.6.0->sentence-transformers) (1.11.1)\n",
      "Requirement already satisfied: networkx in /Users/venkat/opt/anaconda3/envs/QCML/lib/python3.9/site-packages (from torch>=1.6.0->sentence-transformers) (2.8.8)\n",
      "Requirement already satisfied: jinja2 in /Users/venkat/opt/anaconda3/envs/QCML/lib/python3.9/site-packages (from torch>=1.6.0->sentence-transformers) (3.1.2)\n",
      "Requirement already satisfied: MarkupSafe>=2.0 in /Users/venkat/opt/anaconda3/envs/QCML/lib/python3.9/site-packages (from jinja2->torch>=1.6.0->sentence-transformers) (2.1.1)\n",
      "Requirement already satisfied: charset-normalizer<4,>=2 in /Users/venkat/opt/anaconda3/envs/QCML/lib/python3.9/site-packages (from requests->huggingface-hub>=0.4.0->sentence-transformers) (2.0.4)\n",
      "Requirement already satisfied: idna<4,>=2.5 in /Users/venkat/opt/anaconda3/envs/QCML/lib/python3.9/site-packages (from requests->huggingface-hub>=0.4.0->sentence-transformers) (3.4)\n",
      "Requirement already satisfied: urllib3<3,>=1.21.1 in /Users/venkat/opt/anaconda3/envs/QCML/lib/python3.9/site-packages (from requests->huggingface-hub>=0.4.0->sentence-transformers) (1.26.14)\n",
      "Requirement already satisfied: certifi>=2017.4.17 in /Users/venkat/opt/anaconda3/envs/QCML/lib/python3.9/site-packages (from requests->huggingface-hub>=0.4.0->sentence-transformers) (2023.7.22)\n",
      "Requirement already satisfied: mpmath>=0.19 in /Users/venkat/opt/anaconda3/envs/QCML/lib/python3.9/site-packages (from sympy->torch>=1.6.0->sentence-transformers) (1.2.1)\n",
      "Building wheels for collected packages: sentence-transformers\n",
      "  Building wheel for sentence-transformers (setup.py) ... \u001b[?25ldone\n",
      "\u001b[?25h  Created wheel for sentence-transformers: filename=sentence_transformers-2.2.2-py3-none-any.whl size=125925 sha256=d9cc0f9ef97a6573971ec259a21119b60c78c7f1aea4d6cf9affba13fc5c0951\n",
      "  Stored in directory: /Users/venkat/Library/Caches/pip/wheels/71/67/06/162a3760c40d74dd40bc855d527008d26341c2b0ecf3e8e11f\n",
      "Successfully built sentence-transformers\n",
      "Installing collected packages: sentencepiece, torch, sentence-transformers\n",
      "  Attempting uninstall: torch\n",
      "    Found existing installation: torch 1.13.1\n",
      "    Uninstalling torch-1.13.1:\n",
      "      Successfully uninstalled torch-1.13.1\n",
      "\u001b[31mERROR: pip's dependency resolver does not currently take into account all the packages that are installed. This behaviour is the source of the following dependency conflicts.\n",
      "torchdata 0.5.1 requires torch==1.13.1, but you have torch 2.0.1 which is incompatible.\u001b[0m\u001b[31m\n",
      "\u001b[0mSuccessfully installed sentence-transformers-2.2.2 sentencepiece-0.1.99 torch-2.0.1\n"
     ]
    }
   ],
   "source": [
    "!pip install -U sentence-transformers\n"
   ]
  },
  {
   "cell_type": "code",
   "execution_count": 2,
   "metadata": {},
   "outputs": [
    {
     "data": {
      "application/vnd.jupyter.widget-view+json": {
       "model_id": "8d45c30441f4484e838de0717280f405",
       "version_major": 2,
       "version_minor": 0
      },
      "text/plain": [
       ".gitattributes:   0%|          | 0.00/1.18k [00:00<?, ?B/s]"
      ]
     },
     "metadata": {},
     "output_type": "display_data"
    },
    {
     "data": {
      "application/vnd.jupyter.widget-view+json": {
       "model_id": "49569c79d6b04adf895b714fe88700e3",
       "version_major": 2,
       "version_minor": 0
      },
      "text/plain": [
       "1_Pooling/config.json:   0%|          | 0.00/190 [00:00<?, ?B/s]"
      ]
     },
     "metadata": {},
     "output_type": "display_data"
    },
    {
     "data": {
      "application/vnd.jupyter.widget-view+json": {
       "model_id": "fecbd7ddce7349a8b19f52af8e1d3e52",
       "version_major": 2,
       "version_minor": 0
      },
      "text/plain": [
       "README.md:   0%|          | 0.00/10.6k [00:00<?, ?B/s]"
      ]
     },
     "metadata": {},
     "output_type": "display_data"
    },
    {
     "data": {
      "application/vnd.jupyter.widget-view+json": {
       "model_id": "b960aa3cf9a941edbaec6105c4e01ec3",
       "version_major": 2,
       "version_minor": 0
      },
      "text/plain": [
       "config.json:   0%|          | 0.00/612 [00:00<?, ?B/s]"
      ]
     },
     "metadata": {},
     "output_type": "display_data"
    },
    {
     "data": {
      "application/vnd.jupyter.widget-view+json": {
       "model_id": "c86ca053132e4b6c80a2e60b67085415",
       "version_major": 2,
       "version_minor": 0
      },
      "text/plain": [
       "config_sentence_transformers.json:   0%|          | 0.00/116 [00:00<?, ?B/s]"
      ]
     },
     "metadata": {},
     "output_type": "display_data"
    },
    {
     "data": {
      "application/vnd.jupyter.widget-view+json": {
       "model_id": "bbb40143e6944f1cad8b7622878a29c9",
       "version_major": 2,
       "version_minor": 0
      },
      "text/plain": [
       "data_config.json:   0%|          | 0.00/39.3k [00:00<?, ?B/s]"
      ]
     },
     "metadata": {},
     "output_type": "display_data"
    },
    {
     "data": {
      "application/vnd.jupyter.widget-view+json": {
       "model_id": "f6f0861348d844939fb58bb9e61f0da4",
       "version_major": 2,
       "version_minor": 0
      },
      "text/plain": [
       "pytorch_model.bin:   0%|          | 0.00/90.9M [00:00<?, ?B/s]"
      ]
     },
     "metadata": {},
     "output_type": "display_data"
    },
    {
     "data": {
      "application/vnd.jupyter.widget-view+json": {
       "model_id": "9c4104d45b444a57ac6a79395571a149",
       "version_major": 2,
       "version_minor": 0
      },
      "text/plain": [
       "sentence_bert_config.json:   0%|          | 0.00/53.0 [00:00<?, ?B/s]"
      ]
     },
     "metadata": {},
     "output_type": "display_data"
    },
    {
     "data": {
      "application/vnd.jupyter.widget-view+json": {
       "model_id": "9017171ff8fd47da99f977cf7135f9e2",
       "version_major": 2,
       "version_minor": 0
      },
      "text/plain": [
       "special_tokens_map.json:   0%|          | 0.00/112 [00:00<?, ?B/s]"
      ]
     },
     "metadata": {},
     "output_type": "display_data"
    },
    {
     "data": {
      "application/vnd.jupyter.widget-view+json": {
       "model_id": "f41e59f680604a49a6acff727a9c4588",
       "version_major": 2,
       "version_minor": 0
      },
      "text/plain": [
       "tokenizer.json:   0%|          | 0.00/466k [00:00<?, ?B/s]"
      ]
     },
     "metadata": {},
     "output_type": "display_data"
    },
    {
     "data": {
      "application/vnd.jupyter.widget-view+json": {
       "model_id": "b8b166ff0b984c47acac665f024d451e",
       "version_major": 2,
       "version_minor": 0
      },
      "text/plain": [
       "tokenizer_config.json:   0%|          | 0.00/350 [00:00<?, ?B/s]"
      ]
     },
     "metadata": {},
     "output_type": "display_data"
    },
    {
     "data": {
      "application/vnd.jupyter.widget-view+json": {
       "model_id": "40bbda72971f4d9d881d1cb789adab46",
       "version_major": 2,
       "version_minor": 0
      },
      "text/plain": [
       "train_script.py:   0%|          | 0.00/13.2k [00:00<?, ?B/s]"
      ]
     },
     "metadata": {},
     "output_type": "display_data"
    },
    {
     "data": {
      "application/vnd.jupyter.widget-view+json": {
       "model_id": "e2840cfeac41412b8d25866e4b1465fe",
       "version_major": 2,
       "version_minor": 0
      },
      "text/plain": [
       "vocab.txt:   0%|          | 0.00/232k [00:00<?, ?B/s]"
      ]
     },
     "metadata": {},
     "output_type": "display_data"
    },
    {
     "data": {
      "application/vnd.jupyter.widget-view+json": {
       "model_id": "ba61e31e27bf4b46970db27c37f8dc54",
       "version_major": 2,
       "version_minor": 0
      },
      "text/plain": [
       "modules.json:   0%|          | 0.00/349 [00:00<?, ?B/s]"
      ]
     },
     "metadata": {},
     "output_type": "display_data"
    },
    {
     "name": "stdout",
     "output_type": "stream",
     "text": [
      "Sentence: This framework generates embeddings for each input sentence\n",
      "Embedding: [-1.37173515e-02 -4.28515263e-02 -1.56286191e-02  1.40537461e-02\n",
      "  3.95537652e-02  1.21796273e-01  2.94333976e-02 -3.17524374e-02\n",
      "  3.54959629e-02 -7.93140009e-02  1.75878499e-02 -4.04369719e-02\n",
      "  4.97259013e-02  2.54912358e-02 -7.18700811e-02  8.14968571e-02\n",
      "  1.47071795e-03  4.79627065e-02 -4.50336374e-02 -9.92175341e-02\n",
      " -2.81769596e-02  6.45046309e-02  4.44670394e-02 -4.76217121e-02\n",
      " -3.52952704e-02  4.38671745e-02 -5.28566167e-02  4.33056121e-04\n",
      "  1.01921491e-01  1.64072365e-02  3.26996744e-02 -3.45986672e-02\n",
      "  1.21339224e-02  7.94870928e-02  4.58344305e-03  1.57778151e-02\n",
      " -9.68209282e-03  2.87625547e-02 -5.05805984e-02 -1.55793717e-02\n",
      " -2.87906677e-02 -9.62280110e-03  3.15556712e-02  2.27348469e-02\n",
      "  8.71449336e-02 -3.85027304e-02 -8.84718299e-02 -8.75501614e-03\n",
      " -2.12343130e-02  2.08923612e-02 -9.02077407e-02 -5.25731780e-02\n",
      " -1.05638774e-02  2.88310535e-02 -1.61455069e-02  6.17838791e-03\n",
      " -1.23234559e-02 -1.07337199e-02  2.83353571e-02 -5.28567918e-02\n",
      " -3.58617939e-02 -5.97989261e-02 -1.09055331e-02  2.91566215e-02\n",
      "  7.97979236e-02 -3.27887363e-04  6.83502434e-03  1.32718226e-02\n",
      " -4.24620360e-02  1.87656786e-02 -9.89234298e-02  2.09049582e-02\n",
      " -8.69605690e-02 -1.50151672e-02 -4.86201867e-02  8.04414451e-02\n",
      " -3.67700867e-03 -6.65044338e-02  1.14556767e-01 -3.04228589e-02\n",
      "  2.96631772e-02 -2.80695446e-02  4.64989841e-02 -2.25513950e-02\n",
      "  8.54223445e-02  3.15446481e-02  7.34541938e-02 -2.21862160e-02\n",
      " -5.29678725e-02  1.27130346e-02 -5.27339689e-02 -1.06188744e-01\n",
      "  7.04731643e-02  2.76736747e-02 -8.05531740e-02  2.39649639e-02\n",
      " -2.65125185e-02 -2.17330623e-02  4.35275584e-02  4.84712161e-02\n",
      " -2.37067603e-02  2.85768434e-02  1.11846149e-01 -6.34935945e-02\n",
      " -1.58318412e-02 -2.26169862e-02 -1.31027624e-02 -1.62068335e-03\n",
      " -3.60928960e-02 -9.78297517e-02 -4.67728972e-02  1.76271796e-02\n",
      " -3.97492163e-02 -1.76405243e-04  3.39627713e-02 -2.09633317e-02\n",
      "  6.33664429e-03 -2.59410962e-02  8.10410604e-02  6.14393540e-02\n",
      " -5.44592040e-03  6.48276061e-02 -1.16844088e-01  2.36860998e-02\n",
      " -1.32058430e-02 -1.12476498e-01  1.90049317e-02 -1.74660874e-34\n",
      "  5.58949634e-02  1.94244310e-02  4.65438738e-02  5.18645570e-02\n",
      "  3.89390551e-02  3.40541229e-02 -4.32114378e-02  7.90636986e-02\n",
      " -9.79529843e-02 -1.27441008e-02 -2.91870851e-02  1.02052214e-02\n",
      "  1.88115984e-02  1.08942538e-01  6.63464516e-02 -5.35295382e-02\n",
      " -3.29228528e-02  4.69827242e-02  2.28883065e-02  2.74114665e-02\n",
      " -2.91982908e-02  3.12706456e-02 -2.22850516e-02 -1.02282204e-01\n",
      " -2.79116500e-02  1.13793192e-02  9.06308740e-02 -4.75414544e-02\n",
      " -1.00718945e-01 -1.23231979e-02 -7.96928555e-02 -1.44636109e-02\n",
      " -7.76401013e-02 -7.66920485e-03  9.73955262e-03  2.24204883e-02\n",
      "  7.77268410e-02 -3.17154522e-03  2.11538319e-02 -3.30393910e-02\n",
      "  9.55248065e-03 -3.73011827e-02  2.61360630e-02 -9.79088899e-03\n",
      " -6.31505698e-02  5.77434851e-03 -3.80030870e-02  1.29684890e-02\n",
      " -1.82499513e-02 -1.56283118e-02 -1.23361358e-03  5.55579104e-02\n",
      "  1.13094145e-04 -5.61256446e-02  7.40165338e-02  1.84452366e-02\n",
      " -2.66368464e-02  1.31952111e-02  7.50086606e-02 -2.46796571e-02\n",
      " -3.24006006e-02 -1.57675017e-02 -8.03518202e-03 -5.61317476e-03\n",
      "  1.05687762e-02  3.26165534e-03 -3.91990170e-02 -9.38677192e-02\n",
      "  1.14227191e-01  6.57304525e-02 -4.72633876e-02  1.45087428e-02\n",
      " -3.54490243e-02 -3.37761790e-02 -5.15505783e-02 -3.81004857e-03\n",
      " -5.15036359e-02 -5.93429171e-02 -1.69412477e-03  7.42107406e-02\n",
      " -4.20091674e-02 -7.19974712e-02  3.17250155e-02 -1.66303236e-02\n",
      "  3.96983977e-03 -6.52750880e-02  2.77391039e-02 -7.51649216e-02\n",
      "  2.27455478e-02 -3.91368158e-02  1.54315801e-02 -5.54908738e-02\n",
      "  1.23318788e-02 -2.59520691e-02  6.66423663e-02 -6.91258866e-34\n",
      "  3.31628881e-02  8.47928748e-02 -6.65583834e-02  3.33541222e-02\n",
      "  4.71609924e-03  1.35361915e-02 -5.38694337e-02  9.20693949e-02\n",
      " -2.96876561e-02  3.16219851e-02 -2.37496961e-02  1.98771022e-02\n",
      "  1.03446200e-01 -9.06947255e-02  6.30624453e-03  1.42886313e-02\n",
      "  1.19294124e-02  6.43722992e-03  4.20104675e-02  1.25344815e-02\n",
      "  3.93019170e-02  5.35691828e-02 -4.30749990e-02  6.10432029e-02\n",
      " -5.39859029e-05  6.91682398e-02  1.05520058e-02  1.22112064e-02\n",
      " -7.23185018e-02  2.50469781e-02 -5.18371277e-02 -4.36562300e-02\n",
      " -6.71818703e-02  1.34828258e-02 -7.25888908e-02  7.04168761e-03\n",
      "  6.58939630e-02  1.08994441e-02 -2.60012550e-03  5.49968854e-02\n",
      "  5.06966710e-02  3.27948928e-02 -6.68832883e-02  6.45557567e-02\n",
      " -2.52075624e-02 -2.92572044e-02 -1.16696715e-01  3.24064642e-02\n",
      "  5.85858300e-02 -3.51756439e-02 -7.15240017e-02  2.24935766e-02\n",
      " -1.00786701e-01 -4.74545099e-02 -7.61963278e-02 -5.87166250e-02\n",
      "  4.21138555e-02 -7.47213662e-02  1.98467895e-02 -3.36502469e-03\n",
      " -5.29736616e-02  2.74729915e-02  3.45736891e-02 -6.11846298e-02\n",
      "  1.06364816e-01 -9.64119658e-02 -4.55944873e-02  1.51489666e-02\n",
      " -5.13523119e-03 -6.64447919e-02  4.31721732e-02 -1.10405665e-02\n",
      " -9.80250351e-03  7.53783062e-02 -1.49571253e-02 -4.80208434e-02\n",
      "  5.80726489e-02 -2.43896581e-02 -2.23137252e-02 -4.36992198e-02\n",
      "  5.12053929e-02 -3.28626186e-02  1.08763315e-01  6.08926378e-02\n",
      "  3.30790295e-03  5.53819798e-02  8.43201354e-02  1.27087599e-02\n",
      "  3.84465270e-02  6.52325526e-02 -2.94683911e-02  5.08005023e-02\n",
      " -2.09348053e-02  1.46135688e-01  2.25561187e-02 -1.77227761e-08\n",
      " -5.02672717e-02 -2.79230037e-04 -1.00328632e-01  2.42811199e-02\n",
      " -7.54043609e-02 -3.79139744e-02  3.96050029e-02  3.10079549e-02\n",
      " -9.05705709e-03 -6.50412142e-02  4.05453257e-02  4.83390056e-02\n",
      " -4.56962325e-02  4.76005394e-03  2.64361780e-03  9.35614258e-02\n",
      " -4.02599648e-02  3.27401869e-02  1.18298009e-02  5.54344840e-02\n",
      "  1.48052230e-01  7.21189082e-02  2.76958774e-04  1.68651473e-02\n",
      "  8.34883004e-03 -8.76153447e-03 -1.33649614e-02  6.14237338e-02\n",
      "  1.57168023e-02  6.94960877e-02  1.08621977e-02  6.08018301e-02\n",
      " -5.33421785e-02 -3.47923785e-02 -3.36271934e-02  6.93907067e-02\n",
      "  1.22987702e-02 -1.45237371e-01 -2.06968631e-03 -4.61132452e-02\n",
      "  3.72749683e-03 -5.59356296e-03 -1.00659840e-01 -4.45953235e-02\n",
      "  5.40921241e-02  4.98891110e-03  1.49534279e-02 -8.26059729e-02\n",
      "  6.26631156e-02 -5.01904357e-03 -4.81857508e-02 -3.53991278e-02\n",
      "  9.03387275e-03 -2.42338032e-02  5.66267259e-02  2.51529124e-02\n",
      " -1.70708857e-02 -1.24780312e-02  3.19518112e-02  1.38421264e-02\n",
      " -1.55814979e-02  1.00178242e-01  1.23657219e-01 -4.22966965e-02]\n",
      "\n",
      "Sentence: Sentences are passed as a list of string.\n",
      "Embedding: [ 5.64524420e-02  5.50023988e-02  3.13796401e-02  3.39485444e-02\n",
      " -3.54247279e-02  8.34667981e-02  9.88801271e-02  7.27544352e-03\n",
      " -6.68657571e-03 -7.65811093e-03  7.93738216e-02  7.39692361e-04\n",
      "  1.49292089e-02 -1.51046980e-02  3.67674343e-02  4.78743389e-02\n",
      " -4.81969304e-02 -3.76052149e-02 -4.60278466e-02 -8.89816359e-02\n",
      "  1.20228112e-01  1.30663246e-01 -3.73935699e-02  2.47858674e-03\n",
      "  2.55820854e-03  7.25814700e-02 -6.80436492e-02 -5.24696559e-02\n",
      "  4.90234047e-02  2.99562849e-02 -5.84429502e-02 -2.02263165e-02\n",
      "  2.08821986e-02  9.76691619e-02  3.52390334e-02  3.91140729e-02\n",
      "  1.05667831e-02  1.56232913e-03 -1.30823217e-02  8.52901209e-03\n",
      " -4.84095234e-03 -2.03766972e-02 -2.71801073e-02  2.83307433e-02\n",
      "  3.66017707e-02  2.51276139e-02 -9.90861654e-02  1.15626315e-02\n",
      " -3.60379927e-02 -7.23783746e-02 -1.12670109e-01  1.12941898e-02\n",
      " -3.86397392e-02  4.67385948e-02 -2.88460702e-02  2.26703733e-02\n",
      " -8.52404255e-03  3.32815275e-02 -1.06581184e-03 -7.09745735e-02\n",
      " -6.31169900e-02 -5.72186820e-02 -6.16026223e-02  5.47146611e-02\n",
      "  1.18317353e-02 -4.66261394e-02  2.56959908e-02 -7.07413303e-03\n",
      " -5.73843047e-02  4.12839577e-02 -5.91502935e-02  5.89022003e-02\n",
      " -4.41697352e-02  4.65081669e-02 -3.15814167e-02  5.58312535e-02\n",
      "  5.54578453e-02 -5.96533641e-02  4.06407118e-02  4.83768061e-03\n",
      " -4.96768281e-02 -1.00944385e-01  3.40078063e-02  4.13270108e-03\n",
      " -2.93526496e-03  2.11837571e-02 -3.73962037e-02 -2.79066954e-02\n",
      " -4.61767949e-02  5.26138246e-02 -2.79735159e-02 -1.62379235e-01\n",
      "  6.61042705e-02  1.72274094e-02 -5.45112463e-03  4.74473946e-02\n",
      " -3.82237211e-02 -3.96896675e-02  1.34544298e-02  4.49653752e-02\n",
      "  4.53674374e-03  2.82978863e-02  8.36632922e-02 -1.00858109e-02\n",
      " -1.19353965e-01 -3.84624489e-02  4.82858643e-02 -9.46084112e-02\n",
      "  1.91854183e-02 -9.96518582e-02 -6.30596355e-02  3.02696042e-02\n",
      "  1.17402589e-02 -4.78372425e-02 -6.20264933e-03 -3.32850665e-02\n",
      " -4.04386083e-03  1.28307082e-02  4.05254066e-02  7.56476969e-02\n",
      "  2.92434804e-02  2.84270346e-02 -2.78939065e-02  1.66857783e-02\n",
      " -2.47961804e-02 -6.83650747e-02  2.89968606e-02 -5.39867748e-33\n",
      " -2.69013294e-03 -2.65069026e-02 -6.47948647e-04 -8.46193172e-03\n",
      " -7.35154673e-02  4.94082458e-03 -5.97842187e-02  1.03438320e-02\n",
      "  2.12904811e-03 -2.88219610e-03 -3.17076296e-02 -9.42364410e-02\n",
      "  3.03019900e-02  7.00226352e-02  4.50685620e-02  3.69439498e-02\n",
      "  1.13593405e-02  3.53026800e-02  5.50447498e-03  1.34414074e-03\n",
      "  3.46121122e-03  7.75047243e-02  5.45112416e-02 -7.92055950e-02\n",
      " -9.31697264e-02 -4.03398536e-02  3.10668554e-02 -3.83081175e-02\n",
      " -5.89443184e-02  1.93331875e-02 -2.67160032e-02 -7.91937858e-02\n",
      "  1.04174127e-04  7.70621300e-02  4.16603349e-02  8.90932232e-02\n",
      "  3.56843248e-02 -1.09153390e-02  3.71498279e-02 -2.07070243e-02\n",
      " -2.46100929e-02 -2.05025058e-02  2.62201093e-02  3.43590677e-02\n",
      "  4.39251401e-02 -8.20516981e-03 -8.40709955e-02  4.24170494e-02\n",
      "  4.87498529e-02  5.95384985e-02  2.87747514e-02  3.37638445e-02\n",
      " -4.07443158e-02 -1.66371453e-03  7.91927278e-02  3.41088399e-02\n",
      " -5.72816352e-04  1.87749434e-02 -1.36963697e-02  7.38332942e-02\n",
      "  5.74499078e-04  8.33505392e-02  5.60810827e-02 -1.13710724e-02\n",
      "  4.42611389e-02  2.69581955e-02 -4.80535664e-02 -3.15087289e-02\n",
      "  7.75226131e-02  1.81773100e-02 -8.83005112e-02 -7.85519369e-03\n",
      " -6.22243024e-02  7.19373003e-02 -2.33475231e-02  6.52481336e-03\n",
      " -9.49526578e-03 -9.88313407e-02  4.01306376e-02  3.07397060e-02\n",
      " -2.21606903e-02 -9.45911556e-02  1.02368016e-02  1.02187775e-01\n",
      " -4.12960164e-02 -3.15777883e-02  4.74752299e-02 -1.10209785e-01\n",
      "  1.69614572e-02 -3.71709019e-02 -1.03261834e-02 -4.72537987e-02\n",
      " -1.20213917e-02 -1.93255227e-02  5.79292476e-02  4.23865355e-34\n",
      "  3.92013304e-02  8.41361731e-02 -1.02946706e-01  6.92259744e-02\n",
      "  1.68821570e-02 -3.26760747e-02  9.65959392e-03  1.80899650e-02\n",
      "  2.17939634e-02  1.63189340e-02 -9.69292074e-02  3.74850957e-03\n",
      " -2.38456614e-02 -3.44055854e-02  7.11962953e-02  9.21920699e-04\n",
      " -6.23856205e-03  3.23754326e-02 -8.90400202e-04  5.01901517e-03\n",
      " -4.24538068e-02  9.89083797e-02 -4.60321195e-02  4.69705202e-02\n",
      " -1.75284613e-02 -7.02516083e-03  1.32743577e-02 -5.30152209e-02\n",
      "  2.66405870e-03  1.45819029e-02  7.43343867e-03 -3.07131503e-02\n",
      " -2.09416170e-02  8.24110508e-02 -5.15893809e-02 -2.71178409e-02\n",
      "  1.17582999e-01  7.72507396e-03 -1.89523194e-02  3.94559279e-02\n",
      "  7.17360377e-02  2.59116720e-02  2.75191665e-02  9.50540788e-03\n",
      " -3.02355643e-02 -4.07945029e-02 -1.04028478e-01 -7.97421578e-03\n",
      " -3.64455814e-03  3.29716802e-02 -2.35954560e-02 -7.50512909e-03\n",
      " -5.82234524e-02 -3.17906365e-02 -4.18049395e-02  2.17453595e-02\n",
      " -6.67292029e-02 -4.89104241e-02  4.58516134e-03 -2.66045965e-02\n",
      " -1.12597041e-01  5.11167906e-02  5.48534356e-02 -6.69856817e-02\n",
      "  1.26766324e-01 -8.59487727e-02 -5.94231784e-02 -2.92185089e-03\n",
      " -1.14875669e-02 -1.26025766e-01 -3.48278694e-03 -9.12001804e-02\n",
      " -1.22933045e-01  1.33777279e-02 -4.75774668e-02 -6.57933578e-02\n",
      " -3.39410119e-02 -3.07107270e-02 -5.22034168e-02 -2.35463977e-02\n",
      "  5.90034723e-02 -3.85757722e-02  3.19701135e-02  4.05118093e-02\n",
      "  1.67077873e-02 -3.58280912e-02  1.45688038e-02  3.20137739e-02\n",
      " -1.34843681e-02  6.07819818e-02 -8.31401348e-03 -1.08105903e-02\n",
      "  4.69410755e-02  7.66134039e-02 -4.23400216e-02 -2.11963318e-08\n",
      " -7.25292712e-02 -4.20227833e-02 -6.12374581e-02  5.24666980e-02\n",
      " -1.42363720e-02  1.18487170e-02 -1.40789226e-02 -3.67530026e-02\n",
      " -4.44977619e-02 -1.15140071e-02  5.23316599e-02  2.96651889e-02\n",
      " -4.62780036e-02 -3.70892212e-02  1.89130064e-02  2.04306804e-02\n",
      " -2.24006176e-02 -1.48562780e-02 -1.79504324e-02  4.20007631e-02\n",
      "  1.40942819e-02 -2.83492599e-02 -1.16863027e-01  1.48956589e-02\n",
      " -7.30579311e-04  5.66028170e-02 -2.68740524e-02  1.09106638e-01\n",
      "  2.94564385e-03  1.19267933e-01  1.14212446e-01  8.92973393e-02\n",
      " -1.70255713e-02 -4.99054007e-02 -2.11930759e-02  3.18421274e-02\n",
      "  7.03436434e-02 -1.02929436e-01  8.23816881e-02  2.81968080e-02\n",
      "  3.21146250e-02  3.79108153e-02 -1.09553084e-01  8.19620490e-02\n",
      "  8.73216614e-02 -5.73563799e-02 -2.01708954e-02 -5.69444597e-02\n",
      " -1.30338306e-02 -5.55684157e-02 -1.32965939e-02  8.64009373e-03\n",
      "  5.30012771e-02 -4.06847335e-02  2.71709394e-02 -2.55949097e-03\n",
      "  3.05775888e-02 -4.61865328e-02  4.68032155e-03 -3.64946872e-02\n",
      "  6.80802688e-02  6.65087327e-02  8.49151909e-02 -3.32849063e-02]\n",
      "\n",
      "Sentence: The quick brown fox jumps over the lazy dog.\n",
      "Embedding: [ 4.39335406e-02  5.89344278e-02  4.81783599e-02  7.75481239e-02\n",
      "  2.67443750e-02 -3.76295745e-02 -2.60511250e-03 -5.99430278e-02\n",
      " -2.49600341e-03  2.20727958e-02  4.80259471e-02  5.57553098e-02\n",
      " -3.89454104e-02 -2.66167969e-02  7.69338431e-03 -2.62376741e-02\n",
      " -3.64160612e-02 -3.78161296e-02  7.40781501e-02 -4.95050289e-02\n",
      " -5.85217476e-02 -6.36196584e-02  3.24349962e-02  2.20085680e-02\n",
      " -7.10637197e-02 -3.31577882e-02 -6.94104135e-02 -5.00373915e-02\n",
      "  7.46267810e-02 -1.11133851e-01 -1.23063186e-02  3.77456769e-02\n",
      " -2.80313194e-02  1.45353703e-02 -3.15585807e-02 -8.05835873e-02\n",
      "  5.83525561e-02  2.59003253e-03  3.92802395e-02  2.57695634e-02\n",
      "  4.98505868e-02 -1.75623572e-03 -4.55297790e-02  2.92607881e-02\n",
      " -1.02017283e-01  5.22287749e-02 -7.90899545e-02 -1.02857202e-02\n",
      "  9.20247287e-03  1.30732451e-02 -4.04777974e-02 -2.77925208e-02\n",
      "  1.24667501e-02  6.72832951e-02  6.81248233e-02 -7.57116824e-03\n",
      " -6.09937916e-03 -4.23776880e-02  5.17815910e-02 -1.56707298e-02\n",
      "  9.56362486e-03  4.12390605e-02  2.14959104e-02  1.04293609e-02\n",
      "  2.73349825e-02  1.87062416e-02 -2.69607492e-02 -7.00542182e-02\n",
      " -1.04700528e-01 -1.89873879e-03  1.77016426e-02 -5.74725345e-02\n",
      " -1.44223133e-02  4.70502855e-04  2.33227573e-03 -2.51920465e-02\n",
      "  4.93004359e-02 -5.09609915e-02  6.31983057e-02  1.49164805e-02\n",
      " -2.70766467e-02 -4.52875979e-02 -4.90594804e-02  3.74940261e-02\n",
      "  3.84579934e-02  1.56905886e-03  3.09922490e-02  2.01630313e-02\n",
      " -1.24363611e-02 -3.06720007e-02 -2.78819017e-02 -6.89182505e-02\n",
      " -5.13677113e-02  2.14795750e-02  1.15747023e-02  1.25413982e-03\n",
      "  1.88765414e-02 -4.42319103e-02 -4.49817404e-02 -3.41870706e-03\n",
      "  1.31131103e-02  2.00099442e-02  1.21099778e-01  2.31074914e-02\n",
      " -2.20159683e-02 -3.28847021e-02 -3.15514230e-03  1.17842232e-04\n",
      "  9.91498306e-02  1.65239461e-02 -4.69672261e-03 -1.45366890e-02\n",
      " -3.71075561e-03  9.65136290e-02  2.85907798e-02  2.13482045e-02\n",
      " -7.17645437e-02 -2.41142325e-02 -4.40940894e-02 -1.07346885e-01\n",
      "  6.79945797e-02  1.30466774e-01 -7.97030032e-02  6.79507013e-03\n",
      " -2.37511862e-02 -4.61636558e-02 -2.99650785e-02 -3.69410010e-33\n",
      "  7.30969980e-02 -2.20171269e-02 -8.61464366e-02 -7.14379400e-02\n",
      " -6.36742041e-02 -7.21863434e-02 -5.93046006e-03 -2.33641099e-02\n",
      " -2.83658151e-02  4.77434844e-02 -8.06176737e-02 -1.56476686e-03\n",
      "  1.38443531e-02 -2.86235847e-02 -3.35386433e-02 -1.13777556e-01\n",
      " -9.17632226e-03 -1.08101266e-02  3.23195904e-02  5.88380583e-02\n",
      "  3.34208794e-02  1.07987963e-01 -3.72713134e-02 -2.96770670e-02\n",
      "  5.17190397e-02 -2.25338824e-02 -6.96090907e-02 -2.14475244e-02\n",
      " -2.33410932e-02  4.82199453e-02 -3.58766578e-02 -4.68991175e-02\n",
      " -3.97873558e-02  1.10813200e-01 -1.43006649e-02 -1.18464515e-01\n",
      "  5.82914948e-02 -6.25889078e-02 -2.94040814e-02  6.03238568e-02\n",
      " -2.44415924e-03  1.60116069e-02  2.67233625e-02  2.49530226e-02\n",
      " -6.49318919e-02 -1.06802098e-02  2.81465184e-02  1.03563434e-02\n",
      " -6.63615239e-04  1.98186599e-02 -3.04288361e-02  6.28422061e-03\n",
      "  5.15268296e-02 -4.75375019e-02 -6.44420981e-02  9.55031589e-02\n",
      "  7.55858198e-02 -2.81574503e-02 -3.49965915e-02  1.01816416e-01\n",
      "  1.98732521e-02 -3.68036963e-02  2.93525774e-03 -5.00745177e-02\n",
      "  1.50932148e-01 -6.16079271e-02 -8.58812928e-02  7.13993236e-03\n",
      " -1.33065619e-02  7.80405104e-02  1.75250620e-02  4.21279185e-02\n",
      "  3.57939713e-02 -1.32950440e-01  3.56970541e-02 -2.03116983e-02\n",
      "  1.24909775e-02 -3.80355790e-02  4.91543412e-02 -1.56540927e-02\n",
      "  1.21418245e-01 -8.08644742e-02 -4.68781926e-02  4.10843231e-02\n",
      " -1.84317883e-02  6.69690743e-02  4.33594408e-03  2.27315202e-02\n",
      " -1.36428839e-02 -4.53238375e-02 -3.92829739e-02 -6.29887544e-03\n",
      "  5.29610254e-02 -3.69064361e-02  7.11677149e-02  2.33343214e-33\n",
      "  1.05231367e-01 -4.81874794e-02  6.95918947e-02  6.56976253e-02\n",
      " -4.65148650e-02  5.14492802e-02 -1.24475174e-02  3.20871994e-02\n",
      " -9.23356637e-02  5.00933081e-02 -3.28876041e-02  1.39139099e-02\n",
      " -8.70231190e-04 -4.90906043e-03  1.03946410e-01  3.21613450e-04\n",
      "  5.28110377e-02 -1.17990486e-02  2.31565777e-02  1.31768165e-02\n",
      " -5.25962412e-02  3.26702558e-02  3.08645394e-04  6.41129017e-02\n",
      "  3.88500728e-02  5.88008203e-02  8.29793438e-02 -1.88149642e-02\n",
      " -2.26377472e-02 -1.00473627e-01 -3.83752920e-02 -5.88081665e-02\n",
      "  1.82417850e-03 -4.26995270e-02  2.50195283e-02  6.40060082e-02\n",
      " -3.77482884e-02 -6.83901925e-03 -2.54608574e-03 -9.76043120e-02\n",
      "  1.88475680e-02 -8.83160799e-04  1.73611585e-02  7.10790455e-02\n",
      "  3.30393128e-02  6.93422090e-03 -5.60523197e-02  5.14634773e-02\n",
      " -4.29542139e-02  4.60077673e-02 -8.78831837e-03  3.17289121e-02\n",
      "  4.93965596e-02  2.95189936e-02 -5.05193099e-02 -5.43187261e-02\n",
      "  1.49975051e-04 -2.76614837e-02  3.46878693e-02 -2.10890137e-02\n",
      "  1.38059901e-02  2.99886521e-02  1.39744030e-02 -4.26469697e-03\n",
      " -1.50337322e-02 -8.76095593e-02 -6.85054287e-02 -4.28141207e-02\n",
      "  7.76945055e-02 -7.10285380e-02 -7.37685664e-03  2.13726982e-02\n",
      "  1.35562224e-02 -7.90464655e-02  5.47665078e-03  8.30663294e-02\n",
      "  1.14147983e-01  1.80760794e-03  8.75491127e-02 -4.16045114e-02\n",
      "  1.55416308e-02 -1.01206312e-02 -7.32435333e-03  1.07966578e-02\n",
      " -6.62816986e-02  3.98414023e-02 -1.16711564e-01  6.42993674e-02\n",
      "  4.02920134e-02 -6.54741451e-02  1.95052642e-02  8.09995532e-02\n",
      "  5.36464229e-02  7.67969713e-02 -1.34852370e-02 -1.76919048e-08\n",
      " -4.43935506e-02  9.20643657e-03 -8.79590213e-02  4.26921435e-02\n",
      "  7.31364712e-02  1.68427303e-02 -4.03263047e-02  1.85131859e-02\n",
      "  8.44172984e-02 -3.74476872e-02  3.02996207e-02  2.90642213e-02\n",
      "  6.36878982e-02  2.89750211e-02 -1.47269825e-02  1.77543238e-02\n",
      " -3.36895399e-02  1.73160918e-02  3.37875299e-02  1.76826090e-01\n",
      " -1.75532978e-02 -6.03077933e-02 -1.43395076e-02 -2.38536317e-02\n",
      " -4.45530973e-02 -2.89850365e-02 -8.96776468e-02 -1.75941200e-03\n",
      " -2.61486061e-02  5.94001217e-03 -5.18355481e-02  8.57279599e-02\n",
      " -8.18398818e-02  8.35437980e-03  4.00789864e-02  4.17764485e-02\n",
      "  1.04573525e-01 -2.86564813e-03  1.96690932e-02  5.81047731e-03\n",
      "  1.33253206e-02  4.51001301e-02 -2.17588618e-02 -1.39493393e-02\n",
      " -6.86992630e-02 -2.94117862e-03 -3.10765002e-02 -1.05854422e-01\n",
      "  6.91624209e-02 -4.24114987e-02 -4.67682220e-02 -3.64750624e-02\n",
      "  4.50399667e-02  6.09816760e-02 -6.56561255e-02 -5.45643969e-03\n",
      " -1.86226945e-02 -6.31484836e-02 -3.87436599e-02  3.46733630e-02\n",
      "  5.55458479e-02  5.21628037e-02  5.61065488e-02  1.02063894e-01]\n",
      "\n"
     ]
    }
   ],
   "source": [
    "from sentence_transformers import SentenceTransformer\n",
    "model = SentenceTransformer('all-MiniLM-L6-v2')\n",
    "\n",
    "#Our sentences we like to encode\n",
    "sentences = ['This framework generates embeddings for each input sentence',\n",
    "    'Sentences are passed as a list of string.',\n",
    "    'The quick brown fox jumps over the lazy dog.']\n",
    "\n",
    "#Sentences are encoded by calling model.encode()\n",
    "embeddings = model.encode(sentences)\n",
    "\n",
    "#Print the embeddings\n",
    "for sentence, embedding in zip(sentences, embeddings):\n",
    "    print(\"Sentence:\", sentence)\n",
    "    print(\"Embedding:\", embedding)\n",
    "    print(\"\")"
   ]
  }
 ],
 "metadata": {
  "kernelspec": {
   "display_name": "QCML",
   "language": "python",
   "name": "python3"
  },
  "language_info": {
   "codemirror_mode": {
    "name": "ipython",
    "version": 3
   },
   "file_extension": ".py",
   "mimetype": "text/x-python",
   "name": "python",
   "nbconvert_exporter": "python",
   "pygments_lexer": "ipython3",
   "version": "3.9.16"
  }
 },
 "nbformat": 4,
 "nbformat_minor": 2
}
