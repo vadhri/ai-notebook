{
  "nbformat": 4,
  "nbformat_minor": 0,
  "metadata": {
    "colab": {
      "provenance": [],
      "gpuType": "T4",
      "authorship_tag": "ABX9TyP67mM6BAgaUJ/XWy+TCwqg",
      "include_colab_link": true
    },
    "kernelspec": {
      "name": "python3",
      "display_name": "Python 3"
    },
    "language_info": {
      "name": "python"
    },
    "accelerator": "GPU"
  },
  "cells": [
    {
      "cell_type": "markdown",
      "metadata": {
        "id": "view-in-github",
        "colab_type": "text"
      },
      "source": [
        "<a href=\"https://colab.research.google.com/github/vadhri/ai-notebook/blob/main/images/color_classification.ipynb\" target=\"_parent\"><img src=\"https://colab.research.google.com/assets/colab-badge.svg\" alt=\"Open In Colab\"/></a>"
      ]
    },
    {
      "cell_type": "markdown",
      "source": [
        "The following file represents a simple NN that will do color classification and test model on a real image to see how it responds.\n",
        "\n"
      ],
      "metadata": {
        "id": "USjAq7QqbXel"
      }
    },
    {
      "cell_type": "code",
      "source": [
        "import torch\n",
        "device = \"cuda\" if torch.cuda.is_available() else \"cpu\""
      ],
      "metadata": {
        "id": "dCDbf5Fubi3P"
      },
      "execution_count": null,
      "outputs": []
    },
    {
      "cell_type": "markdown",
      "source": [
        "Utils\n"
      ],
      "metadata": {
        "id": "q-OIiFuBQiPG"
      }
    },
    {
      "cell_type": "code",
      "source": [
        "import numpy as np\n",
        "import colorsys\n",
        "\n",
        "def rgb_to_hsv(rgb):\n",
        "    return colorsys.rgb_to_hsv(*(x / 255.0 for x in rgb))\n",
        "\n",
        "def hsv_to_rgb(hsv):\n",
        "    return [int(x * 255) for x in colorsys.hsv_to_rgb(*hsv)]\n",
        "\n",
        "def enhance_color(rgb, brightness=1.2, saturation=1.0):\n",
        "    h, s, v = rgb_to_hsv(rgb)\n",
        "    s = min(s * saturation, 1.0)\n",
        "    v = min(v * brightness, 1.0)\n",
        "    return hsv_to_rgb((h, s, v))\n"
      ],
      "metadata": {
        "id": "Tm4yk8RUq5rH"
      },
      "execution_count": null,
      "outputs": []
    },
    {
      "cell_type": "markdown",
      "source": [
        "The create_color_dataset function generates a synthetic dataset of solid-color images, each filled with a specific RGB color at a given intensity and resolution."
      ],
      "metadata": {
        "id": "PvIe5OMiQu_u"
      }
    },
    {
      "cell_type": "code",
      "source": [
        "import numpy as np\n",
        "from PIL import Image\n",
        "import torch\n",
        "\n",
        "def create_color_dataset(num_colors=10, image_size=(64, 64), intensity=1.2, device='cpu'):\n",
        "    color_map = {\n",
        "        'red':      [255, 0, 0],\n",
        "        'green':    [0, 255, 0],\n",
        "        'blue':     [0, 0, 255],\n",
        "        'yellow':   [255, 255, 0],\n",
        "        'cyan':     [0, 255, 255],\n",
        "        'magenta':  [255, 0, 255],\n",
        "        'black':    [0, 0, 0],\n",
        "        'white':    [255, 255, 255],\n",
        "        'gray':     [128, 128, 128],\n",
        "        'orange':   [255, 165, 0],\n",
        "    }\n",
        "\n",
        "    def scale_rgb(rgb):\n",
        "        return np.clip(np.array(rgb) * intensity, 0, 255).astype(np.float32)\n",
        "\n",
        "    intensity = 1.2\n",
        "\n",
        "    solid_color_arrays = {\n",
        "        color: (\n",
        "            np.full((*image_size, 3), enhance_color(rgb, brightness=intensity), dtype=np.float32)\n",
        "            if device == 'cpu' else\n",
        "            torch.tensor(np.full((*image_size, 3), enhance_color(rgb, brightness=intensity), dtype=np.float32)).to(device)\n",
        "        )\n",
        "        for color, rgb in color_map.items()\n",
        "    }\n",
        "\n",
        "\n",
        "    return solid_color_arrays\n",
        "\n",
        "color_dataset = create_color_dataset(intensity=5, device=device)"
      ],
      "metadata": {
        "id": "7JrKK_diZ4PP"
      },
      "execution_count": null,
      "outputs": []
    },
    {
      "cell_type": "code",
      "source": [
        "import matplotlib.pyplot as plt\n",
        "\n",
        "fig, axes = plt.subplots(nrows=2, ncols=5, figsize=(4, 4))\n",
        "axes = axes.flatten()  # Convert the 2D array of axes to a 1D array\n",
        "\n",
        "for i, (color_name, color_array) in enumerate(color_dataset.items()):\n",
        "    if i < len(axes):\n",
        "      # Handle potential device issues (GPU tensors)\n",
        "      if isinstance(color_array, torch.Tensor):\n",
        "          color_array = color_array.cpu().numpy()\n",
        "\n",
        "      axes[i].imshow(color_array.astype(np.uint8)) # Display as an image\n",
        "      axes[i].set_title(color_name)\n",
        "      axes[i].axis('off') # Hide axis ticks and labels\n",
        "\n",
        "\n",
        "plt.tight_layout() # Adjust layout for better spacing\n",
        "plt.show()\n"
      ],
      "metadata": {
        "colab": {
          "base_uri": "https://localhost:8080/",
          "height": 281
        },
        "id": "Yr-gLmkY9wnf",
        "outputId": "254960bf-9451-4e70-a01f-5e1ee6ac5cf4"
      },
      "execution_count": null,
      "outputs": [
        {
          "output_type": "display_data",
          "data": {
            "text/plain": [
              "<Figure size 400x400 with 10 Axes>"
            ],
            "image/png": "[encoded data removed]"
          },
          "metadata": {}
        }
      ]
    },
    {
      "cell_type": "code",
      "source": [
        "import torch\n",
        "import torch.nn as nn\n",
        "import torch.optim as optim\n",
        "from torch.utils.data import DataLoader, TensorDataset\n",
        "\n",
        "X = []\n",
        "y = []\n",
        "color_to_index = {color: i for i, color in enumerate(color_dataset)}\n",
        "\n",
        "for color_name, color_array in color_dataset.items():\n",
        "    if isinstance(color_array, torch.Tensor):\n",
        "      color_array = color_array.cpu().numpy()\n",
        "    X.append(color_array.reshape(1, -1))\n",
        "    y.append(color_to_index[color_name])\n",
        "\n",
        "X = np.concatenate(X)\n",
        "y = np.array(y)\n",
        "\n",
        "# Convert to PyTorch tensors\n",
        "X = torch.tensor(X, dtype=torch.float32).to(device)\n",
        "y = torch.tensor(y, dtype=torch.long).to(device)\n",
        "\n",
        "# Create a dataset and dataloader\n",
        "dataset = TensorDataset(X, y)\n",
        "dataloader = DataLoader(dataset, batch_size=1, shuffle=True)\n",
        "\n",
        "# Define the neural network\n",
        "class ColorClassifier(nn.Module):\n",
        "    def __init__(self, input_size, hidden_size, output_size):\n",
        "        super(ColorClassifier, self).__init__()\n",
        "        self.fc1 = nn.Linear(input_size, hidden_size)\n",
        "        self.relu = nn.ReLU()\n",
        "        self.fc2 = nn.Linear(hidden_size, output_size)\n",
        "\n",
        "    def forward(self, x):\n",
        "        x = self.fc1(x)\n",
        "        x = self.relu(x)\n",
        "        x = self.fc2(x)\n",
        "        return x\n",
        "\n",
        "\n",
        "# Initialize the model, loss function, and optimizer\n",
        "input_size = 64 * 64 * 3\n",
        "hidden_size = 128\n",
        "output_size = len(color_dataset)  # Number of colors\n",
        "model = ColorClassifier(input_size, hidden_size, output_size).to(device)\n",
        "criterion = nn.CrossEntropyLoss()\n",
        "optimizer = optim.Adam(model.parameters(), lr=0.001)\n",
        "\n",
        "# Train the model\n",
        "num_epochs = 10  # Adjust the number of epochs\n",
        "for epoch in range(num_epochs):\n",
        "    for inputs, labels in dataloader:\n",
        "        optimizer.zero_grad()\n",
        "        outputs = model(inputs)\n",
        "        loss = criterion(outputs, labels)\n",
        "        loss.backward()\n",
        "        optimizer.step()\n",
        "    if epoch % 100 == 0:\n",
        "      print(f'Epoch [{epoch+1}/{num_epochs}], Loss: {loss.item():.4f}')\n",
        "\n",
        "print(\"Training finished.\")\n"
      ],
      "metadata": {
        "colab": {
          "base_uri": "https://localhost:8080/"
        },
        "id": "REEnkjYSce2W",
        "outputId": "f17eebe2-b11b-4034-d35b-ab8734cef407"
      },
      "execution_count": null,
      "outputs": [
        {
          "output_type": "stream",
          "name": "stdout",
          "text": [
            "Epoch [1/500], Loss: 0.0000\n",
            "Epoch [101/500], Loss: 0.0883\n",
            "Epoch [201/500], Loss: 3.7468\n",
            "Epoch [301/500], Loss: 0.8166\n",
            "Epoch [401/500], Loss: 0.0000\n",
            "Training finished.\n"
          ]
        }
      ]
    },
    {
      "cell_type": "code",
      "source": [
        "!wget https://raw.githubusercontent.com/andandandand/image-dataset-curation/refs/heads/main/images/red_apple_2.png -O red_app\n",
        "!wget https://raw.githubusercontent.com/andandandand/image-dataset-curation/refs/heads/main/images/green_apple_2.png -O green_apple_2.png\n",
        "!wget https://upload.wikimedia.org/wikipedia/commons/thumb/2/23/Champ_de_bl%C3%A9_C%C3%B4te-d%27Or_Bourgogne_avril_2014.jpg/960px-Champ_de_bl%C3%A9_C%C3%B4te-d%27Or_Bourgogne_avril_2014.jpg -O green.jpg"
      ],
      "metadata": {
        "colab": {
          "base_uri": "https://localhost:8080/"
        },
        "id": "NTlPkaQud_PG",
        "outputId": "512b14c2-4841-438b-8e02-4626357a324c"
      },
      "execution_count": null,
      "outputs": [
        {
          "output_type": "stream",
          "name": "stdout",
          "text": [
            "--2025-05-08 09:11:52--  https://raw.githubusercontent.com/andandandand/image-dataset-curation/refs/heads/main/images/red_apple_2.png\n",
            "Resolving raw.githubusercontent.com (raw.githubusercontent.com)... 185.199.108.133, 185.199.109.133, 185.199.110.133, ...\n",
            "Connecting to raw.githubusercontent.com (raw.githubusercontent.com)|185.199.108.133|:443... connected.\n",
            "HTTP request sent, awaiting response... 200 OK\n",
            "Length: 770325 (752K) [image/png]\n",
            "Saving to: ‘red_app’\n",
            "\n",
            "red_app             100%[===================>] 752.27K  --.-KB/s    in 0.02s   \n",
            "\n",
            "2025-05-08 09:11:52 (34.2 MB/s) - ‘red_app’ saved [770325/770325]\n",
            "\n",
            "--2025-05-08 09:11:52--  https://raw.githubusercontent.com/andandandand/image-dataset-curation/refs/heads/main/images/green_apple_2.png\n",
            "Resolving raw.githubusercontent.com (raw.githubusercontent.com)... 185.199.108.133, 185.199.109.133, 185.199.110.133, ...\n",
            "Connecting to raw.githubusercontent.com (raw.githubusercontent.com)|185.199.108.133|:443... connected.\n",
            "HTTP request sent, awaiting response... 200 OK\n",
            "Length: 880105 (859K) [image/png]\n",
            "Saving to: ‘green_apple_2.png’\n",
            "\n",
            "green_apple_2.png   100%[===================>] 859.48K  --.-KB/s    in 0.02s   \n",
            "\n",
            "2025-05-08 09:11:52 (39.1 MB/s) - ‘green_apple_2.png’ saved [880105/880105]\n",
            "\n",
            "--2025-05-08 09:11:52--  https://upload.wikimedia.org/wikipedia/commons/thumb/2/23/Champ_de_bl%C3%A9_C%C3%B4te-d%27Or_Bourgogne_avril_2014.jpg/960px-Champ_de_bl%C3%A9_C%C3%B4te-d%27Or_Bourgogne_avril_2014.jpg\n",
            "Resolving upload.wikimedia.org (upload.wikimedia.org)... 185.15.59.240, 2a02:ec80:300:ed1a::2:b\n",
            "Connecting to upload.wikimedia.org (upload.wikimedia.org)|185.15.59.240|:443... connected.\n",
            "HTTP request sent, awaiting response... 200 OK\n",
            "Length: 210094 (205K) [image/jpeg]\n",
            "Saving to: ‘green.jpg’\n",
            "\n",
            "green.jpg           100%[===================>] 205.17K  --.-KB/s    in 0.02s   \n",
            "\n",
            "2025-05-08 09:11:52 (13.2 MB/s) - ‘green.jpg’ saved [210094/210094]\n",
            "\n"
          ]
        }
      ]
    },
    {
      "cell_type": "code",
      "source": [
        "from PIL import Image\n",
        "import matplotlib.pyplot as plt\n",
        "\n",
        "# Load the image\n",
        "try:\n",
        "  img = Image.open('red_apple_2.png')\n",
        "except FileNotFoundError:\n",
        "  print(\"Error: 'red_apple_2.png' not found. Please ensure the file exists.\")\n",
        "  exit()\n",
        "\n",
        "# Resize the image\n",
        "img = img.resize((64, 64))\n",
        "\n",
        "# Ensure the image has 3 channels (RGB)\n",
        "if img.mode != 'RGB':\n",
        "    img = img.convert('RGB')\n",
        "\n",
        "# Display the image\n",
        "plt.imshow(img)\n",
        "plt.axis('off')  # Hide axes\n",
        "plt.show()\n"
      ],
      "metadata": {
        "colab": {
          "base_uri": "https://localhost:8080/",
          "height": 406
        },
        "id": "k--YCUxKCIgI",
        "outputId": "fc92b7bd-dc01-4fdb-b055-6cf6086ff6c1"
      },
      "execution_count": null,
      "outputs": [
        {
          "output_type": "display_data",
          "data": {
            "text/plain": [
              "<Figure size 640x480 with 1 Axes>"
            ],
            "image/png": "[encoded data removed]"
          },
          "metadata": {}
        }
      ]
    },
    {
      "cell_type": "code",
      "source": [
        "img_tensor = torch.tensor(np.array(img), dtype=torch.float32).reshape(1, -1).to(device)\n",
        "logits = model(img_tensor)\n",
        "np.argmax(logits.detach().cpu().numpy())"
      ],
      "metadata": {
        "colab": {
          "base_uri": "https://localhost:8080/"
        },
        "id": "G16jyj-XBF9O",
        "outputId": "1917eaf6-5f25-43de-d5fc-fa12d1bdd336"
      },
      "execution_count": null,
      "outputs": [
        {
          "output_type": "execute_result",
          "data": {
            "text/plain": [
              "np.int64(0)"
            ]
          },
          "metadata": {},
          "execution_count": 52
        }
      ]
    },
    {
      "cell_type": "code",
      "source": [],
      "metadata": {
        "id": "bPiGLIyvBOVG"
      },
      "execution_count": null,
      "outputs": []
    },
    {
      "cell_type": "code",
      "source": [
        "from PIL import Image\n",
        "import matplotlib.pyplot as plt\n",
        "\n",
        "# Load the image\n",
        "try:\n",
        "  img = Image.open('green_apple_2.png')\n",
        "except FileNotFoundError:\n",
        "  print(\"Error: 'green_apple_1.png' not found. Please ensure the file exists.\")\n",
        "  exit()\n",
        "\n",
        "# Resize the image\n",
        "img = img.resize((64, 64))\n",
        "\n",
        "# Ensure the image has 3 channels (RGB)\n",
        "if img.mode != 'RGB':\n",
        "    img = img.convert('RGB')\n",
        "\n",
        "# Display the image\n",
        "plt.imshow(img)\n",
        "plt.axis('off')  # Hide axes\n",
        "plt.show()\n"
      ],
      "metadata": {
        "colab": {
          "base_uri": "https://localhost:8080/",
          "height": 406
        },
        "id": "oPhFdx7OJLVW",
        "outputId": "7b9f244b-aa7b-4dd3-f01a-f2f3ce0548d7"
      },
      "execution_count": null,
      "outputs": [
        {
          "output_type": "display_data",
          "data": {
            "text/plain": [
              "<Figure size 640x480 with 1 Axes>"
            ],
            "image/png": "[encoded data removed]"
          },
          "metadata": {}
        }
      ]
    },
    {
      "cell_type": "code",
      "source": [
        "img_tensor = torch.tensor(np.array(img), dtype=torch.float32).reshape(1, -1).to(device)\n",
        "logits = model(img_tensor)\n",
        "np.argmax(logits.detach().cpu().numpy())"
      ],
      "metadata": {
        "colab": {
          "base_uri": "https://localhost:8080/"
        },
        "id": "uhZ5o8HrJLp-",
        "outputId": "307a6c86-5813-4469-f143-d6272e858b66"
      },
      "execution_count": null,
      "outputs": [
        {
          "output_type": "execute_result",
          "data": {
            "text/plain": [
              "np.int64(4)"
            ]
          },
          "metadata": {},
          "execution_count": 61
        }
      ]
    },
    {
      "cell_type": "code",
      "source": [
        "for color in color_dataset:\n",
        "  img_tensor = torch.tensor(np.array(color_dataset[color].to('cpu').numpy()), dtype=torch.float32).reshape(1, -1).to(device)\n",
        "  logits = model(img_tensor)\n",
        "  print(color, np.argmax(logits.detach().cpu().numpy()))\n"
      ],
      "metadata": {
        "colab": {
          "base_uri": "https://localhost:8080/"
        },
        "id": "pN-yjeN5JR3m",
        "outputId": "441f56e5-a020-4ffe-e869-1eadb78584c6"
      },
      "execution_count": null,
      "outputs": [
        {
          "output_type": "stream",
          "name": "stdout",
          "text": [
            "red 0\n",
            "green 1\n",
            "blue 2\n",
            "yellow 3\n",
            "cyan 4\n",
            "magenta 5\n",
            "black 6\n",
            "white 7\n",
            "gray 7\n",
            "orange 9\n"
          ]
        }
      ]
    },
    {
      "cell_type": "code",
      "source": [
        "!wget https://cdn.sanity.io/images/599r6htc/regionalized/a26fe0cf37bcc164980bcf8014817652df9683a7-1440x810.png -O green.png"
      ],
      "metadata": {
        "colab": {
          "base_uri": "https://localhost:8080/"
        },
        "id": "fKOhal6ZLHTB",
        "outputId": "71251de2-2005-47f4-899c-d1a2c7050b2b"
      },
      "execution_count": null,
      "outputs": [
        {
          "output_type": "stream",
          "name": "stdout",
          "text": [
            "--2025-05-08 09:14:16--  https://cdn.sanity.io/images/599r6htc/regionalized/a26fe0cf37bcc164980bcf8014817652df9683a7-1440x810.png\n",
            "Resolving cdn.sanity.io (cdn.sanity.io)... 34.149.250.58\n",
            "Connecting to cdn.sanity.io (cdn.sanity.io)|34.149.250.58|:443... connected.\n",
            "HTTP request sent, awaiting response... 200 OK\n",
            "Length: 13126 (13K) [image/png]\n",
            "Saving to: ‘green.png’\n",
            "\n",
            "\rgreen.png             0%[                    ]       0  --.-KB/s               \rgreen.png           100%[===================>]  12.82K  --.-KB/s    in 0s      \n",
            "\n",
            "2025-05-08 09:14:16 (91.6 MB/s) - ‘green.png’ saved [13126/13126]\n",
            "\n"
          ]
        }
      ]
    },
    {
      "cell_type": "code",
      "source": [
        "from PIL import Image\n",
        "import matplotlib.pyplot as plt\n",
        "\n",
        "# Load the image\n",
        "try:\n",
        "  img = Image.open('green.png')\n",
        "except FileNotFoundError:\n",
        "  print(\"Error: 'green.png' not found. Please ensure the file exists.\")\n",
        "  exit()\n",
        "\n",
        "# Resize the image\n",
        "img = img.resize((64, 64))\n",
        "\n",
        "# Ensure the image has 3 channels (RGB)\n",
        "if img.mode != 'RGB':\n",
        "    img = img.convert('RGB')\n",
        "\n",
        "# Display the image\n",
        "plt.imshow(img)\n",
        "plt.axis('off')  # Hide axes\n",
        "plt.show()\n"
      ],
      "metadata": {
        "colab": {
          "base_uri": "https://localhost:8080/",
          "height": 406
        },
        "id": "4oIT-RurJ0pY",
        "outputId": "341ef1f9-a512-446e-cd14-be92880d0b5b"
      },
      "execution_count": null,
      "outputs": [
        {
          "output_type": "display_data",
          "data": {
            "text/plain": [
              "<Figure size 640x480 with 1 Axes>"
            ],
            "image/png": "[encoded data removed]"
          },
          "metadata": {}
        }
      ]
    },
    {
      "cell_type": "code",
      "source": [
        "img_tensor = torch.tensor(np.array(img), dtype=torch.float32).reshape(1, -1).to(device)\n",
        "logits = model(img_tensor).to(device)\n",
        "np.argmax(logits.detach().cpu().numpy())\n",
        "logits_np = logits.detach().cpu().numpy()"
      ],
      "metadata": {
        "id": "kkpn-oF1KrQK"
      },
      "execution_count": null,
      "outputs": []
    },
    {
      "cell_type": "code",
      "source": [
        "# Plot the logits (example: bar plot)\n",
        "plt.bar(np.arange(logits_np.shape[1]), logits_np[0])\n",
        "plt.xticks(np.arange(logits_np.shape[1]), color_dataset.keys(), rotation=90)  # Set x-axis labels\n",
        "plt.title(\"Logits for the Image\")\n",
        "plt.xlabel(\"Color Class\")\n",
        "plt.ylabel(\"Logit Value\")\n",
        "plt.show()"
      ],
      "metadata": {
        "colab": {
          "base_uri": "https://localhost:8080/",
          "height": 520
        },
        "id": "TS2eLXlWKtcq",
        "outputId": "f259a909-983b-4a77-e6b8-60ec9be3865d"
      },
      "execution_count": null,
      "outputs": [
        {
          "output_type": "display_data",
          "data": {
            "text/plain": [
              "<Figure size 640x480 with 1 Axes>"
            ],
            "image/png": "[encoded data removed]"
          },
          "metadata": {}
        }
      ]
    },
    {
      "cell_type": "code",
      "source": [
        "logits"
      ],
      "metadata": {
        "colab": {
          "base_uri": "https://localhost:8080/"
        },
        "id": "d3IfJvU2Lc_3",
        "outputId": "c253f569-dcb2-469d-aac6-d7838169a25b"
      },
      "execution_count": null,
      "outputs": [
        {
          "output_type": "execute_result",
          "data": {
            "text/plain": [
              "tensor([[-17837.8965,   6880.1226, -20215.4375,    798.4867,    427.7125,\n",
              "          -3652.9905,  -4367.3511,   1395.6509,    879.7606,  -2536.6113]],\n",
              "       device='cuda:0', grad_fn=<AddmmBackward0>)"
            ]
          },
          "metadata": {},
          "execution_count": 80
        }
      ]
    },
    {
      "cell_type": "code",
      "source": [
        "import torch\n",
        "W1 = torch.tensor([4.0], requires_grad=True)\n",
        "X1 = torch.tensor([5.0], requires_grad=True)\n",
        "Y = torch.tensor([6.0], requires_grad=True)\n",
        "\n",
        "L = torch.abs(W1 * X1 - Y)\n",
        "print (f'l = {L.item()}, requires_grad = {L.requires_grad}')\n",
        "L.backward()\n",
        "print(W1.grad)\n",
        "L = torch.abs(W1 * X1 - Y)\n",
        "print (f'l = {L.item()}, requires_grad = {L.requires_grad}')\n",
        "L.backward()\n",
        "print(W1.grad)"
      ],
      "metadata": {
        "colab": {
          "base_uri": "https://localhost:8080/"
        },
        "id": "S_bMuZC7Loy4",
        "outputId": "5c04ba3d-aab6-4035-f85b-b6b79bde0de5"
      },
      "execution_count": null,
      "outputs": [
        {
          "output_type": "stream",
          "name": "stdout",
          "text": [
            "l = 14.0, requires_grad = True\n",
            "tensor([5.])\n",
            "l = 14.0, requires_grad = True\n",
            "tensor([10.])\n"
          ]
        }
      ]
    },
    {
      "cell_type": "code",
      "source": [],
      "metadata": {
        "id": "t8OubOsaUghB"
      },
      "execution_count": null,
      "outputs": []
    }
  ]
}