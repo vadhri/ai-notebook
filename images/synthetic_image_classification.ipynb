{
  "nbformat": 4,
  "nbformat_minor": 0,
  "metadata": {
    "colab": {
      "provenance": [],
      "gpuType": "T4",
      "authorship_tag": "ABX9TyNMkfOBbyWfXcHsnJaH53wt",
      "include_colab_link": true
    },
    "kernelspec": {
      "name": "python3",
      "display_name": "Python 3"
    },
    "language_info": {
      "name": "python"
    },
    "accelerator": "GPU"
  },
  "cells": [
    {
      "cell_type": "markdown",
      "metadata": {
        "id": "view-in-github",
        "colab_type": "text"
      },
      "source": [
        "<a href=\"https://colab.research.google.com/github/vadhri/ai-notebook/blob/main/images/synthetic_image_classification.ipynb\" target=\"_parent\"><img src=\"https://colab.research.google.com/assets/colab-badge.svg\" alt=\"Open In Colab\"/></a>"
      ]
    },
    {
      "cell_type": "markdown",
      "source": [
        "This notebook is for classification problems with expectation of probabilities as outcome of the predcition.\n",
        "- The Y labels are one-hot encoded.\n",
        "- The loss function is CrossEntropyLoss which will have a log function ( bad prediction has high loss )"
      ],
      "metadata": {
        "id": "z4JeQQW4Izmy"
      }
    },
    {
      "cell_type": "code",
      "source": [
        "import numpy as np\n",
        "from PIL import Image, ImageDraw\n",
        "\n",
        "def draw_shape(shape, size=20):\n",
        "    img = Image.new(\"L\", (size, size), 0)\n",
        "    draw = ImageDraw.Draw(img)\n",
        "\n",
        "    if shape == \"circle\":\n",
        "        draw.ellipse([4, 4, size - 4, size - 4], fill=255)\n",
        "\n",
        "    elif shape == \"triangle\":\n",
        "        triangle = [(size // 2, 2), (2, size - 2), (size - 2, size - 2)]\n",
        "        draw.polygon(triangle, fill=255)\n",
        "\n",
        "    elif shape == \"square\":\n",
        "        draw.rectangle([4, 4, size - 4, size - 4], fill=255)\n",
        "\n",
        "    elif shape == \"star\":\n",
        "        # 5-point star, hand-coded relative to 20x20\n",
        "        star = [\n",
        "            (10, 2), (12, 7), (18, 7),\n",
        "            (13.5, 11.5), (15.5, 18),\n",
        "            (10, 14.5), (4.5, 18),\n",
        "            (6.5, 11.5), (2, 7),\n",
        "            (8, 7)\n",
        "        ]\n",
        "        draw.polygon(star, fill=255)\n",
        "\n",
        "    # flatten the array to be ready for the NN inputs.\n",
        "    return np.array(img).flatten()\n",
        "\n",
        "# Shape types and labels\n",
        "shapes = [(\"circle\", 0), (\"triangle\", 1), (\"square\", 2), (\"star\", 3)]\n",
        "\n",
        "# Generate data\n",
        "X = []\n",
        "Y = []\n",
        "\n",
        "for shape, label in shapes:\n",
        "    for _ in range(100):\n",
        "        X.append(draw_shape(shape))\n",
        "        Y.append(label)\n",
        "\n",
        "X = np.array(X)\n",
        "\n",
        "# One-hot encoding for labels\n",
        "num_classes = 4\n",
        "\n",
        "# Converts labels into one-hot encoding\n",
        "Y_onehot = np.eye(num_classes)[Y]\n",
        "\n",
        "print(\"X shape:\", X.shape)  # (400, 400)\n",
        "print(\"Y shape:\", Y_onehot.shape)  # (400, 4), one-hot encoded labels\n"
      ],
      "metadata": {
        "colab": {
          "base_uri": "https://localhost:8080/"
        },
        "id": "L-TLm8TI0Y-d",
        "outputId": "11362989-e2eb-4f56-fc63-dfe51867475e"
      },
      "execution_count": 13,
      "outputs": [
        {
          "output_type": "stream",
          "name": "stdout",
          "text": [
            "X shape: (400, 400)\n",
            "Y shape: (400, 4)\n"
          ]
        }
      ]
    },
    {
      "cell_type": "markdown",
      "source": [
        "Display the shapes."
      ],
      "metadata": {
        "id": "UK_vA28JKgYw"
      }
    },
    {
      "cell_type": "code",
      "source": [
        "import matplotlib.pyplot as plt\n",
        "\n",
        "# Display four sample images (one per class)\n",
        "plt.figure(figsize=(12, 3))\n",
        "\n",
        "# Sample circle\n",
        "plt.subplot(1, 4, 1)\n",
        "plt.imshow(X[0].reshape(20, 20), cmap='gray')\n",
        "plt.title(f\"Label: {Y[0]} (Circle)\")\n",
        "plt.axis('off')\n",
        "\n",
        "# Sample triangle\n",
        "plt.subplot(1, 4, 2)\n",
        "plt.imshow(X[100].reshape(20, 20), cmap='gray')\n",
        "plt.title(f\"Label: {Y[100]} (Triangle)\")\n",
        "plt.axis('off')\n",
        "\n",
        "# Sample square\n",
        "plt.subplot(1, 4, 3)\n",
        "plt.imshow(X[200].reshape(20, 20), cmap='gray')\n",
        "plt.title(f\"Label: {Y[200]} (Square)\")\n",
        "plt.axis('off')\n",
        "\n",
        "# Sample star\n",
        "plt.subplot(1, 4, 4)\n",
        "plt.imshow(X[300].reshape(20, 20), cmap='gray')\n",
        "plt.title(f\"Label: {Y[300]} (Star)\")\n",
        "plt.axis('off')\n",
        "\n",
        "plt.tight_layout()\n",
        "plt.show()\n"
      ],
      "metadata": {
        "colab": {
          "base_uri": "https://localhost:8080/",
          "height": 214
        },
        "id": "5kjGymQt0ZVz",
        "outputId": "142d8f4f-130e-426d-d18e-1bc94f4650f1"
      },
      "execution_count": 14,
      "outputs": [
        {
          "output_type": "display_data",
          "data": {
            "text/plain": [
              "<Figure size 1200x300 with 4 Axes>"
            ],
            "image/png": "[encoded data removed]"
          },
          "metadata": {}
        }
      ]
    },
    {
      "cell_type": "markdown",
      "source": [
        "Neural network with the following layers.\n",
        "- A fully connected layer\n",
        "- Activation ReLU\n",
        "- A fully connected layer with output size"
      ],
      "metadata": {
        "id": "g4rXCNxkKjCt"
      }
    },
    {
      "cell_type": "code",
      "source": [
        "import torch\n",
        "import torch.nn as nn\n",
        "import torch.optim as optim\n",
        "from torch.utils.data import DataLoader, TensorDataset\n",
        "\n",
        "# Define the neural network\n",
        "class FeedforwardNN(nn.Module):\n",
        "    def __init__(self, input_size, hidden_size, output_size):\n",
        "        super(FeedforwardNN, self).__init__()\n",
        "        self.fc1 = nn.Linear(input_size, hidden_size)\n",
        "        self.relu = nn.ReLU()\n",
        "        self.fc2 = nn.Linear(hidden_size, output_size)\n",
        "\n",
        "    def forward(self, x):\n",
        "        out = self.fc1(x)\n",
        "        out = self.relu(out)\n",
        "        out = self.fc2(out)  # output raw logits\n",
        "        return out\n",
        "\n",
        "# Convert data to PyTorch tensors\n",
        "X_tensor = torch.tensor(X, dtype=torch.float32)\n",
        "Y_tensor = torch.tensor(Y, dtype=torch.long)  # Use long for CrossEntropyLoss\n",
        "\n",
        "# Create a dataset and dataloader\n",
        "dataset = TensorDataset(X_tensor, Y_tensor)\n",
        "dataloader = DataLoader(dataset, batch_size=32, shuffle=True)\n",
        "\n",
        "# Initialize the model, loss function, and optimizer\n",
        "input_size = X.shape[1]\n",
        "hidden_size = 64\n",
        "output_size = 4\n",
        "\n",
        "model = FeedforwardNN(input_size, hidden_size, output_size)\n",
        "\n",
        "# For multi-class classification\n",
        "criterion = nn.CrossEntropyLoss()\n",
        "optimizer = optim.Adam(model.parameters(), lr=0.001)\n",
        "\n",
        "# Training loop\n",
        "num_epochs = 10\n",
        "for epoch in range(num_epochs):\n",
        "    for i, (inputs, labels) in enumerate(dataloader):\n",
        "        outputs = model(inputs)\n",
        "        # labels are now integers, not one-hot\n",
        "        loss = criterion(outputs, labels)\n",
        "        optimizer.zero_grad()\n",
        "        loss.backward()\n",
        "        optimizer.step()\n",
        "\n",
        "    if (epoch + 1) % 1 == 0:\n",
        "        print(f\"Epoch [{epoch+1}/{num_epochs}], Loss: {loss.item():.4f}\")\n",
        "\n",
        "print(\"Training finished.\")\n"
      ],
      "metadata": {
        "colab": {
          "base_uri": "https://localhost:8080/"
        },
        "id": "BVPSnspi20hk",
        "outputId": "e26f71de-c12a-4e7f-fd83-7140fd672764"
      },
      "execution_count": 15,
      "outputs": [
        {
          "output_type": "stream",
          "name": "stdout",
          "text": [
            "Epoch [1/10], Loss: 0.0000\n",
            "Epoch [2/10], Loss: 0.0000\n",
            "Epoch [3/10], Loss: 0.0000\n",
            "Epoch [4/10], Loss: 0.0000\n",
            "Epoch [5/10], Loss: 0.0000\n",
            "Epoch [6/10], Loss: 0.0000\n",
            "Epoch [7/10], Loss: 0.0000\n",
            "Epoch [8/10], Loss: 0.0000\n",
            "Epoch [9/10], Loss: 0.0000\n",
            "Epoch [10/10], Loss: 0.0000\n",
            "Training finished.\n"
          ]
        }
      ]
    },
    {
      "cell_type": "code",
      "source": [
        "# Generate a sample for prediction\n",
        "sample_index = 15\n",
        "sample_image = X[sample_index]\n",
        "sample_label = Y[sample_index]\n",
        "\n",
        "# Convert the sample to a tensor\n",
        "sample_tensor = torch.tensor(sample_image, dtype=torch.float32).reshape(1,-1)\n",
        "\n",
        "# Make a prediction\n",
        "with torch.no_grad():\n",
        "    output = model(sample_tensor)\n",
        "\n",
        "# Get the predicted probability and class\n",
        "# Apply softmax to get probabilities\n",
        "predicted_probabilities = torch.softmax(output, dim=1)\n",
        "\n",
        "# Get the class with highest probability\n",
        "predicted_class = predicted_probabilities.argmax().item()\n",
        "\n",
        "# Display the results\n",
        "print(f\"Sample Index: {sample_index}\")\n",
        "print(f\"True Label: {sample_label}\")\n",
        "print(f\"Predicted Probabilities: {predicted_probabilities}\")\n",
        "print(f\"Predicted Class: {predicted_class}\")\n",
        "\n",
        "# Display the sample image\n",
        "plt.imshow(sample_image.reshape(20, 20), cmap=\"gray\")\n",
        "plt.title(f\"True Label: {sample_label}, Predicted: {predicted_class}\")\n",
        "plt.show()\n",
        "\n",
        "\n",
        "# Get the logits before the sigmoid activation\n",
        "with torch.no_grad():\n",
        "    logits = model.fc2(model.relu(model.fc1(sample_tensor)))\n",
        "    print(\"Logits:\", logits)\n"
      ],
      "metadata": {
        "colab": {
          "base_uri": "https://localhost:8080/",
          "height": 539
        },
        "id": "KRPlV4P8207R",
        "outputId": "42d6b0a5-03f6-4ba2-bc88-f5ce438a5c61"
      },
      "execution_count": 16,
      "outputs": [
        {
          "output_type": "stream",
          "name": "stdout",
          "text": [
            "Sample Index: 15\n",
            "True Label: 0\n",
            "Predicted Probabilities: tensor([[1.0000e+00, 2.3682e-43, 9.7848e-40, 1.6594e-35]])\n",
            "Predicted Class: 0\n"
          ]
        },
        {
          "output_type": "display_data",
          "data": {
            "text/plain": [
              "<Figure size 640x480 with 1 Axes>"
            ],
            "image/png": "[encoded data removed]"
          },
          "metadata": {}
        },
        {
          "output_type": "stream",
          "name": "stdout",
          "text": [
            "Logits: tensor([[92.8109, -5.3407,  2.9883, 12.7269]])\n"
          ]
        }
      ]
    }
  ]
}