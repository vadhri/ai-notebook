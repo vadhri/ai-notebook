{
  "nbformat": 4,
  "nbformat_minor": 0,
  "metadata": {
    "colab": {
      "provenance": [],
      "authorship_tag": "ABX9TyPK0WhONBeRgWc0AkNQeWpu",
      "include_colab_link": true
    },
    "kernelspec": {
      "name": "python3",
      "display_name": "Python 3"
    },
    "language_info": {
      "name": "python"
    }
  },
  "cells": [
    {
      "cell_type": "markdown",
      "metadata": {
        "id": "view-in-github",
        "colab_type": "text"
      },
      "source": [
        "<a href=\"https://colab.research.google.com/github/vadhri/ai-notebook/blob/main/images/skip_connections.ipynb\" target=\"_parent\"><img src=\"https://colab.research.google.com/assets/colab-badge.svg\" alt=\"Open In Colab\"/></a>"
      ]
    },
    {
      "cell_type": "markdown",
      "source": [
        "The following logic will turn 0 at a certain iter due to vanishing gadients problem."
      ],
      "metadata": {
        "id": "ShM4A1tG9V75"
      }
    },
    {
      "cell_type": "code",
      "execution_count": 19,
      "metadata": {
        "colab": {
          "base_uri": "https://localhost:8080/"
        },
        "id": "nN4y4rnKOkSY",
        "outputId": "937c0152-1631-4844-e79b-76eb10ca5164"
      },
      "outputs": [
        {
          "output_type": "stream",
          "name": "stdout",
          "text": [
            "All value are zero at iter =  362\n"
          ]
        }
      ],
      "source": [
        "import numpy as np\n",
        "from scipy.signal import convolve2d\n",
        "\n",
        "image = np.ones((8,8), dtype=np.float32)\n",
        "kernel = np.array([[0.05, 0.10, 0.05],\n",
        "                   [0.10, 0.20, 0.10],\n",
        "                   [0.05, 0.10, 0.05]], dtype=np.float32)\n",
        "\n",
        "for i in range(1000):\n",
        "  image = convolve2d(image, kernel, mode='same', boundary='fill', fillvalue=0)\n",
        "\n",
        "  if (image > 0).sum() == 0:\n",
        "    print ('All value are zero at iter = ', i)\n",
        "    break"
      ]
    },
    {
      "cell_type": "markdown",
      "source": [
        "To solve this issue we could use skip connection and add in numerical stability ( softmax ) using resnet method."
      ],
      "metadata": {
        "id": "vqgNX9U0-6pS"
      }
    },
    {
      "cell_type": "code",
      "source": [
        "import numpy as np\n",
        "from scipy.signal import convolve2d\n",
        "\n",
        "def softmax2d(x):\n",
        "    e_x = np.exp(x - np.max(x))\n",
        "    return e_x / np.sum(e_x)\n",
        "\n",
        "\n",
        "image = np.ones((8,8), dtype=np.float32)\n",
        "kernel = np.array([[0.05, 0.10, 0.05],\n",
        "                   [0.10, 0.20, 0.10],\n",
        "                   [0.05, 0.10, 0.05]], dtype=np.float32)\n",
        "\n",
        "for i in range(1000):\n",
        "  residual = image.copy()\n",
        "  image = convolve2d(image, kernel, mode='same', boundary='fill', fillvalue=0)\n",
        "  image = softmax2d(residual + image)\n",
        "\n",
        "  if (image > 0).sum() == 0:\n",
        "    print ('All value are zero at iter = ', i)\n",
        "    break\n",
        "\n",
        "print ('Iterations complete. \\noutput = ')\n",
        "image"
      ],
      "metadata": {
        "colab": {
          "base_uri": "https://localhost:8080/"
        },
        "id": "FBttWsAS988w",
        "outputId": "308a9001-5d50-40a9-bd86-6a0d873249df"
      },
      "execution_count": 23,
      "outputs": [
        {
          "output_type": "stream",
          "name": "stdout",
          "text": [
            "Iterations complete. \n",
            "output = \n"
          ]
        },
        {
          "output_type": "execute_result",
          "data": {
            "text/plain": [
              "array([[0.01556201, 0.01559918, 0.01559928, 0.01559928, 0.01559928,\n",
              "        0.01559928, 0.01559918, 0.01556201],\n",
              "       [0.01559918, 0.01564896, 0.01564911, 0.01564912, 0.01564912,\n",
              "        0.01564911, 0.01564896, 0.01559918],\n",
              "       [0.01559928, 0.01564911, 0.01564927, 0.01564928, 0.01564928,\n",
              "        0.01564927, 0.01564911, 0.01559928],\n",
              "       [0.01559928, 0.01564912, 0.01564928, 0.01564928, 0.01564928,\n",
              "        0.01564928, 0.01564912, 0.01559928],\n",
              "       [0.01559928, 0.01564912, 0.01564928, 0.01564928, 0.01564928,\n",
              "        0.01564928, 0.01564911, 0.01559928],\n",
              "       [0.01559928, 0.01564911, 0.01564927, 0.01564928, 0.01564928,\n",
              "        0.01564927, 0.01564911, 0.01559928],\n",
              "       [0.01559918, 0.01564896, 0.01564911, 0.01564911, 0.01564911,\n",
              "        0.01564911, 0.01564896, 0.01559918],\n",
              "       [0.01556201, 0.01559918, 0.01559928, 0.01559928, 0.01559928,\n",
              "        0.01559928, 0.01559918, 0.01556201]], dtype=float32)"
            ]
          },
          "metadata": {},
          "execution_count": 23
        }
      ]
    },
    {
      "cell_type": "markdown",
      "source": [
        "A densenet arch will allow the concatenation of all outputs so far in the stack with adding numerical stability for example, softmax. This is also a variant of skip connections."
      ],
      "metadata": {
        "id": "1ty2zMaXALMR"
      }
    },
    {
      "cell_type": "code",
      "source": [
        "import numpy as np\n",
        "from scipy.signal import convolve2d\n",
        "\n",
        "image = np.ones((8, 8), dtype=np.float32)\n",
        "kernel = np.array([[0.05, 0.10, 0.05],\n",
        "                   [0.10, 0.20, 0.10],\n",
        "                   [0.05, 0.10, 0.05]], dtype=np.float32)\n",
        "\n",
        "features = [image]\n",
        "\n",
        "for i in range(1000):\n",
        "    concatenated = np.stack(features, axis=0).sum(axis=0)\n",
        "    out = convolve2d(concatenated, kernel, mode='same', boundary='fill', fillvalue=0)\n",
        "\n",
        "    out = softmax2d(out)\n",
        "    features.append(out)\n",
        "\n",
        "    # Optional: stop if things explode\n",
        "    if np.isinf(out).any() or np.isnan(out).any():\n",
        "        print(f\"Numerical instability at iteration {i}\")\n",
        "        break\n",
        "\n",
        "print ('Iterations complete. \\nOutput =', out)"
      ],
      "metadata": {
        "colab": {
          "base_uri": "https://localhost:8080/"
        },
        "id": "a3AP8b1v-BkQ",
        "outputId": "bfc5e6b5-5e38-429a-f388-e5c907c2612b"
      },
      "execution_count": 33,
      "outputs": [
        {
          "output_type": "stream",
          "name": "stdout",
          "text": [
            "Iterations complete. \n",
            "Output = [[0.0000000e+00 0.0000000e+00 0.0000000e+00 0.0000000e+00 0.0000000e+00\n",
            "  0.0000000e+00 0.0000000e+00 0.0000000e+00]\n",
            " [0.0000000e+00 0.0000000e+00 0.0000000e+00 0.0000000e+00 0.0000000e+00\n",
            "  0.0000000e+00 0.0000000e+00 0.0000000e+00]\n",
            " [0.0000000e+00 0.0000000e+00 1.4251205e-42 9.2476806e-30 1.4026722e-37\n",
            "  0.0000000e+00 0.0000000e+00 0.0000000e+00]\n",
            " [0.0000000e+00 0.0000000e+00 4.6814219e-30 1.0000000e+00 1.9949366e-16\n",
            "  1.4012985e-45 0.0000000e+00 0.0000000e+00]\n",
            " [0.0000000e+00 0.0000000e+00 3.5945632e-38 2.5879985e-17 2.9516086e-25\n",
            "  0.0000000e+00 0.0000000e+00 0.0000000e+00]\n",
            " [0.0000000e+00 0.0000000e+00 0.0000000e+00 0.0000000e+00 0.0000000e+00\n",
            "  0.0000000e+00 0.0000000e+00 0.0000000e+00]\n",
            " [0.0000000e+00 0.0000000e+00 0.0000000e+00 0.0000000e+00 0.0000000e+00\n",
            "  0.0000000e+00 0.0000000e+00 0.0000000e+00]\n",
            " [0.0000000e+00 0.0000000e+00 0.0000000e+00 0.0000000e+00 0.0000000e+00\n",
            "  0.0000000e+00 0.0000000e+00 0.0000000e+00]]\n"
          ]
        }
      ]
    },
    {
      "cell_type": "code",
      "source": [],
      "metadata": {
        "id": "-Xy9g3gBAg8T"
      },
      "execution_count": null,
      "outputs": []
    }
  ]
}