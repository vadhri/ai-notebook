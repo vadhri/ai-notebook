{
  "nbformat": 4,
  "nbformat_minor": 0,
  "metadata": {
    "colab": {
      "provenance": [],
      "authorship_tag": "ABX9TyMhYwSzKdhMghoEgjcZQJ4o",
      "include_colab_link": true
    },
    "kernelspec": {
      "name": "python3",
      "display_name": "Python 3"
    },
    "language_info": {
      "name": "python"
    }
  },
  "cells": [
    {
      "cell_type": "markdown",
      "metadata": {
        "id": "view-in-github",
        "colab_type": "text"
      },
      "source": [
        "<a href=\"https://colab.research.google.com/github/vadhri/ai-notebook/blob/main/images/data_augmentation.ipynb\" target=\"_parent\"><img src=\"https://colab.research.google.com/assets/colab-badge.svg\" alt=\"Open In Colab\"/></a>"
      ]
    },
    {
      "cell_type": "markdown",
      "source": [
        "Data augmentation creates variations of training data to improve model generalization. These variations could be of the or combinations of tranfomations below.\n",
        "- Linear transformation\n",
        "  - Rotation\n",
        "  - Scaling\n",
        "  - Sheeer\n",
        "- Translate ( move along axis )\n",
        "\n",
        "In this notebook, we will start with the dataset of 3 pictures with one dot in each and a label of that metric. The image will start with 20x20 image data with different operations."
      ],
      "metadata": {
        "id": "HlYxEHQMETW-"
      }
    },
    {
      "cell_type": "code",
      "execution_count": 60,
      "metadata": {
        "colab": {
          "base_uri": "https://localhost:8080/",
          "height": 172
        },
        "id": "22SYH54hCR3W",
        "outputId": "06ddda91-2bd5-46ed-e351-98d508d62e89"
      },
      "outputs": [
        {
          "output_type": "display_data",
          "data": {
            "text/plain": [
              "<Figure size 400x300 with 3 Axes>"
            ],
            "image/png": "[encoded data removed]"
          },
          "metadata": {}
        }
      ],
      "source": [
        "import numpy as np\n",
        "from PIL import Image\n",
        "import matplotlib.pyplot as plt\n",
        "\n",
        "def create_image_with_lines(num_lines, img_size=(20, 20), line_length=1, spacing=3):\n",
        "    img_array = np.zeros(img_size, dtype=np.uint8)\n",
        "    center_y = img_size[0] // 2\n",
        "    center_x = img_size[1] // 2\n",
        "\n",
        "    total_height = num_lines + (num_lines - 1) * spacing\n",
        "    start_y = center_y - total_height // 2\n",
        "\n",
        "    for i in range(num_lines):\n",
        "        y = start_y + i * (1 + spacing)\n",
        "        if 0 <= y < img_size[0]:\n",
        "            for x in range(center_x - line_length // 2, center_x + (line_length + 1) // 2):\n",
        "                if 0 <= x < img_size[1]:\n",
        "                    img_array[y, x] = 255\n",
        "\n",
        "    return Image.fromarray(img_array)\n",
        "\n",
        "# Generate images for 1, 2, and 3 lines\n",
        "images = [create_image_with_lines(n) for n in [1, 2, 3]]\n",
        "\n",
        "# Plot them side by side\n",
        "plt.figure(figsize=(4, 3))\n",
        "titles = ['1 line', '2 lines', '3 lines']\n",
        "for i, img in enumerate(images):\n",
        "    plt.subplot(1, 3, i+1)\n",
        "    plt.imshow(img, cmap='gray')\n",
        "    plt.title(titles[i])\n",
        "    plt.axis('off')\n",
        "\n",
        "plt.tight_layout()\n",
        "plt.show()\n"
      ]
    },
    {
      "cell_type": "code",
      "source": [
        "import torchvision.transforms as transforms\n",
        "\n",
        "rotation_transform = transforms.RandomRotation(degrees=45)\n",
        "rotated_images = [rotation_transform(img) for img in images]\n",
        "\n",
        "plt.figure(figsize=(4, 3))\n",
        "titles = ['1 line rotated', '2 lines rotated', '3 lines rotated']\n",
        "for i, img in enumerate(rotated_images):\n",
        "    plt.subplot(1, 3, i+1)\n",
        "    plt.imshow(np.array(img), cmap='gray')\n",
        "    plt.title(titles[i])\n",
        "    plt.axis('off')\n",
        "\n",
        "plt.tight_layout()\n",
        "plt.show()\n"
      ],
      "metadata": {
        "colab": {
          "base_uri": "https://localhost:8080/",
          "height": 172
        },
        "id": "m-Tyu7p_DL3a",
        "outputId": "e4e61459-f763-405c-fcd4-e6ab78624dc8"
      },
      "execution_count": 61,
      "outputs": [
        {
          "output_type": "display_data",
          "data": {
            "text/plain": [
              "<Figure size 400x300 with 3 Axes>"
            ],
            "image/png": "[encoded data removed]"
          },
          "metadata": {}
        }
      ]
    },
    {
      "cell_type": "code",
      "source": [
        "import numpy as np\n",
        "from PIL import Image\n",
        "import matplotlib.pyplot as plt\n",
        "import torchvision.transforms.functional as F\n",
        "import random\n",
        "\n",
        "# Create augmented dataset\n",
        "dataset = []\n",
        "labels = []\n",
        "rotations = []\n",
        "\n",
        "crop_size = (20, 20)\n",
        "samples_per_image = 1000 // 3\n",
        "\n",
        "for i, img in enumerate(images):\n",
        "    for j in range(samples_per_image):\n",
        "        seed = i * samples_per_image + j\n",
        "        random.seed(seed)\n",
        "\n",
        "        angle = random.uniform(-30, 30)\n",
        "        translate = (\n",
        "            random.uniform(-0.1, 0.1) * img.size[0],\n",
        "            random.uniform(-0.1, 0.1) * img.size[1]\n",
        "        )\n",
        "        scale = random.uniform(0.9, 1.1)\n",
        "\n",
        "        augmented_img = F.affine(\n",
        "            img, angle=angle, translate=translate,\n",
        "            scale=scale, shear=0,\n",
        "            interpolation=Image.NEAREST, fill=0\n",
        "        )\n",
        "\n",
        "        augmented_img = F.resized_crop(\n",
        "            augmented_img, top=0, left=0,\n",
        "            height=img.size[1], width=img.size[0],\n",
        "            size=crop_size,\n",
        "            interpolation=Image.NEAREST\n",
        "        )\n",
        "\n",
        "        dataset.append(np.array(augmented_img))\n",
        "        labels.append(i + 1)\n",
        "        rotations.append(angle)\n",
        "\n",
        "# Display a few examples\n",
        "plt.figure(figsize=(10, 5))\n",
        "for i in range(6):\n",
        "    plt.subplot(2, 3, i+1)\n",
        "    plt.imshow(dataset[663+i], cmap='gray')\n",
        "    plt.title(f\"Label:{labels[i]}, θ={rotations[i]:.1f}°\")\n",
        "    plt.axis('off')\n",
        "plt.tight_layout()\n",
        "plt.show()"
      ],
      "metadata": {
        "colab": {
          "base_uri": "https://localhost:8080/",
          "height": 381
        },
        "id": "-pYKem25FGsS",
        "outputId": "b827d569-e3c9-4a79-d302-a2a6dd0e05b6"
      },
      "execution_count": 65,
      "outputs": [
        {
          "output_type": "display_data",
          "data": {
            "text/plain": [
              "<Figure size 1000x500 with 6 Axes>"
            ],
            "image/png": "[encoded data removed]"
          },
          "metadata": {}
        }
      ]
    },
    {
      "cell_type": "code",
      "source": [
        "import torch\n",
        "from torch.utils.data import Dataset\n",
        "\n",
        "class CustomDataset(Dataset):\n",
        "    def __init__(self, images, labels):\n",
        "        self.images = images\n",
        "        self.labels = labels\n",
        "\n",
        "    def __len__(self):\n",
        "        return len(self.images)\n",
        "\n",
        "    def __getitem__(self, idx):\n",
        "        image = self.images[idx]\n",
        "        label = self.labels[idx]\n",
        "        image = torch.tensor(image, dtype=torch.float32)\n",
        "        label = torch.tensor(label, dtype=torch.long)\n",
        "        return image, label\n",
        "\n",
        "custom_dataset = CustomDataset(dataset, labels)\n",
        "\n",
        "image, label = custom_dataset[0]\n",
        "print(f\"Image shape: {image.shape}\")\n",
        "print(f\"Label: {label}\")\n",
        "\n",
        "from torch.utils.data import DataLoader\n",
        "dataloader = DataLoader(custom_dataset, batch_size=32, shuffle=True)"
      ],
      "metadata": {
        "colab": {
          "base_uri": "https://localhost:8080/"
        },
        "id": "JgRLnkbMIIJV",
        "outputId": "37884b14-282a-41c6-a154-e1cbcfa4ecce"
      },
      "execution_count": 68,
      "outputs": [
        {
          "output_type": "stream",
          "name": "stdout",
          "text": [
            "Image shape: torch.Size([20, 20])\n",
            "Label: 1\n"
          ]
        }
      ]
    },
    {
      "cell_type": "code",
      "source": [
        "import torch\n",
        "import torch.nn as nn\n",
        "import torch.optim as optim\n",
        "\n",
        "# Define the neural network architecture\n",
        "class Net(nn.Module):\n",
        "    def __init__(self):\n",
        "        super(Net, self).__init__()\n",
        "        self.fc1 = nn.Linear(400, 300)\n",
        "        self.relu1 = nn.ReLU()\n",
        "        self.fc2 = nn.Linear(300, 200)\n",
        "        self.relu2 = nn.ReLU()\n",
        "        self.fc3 = nn.Linear(200, 128)\n",
        "        self.relu3 = nn.ReLU()\n",
        "        self.fc4 = nn.Linear(128, 64)\n",
        "        self.relu4 = nn.ReLU()\n",
        "        self.fc5 = nn.Linear(64, 3)\n",
        "        self.relu5 = nn.ReLU()\n",
        "\n",
        "    def forward(self, x):\n",
        "        x = x.view(-1, 400)\n",
        "        x = self.fc1(x)\n",
        "        x = self.relu1(x)\n",
        "        x = self.fc2(x)\n",
        "        x = self.relu2(x)\n",
        "        x = self.fc3(x)\n",
        "        x = self.relu3(x)\n",
        "        x = self.fc4(x)\n",
        "        x = self.relu4(x)\n",
        "        x = self.fc5(x)\n",
        "\n",
        "        return x\n",
        "\n",
        "net = Net()\n",
        "criterion = nn.CrossEntropyLoss()\n",
        "optimizer = optim.Adam(net.parameters(), lr=0.001)\n",
        "\n",
        "num_epochs = 1000\n",
        "for epoch in range(num_epochs):\n",
        "    for i, data in enumerate(dataloader, 0):\n",
        "        inputs, labels = data\n",
        "\n",
        "        optimizer.zero_grad()\n",
        "        outputs = net(inputs)\n",
        "        loss = criterion(outputs, labels - 1)\n",
        "        loss.backward()\n",
        "        optimizer.step()\n",
        "\n",
        "    if epoch % 100 == 0:\n",
        "        print(f\"Epoch: {epoch+1}, Batch: {i+1}, Loss: {loss.item():.4f}\")\n",
        "\n",
        "print(\"Training finished!\")"
      ],
      "metadata": {
        "colab": {
          "base_uri": "https://localhost:8080/"
        },
        "id": "rxsiSdiKIU_0",
        "outputId": "a3d340b1-82fa-4ec5-fa21-dcbcad867956"
      },
      "execution_count": 79,
      "outputs": [
        {
          "output_type": "stream",
          "name": "stdout",
          "text": [
            "Epoch: 1, Batch: 32, Loss: 0.8483\n",
            "Epoch: 101, Batch: 32, Loss: 0.3176\n",
            "Epoch: 201, Batch: 32, Loss: 0.0205\n",
            "Epoch: 301, Batch: 32, Loss: 0.0481\n",
            "Epoch: 401, Batch: 32, Loss: 0.0066\n",
            "Epoch: 501, Batch: 32, Loss: 0.0282\n",
            "Epoch: 601, Batch: 32, Loss: 0.4674\n",
            "Epoch: 701, Batch: 32, Loss: 0.1679\n",
            "Epoch: 801, Batch: 32, Loss: 0.0275\n",
            "Epoch: 901, Batch: 32, Loss: 0.2126\n",
            "Training finished!\n"
          ]
        }
      ]
    },
    {
      "cell_type": "code",
      "source": [
        "import torch\n",
        "from sklearn.metrics import confusion_matrix, accuracy_score\n",
        "import numpy as np\n",
        "\n",
        "net.eval()\n",
        "\n",
        "all_predictions = []\n",
        "all_labels = []\n",
        "\n",
        "with torch.no_grad():\n",
        "    for data in dataloader:\n",
        "        inputs, labels = data\n",
        "        outputs = net(inputs)\n",
        "        _, predicted = torch.max(outputs, 1)\n",
        "\n",
        "        all_predictions.extend(predicted.numpy())\n",
        "        all_labels.extend(labels.numpy() -1)\n",
        "\n",
        "# Calculate accuracy\n",
        "accuracy = accuracy_score(all_labels, all_predictions)\n",
        "print(f\"Accuracy of the network on the dataset: {100 * accuracy:.2f}%\")\n",
        "\n",
        "# Compute confusion matrix\n",
        "cm = confusion_matrix(all_labels, all_predictions)\n",
        "print(\"Confusion Matrix:\")\n",
        "cm\n"
      ],
      "metadata": {
        "colab": {
          "base_uri": "https://localhost:8080/"
        },
        "id": "2eZhBre5Sdo1",
        "outputId": "63b9051b-06a0-4d0a-809d-81f3a8c4b5b4"
      },
      "execution_count": 80,
      "outputs": [
        {
          "output_type": "stream",
          "name": "stdout",
          "text": [
            "Accuracy of the network on the dataset: 95.80%\n",
            "Confusion Matrix:\n"
          ]
        },
        {
          "output_type": "execute_result",
          "data": {
            "text/plain": [
              "array([[333,   0,   0],\n",
              "       [ 24, 309,   0],\n",
              "       [  2,  16, 315]])"
            ]
          },
          "metadata": {},
          "execution_count": 80
        }
      ]
    }
  ]
}